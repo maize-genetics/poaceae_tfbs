{
 "cells": [
  {
   "cell_type": "code",
   "execution_count": 182,
   "id": "32b28e6c",
   "metadata": {},
   "outputs": [],
   "source": [
    "# R script for metadata wrangling\n",
    "# author: Sheng-Kai Hsu\n",
    "# date created: 2024.06.05\n",
    "# data last edited: 2024.08.19\n",
    "rm(list=ls())\n"
   ]
  },
  {
   "cell_type": "code",
   "execution_count": 183,
   "id": "ca586d15",
   "metadata": {},
   "outputs": [],
   "source": [
    "library(tidyverse)"
   ]
  },
  {
   "cell_type": "code",
   "execution_count": 1,
   "id": "3f5fd246",
   "metadata": {},
   "outputs": [],
   "source": [
    "manualDat = read.delim(\"/workdir/sh2246/p_phyloGWAS/output/metadata_processing/Poaceae_metadata_2024.05.21.tsv\",header = T)\n",
    "limsDat = read.delim(\"/workdir/sh2246/p_phyloGWAS/output/metadata_processing/fullQCData_20240819.txt\",header = T)"
   ]
  },
  {
   "cell_type": "code",
   "execution_count": 275,
   "id": "b678291c",
   "metadata": {},
   "outputs": [],
   "source": [
    "manualDat_panand = manualDat[manualDat$source==\"PanAnd\",]"
   ]
  },
  {
   "cell_type": "code",
   "execution_count": 276,
   "id": "def2ba16",
   "metadata": {},
   "outputs": [
    {
     "data": {
      "text/html": [
       "<table class=\"dataframe\">\n",
       "<caption>A data.frame: 6 × 11</caption>\n",
       "<thead>\n",
       "\t<tr><th></th><th scope=col>assemblyID</th><th scope=col>tracker_sample_name</th><th scope=col>correctSpecies</th><th scope=col>CorrectEcotype</th><th scope=col>Species</th><th scope=col>genotype_info</th><th scope=col>altName</th><th scope=col>lifeHistory</th><th scope=col>technology</th><th scope=col>source</th><th scope=col>notes</th></tr>\n",
       "\t<tr><th></th><th scope=col>&lt;chr&gt;</th><th scope=col>&lt;chr&gt;</th><th scope=col>&lt;chr&gt;</th><th scope=col>&lt;chr&gt;</th><th scope=col>&lt;chr&gt;</th><th scope=col>&lt;chr&gt;</th><th scope=col>&lt;chr&gt;</th><th scope=col>&lt;chr&gt;</th><th scope=col>&lt;chr&gt;</th><th scope=col>&lt;chr&gt;</th><th scope=col>&lt;chr&gt;</th></tr>\n",
       "</thead>\n",
       "<tbody>\n",
       "\t<tr><th scope=row>28</th><td>AN22TNTL030 </td><td>AN22TNTL030    </td><td>Anadelphia polychaeta  </td><td>Haba 1195         </td><td>Anadelphia polychaeta  </td><td>NA                </td><td>NA</td><td>annual   </td><td>Illumina</td><td>PanAnd</td><td></td></tr>\n",
       "\t<tr><th scope=row>29</th><td>AN21TNTL0087</td><td>AN21TNTL0087   </td><td>Anadelphia scyphofera  </td><td>Bidgood et al 5500</td><td>Anadelphia scyphofera  </td><td>Bidgood et al 5500</td><td>NA</td><td>annual   </td><td>Illumina</td><td>PanAnd</td><td></td></tr>\n",
       "\t<tr><th scope=row>30</th><td>MCRTL031    </td><td>AT20TN1MCRTL031</td><td>Anadelphia scyphofera  </td><td>Pasquet 1237      </td><td>Anadelphia scyphofera  </td><td>Pasquet 1237      </td><td>NA</td><td>annual   </td><td>Illumina</td><td>PanAnd</td><td></td></tr>\n",
       "\t<tr><th scope=row>31</th><td>AN21TSTL0285</td><td>AN21TSTL0285   </td><td>Anadelphia trepidaria  </td><td>J.G. Adam 31646   </td><td>Anadelphia trepidaria  </td><td>J.G. Adam 31646   </td><td>NA</td><td>annual   </td><td>Illumina</td><td>PanAnd</td><td></td></tr>\n",
       "\t<tr><th scope=row>32</th><td>AN22TNTL149 </td><td>AN22TNTL149    </td><td>Anadelphia trispiculata</td><td>J.K. Morton SL1422</td><td>Anadelphia trispiculata</td><td>NA                </td><td>NA</td><td>perennial</td><td>Illumina</td><td>PanAnd</td><td></td></tr>\n",
       "\t<tr><th scope=row>33</th><td>AN20T168    </td><td>AN20TSCR000168 </td><td>Andropogon amethystinus</td><td>MSV 1622          </td><td>Andropogon amethystinus</td><td>MSV 1622          </td><td>NA</td><td>perennial</td><td>Illumina</td><td>PanAnd</td><td></td></tr>\n",
       "</tbody>\n",
       "</table>\n"
      ],
      "text/latex": [
       "A data.frame: 6 × 11\n",
       "\\begin{tabular}{r|lllllllllll}\n",
       "  & assemblyID & tracker\\_sample\\_name & correctSpecies & CorrectEcotype & Species & genotype\\_info & altName & lifeHistory & technology & source & notes\\\\\n",
       "  & <chr> & <chr> & <chr> & <chr> & <chr> & <chr> & <chr> & <chr> & <chr> & <chr> & <chr>\\\\\n",
       "\\hline\n",
       "\t28 & AN22TNTL030  & AN22TNTL030     & Anadelphia polychaeta   & Haba 1195          & Anadelphia polychaeta   & NA                 & NA & annual    & Illumina & PanAnd & \\\\\n",
       "\t29 & AN21TNTL0087 & AN21TNTL0087    & Anadelphia scyphofera   & Bidgood et al 5500 & Anadelphia scyphofera   & Bidgood et al 5500 & NA & annual    & Illumina & PanAnd & \\\\\n",
       "\t30 & MCRTL031     & AT20TN1MCRTL031 & Anadelphia scyphofera   & Pasquet 1237       & Anadelphia scyphofera   & Pasquet 1237       & NA & annual    & Illumina & PanAnd & \\\\\n",
       "\t31 & AN21TSTL0285 & AN21TSTL0285    & Anadelphia trepidaria   & J.G. Adam 31646    & Anadelphia trepidaria   & J.G. Adam 31646    & NA & annual    & Illumina & PanAnd & \\\\\n",
       "\t32 & AN22TNTL149  & AN22TNTL149     & Anadelphia trispiculata & J.K. Morton SL1422 & Anadelphia trispiculata & NA                 & NA & perennial & Illumina & PanAnd & \\\\\n",
       "\t33 & AN20T168     & AN20TSCR000168  & Andropogon amethystinus & MSV 1622           & Andropogon amethystinus & MSV 1622           & NA & perennial & Illumina & PanAnd & \\\\\n",
       "\\end{tabular}\n"
      ],
      "text/markdown": [
       "\n",
       "A data.frame: 6 × 11\n",
       "\n",
       "| <!--/--> | assemblyID &lt;chr&gt; | tracker_sample_name &lt;chr&gt; | correctSpecies &lt;chr&gt; | CorrectEcotype &lt;chr&gt; | Species &lt;chr&gt; | genotype_info &lt;chr&gt; | altName &lt;chr&gt; | lifeHistory &lt;chr&gt; | technology &lt;chr&gt; | source &lt;chr&gt; | notes &lt;chr&gt; |\n",
       "|---|---|---|---|---|---|---|---|---|---|---|---|\n",
       "| 28 | AN22TNTL030  | AN22TNTL030     | Anadelphia polychaeta   | Haba 1195          | Anadelphia polychaeta   | NA                 | NA | annual    | Illumina | PanAnd | <!----> |\n",
       "| 29 | AN21TNTL0087 | AN21TNTL0087    | Anadelphia scyphofera   | Bidgood et al 5500 | Anadelphia scyphofera   | Bidgood et al 5500 | NA | annual    | Illumina | PanAnd | <!----> |\n",
       "| 30 | MCRTL031     | AT20TN1MCRTL031 | Anadelphia scyphofera   | Pasquet 1237       | Anadelphia scyphofera   | Pasquet 1237       | NA | annual    | Illumina | PanAnd | <!----> |\n",
       "| 31 | AN21TSTL0285 | AN21TSTL0285    | Anadelphia trepidaria   | J.G. Adam 31646    | Anadelphia trepidaria   | J.G. Adam 31646    | NA | annual    | Illumina | PanAnd | <!----> |\n",
       "| 32 | AN22TNTL149  | AN22TNTL149     | Anadelphia trispiculata | J.K. Morton SL1422 | Anadelphia trispiculata | NA                 | NA | perennial | Illumina | PanAnd | <!----> |\n",
       "| 33 | AN20T168     | AN20TSCR000168  | Andropogon amethystinus | MSV 1622           | Andropogon amethystinus | MSV 1622           | NA | perennial | Illumina | PanAnd | <!----> |\n",
       "\n"
      ],
      "text/plain": [
       "   assemblyID   tracker_sample_name correctSpecies          CorrectEcotype    \n",
       "28 AN22TNTL030  AN22TNTL030         Anadelphia polychaeta   Haba 1195         \n",
       "29 AN21TNTL0087 AN21TNTL0087        Anadelphia scyphofera   Bidgood et al 5500\n",
       "30 MCRTL031     AT20TN1MCRTL031     Anadelphia scyphofera   Pasquet 1237      \n",
       "31 AN21TSTL0285 AN21TSTL0285        Anadelphia trepidaria   J.G. Adam 31646   \n",
       "32 AN22TNTL149  AN22TNTL149         Anadelphia trispiculata J.K. Morton SL1422\n",
       "33 AN20T168     AN20TSCR000168      Andropogon amethystinus MSV 1622          \n",
       "   Species                 genotype_info      altName lifeHistory technology\n",
       "28 Anadelphia polychaeta   NA                 NA      annual      Illumina  \n",
       "29 Anadelphia scyphofera   Bidgood et al 5500 NA      annual      Illumina  \n",
       "30 Anadelphia scyphofera   Pasquet 1237       NA      annual      Illumina  \n",
       "31 Anadelphia trepidaria   J.G. Adam 31646    NA      annual      Illumina  \n",
       "32 Anadelphia trispiculata NA                 NA      perennial   Illumina  \n",
       "33 Andropogon amethystinus MSV 1622           NA      perennial   Illumina  \n",
       "   source notes\n",
       "28 PanAnd      \n",
       "29 PanAnd      \n",
       "30 PanAnd      \n",
       "31 PanAnd      \n",
       "32 PanAnd      \n",
       "33 PanAnd      "
      ]
     },
     "metadata": {},
     "output_type": "display_data"
    },
    {
     "data": {
      "text/html": [
       "<style>\n",
       ".list-inline {list-style: none; margin:0; padding: 0}\n",
       ".list-inline>li {display: inline-block}\n",
       ".list-inline>li:not(:last-child)::after {content: \"\\00b7\"; padding: 0 .5ex}\n",
       "</style>\n",
       "<ol class=list-inline><li>521</li><li>11</li></ol>\n"
      ],
      "text/latex": [
       "\\begin{enumerate*}\n",
       "\\item 521\n",
       "\\item 11\n",
       "\\end{enumerate*}\n"
      ],
      "text/markdown": [
       "1. 521\n",
       "2. 11\n",
       "\n",
       "\n"
      ],
      "text/plain": [
       "[1] 521  11"
      ]
     },
     "metadata": {},
     "output_type": "display_data"
    }
   ],
   "source": [
    "head(manualDat_panand)\n",
    "dim(manualDat_panand)"
   ]
  },
  {
   "cell_type": "code",
   "execution_count": 187,
   "id": "f562c871",
   "metadata": {},
   "outputs": [
    {
     "data": {
      "text/html": [
       "<table class=\"dataframe\">\n",
       "<caption>A data.frame: 6 × 22</caption>\n",
       "<thead>\n",
       "\t<tr><th></th><th scope=col>tracker_sample_name</th><th scope=col>tracker_organism</th><th scope=col>alternative_names</th><th scope=col>ecotype</th><th scope=col>run_id</th><th scope=col>file</th><th scope=col>total_reads</th><th scope=col>gb_num</th><th scope=col>frac_mapped</th><th scope=col>percent_dup</th><th scope=col>⋯</th><th scope=col>bacteria</th><th scope=col>homo_s</th><th scope=col>tribe_qc</th><th scope=col>genus_qc</th><th scope=col>species</th><th scope=col>matched_gene_and_read_counts</th><th scope=col>tabasco_complete</th><th scope=col>tabasco_duplicated</th><th scope=col>tabasco_fraged</th><th scope=col>tabasco_missing</th></tr>\n",
       "\t<tr><th></th><th scope=col>&lt;chr&gt;</th><th scope=col>&lt;chr&gt;</th><th scope=col>&lt;chr&gt;</th><th scope=col>&lt;chr&gt;</th><th scope=col>&lt;int&gt;</th><th scope=col>&lt;chr&gt;</th><th scope=col>&lt;int&gt;</th><th scope=col>&lt;dbl&gt;</th><th scope=col>&lt;dbl&gt;</th><th scope=col>&lt;dbl&gt;</th><th scope=col>⋯</th><th scope=col>&lt;dbl&gt;</th><th scope=col>&lt;dbl&gt;</th><th scope=col>&lt;chr&gt;</th><th scope=col>&lt;chr&gt;</th><th scope=col>&lt;chr&gt;</th><th scope=col>&lt;chr&gt;</th><th scope=col>&lt;int&gt;</th><th scope=col>&lt;int&gt;</th><th scope=col>&lt;int&gt;</th><th scope=col>&lt;int&gt;</th></tr>\n",
       "</thead>\n",
       "<tbody>\n",
       "\t<tr><th scope=row>1</th><td>AT20TS1MCRTL001</td><td>Rottboellia campestris</td><td>Coelorachis cylindrica (Mnesithea)</td><td>Kellogg 1258      </td><td>1</td><td>MCRTL001_CKDL200164854-1a-AK5140-AK242_HMGJWDSXY_L4 </td><td>272268296</td><td>40.8</td><td>0.366</td><td>0.000</td><td>⋯</td><td>0.45</td><td>1.42</td><td>Andropogoneae</td><td>Mnesithea;Eremochloa;Saccharum        </td><td>helferi;ophiuroides;arundinaceum;eriopoda             </td><td>NC_035036(253);NC_036716(236);NC_030777(214);NC_035023(214)               </td><td>5325</td><td> 107</td><td> 156</td><td>4</td></tr>\n",
       "\t<tr><th scope=row>2</th><td>AT20TS1MCRTL013</td><td>Hyperthelia dissoluta </td><td>                                  </td><td>Kellogg 1137      </td><td>1</td><td>MCRTL013_CKDL200164854-1a-AK5395-AK5927_HMGJWDSXY_L4</td><td>154100842</td><td>23.1</td><td>0.433</td><td>0.147</td><td>⋯</td><td>0.41</td><td>2.30</td><td>Andropogoneae</td><td>Hyparrhenia;Andropogon                </td><td>diplandra;variabilis;subplumosa;greenwayi;gayanus     </td><td>NC_035037(321);NC_040112(321);NC_030625(315);NC_040128(294);NC_040127(280)</td><td>3705</td><td> 662</td><td>1220</td><td>5</td></tr>\n",
       "\t<tr><th scope=row>3</th><td>AT20TS1MCRTL002</td><td>Tripsacum laxum       </td><td>                                  </td><td>Kellogg MIA 34792 </td><td>1</td><td>MCRTL002_CKDL200164854-1a-AK4939-AK6653_HMGJWDSXY_L4</td><td>206616665</td><td>31.0</td><td>0.212</td><td>0.160</td><td>⋯</td><td>0.21</td><td>0.94</td><td>Andropogoneae</td><td>Zea;Saccharum;Tripidium               </td><td>perennis;luxurians;diploperennis;arundinaceum;ravennae</td><td>NC_030300(370);NC_030301(357);NC_030377(357);NC_030777(353);NC_042735(345)</td><td>2497</td><td>1603</td><td>1492</td><td>0</td></tr>\n",
       "\t<tr><th scope=row>4</th><td>AT20TS1MCRTL014</td><td><span style=white-space:pre-wrap>Rottboellia rugosa    </span></td><td><span style=white-space:pre-wrap>Coelorachis rugosa                </span></td><td>Layton &amp; Zhong 162</td><td>1</td><td>MCRTL014_CKDL200164854-1a-AK4937-AK6664_HMGJWDSXY_L4</td><td>237500144</td><td>35.6</td><td>0.385</td><td>0.161</td><td>⋯</td><td>0.91</td><td>1.94</td><td>Andropogoneae</td><td><span style=white-space:pre-wrap>Mnesithea;Eremochloa;Saccharum        </span></td><td><span style=white-space:pre-wrap>helferi;ophiuroides;eriopoda;ciliaris;arundinaceum    </span></td><td>NC_035036(227);NC_036716(214);NC_035023(199);NC_035028(194);NC_030777(191)</td><td>4905</td><td><span style=white-space:pre-wrap>  96</span></td><td> 585</td><td>6</td></tr>\n",
       "\t<tr><th scope=row>5</th><td>AT20TS1MCRTL003</td><td>Euclasta condylotricha</td><td>                                  </td><td>Pasquet 1245      </td><td>1</td><td>MCRTL003_CKDL200164854-1a-AK5159-AK6654_HMGJWDSXY_L4</td><td>271608628</td><td>40.7</td><td>0.513</td><td>0.180</td><td>⋯</td><td>0.32</td><td>1.32</td><td>Andropogoneae</td><td>Bothriochloa;Dichanthium;Capillipedium</td><td>alta;decipiens;annulatum;sericeum;venustum            </td><td>NC_030621(361);NC_040131(355);NC_042145(334);NC_035018(319);NC_030622(318)</td><td>5428</td><td>  78</td><td>  80</td><td>6</td></tr>\n",
       "\t<tr><th scope=row>6</th><td>AT20TS1MCRTL015</td><td>Eulaliopsis binata    </td><td>                                  </td><td>Traiperm 567      </td><td>1</td><td>MCRTL015_CKDL200164854-1a-AK5151-AK6665_HMGJWDSXY_L4</td><td>206938089</td><td>31.0</td><td>0.515</td><td>0.152</td><td>⋯</td><td>0.51</td><td>1.66</td><td>Andropogoneae</td><td>Eulaliopsis                           </td><td>binata                                                </td><td>NC_035049(446)                                                            </td><td>4722</td><td> 409</td><td> 460</td><td>1</td></tr>\n",
       "</tbody>\n",
       "</table>\n"
      ],
      "text/latex": [
       "A data.frame: 6 × 22\n",
       "\\begin{tabular}{r|lllllllllllllllllllll}\n",
       "  & tracker\\_sample\\_name & tracker\\_organism & alternative\\_names & ecotype & run\\_id & file & total\\_reads & gb\\_num & frac\\_mapped & percent\\_dup & ⋯ & bacteria & homo\\_s & tribe\\_qc & genus\\_qc & species & matched\\_gene\\_and\\_read\\_counts & tabasco\\_complete & tabasco\\_duplicated & tabasco\\_fraged & tabasco\\_missing\\\\\n",
       "  & <chr> & <chr> & <chr> & <chr> & <int> & <chr> & <int> & <dbl> & <dbl> & <dbl> & ⋯ & <dbl> & <dbl> & <chr> & <chr> & <chr> & <chr> & <int> & <int> & <int> & <int>\\\\\n",
       "\\hline\n",
       "\t1 & AT20TS1MCRTL001 & Rottboellia campestris & Coelorachis cylindrica (Mnesithea) & Kellogg 1258       & 1 & MCRTL001\\_CKDL200164854-1a-AK5140-AK242\\_HMGJWDSXY\\_L4  & 272268296 & 40.8 & 0.366 & 0.000 & ⋯ & 0.45 & 1.42 & Andropogoneae & Mnesithea;Eremochloa;Saccharum         & helferi;ophiuroides;arundinaceum;eriopoda              & NC\\_035036(253);NC\\_036716(236);NC\\_030777(214);NC\\_035023(214)                & 5325 &  107 &  156 & 4\\\\\n",
       "\t2 & AT20TS1MCRTL013 & Hyperthelia dissoluta  &                                    & Kellogg 1137       & 1 & MCRTL013\\_CKDL200164854-1a-AK5395-AK5927\\_HMGJWDSXY\\_L4 & 154100842 & 23.1 & 0.433 & 0.147 & ⋯ & 0.41 & 2.30 & Andropogoneae & Hyparrhenia;Andropogon                 & diplandra;variabilis;subplumosa;greenwayi;gayanus      & NC\\_035037(321);NC\\_040112(321);NC\\_030625(315);NC\\_040128(294);NC\\_040127(280) & 3705 &  662 & 1220 & 5\\\\\n",
       "\t3 & AT20TS1MCRTL002 & Tripsacum laxum        &                                    & Kellogg MIA 34792  & 1 & MCRTL002\\_CKDL200164854-1a-AK4939-AK6653\\_HMGJWDSXY\\_L4 & 206616665 & 31.0 & 0.212 & 0.160 & ⋯ & 0.21 & 0.94 & Andropogoneae & Zea;Saccharum;Tripidium                & perennis;luxurians;diploperennis;arundinaceum;ravennae & NC\\_030300(370);NC\\_030301(357);NC\\_030377(357);NC\\_030777(353);NC\\_042735(345) & 2497 & 1603 & 1492 & 0\\\\\n",
       "\t4 & AT20TS1MCRTL014 & Rottboellia rugosa     & Coelorachis rugosa                 & Layton \\& Zhong 162 & 1 & MCRTL014\\_CKDL200164854-1a-AK4937-AK6664\\_HMGJWDSXY\\_L4 & 237500144 & 35.6 & 0.385 & 0.161 & ⋯ & 0.91 & 1.94 & Andropogoneae & Mnesithea;Eremochloa;Saccharum         & helferi;ophiuroides;eriopoda;ciliaris;arundinaceum     & NC\\_035036(227);NC\\_036716(214);NC\\_035023(199);NC\\_035028(194);NC\\_030777(191) & 4905 &   96 &  585 & 6\\\\\n",
       "\t5 & AT20TS1MCRTL003 & Euclasta condylotricha &                                    & Pasquet 1245       & 1 & MCRTL003\\_CKDL200164854-1a-AK5159-AK6654\\_HMGJWDSXY\\_L4 & 271608628 & 40.7 & 0.513 & 0.180 & ⋯ & 0.32 & 1.32 & Andropogoneae & Bothriochloa;Dichanthium;Capillipedium & alta;decipiens;annulatum;sericeum;venustum             & NC\\_030621(361);NC\\_040131(355);NC\\_042145(334);NC\\_035018(319);NC\\_030622(318) & 5428 &   78 &   80 & 6\\\\\n",
       "\t6 & AT20TS1MCRTL015 & Eulaliopsis binata     &                                    & Traiperm 567       & 1 & MCRTL015\\_CKDL200164854-1a-AK5151-AK6665\\_HMGJWDSXY\\_L4 & 206938089 & 31.0 & 0.515 & 0.152 & ⋯ & 0.51 & 1.66 & Andropogoneae & Eulaliopsis                            & binata                                                 & NC\\_035049(446)                                                             & 4722 &  409 &  460 & 1\\\\\n",
       "\\end{tabular}\n"
      ],
      "text/markdown": [
       "\n",
       "A data.frame: 6 × 22\n",
       "\n",
       "| <!--/--> | tracker_sample_name &lt;chr&gt; | tracker_organism &lt;chr&gt; | alternative_names &lt;chr&gt; | ecotype &lt;chr&gt; | run_id &lt;int&gt; | file &lt;chr&gt; | total_reads &lt;int&gt; | gb_num &lt;dbl&gt; | frac_mapped &lt;dbl&gt; | percent_dup &lt;dbl&gt; | ⋯ ⋯ | bacteria &lt;dbl&gt; | homo_s &lt;dbl&gt; | tribe_qc &lt;chr&gt; | genus_qc &lt;chr&gt; | species &lt;chr&gt; | matched_gene_and_read_counts &lt;chr&gt; | tabasco_complete &lt;int&gt; | tabasco_duplicated &lt;int&gt; | tabasco_fraged &lt;int&gt; | tabasco_missing &lt;int&gt; |\n",
       "|---|---|---|---|---|---|---|---|---|---|---|---|---|---|---|---|---|---|---|---|---|---|\n",
       "| 1 | AT20TS1MCRTL001 | Rottboellia campestris | Coelorachis cylindrica (Mnesithea) | Kellogg 1258       | 1 | MCRTL001_CKDL200164854-1a-AK5140-AK242_HMGJWDSXY_L4  | 272268296 | 40.8 | 0.366 | 0.000 | ⋯ | 0.45 | 1.42 | Andropogoneae | Mnesithea;Eremochloa;Saccharum         | helferi;ophiuroides;arundinaceum;eriopoda              | NC_035036(253);NC_036716(236);NC_030777(214);NC_035023(214)                | 5325 |  107 |  156 | 4 |\n",
       "| 2 | AT20TS1MCRTL013 | Hyperthelia dissoluta  | <!----> | Kellogg 1137       | 1 | MCRTL013_CKDL200164854-1a-AK5395-AK5927_HMGJWDSXY_L4 | 154100842 | 23.1 | 0.433 | 0.147 | ⋯ | 0.41 | 2.30 | Andropogoneae | Hyparrhenia;Andropogon                 | diplandra;variabilis;subplumosa;greenwayi;gayanus      | NC_035037(321);NC_040112(321);NC_030625(315);NC_040128(294);NC_040127(280) | 3705 |  662 | 1220 | 5 |\n",
       "| 3 | AT20TS1MCRTL002 | Tripsacum laxum        | <!----> | Kellogg MIA 34792  | 1 | MCRTL002_CKDL200164854-1a-AK4939-AK6653_HMGJWDSXY_L4 | 206616665 | 31.0 | 0.212 | 0.160 | ⋯ | 0.21 | 0.94 | Andropogoneae | Zea;Saccharum;Tripidium                | perennis;luxurians;diploperennis;arundinaceum;ravennae | NC_030300(370);NC_030301(357);NC_030377(357);NC_030777(353);NC_042735(345) | 2497 | 1603 | 1492 | 0 |\n",
       "| 4 | AT20TS1MCRTL014 | Rottboellia rugosa     | Coelorachis rugosa                 | Layton &amp; Zhong 162 | 1 | MCRTL014_CKDL200164854-1a-AK4937-AK6664_HMGJWDSXY_L4 | 237500144 | 35.6 | 0.385 | 0.161 | ⋯ | 0.91 | 1.94 | Andropogoneae | Mnesithea;Eremochloa;Saccharum         | helferi;ophiuroides;eriopoda;ciliaris;arundinaceum     | NC_035036(227);NC_036716(214);NC_035023(199);NC_035028(194);NC_030777(191) | 4905 |   96 |  585 | 6 |\n",
       "| 5 | AT20TS1MCRTL003 | Euclasta condylotricha | <!----> | Pasquet 1245       | 1 | MCRTL003_CKDL200164854-1a-AK5159-AK6654_HMGJWDSXY_L4 | 271608628 | 40.7 | 0.513 | 0.180 | ⋯ | 0.32 | 1.32 | Andropogoneae | Bothriochloa;Dichanthium;Capillipedium | alta;decipiens;annulatum;sericeum;venustum             | NC_030621(361);NC_040131(355);NC_042145(334);NC_035018(319);NC_030622(318) | 5428 |   78 |   80 | 6 |\n",
       "| 6 | AT20TS1MCRTL015 | Eulaliopsis binata     | <!----> | Traiperm 567       | 1 | MCRTL015_CKDL200164854-1a-AK5151-AK6665_HMGJWDSXY_L4 | 206938089 | 31.0 | 0.515 | 0.152 | ⋯ | 0.51 | 1.66 | Andropogoneae | Eulaliopsis                            | binata                                                 | NC_035049(446)                                                             | 4722 |  409 |  460 | 1 |\n",
       "\n"
      ],
      "text/plain": [
       "  tracker_sample_name tracker_organism       alternative_names                 \n",
       "1 AT20TS1MCRTL001     Rottboellia campestris Coelorachis cylindrica (Mnesithea)\n",
       "2 AT20TS1MCRTL013     Hyperthelia dissoluta                                    \n",
       "3 AT20TS1MCRTL002     Tripsacum laxum                                          \n",
       "4 AT20TS1MCRTL014     Rottboellia rugosa     Coelorachis rugosa                \n",
       "5 AT20TS1MCRTL003     Euclasta condylotricha                                   \n",
       "6 AT20TS1MCRTL015     Eulaliopsis binata                                       \n",
       "  ecotype            run_id\n",
       "1 Kellogg 1258       1     \n",
       "2 Kellogg 1137       1     \n",
       "3 Kellogg MIA 34792  1     \n",
       "4 Layton & Zhong 162 1     \n",
       "5 Pasquet 1245       1     \n",
       "6 Traiperm 567       1     \n",
       "  file                                                 total_reads gb_num\n",
       "1 MCRTL001_CKDL200164854-1a-AK5140-AK242_HMGJWDSXY_L4  272268296   40.8  \n",
       "2 MCRTL013_CKDL200164854-1a-AK5395-AK5927_HMGJWDSXY_L4 154100842   23.1  \n",
       "3 MCRTL002_CKDL200164854-1a-AK4939-AK6653_HMGJWDSXY_L4 206616665   31.0  \n",
       "4 MCRTL014_CKDL200164854-1a-AK4937-AK6664_HMGJWDSXY_L4 237500144   35.6  \n",
       "5 MCRTL003_CKDL200164854-1a-AK5159-AK6654_HMGJWDSXY_L4 271608628   40.7  \n",
       "6 MCRTL015_CKDL200164854-1a-AK5151-AK6665_HMGJWDSXY_L4 206938089   31.0  \n",
       "  frac_mapped percent_dup ⋯ bacteria homo_s tribe_qc     \n",
       "1 0.366       0.000       ⋯ 0.45     1.42   Andropogoneae\n",
       "2 0.433       0.147       ⋯ 0.41     2.30   Andropogoneae\n",
       "3 0.212       0.160       ⋯ 0.21     0.94   Andropogoneae\n",
       "4 0.385       0.161       ⋯ 0.91     1.94   Andropogoneae\n",
       "5 0.513       0.180       ⋯ 0.32     1.32   Andropogoneae\n",
       "6 0.515       0.152       ⋯ 0.51     1.66   Andropogoneae\n",
       "  genus_qc                              \n",
       "1 Mnesithea;Eremochloa;Saccharum        \n",
       "2 Hyparrhenia;Andropogon                \n",
       "3 Zea;Saccharum;Tripidium               \n",
       "4 Mnesithea;Eremochloa;Saccharum        \n",
       "5 Bothriochloa;Dichanthium;Capillipedium\n",
       "6 Eulaliopsis                           \n",
       "  species                                               \n",
       "1 helferi;ophiuroides;arundinaceum;eriopoda             \n",
       "2 diplandra;variabilis;subplumosa;greenwayi;gayanus     \n",
       "3 perennis;luxurians;diploperennis;arundinaceum;ravennae\n",
       "4 helferi;ophiuroides;eriopoda;ciliaris;arundinaceum    \n",
       "5 alta;decipiens;annulatum;sericeum;venustum            \n",
       "6 binata                                                \n",
       "  matched_gene_and_read_counts                                              \n",
       "1 NC_035036(253);NC_036716(236);NC_030777(214);NC_035023(214)               \n",
       "2 NC_035037(321);NC_040112(321);NC_030625(315);NC_040128(294);NC_040127(280)\n",
       "3 NC_030300(370);NC_030301(357);NC_030377(357);NC_030777(353);NC_042735(345)\n",
       "4 NC_035036(227);NC_036716(214);NC_035023(199);NC_035028(194);NC_030777(191)\n",
       "5 NC_030621(361);NC_040131(355);NC_042145(334);NC_035018(319);NC_030622(318)\n",
       "6 NC_035049(446)                                                            \n",
       "  tabasco_complete tabasco_duplicated tabasco_fraged tabasco_missing\n",
       "1 5325              107                156           4              \n",
       "2 3705              662               1220           5              \n",
       "3 2497             1603               1492           0              \n",
       "4 4905               96                585           6              \n",
       "5 5428               78                 80           6              \n",
       "6 4722              409                460           1              "
      ]
     },
     "metadata": {},
     "output_type": "display_data"
    },
    {
     "data": {
      "text/html": [
       "<style>\n",
       ".list-inline {list-style: none; margin:0; padding: 0}\n",
       ".list-inline>li {display: inline-block}\n",
       ".list-inline>li:not(:last-child)::after {content: \"\\00b7\"; padding: 0 .5ex}\n",
       "</style>\n",
       "<ol class=list-inline><li>505</li><li>22</li></ol>\n"
      ],
      "text/latex": [
       "\\begin{enumerate*}\n",
       "\\item 505\n",
       "\\item 22\n",
       "\\end{enumerate*}\n"
      ],
      "text/markdown": [
       "1. 505\n",
       "2. 22\n",
       "\n",
       "\n"
      ],
      "text/plain": [
       "[1] 505  22"
      ]
     },
     "metadata": {},
     "output_type": "display_data"
    }
   ],
   "source": [
    "head(limsDat)\n",
    "dim(limsDat)"
   ]
  },
  {
   "cell_type": "code",
   "execution_count": 188,
   "id": "4d1b1b7f",
   "metadata": {},
   "outputs": [
    {
     "name": "stderr",
     "output_type": "stream",
     "text": [
      "Warning message in cbind(parts$left, chars$ellip_h, parts$right, deparse.level = 0L):\n",
      "“number of rows of result is not a multiple of vector length (arg 2)”\n",
      "Warning message in cbind(parts$left, chars$ellip_h, parts$right, deparse.level = 0L):\n",
      "“number of rows of result is not a multiple of vector length (arg 2)”\n",
      "Warning message in cbind(parts$left, chars$ellip_h, parts$right, deparse.level = 0L):\n",
      "“number of rows of result is not a multiple of vector length (arg 2)”\n",
      "Warning message in cbind(parts$left, chars$ellip_h, parts$right, deparse.level = 0L):\n",
      "“number of rows of result is not a multiple of vector length (arg 2)”\n"
     ]
    },
    {
     "data": {
      "text/html": [
       "<table class=\"dataframe\">\n",
       "<caption>A data.frame: 0 × 22</caption>\n",
       "<thead>\n",
       "\t<tr><th scope=col>tracker_sample_name</th><th scope=col>tracker_organism</th><th scope=col>alternative_names</th><th scope=col>ecotype</th><th scope=col>run_id</th><th scope=col>file</th><th scope=col>total_reads</th><th scope=col>gb_num</th><th scope=col>frac_mapped</th><th scope=col>percent_dup</th><th scope=col>⋯</th><th scope=col>bacteria</th><th scope=col>homo_s</th><th scope=col>tribe_qc</th><th scope=col>genus_qc</th><th scope=col>species</th><th scope=col>matched_gene_and_read_counts</th><th scope=col>tabasco_complete</th><th scope=col>tabasco_duplicated</th><th scope=col>tabasco_fraged</th><th scope=col>tabasco_missing</th></tr>\n",
       "\t<tr><th scope=col>&lt;chr&gt;</th><th scope=col>&lt;chr&gt;</th><th scope=col>&lt;chr&gt;</th><th scope=col>&lt;chr&gt;</th><th scope=col>&lt;int&gt;</th><th scope=col>&lt;chr&gt;</th><th scope=col>&lt;int&gt;</th><th scope=col>&lt;dbl&gt;</th><th scope=col>&lt;dbl&gt;</th><th scope=col>&lt;dbl&gt;</th><th scope=col>⋯</th><th scope=col>&lt;dbl&gt;</th><th scope=col>&lt;dbl&gt;</th><th scope=col>&lt;chr&gt;</th><th scope=col>&lt;chr&gt;</th><th scope=col>&lt;chr&gt;</th><th scope=col>&lt;chr&gt;</th><th scope=col>&lt;int&gt;</th><th scope=col>&lt;int&gt;</th><th scope=col>&lt;int&gt;</th><th scope=col>&lt;int&gt;</th></tr>\n",
       "</thead>\n",
       "<tbody>\n",
       "</tbody>\n",
       "</table>\n"
      ],
      "text/latex": [
       "A data.frame: 0 × 22\n",
       "\\begin{tabular}{lllllllllllllllllllll}\n",
       " tracker\\_sample\\_name & tracker\\_organism & alternative\\_names & ecotype & run\\_id & file & total\\_reads & gb\\_num & frac\\_mapped & percent\\_dup & ⋯ & bacteria & homo\\_s & tribe\\_qc & genus\\_qc & species & matched\\_gene\\_and\\_read\\_counts & tabasco\\_complete & tabasco\\_duplicated & tabasco\\_fraged & tabasco\\_missing\\\\\n",
       " <chr> & <chr> & <chr> & <chr> & <int> & <chr> & <int> & <dbl> & <dbl> & <dbl> & ⋯ & <dbl> & <dbl> & <chr> & <chr> & <chr> & <chr> & <int> & <int> & <int> & <int>\\\\\n",
       "\\hline\n",
       "\\end{tabular}\n"
      ],
      "text/markdown": [
       "\n",
       "A data.frame: 0 × 22\n",
       "\n",
       "| tracker_sample_name &lt;chr&gt; | tracker_organism &lt;chr&gt; | alternative_names &lt;chr&gt; | ecotype &lt;chr&gt; | run_id &lt;int&gt; | file &lt;chr&gt; | total_reads &lt;int&gt; | gb_num &lt;dbl&gt; | frac_mapped &lt;dbl&gt; | percent_dup &lt;dbl&gt; | ⋯ ⋯ | bacteria &lt;dbl&gt; | homo_s &lt;dbl&gt; | tribe_qc &lt;chr&gt; | genus_qc &lt;chr&gt; | species &lt;chr&gt; | matched_gene_and_read_counts &lt;chr&gt; | tabasco_complete &lt;int&gt; | tabasco_duplicated &lt;int&gt; | tabasco_fraged &lt;int&gt; | tabasco_missing &lt;int&gt; |\n",
       "|---|---|---|---|---|---|---|---|---|---|---|---|---|---|---|---|---|---|---|---|---|\n",
       "\n"
      ],
      "text/plain": [
       "     tracker_sample_name tracker_organism alternative_names ecotype run_id file\n",
       "     total_reads gb_num frac_mapped percent_dup ⋯ bacteria homo_s tribe_qc\n",
       "     genus_qc species matched_gene_and_read_counts tabasco_complete\n",
       "     tabasco_duplicated tabasco_fraged tabasco_missing"
      ]
     },
     "metadata": {},
     "output_type": "display_data"
    }
   ],
   "source": [
    "limsDat[which(limsDat$tracker_sample_name%in%\"AN21TSTL0005\"),]"
   ]
  },
  {
   "cell_type": "code",
   "execution_count": 189,
   "id": "f3cf1ef5",
   "metadata": {},
   "outputs": [],
   "source": [
    "mergedDat = merge(manualDat_panand,limsDat,by = \"tracker_sample_name\",all = T)"
   ]
  },
  {
   "cell_type": "code",
   "execution_count": 190,
   "id": "b412adf2",
   "metadata": {},
   "outputs": [
    {
     "data": {
      "text/html": [
       "<table class=\"dataframe\">\n",
       "<caption>A data.frame: 6 × 32</caption>\n",
       "<thead>\n",
       "\t<tr><th></th><th scope=col>tracker_sample_name</th><th scope=col>assemblyID</th><th scope=col>correctSpecies</th><th scope=col>CorrectEcotype</th><th scope=col>Species</th><th scope=col>genotype_info</th><th scope=col>altName</th><th scope=col>lifeHistory</th><th scope=col>technology</th><th scope=col>source</th><th scope=col>⋯</th><th scope=col>bacteria</th><th scope=col>homo_s</th><th scope=col>tribe_qc</th><th scope=col>genus_qc</th><th scope=col>species</th><th scope=col>matched_gene_and_read_counts</th><th scope=col>tabasco_complete</th><th scope=col>tabasco_duplicated</th><th scope=col>tabasco_fraged</th><th scope=col>tabasco_missing</th></tr>\n",
       "\t<tr><th></th><th scope=col>&lt;chr&gt;</th><th scope=col>&lt;chr&gt;</th><th scope=col>&lt;chr&gt;</th><th scope=col>&lt;chr&gt;</th><th scope=col>&lt;chr&gt;</th><th scope=col>&lt;chr&gt;</th><th scope=col>&lt;chr&gt;</th><th scope=col>&lt;chr&gt;</th><th scope=col>&lt;chr&gt;</th><th scope=col>&lt;chr&gt;</th><th scope=col>⋯</th><th scope=col>&lt;dbl&gt;</th><th scope=col>&lt;dbl&gt;</th><th scope=col>&lt;chr&gt;</th><th scope=col>&lt;chr&gt;</th><th scope=col>&lt;chr&gt;</th><th scope=col>&lt;chr&gt;</th><th scope=col>&lt;int&gt;</th><th scope=col>&lt;int&gt;</th><th scope=col>&lt;int&gt;</th><th scope=col>&lt;int&gt;</th></tr>\n",
       "</thead>\n",
       "<tbody>\n",
       "\t<tr><th scope=row>1</th><td>AN20TSCR000168</td><td>AN20T168</td><td>Andropogon amethystinus           </td><td>MSV 1622             </td><td>Andropogon amethystinus</td><td>MSV 1622          </td><td>NA</td><td>perennial</td><td>Illumina</td><td>PanAnd</td><td>⋯</td><td>2.07</td><td>1.94</td><td>Andropogoneae</td><td>Andropogon              </td><td>abyssinicus;distachyos                         </td><td>NC_035030(362);NC_035041(360)                                             </td><td>3610</td><td> 750</td><td>1229</td><td>3</td></tr>\n",
       "\t<tr><th scope=row>2</th><td>AN20TSCR000169</td><td>AN20T169</td><td>Anatherum eucomum subsp. huillense</td><td>Nanjarisoa 116       </td><td>Andropogon eucomus     </td><td>NOP 116_huillensis</td><td>NA</td><td>perennial</td><td>Illumina</td><td>PanAnd</td><td>⋯</td><td>1.13</td><td>1.86</td><td>Andropogoneae</td><td>Andropogon;Schizachyrium</td><td>fastigiatus;cirratum;gerardi;imberbe;tenerum   </td><td>NC_035010(263);NC_040130(253);NC_040111(242);NC_035045(241);NC_035043(235)</td><td>2481</td><td>1708</td><td>1401</td><td>2</td></tr>\n",
       "\t<tr><th scope=row>3</th><td>AN20TSCR000170</td><td>AN20T170</td><td>Anatherum ibityense               </td><td>Vorontsova 1013      </td><td>Andropogon ibityensis  </td><td>MSV 1013          </td><td>NA</td><td>perennial</td><td>Illumina</td><td>PanAnd</td><td>⋯</td><td>1.37</td><td>2.01</td><td>Andropogoneae</td><td>Schizachyrium;Andropogon</td><td>imberbe;cirratum;gerardi;fastigiatus;gayanus   </td><td>NC_035045(260);NC_040130(259);NC_040111(254);NC_035010(254);NC_040127(236)</td><td>4825</td><td> 265</td><td> 498</td><td>4</td></tr>\n",
       "\t<tr><th scope=row>4</th><td>AN20TSCR000172</td><td>AN20T172</td><td>Anatherum ivohibense              </td><td>Ratovonirina 181     </td><td>Andropogon ivohibensis </td><td>RGD 181           </td><td>NA</td><td>perennial</td><td>Illumina</td><td>PanAnd</td><td>⋯</td><td>1.29</td><td>1.83</td><td>Andropogoneae</td><td>Andropogon;Schizachyrium</td><td>fastigiatus;cirratum;imberbe;gerardi;sanguineum</td><td>NC_035010(300);NC_040130(288);NC_035045(287);NC_040111(286);NC_035015(267)</td><td>4850</td><td> 160</td><td> 579</td><td>3</td></tr>\n",
       "\t<tr><th scope=row>5</th><td>AN20TSCR000174</td><td>AN20T174</td><td>Arthraxon antsirabensis           </td><td>NOP 217              </td><td>Arthraxon antsirabensis</td><td>NOP 217           </td><td>NA</td><td>annual   </td><td>Illumina</td><td>PanAnd</td><td>⋯</td><td>4.70</td><td>3.00</td><td>Andropogoneae</td><td>Arthraxon               </td><td>hispidus;prionodes;lanceolatus                 </td><td>NC_035048(631);NC_030613(610);NC_035017(610)                              </td><td> 699</td><td>4214</td><td> 674</td><td>5</td></tr>\n",
       "\t<tr><th scope=row>6</th><td>AN20TSCR000175</td><td>AN20T175</td><td>Cymbopogon caesius                </td><td>Solofondranohatra 243</td><td>Cymbopogon caesius     </td><td>SLC 243           </td><td>NA</td><td>perennial</td><td>Illumina</td><td>PanAnd</td><td>⋯</td><td>0.40</td><td>1.40</td><td>Andropogoneae</td><td>Cymbopogon              </td><td>flexuosus;citratus                             </td><td>NC_035040(306);NC_042144(306)                                             </td><td>2739</td><td>1552</td><td>1299</td><td>2</td></tr>\n",
       "</tbody>\n",
       "</table>\n"
      ],
      "text/latex": [
       "A data.frame: 6 × 32\n",
       "\\begin{tabular}{r|lllllllllllllllllllll}\n",
       "  & tracker\\_sample\\_name & assemblyID & correctSpecies & CorrectEcotype & Species & genotype\\_info & altName & lifeHistory & technology & source & ⋯ & bacteria & homo\\_s & tribe\\_qc & genus\\_qc & species & matched\\_gene\\_and\\_read\\_counts & tabasco\\_complete & tabasco\\_duplicated & tabasco\\_fraged & tabasco\\_missing\\\\\n",
       "  & <chr> & <chr> & <chr> & <chr> & <chr> & <chr> & <chr> & <chr> & <chr> & <chr> & ⋯ & <dbl> & <dbl> & <chr> & <chr> & <chr> & <chr> & <int> & <int> & <int> & <int>\\\\\n",
       "\\hline\n",
       "\t1 & AN20TSCR000168 & AN20T168 & Andropogon amethystinus            & MSV 1622              & Andropogon amethystinus & MSV 1622           & NA & perennial & Illumina & PanAnd & ⋯ & 2.07 & 1.94 & Andropogoneae & Andropogon               & abyssinicus;distachyos                          & NC\\_035030(362);NC\\_035041(360)                                              & 3610 &  750 & 1229 & 3\\\\\n",
       "\t2 & AN20TSCR000169 & AN20T169 & Anatherum eucomum subsp. huillense & Nanjarisoa 116        & Andropogon eucomus      & NOP 116\\_huillensis & NA & perennial & Illumina & PanAnd & ⋯ & 1.13 & 1.86 & Andropogoneae & Andropogon;Schizachyrium & fastigiatus;cirratum;gerardi;imberbe;tenerum    & NC\\_035010(263);NC\\_040130(253);NC\\_040111(242);NC\\_035045(241);NC\\_035043(235) & 2481 & 1708 & 1401 & 2\\\\\n",
       "\t3 & AN20TSCR000170 & AN20T170 & Anatherum ibityense                & Vorontsova 1013       & Andropogon ibityensis   & MSV 1013           & NA & perennial & Illumina & PanAnd & ⋯ & 1.37 & 2.01 & Andropogoneae & Schizachyrium;Andropogon & imberbe;cirratum;gerardi;fastigiatus;gayanus    & NC\\_035045(260);NC\\_040130(259);NC\\_040111(254);NC\\_035010(254);NC\\_040127(236) & 4825 &  265 &  498 & 4\\\\\n",
       "\t4 & AN20TSCR000172 & AN20T172 & Anatherum ivohibense               & Ratovonirina 181      & Andropogon ivohibensis  & RGD 181            & NA & perennial & Illumina & PanAnd & ⋯ & 1.29 & 1.83 & Andropogoneae & Andropogon;Schizachyrium & fastigiatus;cirratum;imberbe;gerardi;sanguineum & NC\\_035010(300);NC\\_040130(288);NC\\_035045(287);NC\\_040111(286);NC\\_035015(267) & 4850 &  160 &  579 & 3\\\\\n",
       "\t5 & AN20TSCR000174 & AN20T174 & Arthraxon antsirabensis            & NOP 217               & Arthraxon antsirabensis & NOP 217            & NA & annual    & Illumina & PanAnd & ⋯ & 4.70 & 3.00 & Andropogoneae & Arthraxon                & hispidus;prionodes;lanceolatus                  & NC\\_035048(631);NC\\_030613(610);NC\\_035017(610)                               &  699 & 4214 &  674 & 5\\\\\n",
       "\t6 & AN20TSCR000175 & AN20T175 & Cymbopogon caesius                 & Solofondranohatra 243 & Cymbopogon caesius      & SLC 243            & NA & perennial & Illumina & PanAnd & ⋯ & 0.40 & 1.40 & Andropogoneae & Cymbopogon               & flexuosus;citratus                              & NC\\_035040(306);NC\\_042144(306)                                              & 2739 & 1552 & 1299 & 2\\\\\n",
       "\\end{tabular}\n"
      ],
      "text/markdown": [
       "\n",
       "A data.frame: 6 × 32\n",
       "\n",
       "| <!--/--> | tracker_sample_name &lt;chr&gt; | assemblyID &lt;chr&gt; | correctSpecies &lt;chr&gt; | CorrectEcotype &lt;chr&gt; | Species &lt;chr&gt; | genotype_info &lt;chr&gt; | altName &lt;chr&gt; | lifeHistory &lt;chr&gt; | technology &lt;chr&gt; | source &lt;chr&gt; | ⋯ ⋯ | bacteria &lt;dbl&gt; | homo_s &lt;dbl&gt; | tribe_qc &lt;chr&gt; | genus_qc &lt;chr&gt; | species &lt;chr&gt; | matched_gene_and_read_counts &lt;chr&gt; | tabasco_complete &lt;int&gt; | tabasco_duplicated &lt;int&gt; | tabasco_fraged &lt;int&gt; | tabasco_missing &lt;int&gt; |\n",
       "|---|---|---|---|---|---|---|---|---|---|---|---|---|---|---|---|---|---|---|---|---|---|\n",
       "| 1 | AN20TSCR000168 | AN20T168 | Andropogon amethystinus            | MSV 1622              | Andropogon amethystinus | MSV 1622           | NA | perennial | Illumina | PanAnd | ⋯ | 2.07 | 1.94 | Andropogoneae | Andropogon               | abyssinicus;distachyos                          | NC_035030(362);NC_035041(360)                                              | 3610 |  750 | 1229 | 3 |\n",
       "| 2 | AN20TSCR000169 | AN20T169 | Anatherum eucomum subsp. huillense | Nanjarisoa 116        | Andropogon eucomus      | NOP 116_huillensis | NA | perennial | Illumina | PanAnd | ⋯ | 1.13 | 1.86 | Andropogoneae | Andropogon;Schizachyrium | fastigiatus;cirratum;gerardi;imberbe;tenerum    | NC_035010(263);NC_040130(253);NC_040111(242);NC_035045(241);NC_035043(235) | 2481 | 1708 | 1401 | 2 |\n",
       "| 3 | AN20TSCR000170 | AN20T170 | Anatherum ibityense                | Vorontsova 1013       | Andropogon ibityensis   | MSV 1013           | NA | perennial | Illumina | PanAnd | ⋯ | 1.37 | 2.01 | Andropogoneae | Schizachyrium;Andropogon | imberbe;cirratum;gerardi;fastigiatus;gayanus    | NC_035045(260);NC_040130(259);NC_040111(254);NC_035010(254);NC_040127(236) | 4825 |  265 |  498 | 4 |\n",
       "| 4 | AN20TSCR000172 | AN20T172 | Anatherum ivohibense               | Ratovonirina 181      | Andropogon ivohibensis  | RGD 181            | NA | perennial | Illumina | PanAnd | ⋯ | 1.29 | 1.83 | Andropogoneae | Andropogon;Schizachyrium | fastigiatus;cirratum;imberbe;gerardi;sanguineum | NC_035010(300);NC_040130(288);NC_035045(287);NC_040111(286);NC_035015(267) | 4850 |  160 |  579 | 3 |\n",
       "| 5 | AN20TSCR000174 | AN20T174 | Arthraxon antsirabensis            | NOP 217               | Arthraxon antsirabensis | NOP 217            | NA | annual    | Illumina | PanAnd | ⋯ | 4.70 | 3.00 | Andropogoneae | Arthraxon                | hispidus;prionodes;lanceolatus                  | NC_035048(631);NC_030613(610);NC_035017(610)                               |  699 | 4214 |  674 | 5 |\n",
       "| 6 | AN20TSCR000175 | AN20T175 | Cymbopogon caesius                 | Solofondranohatra 243 | Cymbopogon caesius      | SLC 243            | NA | perennial | Illumina | PanAnd | ⋯ | 0.40 | 1.40 | Andropogoneae | Cymbopogon               | flexuosus;citratus                              | NC_035040(306);NC_042144(306)                                              | 2739 | 1552 | 1299 | 2 |\n",
       "\n"
      ],
      "text/plain": [
       "  tracker_sample_name assemblyID correctSpecies                    \n",
       "1 AN20TSCR000168      AN20T168   Andropogon amethystinus           \n",
       "2 AN20TSCR000169      AN20T169   Anatherum eucomum subsp. huillense\n",
       "3 AN20TSCR000170      AN20T170   Anatherum ibityense               \n",
       "4 AN20TSCR000172      AN20T172   Anatherum ivohibense              \n",
       "5 AN20TSCR000174      AN20T174   Arthraxon antsirabensis           \n",
       "6 AN20TSCR000175      AN20T175   Cymbopogon caesius                \n",
       "  CorrectEcotype        Species                 genotype_info      altName\n",
       "1 MSV 1622              Andropogon amethystinus MSV 1622           NA     \n",
       "2 Nanjarisoa 116        Andropogon eucomus      NOP 116_huillensis NA     \n",
       "3 Vorontsova 1013       Andropogon ibityensis   MSV 1013           NA     \n",
       "4 Ratovonirina 181      Andropogon ivohibensis  RGD 181            NA     \n",
       "5 NOP 217               Arthraxon antsirabensis NOP 217            NA     \n",
       "6 Solofondranohatra 243 Cymbopogon caesius      SLC 243            NA     \n",
       "  lifeHistory technology source ⋯ bacteria homo_s tribe_qc     \n",
       "1 perennial   Illumina   PanAnd ⋯ 2.07     1.94   Andropogoneae\n",
       "2 perennial   Illumina   PanAnd ⋯ 1.13     1.86   Andropogoneae\n",
       "3 perennial   Illumina   PanAnd ⋯ 1.37     2.01   Andropogoneae\n",
       "4 perennial   Illumina   PanAnd ⋯ 1.29     1.83   Andropogoneae\n",
       "5 annual      Illumina   PanAnd ⋯ 4.70     3.00   Andropogoneae\n",
       "6 perennial   Illumina   PanAnd ⋯ 0.40     1.40   Andropogoneae\n",
       "  genus_qc                 species                                        \n",
       "1 Andropogon               abyssinicus;distachyos                         \n",
       "2 Andropogon;Schizachyrium fastigiatus;cirratum;gerardi;imberbe;tenerum   \n",
       "3 Schizachyrium;Andropogon imberbe;cirratum;gerardi;fastigiatus;gayanus   \n",
       "4 Andropogon;Schizachyrium fastigiatus;cirratum;imberbe;gerardi;sanguineum\n",
       "5 Arthraxon                hispidus;prionodes;lanceolatus                 \n",
       "6 Cymbopogon               flexuosus;citratus                             \n",
       "  matched_gene_and_read_counts                                              \n",
       "1 NC_035030(362);NC_035041(360)                                             \n",
       "2 NC_035010(263);NC_040130(253);NC_040111(242);NC_035045(241);NC_035043(235)\n",
       "3 NC_035045(260);NC_040130(259);NC_040111(254);NC_035010(254);NC_040127(236)\n",
       "4 NC_035010(300);NC_040130(288);NC_035045(287);NC_040111(286);NC_035015(267)\n",
       "5 NC_035048(631);NC_030613(610);NC_035017(610)                              \n",
       "6 NC_035040(306);NC_042144(306)                                             \n",
       "  tabasco_complete tabasco_duplicated tabasco_fraged tabasco_missing\n",
       "1 3610              750               1229           3              \n",
       "2 2481             1708               1401           2              \n",
       "3 4825              265                498           4              \n",
       "4 4850              160                579           3              \n",
       "5  699             4214                674           5              \n",
       "6 2739             1552               1299           2              "
      ]
     },
     "metadata": {},
     "output_type": "display_data"
    }
   ],
   "source": [
    "head(mergedDat)"
   ]
  },
  {
   "cell_type": "code",
   "execution_count": 191,
   "id": "c28bc191",
   "metadata": {},
   "outputs": [
    {
     "data": {
      "text/html": [
       "<style>\n",
       ".list-inline {list-style: none; margin:0; padding: 0}\n",
       ".list-inline>li {display: inline-block}\n",
       ".list-inline>li:not(:last-child)::after {content: \"\\00b7\"; padding: 0 .5ex}\n",
       "</style>\n",
       "<ol class=list-inline><li>573</li><li>32</li></ol>\n"
      ],
      "text/latex": [
       "\\begin{enumerate*}\n",
       "\\item 573\n",
       "\\item 32\n",
       "\\end{enumerate*}\n"
      ],
      "text/markdown": [
       "1. 573\n",
       "2. 32\n",
       "\n",
       "\n"
      ],
      "text/plain": [
       "[1] 573  32"
      ]
     },
     "metadata": {},
     "output_type": "display_data"
    }
   ],
   "source": [
    "dim(mergedDat)"
   ]
  },
  {
   "cell_type": "code",
   "execution_count": 192,
   "id": "f1986d66",
   "metadata": {},
   "outputs": [
    {
     "data": {
      "text/html": [
       "<style>\n",
       ".list-inline {list-style: none; margin:0; padding: 0}\n",
       ".list-inline>li {display: inline-block}\n",
       ".list-inline>li:not(:last-child)::after {content: \"\\00b7\"; padding: 0 .5ex}\n",
       "</style>\n",
       "<ol class=list-inline><li>'tracker_sample_name'</li><li>'assemblyID'</li><li>'correctSpecies'</li><li>'CorrectEcotype'</li><li>'Species'</li><li>'genotype_info'</li><li>'altName'</li><li>'lifeHistory'</li><li>'technology'</li><li>'source'</li><li>'notes'</li><li>'tracker_organism'</li><li>'alternative_names'</li><li>'ecotype'</li><li>'run_id'</li><li>'file'</li><li>'total_reads'</li><li>'gb_num'</li><li>'frac_mapped'</li><li>'percent_dup'</li><li>'unclass'</li><li>'non_poaceae'</li><li>'bacteria'</li><li>'homo_s'</li><li>'tribe_qc'</li><li>'genus_qc'</li><li>'species'</li><li>'matched_gene_and_read_counts'</li><li>'tabasco_complete'</li><li>'tabasco_duplicated'</li><li>'tabasco_fraged'</li><li>'tabasco_missing'</li></ol>\n"
      ],
      "text/latex": [
       "\\begin{enumerate*}\n",
       "\\item 'tracker\\_sample\\_name'\n",
       "\\item 'assemblyID'\n",
       "\\item 'correctSpecies'\n",
       "\\item 'CorrectEcotype'\n",
       "\\item 'Species'\n",
       "\\item 'genotype\\_info'\n",
       "\\item 'altName'\n",
       "\\item 'lifeHistory'\n",
       "\\item 'technology'\n",
       "\\item 'source'\n",
       "\\item 'notes'\n",
       "\\item 'tracker\\_organism'\n",
       "\\item 'alternative\\_names'\n",
       "\\item 'ecotype'\n",
       "\\item 'run\\_id'\n",
       "\\item 'file'\n",
       "\\item 'total\\_reads'\n",
       "\\item 'gb\\_num'\n",
       "\\item 'frac\\_mapped'\n",
       "\\item 'percent\\_dup'\n",
       "\\item 'unclass'\n",
       "\\item 'non\\_poaceae'\n",
       "\\item 'bacteria'\n",
       "\\item 'homo\\_s'\n",
       "\\item 'tribe\\_qc'\n",
       "\\item 'genus\\_qc'\n",
       "\\item 'species'\n",
       "\\item 'matched\\_gene\\_and\\_read\\_counts'\n",
       "\\item 'tabasco\\_complete'\n",
       "\\item 'tabasco\\_duplicated'\n",
       "\\item 'tabasco\\_fraged'\n",
       "\\item 'tabasco\\_missing'\n",
       "\\end{enumerate*}\n"
      ],
      "text/markdown": [
       "1. 'tracker_sample_name'\n",
       "2. 'assemblyID'\n",
       "3. 'correctSpecies'\n",
       "4. 'CorrectEcotype'\n",
       "5. 'Species'\n",
       "6. 'genotype_info'\n",
       "7. 'altName'\n",
       "8. 'lifeHistory'\n",
       "9. 'technology'\n",
       "10. 'source'\n",
       "11. 'notes'\n",
       "12. 'tracker_organism'\n",
       "13. 'alternative_names'\n",
       "14. 'ecotype'\n",
       "15. 'run_id'\n",
       "16. 'file'\n",
       "17. 'total_reads'\n",
       "18. 'gb_num'\n",
       "19. 'frac_mapped'\n",
       "20. 'percent_dup'\n",
       "21. 'unclass'\n",
       "22. 'non_poaceae'\n",
       "23. 'bacteria'\n",
       "24. 'homo_s'\n",
       "25. 'tribe_qc'\n",
       "26. 'genus_qc'\n",
       "27. 'species'\n",
       "28. 'matched_gene_and_read_counts'\n",
       "29. 'tabasco_complete'\n",
       "30. 'tabasco_duplicated'\n",
       "31. 'tabasco_fraged'\n",
       "32. 'tabasco_missing'\n",
       "\n",
       "\n"
      ],
      "text/plain": [
       " [1] \"tracker_sample_name\"          \"assemblyID\"                  \n",
       " [3] \"correctSpecies\"               \"CorrectEcotype\"              \n",
       " [5] \"Species\"                      \"genotype_info\"               \n",
       " [7] \"altName\"                      \"lifeHistory\"                 \n",
       " [9] \"technology\"                   \"source\"                      \n",
       "[11] \"notes\"                        \"tracker_organism\"            \n",
       "[13] \"alternative_names\"            \"ecotype\"                     \n",
       "[15] \"run_id\"                       \"file\"                        \n",
       "[17] \"total_reads\"                  \"gb_num\"                      \n",
       "[19] \"frac_mapped\"                  \"percent_dup\"                 \n",
       "[21] \"unclass\"                      \"non_poaceae\"                 \n",
       "[23] \"bacteria\"                     \"homo_s\"                      \n",
       "[25] \"tribe_qc\"                     \"genus_qc\"                    \n",
       "[27] \"species\"                      \"matched_gene_and_read_counts\"\n",
       "[29] \"tabasco_complete\"             \"tabasco_duplicated\"          \n",
       "[31] \"tabasco_fraged\"               \"tabasco_missing\"             "
      ]
     },
     "metadata": {},
     "output_type": "display_data"
    }
   ],
   "source": [
    "colnames(mergedDat)"
   ]
  },
  {
   "cell_type": "code",
   "execution_count": 193,
   "id": "ee382923",
   "metadata": {},
   "outputs": [
    {
     "data": {
      "text/html": [
       "467"
      ],
      "text/latex": [
       "467"
      ],
      "text/markdown": [
       "467"
      ],
      "text/plain": [
       "[1] 467"
      ]
     },
     "metadata": {},
     "output_type": "display_data"
    }
   ],
   "source": [
    "length(unique(mergedDat[,1]))"
   ]
  },
  {
   "cell_type": "code",
   "execution_count": 194,
   "id": "81530e63",
   "metadata": {},
   "outputs": [],
   "source": [
    "mergedDat_noNA = mergedDat[!is.na(mergedDat[,1]),]"
   ]
  },
  {
   "cell_type": "code",
   "execution_count": 195,
   "id": "bfaf73ce",
   "metadata": {},
   "outputs": [
    {
     "data": {
      "text/html": [
       "<style>\n",
       ".list-inline {list-style: none; margin:0; padding: 0}\n",
       ".list-inline>li {display: inline-block}\n",
       ".list-inline>li:not(:last-child)::after {content: \"\\00b7\"; padding: 0 .5ex}\n",
       "</style>\n",
       "<ol class=list-inline><li>519</li><li>32</li></ol>\n"
      ],
      "text/latex": [
       "\\begin{enumerate*}\n",
       "\\item 519\n",
       "\\item 32\n",
       "\\end{enumerate*}\n"
      ],
      "text/markdown": [
       "1. 519\n",
       "2. 32\n",
       "\n",
       "\n"
      ],
      "text/plain": [
       "[1] 519  32"
      ]
     },
     "metadata": {},
     "output_type": "display_data"
    }
   ],
   "source": [
    "dim(mergedDat_noNA)"
   ]
  },
  {
   "cell_type": "code",
   "execution_count": 196,
   "id": "736ba1b4",
   "metadata": {},
   "outputs": [
    {
     "data": {
      "text/plain": [
       "\n",
       " AN20TSCR000199  AN20TSCR000208  AN20TSCR000209  AN20TSCR000210  AN20TSCR000212 \n",
       "              1               1               3               1               1 \n",
       " AN20TSCR000218    AN21TNTL0074    AN21TNTL0075    AN21TNTL0076    AN21TNTL0079 \n",
       "              1               1               1               1               1 \n",
       "   AN21TNTL0083    AN21TNTL0091    AN21TNTL0093    AN21TNTL0100    AN21TNTL0105 \n",
       "              1               1               1               1               1 \n",
       "   AN21TNTL0123    AN21TNTL0124    AN21TNTL0126    AN21TNTL0132    AN21TNTL0154 \n",
       "              1               1               1               1               1 \n",
       "   AN21TNTL0324    AN21TSTL0007    AN21TSTL0009    AN21TSTL0013    AN21TSTL0020 \n",
       "              1               1               1               1               1 \n",
       "   AN21TSTL0042    AN21TSTL0045    AN21TSTL0047    AN21TSTL0048    AN21TSTL0056 \n",
       "              1               1               1               1               1 \n",
       "   AN21TSTL0070    AN21TSTL0072    AN21TSTL0190    AN21TSTL0210    AN21TSTL0215 \n",
       "              1               1               1               1               1 \n",
       "   AN21TSTL0218    AN21TSTL0242    AN21TSTL0247    AN21TSTL0252    AN21TSTL0272 \n",
       "              1               1               1               1               1 \n",
       "   AN21TSTL0280 AT20TN1MCRTL026 AT20TN1MCRTL029 AT20TN1MCRTL034 AT20TN1MCRTL038 \n",
       "              1               1               1               1               1 \n",
       "AT20TN1MCRTL046 AT20TN1MCRTL048 AT20TN1MCRTL056 AT20TN1MCRTL070 AT20TS1MCRTL004 \n",
       "              1               1               1               1               1 \n",
       "AT20TS1MCRTL012 \n",
       "              1 "
      ]
     },
     "metadata": {},
     "output_type": "display_data"
    },
    {
     "data": {
      "text/html": [
       "51"
      ],
      "text/latex": [
       "51"
      ],
      "text/markdown": [
       "51"
      ],
      "text/plain": [
       "[1] 51"
      ]
     },
     "metadata": {},
     "output_type": "display_data"
    }
   ],
   "source": [
    "table(mergedDat_noNA[duplicated(mergedDat_noNA[,1]),1])\n",
    "dupSample = unique(mergedDat_noNA[duplicated(mergedDat_noNA[,1]),1])\n",
    "length(dupSample)"
   ]
  },
  {
   "cell_type": "code",
   "execution_count": 168,
   "id": "79c8224c",
   "metadata": {},
   "outputs": [
    {
     "data": {
      "text/html": [
       "466"
      ],
      "text/latex": [
       "466"
      ],
      "text/markdown": [
       "466"
      ],
      "text/plain": [
       "[1] 466"
      ]
     },
     "metadata": {},
     "output_type": "display_data"
    }
   ],
   "source": [
    "521-53-2"
   ]
  },
  {
   "cell_type": "code",
   "execution_count": 197,
   "id": "bd7d907b",
   "metadata": {},
   "outputs": [
    {
     "data": {
      "text/html": [
       "<table class=\"dataframe\">\n",
       "<caption>A data.frame: 104 × 16</caption>\n",
       "<thead>\n",
       "\t<tr><th></th><th scope=col>tracker_sample_name</th><th scope=col>assemblyID</th><th scope=col>correctSpecies</th><th scope=col>CorrectEcotype</th><th scope=col>altName</th><th scope=col>lifeHistory</th><th scope=col>tracker_organism</th><th scope=col>alternative_names</th><th scope=col>ecotype</th><th scope=col>run_id</th><th scope=col>file</th><th scope=col>total_reads</th><th scope=col>tabasco_complete</th><th scope=col>tabasco_duplicated</th><th scope=col>tabasco_fraged</th><th scope=col>tabasco_missing</th></tr>\n",
       "\t<tr><th></th><th scope=col>&lt;chr&gt;</th><th scope=col>&lt;chr&gt;</th><th scope=col>&lt;chr&gt;</th><th scope=col>&lt;chr&gt;</th><th scope=col>&lt;chr&gt;</th><th scope=col>&lt;chr&gt;</th><th scope=col>&lt;chr&gt;</th><th scope=col>&lt;chr&gt;</th><th scope=col>&lt;chr&gt;</th><th scope=col>&lt;int&gt;</th><th scope=col>&lt;chr&gt;</th><th scope=col>&lt;int&gt;</th><th scope=col>&lt;int&gt;</th><th scope=col>&lt;int&gt;</th><th scope=col>&lt;int&gt;</th><th scope=col>&lt;int&gt;</th></tr>\n",
       "</thead>\n",
       "<tbody>\n",
       "\t<tr><th scope=row>22</th><td>AN20TSCR000199</td><td>AN20TSCR000199</td><td><span style=white-space:pre-wrap>Bothriochloa pertusa     </span></td><td><span style=white-space:pre-wrap>AUB &amp; Bookout 104                         </span></td><td>NA</td><td><span style=white-space:pre-wrap>perennial          </span></td><td><span style=white-space:pre-wrap>Bothriochloa pertusa                 </span></td><td><span style=white-space:pre-wrap>                   </span></td><td><span style=white-space:pre-wrap>AUB &amp; Bookout 104                 </span></td><td>1</td><td>AN20TSCR000199_CKDL200169515-1a-AK5395-AK5927_HLTF5DSXY_L3</td><td>240215178</td><td>2238</td><td>1980</td><td>1373</td><td><span style=white-space:pre-wrap>   1</span></td></tr>\n",
       "\t<tr><th scope=row>23</th><td>AN20TSCR000199</td><td>AN20TSCR000199</td><td><span style=white-space:pre-wrap>Bothriochloa pertusa     </span></td><td><span style=white-space:pre-wrap>AUB &amp; Bookout 104                         </span></td><td>NA</td><td><span style=white-space:pre-wrap>perennial          </span></td><td><span style=white-space:pre-wrap>Bothriochloa pertusa                 </span></td><td><span style=white-space:pre-wrap>                   </span></td><td><span style=white-space:pre-wrap>AUB &amp; Bookout 104                 </span></td><td>2</td><td>AN20TSCR000199_CKDL220009932-1a-AK5395-AK5927_HN325DSX3_L4</td><td>192076561</td><td><span style=white-space:pre-wrap>   0</span></td><td><span style=white-space:pre-wrap>   0</span></td><td><span style=white-space:pre-wrap>   0</span></td><td><span style=white-space:pre-wrap>   0</span></td></tr>\n",
       "\t<tr><th scope=row>32</th><td>AN20TSCR000208</td><td>AN20TSCR000208</td><td><span style=white-space:pre-wrap>Eriochrysis cayennensis  </span></td><td><span style=white-space:pre-wrap>AUB &amp; Bookout 109                         </span></td><td>NA</td><td><span style=white-space:pre-wrap>perennial          </span></td><td><span style=white-space:pre-wrap>Eriochrysis cayennensis              </span></td><td><span style=white-space:pre-wrap>                   </span></td><td><span style=white-space:pre-wrap>AUB &amp; Bookout 109                 </span></td><td>1</td><td>AN20TSCR000208_CKDL200169516-1a-AK5161-AK6675_HLTF5DSXY_L4</td><td> 41590125</td><td>2579</td><td><span style=white-space:pre-wrap>  33</span></td><td>2955</td><td><span style=white-space:pre-wrap>  25</span></td></tr>\n",
       "\t<tr><th scope=row>33</th><td>AN20TSCR000208</td><td>AN20TSCR000208</td><td><span style=white-space:pre-wrap>Eriochrysis cayennensis  </span></td><td><span style=white-space:pre-wrap>AUB &amp; Bookout 109                         </span></td><td>NA</td><td><span style=white-space:pre-wrap>perennial          </span></td><td><span style=white-space:pre-wrap>Eriochrysis cayennensis              </span></td><td><span style=white-space:pre-wrap>                   </span></td><td><span style=white-space:pre-wrap>AUB &amp; Bookout 109                 </span></td><td>2</td><td><span style=white-space:pre-wrap>AN21TNTL0176_CKDL210009738-1a-AK5161-AK6675_H5C7LDSX2_L4  </span></td><td>180110944</td><td><span style=white-space:pre-wrap>   0</span></td><td><span style=white-space:pre-wrap>   0</span></td><td><span style=white-space:pre-wrap>   0</span></td><td><span style=white-space:pre-wrap>   0</span></td></tr>\n",
       "\t<tr><th scope=row>34</th><td>AN20TSCR000209</td><td><span style=white-space:pre-wrap>AN21TNTL0177  </span></td><td><span style=white-space:pre-wrap>Anatherum bicorne        </span></td><td><span style=white-space:pre-wrap>AUB &amp; Bookout 110                         </span></td><td>NA</td><td><span style=white-space:pre-wrap>perennial          </span></td><td><span style=white-space:pre-wrap>Anatherum bicorne                    </span></td><td>Andropogon bicornis</td><td><span style=white-space:pre-wrap>AUB &amp; Bookout 110                 </span></td><td>2</td><td><span style=white-space:pre-wrap>AN21TNTL0177_CKDL210009737-1a-AK5155-AK6686_H5C7LDSX2_L3  </span></td><td>265694347</td><td><span style=white-space:pre-wrap>   0</span></td><td><span style=white-space:pre-wrap>   0</span></td><td><span style=white-space:pre-wrap>   0</span></td><td><span style=white-space:pre-wrap>   0</span></td></tr>\n",
       "\t<tr><th scope=row>35</th><td>AN20TSCR000209</td><td><span style=white-space:pre-wrap>AN21TNTL0177  </span></td><td><span style=white-space:pre-wrap>Anatherum bicorne        </span></td><td><span style=white-space:pre-wrap>AUB &amp; Bookout 110                         </span></td><td>NA</td><td><span style=white-space:pre-wrap>perennial          </span></td><td><span style=white-space:pre-wrap>Anatherum bicorne                    </span></td><td>Andropogon bicornis</td><td><span style=white-space:pre-wrap>AUB &amp; Bookout 110                 </span></td><td>1</td><td>AN20TSCR000209_CKDL200169516-1a-AK5155-AK6686_HLTF5DSXY_L4</td><td> 11458190</td><td> 230</td><td><span style=white-space:pre-wrap>   4</span></td><td>3931</td><td>1427</td></tr>\n",
       "\t<tr><th scope=row>36</th><td>AN20TSCR000209</td><td><span style=white-space:pre-wrap>AN20T003      </span></td><td><span style=white-space:pre-wrap>Anatherum bicorne        </span></td><td><span style=white-space:pre-wrap>AUB &amp; Bookout 110                         </span></td><td>NA</td><td><span style=white-space:pre-wrap>perennial          </span></td><td><span style=white-space:pre-wrap>Anatherum bicorne                    </span></td><td>Andropogon bicornis</td><td><span style=white-space:pre-wrap>AUB &amp; Bookout 110                 </span></td><td>2</td><td><span style=white-space:pre-wrap>AN21TNTL0177_CKDL210009737-1a-AK5155-AK6686_H5C7LDSX2_L3  </span></td><td>265694347</td><td><span style=white-space:pre-wrap>   0</span></td><td><span style=white-space:pre-wrap>   0</span></td><td><span style=white-space:pre-wrap>   0</span></td><td><span style=white-space:pre-wrap>   0</span></td></tr>\n",
       "\t<tr><th scope=row>37</th><td>AN20TSCR000209</td><td><span style=white-space:pre-wrap>AN20T003      </span></td><td><span style=white-space:pre-wrap>Anatherum bicorne        </span></td><td><span style=white-space:pre-wrap>AUB &amp; Bookout 110                         </span></td><td>NA</td><td><span style=white-space:pre-wrap>perennial          </span></td><td><span style=white-space:pre-wrap>Anatherum bicorne                    </span></td><td>Andropogon bicornis</td><td><span style=white-space:pre-wrap>AUB &amp; Bookout 110                 </span></td><td>1</td><td>AN20TSCR000209_CKDL200169516-1a-AK5155-AK6686_HLTF5DSXY_L4</td><td> 11458190</td><td> 230</td><td><span style=white-space:pre-wrap>   4</span></td><td>3931</td><td>1427</td></tr>\n",
       "\t<tr><th scope=row>38</th><td>AN20TSCR000210</td><td>AN20TSCR000210</td><td><span style=white-space:pre-wrap>Sorghum arundinaceum     </span></td><td><span style=white-space:pre-wrap>AUB &amp; Bookout 106                         </span></td><td>NA</td><td>annual or perennial</td><td><span style=white-space:pre-wrap>Sorghum arundinaceum                 </span></td><td><span style=white-space:pre-wrap>                   </span></td><td><span style=white-space:pre-wrap>AUB &amp; Bookout 106                 </span></td><td>2</td><td><span style=white-space:pre-wrap>AN21TNTL0178_CKDL210009737-1a-AK5142-AK6697_H5C7LDSX2_L3  </span></td><td>289544310</td><td><span style=white-space:pre-wrap>   0</span></td><td><span style=white-space:pre-wrap>   0</span></td><td><span style=white-space:pre-wrap>   0</span></td><td><span style=white-space:pre-wrap>   0</span></td></tr>\n",
       "\t<tr><th scope=row>39</th><td>AN20TSCR000210</td><td>AN20TSCR000210</td><td><span style=white-space:pre-wrap>Sorghum arundinaceum     </span></td><td><span style=white-space:pre-wrap>AUB &amp; Bookout 106                         </span></td><td>NA</td><td>annual or perennial</td><td><span style=white-space:pre-wrap>Sorghum arundinaceum                 </span></td><td><span style=white-space:pre-wrap>                   </span></td><td><span style=white-space:pre-wrap>AUB &amp; Bookout 106                 </span></td><td>1</td><td>AN20TSCR000210_CKDL200169516-1a-AK5142-AK6697_HLTF5DSXY_L4</td><td> 15154089</td><td> 579</td><td><span style=white-space:pre-wrap>   5</span></td><td>4563</td><td> 445</td></tr>\n",
       "\t<tr><th scope=row>41</th><td>AN20TSCR000212</td><td>AN20TSCR000212</td><td><span style=white-space:pre-wrap>Hyparrhenia rufa         </span></td><td><span style=white-space:pre-wrap>AUB &amp; Bookout 103                         </span></td><td>NA</td><td><span style=white-space:pre-wrap>perennial          </span></td><td><span style=white-space:pre-wrap>Hyparrhenia rufa                     </span></td><td><span style=white-space:pre-wrap>                   </span></td><td><span style=white-space:pre-wrap>AUB &amp; Bookout 103                 </span></td><td>1</td><td>AN20TSCR000212_CKDL200169516-1a-AK5153-AK6718_HLTF5DSXY_L4</td><td>142376442</td><td>3049</td><td> 925</td><td>1613</td><td><span style=white-space:pre-wrap>   5</span></td></tr>\n",
       "\t<tr><th scope=row>42</th><td>AN20TSCR000212</td><td>AN20TSCR000212</td><td><span style=white-space:pre-wrap>Hyparrhenia rufa         </span></td><td><span style=white-space:pre-wrap>AUB &amp; Bookout 103                         </span></td><td>NA</td><td><span style=white-space:pre-wrap>perennial          </span></td><td><span style=white-space:pre-wrap>Hyparrhenia rufa                     </span></td><td><span style=white-space:pre-wrap>                   </span></td><td><span style=white-space:pre-wrap>AUB &amp; Bookout 103                 </span></td><td>2</td><td>AN20TSCR000212_CKDL220009932-1a-AK5153-AK6718_HN325DSX3_L4</td><td>675426444</td><td><span style=white-space:pre-wrap>   0</span></td><td><span style=white-space:pre-wrap>   0</span></td><td><span style=white-space:pre-wrap>   0</span></td><td><span style=white-space:pre-wrap>   0</span></td></tr>\n",
       "\t<tr><th scope=row>48</th><td>AN20TSCR000218</td><td>AN20TSCR000218</td><td>Elionurus citreus        </td><td>AQ0830601                                 </td><td>NA</td><td>perennial          </td><td>Elionurus citreus                    </td><td>                   </td><td>KRM 10955                         </td><td>2</td><td>AN20TSCR000218_CKDL220009932-1a-AK5848-AK5137_HN325DSX3_L4</td><td>683572471</td><td>   0</td><td>   0</td><td>   0</td><td>   0</td></tr>\n",
       "\t<tr><th scope=row>49</th><td>AN20TSCR000218</td><td>AN20TSCR000218</td><td>Elionurus citreus        </td><td>AQ0830601                                 </td><td>NA</td><td>perennial          </td><td>Elionurus citreus                    </td><td>                   </td><td>KRM 10955                         </td><td>1</td><td>AN20TSCR000218_CKDL200169516-1a-AK5848-AK5137_HLTF5DSXY_L4</td><td>242044361</td><td>2755</td><td>1395</td><td>1432</td><td>  10</td></tr>\n",
       "\t<tr><th scope=row>62</th><td>AN21TNTL0074  </td><td>AN21TNTL0074  </td><td>Andropogon gayanus       </td><td>C.C.H. Jongkind 2476_bisquamulatus        </td><td>NA</td><td>perennial          </td><td>Andropogon gayanus var. bisquamulatus</td><td>                   </td><td>C.C.H. Jongkind 2476              </td><td>1</td><td>AN21TNTL0074_CKDL210009738-1a-AK5151-AK6665_H5C7LDSX2_L4  </td><td>190200757</td><td>3401</td><td> 690</td><td>1499</td><td>   2</td></tr>\n",
       "\t<tr><th scope=row>63</th><td>AN21TNTL0074  </td><td>AN21TNTL0074  </td><td>Andropogon gayanus       </td><td>C.C.H. Jongkind 2476_bisquamulatus        </td><td>NA</td><td>perennial          </td><td>Andropogon gayanus var. bisquamulatus</td><td>                   </td><td>C.C.H. Jongkind 2476              </td><td>2</td><td>AN21TNTL0074_CKDL220009932-1a-AK5151-AK6665_HN325DSX3_L4  </td><td>263183552</td><td>   0</td><td>   0</td><td>   0</td><td>   0</td></tr>\n",
       "\t<tr><th scope=row>64</th><td>AN21TNTL0075  </td><td>AN21TNTL0075  </td><td>Anatherum pringlei       </td><td>P.M. Peterson 19125                       </td><td>NA</td><td>perennial          </td><td>Anatherum pringlei                   </td><td>Andropogon pringlei</td><td>P.M. Peterson 19125               </td><td>2</td><td>AN21TNTL0075_CKDL220009932-1a-AK5845-AK6676_HN325DSX3_L4  </td><td>520578585</td><td>   0</td><td>   0</td><td>   0</td><td>   0</td></tr>\n",
       "\t<tr><th scope=row>65</th><td>AN21TNTL0075  </td><td>AN21TNTL0075  </td><td>Anatherum pringlei       </td><td>P.M. Peterson 19125                       </td><td>NA</td><td>perennial          </td><td>Anatherum pringlei                   </td><td>Andropogon pringlei</td><td>P.M. Peterson 19125               </td><td>1</td><td>AN21TNTL0075_CKDL210009737-1a-AK5845-AK6676_H5C7LDSX2_L3  </td><td>287188066</td><td>1636</td><td>2610</td><td>1344</td><td>   2</td></tr>\n",
       "\t<tr><th scope=row>66</th><td>AN21TNTL0076  </td><td>AN21TNTL0076  </td><td>Andropogon campestris    </td><td>Chase 7977                                </td><td>NA</td><td>perennial          </td><td>Andropogon campestris                </td><td>Andropogon camporum</td><td>Chase 7977                        </td><td>1</td><td>AN21TNTL0076_CKDL210009738-1a-AK4639-AK6604_H5C7LDSX2_L4  </td><td> 50776232</td><td>2226</td><td> 199</td><td>3161</td><td>   6</td></tr>\n",
       "\t<tr><th scope=row>67</th><td>AN21TNTL0076  </td><td>AN21TNTL0076  </td><td>Andropogon campestris    </td><td>Chase 7977                                </td><td>NA</td><td>perennial          </td><td>Andropogon campestris                </td><td>Andropogon camporum</td><td>Chase 7977                        </td><td>2</td><td>AN21TNTL0076_CKDL220009932-1a-AK4639-AK6604_HN325DSX3_L4  </td><td> 40719603</td><td>   0</td><td>   0</td><td>   0</td><td>   0</td></tr>\n",
       "\t<tr><th scope=row>69</th><td>AN21TNTL0079  </td><td>AN21TNTL0079  </td><td>Bothriochloa imperatoides</td><td>A.A. Beetle 1291 (seed collected by Gould)</td><td>NA</td><td>perennial          </td><td>Bothriochloa imperatoides            </td><td>                   </td><td>A.A. Beetle 1291                  </td><td>1</td><td>AN21TNTL0079_CKDL210009737-1a-AK4944-AK6719_H5C7LDSX2_L3  </td><td>120424959</td><td>2438</td><td>1344</td><td>1809</td><td>   1</td></tr>\n",
       "\t<tr><th scope=row>70</th><td>AN21TNTL0079  </td><td>AN21TNTL0079  </td><td>Bothriochloa imperatoides</td><td>A.A. Beetle 1291 (seed collected by Gould)</td><td>NA</td><td>perennial          </td><td>Bothriochloa imperatoides            </td><td>                   </td><td>A.A. Beetle 1291                  </td><td>2</td><td>AN21TNTL0079_CKDL220009932-1a-AK4944-AK6719_HN325DSX3_L4  </td><td>170777757</td><td>   0</td><td>   0</td><td>   0</td><td>   0</td></tr>\n",
       "\t<tr><th scope=row>73</th><td>AN21TNTL0083  </td><td>AN21TNTL0083  </td><td>Bothriochloa torreyana   </td><td>Lyonnet 451000020                         </td><td>NA</td><td>perennial          </td><td>Bothriochloa torreyana               </td><td>                   </td><td>Lyonnet 451000020                 </td><td>1</td><td>AN21TNTL0083_CKDL210009737-1a-AK6511-AK6677_H5C7LDSX2_L3  </td><td>137646857</td><td>   0</td><td>   0</td><td>   0</td><td>   0</td></tr>\n",
       "\t<tr><th scope=row>74</th><td>AN21TNTL0083  </td><td>AN21TNTL0083  </td><td>Bothriochloa torreyana   </td><td>Lyonnet 451000020                         </td><td>NA</td><td>perennial          </td><td>Bothriochloa torreyana               </td><td>                   </td><td>Lyonnet 451000020                 </td><td>2</td><td>AN21TNTL0083_CKDL220009932-1a-AK6511-AK6677_HN325DSX3_L4  </td><td>234334668</td><td>   0</td><td>   0</td><td>   0</td><td>   0</td></tr>\n",
       "\t<tr><th scope=row>79</th><td>AN21TNTL0091  </td><td>AN21TNTL0091  </td><td>Sorghastrum fuscescens   </td><td>Pasquet 1241                              </td><td>NA</td><td>perennial          </td><td>Sorghastrum fuscescens               </td><td>                   </td><td>Pasquet 1241                      </td><td>2</td><td>AN21TNTL0091_CKDL220009932-1a-AK5158-AK6684_HN325DSX3_L4  </td><td>159071864</td><td>   0</td><td>   0</td><td>   0</td><td>   0</td></tr>\n",
       "\t<tr><th scope=row>80</th><td>AN21TNTL0091  </td><td>AN21TNTL0091  </td><td>Sorghastrum fuscescens   </td><td>Pasquet 1241                              </td><td>NA</td><td>perennial          </td><td>Sorghastrum fuscescens               </td><td>                   </td><td>Pasquet 1241                      </td><td>1</td><td>AN21TNTL0091_CKDL210009736-1a-AK5158-AK6684_H5C7LDSX2_L2  </td><td>302477209</td><td>1642</td><td>2577</td><td>1369</td><td>   4</td></tr>\n",
       "\t<tr><th scope=row>82</th><td>AN21TNTL0093  </td><td>AN21TNTL0093  </td><td>Eulalia monostachya      </td><td>Traiperm et al 588                        </td><td>NA</td><td>perennial          </td><td>Eulalia monostachya                  </td><td>                   </td><td>Traiperm et al 588                </td><td>1</td><td>AN21TNTL0093_CKDL210009736-1a-AK5999-AK6705_H5C7LDSX2_L2  </td><td>356474200</td><td>1895</td><td>1972</td><td>1724</td><td>   1</td></tr>\n",
       "\t<tr><th scope=row>83</th><td>AN21TNTL0093  </td><td>AN21TNTL0093  </td><td>Eulalia monostachya      </td><td>Traiperm et al 588                        </td><td>NA</td><td>perennial          </td><td>Eulalia monostachya                  </td><td>                   </td><td>Traiperm et al 588                </td><td>2</td><td>AN21TNTL0093_CKDL220009932-1a-AK5999-AK6705_HN325DSX3_L4  </td><td>160668736</td><td>   0</td><td>   0</td><td>   0</td><td>   0</td></tr>\n",
       "\t<tr><th scope=row>90</th><td>AN21TNTL0100  </td><td>AN21TNTL0100  </td><td>Dimeria chloridiformis   </td><td>W.D. Clayton; A. Weerasooriya 6179        </td><td>NA</td><td>perennial          </td><td>Dimeria chloridiformis               </td><td>Dimeria fuscescens </td><td>W.D. Clayton, A. Weerasooriya 6179</td><td>1</td><td>AN21TNTL0100_CKDL210009736-1a-AK5143-AK6694_H5C7LDSX2_L2  </td><td>112568400</td><td>1846</td><td>2049</td><td>1695</td><td>   2</td></tr>\n",
       "\t<tr><th scope=row>91</th><td>AN21TNTL0100  </td><td>AN21TNTL0100  </td><td>Dimeria chloridiformis   </td><td>W.D. Clayton; A. Weerasooriya 6179        </td><td>NA</td><td>perennial          </td><td>Dimeria chloridiformis               </td><td>Dimeria fuscescens </td><td>W.D. Clayton, A. Weerasooriya 6179</td><td>2</td><td>AN21TNTL0100_CKDL220009932-1a-AK5143-AK6694_HN325DSX3_L4  </td><td>372422076</td><td>   0</td><td>   0</td><td>   0</td><td>   0</td></tr>\n",
       "\t<tr><th scope=row>⋮</th><td>⋮</td><td>⋮</td><td>⋮</td><td>⋮</td><td>⋮</td><td>⋮</td><td>⋮</td><td>⋮</td><td>⋮</td><td>⋮</td><td>⋮</td><td>⋮</td><td>⋮</td><td>⋮</td><td>⋮</td><td>⋮</td></tr>\n",
       "\t<tr><th scope=row>331</th><td>AN21TSTL0242   </td><td>AN21TSTL0242   </td><td>Anatherum arenarium     </td><td>GA Norrmann 139    </td><td>NA</td><td>perennial</td><td>Anatherum arenarium     </td><td>Andropogon arenarius  </td><td>GA Norrmann 139      </td><td>1</td><td>AN21TSTL0242_CKDL210011696-1a-AK6540-AK6731_HC5FKDSX2_L2   </td><td>176000000</td><td>2432</td><td>1320</td><td>1839</td><td>1</td></tr>\n",
       "\t<tr><th scope=row>332</th><td>AN21TSTL0242   </td><td>AN21TSTL0242   </td><td>Anatherum arenarium     </td><td>GA Norrmann 139    </td><td>NA</td><td>perennial</td><td>Anatherum arenarium     </td><td>Andropogon arenarius  </td><td>GA Norrmann 139      </td><td>2</td><td>AN21TSTL0242_CKDL220009931-1a-AK6540-AK6731_HN37MDSX3_L2   </td><td> 93505306</td><td>   0</td><td>   0</td><td>   0</td><td>0</td></tr>\n",
       "\t<tr><th scope=row>337</th><td>AN21TSTL0247   </td><td>AN21TSTL0247   </td><td>Andropogon hallii       </td><td>PI 674828          </td><td>NA</td><td>perennial</td><td>Andropogon hallii       </td><td>                      </td><td>PI 674828            </td><td>1</td><td>AN21TSTL0247_CKDL210011696-1a-AK6526-AK2651_HC5FKDSX2_L2   </td><td>198000000</td><td>1727</td><td>1426</td><td>2437</td><td>2</td></tr>\n",
       "\t<tr><th scope=row>338</th><td>AN21TSTL0247   </td><td>AN21TSTL0247   </td><td>Andropogon hallii       </td><td>PI 674828          </td><td>NA</td><td>perennial</td><td>Andropogon hallii       </td><td>                      </td><td>PI 674828            </td><td>2</td><td>AN21TSTL0247_CKDL220009931-1a-AK6526-AK2651_HN37MDSX3_L2   </td><td>183991763</td><td>   0</td><td>   0</td><td>   0</td><td>0</td></tr>\n",
       "\t<tr><th scope=row>342</th><td>AN21TSTL0252   </td><td>AN21TSTL0252   </td><td>Tripsacum andersonii    </td><td>MIA 34444          </td><td>NA</td><td>perennial</td><td>Tripsacum andersonii    </td><td>                      </td><td>MIA 34444            </td><td>1</td><td>AN21TSTL0252_CKDL210011696-1a-AK6509-AK6669_HC5FKDSX2_L2   </td><td>180000000</td><td>1695</td><td>1303</td><td>2594</td><td>0</td></tr>\n",
       "\t<tr><th scope=row>343</th><td>AN21TSTL0252   </td><td>AN21TSTL0252   </td><td>Tripsacum andersonii    </td><td>MIA 34444          </td><td>NA</td><td>perennial</td><td>Tripsacum andersonii    </td><td>                      </td><td>MIA 34444            </td><td>2</td><td>AN21TSTL0252_CKDL220009931-1a-AK6509-AK6669_HN37MDSX3_L2   </td><td>219821503</td><td>   0</td><td>   0</td><td>   0</td><td>0</td></tr>\n",
       "\t<tr><th scope=row>359</th><td>AN21TSTL0272   </td><td>AN21TSTL0272   </td><td>Cymbopogon distans      </td><td>PI 653752          </td><td>NA</td><td>perennial</td><td>Cymbopogon distans      </td><td>                      </td><td>PI 653752            </td><td>1</td><td>AN21TSTL0272_CKDL210011693-1a-AK5140-AK242_HC3LJDSX2_L2    </td><td>214000000</td><td>2043</td><td>2205</td><td>1342</td><td>2</td></tr>\n",
       "\t<tr><th scope=row>360</th><td>AN21TSTL0272   </td><td>AN21TSTL0272   </td><td>Cymbopogon distans      </td><td>PI 653752          </td><td>NA</td><td>perennial</td><td>Cymbopogon distans      </td><td>                      </td><td>PI 653752            </td><td>2</td><td>AN21TSTL0272_CKDL220009931-1a-AK5140-AK242_HN37MDSX3_L2    </td><td>422897579</td><td>   0</td><td>   0</td><td>   0</td><td>0</td></tr>\n",
       "\t<tr><th scope=row>368</th><td>AN21TSTL0280   </td><td>AN21TSTL0280   </td><td>Bothriochloa hybrida    </td><td>PI 321437          </td><td>NA</td><td>perennial</td><td>Bothriochloa hybrida    </td><td>                      </td><td>PI 321437            </td><td>1</td><td>AN21TSTL0280_CKDL210011693-1a-AK4937-AK6664_HC3LJDSX2_L2   </td><td>231000000</td><td>1638</td><td>1987</td><td>1966</td><td>1</td></tr>\n",
       "\t<tr><th scope=row>369</th><td>AN21TSTL0280   </td><td>AN21TSTL0280   </td><td>Bothriochloa hybrida    </td><td>PI 321437          </td><td>NA</td><td>perennial</td><td>Bothriochloa hybrida    </td><td>                      </td><td>PI 321437            </td><td>2</td><td>AN21TSTL0280_CKDL220009931-1a-AK4937-AK6664_HN37MDSX3_L2   </td><td>278992174</td><td>   0</td><td>   0</td><td>   0</td><td>0</td></tr>\n",
       "\t<tr><th scope=row>441</th><td>AT20TN1MCRTL026</td><td>AT20TN1MCRTL026</td><td>Hyparrhenia bracteata   </td><td>MSV 1664           </td><td>NA</td><td>perennial</td><td>Hyparrhenia bracteata   </td><td>                      </td><td>Vorontsova, M.S. 1664</td><td>2</td><td>AT20TN1MCRTL026_CKDL220009932-1a-AK5455-AK6685_HN325DSX3_L4</td><td> 88423379</td><td>   0</td><td>   0</td><td>   0</td><td>0</td></tr>\n",
       "\t<tr><th scope=row>442</th><td>AT20TN1MCRTL026</td><td>AT20TN1MCRTL026</td><td>Hyparrhenia bracteata   </td><td>MSV 1664           </td><td>NA</td><td>perennial</td><td>Hyparrhenia bracteata   </td><td>                      </td><td>Vorontsova, M.S. 1664</td><td>1</td><td>MCRTL026_CKDL200164855-1B-AK5455-AK6685_HMJV7DSXY_L3       </td><td>367208078</td><td>2601</td><td>1406</td><td>1581</td><td>4</td></tr>\n",
       "\t<tr><th scope=row>445</th><td>AT20TN1MCRTL029</td><td>AT20TN1MCRTL029</td><td>Hyparrhenia madaropoda  </td><td>Reekmans 6922      </td><td>NA</td><td>annual   </td><td>Hyparrhenia madaropoda  </td><td>                      </td><td>Reekmans 6922        </td><td>1</td><td>MCRTL029_CKDL200164855-1B-AK5155-AK6686_HMJV7DSXY_L3       </td><td>278062251</td><td>2650</td><td>1397</td><td>1541</td><td>4</td></tr>\n",
       "\t<tr><th scope=row>446</th><td>AT20TN1MCRTL029</td><td>AT20TN1MCRTL029</td><td>Hyparrhenia madaropoda  </td><td>Reekmans 6922      </td><td>NA</td><td>annual   </td><td>Hyparrhenia madaropoda  </td><td>                      </td><td>Reekmans 6922        </td><td>2</td><td>AT20TN1MCRTL029_CKDL220009932-1a-AK5155-AK6686_HN325DSX3_L4</td><td> 85926726</td><td>   0</td><td>   0</td><td>   0</td><td>0</td></tr>\n",
       "\t<tr><th scope=row>451</th><td>AT20TN1MCRTL034</td><td>AT20TN1MCRTL034</td><td>Schizachyrium sanguineum</td><td>Liz Makings 3834   </td><td>NA</td><td>perennial</td><td>Schizachyrium sanguineum</td><td>                      </td><td>Liz Makings 3834     </td><td>2</td><td>AT20TN1MCRTL034_CKDL220009932-1a-AK6517-AK6687_HN325DSX3_L4</td><td>144910803</td><td>   0</td><td>   0</td><td>   0</td><td>0</td></tr>\n",
       "\t<tr><th scope=row>452</th><td>AT20TN1MCRTL034</td><td>AT20TN1MCRTL034</td><td>Schizachyrium sanguineum</td><td>Liz Makings 3834   </td><td>NA</td><td>perennial</td><td>Schizachyrium sanguineum</td><td>                      </td><td>Liz Makings 3834     </td><td>1</td><td>MCRTL034_CKDL200164855-1B-AK6517-AK6687_HMJV7DSXY_L3       </td><td>204564209</td><td>1149</td><td>2105</td><td>2336</td><td>2</td></tr>\n",
       "\t<tr><th scope=row>456</th><td>AT20TN1MCRTL038</td><td>AT20TN1MCRTL038</td><td>Schizachyrium reedii    </td><td>E.L. Ekman 17186   </td><td>NA</td><td>perennial</td><td>Schizachyrium reedii    </td><td>Andropogon reedii     </td><td>E.L. Ekman 17186     </td><td>1</td><td>MCRTL038_CKDL200164855-1B-AK6524-AK6699_HMJV7DSXY_L3       </td><td>203239240</td><td>1249</td><td>1794</td><td>2548</td><td>1</td></tr>\n",
       "\t<tr><th scope=row>457</th><td>AT20TN1MCRTL038</td><td>AT20TN1MCRTL038</td><td>Schizachyrium reedii    </td><td>E.L. Ekman 17186   </td><td>NA</td><td>perennial</td><td>Schizachyrium reedii    </td><td>Andropogon reedii     </td><td>E.L. Ekman 17186     </td><td>2</td><td>AT20TN1MCRTL038_CKDL220009932-1a-AK6524-AK6699_HN325DSX3_L4</td><td>144195504</td><td>   0</td><td>   0</td><td>   0</td><td>0</td></tr>\n",
       "\t<tr><th scope=row>465</th><td>AT20TN1MCRTL046</td><td>AT20TN1MCRTL046</td><td>Andropogon kelleri      </td><td>C.F. Hemming 2168  </td><td>NA</td><td>perennial</td><td>Andropogon kelleri      </td><td>                      </td><td>C.F. Hemming 2168    </td><td>1</td><td>MCRTL046_CKDL200164855-1B-AK6529-AK6708_HMJV7DSXY_L3       </td><td> 62807389</td><td>3483</td><td>  85</td><td>2020</td><td>4</td></tr>\n",
       "\t<tr><th scope=row>466</th><td>AT20TN1MCRTL046</td><td>AT20TN1MCRTL046</td><td>Andropogon kelleri      </td><td>C.F. Hemming 2168  </td><td>NA</td><td>perennial</td><td>Andropogon kelleri      </td><td>                      </td><td>C.F. Hemming 2168    </td><td>2</td><td>AT20TN1MCRTL046_CKDL220009932-1a-AK6529-AK6708_HN325DSX3_L4</td><td> 74670545</td><td>   0</td><td>   0</td><td>   0</td><td>0</td></tr>\n",
       "\t<tr><th scope=row>468</th><td>AT20TN1MCRTL048</td><td>AT20TN1MCRTL048</td><td>Schizachyrium cirratum  </td><td>Tellez V. 11596    </td><td>NA</td><td>perennial</td><td>Schizachyrium cirratum  </td><td>                      </td><td>Tellez V. 11596      </td><td>1</td><td>MCRTL048_CKDL200164856-1B-AK6526-AK2651_HMJV7DSXY_L4       </td><td>179213267</td><td>1904</td><td>1939</td><td>1747</td><td>2</td></tr>\n",
       "\t<tr><th scope=row>469</th><td>AT20TN1MCRTL048</td><td>AT20TN1MCRTL048</td><td>Schizachyrium cirratum  </td><td>Tellez V. 11596    </td><td>NA</td><td>perennial</td><td>Schizachyrium cirratum  </td><td>                      </td><td>Tellez V. 11596      </td><td>2</td><td>AT20TN1MCRTL048_CKDL220009932-1a-AK6526-AK2651_HN325DSX3_L4</td><td> 60666738</td><td>   0</td><td>   0</td><td>   0</td><td>0</td></tr>\n",
       "\t<tr><th scope=row>477</th><td>AT20TN1MCRTL056</td><td>AT20TN1MCRTL056</td><td>Hyparrhenia schimperi   </td><td>K.E. Bennett 283138</td><td>NA</td><td>perennial</td><td>Hyparrhenia schimperi   </td><td>                      </td><td>K.E. Bennett 283138  </td><td>2</td><td>AT20TN1MCRTL056_CKDL220009932-1a-AK6533-AK6713_HN325DSX3_L4</td><td> 57939336</td><td>   0</td><td>   0</td><td>   0</td><td>0</td></tr>\n",
       "\t<tr><th scope=row>478</th><td>AT20TN1MCRTL056</td><td>AT20TN1MCRTL056</td><td>Hyparrhenia schimperi   </td><td>K.E. Bennett 283138</td><td>NA</td><td>perennial</td><td>Hyparrhenia schimperi   </td><td>                      </td><td>K.E. Bennett 283138  </td><td>1</td><td>MCRTL056_CKDL200164856-1B-AK6533-AK6713_HMJV7DSXY_L4       </td><td>218940405</td><td>2425</td><td>1497</td><td>1666</td><td>4</td></tr>\n",
       "\t<tr><th scope=row>492</th><td>AT20TN1MCRTL070</td><td>AT20TN1MCRTL070</td><td>Hyparrhenia figariana   </td><td>M. Reekmans 11042  </td><td>NA</td><td>annual   </td><td>Hyparrhenia figariana   </td><td>                      </td><td>M. Reekmans 11042    </td><td>2</td><td>AT20TN1MCRTL070_CKDL220009932-1a-AK5147-AK6695_HN325DSX3_L4</td><td> 38421075</td><td>   0</td><td>   0</td><td>   0</td><td>0</td></tr>\n",
       "\t<tr><th scope=row>493</th><td>AT20TN1MCRTL070</td><td>AT20TN1MCRTL070</td><td>Hyparrhenia figariana   </td><td>M. Reekmans 11042  </td><td>NA</td><td>annual   </td><td>Hyparrhenia figariana   </td><td>                      </td><td>M. Reekmans 11042    </td><td>1</td><td>MCRTL070_CKDL200164856-1B-AK5147-AK6695_HMJV7DSXY_L4       </td><td>180051649</td><td>2727</td><td>1222</td><td>1638</td><td>5</td></tr>\n",
       "\t<tr><th scope=row>497</th><td>AT20TS1MCRTL004</td><td>AT20TS1MCRTL004</td><td>Eremopogon foveolatum   </td><td>Kellogg PI 302076  </td><td>NA</td><td>perennial</td><td>Eremopogon foveolatus   </td><td>Dichanthium foveolatum</td><td>Kellogg PI 302076    </td><td>2</td><td>AT20TS1MCRTL004_CKDL220009931-1a-AK6501-AK6655_HN37MDSX3_L2</td><td>437712642</td><td>   0</td><td>   0</td><td>   0</td><td>0</td></tr>\n",
       "\t<tr><th scope=row>498</th><td>AT20TS1MCRTL004</td><td>AT20TS1MCRTL004</td><td>Eremopogon foveolatum   </td><td>Kellogg PI 302076  </td><td>NA</td><td>perennial</td><td>Eremopogon foveolatus   </td><td>Dichanthium foveolatum</td><td>Kellogg PI 302076    </td><td>1</td><td>MCRTL004_CKDL200164854-1a-AK6501-AK6655_HMGJWDSXY_L4       </td><td>235987122</td><td>2721</td><td>1028</td><td>1837</td><td>6</td></tr>\n",
       "\t<tr><th scope=row>506</th><td>AT20TS1MCRTL012</td><td>AT20TS1MCRTL012</td><td>Zea nicaraguensis       </td><td>MOBOT              </td><td>NA</td><td>annual   </td><td>Zea nicaraguensis       </td><td>                      </td><td>MOBOT NO DATA        </td><td>2</td><td>AT20TS1MCRTL012_CKDL220009931-1a-AK4940-AK6663_HN37MDSX3_L2</td><td>104832276</td><td>   0</td><td>   0</td><td>   0</td><td>0</td></tr>\n",
       "\t<tr><th scope=row>507</th><td>AT20TS1MCRTL012</td><td>AT20TS1MCRTL012</td><td>Zea nicaraguensis       </td><td>MOBOT              </td><td>NA</td><td>annual   </td><td>Zea nicaraguensis       </td><td>                      </td><td>MOBOT NO DATA        </td><td>1</td><td>MCRTL012_CKDL200164854-1a-AK4940-AK6663_HMGJWDSXY_L4       </td><td>197643103</td><td>2652</td><td> 713</td><td>2225</td><td>2</td></tr>\n",
       "</tbody>\n",
       "</table>\n"
      ],
      "text/latex": [
       "A data.frame: 104 × 16\n",
       "\\begin{tabular}{r|llllllllllllllll}\n",
       "  & tracker\\_sample\\_name & assemblyID & correctSpecies & CorrectEcotype & altName & lifeHistory & tracker\\_organism & alternative\\_names & ecotype & run\\_id & file & total\\_reads & tabasco\\_complete & tabasco\\_duplicated & tabasco\\_fraged & tabasco\\_missing\\\\\n",
       "  & <chr> & <chr> & <chr> & <chr> & <chr> & <chr> & <chr> & <chr> & <chr> & <int> & <chr> & <int> & <int> & <int> & <int> & <int>\\\\\n",
       "\\hline\n",
       "\t22 & AN20TSCR000199 & AN20TSCR000199 & Bothriochloa pertusa      & AUB \\& Bookout 104                          & NA & perennial           & Bothriochloa pertusa                  &                     & AUB \\& Bookout 104                  & 1 & AN20TSCR000199\\_CKDL200169515-1a-AK5395-AK5927\\_HLTF5DSXY\\_L3 & 240215178 & 2238 & 1980 & 1373 &    1\\\\\n",
       "\t23 & AN20TSCR000199 & AN20TSCR000199 & Bothriochloa pertusa      & AUB \\& Bookout 104                          & NA & perennial           & Bothriochloa pertusa                  &                     & AUB \\& Bookout 104                  & 2 & AN20TSCR000199\\_CKDL220009932-1a-AK5395-AK5927\\_HN325DSX3\\_L4 & 192076561 &    0 &    0 &    0 &    0\\\\\n",
       "\t32 & AN20TSCR000208 & AN20TSCR000208 & Eriochrysis cayennensis   & AUB \\& Bookout 109                          & NA & perennial           & Eriochrysis cayennensis               &                     & AUB \\& Bookout 109                  & 1 & AN20TSCR000208\\_CKDL200169516-1a-AK5161-AK6675\\_HLTF5DSXY\\_L4 &  41590125 & 2579 &   33 & 2955 &   25\\\\\n",
       "\t33 & AN20TSCR000208 & AN20TSCR000208 & Eriochrysis cayennensis   & AUB \\& Bookout 109                          & NA & perennial           & Eriochrysis cayennensis               &                     & AUB \\& Bookout 109                  & 2 & AN21TNTL0176\\_CKDL210009738-1a-AK5161-AK6675\\_H5C7LDSX2\\_L4   & 180110944 &    0 &    0 &    0 &    0\\\\\n",
       "\t34 & AN20TSCR000209 & AN21TNTL0177   & Anatherum bicorne         & AUB \\& Bookout 110                          & NA & perennial           & Anatherum bicorne                     & Andropogon bicornis & AUB \\& Bookout 110                  & 2 & AN21TNTL0177\\_CKDL210009737-1a-AK5155-AK6686\\_H5C7LDSX2\\_L3   & 265694347 &    0 &    0 &    0 &    0\\\\\n",
       "\t35 & AN20TSCR000209 & AN21TNTL0177   & Anatherum bicorne         & AUB \\& Bookout 110                          & NA & perennial           & Anatherum bicorne                     & Andropogon bicornis & AUB \\& Bookout 110                  & 1 & AN20TSCR000209\\_CKDL200169516-1a-AK5155-AK6686\\_HLTF5DSXY\\_L4 &  11458190 &  230 &    4 & 3931 & 1427\\\\\n",
       "\t36 & AN20TSCR000209 & AN20T003       & Anatherum bicorne         & AUB \\& Bookout 110                          & NA & perennial           & Anatherum bicorne                     & Andropogon bicornis & AUB \\& Bookout 110                  & 2 & AN21TNTL0177\\_CKDL210009737-1a-AK5155-AK6686\\_H5C7LDSX2\\_L3   & 265694347 &    0 &    0 &    0 &    0\\\\\n",
       "\t37 & AN20TSCR000209 & AN20T003       & Anatherum bicorne         & AUB \\& Bookout 110                          & NA & perennial           & Anatherum bicorne                     & Andropogon bicornis & AUB \\& Bookout 110                  & 1 & AN20TSCR000209\\_CKDL200169516-1a-AK5155-AK6686\\_HLTF5DSXY\\_L4 &  11458190 &  230 &    4 & 3931 & 1427\\\\\n",
       "\t38 & AN20TSCR000210 & AN20TSCR000210 & Sorghum arundinaceum      & AUB \\& Bookout 106                          & NA & annual or perennial & Sorghum arundinaceum                  &                     & AUB \\& Bookout 106                  & 2 & AN21TNTL0178\\_CKDL210009737-1a-AK5142-AK6697\\_H5C7LDSX2\\_L3   & 289544310 &    0 &    0 &    0 &    0\\\\\n",
       "\t39 & AN20TSCR000210 & AN20TSCR000210 & Sorghum arundinaceum      & AUB \\& Bookout 106                          & NA & annual or perennial & Sorghum arundinaceum                  &                     & AUB \\& Bookout 106                  & 1 & AN20TSCR000210\\_CKDL200169516-1a-AK5142-AK6697\\_HLTF5DSXY\\_L4 &  15154089 &  579 &    5 & 4563 &  445\\\\\n",
       "\t41 & AN20TSCR000212 & AN20TSCR000212 & Hyparrhenia rufa          & AUB \\& Bookout 103                          & NA & perennial           & Hyparrhenia rufa                      &                     & AUB \\& Bookout 103                  & 1 & AN20TSCR000212\\_CKDL200169516-1a-AK5153-AK6718\\_HLTF5DSXY\\_L4 & 142376442 & 3049 &  925 & 1613 &    5\\\\\n",
       "\t42 & AN20TSCR000212 & AN20TSCR000212 & Hyparrhenia rufa          & AUB \\& Bookout 103                          & NA & perennial           & Hyparrhenia rufa                      &                     & AUB \\& Bookout 103                  & 2 & AN20TSCR000212\\_CKDL220009932-1a-AK5153-AK6718\\_HN325DSX3\\_L4 & 675426444 &    0 &    0 &    0 &    0\\\\\n",
       "\t48 & AN20TSCR000218 & AN20TSCR000218 & Elionurus citreus         & AQ0830601                                  & NA & perennial           & Elionurus citreus                     &                     & KRM 10955                          & 2 & AN20TSCR000218\\_CKDL220009932-1a-AK5848-AK5137\\_HN325DSX3\\_L4 & 683572471 &    0 &    0 &    0 &    0\\\\\n",
       "\t49 & AN20TSCR000218 & AN20TSCR000218 & Elionurus citreus         & AQ0830601                                  & NA & perennial           & Elionurus citreus                     &                     & KRM 10955                          & 1 & AN20TSCR000218\\_CKDL200169516-1a-AK5848-AK5137\\_HLTF5DSXY\\_L4 & 242044361 & 2755 & 1395 & 1432 &   10\\\\\n",
       "\t62 & AN21TNTL0074   & AN21TNTL0074   & Andropogon gayanus        & C.C.H. Jongkind 2476\\_bisquamulatus         & NA & perennial           & Andropogon gayanus var. bisquamulatus &                     & C.C.H. Jongkind 2476               & 1 & AN21TNTL0074\\_CKDL210009738-1a-AK5151-AK6665\\_H5C7LDSX2\\_L4   & 190200757 & 3401 &  690 & 1499 &    2\\\\\n",
       "\t63 & AN21TNTL0074   & AN21TNTL0074   & Andropogon gayanus        & C.C.H. Jongkind 2476\\_bisquamulatus         & NA & perennial           & Andropogon gayanus var. bisquamulatus &                     & C.C.H. Jongkind 2476               & 2 & AN21TNTL0074\\_CKDL220009932-1a-AK5151-AK6665\\_HN325DSX3\\_L4   & 263183552 &    0 &    0 &    0 &    0\\\\\n",
       "\t64 & AN21TNTL0075   & AN21TNTL0075   & Anatherum pringlei        & P.M. Peterson 19125                        & NA & perennial           & Anatherum pringlei                    & Andropogon pringlei & P.M. Peterson 19125                & 2 & AN21TNTL0075\\_CKDL220009932-1a-AK5845-AK6676\\_HN325DSX3\\_L4   & 520578585 &    0 &    0 &    0 &    0\\\\\n",
       "\t65 & AN21TNTL0075   & AN21TNTL0075   & Anatherum pringlei        & P.M. Peterson 19125                        & NA & perennial           & Anatherum pringlei                    & Andropogon pringlei & P.M. Peterson 19125                & 1 & AN21TNTL0075\\_CKDL210009737-1a-AK5845-AK6676\\_H5C7LDSX2\\_L3   & 287188066 & 1636 & 2610 & 1344 &    2\\\\\n",
       "\t66 & AN21TNTL0076   & AN21TNTL0076   & Andropogon campestris     & Chase 7977                                 & NA & perennial           & Andropogon campestris                 & Andropogon camporum & Chase 7977                         & 1 & AN21TNTL0076\\_CKDL210009738-1a-AK4639-AK6604\\_H5C7LDSX2\\_L4   &  50776232 & 2226 &  199 & 3161 &    6\\\\\n",
       "\t67 & AN21TNTL0076   & AN21TNTL0076   & Andropogon campestris     & Chase 7977                                 & NA & perennial           & Andropogon campestris                 & Andropogon camporum & Chase 7977                         & 2 & AN21TNTL0076\\_CKDL220009932-1a-AK4639-AK6604\\_HN325DSX3\\_L4   &  40719603 &    0 &    0 &    0 &    0\\\\\n",
       "\t69 & AN21TNTL0079   & AN21TNTL0079   & Bothriochloa imperatoides & A.A. Beetle 1291 (seed collected by Gould) & NA & perennial           & Bothriochloa imperatoides             &                     & A.A. Beetle 1291                   & 1 & AN21TNTL0079\\_CKDL210009737-1a-AK4944-AK6719\\_H5C7LDSX2\\_L3   & 120424959 & 2438 & 1344 & 1809 &    1\\\\\n",
       "\t70 & AN21TNTL0079   & AN21TNTL0079   & Bothriochloa imperatoides & A.A. Beetle 1291 (seed collected by Gould) & NA & perennial           & Bothriochloa imperatoides             &                     & A.A. Beetle 1291                   & 2 & AN21TNTL0079\\_CKDL220009932-1a-AK4944-AK6719\\_HN325DSX3\\_L4   & 170777757 &    0 &    0 &    0 &    0\\\\\n",
       "\t73 & AN21TNTL0083   & AN21TNTL0083   & Bothriochloa torreyana    & Lyonnet 451000020                          & NA & perennial           & Bothriochloa torreyana                &                     & Lyonnet 451000020                  & 1 & AN21TNTL0083\\_CKDL210009737-1a-AK6511-AK6677\\_H5C7LDSX2\\_L3   & 137646857 &    0 &    0 &    0 &    0\\\\\n",
       "\t74 & AN21TNTL0083   & AN21TNTL0083   & Bothriochloa torreyana    & Lyonnet 451000020                          & NA & perennial           & Bothriochloa torreyana                &                     & Lyonnet 451000020                  & 2 & AN21TNTL0083\\_CKDL220009932-1a-AK6511-AK6677\\_HN325DSX3\\_L4   & 234334668 &    0 &    0 &    0 &    0\\\\\n",
       "\t79 & AN21TNTL0091   & AN21TNTL0091   & Sorghastrum fuscescens    & Pasquet 1241                               & NA & perennial           & Sorghastrum fuscescens                &                     & Pasquet 1241                       & 2 & AN21TNTL0091\\_CKDL220009932-1a-AK5158-AK6684\\_HN325DSX3\\_L4   & 159071864 &    0 &    0 &    0 &    0\\\\\n",
       "\t80 & AN21TNTL0091   & AN21TNTL0091   & Sorghastrum fuscescens    & Pasquet 1241                               & NA & perennial           & Sorghastrum fuscescens                &                     & Pasquet 1241                       & 1 & AN21TNTL0091\\_CKDL210009736-1a-AK5158-AK6684\\_H5C7LDSX2\\_L2   & 302477209 & 1642 & 2577 & 1369 &    4\\\\\n",
       "\t82 & AN21TNTL0093   & AN21TNTL0093   & Eulalia monostachya       & Traiperm et al 588                         & NA & perennial           & Eulalia monostachya                   &                     & Traiperm et al 588                 & 1 & AN21TNTL0093\\_CKDL210009736-1a-AK5999-AK6705\\_H5C7LDSX2\\_L2   & 356474200 & 1895 & 1972 & 1724 &    1\\\\\n",
       "\t83 & AN21TNTL0093   & AN21TNTL0093   & Eulalia monostachya       & Traiperm et al 588                         & NA & perennial           & Eulalia monostachya                   &                     & Traiperm et al 588                 & 2 & AN21TNTL0093\\_CKDL220009932-1a-AK5999-AK6705\\_HN325DSX3\\_L4   & 160668736 &    0 &    0 &    0 &    0\\\\\n",
       "\t90 & AN21TNTL0100   & AN21TNTL0100   & Dimeria chloridiformis    & W.D. Clayton; A. Weerasooriya 6179         & NA & perennial           & Dimeria chloridiformis                & Dimeria fuscescens  & W.D. Clayton, A. Weerasooriya 6179 & 1 & AN21TNTL0100\\_CKDL210009736-1a-AK5143-AK6694\\_H5C7LDSX2\\_L2   & 112568400 & 1846 & 2049 & 1695 &    2\\\\\n",
       "\t91 & AN21TNTL0100   & AN21TNTL0100   & Dimeria chloridiformis    & W.D. Clayton; A. Weerasooriya 6179         & NA & perennial           & Dimeria chloridiformis                & Dimeria fuscescens  & W.D. Clayton, A. Weerasooriya 6179 & 2 & AN21TNTL0100\\_CKDL220009932-1a-AK5143-AK6694\\_HN325DSX3\\_L4   & 372422076 &    0 &    0 &    0 &    0\\\\\n",
       "\t⋮ & ⋮ & ⋮ & ⋮ & ⋮ & ⋮ & ⋮ & ⋮ & ⋮ & ⋮ & ⋮ & ⋮ & ⋮ & ⋮ & ⋮ & ⋮ & ⋮\\\\\n",
       "\t331 & AN21TSTL0242    & AN21TSTL0242    & Anatherum arenarium      & GA Norrmann 139     & NA & perennial & Anatherum arenarium      & Andropogon arenarius   & GA Norrmann 139       & 1 & AN21TSTL0242\\_CKDL210011696-1a-AK6540-AK6731\\_HC5FKDSX2\\_L2    & 176000000 & 2432 & 1320 & 1839 & 1\\\\\n",
       "\t332 & AN21TSTL0242    & AN21TSTL0242    & Anatherum arenarium      & GA Norrmann 139     & NA & perennial & Anatherum arenarium      & Andropogon arenarius   & GA Norrmann 139       & 2 & AN21TSTL0242\\_CKDL220009931-1a-AK6540-AK6731\\_HN37MDSX3\\_L2    &  93505306 &    0 &    0 &    0 & 0\\\\\n",
       "\t337 & AN21TSTL0247    & AN21TSTL0247    & Andropogon hallii        & PI 674828           & NA & perennial & Andropogon hallii        &                        & PI 674828             & 1 & AN21TSTL0247\\_CKDL210011696-1a-AK6526-AK2651\\_HC5FKDSX2\\_L2    & 198000000 & 1727 & 1426 & 2437 & 2\\\\\n",
       "\t338 & AN21TSTL0247    & AN21TSTL0247    & Andropogon hallii        & PI 674828           & NA & perennial & Andropogon hallii        &                        & PI 674828             & 2 & AN21TSTL0247\\_CKDL220009931-1a-AK6526-AK2651\\_HN37MDSX3\\_L2    & 183991763 &    0 &    0 &    0 & 0\\\\\n",
       "\t342 & AN21TSTL0252    & AN21TSTL0252    & Tripsacum andersonii     & MIA 34444           & NA & perennial & Tripsacum andersonii     &                        & MIA 34444             & 1 & AN21TSTL0252\\_CKDL210011696-1a-AK6509-AK6669\\_HC5FKDSX2\\_L2    & 180000000 & 1695 & 1303 & 2594 & 0\\\\\n",
       "\t343 & AN21TSTL0252    & AN21TSTL0252    & Tripsacum andersonii     & MIA 34444           & NA & perennial & Tripsacum andersonii     &                        & MIA 34444             & 2 & AN21TSTL0252\\_CKDL220009931-1a-AK6509-AK6669\\_HN37MDSX3\\_L2    & 219821503 &    0 &    0 &    0 & 0\\\\\n",
       "\t359 & AN21TSTL0272    & AN21TSTL0272    & Cymbopogon distans       & PI 653752           & NA & perennial & Cymbopogon distans       &                        & PI 653752             & 1 & AN21TSTL0272\\_CKDL210011693-1a-AK5140-AK242\\_HC3LJDSX2\\_L2     & 214000000 & 2043 & 2205 & 1342 & 2\\\\\n",
       "\t360 & AN21TSTL0272    & AN21TSTL0272    & Cymbopogon distans       & PI 653752           & NA & perennial & Cymbopogon distans       &                        & PI 653752             & 2 & AN21TSTL0272\\_CKDL220009931-1a-AK5140-AK242\\_HN37MDSX3\\_L2     & 422897579 &    0 &    0 &    0 & 0\\\\\n",
       "\t368 & AN21TSTL0280    & AN21TSTL0280    & Bothriochloa hybrida     & PI 321437           & NA & perennial & Bothriochloa hybrida     &                        & PI 321437             & 1 & AN21TSTL0280\\_CKDL210011693-1a-AK4937-AK6664\\_HC3LJDSX2\\_L2    & 231000000 & 1638 & 1987 & 1966 & 1\\\\\n",
       "\t369 & AN21TSTL0280    & AN21TSTL0280    & Bothriochloa hybrida     & PI 321437           & NA & perennial & Bothriochloa hybrida     &                        & PI 321437             & 2 & AN21TSTL0280\\_CKDL220009931-1a-AK4937-AK6664\\_HN37MDSX3\\_L2    & 278992174 &    0 &    0 &    0 & 0\\\\\n",
       "\t441 & AT20TN1MCRTL026 & AT20TN1MCRTL026 & Hyparrhenia bracteata    & MSV 1664            & NA & perennial & Hyparrhenia bracteata    &                        & Vorontsova, M.S. 1664 & 2 & AT20TN1MCRTL026\\_CKDL220009932-1a-AK5455-AK6685\\_HN325DSX3\\_L4 &  88423379 &    0 &    0 &    0 & 0\\\\\n",
       "\t442 & AT20TN1MCRTL026 & AT20TN1MCRTL026 & Hyparrhenia bracteata    & MSV 1664            & NA & perennial & Hyparrhenia bracteata    &                        & Vorontsova, M.S. 1664 & 1 & MCRTL026\\_CKDL200164855-1B-AK5455-AK6685\\_HMJV7DSXY\\_L3        & 367208078 & 2601 & 1406 & 1581 & 4\\\\\n",
       "\t445 & AT20TN1MCRTL029 & AT20TN1MCRTL029 & Hyparrhenia madaropoda   & Reekmans 6922       & NA & annual    & Hyparrhenia madaropoda   &                        & Reekmans 6922         & 1 & MCRTL029\\_CKDL200164855-1B-AK5155-AK6686\\_HMJV7DSXY\\_L3        & 278062251 & 2650 & 1397 & 1541 & 4\\\\\n",
       "\t446 & AT20TN1MCRTL029 & AT20TN1MCRTL029 & Hyparrhenia madaropoda   & Reekmans 6922       & NA & annual    & Hyparrhenia madaropoda   &                        & Reekmans 6922         & 2 & AT20TN1MCRTL029\\_CKDL220009932-1a-AK5155-AK6686\\_HN325DSX3\\_L4 &  85926726 &    0 &    0 &    0 & 0\\\\\n",
       "\t451 & AT20TN1MCRTL034 & AT20TN1MCRTL034 & Schizachyrium sanguineum & Liz Makings 3834    & NA & perennial & Schizachyrium sanguineum &                        & Liz Makings 3834      & 2 & AT20TN1MCRTL034\\_CKDL220009932-1a-AK6517-AK6687\\_HN325DSX3\\_L4 & 144910803 &    0 &    0 &    0 & 0\\\\\n",
       "\t452 & AT20TN1MCRTL034 & AT20TN1MCRTL034 & Schizachyrium sanguineum & Liz Makings 3834    & NA & perennial & Schizachyrium sanguineum &                        & Liz Makings 3834      & 1 & MCRTL034\\_CKDL200164855-1B-AK6517-AK6687\\_HMJV7DSXY\\_L3        & 204564209 & 1149 & 2105 & 2336 & 2\\\\\n",
       "\t456 & AT20TN1MCRTL038 & AT20TN1MCRTL038 & Schizachyrium reedii     & E.L. Ekman 17186    & NA & perennial & Schizachyrium reedii     & Andropogon reedii      & E.L. Ekman 17186      & 1 & MCRTL038\\_CKDL200164855-1B-AK6524-AK6699\\_HMJV7DSXY\\_L3        & 203239240 & 1249 & 1794 & 2548 & 1\\\\\n",
       "\t457 & AT20TN1MCRTL038 & AT20TN1MCRTL038 & Schizachyrium reedii     & E.L. Ekman 17186    & NA & perennial & Schizachyrium reedii     & Andropogon reedii      & E.L. Ekman 17186      & 2 & AT20TN1MCRTL038\\_CKDL220009932-1a-AK6524-AK6699\\_HN325DSX3\\_L4 & 144195504 &    0 &    0 &    0 & 0\\\\\n",
       "\t465 & AT20TN1MCRTL046 & AT20TN1MCRTL046 & Andropogon kelleri       & C.F. Hemming 2168   & NA & perennial & Andropogon kelleri       &                        & C.F. Hemming 2168     & 1 & MCRTL046\\_CKDL200164855-1B-AK6529-AK6708\\_HMJV7DSXY\\_L3        &  62807389 & 3483 &   85 & 2020 & 4\\\\\n",
       "\t466 & AT20TN1MCRTL046 & AT20TN1MCRTL046 & Andropogon kelleri       & C.F. Hemming 2168   & NA & perennial & Andropogon kelleri       &                        & C.F. Hemming 2168     & 2 & AT20TN1MCRTL046\\_CKDL220009932-1a-AK6529-AK6708\\_HN325DSX3\\_L4 &  74670545 &    0 &    0 &    0 & 0\\\\\n",
       "\t468 & AT20TN1MCRTL048 & AT20TN1MCRTL048 & Schizachyrium cirratum   & Tellez V. 11596     & NA & perennial & Schizachyrium cirratum   &                        & Tellez V. 11596       & 1 & MCRTL048\\_CKDL200164856-1B-AK6526-AK2651\\_HMJV7DSXY\\_L4        & 179213267 & 1904 & 1939 & 1747 & 2\\\\\n",
       "\t469 & AT20TN1MCRTL048 & AT20TN1MCRTL048 & Schizachyrium cirratum   & Tellez V. 11596     & NA & perennial & Schizachyrium cirratum   &                        & Tellez V. 11596       & 2 & AT20TN1MCRTL048\\_CKDL220009932-1a-AK6526-AK2651\\_HN325DSX3\\_L4 &  60666738 &    0 &    0 &    0 & 0\\\\\n",
       "\t477 & AT20TN1MCRTL056 & AT20TN1MCRTL056 & Hyparrhenia schimperi    & K.E. Bennett 283138 & NA & perennial & Hyparrhenia schimperi    &                        & K.E. Bennett 283138   & 2 & AT20TN1MCRTL056\\_CKDL220009932-1a-AK6533-AK6713\\_HN325DSX3\\_L4 &  57939336 &    0 &    0 &    0 & 0\\\\\n",
       "\t478 & AT20TN1MCRTL056 & AT20TN1MCRTL056 & Hyparrhenia schimperi    & K.E. Bennett 283138 & NA & perennial & Hyparrhenia schimperi    &                        & K.E. Bennett 283138   & 1 & MCRTL056\\_CKDL200164856-1B-AK6533-AK6713\\_HMJV7DSXY\\_L4        & 218940405 & 2425 & 1497 & 1666 & 4\\\\\n",
       "\t492 & AT20TN1MCRTL070 & AT20TN1MCRTL070 & Hyparrhenia figariana    & M. Reekmans 11042   & NA & annual    & Hyparrhenia figariana    &                        & M. Reekmans 11042     & 2 & AT20TN1MCRTL070\\_CKDL220009932-1a-AK5147-AK6695\\_HN325DSX3\\_L4 &  38421075 &    0 &    0 &    0 & 0\\\\\n",
       "\t493 & AT20TN1MCRTL070 & AT20TN1MCRTL070 & Hyparrhenia figariana    & M. Reekmans 11042   & NA & annual    & Hyparrhenia figariana    &                        & M. Reekmans 11042     & 1 & MCRTL070\\_CKDL200164856-1B-AK5147-AK6695\\_HMJV7DSXY\\_L4        & 180051649 & 2727 & 1222 & 1638 & 5\\\\\n",
       "\t497 & AT20TS1MCRTL004 & AT20TS1MCRTL004 & Eremopogon foveolatum    & Kellogg PI 302076   & NA & perennial & Eremopogon foveolatus    & Dichanthium foveolatum & Kellogg PI 302076     & 2 & AT20TS1MCRTL004\\_CKDL220009931-1a-AK6501-AK6655\\_HN37MDSX3\\_L2 & 437712642 &    0 &    0 &    0 & 0\\\\\n",
       "\t498 & AT20TS1MCRTL004 & AT20TS1MCRTL004 & Eremopogon foveolatum    & Kellogg PI 302076   & NA & perennial & Eremopogon foveolatus    & Dichanthium foveolatum & Kellogg PI 302076     & 1 & MCRTL004\\_CKDL200164854-1a-AK6501-AK6655\\_HMGJWDSXY\\_L4        & 235987122 & 2721 & 1028 & 1837 & 6\\\\\n",
       "\t506 & AT20TS1MCRTL012 & AT20TS1MCRTL012 & Zea nicaraguensis        & MOBOT               & NA & annual    & Zea nicaraguensis        &                        & MOBOT NO DATA         & 2 & AT20TS1MCRTL012\\_CKDL220009931-1a-AK4940-AK6663\\_HN37MDSX3\\_L2 & 104832276 &    0 &    0 &    0 & 0\\\\\n",
       "\t507 & AT20TS1MCRTL012 & AT20TS1MCRTL012 & Zea nicaraguensis        & MOBOT               & NA & annual    & Zea nicaraguensis        &                        & MOBOT NO DATA         & 1 & MCRTL012\\_CKDL200164854-1a-AK4940-AK6663\\_HMGJWDSXY\\_L4        & 197643103 & 2652 &  713 & 2225 & 2\\\\\n",
       "\\end{tabular}\n"
      ],
      "text/markdown": [
       "\n",
       "A data.frame: 104 × 16\n",
       "\n",
       "| <!--/--> | tracker_sample_name &lt;chr&gt; | assemblyID &lt;chr&gt; | correctSpecies &lt;chr&gt; | CorrectEcotype &lt;chr&gt; | altName &lt;chr&gt; | lifeHistory &lt;chr&gt; | tracker_organism &lt;chr&gt; | alternative_names &lt;chr&gt; | ecotype &lt;chr&gt; | run_id &lt;int&gt; | file &lt;chr&gt; | total_reads &lt;int&gt; | tabasco_complete &lt;int&gt; | tabasco_duplicated &lt;int&gt; | tabasco_fraged &lt;int&gt; | tabasco_missing &lt;int&gt; |\n",
       "|---|---|---|---|---|---|---|---|---|---|---|---|---|---|---|---|---|\n",
       "| 22 | AN20TSCR000199 | AN20TSCR000199 | Bothriochloa pertusa      | AUB &amp; Bookout 104                          | NA | perennial           | Bothriochloa pertusa                  | <!----> | AUB &amp; Bookout 104                  | 1 | AN20TSCR000199_CKDL200169515-1a-AK5395-AK5927_HLTF5DSXY_L3 | 240215178 | 2238 | 1980 | 1373 |    1 |\n",
       "| 23 | AN20TSCR000199 | AN20TSCR000199 | Bothriochloa pertusa      | AUB &amp; Bookout 104                          | NA | perennial           | Bothriochloa pertusa                  | <!----> | AUB &amp; Bookout 104                  | 2 | AN20TSCR000199_CKDL220009932-1a-AK5395-AK5927_HN325DSX3_L4 | 192076561 |    0 |    0 |    0 |    0 |\n",
       "| 32 | AN20TSCR000208 | AN20TSCR000208 | Eriochrysis cayennensis   | AUB &amp; Bookout 109                          | NA | perennial           | Eriochrysis cayennensis               | <!----> | AUB &amp; Bookout 109                  | 1 | AN20TSCR000208_CKDL200169516-1a-AK5161-AK6675_HLTF5DSXY_L4 |  41590125 | 2579 |   33 | 2955 |   25 |\n",
       "| 33 | AN20TSCR000208 | AN20TSCR000208 | Eriochrysis cayennensis   | AUB &amp; Bookout 109                          | NA | perennial           | Eriochrysis cayennensis               | <!----> | AUB &amp; Bookout 109                  | 2 | AN21TNTL0176_CKDL210009738-1a-AK5161-AK6675_H5C7LDSX2_L4   | 180110944 |    0 |    0 |    0 |    0 |\n",
       "| 34 | AN20TSCR000209 | AN21TNTL0177   | Anatherum bicorne         | AUB &amp; Bookout 110                          | NA | perennial           | Anatherum bicorne                     | Andropogon bicornis | AUB &amp; Bookout 110                  | 2 | AN21TNTL0177_CKDL210009737-1a-AK5155-AK6686_H5C7LDSX2_L3   | 265694347 |    0 |    0 |    0 |    0 |\n",
       "| 35 | AN20TSCR000209 | AN21TNTL0177   | Anatherum bicorne         | AUB &amp; Bookout 110                          | NA | perennial           | Anatherum bicorne                     | Andropogon bicornis | AUB &amp; Bookout 110                  | 1 | AN20TSCR000209_CKDL200169516-1a-AK5155-AK6686_HLTF5DSXY_L4 |  11458190 |  230 |    4 | 3931 | 1427 |\n",
       "| 36 | AN20TSCR000209 | AN20T003       | Anatherum bicorne         | AUB &amp; Bookout 110                          | NA | perennial           | Anatherum bicorne                     | Andropogon bicornis | AUB &amp; Bookout 110                  | 2 | AN21TNTL0177_CKDL210009737-1a-AK5155-AK6686_H5C7LDSX2_L3   | 265694347 |    0 |    0 |    0 |    0 |\n",
       "| 37 | AN20TSCR000209 | AN20T003       | Anatherum bicorne         | AUB &amp; Bookout 110                          | NA | perennial           | Anatherum bicorne                     | Andropogon bicornis | AUB &amp; Bookout 110                  | 1 | AN20TSCR000209_CKDL200169516-1a-AK5155-AK6686_HLTF5DSXY_L4 |  11458190 |  230 |    4 | 3931 | 1427 |\n",
       "| 38 | AN20TSCR000210 | AN20TSCR000210 | Sorghum arundinaceum      | AUB &amp; Bookout 106                          | NA | annual or perennial | Sorghum arundinaceum                  | <!----> | AUB &amp; Bookout 106                  | 2 | AN21TNTL0178_CKDL210009737-1a-AK5142-AK6697_H5C7LDSX2_L3   | 289544310 |    0 |    0 |    0 |    0 |\n",
       "| 39 | AN20TSCR000210 | AN20TSCR000210 | Sorghum arundinaceum      | AUB &amp; Bookout 106                          | NA | annual or perennial | Sorghum arundinaceum                  | <!----> | AUB &amp; Bookout 106                  | 1 | AN20TSCR000210_CKDL200169516-1a-AK5142-AK6697_HLTF5DSXY_L4 |  15154089 |  579 |    5 | 4563 |  445 |\n",
       "| 41 | AN20TSCR000212 | AN20TSCR000212 | Hyparrhenia rufa          | AUB &amp; Bookout 103                          | NA | perennial           | Hyparrhenia rufa                      | <!----> | AUB &amp; Bookout 103                  | 1 | AN20TSCR000212_CKDL200169516-1a-AK5153-AK6718_HLTF5DSXY_L4 | 142376442 | 3049 |  925 | 1613 |    5 |\n",
       "| 42 | AN20TSCR000212 | AN20TSCR000212 | Hyparrhenia rufa          | AUB &amp; Bookout 103                          | NA | perennial           | Hyparrhenia rufa                      | <!----> | AUB &amp; Bookout 103                  | 2 | AN20TSCR000212_CKDL220009932-1a-AK5153-AK6718_HN325DSX3_L4 | 675426444 |    0 |    0 |    0 |    0 |\n",
       "| 48 | AN20TSCR000218 | AN20TSCR000218 | Elionurus citreus         | AQ0830601                                  | NA | perennial           | Elionurus citreus                     | <!----> | KRM 10955                          | 2 | AN20TSCR000218_CKDL220009932-1a-AK5848-AK5137_HN325DSX3_L4 | 683572471 |    0 |    0 |    0 |    0 |\n",
       "| 49 | AN20TSCR000218 | AN20TSCR000218 | Elionurus citreus         | AQ0830601                                  | NA | perennial           | Elionurus citreus                     | <!----> | KRM 10955                          | 1 | AN20TSCR000218_CKDL200169516-1a-AK5848-AK5137_HLTF5DSXY_L4 | 242044361 | 2755 | 1395 | 1432 |   10 |\n",
       "| 62 | AN21TNTL0074   | AN21TNTL0074   | Andropogon gayanus        | C.C.H. Jongkind 2476_bisquamulatus         | NA | perennial           | Andropogon gayanus var. bisquamulatus | <!----> | C.C.H. Jongkind 2476               | 1 | AN21TNTL0074_CKDL210009738-1a-AK5151-AK6665_H5C7LDSX2_L4   | 190200757 | 3401 |  690 | 1499 |    2 |\n",
       "| 63 | AN21TNTL0074   | AN21TNTL0074   | Andropogon gayanus        | C.C.H. Jongkind 2476_bisquamulatus         | NA | perennial           | Andropogon gayanus var. bisquamulatus | <!----> | C.C.H. Jongkind 2476               | 2 | AN21TNTL0074_CKDL220009932-1a-AK5151-AK6665_HN325DSX3_L4   | 263183552 |    0 |    0 |    0 |    0 |\n",
       "| 64 | AN21TNTL0075   | AN21TNTL0075   | Anatherum pringlei        | P.M. Peterson 19125                        | NA | perennial           | Anatherum pringlei                    | Andropogon pringlei | P.M. Peterson 19125                | 2 | AN21TNTL0075_CKDL220009932-1a-AK5845-AK6676_HN325DSX3_L4   | 520578585 |    0 |    0 |    0 |    0 |\n",
       "| 65 | AN21TNTL0075   | AN21TNTL0075   | Anatherum pringlei        | P.M. Peterson 19125                        | NA | perennial           | Anatherum pringlei                    | Andropogon pringlei | P.M. Peterson 19125                | 1 | AN21TNTL0075_CKDL210009737-1a-AK5845-AK6676_H5C7LDSX2_L3   | 287188066 | 1636 | 2610 | 1344 |    2 |\n",
       "| 66 | AN21TNTL0076   | AN21TNTL0076   | Andropogon campestris     | Chase 7977                                 | NA | perennial           | Andropogon campestris                 | Andropogon camporum | Chase 7977                         | 1 | AN21TNTL0076_CKDL210009738-1a-AK4639-AK6604_H5C7LDSX2_L4   |  50776232 | 2226 |  199 | 3161 |    6 |\n",
       "| 67 | AN21TNTL0076   | AN21TNTL0076   | Andropogon campestris     | Chase 7977                                 | NA | perennial           | Andropogon campestris                 | Andropogon camporum | Chase 7977                         | 2 | AN21TNTL0076_CKDL220009932-1a-AK4639-AK6604_HN325DSX3_L4   |  40719603 |    0 |    0 |    0 |    0 |\n",
       "| 69 | AN21TNTL0079   | AN21TNTL0079   | Bothriochloa imperatoides | A.A. Beetle 1291 (seed collected by Gould) | NA | perennial           | Bothriochloa imperatoides             | <!----> | A.A. Beetle 1291                   | 1 | AN21TNTL0079_CKDL210009737-1a-AK4944-AK6719_H5C7LDSX2_L3   | 120424959 | 2438 | 1344 | 1809 |    1 |\n",
       "| 70 | AN21TNTL0079   | AN21TNTL0079   | Bothriochloa imperatoides | A.A. Beetle 1291 (seed collected by Gould) | NA | perennial           | Bothriochloa imperatoides             | <!----> | A.A. Beetle 1291                   | 2 | AN21TNTL0079_CKDL220009932-1a-AK4944-AK6719_HN325DSX3_L4   | 170777757 |    0 |    0 |    0 |    0 |\n",
       "| 73 | AN21TNTL0083   | AN21TNTL0083   | Bothriochloa torreyana    | Lyonnet 451000020                          | NA | perennial           | Bothriochloa torreyana                | <!----> | Lyonnet 451000020                  | 1 | AN21TNTL0083_CKDL210009737-1a-AK6511-AK6677_H5C7LDSX2_L3   | 137646857 |    0 |    0 |    0 |    0 |\n",
       "| 74 | AN21TNTL0083   | AN21TNTL0083   | Bothriochloa torreyana    | Lyonnet 451000020                          | NA | perennial           | Bothriochloa torreyana                | <!----> | Lyonnet 451000020                  | 2 | AN21TNTL0083_CKDL220009932-1a-AK6511-AK6677_HN325DSX3_L4   | 234334668 |    0 |    0 |    0 |    0 |\n",
       "| 79 | AN21TNTL0091   | AN21TNTL0091   | Sorghastrum fuscescens    | Pasquet 1241                               | NA | perennial           | Sorghastrum fuscescens                | <!----> | Pasquet 1241                       | 2 | AN21TNTL0091_CKDL220009932-1a-AK5158-AK6684_HN325DSX3_L4   | 159071864 |    0 |    0 |    0 |    0 |\n",
       "| 80 | AN21TNTL0091   | AN21TNTL0091   | Sorghastrum fuscescens    | Pasquet 1241                               | NA | perennial           | Sorghastrum fuscescens                | <!----> | Pasquet 1241                       | 1 | AN21TNTL0091_CKDL210009736-1a-AK5158-AK6684_H5C7LDSX2_L2   | 302477209 | 1642 | 2577 | 1369 |    4 |\n",
       "| 82 | AN21TNTL0093   | AN21TNTL0093   | Eulalia monostachya       | Traiperm et al 588                         | NA | perennial           | Eulalia monostachya                   | <!----> | Traiperm et al 588                 | 1 | AN21TNTL0093_CKDL210009736-1a-AK5999-AK6705_H5C7LDSX2_L2   | 356474200 | 1895 | 1972 | 1724 |    1 |\n",
       "| 83 | AN21TNTL0093   | AN21TNTL0093   | Eulalia monostachya       | Traiperm et al 588                         | NA | perennial           | Eulalia monostachya                   | <!----> | Traiperm et al 588                 | 2 | AN21TNTL0093_CKDL220009932-1a-AK5999-AK6705_HN325DSX3_L4   | 160668736 |    0 |    0 |    0 |    0 |\n",
       "| 90 | AN21TNTL0100   | AN21TNTL0100   | Dimeria chloridiformis    | W.D. Clayton; A. Weerasooriya 6179         | NA | perennial           | Dimeria chloridiformis                | Dimeria fuscescens  | W.D. Clayton, A. Weerasooriya 6179 | 1 | AN21TNTL0100_CKDL210009736-1a-AK5143-AK6694_H5C7LDSX2_L2   | 112568400 | 1846 | 2049 | 1695 |    2 |\n",
       "| 91 | AN21TNTL0100   | AN21TNTL0100   | Dimeria chloridiformis    | W.D. Clayton; A. Weerasooriya 6179         | NA | perennial           | Dimeria chloridiformis                | Dimeria fuscescens  | W.D. Clayton, A. Weerasooriya 6179 | 2 | AN21TNTL0100_CKDL220009932-1a-AK5143-AK6694_HN325DSX3_L4   | 372422076 |    0 |    0 |    0 |    0 |\n",
       "| ⋮ | ⋮ | ⋮ | ⋮ | ⋮ | ⋮ | ⋮ | ⋮ | ⋮ | ⋮ | ⋮ | ⋮ | ⋮ | ⋮ | ⋮ | ⋮ | ⋮ |\n",
       "| 331 | AN21TSTL0242    | AN21TSTL0242    | Anatherum arenarium      | GA Norrmann 139     | NA | perennial | Anatherum arenarium      | Andropogon arenarius   | GA Norrmann 139       | 1 | AN21TSTL0242_CKDL210011696-1a-AK6540-AK6731_HC5FKDSX2_L2    | 176000000 | 2432 | 1320 | 1839 | 1 |\n",
       "| 332 | AN21TSTL0242    | AN21TSTL0242    | Anatherum arenarium      | GA Norrmann 139     | NA | perennial | Anatherum arenarium      | Andropogon arenarius   | GA Norrmann 139       | 2 | AN21TSTL0242_CKDL220009931-1a-AK6540-AK6731_HN37MDSX3_L2    |  93505306 |    0 |    0 |    0 | 0 |\n",
       "| 337 | AN21TSTL0247    | AN21TSTL0247    | Andropogon hallii        | PI 674828           | NA | perennial | Andropogon hallii        | <!----> | PI 674828             | 1 | AN21TSTL0247_CKDL210011696-1a-AK6526-AK2651_HC5FKDSX2_L2    | 198000000 | 1727 | 1426 | 2437 | 2 |\n",
       "| 338 | AN21TSTL0247    | AN21TSTL0247    | Andropogon hallii        | PI 674828           | NA | perennial | Andropogon hallii        | <!----> | PI 674828             | 2 | AN21TSTL0247_CKDL220009931-1a-AK6526-AK2651_HN37MDSX3_L2    | 183991763 |    0 |    0 |    0 | 0 |\n",
       "| 342 | AN21TSTL0252    | AN21TSTL0252    | Tripsacum andersonii     | MIA 34444           | NA | perennial | Tripsacum andersonii     | <!----> | MIA 34444             | 1 | AN21TSTL0252_CKDL210011696-1a-AK6509-AK6669_HC5FKDSX2_L2    | 180000000 | 1695 | 1303 | 2594 | 0 |\n",
       "| 343 | AN21TSTL0252    | AN21TSTL0252    | Tripsacum andersonii     | MIA 34444           | NA | perennial | Tripsacum andersonii     | <!----> | MIA 34444             | 2 | AN21TSTL0252_CKDL220009931-1a-AK6509-AK6669_HN37MDSX3_L2    | 219821503 |    0 |    0 |    0 | 0 |\n",
       "| 359 | AN21TSTL0272    | AN21TSTL0272    | Cymbopogon distans       | PI 653752           | NA | perennial | Cymbopogon distans       | <!----> | PI 653752             | 1 | AN21TSTL0272_CKDL210011693-1a-AK5140-AK242_HC3LJDSX2_L2     | 214000000 | 2043 | 2205 | 1342 | 2 |\n",
       "| 360 | AN21TSTL0272    | AN21TSTL0272    | Cymbopogon distans       | PI 653752           | NA | perennial | Cymbopogon distans       | <!----> | PI 653752             | 2 | AN21TSTL0272_CKDL220009931-1a-AK5140-AK242_HN37MDSX3_L2     | 422897579 |    0 |    0 |    0 | 0 |\n",
       "| 368 | AN21TSTL0280    | AN21TSTL0280    | Bothriochloa hybrida     | PI 321437           | NA | perennial | Bothriochloa hybrida     | <!----> | PI 321437             | 1 | AN21TSTL0280_CKDL210011693-1a-AK4937-AK6664_HC3LJDSX2_L2    | 231000000 | 1638 | 1987 | 1966 | 1 |\n",
       "| 369 | AN21TSTL0280    | AN21TSTL0280    | Bothriochloa hybrida     | PI 321437           | NA | perennial | Bothriochloa hybrida     | <!----> | PI 321437             | 2 | AN21TSTL0280_CKDL220009931-1a-AK4937-AK6664_HN37MDSX3_L2    | 278992174 |    0 |    0 |    0 | 0 |\n",
       "| 441 | AT20TN1MCRTL026 | AT20TN1MCRTL026 | Hyparrhenia bracteata    | MSV 1664            | NA | perennial | Hyparrhenia bracteata    | <!----> | Vorontsova, M.S. 1664 | 2 | AT20TN1MCRTL026_CKDL220009932-1a-AK5455-AK6685_HN325DSX3_L4 |  88423379 |    0 |    0 |    0 | 0 |\n",
       "| 442 | AT20TN1MCRTL026 | AT20TN1MCRTL026 | Hyparrhenia bracteata    | MSV 1664            | NA | perennial | Hyparrhenia bracteata    | <!----> | Vorontsova, M.S. 1664 | 1 | MCRTL026_CKDL200164855-1B-AK5455-AK6685_HMJV7DSXY_L3        | 367208078 | 2601 | 1406 | 1581 | 4 |\n",
       "| 445 | AT20TN1MCRTL029 | AT20TN1MCRTL029 | Hyparrhenia madaropoda   | Reekmans 6922       | NA | annual    | Hyparrhenia madaropoda   | <!----> | Reekmans 6922         | 1 | MCRTL029_CKDL200164855-1B-AK5155-AK6686_HMJV7DSXY_L3        | 278062251 | 2650 | 1397 | 1541 | 4 |\n",
       "| 446 | AT20TN1MCRTL029 | AT20TN1MCRTL029 | Hyparrhenia madaropoda   | Reekmans 6922       | NA | annual    | Hyparrhenia madaropoda   | <!----> | Reekmans 6922         | 2 | AT20TN1MCRTL029_CKDL220009932-1a-AK5155-AK6686_HN325DSX3_L4 |  85926726 |    0 |    0 |    0 | 0 |\n",
       "| 451 | AT20TN1MCRTL034 | AT20TN1MCRTL034 | Schizachyrium sanguineum | Liz Makings 3834    | NA | perennial | Schizachyrium sanguineum | <!----> | Liz Makings 3834      | 2 | AT20TN1MCRTL034_CKDL220009932-1a-AK6517-AK6687_HN325DSX3_L4 | 144910803 |    0 |    0 |    0 | 0 |\n",
       "| 452 | AT20TN1MCRTL034 | AT20TN1MCRTL034 | Schizachyrium sanguineum | Liz Makings 3834    | NA | perennial | Schizachyrium sanguineum | <!----> | Liz Makings 3834      | 1 | MCRTL034_CKDL200164855-1B-AK6517-AK6687_HMJV7DSXY_L3        | 204564209 | 1149 | 2105 | 2336 | 2 |\n",
       "| 456 | AT20TN1MCRTL038 | AT20TN1MCRTL038 | Schizachyrium reedii     | E.L. Ekman 17186    | NA | perennial | Schizachyrium reedii     | Andropogon reedii      | E.L. Ekman 17186      | 1 | MCRTL038_CKDL200164855-1B-AK6524-AK6699_HMJV7DSXY_L3        | 203239240 | 1249 | 1794 | 2548 | 1 |\n",
       "| 457 | AT20TN1MCRTL038 | AT20TN1MCRTL038 | Schizachyrium reedii     | E.L. Ekman 17186    | NA | perennial | Schizachyrium reedii     | Andropogon reedii      | E.L. Ekman 17186      | 2 | AT20TN1MCRTL038_CKDL220009932-1a-AK6524-AK6699_HN325DSX3_L4 | 144195504 |    0 |    0 |    0 | 0 |\n",
       "| 465 | AT20TN1MCRTL046 | AT20TN1MCRTL046 | Andropogon kelleri       | C.F. Hemming 2168   | NA | perennial | Andropogon kelleri       | <!----> | C.F. Hemming 2168     | 1 | MCRTL046_CKDL200164855-1B-AK6529-AK6708_HMJV7DSXY_L3        |  62807389 | 3483 |   85 | 2020 | 4 |\n",
       "| 466 | AT20TN1MCRTL046 | AT20TN1MCRTL046 | Andropogon kelleri       | C.F. Hemming 2168   | NA | perennial | Andropogon kelleri       | <!----> | C.F. Hemming 2168     | 2 | AT20TN1MCRTL046_CKDL220009932-1a-AK6529-AK6708_HN325DSX3_L4 |  74670545 |    0 |    0 |    0 | 0 |\n",
       "| 468 | AT20TN1MCRTL048 | AT20TN1MCRTL048 | Schizachyrium cirratum   | Tellez V. 11596     | NA | perennial | Schizachyrium cirratum   | <!----> | Tellez V. 11596       | 1 | MCRTL048_CKDL200164856-1B-AK6526-AK2651_HMJV7DSXY_L4        | 179213267 | 1904 | 1939 | 1747 | 2 |\n",
       "| 469 | AT20TN1MCRTL048 | AT20TN1MCRTL048 | Schizachyrium cirratum   | Tellez V. 11596     | NA | perennial | Schizachyrium cirratum   | <!----> | Tellez V. 11596       | 2 | AT20TN1MCRTL048_CKDL220009932-1a-AK6526-AK2651_HN325DSX3_L4 |  60666738 |    0 |    0 |    0 | 0 |\n",
       "| 477 | AT20TN1MCRTL056 | AT20TN1MCRTL056 | Hyparrhenia schimperi    | K.E. Bennett 283138 | NA | perennial | Hyparrhenia schimperi    | <!----> | K.E. Bennett 283138   | 2 | AT20TN1MCRTL056_CKDL220009932-1a-AK6533-AK6713_HN325DSX3_L4 |  57939336 |    0 |    0 |    0 | 0 |\n",
       "| 478 | AT20TN1MCRTL056 | AT20TN1MCRTL056 | Hyparrhenia schimperi    | K.E. Bennett 283138 | NA | perennial | Hyparrhenia schimperi    | <!----> | K.E. Bennett 283138   | 1 | MCRTL056_CKDL200164856-1B-AK6533-AK6713_HMJV7DSXY_L4        | 218940405 | 2425 | 1497 | 1666 | 4 |\n",
       "| 492 | AT20TN1MCRTL070 | AT20TN1MCRTL070 | Hyparrhenia figariana    | M. Reekmans 11042   | NA | annual    | Hyparrhenia figariana    | <!----> | M. Reekmans 11042     | 2 | AT20TN1MCRTL070_CKDL220009932-1a-AK5147-AK6695_HN325DSX3_L4 |  38421075 |    0 |    0 |    0 | 0 |\n",
       "| 493 | AT20TN1MCRTL070 | AT20TN1MCRTL070 | Hyparrhenia figariana    | M. Reekmans 11042   | NA | annual    | Hyparrhenia figariana    | <!----> | M. Reekmans 11042     | 1 | MCRTL070_CKDL200164856-1B-AK5147-AK6695_HMJV7DSXY_L4        | 180051649 | 2727 | 1222 | 1638 | 5 |\n",
       "| 497 | AT20TS1MCRTL004 | AT20TS1MCRTL004 | Eremopogon foveolatum    | Kellogg PI 302076   | NA | perennial | Eremopogon foveolatus    | Dichanthium foveolatum | Kellogg PI 302076     | 2 | AT20TS1MCRTL004_CKDL220009931-1a-AK6501-AK6655_HN37MDSX3_L2 | 437712642 |    0 |    0 |    0 | 0 |\n",
       "| 498 | AT20TS1MCRTL004 | AT20TS1MCRTL004 | Eremopogon foveolatum    | Kellogg PI 302076   | NA | perennial | Eremopogon foveolatus    | Dichanthium foveolatum | Kellogg PI 302076     | 1 | MCRTL004_CKDL200164854-1a-AK6501-AK6655_HMGJWDSXY_L4        | 235987122 | 2721 | 1028 | 1837 | 6 |\n",
       "| 506 | AT20TS1MCRTL012 | AT20TS1MCRTL012 | Zea nicaraguensis        | MOBOT               | NA | annual    | Zea nicaraguensis        | <!----> | MOBOT NO DATA         | 2 | AT20TS1MCRTL012_CKDL220009931-1a-AK4940-AK6663_HN37MDSX3_L2 | 104832276 |    0 |    0 |    0 | 0 |\n",
       "| 507 | AT20TS1MCRTL012 | AT20TS1MCRTL012 | Zea nicaraguensis        | MOBOT               | NA | annual    | Zea nicaraguensis        | <!----> | MOBOT NO DATA         | 1 | MCRTL012_CKDL200164854-1a-AK4940-AK6663_HMGJWDSXY_L4        | 197643103 | 2652 |  713 | 2225 | 2 |\n",
       "\n"
      ],
      "text/plain": [
       "    tracker_sample_name assemblyID      correctSpecies           \n",
       "22  AN20TSCR000199      AN20TSCR000199  Bothriochloa pertusa     \n",
       "23  AN20TSCR000199      AN20TSCR000199  Bothriochloa pertusa     \n",
       "32  AN20TSCR000208      AN20TSCR000208  Eriochrysis cayennensis  \n",
       "33  AN20TSCR000208      AN20TSCR000208  Eriochrysis cayennensis  \n",
       "34  AN20TSCR000209      AN21TNTL0177    Anatherum bicorne        \n",
       "35  AN20TSCR000209      AN21TNTL0177    Anatherum bicorne        \n",
       "36  AN20TSCR000209      AN20T003        Anatherum bicorne        \n",
       "37  AN20TSCR000209      AN20T003        Anatherum bicorne        \n",
       "38  AN20TSCR000210      AN20TSCR000210  Sorghum arundinaceum     \n",
       "39  AN20TSCR000210      AN20TSCR000210  Sorghum arundinaceum     \n",
       "41  AN20TSCR000212      AN20TSCR000212  Hyparrhenia rufa         \n",
       "42  AN20TSCR000212      AN20TSCR000212  Hyparrhenia rufa         \n",
       "48  AN20TSCR000218      AN20TSCR000218  Elionurus citreus        \n",
       "49  AN20TSCR000218      AN20TSCR000218  Elionurus citreus        \n",
       "62  AN21TNTL0074        AN21TNTL0074    Andropogon gayanus       \n",
       "63  AN21TNTL0074        AN21TNTL0074    Andropogon gayanus       \n",
       "64  AN21TNTL0075        AN21TNTL0075    Anatherum pringlei       \n",
       "65  AN21TNTL0075        AN21TNTL0075    Anatherum pringlei       \n",
       "66  AN21TNTL0076        AN21TNTL0076    Andropogon campestris    \n",
       "67  AN21TNTL0076        AN21TNTL0076    Andropogon campestris    \n",
       "69  AN21TNTL0079        AN21TNTL0079    Bothriochloa imperatoides\n",
       "70  AN21TNTL0079        AN21TNTL0079    Bothriochloa imperatoides\n",
       "73  AN21TNTL0083        AN21TNTL0083    Bothriochloa torreyana   \n",
       "74  AN21TNTL0083        AN21TNTL0083    Bothriochloa torreyana   \n",
       "79  AN21TNTL0091        AN21TNTL0091    Sorghastrum fuscescens   \n",
       "80  AN21TNTL0091        AN21TNTL0091    Sorghastrum fuscescens   \n",
       "82  AN21TNTL0093        AN21TNTL0093    Eulalia monostachya      \n",
       "83  AN21TNTL0093        AN21TNTL0093    Eulalia monostachya      \n",
       "90  AN21TNTL0100        AN21TNTL0100    Dimeria chloridiformis   \n",
       "91  AN21TNTL0100        AN21TNTL0100    Dimeria chloridiformis   \n",
       "⋮   ⋮                   ⋮               ⋮                        \n",
       "331 AN21TSTL0242        AN21TSTL0242    Anatherum arenarium      \n",
       "332 AN21TSTL0242        AN21TSTL0242    Anatherum arenarium      \n",
       "337 AN21TSTL0247        AN21TSTL0247    Andropogon hallii        \n",
       "338 AN21TSTL0247        AN21TSTL0247    Andropogon hallii        \n",
       "342 AN21TSTL0252        AN21TSTL0252    Tripsacum andersonii     \n",
       "343 AN21TSTL0252        AN21TSTL0252    Tripsacum andersonii     \n",
       "359 AN21TSTL0272        AN21TSTL0272    Cymbopogon distans       \n",
       "360 AN21TSTL0272        AN21TSTL0272    Cymbopogon distans       \n",
       "368 AN21TSTL0280        AN21TSTL0280    Bothriochloa hybrida     \n",
       "369 AN21TSTL0280        AN21TSTL0280    Bothriochloa hybrida     \n",
       "441 AT20TN1MCRTL026     AT20TN1MCRTL026 Hyparrhenia bracteata    \n",
       "442 AT20TN1MCRTL026     AT20TN1MCRTL026 Hyparrhenia bracteata    \n",
       "445 AT20TN1MCRTL029     AT20TN1MCRTL029 Hyparrhenia madaropoda   \n",
       "446 AT20TN1MCRTL029     AT20TN1MCRTL029 Hyparrhenia madaropoda   \n",
       "451 AT20TN1MCRTL034     AT20TN1MCRTL034 Schizachyrium sanguineum \n",
       "452 AT20TN1MCRTL034     AT20TN1MCRTL034 Schizachyrium sanguineum \n",
       "456 AT20TN1MCRTL038     AT20TN1MCRTL038 Schizachyrium reedii     \n",
       "457 AT20TN1MCRTL038     AT20TN1MCRTL038 Schizachyrium reedii     \n",
       "465 AT20TN1MCRTL046     AT20TN1MCRTL046 Andropogon kelleri       \n",
       "466 AT20TN1MCRTL046     AT20TN1MCRTL046 Andropogon kelleri       \n",
       "468 AT20TN1MCRTL048     AT20TN1MCRTL048 Schizachyrium cirratum   \n",
       "469 AT20TN1MCRTL048     AT20TN1MCRTL048 Schizachyrium cirratum   \n",
       "477 AT20TN1MCRTL056     AT20TN1MCRTL056 Hyparrhenia schimperi    \n",
       "478 AT20TN1MCRTL056     AT20TN1MCRTL056 Hyparrhenia schimperi    \n",
       "492 AT20TN1MCRTL070     AT20TN1MCRTL070 Hyparrhenia figariana    \n",
       "493 AT20TN1MCRTL070     AT20TN1MCRTL070 Hyparrhenia figariana    \n",
       "497 AT20TS1MCRTL004     AT20TS1MCRTL004 Eremopogon foveolatum    \n",
       "498 AT20TS1MCRTL004     AT20TS1MCRTL004 Eremopogon foveolatum    \n",
       "506 AT20TS1MCRTL012     AT20TS1MCRTL012 Zea nicaraguensis        \n",
       "507 AT20TS1MCRTL012     AT20TS1MCRTL012 Zea nicaraguensis        \n",
       "    CorrectEcotype                             altName lifeHistory        \n",
       "22  AUB & Bookout 104                          NA      perennial          \n",
       "23  AUB & Bookout 104                          NA      perennial          \n",
       "32  AUB & Bookout 109                          NA      perennial          \n",
       "33  AUB & Bookout 109                          NA      perennial          \n",
       "34  AUB & Bookout 110                          NA      perennial          \n",
       "35  AUB & Bookout 110                          NA      perennial          \n",
       "36  AUB & Bookout 110                          NA      perennial          \n",
       "37  AUB & Bookout 110                          NA      perennial          \n",
       "38  AUB & Bookout 106                          NA      annual or perennial\n",
       "39  AUB & Bookout 106                          NA      annual or perennial\n",
       "41  AUB & Bookout 103                          NA      perennial          \n",
       "42  AUB & Bookout 103                          NA      perennial          \n",
       "48  AQ0830601                                  NA      perennial          \n",
       "49  AQ0830601                                  NA      perennial          \n",
       "62  C.C.H. Jongkind 2476_bisquamulatus         NA      perennial          \n",
       "63  C.C.H. Jongkind 2476_bisquamulatus         NA      perennial          \n",
       "64  P.M. Peterson 19125                        NA      perennial          \n",
       "65  P.M. Peterson 19125                        NA      perennial          \n",
       "66  Chase 7977                                 NA      perennial          \n",
       "67  Chase 7977                                 NA      perennial          \n",
       "69  A.A. Beetle 1291 (seed collected by Gould) NA      perennial          \n",
       "70  A.A. Beetle 1291 (seed collected by Gould) NA      perennial          \n",
       "73  Lyonnet 451000020                          NA      perennial          \n",
       "74  Lyonnet 451000020                          NA      perennial          \n",
       "79  Pasquet 1241                               NA      perennial          \n",
       "80  Pasquet 1241                               NA      perennial          \n",
       "82  Traiperm et al 588                         NA      perennial          \n",
       "83  Traiperm et al 588                         NA      perennial          \n",
       "90  W.D. Clayton; A. Weerasooriya 6179         NA      perennial          \n",
       "91  W.D. Clayton; A. Weerasooriya 6179         NA      perennial          \n",
       "⋮   ⋮                                          ⋮       ⋮                  \n",
       "331 GA Norrmann 139                            NA      perennial          \n",
       "332 GA Norrmann 139                            NA      perennial          \n",
       "337 PI 674828                                  NA      perennial          \n",
       "338 PI 674828                                  NA      perennial          \n",
       "342 MIA 34444                                  NA      perennial          \n",
       "343 MIA 34444                                  NA      perennial          \n",
       "359 PI 653752                                  NA      perennial          \n",
       "360 PI 653752                                  NA      perennial          \n",
       "368 PI 321437                                  NA      perennial          \n",
       "369 PI 321437                                  NA      perennial          \n",
       "441 MSV 1664                                   NA      perennial          \n",
       "442 MSV 1664                                   NA      perennial          \n",
       "445 Reekmans 6922                              NA      annual             \n",
       "446 Reekmans 6922                              NA      annual             \n",
       "451 Liz Makings 3834                           NA      perennial          \n",
       "452 Liz Makings 3834                           NA      perennial          \n",
       "456 E.L. Ekman 17186                           NA      perennial          \n",
       "457 E.L. Ekman 17186                           NA      perennial          \n",
       "465 C.F. Hemming 2168                          NA      perennial          \n",
       "466 C.F. Hemming 2168                          NA      perennial          \n",
       "468 Tellez V. 11596                            NA      perennial          \n",
       "469 Tellez V. 11596                            NA      perennial          \n",
       "477 K.E. Bennett 283138                        NA      perennial          \n",
       "478 K.E. Bennett 283138                        NA      perennial          \n",
       "492 M. Reekmans 11042                          NA      annual             \n",
       "493 M. Reekmans 11042                          NA      annual             \n",
       "497 Kellogg PI 302076                          NA      perennial          \n",
       "498 Kellogg PI 302076                          NA      perennial          \n",
       "506 MOBOT                                      NA      annual             \n",
       "507 MOBOT                                      NA      annual             \n",
       "    tracker_organism                      alternative_names     \n",
       "22  Bothriochloa pertusa                                        \n",
       "23  Bothriochloa pertusa                                        \n",
       "32  Eriochrysis cayennensis                                     \n",
       "33  Eriochrysis cayennensis                                     \n",
       "34  Anatherum bicorne                     Andropogon bicornis   \n",
       "35  Anatherum bicorne                     Andropogon bicornis   \n",
       "36  Anatherum bicorne                     Andropogon bicornis   \n",
       "37  Anatherum bicorne                     Andropogon bicornis   \n",
       "38  Sorghum arundinaceum                                        \n",
       "39  Sorghum arundinaceum                                        \n",
       "41  Hyparrhenia rufa                                            \n",
       "42  Hyparrhenia rufa                                            \n",
       "48  Elionurus citreus                                           \n",
       "49  Elionurus citreus                                           \n",
       "62  Andropogon gayanus var. bisquamulatus                       \n",
       "63  Andropogon gayanus var. bisquamulatus                       \n",
       "64  Anatherum pringlei                    Andropogon pringlei   \n",
       "65  Anatherum pringlei                    Andropogon pringlei   \n",
       "66  Andropogon campestris                 Andropogon camporum   \n",
       "67  Andropogon campestris                 Andropogon camporum   \n",
       "69  Bothriochloa imperatoides                                   \n",
       "70  Bothriochloa imperatoides                                   \n",
       "73  Bothriochloa torreyana                                      \n",
       "74  Bothriochloa torreyana                                      \n",
       "79  Sorghastrum fuscescens                                      \n",
       "80  Sorghastrum fuscescens                                      \n",
       "82  Eulalia monostachya                                         \n",
       "83  Eulalia monostachya                                         \n",
       "90  Dimeria chloridiformis                Dimeria fuscescens    \n",
       "91  Dimeria chloridiformis                Dimeria fuscescens    \n",
       "⋮   ⋮                                     ⋮                     \n",
       "331 Anatherum arenarium                   Andropogon arenarius  \n",
       "332 Anatherum arenarium                   Andropogon arenarius  \n",
       "337 Andropogon hallii                                           \n",
       "338 Andropogon hallii                                           \n",
       "342 Tripsacum andersonii                                        \n",
       "343 Tripsacum andersonii                                        \n",
       "359 Cymbopogon distans                                          \n",
       "360 Cymbopogon distans                                          \n",
       "368 Bothriochloa hybrida                                        \n",
       "369 Bothriochloa hybrida                                        \n",
       "441 Hyparrhenia bracteata                                       \n",
       "442 Hyparrhenia bracteata                                       \n",
       "445 Hyparrhenia madaropoda                                      \n",
       "446 Hyparrhenia madaropoda                                      \n",
       "451 Schizachyrium sanguineum                                    \n",
       "452 Schizachyrium sanguineum                                    \n",
       "456 Schizachyrium reedii                  Andropogon reedii     \n",
       "457 Schizachyrium reedii                  Andropogon reedii     \n",
       "465 Andropogon kelleri                                          \n",
       "466 Andropogon kelleri                                          \n",
       "468 Schizachyrium cirratum                                      \n",
       "469 Schizachyrium cirratum                                      \n",
       "477 Hyparrhenia schimperi                                       \n",
       "478 Hyparrhenia schimperi                                       \n",
       "492 Hyparrhenia figariana                                       \n",
       "493 Hyparrhenia figariana                                       \n",
       "497 Eremopogon foveolatus                 Dichanthium foveolatum\n",
       "498 Eremopogon foveolatus                 Dichanthium foveolatum\n",
       "506 Zea nicaraguensis                                           \n",
       "507 Zea nicaraguensis                                           \n",
       "    ecotype                            run_id\n",
       "22  AUB & Bookout 104                  1     \n",
       "23  AUB & Bookout 104                  2     \n",
       "32  AUB & Bookout 109                  1     \n",
       "33  AUB & Bookout 109                  2     \n",
       "34  AUB & Bookout 110                  2     \n",
       "35  AUB & Bookout 110                  1     \n",
       "36  AUB & Bookout 110                  2     \n",
       "37  AUB & Bookout 110                  1     \n",
       "38  AUB & Bookout 106                  2     \n",
       "39  AUB & Bookout 106                  1     \n",
       "41  AUB & Bookout 103                  1     \n",
       "42  AUB & Bookout 103                  2     \n",
       "48  KRM 10955                          2     \n",
       "49  KRM 10955                          1     \n",
       "62  C.C.H. Jongkind 2476               1     \n",
       "63  C.C.H. Jongkind 2476               2     \n",
       "64  P.M. Peterson 19125                2     \n",
       "65  P.M. Peterson 19125                1     \n",
       "66  Chase 7977                         1     \n",
       "67  Chase 7977                         2     \n",
       "69  A.A. Beetle 1291                   1     \n",
       "70  A.A. Beetle 1291                   2     \n",
       "73  Lyonnet 451000020                  1     \n",
       "74  Lyonnet 451000020                  2     \n",
       "79  Pasquet 1241                       2     \n",
       "80  Pasquet 1241                       1     \n",
       "82  Traiperm et al 588                 1     \n",
       "83  Traiperm et al 588                 2     \n",
       "90  W.D. Clayton, A. Weerasooriya 6179 1     \n",
       "91  W.D. Clayton, A. Weerasooriya 6179 2     \n",
       "⋮   ⋮                                  ⋮     \n",
       "331 GA Norrmann 139                    1     \n",
       "332 GA Norrmann 139                    2     \n",
       "337 PI 674828                          1     \n",
       "338 PI 674828                          2     \n",
       "342 MIA 34444                          1     \n",
       "343 MIA 34444                          2     \n",
       "359 PI 653752                          1     \n",
       "360 PI 653752                          2     \n",
       "368 PI 321437                          1     \n",
       "369 PI 321437                          2     \n",
       "441 Vorontsova, M.S. 1664              2     \n",
       "442 Vorontsova, M.S. 1664              1     \n",
       "445 Reekmans 6922                      1     \n",
       "446 Reekmans 6922                      2     \n",
       "451 Liz Makings 3834                   2     \n",
       "452 Liz Makings 3834                   1     \n",
       "456 E.L. Ekman 17186                   1     \n",
       "457 E.L. Ekman 17186                   2     \n",
       "465 C.F. Hemming 2168                  1     \n",
       "466 C.F. Hemming 2168                  2     \n",
       "468 Tellez V. 11596                    1     \n",
       "469 Tellez V. 11596                    2     \n",
       "477 K.E. Bennett 283138                2     \n",
       "478 K.E. Bennett 283138                1     \n",
       "492 M. Reekmans 11042                  2     \n",
       "493 M. Reekmans 11042                  1     \n",
       "497 Kellogg PI 302076                  2     \n",
       "498 Kellogg PI 302076                  1     \n",
       "506 MOBOT NO DATA                      2     \n",
       "507 MOBOT NO DATA                      1     \n",
       "    file                                                        total_reads\n",
       "22  AN20TSCR000199_CKDL200169515-1a-AK5395-AK5927_HLTF5DSXY_L3  240215178  \n",
       "23  AN20TSCR000199_CKDL220009932-1a-AK5395-AK5927_HN325DSX3_L4  192076561  \n",
       "32  AN20TSCR000208_CKDL200169516-1a-AK5161-AK6675_HLTF5DSXY_L4   41590125  \n",
       "33  AN21TNTL0176_CKDL210009738-1a-AK5161-AK6675_H5C7LDSX2_L4    180110944  \n",
       "34  AN21TNTL0177_CKDL210009737-1a-AK5155-AK6686_H5C7LDSX2_L3    265694347  \n",
       "35  AN20TSCR000209_CKDL200169516-1a-AK5155-AK6686_HLTF5DSXY_L4   11458190  \n",
       "36  AN21TNTL0177_CKDL210009737-1a-AK5155-AK6686_H5C7LDSX2_L3    265694347  \n",
       "37  AN20TSCR000209_CKDL200169516-1a-AK5155-AK6686_HLTF5DSXY_L4   11458190  \n",
       "38  AN21TNTL0178_CKDL210009737-1a-AK5142-AK6697_H5C7LDSX2_L3    289544310  \n",
       "39  AN20TSCR000210_CKDL200169516-1a-AK5142-AK6697_HLTF5DSXY_L4   15154089  \n",
       "41  AN20TSCR000212_CKDL200169516-1a-AK5153-AK6718_HLTF5DSXY_L4  142376442  \n",
       "42  AN20TSCR000212_CKDL220009932-1a-AK5153-AK6718_HN325DSX3_L4  675426444  \n",
       "48  AN20TSCR000218_CKDL220009932-1a-AK5848-AK5137_HN325DSX3_L4  683572471  \n",
       "49  AN20TSCR000218_CKDL200169516-1a-AK5848-AK5137_HLTF5DSXY_L4  242044361  \n",
       "62  AN21TNTL0074_CKDL210009738-1a-AK5151-AK6665_H5C7LDSX2_L4    190200757  \n",
       "63  AN21TNTL0074_CKDL220009932-1a-AK5151-AK6665_HN325DSX3_L4    263183552  \n",
       "64  AN21TNTL0075_CKDL220009932-1a-AK5845-AK6676_HN325DSX3_L4    520578585  \n",
       "65  AN21TNTL0075_CKDL210009737-1a-AK5845-AK6676_H5C7LDSX2_L3    287188066  \n",
       "66  AN21TNTL0076_CKDL210009738-1a-AK4639-AK6604_H5C7LDSX2_L4     50776232  \n",
       "67  AN21TNTL0076_CKDL220009932-1a-AK4639-AK6604_HN325DSX3_L4     40719603  \n",
       "69  AN21TNTL0079_CKDL210009737-1a-AK4944-AK6719_H5C7LDSX2_L3    120424959  \n",
       "70  AN21TNTL0079_CKDL220009932-1a-AK4944-AK6719_HN325DSX3_L4    170777757  \n",
       "73  AN21TNTL0083_CKDL210009737-1a-AK6511-AK6677_H5C7LDSX2_L3    137646857  \n",
       "74  AN21TNTL0083_CKDL220009932-1a-AK6511-AK6677_HN325DSX3_L4    234334668  \n",
       "79  AN21TNTL0091_CKDL220009932-1a-AK5158-AK6684_HN325DSX3_L4    159071864  \n",
       "80  AN21TNTL0091_CKDL210009736-1a-AK5158-AK6684_H5C7LDSX2_L2    302477209  \n",
       "82  AN21TNTL0093_CKDL210009736-1a-AK5999-AK6705_H5C7LDSX2_L2    356474200  \n",
       "83  AN21TNTL0093_CKDL220009932-1a-AK5999-AK6705_HN325DSX3_L4    160668736  \n",
       "90  AN21TNTL0100_CKDL210009736-1a-AK5143-AK6694_H5C7LDSX2_L2    112568400  \n",
       "91  AN21TNTL0100_CKDL220009932-1a-AK5143-AK6694_HN325DSX3_L4    372422076  \n",
       "⋮   ⋮                                                           ⋮          \n",
       "331 AN21TSTL0242_CKDL210011696-1a-AK6540-AK6731_HC5FKDSX2_L2    176000000  \n",
       "332 AN21TSTL0242_CKDL220009931-1a-AK6540-AK6731_HN37MDSX3_L2     93505306  \n",
       "337 AN21TSTL0247_CKDL210011696-1a-AK6526-AK2651_HC5FKDSX2_L2    198000000  \n",
       "338 AN21TSTL0247_CKDL220009931-1a-AK6526-AK2651_HN37MDSX3_L2    183991763  \n",
       "342 AN21TSTL0252_CKDL210011696-1a-AK6509-AK6669_HC5FKDSX2_L2    180000000  \n",
       "343 AN21TSTL0252_CKDL220009931-1a-AK6509-AK6669_HN37MDSX3_L2    219821503  \n",
       "359 AN21TSTL0272_CKDL210011693-1a-AK5140-AK242_HC3LJDSX2_L2     214000000  \n",
       "360 AN21TSTL0272_CKDL220009931-1a-AK5140-AK242_HN37MDSX3_L2     422897579  \n",
       "368 AN21TSTL0280_CKDL210011693-1a-AK4937-AK6664_HC3LJDSX2_L2    231000000  \n",
       "369 AN21TSTL0280_CKDL220009931-1a-AK4937-AK6664_HN37MDSX3_L2    278992174  \n",
       "441 AT20TN1MCRTL026_CKDL220009932-1a-AK5455-AK6685_HN325DSX3_L4  88423379  \n",
       "442 MCRTL026_CKDL200164855-1B-AK5455-AK6685_HMJV7DSXY_L3        367208078  \n",
       "445 MCRTL029_CKDL200164855-1B-AK5155-AK6686_HMJV7DSXY_L3        278062251  \n",
       "446 AT20TN1MCRTL029_CKDL220009932-1a-AK5155-AK6686_HN325DSX3_L4  85926726  \n",
       "451 AT20TN1MCRTL034_CKDL220009932-1a-AK6517-AK6687_HN325DSX3_L4 144910803  \n",
       "452 MCRTL034_CKDL200164855-1B-AK6517-AK6687_HMJV7DSXY_L3        204564209  \n",
       "456 MCRTL038_CKDL200164855-1B-AK6524-AK6699_HMJV7DSXY_L3        203239240  \n",
       "457 AT20TN1MCRTL038_CKDL220009932-1a-AK6524-AK6699_HN325DSX3_L4 144195504  \n",
       "465 MCRTL046_CKDL200164855-1B-AK6529-AK6708_HMJV7DSXY_L3         62807389  \n",
       "466 AT20TN1MCRTL046_CKDL220009932-1a-AK6529-AK6708_HN325DSX3_L4  74670545  \n",
       "468 MCRTL048_CKDL200164856-1B-AK6526-AK2651_HMJV7DSXY_L4        179213267  \n",
       "469 AT20TN1MCRTL048_CKDL220009932-1a-AK6526-AK2651_HN325DSX3_L4  60666738  \n",
       "477 AT20TN1MCRTL056_CKDL220009932-1a-AK6533-AK6713_HN325DSX3_L4  57939336  \n",
       "478 MCRTL056_CKDL200164856-1B-AK6533-AK6713_HMJV7DSXY_L4        218940405  \n",
       "492 AT20TN1MCRTL070_CKDL220009932-1a-AK5147-AK6695_HN325DSX3_L4  38421075  \n",
       "493 MCRTL070_CKDL200164856-1B-AK5147-AK6695_HMJV7DSXY_L4        180051649  \n",
       "497 AT20TS1MCRTL004_CKDL220009931-1a-AK6501-AK6655_HN37MDSX3_L2 437712642  \n",
       "498 MCRTL004_CKDL200164854-1a-AK6501-AK6655_HMGJWDSXY_L4        235987122  \n",
       "506 AT20TS1MCRTL012_CKDL220009931-1a-AK4940-AK6663_HN37MDSX3_L2 104832276  \n",
       "507 MCRTL012_CKDL200164854-1a-AK4940-AK6663_HMGJWDSXY_L4        197643103  \n",
       "    tabasco_complete tabasco_duplicated tabasco_fraged tabasco_missing\n",
       "22  2238             1980               1373              1           \n",
       "23     0                0                  0              0           \n",
       "32  2579               33               2955             25           \n",
       "33     0                0                  0              0           \n",
       "34     0                0                  0              0           \n",
       "35   230                4               3931           1427           \n",
       "36     0                0                  0              0           \n",
       "37   230                4               3931           1427           \n",
       "38     0                0                  0              0           \n",
       "39   579                5               4563            445           \n",
       "41  3049              925               1613              5           \n",
       "42     0                0                  0              0           \n",
       "48     0                0                  0              0           \n",
       "49  2755             1395               1432             10           \n",
       "62  3401              690               1499              2           \n",
       "63     0                0                  0              0           \n",
       "64     0                0                  0              0           \n",
       "65  1636             2610               1344              2           \n",
       "66  2226              199               3161              6           \n",
       "67     0                0                  0              0           \n",
       "69  2438             1344               1809              1           \n",
       "70     0                0                  0              0           \n",
       "73     0                0                  0              0           \n",
       "74     0                0                  0              0           \n",
       "79     0                0                  0              0           \n",
       "80  1642             2577               1369              4           \n",
       "82  1895             1972               1724              1           \n",
       "83     0                0                  0              0           \n",
       "90  1846             2049               1695              2           \n",
       "91     0                0                  0              0           \n",
       "⋮   ⋮                ⋮                  ⋮              ⋮              \n",
       "331 2432             1320               1839           1              \n",
       "332    0                0                  0           0              \n",
       "337 1727             1426               2437           2              \n",
       "338    0                0                  0           0              \n",
       "342 1695             1303               2594           0              \n",
       "343    0                0                  0           0              \n",
       "359 2043             2205               1342           2              \n",
       "360    0                0                  0           0              \n",
       "368 1638             1987               1966           1              \n",
       "369    0                0                  0           0              \n",
       "441    0                0                  0           0              \n",
       "442 2601             1406               1581           4              \n",
       "445 2650             1397               1541           4              \n",
       "446    0                0                  0           0              \n",
       "451    0                0                  0           0              \n",
       "452 1149             2105               2336           2              \n",
       "456 1249             1794               2548           1              \n",
       "457    0                0                  0           0              \n",
       "465 3483               85               2020           4              \n",
       "466    0                0                  0           0              \n",
       "468 1904             1939               1747           2              \n",
       "469    0                0                  0           0              \n",
       "477    0                0                  0           0              \n",
       "478 2425             1497               1666           4              \n",
       "492    0                0                  0           0              \n",
       "493 2727             1222               1638           5              \n",
       "497    0                0                  0           0              \n",
       "498 2721             1028               1837           6              \n",
       "506    0                0                  0           0              \n",
       "507 2652              713               2225           2              "
      ]
     },
     "metadata": {},
     "output_type": "display_data"
    }
   ],
   "source": [
    "mergedDat_noNA[mergedDat_noNA[,1]%in%dupSample,c(1:4,7,8,12:17,29:32)]"
   ]
  },
  {
   "cell_type": "code",
   "execution_count": 198,
   "id": "cfe7d5c5",
   "metadata": {},
   "outputs": [],
   "source": [
    "mergedDat_noNAnoDup = mergedDat_noNA[!(mergedDat_noNA[,1]%in%dupSample&mergedDat_noNA$run_id==2|mergedDat_noNA[,2]==\"AN20T003\"),]"
   ]
  },
  {
   "cell_type": "code",
   "execution_count": 199,
   "id": "4a211a84",
   "metadata": {},
   "outputs": [
    {
     "data": {
      "text/html": [
       "<style>\n",
       ".list-inline {list-style: none; margin:0; padding: 0}\n",
       ".list-inline>li {display: inline-block}\n",
       ".list-inline>li:not(:last-child)::after {content: \"\\00b7\"; padding: 0 .5ex}\n",
       "</style>\n",
       "<ol class=list-inline><li>466</li><li>32</li></ol>\n"
      ],
      "text/latex": [
       "\\begin{enumerate*}\n",
       "\\item 466\n",
       "\\item 32\n",
       "\\end{enumerate*}\n"
      ],
      "text/markdown": [
       "1. 466\n",
       "2. 32\n",
       "\n",
       "\n"
      ],
      "text/plain": [
       "[1] 466  32"
      ]
     },
     "metadata": {},
     "output_type": "display_data"
    }
   ],
   "source": [
    "dim(mergedDat_noNAnoDup)"
   ]
  },
  {
   "cell_type": "code",
   "execution_count": 200,
   "id": "f3dd8880",
   "metadata": {},
   "outputs": [
    {
     "data": {
      "text/html": [
       "11"
      ],
      "text/latex": [
       "11"
      ],
      "text/markdown": [
       "11"
      ],
      "text/plain": [
       "[1] 11"
      ]
     },
     "metadata": {},
     "output_type": "display_data"
    }
   ],
   "source": [
    "sum(mergedDat_noNAnoDup$correctSpecies==\"Omit\")"
   ]
  },
  {
   "cell_type": "code",
   "execution_count": 201,
   "id": "e7784b74",
   "metadata": {},
   "outputs": [
    {
     "data": {
      "text/html": [
       "<table class=\"dataframe\">\n",
       "<caption>A data.frame: 11 × 9</caption>\n",
       "<thead>\n",
       "\t<tr><th></th><th scope=col>tracker_sample_name</th><th scope=col>assemblyID</th><th scope=col>correctSpecies</th><th scope=col>CorrectEcotype</th><th scope=col>Species</th><th scope=col>genotype_info</th><th scope=col>tracker_organism</th><th scope=col>alternative_names</th><th scope=col>ecotype</th></tr>\n",
       "\t<tr><th></th><th scope=col>&lt;chr&gt;</th><th scope=col>&lt;chr&gt;</th><th scope=col>&lt;chr&gt;</th><th scope=col>&lt;chr&gt;</th><th scope=col>&lt;chr&gt;</th><th scope=col>&lt;chr&gt;</th><th scope=col>&lt;chr&gt;</th><th scope=col>&lt;chr&gt;</th><th scope=col>&lt;chr&gt;</th></tr>\n",
       "</thead>\n",
       "<tbody>\n",
       "\t<tr><th scope=row>138</th><td>AN21TNTL0173   </td><td>AN21TNTL0173</td><td>Omit</td><td>Omit                     </td><td>Eulalia villosa           </td><td>NOP 108                  </td><td>NA</td><td>NA</td><td>NA</td></tr>\n",
       "\t<tr><th scope=row>189</th><td>AN21TSTL0005   </td><td>AN21TS05    </td><td>Omit</td><td>Omit                     </td><td>Schizachyrium sanguineum  </td><td>AUB 139                  </td><td>NA</td><td>NA</td><td>NA</td></tr>\n",
       "\t<tr><th scope=row>225</th><td>AN21TSTL0037   </td><td>AN21TS37    </td><td>Omit</td><td>PI 349688002 - White seed</td><td>Digitaria iburua          </td><td>PI 349688002 - White seed</td><td>NA</td><td>NA</td><td>NA</td></tr>\n",
       "\t<tr><th scope=row>227</th><td>AN21TSTL0039   </td><td>AN21TS39    </td><td>Omit</td><td>Omit                     </td><td>Hyparrhenia sp.           </td><td>Pasquet 1149             </td><td>NA</td><td>NA</td><td>NA</td></tr>\n",
       "\t<tr><th scope=row>229</th><td>AN21TSTL0041   </td><td>AN21TS41    </td><td>Omit</td><td>Omit                     </td><td>Hyparrhenia variabilis    </td><td>Pasquet 1124             </td><td>NA</td><td>NA</td><td>NA</td></tr>\n",
       "\t<tr><th scope=row>233</th><td>AN21TSTL0044   </td><td>AN21TS44    </td><td>Omit</td><td>Omit                     </td><td>Saccharum brevibarbe      </td><td>MIA 33319                </td><td>NA</td><td>NA</td><td>NA</td></tr>\n",
       "\t<tr><th scope=row>272</th><td>AN21TSTL0183   </td><td>AN21TSTL0183</td><td>Omit</td><td>Omit                     </td><td>Andropogon arctatus       </td><td>AUB 130                  </td><td>NA</td><td>NA</td><td>NA</td></tr>\n",
       "\t<tr><th scope=row>294</th><td>AN21TSTL0205   </td><td>AN21TSTL0205</td><td>Omit</td><td>Omit                     </td><td>Schizachyrium stoloniferum</td><td>AUB 131                  </td><td>NA</td><td>NA</td><td>NA</td></tr>\n",
       "\t<tr><th scope=row>340</th><td>AN21TSTL0250   </td><td>AN21TSTL0250</td><td>Omit</td><td>Omit                     </td><td>Saccharum narenga         </td><td>PI 246359                </td><td>NA</td><td>NA</td><td>NA</td></tr>\n",
       "\t<tr><th scope=row>444</th><td>AT20TN1MCRTL028</td><td>MCRTL028    </td><td>Omit</td><td>Omit                     </td><td>Diheteropogon filifolius  </td><td>Brand; Kay; Logie 316    </td><td>NA</td><td>NA</td><td>NA</td></tr>\n",
       "\t<tr><th scope=row>519</th><td>AT20TS1MCRTL024</td><td>MCRTL024    </td><td>Omit</td><td>Omit                     </td><td>Ophiuros megaphyllus      </td><td>Traiperm 176             </td><td>NA</td><td>NA</td><td>NA</td></tr>\n",
       "</tbody>\n",
       "</table>\n"
      ],
      "text/latex": [
       "A data.frame: 11 × 9\n",
       "\\begin{tabular}{r|lllllllll}\n",
       "  & tracker\\_sample\\_name & assemblyID & correctSpecies & CorrectEcotype & Species & genotype\\_info & tracker\\_organism & alternative\\_names & ecotype\\\\\n",
       "  & <chr> & <chr> & <chr> & <chr> & <chr> & <chr> & <chr> & <chr> & <chr>\\\\\n",
       "\\hline\n",
       "\t138 & AN21TNTL0173    & AN21TNTL0173 & Omit & Omit                      & Eulalia villosa            & NOP 108                   & NA & NA & NA\\\\\n",
       "\t189 & AN21TSTL0005    & AN21TS05     & Omit & Omit                      & Schizachyrium sanguineum   & AUB 139                   & NA & NA & NA\\\\\n",
       "\t225 & AN21TSTL0037    & AN21TS37     & Omit & PI 349688002 - White seed & Digitaria iburua           & PI 349688002 - White seed & NA & NA & NA\\\\\n",
       "\t227 & AN21TSTL0039    & AN21TS39     & Omit & Omit                      & Hyparrhenia sp.            & Pasquet 1149              & NA & NA & NA\\\\\n",
       "\t229 & AN21TSTL0041    & AN21TS41     & Omit & Omit                      & Hyparrhenia variabilis     & Pasquet 1124              & NA & NA & NA\\\\\n",
       "\t233 & AN21TSTL0044    & AN21TS44     & Omit & Omit                      & Saccharum brevibarbe       & MIA 33319                 & NA & NA & NA\\\\\n",
       "\t272 & AN21TSTL0183    & AN21TSTL0183 & Omit & Omit                      & Andropogon arctatus        & AUB 130                   & NA & NA & NA\\\\\n",
       "\t294 & AN21TSTL0205    & AN21TSTL0205 & Omit & Omit                      & Schizachyrium stoloniferum & AUB 131                   & NA & NA & NA\\\\\n",
       "\t340 & AN21TSTL0250    & AN21TSTL0250 & Omit & Omit                      & Saccharum narenga          & PI 246359                 & NA & NA & NA\\\\\n",
       "\t444 & AT20TN1MCRTL028 & MCRTL028     & Omit & Omit                      & Diheteropogon filifolius   & Brand; Kay; Logie 316     & NA & NA & NA\\\\\n",
       "\t519 & AT20TS1MCRTL024 & MCRTL024     & Omit & Omit                      & Ophiuros megaphyllus       & Traiperm 176              & NA & NA & NA\\\\\n",
       "\\end{tabular}\n"
      ],
      "text/markdown": [
       "\n",
       "A data.frame: 11 × 9\n",
       "\n",
       "| <!--/--> | tracker_sample_name &lt;chr&gt; | assemblyID &lt;chr&gt; | correctSpecies &lt;chr&gt; | CorrectEcotype &lt;chr&gt; | Species &lt;chr&gt; | genotype_info &lt;chr&gt; | tracker_organism &lt;chr&gt; | alternative_names &lt;chr&gt; | ecotype &lt;chr&gt; |\n",
       "|---|---|---|---|---|---|---|---|---|---|\n",
       "| 138 | AN21TNTL0173    | AN21TNTL0173 | Omit | Omit                      | Eulalia villosa            | NOP 108                   | NA | NA | NA |\n",
       "| 189 | AN21TSTL0005    | AN21TS05     | Omit | Omit                      | Schizachyrium sanguineum   | AUB 139                   | NA | NA | NA |\n",
       "| 225 | AN21TSTL0037    | AN21TS37     | Omit | PI 349688002 - White seed | Digitaria iburua           | PI 349688002 - White seed | NA | NA | NA |\n",
       "| 227 | AN21TSTL0039    | AN21TS39     | Omit | Omit                      | Hyparrhenia sp.            | Pasquet 1149              | NA | NA | NA |\n",
       "| 229 | AN21TSTL0041    | AN21TS41     | Omit | Omit                      | Hyparrhenia variabilis     | Pasquet 1124              | NA | NA | NA |\n",
       "| 233 | AN21TSTL0044    | AN21TS44     | Omit | Omit                      | Saccharum brevibarbe       | MIA 33319                 | NA | NA | NA |\n",
       "| 272 | AN21TSTL0183    | AN21TSTL0183 | Omit | Omit                      | Andropogon arctatus        | AUB 130                   | NA | NA | NA |\n",
       "| 294 | AN21TSTL0205    | AN21TSTL0205 | Omit | Omit                      | Schizachyrium stoloniferum | AUB 131                   | NA | NA | NA |\n",
       "| 340 | AN21TSTL0250    | AN21TSTL0250 | Omit | Omit                      | Saccharum narenga          | PI 246359                 | NA | NA | NA |\n",
       "| 444 | AT20TN1MCRTL028 | MCRTL028     | Omit | Omit                      | Diheteropogon filifolius   | Brand; Kay; Logie 316     | NA | NA | NA |\n",
       "| 519 | AT20TS1MCRTL024 | MCRTL024     | Omit | Omit                      | Ophiuros megaphyllus       | Traiperm 176              | NA | NA | NA |\n",
       "\n"
      ],
      "text/plain": [
       "    tracker_sample_name assemblyID   correctSpecies CorrectEcotype           \n",
       "138 AN21TNTL0173        AN21TNTL0173 Omit           Omit                     \n",
       "189 AN21TSTL0005        AN21TS05     Omit           Omit                     \n",
       "225 AN21TSTL0037        AN21TS37     Omit           PI 349688002 - White seed\n",
       "227 AN21TSTL0039        AN21TS39     Omit           Omit                     \n",
       "229 AN21TSTL0041        AN21TS41     Omit           Omit                     \n",
       "233 AN21TSTL0044        AN21TS44     Omit           Omit                     \n",
       "272 AN21TSTL0183        AN21TSTL0183 Omit           Omit                     \n",
       "294 AN21TSTL0205        AN21TSTL0205 Omit           Omit                     \n",
       "340 AN21TSTL0250        AN21TSTL0250 Omit           Omit                     \n",
       "444 AT20TN1MCRTL028     MCRTL028     Omit           Omit                     \n",
       "519 AT20TS1MCRTL024     MCRTL024     Omit           Omit                     \n",
       "    Species                    genotype_info             tracker_organism\n",
       "138 Eulalia villosa            NOP 108                   NA              \n",
       "189 Schizachyrium sanguineum   AUB 139                   NA              \n",
       "225 Digitaria iburua           PI 349688002 - White seed NA              \n",
       "227 Hyparrhenia sp.            Pasquet 1149              NA              \n",
       "229 Hyparrhenia variabilis     Pasquet 1124              NA              \n",
       "233 Saccharum brevibarbe       MIA 33319                 NA              \n",
       "272 Andropogon arctatus        AUB 130                   NA              \n",
       "294 Schizachyrium stoloniferum AUB 131                   NA              \n",
       "340 Saccharum narenga          PI 246359                 NA              \n",
       "444 Diheteropogon filifolius   Brand; Kay; Logie 316     NA              \n",
       "519 Ophiuros megaphyllus       Traiperm 176              NA              \n",
       "    alternative_names ecotype\n",
       "138 NA                NA     \n",
       "189 NA                NA     \n",
       "225 NA                NA     \n",
       "227 NA                NA     \n",
       "229 NA                NA     \n",
       "233 NA                NA     \n",
       "272 NA                NA     \n",
       "294 NA                NA     \n",
       "340 NA                NA     \n",
       "444 NA                NA     \n",
       "519 NA                NA     "
      ]
     },
     "metadata": {},
     "output_type": "display_data"
    }
   ],
   "source": [
    "mergedDat_noNAnoDup[mergedDat_noNAnoDup$correctSpecies==\"Omit\",c(1:6,12:14)]"
   ]
  },
  {
   "cell_type": "code",
   "execution_count": 45,
   "id": "e48685cc",
   "metadata": {},
   "outputs": [],
   "source": [
    "write.table(mergedDat_noNAnoDup[mergedDat_noNAnoDup$correctSpecies==\"Omit\",c(1:6,12:14)],\n",
    "            \"/workdir/sh2246/p_phyloGWAS/output/metadata_processing/badSampleMetadata.txt\",quote = F,sep = \"\\t\",row.names = F)"
   ]
  },
  {
   "cell_type": "code",
   "execution_count": 202,
   "id": "dc7c9b55",
   "metadata": {},
   "outputs": [],
   "source": [
    "mergedDat_noNAnoDupnoBad = mergedDat_noNAnoDup[!mergedDat_noNAnoDup$correctSpecies==\"Omit\",]"
   ]
  },
  {
   "cell_type": "code",
   "execution_count": 203,
   "id": "ebfd45e6",
   "metadata": {},
   "outputs": [
    {
     "data": {
      "text/html": [
       "<style>\n",
       ".list-inline {list-style: none; margin:0; padding: 0}\n",
       ".list-inline>li {display: inline-block}\n",
       ".list-inline>li:not(:last-child)::after {content: \"\\00b7\"; padding: 0 .5ex}\n",
       "</style>\n",
       "<ol class=list-inline><li>455</li><li>32</li></ol>\n"
      ],
      "text/latex": [
       "\\begin{enumerate*}\n",
       "\\item 455\n",
       "\\item 32\n",
       "\\end{enumerate*}\n"
      ],
      "text/markdown": [
       "1. 455\n",
       "2. 32\n",
       "\n",
       "\n"
      ],
      "text/plain": [
       "[1] 455  32"
      ]
     },
     "metadata": {},
     "output_type": "display_data"
    }
   ],
   "source": [
    "dim(mergedDat_noNAnoDupnoBad)"
   ]
  },
  {
   "cell_type": "code",
   "execution_count": 204,
   "id": "ec0a62ba",
   "metadata": {},
   "outputs": [
    {
     "data": {
      "text/html": [
       "1"
      ],
      "text/latex": [
       "1"
      ],
      "text/markdown": [
       "1"
      ],
      "text/plain": [
       "[1] 1"
      ]
     },
     "metadata": {},
     "output_type": "display_data"
    }
   ],
   "source": [
    "sum(is.na(mergedDat_noNAnoDupnoBad$tracker_organism))"
   ]
  },
  {
   "cell_type": "code",
   "execution_count": 205,
   "id": "5bc2c144",
   "metadata": {},
   "outputs": [
    {
     "data": {
      "text/html": [
       "<table class=\"dataframe\">\n",
       "<caption>A data.frame: 9 × 9</caption>\n",
       "<thead>\n",
       "\t<tr><th></th><th scope=col>tracker_sample_name</th><th scope=col>assemblyID</th><th scope=col>correctSpecies</th><th scope=col>CorrectEcotype</th><th scope=col>Species</th><th scope=col>genotype_info</th><th scope=col>tracker_organism</th><th scope=col>alternative_names</th><th scope=col>ecotype</th></tr>\n",
       "\t<tr><th></th><th scope=col>&lt;chr&gt;</th><th scope=col>&lt;chr&gt;</th><th scope=col>&lt;chr&gt;</th><th scope=col>&lt;chr&gt;</th><th scope=col>&lt;chr&gt;</th><th scope=col>&lt;chr&gt;</th><th scope=col>&lt;chr&gt;</th><th scope=col>&lt;chr&gt;</th><th scope=col>&lt;chr&gt;</th></tr>\n",
       "</thead>\n",
       "<tbody>\n",
       "\t<tr><th scope=row>16</th><td>AN20TSCR000193 </td><td>AN20T193       </td><td>Eulalia polynura        </td><td>Osborne 914                       </td><td>Ischaemum afrum         </td><td>JO 914                            </td><td>Eulalia polyneura                        </td><td>                      </td><td>Osborne 914                       </td></tr>\n",
       "\t<tr><th scope=row>20</th><td>AN20TSCR000197 </td><td>AN20T197       </td><td>Vorontsova 1917         </td><td>MSV 1917                          </td><td>Microstegium nudum      </td><td>MSV 1917                          </td><td>Microstegium nudum                       </td><td>                      </td><td>Vorontsova 1917                   </td></tr>\n",
       "\t<tr><th scope=row>28</th><td>AN20TSCR000204 </td><td>AN20T035       </td><td>Andropogon trichozygum  </td><td>MSV 1925                          </td><td>Andropogon trichozygus  </td><td>MSV 1925                          </td><td>Anatherum trichozygum                    </td><td>Andropogon trichozygus</td><td>MSV 1925                          </td></tr>\n",
       "\t<tr><th scope=row>59</th><td>AN20TSCR000231 </td><td>AN21TNTL0172   </td><td>Diheteropogon amplectens</td><td>MSV 1663                          </td><td>Diheteropogon amplectens</td><td>MSV 1663_catangensis              </td><td>Diheteropogon amplectens var. catangensis</td><td>                      </td><td>MSV 1663                          </td></tr>\n",
       "\t<tr><th scope=row>62</th><td>AN21TNTL0074   </td><td>AN21TNTL0074   </td><td>Andropogon gayanus      </td><td>C.C.H. Jongkind 2476_bisquamulatus</td><td>Andropogon gayanus      </td><td>C.C.H. Jongkind 2476_bisquamulatus</td><td>Andropogon gayanus var. bisquamulatus    </td><td>                      </td><td>C.C.H. Jongkind 2476              </td></tr>\n",
       "\t<tr><th scope=row>182</th><td>AN21TNTL0362   </td><td>AN21TNTL0362   </td><td>Saccharum strictum      </td><td>R. Kral 64488                     </td><td>Saccharum strictum      </td><td>NA                                </td><td>Tripidium strictum                       </td><td>Saccharum strictum    </td><td>R. Kral 64488                     </td></tr>\n",
       "\t<tr><th scope=row>247</th><td>AN21TSTL0055   </td><td>AN21TS55       </td><td>Anatherum virginicum    </td><td>Welker 404                        </td><td>Andropogon virgatus     </td><td>Welker 404                        </td><td>Andropogon virgatus                      </td><td>                      </td><td>Welker 404                        </td></tr>\n",
       "\t<tr><th scope=row>467</th><td>AT20TN1MCRTL047</td><td>MCRTL047       </td><td>Cymbopogon lividius     </td><td>T.R. Soderstrom; S. Kulatunge 1669</td><td>Andropogon lividus      </td><td>T.R. Soderstrom; S. Kulatunge 1669</td><td>Cymbopogon lividus                       </td><td>Andropogon lividus    </td><td>T.R. Soderstrom, S. Kulatunge 1669</td></tr>\n",
       "\t<tr><th scope=row>498</th><td>AT20TS1MCRTL004</td><td>AT20TS1MCRTL004</td><td>Eremopogon foveolatum   </td><td>Kellogg PI 302076                 </td><td>Dichanthium foveolatum  </td><td>PI 302076                         </td><td>Eremopogon foveolatus                    </td><td>Dichanthium foveolatum</td><td>Kellogg PI 302076                 </td></tr>\n",
       "</tbody>\n",
       "</table>\n"
      ],
      "text/latex": [
       "A data.frame: 9 × 9\n",
       "\\begin{tabular}{r|lllllllll}\n",
       "  & tracker\\_sample\\_name & assemblyID & correctSpecies & CorrectEcotype & Species & genotype\\_info & tracker\\_organism & alternative\\_names & ecotype\\\\\n",
       "  & <chr> & <chr> & <chr> & <chr> & <chr> & <chr> & <chr> & <chr> & <chr>\\\\\n",
       "\\hline\n",
       "\t16 & AN20TSCR000193  & AN20T193        & Eulalia polynura         & Osborne 914                        & Ischaemum afrum          & JO 914                             & Eulalia polyneura                         &                        & Osborne 914                       \\\\\n",
       "\t20 & AN20TSCR000197  & AN20T197        & Vorontsova 1917          & MSV 1917                           & Microstegium nudum       & MSV 1917                           & Microstegium nudum                        &                        & Vorontsova 1917                   \\\\\n",
       "\t28 & AN20TSCR000204  & AN20T035        & Andropogon trichozygum   & MSV 1925                           & Andropogon trichozygus   & MSV 1925                           & Anatherum trichozygum                     & Andropogon trichozygus & MSV 1925                          \\\\\n",
       "\t59 & AN20TSCR000231  & AN21TNTL0172    & Diheteropogon amplectens & MSV 1663                           & Diheteropogon amplectens & MSV 1663\\_catangensis               & Diheteropogon amplectens var. catangensis &                        & MSV 1663                          \\\\\n",
       "\t62 & AN21TNTL0074    & AN21TNTL0074    & Andropogon gayanus       & C.C.H. Jongkind 2476\\_bisquamulatus & Andropogon gayanus       & C.C.H. Jongkind 2476\\_bisquamulatus & Andropogon gayanus var. bisquamulatus     &                        & C.C.H. Jongkind 2476              \\\\\n",
       "\t182 & AN21TNTL0362    & AN21TNTL0362    & Saccharum strictum       & R. Kral 64488                      & Saccharum strictum       & NA                                 & Tripidium strictum                        & Saccharum strictum     & R. Kral 64488                     \\\\\n",
       "\t247 & AN21TSTL0055    & AN21TS55        & Anatherum virginicum     & Welker 404                         & Andropogon virgatus      & Welker 404                         & Andropogon virgatus                       &                        & Welker 404                        \\\\\n",
       "\t467 & AT20TN1MCRTL047 & MCRTL047        & Cymbopogon lividius      & T.R. Soderstrom; S. Kulatunge 1669 & Andropogon lividus       & T.R. Soderstrom; S. Kulatunge 1669 & Cymbopogon lividus                        & Andropogon lividus     & T.R. Soderstrom, S. Kulatunge 1669\\\\\n",
       "\t498 & AT20TS1MCRTL004 & AT20TS1MCRTL004 & Eremopogon foveolatum    & Kellogg PI 302076                  & Dichanthium foveolatum   & PI 302076                          & Eremopogon foveolatus                     & Dichanthium foveolatum & Kellogg PI 302076                 \\\\\n",
       "\\end{tabular}\n"
      ],
      "text/markdown": [
       "\n",
       "A data.frame: 9 × 9\n",
       "\n",
       "| <!--/--> | tracker_sample_name &lt;chr&gt; | assemblyID &lt;chr&gt; | correctSpecies &lt;chr&gt; | CorrectEcotype &lt;chr&gt; | Species &lt;chr&gt; | genotype_info &lt;chr&gt; | tracker_organism &lt;chr&gt; | alternative_names &lt;chr&gt; | ecotype &lt;chr&gt; |\n",
       "|---|---|---|---|---|---|---|---|---|---|\n",
       "| 16 | AN20TSCR000193  | AN20T193        | Eulalia polynura         | Osborne 914                        | Ischaemum afrum          | JO 914                             | Eulalia polyneura                         | <!----> | Osborne 914                        |\n",
       "| 20 | AN20TSCR000197  | AN20T197        | Vorontsova 1917          | MSV 1917                           | Microstegium nudum       | MSV 1917                           | Microstegium nudum                        | <!----> | Vorontsova 1917                    |\n",
       "| 28 | AN20TSCR000204  | AN20T035        | Andropogon trichozygum   | MSV 1925                           | Andropogon trichozygus   | MSV 1925                           | Anatherum trichozygum                     | Andropogon trichozygus | MSV 1925                           |\n",
       "| 59 | AN20TSCR000231  | AN21TNTL0172    | Diheteropogon amplectens | MSV 1663                           | Diheteropogon amplectens | MSV 1663_catangensis               | Diheteropogon amplectens var. catangensis | <!----> | MSV 1663                           |\n",
       "| 62 | AN21TNTL0074    | AN21TNTL0074    | Andropogon gayanus       | C.C.H. Jongkind 2476_bisquamulatus | Andropogon gayanus       | C.C.H. Jongkind 2476_bisquamulatus | Andropogon gayanus var. bisquamulatus     | <!----> | C.C.H. Jongkind 2476               |\n",
       "| 182 | AN21TNTL0362    | AN21TNTL0362    | Saccharum strictum       | R. Kral 64488                      | Saccharum strictum       | NA                                 | Tripidium strictum                        | Saccharum strictum     | R. Kral 64488                      |\n",
       "| 247 | AN21TSTL0055    | AN21TS55        | Anatherum virginicum     | Welker 404                         | Andropogon virgatus      | Welker 404                         | Andropogon virgatus                       | <!----> | Welker 404                         |\n",
       "| 467 | AT20TN1MCRTL047 | MCRTL047        | Cymbopogon lividius      | T.R. Soderstrom; S. Kulatunge 1669 | Andropogon lividus       | T.R. Soderstrom; S. Kulatunge 1669 | Cymbopogon lividus                        | Andropogon lividus     | T.R. Soderstrom, S. Kulatunge 1669 |\n",
       "| 498 | AT20TS1MCRTL004 | AT20TS1MCRTL004 | Eremopogon foveolatum    | Kellogg PI 302076                  | Dichanthium foveolatum   | PI 302076                          | Eremopogon foveolatus                     | Dichanthium foveolatum | Kellogg PI 302076                  |\n",
       "\n"
      ],
      "text/plain": [
       "    tracker_sample_name assemblyID      correctSpecies          \n",
       "16  AN20TSCR000193      AN20T193        Eulalia polynura        \n",
       "20  AN20TSCR000197      AN20T197        Vorontsova 1917         \n",
       "28  AN20TSCR000204      AN20T035        Andropogon trichozygum  \n",
       "59  AN20TSCR000231      AN21TNTL0172    Diheteropogon amplectens\n",
       "62  AN21TNTL0074        AN21TNTL0074    Andropogon gayanus      \n",
       "182 AN21TNTL0362        AN21TNTL0362    Saccharum strictum      \n",
       "247 AN21TSTL0055        AN21TS55        Anatherum virginicum    \n",
       "467 AT20TN1MCRTL047     MCRTL047        Cymbopogon lividius     \n",
       "498 AT20TS1MCRTL004     AT20TS1MCRTL004 Eremopogon foveolatum   \n",
       "    CorrectEcotype                     Species                 \n",
       "16  Osborne 914                        Ischaemum afrum         \n",
       "20  MSV 1917                           Microstegium nudum      \n",
       "28  MSV 1925                           Andropogon trichozygus  \n",
       "59  MSV 1663                           Diheteropogon amplectens\n",
       "62  C.C.H. Jongkind 2476_bisquamulatus Andropogon gayanus      \n",
       "182 R. Kral 64488                      Saccharum strictum      \n",
       "247 Welker 404                         Andropogon virgatus     \n",
       "467 T.R. Soderstrom; S. Kulatunge 1669 Andropogon lividus      \n",
       "498 Kellogg PI 302076                  Dichanthium foveolatum  \n",
       "    genotype_info                     \n",
       "16  JO 914                            \n",
       "20  MSV 1917                          \n",
       "28  MSV 1925                          \n",
       "59  MSV 1663_catangensis              \n",
       "62  C.C.H. Jongkind 2476_bisquamulatus\n",
       "182 NA                                \n",
       "247 Welker 404                        \n",
       "467 T.R. Soderstrom; S. Kulatunge 1669\n",
       "498 PI 302076                         \n",
       "    tracker_organism                          alternative_names     \n",
       "16  Eulalia polyneura                                               \n",
       "20  Microstegium nudum                                              \n",
       "28  Anatherum trichozygum                     Andropogon trichozygus\n",
       "59  Diheteropogon amplectens var. catangensis                       \n",
       "62  Andropogon gayanus var. bisquamulatus                           \n",
       "182 Tripidium strictum                        Saccharum strictum    \n",
       "247 Andropogon virgatus                                             \n",
       "467 Cymbopogon lividus                        Andropogon lividus    \n",
       "498 Eremopogon foveolatus                     Dichanthium foveolatum\n",
       "    ecotype                           \n",
       "16  Osborne 914                       \n",
       "20  Vorontsova 1917                   \n",
       "28  MSV 1925                          \n",
       "59  MSV 1663                          \n",
       "62  C.C.H. Jongkind 2476              \n",
       "182 R. Kral 64488                     \n",
       "247 Welker 404                        \n",
       "467 T.R. Soderstrom, S. Kulatunge 1669\n",
       "498 Kellogg PI 302076                 "
      ]
     },
     "metadata": {},
     "output_type": "display_data"
    }
   ],
   "source": [
    "mergedDat_noNAnoDupnoBad[with(mergedDat_noNAnoDupnoBad,which(correctSpecies != tracker_organism)),c(1:6,12:14)]"
   ]
  },
  {
   "cell_type": "code",
   "execution_count": 37,
   "id": "09d92381",
   "metadata": {},
   "outputs": [],
   "source": [
    "write.table(mergedDat_noNAnoDupnoBad[with(mergedDat_noNAnoDupnoBad,which(correctSpecies != tracker_organism)),c(1:6,12:14)],\n",
    "            \"/workdir/sh2246/p_phyloGWAS/output/metadata_processing/mismatchMetadata.txt\",quote = F,sep = \"\\t\")"
   ]
  },
  {
   "cell_type": "code",
   "execution_count": null,
   "id": "42a2df65",
   "metadata": {},
   "outputs": [],
   "source": [
    "# AN20TSCR000204 should be Anatherum trichozygum\n",
    "\n"
   ]
  },
  {
   "cell_type": "code",
   "execution_count": null,
   "id": "b9384243",
   "metadata": {},
   "outputs": [],
   "source": [
    "#all good now!! (20240819)"
   ]
  },
  {
   "cell_type": "code",
   "execution_count": null,
   "id": "c3915528",
   "metadata": {},
   "outputs": [],
   "source": [
    "#Real processing start from here"
   ]
  },
  {
   "cell_type": "code",
   "execution_count": 277,
   "id": "5a401fba",
   "metadata": {},
   "outputs": [],
   "source": [
    "limsDat_noNA = limsDat[!is.na(limsDat[,1]),]\n",
    "dupSample2 = unique(limsDat_noNA[duplicated(limsDat[,1]),1])\n",
    "limsDat_noNAnoDup = limsDat_noNA[!(limsDat_noNA[,1]%in%dupSample2&limsDat_noNA$run_id==2),]"
   ]
  },
  {
   "cell_type": "code",
   "execution_count": 278,
   "id": "24eb178a",
   "metadata": {},
   "outputs": [
    {
     "data": {
      "text/html": [
       "<style>\n",
       ".list-inline {list-style: none; margin:0; padding: 0}\n",
       ".list-inline>li {display: inline-block}\n",
       ".list-inline>li:not(:last-child)::after {content: \"\\00b7\"; padding: 0 .5ex}\n",
       "</style>\n",
       "<ol class=list-inline><li>454</li><li>22</li></ol>\n"
      ],
      "text/latex": [
       "\\begin{enumerate*}\n",
       "\\item 454\n",
       "\\item 22\n",
       "\\end{enumerate*}\n"
      ],
      "text/markdown": [
       "1. 454\n",
       "2. 22\n",
       "\n",
       "\n"
      ],
      "text/plain": [
       "[1] 454  22"
      ]
     },
     "metadata": {},
     "output_type": "display_data"
    }
   ],
   "source": [
    "dim(limsDat_noNAnoDup)"
   ]
  },
  {
   "cell_type": "code",
   "execution_count": 279,
   "id": "331339a5",
   "metadata": {},
   "outputs": [
    {
     "data": {
      "text/html": [
       "<table class=\"dataframe\">\n",
       "<caption>A data.frame: 6 × 22</caption>\n",
       "<thead>\n",
       "\t<tr><th></th><th scope=col>tracker_sample_name</th><th scope=col>tracker_organism</th><th scope=col>alternative_names</th><th scope=col>ecotype</th><th scope=col>run_id</th><th scope=col>file</th><th scope=col>total_reads</th><th scope=col>gb_num</th><th scope=col>frac_mapped</th><th scope=col>percent_dup</th><th scope=col>⋯</th><th scope=col>bacteria</th><th scope=col>homo_s</th><th scope=col>tribe_qc</th><th scope=col>genus_qc</th><th scope=col>species</th><th scope=col>matched_gene_and_read_counts</th><th scope=col>tabasco_complete</th><th scope=col>tabasco_duplicated</th><th scope=col>tabasco_fraged</th><th scope=col>tabasco_missing</th></tr>\n",
       "\t<tr><th></th><th scope=col>&lt;chr&gt;</th><th scope=col>&lt;chr&gt;</th><th scope=col>&lt;chr&gt;</th><th scope=col>&lt;chr&gt;</th><th scope=col>&lt;int&gt;</th><th scope=col>&lt;chr&gt;</th><th scope=col>&lt;int&gt;</th><th scope=col>&lt;dbl&gt;</th><th scope=col>&lt;dbl&gt;</th><th scope=col>&lt;dbl&gt;</th><th scope=col>⋯</th><th scope=col>&lt;dbl&gt;</th><th scope=col>&lt;dbl&gt;</th><th scope=col>&lt;chr&gt;</th><th scope=col>&lt;chr&gt;</th><th scope=col>&lt;chr&gt;</th><th scope=col>&lt;chr&gt;</th><th scope=col>&lt;int&gt;</th><th scope=col>&lt;int&gt;</th><th scope=col>&lt;int&gt;</th><th scope=col>&lt;int&gt;</th></tr>\n",
       "</thead>\n",
       "<tbody>\n",
       "\t<tr><th scope=row>1</th><td>AT20TS1MCRTL001</td><td>Rottboellia campestris</td><td>Coelorachis cylindrica (Mnesithea)</td><td>Kellogg 1258      </td><td>1</td><td>MCRTL001_CKDL200164854-1a-AK5140-AK242_HMGJWDSXY_L4 </td><td>272268296</td><td>40.8</td><td>0.366</td><td>0.000</td><td>⋯</td><td>0.45</td><td>1.42</td><td>Andropogoneae</td><td>Mnesithea;Eremochloa;Saccharum        </td><td>helferi;ophiuroides;arundinaceum;eriopoda             </td><td>NC_035036(253);NC_036716(236);NC_030777(214);NC_035023(214)               </td><td>5325</td><td> 107</td><td> 156</td><td>4</td></tr>\n",
       "\t<tr><th scope=row>2</th><td>AT20TS1MCRTL013</td><td>Hyperthelia dissoluta </td><td>                                  </td><td>Kellogg 1137      </td><td>1</td><td>MCRTL013_CKDL200164854-1a-AK5395-AK5927_HMGJWDSXY_L4</td><td>154100842</td><td>23.1</td><td>0.433</td><td>0.147</td><td>⋯</td><td>0.41</td><td>2.30</td><td>Andropogoneae</td><td>Hyparrhenia;Andropogon                </td><td>diplandra;variabilis;subplumosa;greenwayi;gayanus     </td><td>NC_035037(321);NC_040112(321);NC_030625(315);NC_040128(294);NC_040127(280)</td><td>3705</td><td> 662</td><td>1220</td><td>5</td></tr>\n",
       "\t<tr><th scope=row>3</th><td>AT20TS1MCRTL002</td><td>Tripsacum laxum       </td><td>                                  </td><td>Kellogg MIA 34792 </td><td>1</td><td>MCRTL002_CKDL200164854-1a-AK4939-AK6653_HMGJWDSXY_L4</td><td>206616665</td><td>31.0</td><td>0.212</td><td>0.160</td><td>⋯</td><td>0.21</td><td>0.94</td><td>Andropogoneae</td><td>Zea;Saccharum;Tripidium               </td><td>perennis;luxurians;diploperennis;arundinaceum;ravennae</td><td>NC_030300(370);NC_030301(357);NC_030377(357);NC_030777(353);NC_042735(345)</td><td>2497</td><td>1603</td><td>1492</td><td>0</td></tr>\n",
       "\t<tr><th scope=row>4</th><td>AT20TS1MCRTL014</td><td><span style=white-space:pre-wrap>Rottboellia rugosa    </span></td><td><span style=white-space:pre-wrap>Coelorachis rugosa                </span></td><td>Layton &amp; Zhong 162</td><td>1</td><td>MCRTL014_CKDL200164854-1a-AK4937-AK6664_HMGJWDSXY_L4</td><td>237500144</td><td>35.6</td><td>0.385</td><td>0.161</td><td>⋯</td><td>0.91</td><td>1.94</td><td>Andropogoneae</td><td><span style=white-space:pre-wrap>Mnesithea;Eremochloa;Saccharum        </span></td><td><span style=white-space:pre-wrap>helferi;ophiuroides;eriopoda;ciliaris;arundinaceum    </span></td><td>NC_035036(227);NC_036716(214);NC_035023(199);NC_035028(194);NC_030777(191)</td><td>4905</td><td><span style=white-space:pre-wrap>  96</span></td><td> 585</td><td>6</td></tr>\n",
       "\t<tr><th scope=row>5</th><td>AT20TS1MCRTL003</td><td>Euclasta condylotricha</td><td>                                  </td><td>Pasquet 1245      </td><td>1</td><td>MCRTL003_CKDL200164854-1a-AK5159-AK6654_HMGJWDSXY_L4</td><td>271608628</td><td>40.7</td><td>0.513</td><td>0.180</td><td>⋯</td><td>0.32</td><td>1.32</td><td>Andropogoneae</td><td>Bothriochloa;Dichanthium;Capillipedium</td><td>alta;decipiens;annulatum;sericeum;venustum            </td><td>NC_030621(361);NC_040131(355);NC_042145(334);NC_035018(319);NC_030622(318)</td><td>5428</td><td>  78</td><td>  80</td><td>6</td></tr>\n",
       "\t<tr><th scope=row>6</th><td>AT20TS1MCRTL015</td><td>Eulaliopsis binata    </td><td>                                  </td><td>Traiperm 567      </td><td>1</td><td>MCRTL015_CKDL200164854-1a-AK5151-AK6665_HMGJWDSXY_L4</td><td>206938089</td><td>31.0</td><td>0.515</td><td>0.152</td><td>⋯</td><td>0.51</td><td>1.66</td><td>Andropogoneae</td><td>Eulaliopsis                           </td><td>binata                                                </td><td>NC_035049(446)                                                            </td><td>4722</td><td> 409</td><td> 460</td><td>1</td></tr>\n",
       "</tbody>\n",
       "</table>\n"
      ],
      "text/latex": [
       "A data.frame: 6 × 22\n",
       "\\begin{tabular}{r|lllllllllllllllllllll}\n",
       "  & tracker\\_sample\\_name & tracker\\_organism & alternative\\_names & ecotype & run\\_id & file & total\\_reads & gb\\_num & frac\\_mapped & percent\\_dup & ⋯ & bacteria & homo\\_s & tribe\\_qc & genus\\_qc & species & matched\\_gene\\_and\\_read\\_counts & tabasco\\_complete & tabasco\\_duplicated & tabasco\\_fraged & tabasco\\_missing\\\\\n",
       "  & <chr> & <chr> & <chr> & <chr> & <int> & <chr> & <int> & <dbl> & <dbl> & <dbl> & ⋯ & <dbl> & <dbl> & <chr> & <chr> & <chr> & <chr> & <int> & <int> & <int> & <int>\\\\\n",
       "\\hline\n",
       "\t1 & AT20TS1MCRTL001 & Rottboellia campestris & Coelorachis cylindrica (Mnesithea) & Kellogg 1258       & 1 & MCRTL001\\_CKDL200164854-1a-AK5140-AK242\\_HMGJWDSXY\\_L4  & 272268296 & 40.8 & 0.366 & 0.000 & ⋯ & 0.45 & 1.42 & Andropogoneae & Mnesithea;Eremochloa;Saccharum         & helferi;ophiuroides;arundinaceum;eriopoda              & NC\\_035036(253);NC\\_036716(236);NC\\_030777(214);NC\\_035023(214)                & 5325 &  107 &  156 & 4\\\\\n",
       "\t2 & AT20TS1MCRTL013 & Hyperthelia dissoluta  &                                    & Kellogg 1137       & 1 & MCRTL013\\_CKDL200164854-1a-AK5395-AK5927\\_HMGJWDSXY\\_L4 & 154100842 & 23.1 & 0.433 & 0.147 & ⋯ & 0.41 & 2.30 & Andropogoneae & Hyparrhenia;Andropogon                 & diplandra;variabilis;subplumosa;greenwayi;gayanus      & NC\\_035037(321);NC\\_040112(321);NC\\_030625(315);NC\\_040128(294);NC\\_040127(280) & 3705 &  662 & 1220 & 5\\\\\n",
       "\t3 & AT20TS1MCRTL002 & Tripsacum laxum        &                                    & Kellogg MIA 34792  & 1 & MCRTL002\\_CKDL200164854-1a-AK4939-AK6653\\_HMGJWDSXY\\_L4 & 206616665 & 31.0 & 0.212 & 0.160 & ⋯ & 0.21 & 0.94 & Andropogoneae & Zea;Saccharum;Tripidium                & perennis;luxurians;diploperennis;arundinaceum;ravennae & NC\\_030300(370);NC\\_030301(357);NC\\_030377(357);NC\\_030777(353);NC\\_042735(345) & 2497 & 1603 & 1492 & 0\\\\\n",
       "\t4 & AT20TS1MCRTL014 & Rottboellia rugosa     & Coelorachis rugosa                 & Layton \\& Zhong 162 & 1 & MCRTL014\\_CKDL200164854-1a-AK4937-AK6664\\_HMGJWDSXY\\_L4 & 237500144 & 35.6 & 0.385 & 0.161 & ⋯ & 0.91 & 1.94 & Andropogoneae & Mnesithea;Eremochloa;Saccharum         & helferi;ophiuroides;eriopoda;ciliaris;arundinaceum     & NC\\_035036(227);NC\\_036716(214);NC\\_035023(199);NC\\_035028(194);NC\\_030777(191) & 4905 &   96 &  585 & 6\\\\\n",
       "\t5 & AT20TS1MCRTL003 & Euclasta condylotricha &                                    & Pasquet 1245       & 1 & MCRTL003\\_CKDL200164854-1a-AK5159-AK6654\\_HMGJWDSXY\\_L4 & 271608628 & 40.7 & 0.513 & 0.180 & ⋯ & 0.32 & 1.32 & Andropogoneae & Bothriochloa;Dichanthium;Capillipedium & alta;decipiens;annulatum;sericeum;venustum             & NC\\_030621(361);NC\\_040131(355);NC\\_042145(334);NC\\_035018(319);NC\\_030622(318) & 5428 &   78 &   80 & 6\\\\\n",
       "\t6 & AT20TS1MCRTL015 & Eulaliopsis binata     &                                    & Traiperm 567       & 1 & MCRTL015\\_CKDL200164854-1a-AK5151-AK6665\\_HMGJWDSXY\\_L4 & 206938089 & 31.0 & 0.515 & 0.152 & ⋯ & 0.51 & 1.66 & Andropogoneae & Eulaliopsis                            & binata                                                 & NC\\_035049(446)                                                             & 4722 &  409 &  460 & 1\\\\\n",
       "\\end{tabular}\n"
      ],
      "text/markdown": [
       "\n",
       "A data.frame: 6 × 22\n",
       "\n",
       "| <!--/--> | tracker_sample_name &lt;chr&gt; | tracker_organism &lt;chr&gt; | alternative_names &lt;chr&gt; | ecotype &lt;chr&gt; | run_id &lt;int&gt; | file &lt;chr&gt; | total_reads &lt;int&gt; | gb_num &lt;dbl&gt; | frac_mapped &lt;dbl&gt; | percent_dup &lt;dbl&gt; | ⋯ ⋯ | bacteria &lt;dbl&gt; | homo_s &lt;dbl&gt; | tribe_qc &lt;chr&gt; | genus_qc &lt;chr&gt; | species &lt;chr&gt; | matched_gene_and_read_counts &lt;chr&gt; | tabasco_complete &lt;int&gt; | tabasco_duplicated &lt;int&gt; | tabasco_fraged &lt;int&gt; | tabasco_missing &lt;int&gt; |\n",
       "|---|---|---|---|---|---|---|---|---|---|---|---|---|---|---|---|---|---|---|---|---|---|\n",
       "| 1 | AT20TS1MCRTL001 | Rottboellia campestris | Coelorachis cylindrica (Mnesithea) | Kellogg 1258       | 1 | MCRTL001_CKDL200164854-1a-AK5140-AK242_HMGJWDSXY_L4  | 272268296 | 40.8 | 0.366 | 0.000 | ⋯ | 0.45 | 1.42 | Andropogoneae | Mnesithea;Eremochloa;Saccharum         | helferi;ophiuroides;arundinaceum;eriopoda              | NC_035036(253);NC_036716(236);NC_030777(214);NC_035023(214)                | 5325 |  107 |  156 | 4 |\n",
       "| 2 | AT20TS1MCRTL013 | Hyperthelia dissoluta  | <!----> | Kellogg 1137       | 1 | MCRTL013_CKDL200164854-1a-AK5395-AK5927_HMGJWDSXY_L4 | 154100842 | 23.1 | 0.433 | 0.147 | ⋯ | 0.41 | 2.30 | Andropogoneae | Hyparrhenia;Andropogon                 | diplandra;variabilis;subplumosa;greenwayi;gayanus      | NC_035037(321);NC_040112(321);NC_030625(315);NC_040128(294);NC_040127(280) | 3705 |  662 | 1220 | 5 |\n",
       "| 3 | AT20TS1MCRTL002 | Tripsacum laxum        | <!----> | Kellogg MIA 34792  | 1 | MCRTL002_CKDL200164854-1a-AK4939-AK6653_HMGJWDSXY_L4 | 206616665 | 31.0 | 0.212 | 0.160 | ⋯ | 0.21 | 0.94 | Andropogoneae | Zea;Saccharum;Tripidium                | perennis;luxurians;diploperennis;arundinaceum;ravennae | NC_030300(370);NC_030301(357);NC_030377(357);NC_030777(353);NC_042735(345) | 2497 | 1603 | 1492 | 0 |\n",
       "| 4 | AT20TS1MCRTL014 | Rottboellia rugosa     | Coelorachis rugosa                 | Layton &amp; Zhong 162 | 1 | MCRTL014_CKDL200164854-1a-AK4937-AK6664_HMGJWDSXY_L4 | 237500144 | 35.6 | 0.385 | 0.161 | ⋯ | 0.91 | 1.94 | Andropogoneae | Mnesithea;Eremochloa;Saccharum         | helferi;ophiuroides;eriopoda;ciliaris;arundinaceum     | NC_035036(227);NC_036716(214);NC_035023(199);NC_035028(194);NC_030777(191) | 4905 |   96 |  585 | 6 |\n",
       "| 5 | AT20TS1MCRTL003 | Euclasta condylotricha | <!----> | Pasquet 1245       | 1 | MCRTL003_CKDL200164854-1a-AK5159-AK6654_HMGJWDSXY_L4 | 271608628 | 40.7 | 0.513 | 0.180 | ⋯ | 0.32 | 1.32 | Andropogoneae | Bothriochloa;Dichanthium;Capillipedium | alta;decipiens;annulatum;sericeum;venustum             | NC_030621(361);NC_040131(355);NC_042145(334);NC_035018(319);NC_030622(318) | 5428 |   78 |   80 | 6 |\n",
       "| 6 | AT20TS1MCRTL015 | Eulaliopsis binata     | <!----> | Traiperm 567       | 1 | MCRTL015_CKDL200164854-1a-AK5151-AK6665_HMGJWDSXY_L4 | 206938089 | 31.0 | 0.515 | 0.152 | ⋯ | 0.51 | 1.66 | Andropogoneae | Eulaliopsis                            | binata                                                 | NC_035049(446)                                                             | 4722 |  409 |  460 | 1 |\n",
       "\n"
      ],
      "text/plain": [
       "  tracker_sample_name tracker_organism       alternative_names                 \n",
       "1 AT20TS1MCRTL001     Rottboellia campestris Coelorachis cylindrica (Mnesithea)\n",
       "2 AT20TS1MCRTL013     Hyperthelia dissoluta                                    \n",
       "3 AT20TS1MCRTL002     Tripsacum laxum                                          \n",
       "4 AT20TS1MCRTL014     Rottboellia rugosa     Coelorachis rugosa                \n",
       "5 AT20TS1MCRTL003     Euclasta condylotricha                                   \n",
       "6 AT20TS1MCRTL015     Eulaliopsis binata                                       \n",
       "  ecotype            run_id\n",
       "1 Kellogg 1258       1     \n",
       "2 Kellogg 1137       1     \n",
       "3 Kellogg MIA 34792  1     \n",
       "4 Layton & Zhong 162 1     \n",
       "5 Pasquet 1245       1     \n",
       "6 Traiperm 567       1     \n",
       "  file                                                 total_reads gb_num\n",
       "1 MCRTL001_CKDL200164854-1a-AK5140-AK242_HMGJWDSXY_L4  272268296   40.8  \n",
       "2 MCRTL013_CKDL200164854-1a-AK5395-AK5927_HMGJWDSXY_L4 154100842   23.1  \n",
       "3 MCRTL002_CKDL200164854-1a-AK4939-AK6653_HMGJWDSXY_L4 206616665   31.0  \n",
       "4 MCRTL014_CKDL200164854-1a-AK4937-AK6664_HMGJWDSXY_L4 237500144   35.6  \n",
       "5 MCRTL003_CKDL200164854-1a-AK5159-AK6654_HMGJWDSXY_L4 271608628   40.7  \n",
       "6 MCRTL015_CKDL200164854-1a-AK5151-AK6665_HMGJWDSXY_L4 206938089   31.0  \n",
       "  frac_mapped percent_dup ⋯ bacteria homo_s tribe_qc     \n",
       "1 0.366       0.000       ⋯ 0.45     1.42   Andropogoneae\n",
       "2 0.433       0.147       ⋯ 0.41     2.30   Andropogoneae\n",
       "3 0.212       0.160       ⋯ 0.21     0.94   Andropogoneae\n",
       "4 0.385       0.161       ⋯ 0.91     1.94   Andropogoneae\n",
       "5 0.513       0.180       ⋯ 0.32     1.32   Andropogoneae\n",
       "6 0.515       0.152       ⋯ 0.51     1.66   Andropogoneae\n",
       "  genus_qc                              \n",
       "1 Mnesithea;Eremochloa;Saccharum        \n",
       "2 Hyparrhenia;Andropogon                \n",
       "3 Zea;Saccharum;Tripidium               \n",
       "4 Mnesithea;Eremochloa;Saccharum        \n",
       "5 Bothriochloa;Dichanthium;Capillipedium\n",
       "6 Eulaliopsis                           \n",
       "  species                                               \n",
       "1 helferi;ophiuroides;arundinaceum;eriopoda             \n",
       "2 diplandra;variabilis;subplumosa;greenwayi;gayanus     \n",
       "3 perennis;luxurians;diploperennis;arundinaceum;ravennae\n",
       "4 helferi;ophiuroides;eriopoda;ciliaris;arundinaceum    \n",
       "5 alta;decipiens;annulatum;sericeum;venustum            \n",
       "6 binata                                                \n",
       "  matched_gene_and_read_counts                                              \n",
       "1 NC_035036(253);NC_036716(236);NC_030777(214);NC_035023(214)               \n",
       "2 NC_035037(321);NC_040112(321);NC_030625(315);NC_040128(294);NC_040127(280)\n",
       "3 NC_030300(370);NC_030301(357);NC_030377(357);NC_030777(353);NC_042735(345)\n",
       "4 NC_035036(227);NC_036716(214);NC_035023(199);NC_035028(194);NC_030777(191)\n",
       "5 NC_030621(361);NC_040131(355);NC_042145(334);NC_035018(319);NC_030622(318)\n",
       "6 NC_035049(446)                                                            \n",
       "  tabasco_complete tabasco_duplicated tabasco_fraged tabasco_missing\n",
       "1 5325              107                156           4              \n",
       "2 3705              662               1220           5              \n",
       "3 2497             1603               1492           0              \n",
       "4 4905               96                585           6              \n",
       "5 5428               78                 80           6              \n",
       "6 4722              409                460           1              "
      ]
     },
     "metadata": {},
     "output_type": "display_data"
    }
   ],
   "source": [
    "head(limsDat_noNAnoDup)"
   ]
  },
  {
   "cell_type": "code",
   "execution_count": 280,
   "id": "3a45606d",
   "metadata": {},
   "outputs": [],
   "source": [
    "limsDat_noNAnoDupwithAssemblyID = merge(manualDat_panand[,1:2],limsDat_noNAnoDup,by = 'tracker_sample_name',all.y =  T)"
   ]
  },
  {
   "cell_type": "code",
   "execution_count": 281,
   "id": "ee1ab2dc",
   "metadata": {},
   "outputs": [
    {
     "data": {
      "text/html": [
       "<style>\n",
       ".list-inline {list-style: none; margin:0; padding: 0}\n",
       ".list-inline>li {display: inline-block}\n",
       ".list-inline>li:not(:last-child)::after {content: \"\\00b7\"; padding: 0 .5ex}\n",
       "</style>\n",
       "<ol class=list-inline><li>454</li><li>22</li></ol>\n"
      ],
      "text/latex": [
       "\\begin{enumerate*}\n",
       "\\item 454\n",
       "\\item 22\n",
       "\\end{enumerate*}\n"
      ],
      "text/markdown": [
       "1. 454\n",
       "2. 22\n",
       "\n",
       "\n"
      ],
      "text/plain": [
       "[1] 454  22"
      ]
     },
     "metadata": {},
     "output_type": "display_data"
    },
    {
     "data": {
      "text/html": [
       "<style>\n",
       ".list-inline {list-style: none; margin:0; padding: 0}\n",
       ".list-inline>li {display: inline-block}\n",
       ".list-inline>li:not(:last-child)::after {content: \"\\00b7\"; padding: 0 .5ex}\n",
       "</style>\n",
       "<ol class=list-inline><li>455</li><li>23</li></ol>\n"
      ],
      "text/latex": [
       "\\begin{enumerate*}\n",
       "\\item 455\n",
       "\\item 23\n",
       "\\end{enumerate*}\n"
      ],
      "text/markdown": [
       "1. 455\n",
       "2. 23\n",
       "\n",
       "\n"
      ],
      "text/plain": [
       "[1] 455  23"
      ]
     },
     "metadata": {},
     "output_type": "display_data"
    }
   ],
   "source": [
    "dim(limsDat_noNAnoDup)\n",
    "dim(limsDat_noNAnoDupwithAssemblyID)"
   ]
  },
  {
   "cell_type": "code",
   "execution_count": 282,
   "id": "c94cfa23",
   "metadata": {},
   "outputs": [],
   "source": [
    "limsDat_noNAnoDupwithAssemblyID = limsDat_noNAnoDupwithAssemblyID[-which(duplicated(limsDat_noNAnoDupwithAssemblyID$tracker_sample_name)),]"
   ]
  },
  {
   "cell_type": "code",
   "execution_count": 283,
   "id": "f6b5cf40",
   "metadata": {},
   "outputs": [],
   "source": [
    "manualDat_nonPanAndShort = manualDat[!(manualDat$source%in%\"PanAnd\"&manualDat$technology%in%\"Illumina\"),]"
   ]
  },
  {
   "cell_type": "code",
   "execution_count": 284,
   "id": "26d33dc8",
   "metadata": {},
   "outputs": [
    {
     "data": {
      "text/html": [
       "<style>\n",
       ".list-inline {list-style: none; margin:0; padding: 0}\n",
       ".list-inline>li {display: inline-block}\n",
       ".list-inline>li:not(:last-child)::after {content: \"\\00b7\"; padding: 0 .5ex}\n",
       "</style>\n",
       "<ol class=list-inline><li>812</li><li>11</li></ol>\n"
      ],
      "text/latex": [
       "\\begin{enumerate*}\n",
       "\\item 812\n",
       "\\item 11\n",
       "\\end{enumerate*}\n"
      ],
      "text/markdown": [
       "1. 812\n",
       "2. 11\n",
       "\n",
       "\n"
      ],
      "text/plain": [
       "[1] 812  11"
      ]
     },
     "metadata": {},
     "output_type": "display_data"
    },
    {
     "data": {
      "text/html": [
       "480"
      ],
      "text/latex": [
       "480"
      ],
      "text/markdown": [
       "480"
      ],
      "text/plain": [
       "[1] 480"
      ]
     },
     "metadata": {},
     "output_type": "display_data"
    },
    {
     "data": {
      "text/html": [
       "<style>\n",
       ".list-inline {list-style: none; margin:0; padding: 0}\n",
       ".list-inline>li {display: inline-block}\n",
       ".list-inline>li:not(:last-child)::after {content: \"\\00b7\"; padding: 0 .5ex}\n",
       "</style>\n",
       "<ol class=list-inline><li>332</li><li>11</li></ol>\n"
      ],
      "text/latex": [
       "\\begin{enumerate*}\n",
       "\\item 332\n",
       "\\item 11\n",
       "\\end{enumerate*}\n"
      ],
      "text/markdown": [
       "1. 332\n",
       "2. 11\n",
       "\n",
       "\n"
      ],
      "text/plain": [
       "[1] 332  11"
      ]
     },
     "metadata": {},
     "output_type": "display_data"
    }
   ],
   "source": [
    "dim(manualDat)\n",
    "sum(manualDat$source%in%\"PanAnd\"&manualDat$technology%in%\"Illumina\")\n",
    "dim(manualDat_nonPanAndShort)"
   ]
  },
  {
   "cell_type": "code",
   "execution_count": 294,
   "id": "400fca0b",
   "metadata": {},
   "outputs": [
    {
     "data": {
      "text/html": [
       "<style>\n",
       ".list-inline {list-style: none; margin:0; padding: 0}\n",
       ".list-inline>li {display: inline-block}\n",
       ".list-inline>li:not(:last-child)::after {content: \"\\00b7\"; padding: 0 .5ex}\n",
       "</style>\n",
       "<ol class=list-inline><li>330</li><li>11</li></ol>\n"
      ],
      "text/latex": [
       "\\begin{enumerate*}\n",
       "\\item 330\n",
       "\\item 11\n",
       "\\end{enumerate*}\n"
      ],
      "text/markdown": [
       "1. 330\n",
       "2. 11\n",
       "\n",
       "\n"
      ],
      "text/plain": [
       "[1] 330  11"
      ]
     },
     "metadata": {},
     "output_type": "display_data"
    }
   ],
   "source": [
    "manualDat_nonPanAndShort_noBad = manualDat_nonPanAndShort[!manualDat_nonPanAndShort$correctSpecies%in%c(\"Omit\",\"\"),]\n",
    "dim(manualDat_nonPanAndShort_noBad)"
   ]
  },
  {
   "cell_type": "code",
   "execution_count": 295,
   "id": "0dce57a3",
   "metadata": {},
   "outputs": [],
   "source": [
    "colnames(manualDat_nonPanAndShort_noBad)[c(3,7)] = c(\"tracker_organism\",\"alternative_names\")"
   ]
  },
  {
   "cell_type": "code",
   "execution_count": 313,
   "id": "06974461",
   "metadata": {},
   "outputs": [],
   "source": [
    "outMetadata = rbind(limsDat_noNAnoDupwithAssemblyID[,1:3],manualDat_nonPanAndShort_noBad[,c(1:3)])"
   ]
  },
  {
   "cell_type": "code",
   "execution_count": 314,
   "id": "79904442",
   "metadata": {
    "scrolled": true
   },
   "outputs": [
    {
     "data": {
      "text/html": [
       "<table class=\"dataframe\">\n",
       "<caption>A data.frame: 6 × 3</caption>\n",
       "<thead>\n",
       "\t<tr><th></th><th scope=col>tracker_sample_name</th><th scope=col>assemblyID</th><th scope=col>latest_name</th></tr>\n",
       "\t<tr><th></th><th scope=col>&lt;chr&gt;</th><th scope=col>&lt;chr&gt;</th><th scope=col>&lt;chr&gt;</th></tr>\n",
       "</thead>\n",
       "<tbody>\n",
       "\t<tr><th scope=row>1</th><td>AN20TSCR000168</td><td>AN20T168</td><td>Andropogon amethystinus           </td></tr>\n",
       "\t<tr><th scope=row>2</th><td>AN20TSCR000169</td><td>AN20T169</td><td>Anatherum eucomum subsp. huillense</td></tr>\n",
       "\t<tr><th scope=row>3</th><td>AN20TSCR000170</td><td>AN20T170</td><td>Anatherum ibityense               </td></tr>\n",
       "\t<tr><th scope=row>4</th><td>AN20TSCR000172</td><td>AN20T172</td><td>Anatherum ivohibense              </td></tr>\n",
       "\t<tr><th scope=row>5</th><td>AN20TSCR000174</td><td>AN20T174</td><td>Arthraxon antsirabensis           </td></tr>\n",
       "\t<tr><th scope=row>6</th><td>AN20TSCR000175</td><td>AN20T175</td><td>Cymbopogon caesius                </td></tr>\n",
       "</tbody>\n",
       "</table>\n"
      ],
      "text/latex": [
       "A data.frame: 6 × 3\n",
       "\\begin{tabular}{r|lll}\n",
       "  & tracker\\_sample\\_name & assemblyID & latest\\_name\\\\\n",
       "  & <chr> & <chr> & <chr>\\\\\n",
       "\\hline\n",
       "\t1 & AN20TSCR000168 & AN20T168 & Andropogon amethystinus           \\\\\n",
       "\t2 & AN20TSCR000169 & AN20T169 & Anatherum eucomum subsp. huillense\\\\\n",
       "\t3 & AN20TSCR000170 & AN20T170 & Anatherum ibityense               \\\\\n",
       "\t4 & AN20TSCR000172 & AN20T172 & Anatherum ivohibense              \\\\\n",
       "\t5 & AN20TSCR000174 & AN20T174 & Arthraxon antsirabensis           \\\\\n",
       "\t6 & AN20TSCR000175 & AN20T175 & Cymbopogon caesius                \\\\\n",
       "\\end{tabular}\n"
      ],
      "text/markdown": [
       "\n",
       "A data.frame: 6 × 3\n",
       "\n",
       "| <!--/--> | tracker_sample_name &lt;chr&gt; | assemblyID &lt;chr&gt; | latest_name &lt;chr&gt; |\n",
       "|---|---|---|---|\n",
       "| 1 | AN20TSCR000168 | AN20T168 | Andropogon amethystinus            |\n",
       "| 2 | AN20TSCR000169 | AN20T169 | Anatherum eucomum subsp. huillense |\n",
       "| 3 | AN20TSCR000170 | AN20T170 | Anatherum ibityense                |\n",
       "| 4 | AN20TSCR000172 | AN20T172 | Anatherum ivohibense               |\n",
       "| 5 | AN20TSCR000174 | AN20T174 | Arthraxon antsirabensis            |\n",
       "| 6 | AN20TSCR000175 | AN20T175 | Cymbopogon caesius                 |\n",
       "\n"
      ],
      "text/plain": [
       "  tracker_sample_name assemblyID latest_name                       \n",
       "1 AN20TSCR000168      AN20T168   Andropogon amethystinus           \n",
       "2 AN20TSCR000169      AN20T169   Anatherum eucomum subsp. huillense\n",
       "3 AN20TSCR000170      AN20T170   Anatherum ibityense               \n",
       "4 AN20TSCR000172      AN20T172   Anatherum ivohibense              \n",
       "5 AN20TSCR000174      AN20T174   Arthraxon antsirabensis           \n",
       "6 AN20TSCR000175      AN20T175   Cymbopogon caesius                "
      ]
     },
     "metadata": {},
     "output_type": "display_data"
    },
    {
     "data": {
      "text/html": [
       "<table class=\"dataframe\">\n",
       "<caption>A data.frame: 6 × 3</caption>\n",
       "<thead>\n",
       "\t<tr><th></th><th scope=col>tracker_sample_name</th><th scope=col>assemblyID</th><th scope=col>latest_name</th></tr>\n",
       "\t<tr><th></th><th scope=col>&lt;chr&gt;</th><th scope=col>&lt;chr&gt;</th><th scope=col>&lt;chr&gt;</th></tr>\n",
       "</thead>\n",
       "<tbody>\n",
       "\t<tr><th scope=row>803</th><td>NA</td><td>ASM1927943v1 </td><td>Zizania palustris  </td></tr>\n",
       "\t<tr><th scope=row>804</th><td>NA</td><td>ASM160227v1  </td><td>Zoysia japonica    </td></tr>\n",
       "\t<tr><th scope=row>805</th><td>NA</td><td>SRR23951516  </td><td>Zoysia macrostachya</td></tr>\n",
       "\t<tr><th scope=row>806</th><td>NA</td><td>ASM160229v1  </td><td>Zoysia matrella    </td></tr>\n",
       "\t<tr><th scope=row>807</th><td>NA</td><td>ASM160231v1  </td><td>Zoysia pacifica    </td></tr>\n",
       "\t<tr><th scope=row>808</th><td>NA</td><td>Zoysia_sinica</td><td>Zoysia sinica      </td></tr>\n",
       "</tbody>\n",
       "</table>\n"
      ],
      "text/latex": [
       "A data.frame: 6 × 3\n",
       "\\begin{tabular}{r|lll}\n",
       "  & tracker\\_sample\\_name & assemblyID & latest\\_name\\\\\n",
       "  & <chr> & <chr> & <chr>\\\\\n",
       "\\hline\n",
       "\t803 & NA & ASM1927943v1  & Zizania palustris  \\\\\n",
       "\t804 & NA & ASM160227v1   & Zoysia japonica    \\\\\n",
       "\t805 & NA & SRR23951516   & Zoysia macrostachya\\\\\n",
       "\t806 & NA & ASM160229v1   & Zoysia matrella    \\\\\n",
       "\t807 & NA & ASM160231v1   & Zoysia pacifica    \\\\\n",
       "\t808 & NA & Zoysia\\_sinica & Zoysia sinica      \\\\\n",
       "\\end{tabular}\n"
      ],
      "text/markdown": [
       "\n",
       "A data.frame: 6 × 3\n",
       "\n",
       "| <!--/--> | tracker_sample_name &lt;chr&gt; | assemblyID &lt;chr&gt; | latest_name &lt;chr&gt; |\n",
       "|---|---|---|---|\n",
       "| 803 | NA | ASM1927943v1  | Zizania palustris   |\n",
       "| 804 | NA | ASM160227v1   | Zoysia japonica     |\n",
       "| 805 | NA | SRR23951516   | Zoysia macrostachya |\n",
       "| 806 | NA | ASM160229v1   | Zoysia matrella     |\n",
       "| 807 | NA | ASM160231v1   | Zoysia pacifica     |\n",
       "| 808 | NA | Zoysia_sinica | Zoysia sinica       |\n",
       "\n"
      ],
      "text/plain": [
       "    tracker_sample_name assemblyID    latest_name        \n",
       "803 NA                  ASM1927943v1  Zizania palustris  \n",
       "804 NA                  ASM160227v1   Zoysia japonica    \n",
       "805 NA                  SRR23951516   Zoysia macrostachya\n",
       "806 NA                  ASM160229v1   Zoysia matrella    \n",
       "807 NA                  ASM160231v1   Zoysia pacifica    \n",
       "808 NA                  Zoysia_sinica Zoysia sinica      "
      ]
     },
     "metadata": {},
     "output_type": "display_data"
    },
    {
     "data": {
      "text/html": [
       "<style>\n",
       ".list-inline {list-style: none; margin:0; padding: 0}\n",
       ".list-inline>li {display: inline-block}\n",
       ".list-inline>li:not(:last-child)::after {content: \"\\00b7\"; padding: 0 .5ex}\n",
       "</style>\n",
       "<ol class=list-inline><li>781</li><li>3</li></ol>\n"
      ],
      "text/latex": [
       "\\begin{enumerate*}\n",
       "\\item 781\n",
       "\\item 3\n",
       "\\end{enumerate*}\n"
      ],
      "text/markdown": [
       "1. 781\n",
       "2. 3\n",
       "\n",
       "\n"
      ],
      "text/plain": [
       "[1] 781   3"
      ]
     },
     "metadata": {},
     "output_type": "display_data"
    }
   ],
   "source": [
    "outMetadata[outMetadata==\"\"] = NA\n",
    "outMetadata = outMetadata[!is.na(outMetadata$assemblyID),]\n",
    "colnames(outMetadata)[3] = \"latest_name\"\n",
    "head(outMetadata)\n",
    "tail(outMetadata)\n",
    "dim(outMetadata)"
   ]
  },
  {
   "cell_type": "code",
   "execution_count": 317,
   "id": "12fd0c6b",
   "metadata": {},
   "outputs": [
    {
     "data": {
      "text/html": [
       "608"
      ],
      "text/latex": [
       "608"
      ],
      "text/markdown": [
       "608"
      ],
      "text/plain": [
       "[1] 608"
      ]
     },
     "metadata": {},
     "output_type": "display_data"
    }
   ],
   "source": [
    "length(unique(outMetadata$latest_name))"
   ]
  },
  {
   "cell_type": "code",
   "execution_count": 315,
   "id": "fec7e3df",
   "metadata": {},
   "outputs": [],
   "source": [
    "write.table(outMetadata,\"/workdir/sh2246/p_phyloGWAS/data/assembly2spNameMetadata_20240819.txt\",row.names = F,col.names = T,quote = F,sep = \"\\t\")"
   ]
  },
  {
   "cell_type": "code",
   "execution_count": 296,
   "id": "bb2b57cf",
   "metadata": {},
   "outputs": [],
   "source": [
    "testMetadata = rbind(limsDat_noNAnoDupwithAssemblyID[,3:4],manualDat_nonPanAndShort_noBad[,c(3,7)])"
   ]
  },
  {
   "cell_type": "code",
   "execution_count": 297,
   "id": "95e2c77e",
   "metadata": {},
   "outputs": [],
   "source": [
    "testMetadata = testMetadata[!duplicated(testMetadata[,1]),]"
   ]
  },
  {
   "cell_type": "code",
   "execution_count": 220,
   "id": "59668c3d",
   "metadata": {},
   "outputs": [],
   "source": [
    "# testMetadata[,1] = gsub(\"subsp.*\",\"\",testMetadata[,1])"
   ]
  },
  {
   "cell_type": "code",
   "execution_count": 223,
   "id": "1dcc9db2",
   "metadata": {},
   "outputs": [],
   "source": [
    "# testMetadata[,1] = gsub(\"var.*\",\"\",testMetadata[,1])"
   ]
  },
  {
   "cell_type": "code",
   "execution_count": 298,
   "id": "9e9c5e17",
   "metadata": {},
   "outputs": [
    {
     "data": {
      "text/html": [
       "<table class=\"dataframe\">\n",
       "<caption>A data.frame: 0 × 2</caption>\n",
       "<thead>\n",
       "\t<tr><th scope=col>tracker_organism</th><th scope=col>alternative_names</th></tr>\n",
       "\t<tr><th scope=col>&lt;chr&gt;</th><th scope=col>&lt;chr&gt;</th></tr>\n",
       "</thead>\n",
       "<tbody>\n",
       "</tbody>\n",
       "</table>\n"
      ],
      "text/latex": [
       "A data.frame: 0 × 2\n",
       "\\begin{tabular}{ll}\n",
       " tracker\\_organism & alternative\\_names\\\\\n",
       " <chr> & <chr>\\\\\n",
       "\\hline\n",
       "\\end{tabular}\n"
      ],
      "text/markdown": [
       "\n",
       "A data.frame: 0 × 2\n",
       "\n",
       "| tracker_organism &lt;chr&gt; | alternative_names &lt;chr&gt; |\n",
       "|---|---|\n",
       "\n"
      ],
      "text/plain": [
       "     tracker_organism alternative_names"
      ]
     },
     "metadata": {},
     "output_type": "display_data"
    }
   ],
   "source": [
    "testMetadata[grep(\"(syn)\",testMetadata[,1]),]"
   ]
  },
  {
   "cell_type": "code",
   "execution_count": 299,
   "id": "bd346a2d",
   "metadata": {},
   "outputs": [
    {
     "data": {
      "text/html": [
       "<table class=\"dataframe\">\n",
       "<caption>A data.frame: 7 × 2</caption>\n",
       "<thead>\n",
       "\t<tr><th></th><th scope=col>tracker_organism</th><th scope=col>alternative_names</th></tr>\n",
       "\t<tr><th></th><th scope=col>&lt;chr&gt;</th><th scope=col>&lt;chr&gt;</th></tr>\n",
       "</thead>\n",
       "<tbody>\n",
       "\t<tr><th scope=row>2</th><td>Anatherum eucomum subsp. huillense       </td><td>Andropogon huillensis,Andropogon eucomus subsp. huillensis</td></tr>\n",
       "\t<tr><th scope=row>52</th><td>Diheteropogon amplectens var. catangensis</td><td>                                                          </td></tr>\n",
       "\t<tr><th scope=row>55</th><td>Andropogon gayanus var. bisquamulatus    </td><td>                                                          </td></tr>\n",
       "\t<tr><th scope=row>793</th><td>Zea mays subsp. huehuetenangensis        </td><td>NA                                                        </td></tr>\n",
       "\t<tr><th scope=row>794</th><td>Zea mays subsp. mexicana                 </td><td>Zea mexicana                                              </td></tr>\n",
       "\t<tr><th scope=row>797</th><td>Zea mays subsp. parviglumis              </td><td>NA                                                        </td></tr>\n",
       "\t<tr><th scope=row>811</th><td>Andropogon gayanus var. polycladus       </td><td>                                                          </td></tr>\n",
       "</tbody>\n",
       "</table>\n"
      ],
      "text/latex": [
       "A data.frame: 7 × 2\n",
       "\\begin{tabular}{r|ll}\n",
       "  & tracker\\_organism & alternative\\_names\\\\\n",
       "  & <chr> & <chr>\\\\\n",
       "\\hline\n",
       "\t2 & Anatherum eucomum subsp. huillense        & Andropogon huillensis,Andropogon eucomus subsp. huillensis\\\\\n",
       "\t52 & Diheteropogon amplectens var. catangensis &                                                           \\\\\n",
       "\t55 & Andropogon gayanus var. bisquamulatus     &                                                           \\\\\n",
       "\t793 & Zea mays subsp. huehuetenangensis         & NA                                                        \\\\\n",
       "\t794 & Zea mays subsp. mexicana                  & Zea mexicana                                              \\\\\n",
       "\t797 & Zea mays subsp. parviglumis               & NA                                                        \\\\\n",
       "\t811 & Andropogon gayanus var. polycladus        &                                                           \\\\\n",
       "\\end{tabular}\n"
      ],
      "text/markdown": [
       "\n",
       "A data.frame: 7 × 2\n",
       "\n",
       "| <!--/--> | tracker_organism &lt;chr&gt; | alternative_names &lt;chr&gt; |\n",
       "|---|---|---|\n",
       "| 2 | Anatherum eucomum subsp. huillense        | Andropogon huillensis,Andropogon eucomus subsp. huillensis |\n",
       "| 52 | Diheteropogon amplectens var. catangensis | <!----> |\n",
       "| 55 | Andropogon gayanus var. bisquamulatus     | <!----> |\n",
       "| 793 | Zea mays subsp. huehuetenangensis         | NA                                                         |\n",
       "| 794 | Zea mays subsp. mexicana                  | Zea mexicana                                               |\n",
       "| 797 | Zea mays subsp. parviglumis               | NA                                                         |\n",
       "| 811 | Andropogon gayanus var. polycladus        | <!----> |\n",
       "\n"
      ],
      "text/plain": [
       "    tracker_organism                         \n",
       "2   Anatherum eucomum subsp. huillense       \n",
       "52  Diheteropogon amplectens var. catangensis\n",
       "55  Andropogon gayanus var. bisquamulatus    \n",
       "793 Zea mays subsp. huehuetenangensis        \n",
       "794 Zea mays subsp. mexicana                 \n",
       "797 Zea mays subsp. parviglumis              \n",
       "811 Andropogon gayanus var. polycladus       \n",
       "    alternative_names                                         \n",
       "2   Andropogon huillensis,Andropogon eucomus subsp. huillensis\n",
       "52                                                            \n",
       "55                                                            \n",
       "793 NA                                                        \n",
       "794 Zea mexicana                                              \n",
       "797 NA                                                        \n",
       "811                                                           "
      ]
     },
     "metadata": {},
     "output_type": "display_data"
    }
   ],
   "source": [
    "testMetadata[which(apply(testMetadata,1,function(x) length(strsplit2(x[1],\" \"))!=2)),]"
   ]
  },
  {
   "cell_type": "code",
   "execution_count": 225,
   "id": "62cb4b6a",
   "metadata": {},
   "outputs": [],
   "source": [
    "# testMetadata = na.omit(testMetadata[apply(testMetadata,1,function(x) length(strsplit2(x[1],\" \"))==2),])"
   ]
  },
  {
   "cell_type": "code",
   "execution_count": 300,
   "id": "fe8b87ab",
   "metadata": {},
   "outputs": [],
   "source": [
    "testMetadata[testMetadata==\"\"] = NA"
   ]
  },
  {
   "cell_type": "code",
   "execution_count": 301,
   "id": "1f31dee3",
   "metadata": {},
   "outputs": [],
   "source": [
    "testMetadata = testMetadata[!duplicated(testMetadata[,1]),]"
   ]
  },
  {
   "cell_type": "code",
   "execution_count": 302,
   "id": "c7b02275",
   "metadata": {},
   "outputs": [],
   "source": [
    "testMetadata_long <- testMetadata %>%\n",
    "  separate_rows(alternative_names, sep = \",\") %>%\n",
    "  pivot_longer(cols = everything(), names_to = \"original_col\", values_to = \"names\") %>%\n",
    "  filter(!is.na(names)) %>%\n",
    "  mutate(latest_name = if_else(original_col == \"tracker_organism\", names, lag(names, default = first(names)))) %>%\n",
    "  select(-original_col)\n"
   ]
  },
  {
   "cell_type": "code",
   "execution_count": 303,
   "id": "c50e204d",
   "metadata": {},
   "outputs": [
    {
     "name": "stderr",
     "output_type": "stream",
     "text": [
      "Warning message in xtfrm.data.frame(x):\n",
      "“cannot xtfrm data frames”\n"
     ]
    },
    {
     "data": {
      "text/html": [
       "<table class=\"dataframe\">\n",
       "<caption>A tibble: 671 × 2</caption>\n",
       "<thead>\n",
       "\t<tr><th scope=col>names</th><th scope=col>latest_name</th></tr>\n",
       "\t<tr><th scope=col>&lt;chr&gt;</th><th scope=col>&lt;chr&gt;</th></tr>\n",
       "</thead>\n",
       "<tbody>\n",
       "\t<tr><td>Aegilops bicornis         </td><td>Aegilops bicornis         </td></tr>\n",
       "\t<tr><td>Aegilops cylindrica       </td><td>Aegilops cylindrica       </td></tr>\n",
       "\t<tr><td>Aegilops geniculata       </td><td>Aegilops geniculata       </td></tr>\n",
       "\t<tr><td>Aegilops longissima       </td><td>Aegilops longissima       </td></tr>\n",
       "\t<tr><td>Aegilops markgrafii       </td><td>Aegilops markgrafii       </td></tr>\n",
       "\t<tr><td>Aegilops searsii          </td><td>Aegilops searsii          </td></tr>\n",
       "\t<tr><td>Aegilops sharonensis      </td><td>Aegilops sharonensis      </td></tr>\n",
       "\t<tr><td>Aegilops speltoides       </td><td>Aegilops speltoides       </td></tr>\n",
       "\t<tr><td>Aegilops tauschii         </td><td>Aegilops tauschii         </td></tr>\n",
       "\t<tr><td>Aegilops triuncialis      </td><td>Aegilops triuncialis      </td></tr>\n",
       "\t<tr><td>Aegilops umbellulata      </td><td>Aegilops umbellulata      </td></tr>\n",
       "\t<tr><td>Aegilops ventricosa       </td><td>Aegilops ventricosa       </td></tr>\n",
       "\t<tr><td>Agropyron cristatum       </td><td>Agropyron cristatum       </td></tr>\n",
       "\t<tr><td>Alloteropsis angusta      </td><td>Alloteropsis angusta      </td></tr>\n",
       "\t<tr><td>Alloteropsis cimicina     </td><td>Alloteropsis cimicina     </td></tr>\n",
       "\t<tr><td>Alloteropsis semialata    </td><td>Alloteropsis semialata    </td></tr>\n",
       "\t<tr><td>Alopecurus myosuroides    </td><td>Alopecurus myosuroides    </td></tr>\n",
       "\t<tr><td>Amblyopyrum muticum       </td><td>Amblyopyrum muticum       </td></tr>\n",
       "\t<tr><td>Ampelocalamus luodianensis</td><td>Ampelocalamus luodianensis</td></tr>\n",
       "\t<tr><td>Anadelphia afzeliana      </td><td>Anadelphia afzeliana      </td></tr>\n",
       "\t<tr><td>Anadelphia polychaeta     </td><td>Anadelphia polychaeta     </td></tr>\n",
       "\t<tr><td>Anadelphia scyphofera     </td><td>Anadelphia scyphofera     </td></tr>\n",
       "\t<tr><td>Anadelphia trepidaria     </td><td>Anadelphia trepidaria     </td></tr>\n",
       "\t<tr><td>Anadelphia trispiculata   </td><td>Anadelphia trispiculata   </td></tr>\n",
       "\t<tr><td>Anatherum arctatum        </td><td>Anatherum arctatum        </td></tr>\n",
       "\t<tr><td>Andropogon arctatus       </td><td>Anatherum arctatum        </td></tr>\n",
       "\t<tr><td>Anatherum arenarium       </td><td>Anatherum arenarium       </td></tr>\n",
       "\t<tr><td>Andropogon arenarius      </td><td>Anatherum arenarium       </td></tr>\n",
       "\t<tr><td>Anatherum bicorne         </td><td>Anatherum bicorne         </td></tr>\n",
       "\t<tr><td>Andropogon bicornis       </td><td>Anatherum bicorne         </td></tr>\n",
       "\t<tr><td>⋮</td><td>⋮</td></tr>\n",
       "\t<tr><td>Triticum dicoccoides             </td><td>Triticum dicoccoides             </td></tr>\n",
       "\t<tr><td>Triticum monococcum              </td><td>Triticum monococcum              </td></tr>\n",
       "\t<tr><td>Triticum petropavlovskyi         </td><td>Triticum petropavlovskyi         </td></tr>\n",
       "\t<tr><td>Triticum timopheevii             </td><td>Triticum timopheevii             </td></tr>\n",
       "\t<tr><td>Triticum turgidum                </td><td>Triticum turgidum                </td></tr>\n",
       "\t<tr><td>Triticum urartu                  </td><td>Triticum urartu                  </td></tr>\n",
       "\t<tr><td>Tuctoria greenei                 </td><td>Tuctoria greenei                 </td></tr>\n",
       "\t<tr><td>Urelytrum agropyroides           </td><td>Urelytrum agropyroides           </td></tr>\n",
       "\t<tr><td>Urelytrum digitatum              </td><td>Urelytrum digitatum              </td></tr>\n",
       "\t<tr><td>Urelytrum giganteum              </td><td>Urelytrum giganteum              </td></tr>\n",
       "\t<tr><td>Urelytrum henrardii              </td><td>Urelytrum henrardii              </td></tr>\n",
       "\t<tr><td>Urochloa brizantha               </td><td>Urochloa brizantha               </td></tr>\n",
       "\t<tr><td>Urochloa ruziziensis             </td><td>Urochloa ruziziensis             </td></tr>\n",
       "\t<tr><td>Vossia cuspidata                 </td><td>Vossia cuspidata                 </td></tr>\n",
       "\t<tr><td>Zea diploperennis                </td><td>Zea diploperennis                </td></tr>\n",
       "\t<tr><td>Zea luxurians                    </td><td>Zea luxurians                    </td></tr>\n",
       "\t<tr><td>Zea mays                         </td><td>Zea mays                         </td></tr>\n",
       "\t<tr><td>Zea mays subsp. huehuetenangensis</td><td>Zea mays subsp. huehuetenangensis</td></tr>\n",
       "\t<tr><td>Zea mays subsp. mexicana         </td><td>Zea mays subsp. mexicana         </td></tr>\n",
       "\t<tr><td>Zea mexicana                     </td><td>Zea mays subsp. mexicana         </td></tr>\n",
       "\t<tr><td>Zea mays subsp. parviglumis      </td><td>Zea mays subsp. parviglumis      </td></tr>\n",
       "\t<tr><td>Zea nicaraguensis                </td><td>Zea nicaraguensis                </td></tr>\n",
       "\t<tr><td>Zea perennis                     </td><td>Zea perennis                     </td></tr>\n",
       "\t<tr><td>Zizania latifolia                </td><td>Zizania latifolia                </td></tr>\n",
       "\t<tr><td>Zizania palustris                </td><td>Zizania palustris                </td></tr>\n",
       "\t<tr><td>Zoysia japonica                  </td><td>Zoysia japonica                  </td></tr>\n",
       "\t<tr><td>Zoysia macrostachya              </td><td>Zoysia macrostachya              </td></tr>\n",
       "\t<tr><td>Zoysia matrella                  </td><td>Zoysia matrella                  </td></tr>\n",
       "\t<tr><td>Zoysia pacifica                  </td><td>Zoysia pacifica                  </td></tr>\n",
       "\t<tr><td>Zoysia sinica                    </td><td>Zoysia sinica                    </td></tr>\n",
       "</tbody>\n",
       "</table>\n"
      ],
      "text/latex": [
       "A tibble: 671 × 2\n",
       "\\begin{tabular}{ll}\n",
       " names & latest\\_name\\\\\n",
       " <chr> & <chr>\\\\\n",
       "\\hline\n",
       "\t Aegilops bicornis          & Aegilops bicornis         \\\\\n",
       "\t Aegilops cylindrica        & Aegilops cylindrica       \\\\\n",
       "\t Aegilops geniculata        & Aegilops geniculata       \\\\\n",
       "\t Aegilops longissima        & Aegilops longissima       \\\\\n",
       "\t Aegilops markgrafii        & Aegilops markgrafii       \\\\\n",
       "\t Aegilops searsii           & Aegilops searsii          \\\\\n",
       "\t Aegilops sharonensis       & Aegilops sharonensis      \\\\\n",
       "\t Aegilops speltoides        & Aegilops speltoides       \\\\\n",
       "\t Aegilops tauschii          & Aegilops tauschii         \\\\\n",
       "\t Aegilops triuncialis       & Aegilops triuncialis      \\\\\n",
       "\t Aegilops umbellulata       & Aegilops umbellulata      \\\\\n",
       "\t Aegilops ventricosa        & Aegilops ventricosa       \\\\\n",
       "\t Agropyron cristatum        & Agropyron cristatum       \\\\\n",
       "\t Alloteropsis angusta       & Alloteropsis angusta      \\\\\n",
       "\t Alloteropsis cimicina      & Alloteropsis cimicina     \\\\\n",
       "\t Alloteropsis semialata     & Alloteropsis semialata    \\\\\n",
       "\t Alopecurus myosuroides     & Alopecurus myosuroides    \\\\\n",
       "\t Amblyopyrum muticum        & Amblyopyrum muticum       \\\\\n",
       "\t Ampelocalamus luodianensis & Ampelocalamus luodianensis\\\\\n",
       "\t Anadelphia afzeliana       & Anadelphia afzeliana      \\\\\n",
       "\t Anadelphia polychaeta      & Anadelphia polychaeta     \\\\\n",
       "\t Anadelphia scyphofera      & Anadelphia scyphofera     \\\\\n",
       "\t Anadelphia trepidaria      & Anadelphia trepidaria     \\\\\n",
       "\t Anadelphia trispiculata    & Anadelphia trispiculata   \\\\\n",
       "\t Anatherum arctatum         & Anatherum arctatum        \\\\\n",
       "\t Andropogon arctatus        & Anatherum arctatum        \\\\\n",
       "\t Anatherum arenarium        & Anatherum arenarium       \\\\\n",
       "\t Andropogon arenarius       & Anatherum arenarium       \\\\\n",
       "\t Anatherum bicorne          & Anatherum bicorne         \\\\\n",
       "\t Andropogon bicornis        & Anatherum bicorne         \\\\\n",
       "\t ⋮ & ⋮\\\\\n",
       "\t Triticum dicoccoides              & Triticum dicoccoides             \\\\\n",
       "\t Triticum monococcum               & Triticum monococcum              \\\\\n",
       "\t Triticum petropavlovskyi          & Triticum petropavlovskyi         \\\\\n",
       "\t Triticum timopheevii              & Triticum timopheevii             \\\\\n",
       "\t Triticum turgidum                 & Triticum turgidum                \\\\\n",
       "\t Triticum urartu                   & Triticum urartu                  \\\\\n",
       "\t Tuctoria greenei                  & Tuctoria greenei                 \\\\\n",
       "\t Urelytrum agropyroides            & Urelytrum agropyroides           \\\\\n",
       "\t Urelytrum digitatum               & Urelytrum digitatum              \\\\\n",
       "\t Urelytrum giganteum               & Urelytrum giganteum              \\\\\n",
       "\t Urelytrum henrardii               & Urelytrum henrardii              \\\\\n",
       "\t Urochloa brizantha                & Urochloa brizantha               \\\\\n",
       "\t Urochloa ruziziensis              & Urochloa ruziziensis             \\\\\n",
       "\t Vossia cuspidata                  & Vossia cuspidata                 \\\\\n",
       "\t Zea diploperennis                 & Zea diploperennis                \\\\\n",
       "\t Zea luxurians                     & Zea luxurians                    \\\\\n",
       "\t Zea mays                          & Zea mays                         \\\\\n",
       "\t Zea mays subsp. huehuetenangensis & Zea mays subsp. huehuetenangensis\\\\\n",
       "\t Zea mays subsp. mexicana          & Zea mays subsp. mexicana         \\\\\n",
       "\t Zea mexicana                      & Zea mays subsp. mexicana         \\\\\n",
       "\t Zea mays subsp. parviglumis       & Zea mays subsp. parviglumis      \\\\\n",
       "\t Zea nicaraguensis                 & Zea nicaraguensis                \\\\\n",
       "\t Zea perennis                      & Zea perennis                     \\\\\n",
       "\t Zizania latifolia                 & Zizania latifolia                \\\\\n",
       "\t Zizania palustris                 & Zizania palustris                \\\\\n",
       "\t Zoysia japonica                   & Zoysia japonica                  \\\\\n",
       "\t Zoysia macrostachya               & Zoysia macrostachya              \\\\\n",
       "\t Zoysia matrella                   & Zoysia matrella                  \\\\\n",
       "\t Zoysia pacifica                   & Zoysia pacifica                  \\\\\n",
       "\t Zoysia sinica                     & Zoysia sinica                    \\\\\n",
       "\\end{tabular}\n"
      ],
      "text/markdown": [
       "\n",
       "A tibble: 671 × 2\n",
       "\n",
       "| names &lt;chr&gt; | latest_name &lt;chr&gt; |\n",
       "|---|---|\n",
       "| Aegilops bicornis          | Aegilops bicornis          |\n",
       "| Aegilops cylindrica        | Aegilops cylindrica        |\n",
       "| Aegilops geniculata        | Aegilops geniculata        |\n",
       "| Aegilops longissima        | Aegilops longissima        |\n",
       "| Aegilops markgrafii        | Aegilops markgrafii        |\n",
       "| Aegilops searsii           | Aegilops searsii           |\n",
       "| Aegilops sharonensis       | Aegilops sharonensis       |\n",
       "| Aegilops speltoides        | Aegilops speltoides        |\n",
       "| Aegilops tauschii          | Aegilops tauschii          |\n",
       "| Aegilops triuncialis       | Aegilops triuncialis       |\n",
       "| Aegilops umbellulata       | Aegilops umbellulata       |\n",
       "| Aegilops ventricosa        | Aegilops ventricosa        |\n",
       "| Agropyron cristatum        | Agropyron cristatum        |\n",
       "| Alloteropsis angusta       | Alloteropsis angusta       |\n",
       "| Alloteropsis cimicina      | Alloteropsis cimicina      |\n",
       "| Alloteropsis semialata     | Alloteropsis semialata     |\n",
       "| Alopecurus myosuroides     | Alopecurus myosuroides     |\n",
       "| Amblyopyrum muticum        | Amblyopyrum muticum        |\n",
       "| Ampelocalamus luodianensis | Ampelocalamus luodianensis |\n",
       "| Anadelphia afzeliana       | Anadelphia afzeliana       |\n",
       "| Anadelphia polychaeta      | Anadelphia polychaeta      |\n",
       "| Anadelphia scyphofera      | Anadelphia scyphofera      |\n",
       "| Anadelphia trepidaria      | Anadelphia trepidaria      |\n",
       "| Anadelphia trispiculata    | Anadelphia trispiculata    |\n",
       "| Anatherum arctatum         | Anatherum arctatum         |\n",
       "| Andropogon arctatus        | Anatherum arctatum         |\n",
       "| Anatherum arenarium        | Anatherum arenarium        |\n",
       "| Andropogon arenarius       | Anatherum arenarium        |\n",
       "| Anatherum bicorne          | Anatherum bicorne          |\n",
       "| Andropogon bicornis        | Anatherum bicorne          |\n",
       "| ⋮ | ⋮ |\n",
       "| Triticum dicoccoides              | Triticum dicoccoides              |\n",
       "| Triticum monococcum               | Triticum monococcum               |\n",
       "| Triticum petropavlovskyi          | Triticum petropavlovskyi          |\n",
       "| Triticum timopheevii              | Triticum timopheevii              |\n",
       "| Triticum turgidum                 | Triticum turgidum                 |\n",
       "| Triticum urartu                   | Triticum urartu                   |\n",
       "| Tuctoria greenei                  | Tuctoria greenei                  |\n",
       "| Urelytrum agropyroides            | Urelytrum agropyroides            |\n",
       "| Urelytrum digitatum               | Urelytrum digitatum               |\n",
       "| Urelytrum giganteum               | Urelytrum giganteum               |\n",
       "| Urelytrum henrardii               | Urelytrum henrardii               |\n",
       "| Urochloa brizantha                | Urochloa brizantha                |\n",
       "| Urochloa ruziziensis              | Urochloa ruziziensis              |\n",
       "| Vossia cuspidata                  | Vossia cuspidata                  |\n",
       "| Zea diploperennis                 | Zea diploperennis                 |\n",
       "| Zea luxurians                     | Zea luxurians                     |\n",
       "| Zea mays                          | Zea mays                          |\n",
       "| Zea mays subsp. huehuetenangensis | Zea mays subsp. huehuetenangensis |\n",
       "| Zea mays subsp. mexicana          | Zea mays subsp. mexicana          |\n",
       "| Zea mexicana                      | Zea mays subsp. mexicana          |\n",
       "| Zea mays subsp. parviglumis       | Zea mays subsp. parviglumis       |\n",
       "| Zea nicaraguensis                 | Zea nicaraguensis                 |\n",
       "| Zea perennis                      | Zea perennis                      |\n",
       "| Zizania latifolia                 | Zizania latifolia                 |\n",
       "| Zizania palustris                 | Zizania palustris                 |\n",
       "| Zoysia japonica                   | Zoysia japonica                   |\n",
       "| Zoysia macrostachya               | Zoysia macrostachya               |\n",
       "| Zoysia matrella                   | Zoysia matrella                   |\n",
       "| Zoysia pacifica                   | Zoysia pacifica                   |\n",
       "| Zoysia sinica                     | Zoysia sinica                     |\n",
       "\n"
      ],
      "text/plain": [
       "    names                             latest_name                      \n",
       "1   Aegilops bicornis                 Aegilops bicornis                \n",
       "2   Aegilops cylindrica               Aegilops cylindrica              \n",
       "3   Aegilops geniculata               Aegilops geniculata              \n",
       "4   Aegilops longissima               Aegilops longissima              \n",
       "5   Aegilops markgrafii               Aegilops markgrafii              \n",
       "6   Aegilops searsii                  Aegilops searsii                 \n",
       "7   Aegilops sharonensis              Aegilops sharonensis             \n",
       "8   Aegilops speltoides               Aegilops speltoides              \n",
       "9   Aegilops tauschii                 Aegilops tauschii                \n",
       "10  Aegilops triuncialis              Aegilops triuncialis             \n",
       "11  Aegilops umbellulata              Aegilops umbellulata             \n",
       "12  Aegilops ventricosa               Aegilops ventricosa              \n",
       "13  Agropyron cristatum               Agropyron cristatum              \n",
       "14  Alloteropsis angusta              Alloteropsis angusta             \n",
       "15  Alloteropsis cimicina             Alloteropsis cimicina            \n",
       "16  Alloteropsis semialata            Alloteropsis semialata           \n",
       "17  Alopecurus myosuroides            Alopecurus myosuroides           \n",
       "18  Amblyopyrum muticum               Amblyopyrum muticum              \n",
       "19  Ampelocalamus luodianensis        Ampelocalamus luodianensis       \n",
       "20  Anadelphia afzeliana              Anadelphia afzeliana             \n",
       "21  Anadelphia polychaeta             Anadelphia polychaeta            \n",
       "22  Anadelphia scyphofera             Anadelphia scyphofera            \n",
       "23  Anadelphia trepidaria             Anadelphia trepidaria            \n",
       "24  Anadelphia trispiculata           Anadelphia trispiculata          \n",
       "25  Anatherum arctatum                Anatherum arctatum               \n",
       "26  Andropogon arctatus               Anatherum arctatum               \n",
       "27  Anatherum arenarium               Anatherum arenarium              \n",
       "28  Andropogon arenarius              Anatherum arenarium              \n",
       "29  Anatherum bicorne                 Anatherum bicorne                \n",
       "30  Andropogon bicornis               Anatherum bicorne                \n",
       "⋮   ⋮                                 ⋮                                \n",
       "642 Triticum dicoccoides              Triticum dicoccoides             \n",
       "643 Triticum monococcum               Triticum monococcum              \n",
       "644 Triticum petropavlovskyi          Triticum petropavlovskyi         \n",
       "645 Triticum timopheevii              Triticum timopheevii             \n",
       "646 Triticum turgidum                 Triticum turgidum                \n",
       "647 Triticum urartu                   Triticum urartu                  \n",
       "648 Tuctoria greenei                  Tuctoria greenei                 \n",
       "649 Urelytrum agropyroides            Urelytrum agropyroides           \n",
       "650 Urelytrum digitatum               Urelytrum digitatum              \n",
       "651 Urelytrum giganteum               Urelytrum giganteum              \n",
       "652 Urelytrum henrardii               Urelytrum henrardii              \n",
       "653 Urochloa brizantha                Urochloa brizantha               \n",
       "654 Urochloa ruziziensis              Urochloa ruziziensis             \n",
       "655 Vossia cuspidata                  Vossia cuspidata                 \n",
       "656 Zea diploperennis                 Zea diploperennis                \n",
       "657 Zea luxurians                     Zea luxurians                    \n",
       "658 Zea mays                          Zea mays                         \n",
       "659 Zea mays subsp. huehuetenangensis Zea mays subsp. huehuetenangensis\n",
       "660 Zea mays subsp. mexicana          Zea mays subsp. mexicana         \n",
       "661 Zea mexicana                      Zea mays subsp. mexicana         \n",
       "662 Zea mays subsp. parviglumis       Zea mays subsp. parviglumis      \n",
       "663 Zea nicaraguensis                 Zea nicaraguensis                \n",
       "664 Zea perennis                      Zea perennis                     \n",
       "665 Zizania latifolia                 Zizania latifolia                \n",
       "666 Zizania palustris                 Zizania palustris                \n",
       "667 Zoysia japonica                   Zoysia japonica                  \n",
       "668 Zoysia macrostachya               Zoysia macrostachya              \n",
       "669 Zoysia matrella                   Zoysia matrella                  \n",
       "670 Zoysia pacifica                   Zoysia pacifica                  \n",
       "671 Zoysia sinica                     Zoysia sinica                    "
      ]
     },
     "metadata": {},
     "output_type": "display_data"
    }
   ],
   "source": [
    "testMetadata_long[order(testMetadata_long[,2]),]"
   ]
  },
  {
   "cell_type": "code",
   "execution_count": 316,
   "id": "389318cb",
   "metadata": {},
   "outputs": [],
   "source": [
    "write.table(testMetadata_long,\"/workdir/sh2246/p_phyloGWAS/data/spNameMetadata_20240819.txt\",row.names = F,col.names = T,quote = F,sep = \"\\t\")"
   ]
  },
  {
   "cell_type": "code",
   "execution_count": null,
   "id": "31afa03c",
   "metadata": {},
   "outputs": [],
   "source": [
    "# formal analysis done"
   ]
  },
  {
   "cell_type": "code",
   "execution_count": null,
   "id": "8e470332",
   "metadata": {},
   "outputs": [],
   "source": []
  },
  {
   "cell_type": "code",
   "execution_count": 65,
   "id": "c04e9a7a",
   "metadata": {},
   "outputs": [],
   "source": [
    "library(tidyverse)"
   ]
  },
  {
   "cell_type": "code",
   "execution_count": 123,
   "id": "9efdda3b",
   "metadata": {},
   "outputs": [],
   "source": [
    "geoRange = read.csv(\"/workdir/sh2246/p_phyloGWAS/output/tMetadata_testout/coordinates_clean.csv\")"
   ]
  },
  {
   "cell_type": "code",
   "execution_count": 127,
   "id": "d2b554e4",
   "metadata": {},
   "outputs": [
    {
     "data": {
      "text/html": [
       "<table class=\"dataframe\">\n",
       "<caption>A data.frame: 6 × 5</caption>\n",
       "<thead>\n",
       "\t<tr><th></th><th scope=col>scientificName</th><th scope=col>source_key_specie</th><th scope=col>decimalLatitude</th><th scope=col>decimalLongitude</th><th scope=col>latest_name</th></tr>\n",
       "\t<tr><th></th><th scope=col>&lt;chr&gt;</th><th scope=col>&lt;chr&gt;</th><th scope=col>&lt;dbl&gt;</th><th scope=col>&lt;dbl&gt;</th><th scope=col>&lt;chr&gt;</th></tr>\n",
       "</thead>\n",
       "<tbody>\n",
       "\t<tr><th scope=row>1</th><td>Anadelphia polychaeta</td><td>Anadelphia polychaeta_1 </td><td>12.383000</td><td>-16.71600</td><td>Anadelphia polychaeta</td></tr>\n",
       "\t<tr><th scope=row>2</th><td>Anadelphia polychaeta</td><td>Anadelphia polychaeta_10</td><td>12.366667</td><td>-16.55000</td><td>Anadelphia polychaeta</td></tr>\n",
       "\t<tr><th scope=row>3</th><td>Anadelphia polychaeta</td><td>Anadelphia polychaeta_11</td><td>12.400000</td><td>-16.50000</td><td>Anadelphia polychaeta</td></tr>\n",
       "\t<tr><th scope=row>4</th><td>Anadelphia polychaeta</td><td>Anadelphia polychaeta_2 </td><td> 9.730528</td><td>-12.82072</td><td>Anadelphia polychaeta</td></tr>\n",
       "\t<tr><th scope=row>5</th><td>Anadelphia polychaeta</td><td>Anadelphia polychaeta_3 </td><td> 9.583610</td><td>-12.85222</td><td>Anadelphia polychaeta</td></tr>\n",
       "\t<tr><th scope=row>6</th><td>Anadelphia polychaeta</td><td>Anadelphia polychaeta_4 </td><td>12.383000</td><td>-16.71600</td><td>Anadelphia polychaeta</td></tr>\n",
       "</tbody>\n",
       "</table>\n"
      ],
      "text/latex": [
       "A data.frame: 6 × 5\n",
       "\\begin{tabular}{r|lllll}\n",
       "  & scientificName & source\\_key\\_specie & decimalLatitude & decimalLongitude & latest\\_name\\\\\n",
       "  & <chr> & <chr> & <dbl> & <dbl> & <chr>\\\\\n",
       "\\hline\n",
       "\t1 & Anadelphia polychaeta & Anadelphia polychaeta\\_1  & 12.383000 & -16.71600 & Anadelphia polychaeta\\\\\n",
       "\t2 & Anadelphia polychaeta & Anadelphia polychaeta\\_10 & 12.366667 & -16.55000 & Anadelphia polychaeta\\\\\n",
       "\t3 & Anadelphia polychaeta & Anadelphia polychaeta\\_11 & 12.400000 & -16.50000 & Anadelphia polychaeta\\\\\n",
       "\t4 & Anadelphia polychaeta & Anadelphia polychaeta\\_2  &  9.730528 & -12.82072 & Anadelphia polychaeta\\\\\n",
       "\t5 & Anadelphia polychaeta & Anadelphia polychaeta\\_3  &  9.583610 & -12.85222 & Anadelphia polychaeta\\\\\n",
       "\t6 & Anadelphia polychaeta & Anadelphia polychaeta\\_4  & 12.383000 & -16.71600 & Anadelphia polychaeta\\\\\n",
       "\\end{tabular}\n"
      ],
      "text/markdown": [
       "\n",
       "A data.frame: 6 × 5\n",
       "\n",
       "| <!--/--> | scientificName &lt;chr&gt; | source_key_specie &lt;chr&gt; | decimalLatitude &lt;dbl&gt; | decimalLongitude &lt;dbl&gt; | latest_name &lt;chr&gt; |\n",
       "|---|---|---|---|---|---|\n",
       "| 1 | Anadelphia polychaeta | Anadelphia polychaeta_1  | 12.383000 | -16.71600 | Anadelphia polychaeta |\n",
       "| 2 | Anadelphia polychaeta | Anadelphia polychaeta_10 | 12.366667 | -16.55000 | Anadelphia polychaeta |\n",
       "| 3 | Anadelphia polychaeta | Anadelphia polychaeta_11 | 12.400000 | -16.50000 | Anadelphia polychaeta |\n",
       "| 4 | Anadelphia polychaeta | Anadelphia polychaeta_2  |  9.730528 | -12.82072 | Anadelphia polychaeta |\n",
       "| 5 | Anadelphia polychaeta | Anadelphia polychaeta_3  |  9.583610 | -12.85222 | Anadelphia polychaeta |\n",
       "| 6 | Anadelphia polychaeta | Anadelphia polychaeta_4  | 12.383000 | -16.71600 | Anadelphia polychaeta |\n",
       "\n"
      ],
      "text/plain": [
       "  scientificName        source_key_specie        decimalLatitude\n",
       "1 Anadelphia polychaeta Anadelphia polychaeta_1  12.383000      \n",
       "2 Anadelphia polychaeta Anadelphia polychaeta_10 12.366667      \n",
       "3 Anadelphia polychaeta Anadelphia polychaeta_11 12.400000      \n",
       "4 Anadelphia polychaeta Anadelphia polychaeta_2   9.730528      \n",
       "5 Anadelphia polychaeta Anadelphia polychaeta_3   9.583610      \n",
       "6 Anadelphia polychaeta Anadelphia polychaeta_4  12.383000      \n",
       "  decimalLongitude latest_name          \n",
       "1 -16.71600        Anadelphia polychaeta\n",
       "2 -16.55000        Anadelphia polychaeta\n",
       "3 -16.50000        Anadelphia polychaeta\n",
       "4 -12.82072        Anadelphia polychaeta\n",
       "5 -12.85222        Anadelphia polychaeta\n",
       "6 -16.71600        Anadelphia polychaeta"
      ]
     },
     "metadata": {},
     "output_type": "display_data"
    },
    {
     "data": {
      "text/html": [
       "<table class=\"dataframe\">\n",
       "<caption>A data.frame: 6 × 5</caption>\n",
       "<thead>\n",
       "\t<tr><th></th><th scope=col>scientificName</th><th scope=col>source_key_specie</th><th scope=col>decimalLatitude</th><th scope=col>decimalLongitude</th><th scope=col>latest_name</th></tr>\n",
       "\t<tr><th></th><th scope=col>&lt;chr&gt;</th><th scope=col>&lt;chr&gt;</th><th scope=col>&lt;dbl&gt;</th><th scope=col>&lt;dbl&gt;</th><th scope=col>&lt;chr&gt;</th></tr>\n",
       "</thead>\n",
       "<tbody>\n",
       "\t<tr><th scope=row>99843</th><td>Zea perennis</td><td>Zea perennis_91</td><td>19.63330</td><td>-103.5833</td><td>Zea perennis</td></tr>\n",
       "\t<tr><th scope=row>99844</th><td>Zea perennis</td><td>Zea perennis_92</td><td>19.70000</td><td>-103.4333</td><td>Zea perennis</td></tr>\n",
       "\t<tr><th scope=row>99845</th><td>Zea perennis</td><td>Zea perennis_93</td><td>19.63972</td><td>-103.5667</td><td>Zea perennis</td></tr>\n",
       "\t<tr><th scope=row>99846</th><td>Zea perennis</td><td>Zea perennis_94</td><td>19.63333</td><td>-103.5833</td><td>Zea perennis</td></tr>\n",
       "\t<tr><th scope=row>99847</th><td>Zea perennis</td><td>Zea perennis_95</td><td>19.63694</td><td>-103.5622</td><td>Zea perennis</td></tr>\n",
       "\t<tr><th scope=row>99848</th><td>Zea perennis</td><td>Zea perennis_99</td><td>19.00000</td><td>-100.0000</td><td>Zea perennis</td></tr>\n",
       "</tbody>\n",
       "</table>\n"
      ],
      "text/latex": [
       "A data.frame: 6 × 5\n",
       "\\begin{tabular}{r|lllll}\n",
       "  & scientificName & source\\_key\\_specie & decimalLatitude & decimalLongitude & latest\\_name\\\\\n",
       "  & <chr> & <chr> & <dbl> & <dbl> & <chr>\\\\\n",
       "\\hline\n",
       "\t99843 & Zea perennis & Zea perennis\\_91 & 19.63330 & -103.5833 & Zea perennis\\\\\n",
       "\t99844 & Zea perennis & Zea perennis\\_92 & 19.70000 & -103.4333 & Zea perennis\\\\\n",
       "\t99845 & Zea perennis & Zea perennis\\_93 & 19.63972 & -103.5667 & Zea perennis\\\\\n",
       "\t99846 & Zea perennis & Zea perennis\\_94 & 19.63333 & -103.5833 & Zea perennis\\\\\n",
       "\t99847 & Zea perennis & Zea perennis\\_95 & 19.63694 & -103.5622 & Zea perennis\\\\\n",
       "\t99848 & Zea perennis & Zea perennis\\_99 & 19.00000 & -100.0000 & Zea perennis\\\\\n",
       "\\end{tabular}\n"
      ],
      "text/markdown": [
       "\n",
       "A data.frame: 6 × 5\n",
       "\n",
       "| <!--/--> | scientificName &lt;chr&gt; | source_key_specie &lt;chr&gt; | decimalLatitude &lt;dbl&gt; | decimalLongitude &lt;dbl&gt; | latest_name &lt;chr&gt; |\n",
       "|---|---|---|---|---|---|\n",
       "| 99843 | Zea perennis | Zea perennis_91 | 19.63330 | -103.5833 | Zea perennis |\n",
       "| 99844 | Zea perennis | Zea perennis_92 | 19.70000 | -103.4333 | Zea perennis |\n",
       "| 99845 | Zea perennis | Zea perennis_93 | 19.63972 | -103.5667 | Zea perennis |\n",
       "| 99846 | Zea perennis | Zea perennis_94 | 19.63333 | -103.5833 | Zea perennis |\n",
       "| 99847 | Zea perennis | Zea perennis_95 | 19.63694 | -103.5622 | Zea perennis |\n",
       "| 99848 | Zea perennis | Zea perennis_99 | 19.00000 | -100.0000 | Zea perennis |\n",
       "\n"
      ],
      "text/plain": [
       "      scientificName source_key_specie decimalLatitude decimalLongitude\n",
       "99843 Zea perennis   Zea perennis_91   19.63330        -103.5833       \n",
       "99844 Zea perennis   Zea perennis_92   19.70000        -103.4333       \n",
       "99845 Zea perennis   Zea perennis_93   19.63972        -103.5667       \n",
       "99846 Zea perennis   Zea perennis_94   19.63333        -103.5833       \n",
       "99847 Zea perennis   Zea perennis_95   19.63694        -103.5622       \n",
       "99848 Zea perennis   Zea perennis_99   19.00000        -100.0000       \n",
       "      latest_name \n",
       "99843 Zea perennis\n",
       "99844 Zea perennis\n",
       "99845 Zea perennis\n",
       "99846 Zea perennis\n",
       "99847 Zea perennis\n",
       "99848 Zea perennis"
      ]
     },
     "metadata": {},
     "output_type": "display_data"
    },
    {
     "data": {
      "text/html": [
       "<style>\n",
       ".list-inline {list-style: none; margin:0; padding: 0}\n",
       ".list-inline>li {display: inline-block}\n",
       ".list-inline>li:not(:last-child)::after {content: \"\\00b7\"; padding: 0 .5ex}\n",
       "</style>\n",
       "<ol class=list-inline><li>99848</li><li>5</li></ol>\n"
      ],
      "text/latex": [
       "\\begin{enumerate*}\n",
       "\\item 99848\n",
       "\\item 5\n",
       "\\end{enumerate*}\n"
      ],
      "text/markdown": [
       "1. 99848\n",
       "2. 5\n",
       "\n",
       "\n"
      ],
      "text/plain": [
       "[1] 99848     5"
      ]
     },
     "metadata": {},
     "output_type": "display_data"
    }
   ],
   "source": [
    "head(geoRange)\n",
    "tail(geoRange)\n",
    "dim(geoRange)"
   ]
  },
  {
   "cell_type": "code",
   "execution_count": 130,
   "id": "fca1441e",
   "metadata": {},
   "outputs": [
    {
     "data": {
      "text/html": [
       "389"
      ],
      "text/latex": [
       "389"
      ],
      "text/markdown": [
       "389"
      ],
      "text/plain": [
       "[1] 389"
      ]
     },
     "metadata": {},
     "output_type": "display_data"
    }
   ],
   "source": [
    "length(table(geoRange$latest_name))"
   ]
  },
  {
   "cell_type": "code",
   "execution_count": 153,
   "id": "8e60ca3a",
   "metadata": {},
   "outputs": [
    {
     "data": {
      "text/html": [
       "<table class=\"dataframe\">\n",
       "<caption>A data.frame: 2 × 32</caption>\n",
       "<thead>\n",
       "\t<tr><th></th><th scope=col>tracker_sample_name</th><th scope=col>assemblyID</th><th scope=col>correctSpecies</th><th scope=col>CorrectEcotype</th><th scope=col>Species</th><th scope=col>genotype_info</th><th scope=col>altName</th><th scope=col>lifeHistory</th><th scope=col>technology</th><th scope=col>source</th><th scope=col>⋯</th><th scope=col>bacteria</th><th scope=col>homo_s</th><th scope=col>tribe_qc</th><th scope=col>genus_qc</th><th scope=col>species</th><th scope=col>matched_gene_and_read_counts</th><th scope=col>tabasco_complete</th><th scope=col>tabasco_duplicated</th><th scope=col>tabasco_fraged</th><th scope=col>tabasco_missing</th></tr>\n",
       "\t<tr><th></th><th scope=col>&lt;chr&gt;</th><th scope=col>&lt;chr&gt;</th><th scope=col>&lt;chr&gt;</th><th scope=col>&lt;chr&gt;</th><th scope=col>&lt;chr&gt;</th><th scope=col>&lt;chr&gt;</th><th scope=col>&lt;chr&gt;</th><th scope=col>&lt;chr&gt;</th><th scope=col>&lt;chr&gt;</th><th scope=col>&lt;chr&gt;</th><th scope=col>⋯</th><th scope=col>&lt;dbl&gt;</th><th scope=col>&lt;dbl&gt;</th><th scope=col>&lt;chr&gt;</th><th scope=col>&lt;chr&gt;</th><th scope=col>&lt;chr&gt;</th><th scope=col>&lt;chr&gt;</th><th scope=col>&lt;int&gt;</th><th scope=col>&lt;int&gt;</th><th scope=col>&lt;int&gt;</th><th scope=col>&lt;int&gt;</th></tr>\n",
       "</thead>\n",
       "<tbody>\n",
       "\t<tr><th scope=row>NA</th><td>NA          </td><td>NA          </td><td>NA                </td><td>NA           </td><td>NA                </td><td>NA</td><td>NA</td><td>NA       </td><td>NA      </td><td>NA    </td><td>⋯</td><td>  NA</td><td>  NA</td><td>NA           </td><td>NA                  </td><td>NA                                                                    </td><td>NA                                                                        </td><td>NA</td><td>NA</td><td>NA</td><td>NA</td></tr>\n",
       "\t<tr><th scope=row>182</th><td>AN21TNTL0362</td><td>AN21TNTL0362</td><td>Saccharum strictum</td><td>R. Kral 64488</td><td>Saccharum strictum</td><td>NA</td><td>NA</td><td>perennial</td><td>Illumina</td><td>PanAnd</td><td>⋯</td><td>1.02</td><td>1.38</td><td>Andropogoneae</td><td>Miscanthus;Saccharum</td><td>junceus;spontaneum;hybrid cultivar NCo 310;hybrid cultivar;officinarum</td><td>NC_035751(287);NC_034802(279);NC_006084(273);NC_029221(270);NC_035224(263)</td><td> 0</td><td> 0</td><td> 0</td><td> 0</td></tr>\n",
       "</tbody>\n",
       "</table>\n"
      ],
      "text/latex": [
       "A data.frame: 2 × 32\n",
       "\\begin{tabular}{r|lllllllllllllllllllll}\n",
       "  & tracker\\_sample\\_name & assemblyID & correctSpecies & CorrectEcotype & Species & genotype\\_info & altName & lifeHistory & technology & source & ⋯ & bacteria & homo\\_s & tribe\\_qc & genus\\_qc & species & matched\\_gene\\_and\\_read\\_counts & tabasco\\_complete & tabasco\\_duplicated & tabasco\\_fraged & tabasco\\_missing\\\\\n",
       "  & <chr> & <chr> & <chr> & <chr> & <chr> & <chr> & <chr> & <chr> & <chr> & <chr> & ⋯ & <dbl> & <dbl> & <chr> & <chr> & <chr> & <chr> & <int> & <int> & <int> & <int>\\\\\n",
       "\\hline\n",
       "\tNA & NA           & NA           & NA                 & NA            & NA                 & NA & NA & NA        & NA       & NA     & ⋯ &   NA &   NA & NA            & NA                   & NA                                                                     & NA                                                                         & NA & NA & NA & NA\\\\\n",
       "\t182 & AN21TNTL0362 & AN21TNTL0362 & Saccharum strictum & R. Kral 64488 & Saccharum strictum & NA & NA & perennial & Illumina & PanAnd & ⋯ & 1.02 & 1.38 & Andropogoneae & Miscanthus;Saccharum & junceus;spontaneum;hybrid cultivar NCo 310;hybrid cultivar;officinarum & NC\\_035751(287);NC\\_034802(279);NC\\_006084(273);NC\\_029221(270);NC\\_035224(263) &  0 &  0 &  0 &  0\\\\\n",
       "\\end{tabular}\n"
      ],
      "text/markdown": [
       "\n",
       "A data.frame: 2 × 32\n",
       "\n",
       "| <!--/--> | tracker_sample_name &lt;chr&gt; | assemblyID &lt;chr&gt; | correctSpecies &lt;chr&gt; | CorrectEcotype &lt;chr&gt; | Species &lt;chr&gt; | genotype_info &lt;chr&gt; | altName &lt;chr&gt; | lifeHistory &lt;chr&gt; | technology &lt;chr&gt; | source &lt;chr&gt; | ⋯ ⋯ | bacteria &lt;dbl&gt; | homo_s &lt;dbl&gt; | tribe_qc &lt;chr&gt; | genus_qc &lt;chr&gt; | species &lt;chr&gt; | matched_gene_and_read_counts &lt;chr&gt; | tabasco_complete &lt;int&gt; | tabasco_duplicated &lt;int&gt; | tabasco_fraged &lt;int&gt; | tabasco_missing &lt;int&gt; |\n",
       "|---|---|---|---|---|---|---|---|---|---|---|---|---|---|---|---|---|---|---|---|---|---|\n",
       "| NA | NA           | NA           | NA                 | NA            | NA                 | NA | NA | NA        | NA       | NA     | ⋯ |   NA |   NA | NA            | NA                   | NA                                                                     | NA                                                                         | NA | NA | NA | NA |\n",
       "| 182 | AN21TNTL0362 | AN21TNTL0362 | Saccharum strictum | R. Kral 64488 | Saccharum strictum | NA | NA | perennial | Illumina | PanAnd | ⋯ | 1.02 | 1.38 | Andropogoneae | Miscanthus;Saccharum | junceus;spontaneum;hybrid cultivar NCo 310;hybrid cultivar;officinarum | NC_035751(287);NC_034802(279);NC_006084(273);NC_029221(270);NC_035224(263) |  0 |  0 |  0 |  0 |\n",
       "\n"
      ],
      "text/plain": [
       "    tracker_sample_name assemblyID   correctSpecies     CorrectEcotype\n",
       "NA  NA                  NA           NA                 NA            \n",
       "182 AN21TNTL0362        AN21TNTL0362 Saccharum strictum R. Kral 64488 \n",
       "    Species            genotype_info altName lifeHistory technology source ⋯\n",
       "NA  NA                 NA            NA      NA          NA         NA     ⋯\n",
       "182 Saccharum strictum NA            NA      perennial   Illumina   PanAnd ⋯\n",
       "    bacteria homo_s tribe_qc      genus_qc            \n",
       "NA    NA       NA   NA            NA                  \n",
       "182 1.02     1.38   Andropogoneae Miscanthus;Saccharum\n",
       "    species                                                               \n",
       "NA  NA                                                                    \n",
       "182 junceus;spontaneum;hybrid cultivar NCo 310;hybrid cultivar;officinarum\n",
       "    matched_gene_and_read_counts                                              \n",
       "NA  NA                                                                        \n",
       "182 NC_035751(287);NC_034802(279);NC_006084(273);NC_029221(270);NC_035224(263)\n",
       "    tabasco_complete tabasco_duplicated tabasco_fraged tabasco_missing\n",
       "NA  NA               NA                 NA             NA             \n",
       "182  0                0                  0              0             "
      ]
     },
     "metadata": {},
     "output_type": "display_data"
    }
   ],
   "source": [
    "mergedDat_noNA[mergedDat_noNA$tracker_organism==\"Saccharum strictum\",]"
   ]
  },
  {
   "cell_type": "code",
   "execution_count": 135,
   "id": "d1c158a0",
   "metadata": {},
   "outputs": [
    {
     "data": {
      "text/html": [
       "<style>\n",
       ".list-inline {list-style: none; margin:0; padding: 0}\n",
       ".list-inline>li {display: inline-block}\n",
       ".list-inline>li:not(:last-child)::after {content: \"\\00b7\"; padding: 0 .5ex}\n",
       "</style>\n",
       "<ol class=list-inline><li>'Andropogon aridus'</li><li>'Andropogon sp.'</li><li>'Bothriochloa grahamii'</li><li>'Bothriochloa woodrovii'</li><li>'Dimeria aristata'</li><li>'Dimeria mooneyi'</li><li>'Ischaemum koenigii'</li><li>'Iseilema venkateswarlui'</li><li>'Saccharum strictum'</li><li>'Sorghum controversum'</li><li>'Tripsacum cundinamarce'</li></ol>\n"
      ],
      "text/latex": [
       "\\begin{enumerate*}\n",
       "\\item 'Andropogon aridus'\n",
       "\\item 'Andropogon sp.'\n",
       "\\item 'Bothriochloa grahamii'\n",
       "\\item 'Bothriochloa woodrovii'\n",
       "\\item 'Dimeria aristata'\n",
       "\\item 'Dimeria mooneyi'\n",
       "\\item 'Ischaemum koenigii'\n",
       "\\item 'Iseilema venkateswarlui'\n",
       "\\item 'Saccharum strictum'\n",
       "\\item 'Sorghum controversum'\n",
       "\\item 'Tripsacum cundinamarce'\n",
       "\\end{enumerate*}\n"
      ],
      "text/markdown": [
       "1. 'Andropogon aridus'\n",
       "2. 'Andropogon sp.'\n",
       "3. 'Bothriochloa grahamii'\n",
       "4. 'Bothriochloa woodrovii'\n",
       "5. 'Dimeria aristata'\n",
       "6. 'Dimeria mooneyi'\n",
       "7. 'Ischaemum koenigii'\n",
       "8. 'Iseilema venkateswarlui'\n",
       "9. 'Saccharum strictum'\n",
       "10. 'Sorghum controversum'\n",
       "11. 'Tripsacum cundinamarce'\n",
       "\n",
       "\n"
      ],
      "text/plain": [
       " [1] \"Andropogon aridus\"       \"Andropogon sp.\"         \n",
       " [3] \"Bothriochloa grahamii\"   \"Bothriochloa woodrovii\" \n",
       " [5] \"Dimeria aristata\"        \"Dimeria mooneyi\"        \n",
       " [7] \"Ischaemum koenigii\"      \"Iseilema venkateswarlui\"\n",
       " [9] \"Saccharum strictum\"      \"Sorghum controversum\"   \n",
       "[11] \"Tripsacum cundinamarce\" "
      ]
     },
     "metadata": {},
     "output_type": "display_data"
    }
   ],
   "source": [
    "sort(setdiff(testMetadata$tracker_organism,unique(geoRange$latest_name)))"
   ]
  },
  {
   "cell_type": "markdown",
   "id": "74c00de9",
   "metadata": {},
   "source": [
    "# species without record\n",
    "\n",
    "Andropogon aridus -> No occurrence data \n",
    "Andropogon sp. -> NA\n",
    "Bothriochloa grahamii -> Dichanthium graphamii (no occurrence data) https://powo.science.kew.org/taxon/urn:lsid:ipni.org:names:392715-1\n",
    "Bothriochloa woodrovii -> Andropogon woodrovii,Amphilophis woodrovii,Dichanthium woodrovii (no occurrence data) https://powo.science.kew.org/taxon/urn:lsid:ipni.org:names:392753-1#synonyms\n",
    "Dimeria aristata -> NA \n",
    "Dimeria mooneyi -> NA\n",
    "AN21TNTL0138: Ischaemum koenigii -> Ischaemum aristatum subsp. koenigii? https://www.tropicos.org/name/25558208\n",
    "Iseilema venkateswarlui -> No occurence data\n",
    "AN21TNTL0362: Saccharum strictum -> Tripidium strictum[v],Andropogon strictus,Erianthus hostii,Erianthus orientalis,Erianthus strictus,Ripidium strictum https://powo.science.kew.org/taxon/urn:lsid:ipni.org:names:77075507-1#synonyms\n",
    "Sorghum controversum -> Andropogon controversus (no occurrence data)\n",
    "AN21TSTL0206: Tripsacum cundinamarce -> Tripsacum cundinamarcae https://www.gbif.org/species/4931992\n",
    "\n",
    "\n",
    "Sorghum controversum -> Andropogon controversus?\n",
    "Sorghum controversum -> Sorghum halepense?\n",
    "Saccharum strictum -> Sorghum halepense?\n",
    "Saccharum strictum -> Erianthus strictus?\n",
    "Ischaemum koenigii -> Ischaemum aristatum?\n",
    "Bothriochloa woodrovii -> Andropogon woodrovii or Amphilophis woodrovii"
   ]
  },
  {
   "cell_type": "code",
   "execution_count": null,
   "id": "494f91cc",
   "metadata": {},
   "outputs": [],
   "source": []
  }
 ],
 "metadata": {
  "kernelspec": {
   "display_name": "R",
   "language": "R",
   "name": "ir"
  },
  "language_info": {
   "codemirror_mode": "r",
   "file_extension": ".r",
   "mimetype": "text/x-r-source",
   "name": "R",
   "pygments_lexer": "r",
   "version": "4.2.2"
  }
 },
 "nbformat": 4,
 "nbformat_minor": 5
}
