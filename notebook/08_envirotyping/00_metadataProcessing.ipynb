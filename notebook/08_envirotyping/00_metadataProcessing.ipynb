{
 "cells": [
  {
   "cell_type": "code",
   "execution_count": 4,
   "id": "32b28e6c",
   "metadata": {},
   "outputs": [],
   "source": [
    "# R script for metadata wrangling\n",
    "# author: Sheng-Kai Hsu\n",
    "# date created: 2024.06.05\n",
    "# data last edited: 2024.08.19\n",
    "rm(list=ls())\n"
   ]
  },
  {
   "cell_type": "code",
   "execution_count": 5,
   "id": "ca586d15",
   "metadata": {},
   "outputs": [
    {
     "name": "stderr",
     "output_type": "stream",
     "text": [
      "── \u001b[1mAttaching core tidyverse packages\u001b[22m ───────────────────────────────────────────── tidyverse 2.0.0 ──\n",
      "\u001b[32m✔\u001b[39m \u001b[34mdplyr    \u001b[39m 1.1.4     \u001b[32m✔\u001b[39m \u001b[34mreadr    \u001b[39m 2.1.5\n",
      "\u001b[32m✔\u001b[39m \u001b[34mforcats  \u001b[39m 1.0.0     \u001b[32m✔\u001b[39m \u001b[34mstringr  \u001b[39m 1.5.1\n",
      "\u001b[32m✔\u001b[39m \u001b[34mggplot2  \u001b[39m 3.5.1     \u001b[32m✔\u001b[39m \u001b[34mtibble   \u001b[39m 3.2.1\n",
      "\u001b[32m✔\u001b[39m \u001b[34mlubridate\u001b[39m 1.9.3     \u001b[32m✔\u001b[39m \u001b[34mtidyr    \u001b[39m 1.3.1\n",
      "\u001b[32m✔\u001b[39m \u001b[34mpurrr    \u001b[39m 1.0.4     \n",
      "── \u001b[1mConflicts\u001b[22m ─────────────────────────────────────────────────────────────── tidyverse_conflicts() ──\n",
      "\u001b[31m✖\u001b[39m \u001b[34mdplyr\u001b[39m::\u001b[32mfilter()\u001b[39m masks \u001b[34mstats\u001b[39m::filter()\n",
      "\u001b[31m✖\u001b[39m \u001b[34mdplyr\u001b[39m::\u001b[32mlag()\u001b[39m    masks \u001b[34mstats\u001b[39m::lag()\n",
      "\u001b[36mℹ\u001b[39m Use the conflicted package (\u001b[3m\u001b[34m<http://conflicted.r-lib.org/>\u001b[39m\u001b[23m) to force all conflicts to become errors\n"
     ]
    }
   ],
   "source": [
    "library(tidyverse)"
   ]
  },
  {
   "cell_type": "code",
   "execution_count": 6,
   "id": "3f5fd246",
   "metadata": {},
   "outputs": [],
   "source": [
    "manualDat = read.csv(\"/workdir/sh2246/p_phyloGWAS/data/Poaceae_metadata_2024.08.21.csv\",header = T)\n",
    "limsDat = read.delim(\"/workdir/sh2246/p_phyloGWAS_archived/output/metadata_processing/fullQCData_20240819.txt\",header = T)"
   ]
  },
  {
   "cell_type": "code",
   "execution_count": 7,
   "id": "b678291c",
   "metadata": {},
   "outputs": [],
   "source": [
    "manualDat_panand = manualDat[manualDat$source==\"PanAnd\",]"
   ]
  },
  {
   "cell_type": "code",
   "execution_count": 8,
   "id": "def2ba16",
   "metadata": {},
   "outputs": [
    {
     "data": {
      "text/html": [
       "<table class=\"dataframe\">\n",
       "<caption>A data.frame: 6 × 11</caption>\n",
       "<thead>\n",
       "\t<tr><th></th><th scope=col>assemblyID</th><th scope=col>tracker_sample_name</th><th scope=col>correctSpecies</th><th scope=col>CorrectEcotype</th><th scope=col>Species</th><th scope=col>genotype_info</th><th scope=col>altName</th><th scope=col>lifeHistory</th><th scope=col>technology</th><th scope=col>source</th><th scope=col>notes</th></tr>\n",
       "\t<tr><th></th><th scope=col>&lt;chr&gt;</th><th scope=col>&lt;chr&gt;</th><th scope=col>&lt;chr&gt;</th><th scope=col>&lt;chr&gt;</th><th scope=col>&lt;chr&gt;</th><th scope=col>&lt;chr&gt;</th><th scope=col>&lt;chr&gt;</th><th scope=col>&lt;chr&gt;</th><th scope=col>&lt;chr&gt;</th><th scope=col>&lt;chr&gt;</th><th scope=col>&lt;chr&gt;</th></tr>\n",
       "</thead>\n",
       "<tbody>\n",
       "\t<tr><th scope=row>28</th><td>AN22TNTL030 </td><td>AN22TNTL030    </td><td>Anadelphia polychaeta  </td><td>Haba 1195         </td><td>Anadelphia polychaeta  </td><td>NA                </td><td>NA</td><td>annual   </td><td>Illumina</td><td>PanAnd</td><td></td></tr>\n",
       "\t<tr><th scope=row>29</th><td>AN21TNTL0087</td><td>AN21TNTL0087   </td><td>Anadelphia scyphofera  </td><td>Bidgood et al 5500</td><td>Anadelphia scyphofera  </td><td>Bidgood et al 5500</td><td>NA</td><td>annual   </td><td>Illumina</td><td>PanAnd</td><td></td></tr>\n",
       "\t<tr><th scope=row>30</th><td>MCRTL031    </td><td>AT20TN1MCRTL031</td><td>Anadelphia scyphofera  </td><td>Pasquet 1237      </td><td>Anadelphia scyphofera  </td><td>Pasquet 1237      </td><td>NA</td><td>annual   </td><td>Illumina</td><td>PanAnd</td><td></td></tr>\n",
       "\t<tr><th scope=row>31</th><td>AN21TSTL0285</td><td>AN21TSTL0285   </td><td>Anadelphia trepidaria  </td><td>J.G. Adam 31646   </td><td>Anadelphia trepidaria  </td><td>J.G. Adam 31646   </td><td>NA</td><td>annual   </td><td>Illumina</td><td>PanAnd</td><td></td></tr>\n",
       "\t<tr><th scope=row>32</th><td>AN22TNTL149 </td><td>AN22TNTL149    </td><td>Anadelphia trispiculata</td><td>J.K. Morton SL1422</td><td>Anadelphia trispiculata</td><td>NA                </td><td>NA</td><td>perennial</td><td>Illumina</td><td>PanAnd</td><td></td></tr>\n",
       "\t<tr><th scope=row>33</th><td>AN20T168    </td><td>AN20TSCR000168 </td><td>Andropogon amethystinus</td><td>MSV 1622          </td><td>Andropogon amethystinus</td><td>MSV 1622          </td><td>NA</td><td>perennial</td><td>Illumina</td><td>PanAnd</td><td></td></tr>\n",
       "</tbody>\n",
       "</table>\n"
      ],
      "text/latex": [
       "A data.frame: 6 × 11\n",
       "\\begin{tabular}{r|lllllllllll}\n",
       "  & assemblyID & tracker\\_sample\\_name & correctSpecies & CorrectEcotype & Species & genotype\\_info & altName & lifeHistory & technology & source & notes\\\\\n",
       "  & <chr> & <chr> & <chr> & <chr> & <chr> & <chr> & <chr> & <chr> & <chr> & <chr> & <chr>\\\\\n",
       "\\hline\n",
       "\t28 & AN22TNTL030  & AN22TNTL030     & Anadelphia polychaeta   & Haba 1195          & Anadelphia polychaeta   & NA                 & NA & annual    & Illumina & PanAnd & \\\\\n",
       "\t29 & AN21TNTL0087 & AN21TNTL0087    & Anadelphia scyphofera   & Bidgood et al 5500 & Anadelphia scyphofera   & Bidgood et al 5500 & NA & annual    & Illumina & PanAnd & \\\\\n",
       "\t30 & MCRTL031     & AT20TN1MCRTL031 & Anadelphia scyphofera   & Pasquet 1237       & Anadelphia scyphofera   & Pasquet 1237       & NA & annual    & Illumina & PanAnd & \\\\\n",
       "\t31 & AN21TSTL0285 & AN21TSTL0285    & Anadelphia trepidaria   & J.G. Adam 31646    & Anadelphia trepidaria   & J.G. Adam 31646    & NA & annual    & Illumina & PanAnd & \\\\\n",
       "\t32 & AN22TNTL149  & AN22TNTL149     & Anadelphia trispiculata & J.K. Morton SL1422 & Anadelphia trispiculata & NA                 & NA & perennial & Illumina & PanAnd & \\\\\n",
       "\t33 & AN20T168     & AN20TSCR000168  & Andropogon amethystinus & MSV 1622           & Andropogon amethystinus & MSV 1622           & NA & perennial & Illumina & PanAnd & \\\\\n",
       "\\end{tabular}\n"
      ],
      "text/markdown": [
       "\n",
       "A data.frame: 6 × 11\n",
       "\n",
       "| <!--/--> | assemblyID &lt;chr&gt; | tracker_sample_name &lt;chr&gt; | correctSpecies &lt;chr&gt; | CorrectEcotype &lt;chr&gt; | Species &lt;chr&gt; | genotype_info &lt;chr&gt; | altName &lt;chr&gt; | lifeHistory &lt;chr&gt; | technology &lt;chr&gt; | source &lt;chr&gt; | notes &lt;chr&gt; |\n",
       "|---|---|---|---|---|---|---|---|---|---|---|---|\n",
       "| 28 | AN22TNTL030  | AN22TNTL030     | Anadelphia polychaeta   | Haba 1195          | Anadelphia polychaeta   | NA                 | NA | annual    | Illumina | PanAnd | <!----> |\n",
       "| 29 | AN21TNTL0087 | AN21TNTL0087    | Anadelphia scyphofera   | Bidgood et al 5500 | Anadelphia scyphofera   | Bidgood et al 5500 | NA | annual    | Illumina | PanAnd | <!----> |\n",
       "| 30 | MCRTL031     | AT20TN1MCRTL031 | Anadelphia scyphofera   | Pasquet 1237       | Anadelphia scyphofera   | Pasquet 1237       | NA | annual    | Illumina | PanAnd | <!----> |\n",
       "| 31 | AN21TSTL0285 | AN21TSTL0285    | Anadelphia trepidaria   | J.G. Adam 31646    | Anadelphia trepidaria   | J.G. Adam 31646    | NA | annual    | Illumina | PanAnd | <!----> |\n",
       "| 32 | AN22TNTL149  | AN22TNTL149     | Anadelphia trispiculata | J.K. Morton SL1422 | Anadelphia trispiculata | NA                 | NA | perennial | Illumina | PanAnd | <!----> |\n",
       "| 33 | AN20T168     | AN20TSCR000168  | Andropogon amethystinus | MSV 1622           | Andropogon amethystinus | MSV 1622           | NA | perennial | Illumina | PanAnd | <!----> |\n",
       "\n"
      ],
      "text/plain": [
       "   assemblyID   tracker_sample_name correctSpecies          CorrectEcotype    \n",
       "28 AN22TNTL030  AN22TNTL030         Anadelphia polychaeta   Haba 1195         \n",
       "29 AN21TNTL0087 AN21TNTL0087        Anadelphia scyphofera   Bidgood et al 5500\n",
       "30 MCRTL031     AT20TN1MCRTL031     Anadelphia scyphofera   Pasquet 1237      \n",
       "31 AN21TSTL0285 AN21TSTL0285        Anadelphia trepidaria   J.G. Adam 31646   \n",
       "32 AN22TNTL149  AN22TNTL149         Anadelphia trispiculata J.K. Morton SL1422\n",
       "33 AN20T168     AN20TSCR000168      Andropogon amethystinus MSV 1622          \n",
       "   Species                 genotype_info      altName lifeHistory technology\n",
       "28 Anadelphia polychaeta   NA                 NA      annual      Illumina  \n",
       "29 Anadelphia scyphofera   Bidgood et al 5500 NA      annual      Illumina  \n",
       "30 Anadelphia scyphofera   Pasquet 1237       NA      annual      Illumina  \n",
       "31 Anadelphia trepidaria   J.G. Adam 31646    NA      annual      Illumina  \n",
       "32 Anadelphia trispiculata NA                 NA      perennial   Illumina  \n",
       "33 Andropogon amethystinus MSV 1622           NA      perennial   Illumina  \n",
       "   source notes\n",
       "28 PanAnd      \n",
       "29 PanAnd      \n",
       "30 PanAnd      \n",
       "31 PanAnd      \n",
       "32 PanAnd      \n",
       "33 PanAnd      "
      ]
     },
     "metadata": {},
     "output_type": "display_data"
    },
    {
     "data": {
      "text/html": [
       "<style>\n",
       ".list-inline {list-style: none; margin:0; padding: 0}\n",
       ".list-inline>li {display: inline-block}\n",
       ".list-inline>li:not(:last-child)::after {content: \"\\00b7\"; padding: 0 .5ex}\n",
       "</style>\n",
       "<ol class=list-inline><li>520</li><li>11</li></ol>\n"
      ],
      "text/latex": [
       "\\begin{enumerate*}\n",
       "\\item 520\n",
       "\\item 11\n",
       "\\end{enumerate*}\n"
      ],
      "text/markdown": [
       "1. 520\n",
       "2. 11\n",
       "\n",
       "\n"
      ],
      "text/plain": [
       "[1] 520  11"
      ]
     },
     "metadata": {},
     "output_type": "display_data"
    }
   ],
   "source": [
    "head(manualDat_panand)\n",
    "dim(manualDat_panand)"
   ]
  },
  {
   "cell_type": "code",
   "execution_count": 9,
   "id": "f562c871",
   "metadata": {},
   "outputs": [
    {
     "data": {
      "text/html": [
       "<table class=\"dataframe\">\n",
       "<caption>A data.frame: 6 × 22</caption>\n",
       "<thead>\n",
       "\t<tr><th></th><th scope=col>tracker_sample_name</th><th scope=col>tracker_organism</th><th scope=col>alternative_names</th><th scope=col>ecotype</th><th scope=col>run_id</th><th scope=col>file</th><th scope=col>total_reads</th><th scope=col>gb_num</th><th scope=col>frac_mapped</th><th scope=col>percent_dup</th><th scope=col>⋯</th><th scope=col>bacteria</th><th scope=col>homo_s</th><th scope=col>tribe_qc</th><th scope=col>genus_qc</th><th scope=col>species</th><th scope=col>matched_gene_and_read_counts</th><th scope=col>tabasco_complete</th><th scope=col>tabasco_duplicated</th><th scope=col>tabasco_fraged</th><th scope=col>tabasco_missing</th></tr>\n",
       "\t<tr><th></th><th scope=col>&lt;chr&gt;</th><th scope=col>&lt;chr&gt;</th><th scope=col>&lt;chr&gt;</th><th scope=col>&lt;chr&gt;</th><th scope=col>&lt;int&gt;</th><th scope=col>&lt;chr&gt;</th><th scope=col>&lt;int&gt;</th><th scope=col>&lt;dbl&gt;</th><th scope=col>&lt;dbl&gt;</th><th scope=col>&lt;dbl&gt;</th><th scope=col>⋯</th><th scope=col>&lt;dbl&gt;</th><th scope=col>&lt;dbl&gt;</th><th scope=col>&lt;chr&gt;</th><th scope=col>&lt;chr&gt;</th><th scope=col>&lt;chr&gt;</th><th scope=col>&lt;chr&gt;</th><th scope=col>&lt;int&gt;</th><th scope=col>&lt;int&gt;</th><th scope=col>&lt;int&gt;</th><th scope=col>&lt;int&gt;</th></tr>\n",
       "</thead>\n",
       "<tbody>\n",
       "\t<tr><th scope=row>1</th><td>AT20TS1MCRTL001</td><td>Rottboellia campestris</td><td>Coelorachis cylindrica (Mnesithea)</td><td>Kellogg 1258      </td><td>1</td><td>MCRTL001_CKDL200164854-1a-AK5140-AK242_HMGJWDSXY_L4 </td><td>272268296</td><td>40.8</td><td>0.366</td><td>0.000</td><td>⋯</td><td>0.45</td><td>1.42</td><td>Andropogoneae</td><td>Mnesithea;Eremochloa;Saccharum        </td><td>helferi;ophiuroides;arundinaceum;eriopoda             </td><td>NC_035036(253);NC_036716(236);NC_030777(214);NC_035023(214)               </td><td>5325</td><td> 107</td><td> 156</td><td>4</td></tr>\n",
       "\t<tr><th scope=row>2</th><td>AT20TS1MCRTL013</td><td>Hyperthelia dissoluta </td><td>                                  </td><td>Kellogg 1137      </td><td>1</td><td>MCRTL013_CKDL200164854-1a-AK5395-AK5927_HMGJWDSXY_L4</td><td>154100842</td><td>23.1</td><td>0.433</td><td>0.147</td><td>⋯</td><td>0.41</td><td>2.30</td><td>Andropogoneae</td><td>Hyparrhenia;Andropogon                </td><td>diplandra;variabilis;subplumosa;greenwayi;gayanus     </td><td>NC_035037(321);NC_040112(321);NC_030625(315);NC_040128(294);NC_040127(280)</td><td>3705</td><td> 662</td><td>1220</td><td>5</td></tr>\n",
       "\t<tr><th scope=row>3</th><td>AT20TS1MCRTL002</td><td>Tripsacum laxum       </td><td>                                  </td><td>Kellogg MIA 34792 </td><td>1</td><td>MCRTL002_CKDL200164854-1a-AK4939-AK6653_HMGJWDSXY_L4</td><td>206616665</td><td>31.0</td><td>0.212</td><td>0.160</td><td>⋯</td><td>0.21</td><td>0.94</td><td>Andropogoneae</td><td>Zea;Saccharum;Tripidium               </td><td>perennis;luxurians;diploperennis;arundinaceum;ravennae</td><td>NC_030300(370);NC_030301(357);NC_030377(357);NC_030777(353);NC_042735(345)</td><td>2497</td><td>1603</td><td>1492</td><td>0</td></tr>\n",
       "\t<tr><th scope=row>4</th><td>AT20TS1MCRTL014</td><td><span style=white-space:pre-wrap>Rottboellia rugosa    </span></td><td><span style=white-space:pre-wrap>Coelorachis rugosa                </span></td><td>Layton &amp; Zhong 162</td><td>1</td><td>MCRTL014_CKDL200164854-1a-AK4937-AK6664_HMGJWDSXY_L4</td><td>237500144</td><td>35.6</td><td>0.385</td><td>0.161</td><td>⋯</td><td>0.91</td><td>1.94</td><td>Andropogoneae</td><td><span style=white-space:pre-wrap>Mnesithea;Eremochloa;Saccharum        </span></td><td><span style=white-space:pre-wrap>helferi;ophiuroides;eriopoda;ciliaris;arundinaceum    </span></td><td>NC_035036(227);NC_036716(214);NC_035023(199);NC_035028(194);NC_030777(191)</td><td>4905</td><td><span style=white-space:pre-wrap>  96</span></td><td> 585</td><td>6</td></tr>\n",
       "\t<tr><th scope=row>5</th><td>AT20TS1MCRTL003</td><td>Euclasta condylotricha</td><td>                                  </td><td>Pasquet 1245      </td><td>1</td><td>MCRTL003_CKDL200164854-1a-AK5159-AK6654_HMGJWDSXY_L4</td><td>271608628</td><td>40.7</td><td>0.513</td><td>0.180</td><td>⋯</td><td>0.32</td><td>1.32</td><td>Andropogoneae</td><td>Bothriochloa;Dichanthium;Capillipedium</td><td>alta;decipiens;annulatum;sericeum;venustum            </td><td>NC_030621(361);NC_040131(355);NC_042145(334);NC_035018(319);NC_030622(318)</td><td>5428</td><td>  78</td><td>  80</td><td>6</td></tr>\n",
       "\t<tr><th scope=row>6</th><td>AT20TS1MCRTL015</td><td>Eulaliopsis binata    </td><td>                                  </td><td>Traiperm 567      </td><td>1</td><td>MCRTL015_CKDL200164854-1a-AK5151-AK6665_HMGJWDSXY_L4</td><td>206938089</td><td>31.0</td><td>0.515</td><td>0.152</td><td>⋯</td><td>0.51</td><td>1.66</td><td>Andropogoneae</td><td>Eulaliopsis                           </td><td>binata                                                </td><td>NC_035049(446)                                                            </td><td>4722</td><td> 409</td><td> 460</td><td>1</td></tr>\n",
       "</tbody>\n",
       "</table>\n"
      ],
      "text/latex": [
       "A data.frame: 6 × 22\n",
       "\\begin{tabular}{r|lllllllllllllllllllll}\n",
       "  & tracker\\_sample\\_name & tracker\\_organism & alternative\\_names & ecotype & run\\_id & file & total\\_reads & gb\\_num & frac\\_mapped & percent\\_dup & ⋯ & bacteria & homo\\_s & tribe\\_qc & genus\\_qc & species & matched\\_gene\\_and\\_read\\_counts & tabasco\\_complete & tabasco\\_duplicated & tabasco\\_fraged & tabasco\\_missing\\\\\n",
       "  & <chr> & <chr> & <chr> & <chr> & <int> & <chr> & <int> & <dbl> & <dbl> & <dbl> & ⋯ & <dbl> & <dbl> & <chr> & <chr> & <chr> & <chr> & <int> & <int> & <int> & <int>\\\\\n",
       "\\hline\n",
       "\t1 & AT20TS1MCRTL001 & Rottboellia campestris & Coelorachis cylindrica (Mnesithea) & Kellogg 1258       & 1 & MCRTL001\\_CKDL200164854-1a-AK5140-AK242\\_HMGJWDSXY\\_L4  & 272268296 & 40.8 & 0.366 & 0.000 & ⋯ & 0.45 & 1.42 & Andropogoneae & Mnesithea;Eremochloa;Saccharum         & helferi;ophiuroides;arundinaceum;eriopoda              & NC\\_035036(253);NC\\_036716(236);NC\\_030777(214);NC\\_035023(214)                & 5325 &  107 &  156 & 4\\\\\n",
       "\t2 & AT20TS1MCRTL013 & Hyperthelia dissoluta  &                                    & Kellogg 1137       & 1 & MCRTL013\\_CKDL200164854-1a-AK5395-AK5927\\_HMGJWDSXY\\_L4 & 154100842 & 23.1 & 0.433 & 0.147 & ⋯ & 0.41 & 2.30 & Andropogoneae & Hyparrhenia;Andropogon                 & diplandra;variabilis;subplumosa;greenwayi;gayanus      & NC\\_035037(321);NC\\_040112(321);NC\\_030625(315);NC\\_040128(294);NC\\_040127(280) & 3705 &  662 & 1220 & 5\\\\\n",
       "\t3 & AT20TS1MCRTL002 & Tripsacum laxum        &                                    & Kellogg MIA 34792  & 1 & MCRTL002\\_CKDL200164854-1a-AK4939-AK6653\\_HMGJWDSXY\\_L4 & 206616665 & 31.0 & 0.212 & 0.160 & ⋯ & 0.21 & 0.94 & Andropogoneae & Zea;Saccharum;Tripidium                & perennis;luxurians;diploperennis;arundinaceum;ravennae & NC\\_030300(370);NC\\_030301(357);NC\\_030377(357);NC\\_030777(353);NC\\_042735(345) & 2497 & 1603 & 1492 & 0\\\\\n",
       "\t4 & AT20TS1MCRTL014 & Rottboellia rugosa     & Coelorachis rugosa                 & Layton \\& Zhong 162 & 1 & MCRTL014\\_CKDL200164854-1a-AK4937-AK6664\\_HMGJWDSXY\\_L4 & 237500144 & 35.6 & 0.385 & 0.161 & ⋯ & 0.91 & 1.94 & Andropogoneae & Mnesithea;Eremochloa;Saccharum         & helferi;ophiuroides;eriopoda;ciliaris;arundinaceum     & NC\\_035036(227);NC\\_036716(214);NC\\_035023(199);NC\\_035028(194);NC\\_030777(191) & 4905 &   96 &  585 & 6\\\\\n",
       "\t5 & AT20TS1MCRTL003 & Euclasta condylotricha &                                    & Pasquet 1245       & 1 & MCRTL003\\_CKDL200164854-1a-AK5159-AK6654\\_HMGJWDSXY\\_L4 & 271608628 & 40.7 & 0.513 & 0.180 & ⋯ & 0.32 & 1.32 & Andropogoneae & Bothriochloa;Dichanthium;Capillipedium & alta;decipiens;annulatum;sericeum;venustum             & NC\\_030621(361);NC\\_040131(355);NC\\_042145(334);NC\\_035018(319);NC\\_030622(318) & 5428 &   78 &   80 & 6\\\\\n",
       "\t6 & AT20TS1MCRTL015 & Eulaliopsis binata     &                                    & Traiperm 567       & 1 & MCRTL015\\_CKDL200164854-1a-AK5151-AK6665\\_HMGJWDSXY\\_L4 & 206938089 & 31.0 & 0.515 & 0.152 & ⋯ & 0.51 & 1.66 & Andropogoneae & Eulaliopsis                            & binata                                                 & NC\\_035049(446)                                                             & 4722 &  409 &  460 & 1\\\\\n",
       "\\end{tabular}\n"
      ],
      "text/markdown": [
       "\n",
       "A data.frame: 6 × 22\n",
       "\n",
       "| <!--/--> | tracker_sample_name &lt;chr&gt; | tracker_organism &lt;chr&gt; | alternative_names &lt;chr&gt; | ecotype &lt;chr&gt; | run_id &lt;int&gt; | file &lt;chr&gt; | total_reads &lt;int&gt; | gb_num &lt;dbl&gt; | frac_mapped &lt;dbl&gt; | percent_dup &lt;dbl&gt; | ⋯ ⋯ | bacteria &lt;dbl&gt; | homo_s &lt;dbl&gt; | tribe_qc &lt;chr&gt; | genus_qc &lt;chr&gt; | species &lt;chr&gt; | matched_gene_and_read_counts &lt;chr&gt; | tabasco_complete &lt;int&gt; | tabasco_duplicated &lt;int&gt; | tabasco_fraged &lt;int&gt; | tabasco_missing &lt;int&gt; |\n",
       "|---|---|---|---|---|---|---|---|---|---|---|---|---|---|---|---|---|---|---|---|---|---|\n",
       "| 1 | AT20TS1MCRTL001 | Rottboellia campestris | Coelorachis cylindrica (Mnesithea) | Kellogg 1258       | 1 | MCRTL001_CKDL200164854-1a-AK5140-AK242_HMGJWDSXY_L4  | 272268296 | 40.8 | 0.366 | 0.000 | ⋯ | 0.45 | 1.42 | Andropogoneae | Mnesithea;Eremochloa;Saccharum         | helferi;ophiuroides;arundinaceum;eriopoda              | NC_035036(253);NC_036716(236);NC_030777(214);NC_035023(214)                | 5325 |  107 |  156 | 4 |\n",
       "| 2 | AT20TS1MCRTL013 | Hyperthelia dissoluta  | <!----> | Kellogg 1137       | 1 | MCRTL013_CKDL200164854-1a-AK5395-AK5927_HMGJWDSXY_L4 | 154100842 | 23.1 | 0.433 | 0.147 | ⋯ | 0.41 | 2.30 | Andropogoneae | Hyparrhenia;Andropogon                 | diplandra;variabilis;subplumosa;greenwayi;gayanus      | NC_035037(321);NC_040112(321);NC_030625(315);NC_040128(294);NC_040127(280) | 3705 |  662 | 1220 | 5 |\n",
       "| 3 | AT20TS1MCRTL002 | Tripsacum laxum        | <!----> | Kellogg MIA 34792  | 1 | MCRTL002_CKDL200164854-1a-AK4939-AK6653_HMGJWDSXY_L4 | 206616665 | 31.0 | 0.212 | 0.160 | ⋯ | 0.21 | 0.94 | Andropogoneae | Zea;Saccharum;Tripidium                | perennis;luxurians;diploperennis;arundinaceum;ravennae | NC_030300(370);NC_030301(357);NC_030377(357);NC_030777(353);NC_042735(345) | 2497 | 1603 | 1492 | 0 |\n",
       "| 4 | AT20TS1MCRTL014 | Rottboellia rugosa     | Coelorachis rugosa                 | Layton &amp; Zhong 162 | 1 | MCRTL014_CKDL200164854-1a-AK4937-AK6664_HMGJWDSXY_L4 | 237500144 | 35.6 | 0.385 | 0.161 | ⋯ | 0.91 | 1.94 | Andropogoneae | Mnesithea;Eremochloa;Saccharum         | helferi;ophiuroides;eriopoda;ciliaris;arundinaceum     | NC_035036(227);NC_036716(214);NC_035023(199);NC_035028(194);NC_030777(191) | 4905 |   96 |  585 | 6 |\n",
       "| 5 | AT20TS1MCRTL003 | Euclasta condylotricha | <!----> | Pasquet 1245       | 1 | MCRTL003_CKDL200164854-1a-AK5159-AK6654_HMGJWDSXY_L4 | 271608628 | 40.7 | 0.513 | 0.180 | ⋯ | 0.32 | 1.32 | Andropogoneae | Bothriochloa;Dichanthium;Capillipedium | alta;decipiens;annulatum;sericeum;venustum             | NC_030621(361);NC_040131(355);NC_042145(334);NC_035018(319);NC_030622(318) | 5428 |   78 |   80 | 6 |\n",
       "| 6 | AT20TS1MCRTL015 | Eulaliopsis binata     | <!----> | Traiperm 567       | 1 | MCRTL015_CKDL200164854-1a-AK5151-AK6665_HMGJWDSXY_L4 | 206938089 | 31.0 | 0.515 | 0.152 | ⋯ | 0.51 | 1.66 | Andropogoneae | Eulaliopsis                            | binata                                                 | NC_035049(446)                                                             | 4722 |  409 |  460 | 1 |\n",
       "\n"
      ],
      "text/plain": [
       "  tracker_sample_name tracker_organism       alternative_names                 \n",
       "1 AT20TS1MCRTL001     Rottboellia campestris Coelorachis cylindrica (Mnesithea)\n",
       "2 AT20TS1MCRTL013     Hyperthelia dissoluta                                    \n",
       "3 AT20TS1MCRTL002     Tripsacum laxum                                          \n",
       "4 AT20TS1MCRTL014     Rottboellia rugosa     Coelorachis rugosa                \n",
       "5 AT20TS1MCRTL003     Euclasta condylotricha                                   \n",
       "6 AT20TS1MCRTL015     Eulaliopsis binata                                       \n",
       "  ecotype            run_id\n",
       "1 Kellogg 1258       1     \n",
       "2 Kellogg 1137       1     \n",
       "3 Kellogg MIA 34792  1     \n",
       "4 Layton & Zhong 162 1     \n",
       "5 Pasquet 1245       1     \n",
       "6 Traiperm 567       1     \n",
       "  file                                                 total_reads gb_num\n",
       "1 MCRTL001_CKDL200164854-1a-AK5140-AK242_HMGJWDSXY_L4  272268296   40.8  \n",
       "2 MCRTL013_CKDL200164854-1a-AK5395-AK5927_HMGJWDSXY_L4 154100842   23.1  \n",
       "3 MCRTL002_CKDL200164854-1a-AK4939-AK6653_HMGJWDSXY_L4 206616665   31.0  \n",
       "4 MCRTL014_CKDL200164854-1a-AK4937-AK6664_HMGJWDSXY_L4 237500144   35.6  \n",
       "5 MCRTL003_CKDL200164854-1a-AK5159-AK6654_HMGJWDSXY_L4 271608628   40.7  \n",
       "6 MCRTL015_CKDL200164854-1a-AK5151-AK6665_HMGJWDSXY_L4 206938089   31.0  \n",
       "  frac_mapped percent_dup ⋯ bacteria homo_s tribe_qc     \n",
       "1 0.366       0.000       ⋯ 0.45     1.42   Andropogoneae\n",
       "2 0.433       0.147       ⋯ 0.41     2.30   Andropogoneae\n",
       "3 0.212       0.160       ⋯ 0.21     0.94   Andropogoneae\n",
       "4 0.385       0.161       ⋯ 0.91     1.94   Andropogoneae\n",
       "5 0.513       0.180       ⋯ 0.32     1.32   Andropogoneae\n",
       "6 0.515       0.152       ⋯ 0.51     1.66   Andropogoneae\n",
       "  genus_qc                              \n",
       "1 Mnesithea;Eremochloa;Saccharum        \n",
       "2 Hyparrhenia;Andropogon                \n",
       "3 Zea;Saccharum;Tripidium               \n",
       "4 Mnesithea;Eremochloa;Saccharum        \n",
       "5 Bothriochloa;Dichanthium;Capillipedium\n",
       "6 Eulaliopsis                           \n",
       "  species                                               \n",
       "1 helferi;ophiuroides;arundinaceum;eriopoda             \n",
       "2 diplandra;variabilis;subplumosa;greenwayi;gayanus     \n",
       "3 perennis;luxurians;diploperennis;arundinaceum;ravennae\n",
       "4 helferi;ophiuroides;eriopoda;ciliaris;arundinaceum    \n",
       "5 alta;decipiens;annulatum;sericeum;venustum            \n",
       "6 binata                                                \n",
       "  matched_gene_and_read_counts                                              \n",
       "1 NC_035036(253);NC_036716(236);NC_030777(214);NC_035023(214)               \n",
       "2 NC_035037(321);NC_040112(321);NC_030625(315);NC_040128(294);NC_040127(280)\n",
       "3 NC_030300(370);NC_030301(357);NC_030377(357);NC_030777(353);NC_042735(345)\n",
       "4 NC_035036(227);NC_036716(214);NC_035023(199);NC_035028(194);NC_030777(191)\n",
       "5 NC_030621(361);NC_040131(355);NC_042145(334);NC_035018(319);NC_030622(318)\n",
       "6 NC_035049(446)                                                            \n",
       "  tabasco_complete tabasco_duplicated tabasco_fraged tabasco_missing\n",
       "1 5325              107                156           4              \n",
       "2 3705              662               1220           5              \n",
       "3 2497             1603               1492           0              \n",
       "4 4905               96                585           6              \n",
       "5 5428               78                 80           6              \n",
       "6 4722              409                460           1              "
      ]
     },
     "metadata": {},
     "output_type": "display_data"
    },
    {
     "data": {
      "text/html": [
       "<style>\n",
       ".list-inline {list-style: none; margin:0; padding: 0}\n",
       ".list-inline>li {display: inline-block}\n",
       ".list-inline>li:not(:last-child)::after {content: \"\\00b7\"; padding: 0 .5ex}\n",
       "</style>\n",
       "<ol class=list-inline><li>505</li><li>22</li></ol>\n"
      ],
      "text/latex": [
       "\\begin{enumerate*}\n",
       "\\item 505\n",
       "\\item 22\n",
       "\\end{enumerate*}\n"
      ],
      "text/markdown": [
       "1. 505\n",
       "2. 22\n",
       "\n",
       "\n"
      ],
      "text/plain": [
       "[1] 505  22"
      ]
     },
     "metadata": {},
     "output_type": "display_data"
    }
   ],
   "source": [
    "head(limsDat)\n",
    "dim(limsDat)"
   ]
  },
  {
   "cell_type": "code",
   "execution_count": 10,
   "id": "4d1b1b7f",
   "metadata": {},
   "outputs": [
    {
     "name": "stderr",
     "output_type": "stream",
     "text": [
      "Warning message in cbind(parts$left, chars$ellip_h, parts$right, deparse.level = 0L):\n",
      "“number of rows of result is not a multiple of vector length (arg 2)”\n",
      "Warning message in cbind(parts$left, chars$ellip_h, parts$right, deparse.level = 0L):\n",
      "“number of rows of result is not a multiple of vector length (arg 2)”\n",
      "Warning message in cbind(parts$left, chars$ellip_h, parts$right, deparse.level = 0L):\n",
      "“number of rows of result is not a multiple of vector length (arg 2)”\n",
      "Warning message in cbind(parts$left, chars$ellip_h, parts$right, deparse.level = 0L):\n",
      "“number of rows of result is not a multiple of vector length (arg 2)”\n"
     ]
    },
    {
     "data": {
      "text/html": [
       "<table class=\"dataframe\">\n",
       "<caption>A data.frame: 0 × 22</caption>\n",
       "<thead>\n",
       "\t<tr><th scope=col>tracker_sample_name</th><th scope=col>tracker_organism</th><th scope=col>alternative_names</th><th scope=col>ecotype</th><th scope=col>run_id</th><th scope=col>file</th><th scope=col>total_reads</th><th scope=col>gb_num</th><th scope=col>frac_mapped</th><th scope=col>percent_dup</th><th scope=col>⋯</th><th scope=col>bacteria</th><th scope=col>homo_s</th><th scope=col>tribe_qc</th><th scope=col>genus_qc</th><th scope=col>species</th><th scope=col>matched_gene_and_read_counts</th><th scope=col>tabasco_complete</th><th scope=col>tabasco_duplicated</th><th scope=col>tabasco_fraged</th><th scope=col>tabasco_missing</th></tr>\n",
       "\t<tr><th scope=col>&lt;chr&gt;</th><th scope=col>&lt;chr&gt;</th><th scope=col>&lt;chr&gt;</th><th scope=col>&lt;chr&gt;</th><th scope=col>&lt;int&gt;</th><th scope=col>&lt;chr&gt;</th><th scope=col>&lt;int&gt;</th><th scope=col>&lt;dbl&gt;</th><th scope=col>&lt;dbl&gt;</th><th scope=col>&lt;dbl&gt;</th><th scope=col>⋯</th><th scope=col>&lt;dbl&gt;</th><th scope=col>&lt;dbl&gt;</th><th scope=col>&lt;chr&gt;</th><th scope=col>&lt;chr&gt;</th><th scope=col>&lt;chr&gt;</th><th scope=col>&lt;chr&gt;</th><th scope=col>&lt;int&gt;</th><th scope=col>&lt;int&gt;</th><th scope=col>&lt;int&gt;</th><th scope=col>&lt;int&gt;</th></tr>\n",
       "</thead>\n",
       "<tbody>\n",
       "</tbody>\n",
       "</table>\n"
      ],
      "text/latex": [
       "A data.frame: 0 × 22\n",
       "\\begin{tabular}{lllllllllllllllllllll}\n",
       " tracker\\_sample\\_name & tracker\\_organism & alternative\\_names & ecotype & run\\_id & file & total\\_reads & gb\\_num & frac\\_mapped & percent\\_dup & ⋯ & bacteria & homo\\_s & tribe\\_qc & genus\\_qc & species & matched\\_gene\\_and\\_read\\_counts & tabasco\\_complete & tabasco\\_duplicated & tabasco\\_fraged & tabasco\\_missing\\\\\n",
       " <chr> & <chr> & <chr> & <chr> & <int> & <chr> & <int> & <dbl> & <dbl> & <dbl> & ⋯ & <dbl> & <dbl> & <chr> & <chr> & <chr> & <chr> & <int> & <int> & <int> & <int>\\\\\n",
       "\\hline\n",
       "\\end{tabular}\n"
      ],
      "text/markdown": [
       "\n",
       "A data.frame: 0 × 22\n",
       "\n",
       "| tracker_sample_name &lt;chr&gt; | tracker_organism &lt;chr&gt; | alternative_names &lt;chr&gt; | ecotype &lt;chr&gt; | run_id &lt;int&gt; | file &lt;chr&gt; | total_reads &lt;int&gt; | gb_num &lt;dbl&gt; | frac_mapped &lt;dbl&gt; | percent_dup &lt;dbl&gt; | ⋯ ⋯ | bacteria &lt;dbl&gt; | homo_s &lt;dbl&gt; | tribe_qc &lt;chr&gt; | genus_qc &lt;chr&gt; | species &lt;chr&gt; | matched_gene_and_read_counts &lt;chr&gt; | tabasco_complete &lt;int&gt; | tabasco_duplicated &lt;int&gt; | tabasco_fraged &lt;int&gt; | tabasco_missing &lt;int&gt; |\n",
       "|---|---|---|---|---|---|---|---|---|---|---|---|---|---|---|---|---|---|---|---|---|\n",
       "\n"
      ],
      "text/plain": [
       "     tracker_sample_name tracker_organism alternative_names ecotype run_id file\n",
       "     total_reads gb_num frac_mapped percent_dup ⋯ bacteria homo_s tribe_qc\n",
       "     genus_qc species matched_gene_and_read_counts tabasco_complete\n",
       "     tabasco_duplicated tabasco_fraged tabasco_missing"
      ]
     },
     "metadata": {},
     "output_type": "display_data"
    }
   ],
   "source": [
    "limsDat[which(limsDat$tracker_sample_name%in%\"AN21TSTL0005\"),]"
   ]
  },
  {
   "cell_type": "code",
   "execution_count": 11,
   "id": "f3cf1ef5",
   "metadata": {},
   "outputs": [],
   "source": [
    "mergedDat = merge(manualDat_panand,limsDat,by = \"tracker_sample_name\",all = T)"
   ]
  },
  {
   "cell_type": "code",
   "execution_count": 12,
   "id": "b412adf2",
   "metadata": {},
   "outputs": [
    {
     "data": {
      "text/html": [
       "<table class=\"dataframe\">\n",
       "<caption>A data.frame: 6 × 32</caption>\n",
       "<thead>\n",
       "\t<tr><th></th><th scope=col>tracker_sample_name</th><th scope=col>assemblyID</th><th scope=col>correctSpecies</th><th scope=col>CorrectEcotype</th><th scope=col>Species</th><th scope=col>genotype_info</th><th scope=col>altName</th><th scope=col>lifeHistory</th><th scope=col>technology</th><th scope=col>source</th><th scope=col>⋯</th><th scope=col>bacteria</th><th scope=col>homo_s</th><th scope=col>tribe_qc</th><th scope=col>genus_qc</th><th scope=col>species</th><th scope=col>matched_gene_and_read_counts</th><th scope=col>tabasco_complete</th><th scope=col>tabasco_duplicated</th><th scope=col>tabasco_fraged</th><th scope=col>tabasco_missing</th></tr>\n",
       "\t<tr><th></th><th scope=col>&lt;chr&gt;</th><th scope=col>&lt;chr&gt;</th><th scope=col>&lt;chr&gt;</th><th scope=col>&lt;chr&gt;</th><th scope=col>&lt;chr&gt;</th><th scope=col>&lt;chr&gt;</th><th scope=col>&lt;chr&gt;</th><th scope=col>&lt;chr&gt;</th><th scope=col>&lt;chr&gt;</th><th scope=col>&lt;chr&gt;</th><th scope=col>⋯</th><th scope=col>&lt;dbl&gt;</th><th scope=col>&lt;dbl&gt;</th><th scope=col>&lt;chr&gt;</th><th scope=col>&lt;chr&gt;</th><th scope=col>&lt;chr&gt;</th><th scope=col>&lt;chr&gt;</th><th scope=col>&lt;int&gt;</th><th scope=col>&lt;int&gt;</th><th scope=col>&lt;int&gt;</th><th scope=col>&lt;int&gt;</th></tr>\n",
       "</thead>\n",
       "<tbody>\n",
       "\t<tr><th scope=row>1</th><td>AN20TSCR000168</td><td>AN20T168</td><td>Andropogon amethystinus           </td><td>MSV 1622             </td><td>Andropogon amethystinus</td><td>MSV 1622          </td><td>NA</td><td>perennial</td><td>Illumina</td><td>PanAnd</td><td>⋯</td><td>2.07</td><td>1.94</td><td>Andropogoneae</td><td>Andropogon              </td><td>abyssinicus;distachyos                         </td><td>NC_035030(362);NC_035041(360)                                             </td><td>3610</td><td> 750</td><td>1229</td><td>3</td></tr>\n",
       "\t<tr><th scope=row>2</th><td>AN20TSCR000169</td><td>AN20T169</td><td>Anatherum eucomum subsp. huillense</td><td>Nanjarisoa 116       </td><td>Andropogon eucomus     </td><td>NOP 116_huillensis</td><td>NA</td><td>perennial</td><td>Illumina</td><td>PanAnd</td><td>⋯</td><td>1.13</td><td>1.86</td><td>Andropogoneae</td><td>Andropogon;Schizachyrium</td><td>fastigiatus;cirratum;gerardi;imberbe;tenerum   </td><td>NC_035010(263);NC_040130(253);NC_040111(242);NC_035045(241);NC_035043(235)</td><td>2481</td><td>1708</td><td>1401</td><td>2</td></tr>\n",
       "\t<tr><th scope=row>3</th><td>AN20TSCR000170</td><td>AN20T170</td><td>Anatherum ibityense               </td><td>Vorontsova 1013      </td><td>Andropogon ibityensis  </td><td>MSV 1013          </td><td>NA</td><td>perennial</td><td>Illumina</td><td>PanAnd</td><td>⋯</td><td>1.37</td><td>2.01</td><td>Andropogoneae</td><td>Schizachyrium;Andropogon</td><td>imberbe;cirratum;gerardi;fastigiatus;gayanus   </td><td>NC_035045(260);NC_040130(259);NC_040111(254);NC_035010(254);NC_040127(236)</td><td>4825</td><td> 265</td><td> 498</td><td>4</td></tr>\n",
       "\t<tr><th scope=row>4</th><td>AN20TSCR000172</td><td>AN20T172</td><td>Anatherum ivohibense              </td><td>Ratovonirina 181     </td><td>Andropogon ivohibensis </td><td>RGD 181           </td><td>NA</td><td>perennial</td><td>Illumina</td><td>PanAnd</td><td>⋯</td><td>1.29</td><td>1.83</td><td>Andropogoneae</td><td>Andropogon;Schizachyrium</td><td>fastigiatus;cirratum;imberbe;gerardi;sanguineum</td><td>NC_035010(300);NC_040130(288);NC_035045(287);NC_040111(286);NC_035015(267)</td><td>4850</td><td> 160</td><td> 579</td><td>3</td></tr>\n",
       "\t<tr><th scope=row>5</th><td>AN20TSCR000174</td><td>AN20T174</td><td>Arthraxon antsirabensis           </td><td>NOP 217              </td><td>Arthraxon antsirabensis</td><td>NOP 217           </td><td>NA</td><td>annual   </td><td>Illumina</td><td>PanAnd</td><td>⋯</td><td>4.70</td><td>3.00</td><td>Andropogoneae</td><td>Arthraxon               </td><td>hispidus;prionodes;lanceolatus                 </td><td>NC_035048(631);NC_030613(610);NC_035017(610)                              </td><td> 699</td><td>4214</td><td> 674</td><td>5</td></tr>\n",
       "\t<tr><th scope=row>6</th><td>AN20TSCR000175</td><td>AN20T175</td><td>Cymbopogon caesius                </td><td>Solofondranohatra 243</td><td>Cymbopogon caesius     </td><td>SLC 243           </td><td>NA</td><td>perennial</td><td>Illumina</td><td>PanAnd</td><td>⋯</td><td>0.40</td><td>1.40</td><td>Andropogoneae</td><td>Cymbopogon              </td><td>flexuosus;citratus                             </td><td>NC_035040(306);NC_042144(306)                                             </td><td>2739</td><td>1552</td><td>1299</td><td>2</td></tr>\n",
       "</tbody>\n",
       "</table>\n"
      ],
      "text/latex": [
       "A data.frame: 6 × 32\n",
       "\\begin{tabular}{r|lllllllllllllllllllll}\n",
       "  & tracker\\_sample\\_name & assemblyID & correctSpecies & CorrectEcotype & Species & genotype\\_info & altName & lifeHistory & technology & source & ⋯ & bacteria & homo\\_s & tribe\\_qc & genus\\_qc & species & matched\\_gene\\_and\\_read\\_counts & tabasco\\_complete & tabasco\\_duplicated & tabasco\\_fraged & tabasco\\_missing\\\\\n",
       "  & <chr> & <chr> & <chr> & <chr> & <chr> & <chr> & <chr> & <chr> & <chr> & <chr> & ⋯ & <dbl> & <dbl> & <chr> & <chr> & <chr> & <chr> & <int> & <int> & <int> & <int>\\\\\n",
       "\\hline\n",
       "\t1 & AN20TSCR000168 & AN20T168 & Andropogon amethystinus            & MSV 1622              & Andropogon amethystinus & MSV 1622           & NA & perennial & Illumina & PanAnd & ⋯ & 2.07 & 1.94 & Andropogoneae & Andropogon               & abyssinicus;distachyos                          & NC\\_035030(362);NC\\_035041(360)                                              & 3610 &  750 & 1229 & 3\\\\\n",
       "\t2 & AN20TSCR000169 & AN20T169 & Anatherum eucomum subsp. huillense & Nanjarisoa 116        & Andropogon eucomus      & NOP 116\\_huillensis & NA & perennial & Illumina & PanAnd & ⋯ & 1.13 & 1.86 & Andropogoneae & Andropogon;Schizachyrium & fastigiatus;cirratum;gerardi;imberbe;tenerum    & NC\\_035010(263);NC\\_040130(253);NC\\_040111(242);NC\\_035045(241);NC\\_035043(235) & 2481 & 1708 & 1401 & 2\\\\\n",
       "\t3 & AN20TSCR000170 & AN20T170 & Anatherum ibityense                & Vorontsova 1013       & Andropogon ibityensis   & MSV 1013           & NA & perennial & Illumina & PanAnd & ⋯ & 1.37 & 2.01 & Andropogoneae & Schizachyrium;Andropogon & imberbe;cirratum;gerardi;fastigiatus;gayanus    & NC\\_035045(260);NC\\_040130(259);NC\\_040111(254);NC\\_035010(254);NC\\_040127(236) & 4825 &  265 &  498 & 4\\\\\n",
       "\t4 & AN20TSCR000172 & AN20T172 & Anatherum ivohibense               & Ratovonirina 181      & Andropogon ivohibensis  & RGD 181            & NA & perennial & Illumina & PanAnd & ⋯ & 1.29 & 1.83 & Andropogoneae & Andropogon;Schizachyrium & fastigiatus;cirratum;imberbe;gerardi;sanguineum & NC\\_035010(300);NC\\_040130(288);NC\\_035045(287);NC\\_040111(286);NC\\_035015(267) & 4850 &  160 &  579 & 3\\\\\n",
       "\t5 & AN20TSCR000174 & AN20T174 & Arthraxon antsirabensis            & NOP 217               & Arthraxon antsirabensis & NOP 217            & NA & annual    & Illumina & PanAnd & ⋯ & 4.70 & 3.00 & Andropogoneae & Arthraxon                & hispidus;prionodes;lanceolatus                  & NC\\_035048(631);NC\\_030613(610);NC\\_035017(610)                               &  699 & 4214 &  674 & 5\\\\\n",
       "\t6 & AN20TSCR000175 & AN20T175 & Cymbopogon caesius                 & Solofondranohatra 243 & Cymbopogon caesius      & SLC 243            & NA & perennial & Illumina & PanAnd & ⋯ & 0.40 & 1.40 & Andropogoneae & Cymbopogon               & flexuosus;citratus                              & NC\\_035040(306);NC\\_042144(306)                                              & 2739 & 1552 & 1299 & 2\\\\\n",
       "\\end{tabular}\n"
      ],
      "text/markdown": [
       "\n",
       "A data.frame: 6 × 32\n",
       "\n",
       "| <!--/--> | tracker_sample_name &lt;chr&gt; | assemblyID &lt;chr&gt; | correctSpecies &lt;chr&gt; | CorrectEcotype &lt;chr&gt; | Species &lt;chr&gt; | genotype_info &lt;chr&gt; | altName &lt;chr&gt; | lifeHistory &lt;chr&gt; | technology &lt;chr&gt; | source &lt;chr&gt; | ⋯ ⋯ | bacteria &lt;dbl&gt; | homo_s &lt;dbl&gt; | tribe_qc &lt;chr&gt; | genus_qc &lt;chr&gt; | species &lt;chr&gt; | matched_gene_and_read_counts &lt;chr&gt; | tabasco_complete &lt;int&gt; | tabasco_duplicated &lt;int&gt; | tabasco_fraged &lt;int&gt; | tabasco_missing &lt;int&gt; |\n",
       "|---|---|---|---|---|---|---|---|---|---|---|---|---|---|---|---|---|---|---|---|---|---|\n",
       "| 1 | AN20TSCR000168 | AN20T168 | Andropogon amethystinus            | MSV 1622              | Andropogon amethystinus | MSV 1622           | NA | perennial | Illumina | PanAnd | ⋯ | 2.07 | 1.94 | Andropogoneae | Andropogon               | abyssinicus;distachyos                          | NC_035030(362);NC_035041(360)                                              | 3610 |  750 | 1229 | 3 |\n",
       "| 2 | AN20TSCR000169 | AN20T169 | Anatherum eucomum subsp. huillense | Nanjarisoa 116        | Andropogon eucomus      | NOP 116_huillensis | NA | perennial | Illumina | PanAnd | ⋯ | 1.13 | 1.86 | Andropogoneae | Andropogon;Schizachyrium | fastigiatus;cirratum;gerardi;imberbe;tenerum    | NC_035010(263);NC_040130(253);NC_040111(242);NC_035045(241);NC_035043(235) | 2481 | 1708 | 1401 | 2 |\n",
       "| 3 | AN20TSCR000170 | AN20T170 | Anatherum ibityense                | Vorontsova 1013       | Andropogon ibityensis   | MSV 1013           | NA | perennial | Illumina | PanAnd | ⋯ | 1.37 | 2.01 | Andropogoneae | Schizachyrium;Andropogon | imberbe;cirratum;gerardi;fastigiatus;gayanus    | NC_035045(260);NC_040130(259);NC_040111(254);NC_035010(254);NC_040127(236) | 4825 |  265 |  498 | 4 |\n",
       "| 4 | AN20TSCR000172 | AN20T172 | Anatherum ivohibense               | Ratovonirina 181      | Andropogon ivohibensis  | RGD 181            | NA | perennial | Illumina | PanAnd | ⋯ | 1.29 | 1.83 | Andropogoneae | Andropogon;Schizachyrium | fastigiatus;cirratum;imberbe;gerardi;sanguineum | NC_035010(300);NC_040130(288);NC_035045(287);NC_040111(286);NC_035015(267) | 4850 |  160 |  579 | 3 |\n",
       "| 5 | AN20TSCR000174 | AN20T174 | Arthraxon antsirabensis            | NOP 217               | Arthraxon antsirabensis | NOP 217            | NA | annual    | Illumina | PanAnd | ⋯ | 4.70 | 3.00 | Andropogoneae | Arthraxon                | hispidus;prionodes;lanceolatus                  | NC_035048(631);NC_030613(610);NC_035017(610)                               |  699 | 4214 |  674 | 5 |\n",
       "| 6 | AN20TSCR000175 | AN20T175 | Cymbopogon caesius                 | Solofondranohatra 243 | Cymbopogon caesius      | SLC 243            | NA | perennial | Illumina | PanAnd | ⋯ | 0.40 | 1.40 | Andropogoneae | Cymbopogon               | flexuosus;citratus                              | NC_035040(306);NC_042144(306)                                              | 2739 | 1552 | 1299 | 2 |\n",
       "\n"
      ],
      "text/plain": [
       "  tracker_sample_name assemblyID correctSpecies                    \n",
       "1 AN20TSCR000168      AN20T168   Andropogon amethystinus           \n",
       "2 AN20TSCR000169      AN20T169   Anatherum eucomum subsp. huillense\n",
       "3 AN20TSCR000170      AN20T170   Anatherum ibityense               \n",
       "4 AN20TSCR000172      AN20T172   Anatherum ivohibense              \n",
       "5 AN20TSCR000174      AN20T174   Arthraxon antsirabensis           \n",
       "6 AN20TSCR000175      AN20T175   Cymbopogon caesius                \n",
       "  CorrectEcotype        Species                 genotype_info      altName\n",
       "1 MSV 1622              Andropogon amethystinus MSV 1622           NA     \n",
       "2 Nanjarisoa 116        Andropogon eucomus      NOP 116_huillensis NA     \n",
       "3 Vorontsova 1013       Andropogon ibityensis   MSV 1013           NA     \n",
       "4 Ratovonirina 181      Andropogon ivohibensis  RGD 181            NA     \n",
       "5 NOP 217               Arthraxon antsirabensis NOP 217            NA     \n",
       "6 Solofondranohatra 243 Cymbopogon caesius      SLC 243            NA     \n",
       "  lifeHistory technology source ⋯ bacteria homo_s tribe_qc     \n",
       "1 perennial   Illumina   PanAnd ⋯ 2.07     1.94   Andropogoneae\n",
       "2 perennial   Illumina   PanAnd ⋯ 1.13     1.86   Andropogoneae\n",
       "3 perennial   Illumina   PanAnd ⋯ 1.37     2.01   Andropogoneae\n",
       "4 perennial   Illumina   PanAnd ⋯ 1.29     1.83   Andropogoneae\n",
       "5 annual      Illumina   PanAnd ⋯ 4.70     3.00   Andropogoneae\n",
       "6 perennial   Illumina   PanAnd ⋯ 0.40     1.40   Andropogoneae\n",
       "  genus_qc                 species                                        \n",
       "1 Andropogon               abyssinicus;distachyos                         \n",
       "2 Andropogon;Schizachyrium fastigiatus;cirratum;gerardi;imberbe;tenerum   \n",
       "3 Schizachyrium;Andropogon imberbe;cirratum;gerardi;fastigiatus;gayanus   \n",
       "4 Andropogon;Schizachyrium fastigiatus;cirratum;imberbe;gerardi;sanguineum\n",
       "5 Arthraxon                hispidus;prionodes;lanceolatus                 \n",
       "6 Cymbopogon               flexuosus;citratus                             \n",
       "  matched_gene_and_read_counts                                              \n",
       "1 NC_035030(362);NC_035041(360)                                             \n",
       "2 NC_035010(263);NC_040130(253);NC_040111(242);NC_035045(241);NC_035043(235)\n",
       "3 NC_035045(260);NC_040130(259);NC_040111(254);NC_035010(254);NC_040127(236)\n",
       "4 NC_035010(300);NC_040130(288);NC_035045(287);NC_040111(286);NC_035015(267)\n",
       "5 NC_035048(631);NC_030613(610);NC_035017(610)                              \n",
       "6 NC_035040(306);NC_042144(306)                                             \n",
       "  tabasco_complete tabasco_duplicated tabasco_fraged tabasco_missing\n",
       "1 3610              750               1229           3              \n",
       "2 2481             1708               1401           2              \n",
       "3 4825              265                498           4              \n",
       "4 4850              160                579           3              \n",
       "5  699             4214                674           5              \n",
       "6 2739             1552               1299           2              "
      ]
     },
     "metadata": {},
     "output_type": "display_data"
    }
   ],
   "source": [
    "head(mergedDat)"
   ]
  },
  {
   "cell_type": "code",
   "execution_count": 13,
   "id": "c28bc191",
   "metadata": {},
   "outputs": [
    {
     "data": {
      "text/html": [
       "<style>\n",
       ".list-inline {list-style: none; margin:0; padding: 0}\n",
       ".list-inline>li {display: inline-block}\n",
       ".list-inline>li:not(:last-child)::after {content: \"\\00b7\"; padding: 0 .5ex}\n",
       "</style>\n",
       "<ol class=list-inline><li>571</li><li>32</li></ol>\n"
      ],
      "text/latex": [
       "\\begin{enumerate*}\n",
       "\\item 571\n",
       "\\item 32\n",
       "\\end{enumerate*}\n"
      ],
      "text/markdown": [
       "1. 571\n",
       "2. 32\n",
       "\n",
       "\n"
      ],
      "text/plain": [
       "[1] 571  32"
      ]
     },
     "metadata": {},
     "output_type": "display_data"
    }
   ],
   "source": [
    "dim(mergedDat)"
   ]
  },
  {
   "cell_type": "code",
   "execution_count": 14,
   "id": "f1986d66",
   "metadata": {},
   "outputs": [
    {
     "data": {
      "text/html": [
       "<style>\n",
       ".list-inline {list-style: none; margin:0; padding: 0}\n",
       ".list-inline>li {display: inline-block}\n",
       ".list-inline>li:not(:last-child)::after {content: \"\\00b7\"; padding: 0 .5ex}\n",
       "</style>\n",
       "<ol class=list-inline><li>'tracker_sample_name'</li><li>'assemblyID'</li><li>'correctSpecies'</li><li>'CorrectEcotype'</li><li>'Species'</li><li>'genotype_info'</li><li>'altName'</li><li>'lifeHistory'</li><li>'technology'</li><li>'source'</li><li>'notes'</li><li>'tracker_organism'</li><li>'alternative_names'</li><li>'ecotype'</li><li>'run_id'</li><li>'file'</li><li>'total_reads'</li><li>'gb_num'</li><li>'frac_mapped'</li><li>'percent_dup'</li><li>'unclass'</li><li>'non_poaceae'</li><li>'bacteria'</li><li>'homo_s'</li><li>'tribe_qc'</li><li>'genus_qc'</li><li>'species'</li><li>'matched_gene_and_read_counts'</li><li>'tabasco_complete'</li><li>'tabasco_duplicated'</li><li>'tabasco_fraged'</li><li>'tabasco_missing'</li></ol>\n"
      ],
      "text/latex": [
       "\\begin{enumerate*}\n",
       "\\item 'tracker\\_sample\\_name'\n",
       "\\item 'assemblyID'\n",
       "\\item 'correctSpecies'\n",
       "\\item 'CorrectEcotype'\n",
       "\\item 'Species'\n",
       "\\item 'genotype\\_info'\n",
       "\\item 'altName'\n",
       "\\item 'lifeHistory'\n",
       "\\item 'technology'\n",
       "\\item 'source'\n",
       "\\item 'notes'\n",
       "\\item 'tracker\\_organism'\n",
       "\\item 'alternative\\_names'\n",
       "\\item 'ecotype'\n",
       "\\item 'run\\_id'\n",
       "\\item 'file'\n",
       "\\item 'total\\_reads'\n",
       "\\item 'gb\\_num'\n",
       "\\item 'frac\\_mapped'\n",
       "\\item 'percent\\_dup'\n",
       "\\item 'unclass'\n",
       "\\item 'non\\_poaceae'\n",
       "\\item 'bacteria'\n",
       "\\item 'homo\\_s'\n",
       "\\item 'tribe\\_qc'\n",
       "\\item 'genus\\_qc'\n",
       "\\item 'species'\n",
       "\\item 'matched\\_gene\\_and\\_read\\_counts'\n",
       "\\item 'tabasco\\_complete'\n",
       "\\item 'tabasco\\_duplicated'\n",
       "\\item 'tabasco\\_fraged'\n",
       "\\item 'tabasco\\_missing'\n",
       "\\end{enumerate*}\n"
      ],
      "text/markdown": [
       "1. 'tracker_sample_name'\n",
       "2. 'assemblyID'\n",
       "3. 'correctSpecies'\n",
       "4. 'CorrectEcotype'\n",
       "5. 'Species'\n",
       "6. 'genotype_info'\n",
       "7. 'altName'\n",
       "8. 'lifeHistory'\n",
       "9. 'technology'\n",
       "10. 'source'\n",
       "11. 'notes'\n",
       "12. 'tracker_organism'\n",
       "13. 'alternative_names'\n",
       "14. 'ecotype'\n",
       "15. 'run_id'\n",
       "16. 'file'\n",
       "17. 'total_reads'\n",
       "18. 'gb_num'\n",
       "19. 'frac_mapped'\n",
       "20. 'percent_dup'\n",
       "21. 'unclass'\n",
       "22. 'non_poaceae'\n",
       "23. 'bacteria'\n",
       "24. 'homo_s'\n",
       "25. 'tribe_qc'\n",
       "26. 'genus_qc'\n",
       "27. 'species'\n",
       "28. 'matched_gene_and_read_counts'\n",
       "29. 'tabasco_complete'\n",
       "30. 'tabasco_duplicated'\n",
       "31. 'tabasco_fraged'\n",
       "32. 'tabasco_missing'\n",
       "\n",
       "\n"
      ],
      "text/plain": [
       " [1] \"tracker_sample_name\"          \"assemblyID\"                  \n",
       " [3] \"correctSpecies\"               \"CorrectEcotype\"              \n",
       " [5] \"Species\"                      \"genotype_info\"               \n",
       " [7] \"altName\"                      \"lifeHistory\"                 \n",
       " [9] \"technology\"                   \"source\"                      \n",
       "[11] \"notes\"                        \"tracker_organism\"            \n",
       "[13] \"alternative_names\"            \"ecotype\"                     \n",
       "[15] \"run_id\"                       \"file\"                        \n",
       "[17] \"total_reads\"                  \"gb_num\"                      \n",
       "[19] \"frac_mapped\"                  \"percent_dup\"                 \n",
       "[21] \"unclass\"                      \"non_poaceae\"                 \n",
       "[23] \"bacteria\"                     \"homo_s\"                      \n",
       "[25] \"tribe_qc\"                     \"genus_qc\"                    \n",
       "[27] \"species\"                      \"matched_gene_and_read_counts\"\n",
       "[29] \"tabasco_complete\"             \"tabasco_duplicated\"          \n",
       "[31] \"tabasco_fraged\"               \"tabasco_missing\"             "
      ]
     },
     "metadata": {},
     "output_type": "display_data"
    }
   ],
   "source": [
    "colnames(mergedDat)"
   ]
  },
  {
   "cell_type": "code",
   "execution_count": 15,
   "id": "ee382923",
   "metadata": {},
   "outputs": [
    {
     "data": {
      "text/html": [
       "467"
      ],
      "text/latex": [
       "467"
      ],
      "text/markdown": [
       "467"
      ],
      "text/plain": [
       "[1] 467"
      ]
     },
     "metadata": {},
     "output_type": "display_data"
    }
   ],
   "source": [
    "length(unique(mergedDat[,1]))"
   ]
  },
  {
   "cell_type": "code",
   "execution_count": 16,
   "id": "81530e63",
   "metadata": {},
   "outputs": [],
   "source": [
    "mergedDat_noNA = mergedDat[!is.na(mergedDat[,1]),]"
   ]
  },
  {
   "cell_type": "code",
   "execution_count": 17,
   "id": "bfaf73ce",
   "metadata": {},
   "outputs": [
    {
     "data": {
      "text/html": [
       "<style>\n",
       ".list-inline {list-style: none; margin:0; padding: 0}\n",
       ".list-inline>li {display: inline-block}\n",
       ".list-inline>li:not(:last-child)::after {content: \"\\00b7\"; padding: 0 .5ex}\n",
       "</style>\n",
       "<ol class=list-inline><li>517</li><li>32</li></ol>\n"
      ],
      "text/latex": [
       "\\begin{enumerate*}\n",
       "\\item 517\n",
       "\\item 32\n",
       "\\end{enumerate*}\n"
      ],
      "text/markdown": [
       "1. 517\n",
       "2. 32\n",
       "\n",
       "\n"
      ],
      "text/plain": [
       "[1] 517  32"
      ]
     },
     "metadata": {},
     "output_type": "display_data"
    }
   ],
   "source": [
    "dim(mergedDat_noNA)"
   ]
  },
  {
   "cell_type": "code",
   "execution_count": 18,
   "id": "736ba1b4",
   "metadata": {},
   "outputs": [
    {
     "data": {
      "text/plain": [
       "\n",
       " AN20TSCR000199  AN20TSCR000208  AN20TSCR000209  AN20TSCR000210  AN20TSCR000212 \n",
       "              1               1               1               1               1 \n",
       " AN20TSCR000218    AN21TNTL0074    AN21TNTL0075    AN21TNTL0076    AN21TNTL0079 \n",
       "              1               1               1               1               1 \n",
       "   AN21TNTL0083    AN21TNTL0091    AN21TNTL0093    AN21TNTL0100    AN21TNTL0105 \n",
       "              1               1               1               1               1 \n",
       "   AN21TNTL0123    AN21TNTL0124    AN21TNTL0126    AN21TNTL0132    AN21TNTL0154 \n",
       "              1               1               1               1               1 \n",
       "   AN21TNTL0324    AN21TSTL0007    AN21TSTL0009    AN21TSTL0013    AN21TSTL0020 \n",
       "              1               1               1               1               1 \n",
       "   AN21TSTL0042    AN21TSTL0045    AN21TSTL0047    AN21TSTL0048    AN21TSTL0056 \n",
       "              1               1               1               1               1 \n",
       "   AN21TSTL0070    AN21TSTL0072    AN21TSTL0190    AN21TSTL0210    AN21TSTL0215 \n",
       "              1               1               1               1               1 \n",
       "   AN21TSTL0218    AN21TSTL0242    AN21TSTL0247    AN21TSTL0252    AN21TSTL0272 \n",
       "              1               1               1               1               1 \n",
       "   AN21TSTL0280 AT20TN1MCRTL026 AT20TN1MCRTL029 AT20TN1MCRTL034 AT20TN1MCRTL038 \n",
       "              1               1               1               1               1 \n",
       "AT20TN1MCRTL046 AT20TN1MCRTL048 AT20TN1MCRTL056 AT20TN1MCRTL070 AT20TS1MCRTL004 \n",
       "              1               1               1               1               1 \n",
       "AT20TS1MCRTL012 \n",
       "              1 "
      ]
     },
     "metadata": {},
     "output_type": "display_data"
    },
    {
     "data": {
      "text/html": [
       "51"
      ],
      "text/latex": [
       "51"
      ],
      "text/markdown": [
       "51"
      ],
      "text/plain": [
       "[1] 51"
      ]
     },
     "metadata": {},
     "output_type": "display_data"
    }
   ],
   "source": [
    "table(mergedDat_noNA[duplicated(mergedDat_noNA[,1]),1])\n",
    "dupSample = unique(mergedDat_noNA[duplicated(mergedDat_noNA[,1]),1])\n",
    "length(dupSample)"
   ]
  },
  {
   "cell_type": "code",
   "execution_count": 19,
   "id": "79c8224c",
   "metadata": {},
   "outputs": [
    {
     "data": {
      "text/html": [
       "466"
      ],
      "text/latex": [
       "466"
      ],
      "text/markdown": [
       "466"
      ],
      "text/plain": [
       "[1] 466"
      ]
     },
     "metadata": {},
     "output_type": "display_data"
    }
   ],
   "source": [
    "517-51"
   ]
  },
  {
   "cell_type": "code",
   "execution_count": 20,
   "id": "bd7d907b",
   "metadata": {},
   "outputs": [
    {
     "data": {
      "text/html": [
       "<table class=\"dataframe\">\n",
       "<caption>A data.frame: 102 × 16</caption>\n",
       "<thead>\n",
       "\t<tr><th></th><th scope=col>tracker_sample_name</th><th scope=col>assemblyID</th><th scope=col>correctSpecies</th><th scope=col>CorrectEcotype</th><th scope=col>altName</th><th scope=col>lifeHistory</th><th scope=col>tracker_organism</th><th scope=col>alternative_names</th><th scope=col>ecotype</th><th scope=col>run_id</th><th scope=col>file</th><th scope=col>total_reads</th><th scope=col>tabasco_complete</th><th scope=col>tabasco_duplicated</th><th scope=col>tabasco_fraged</th><th scope=col>tabasco_missing</th></tr>\n",
       "\t<tr><th></th><th scope=col>&lt;chr&gt;</th><th scope=col>&lt;chr&gt;</th><th scope=col>&lt;chr&gt;</th><th scope=col>&lt;chr&gt;</th><th scope=col>&lt;chr&gt;</th><th scope=col>&lt;chr&gt;</th><th scope=col>&lt;chr&gt;</th><th scope=col>&lt;chr&gt;</th><th scope=col>&lt;chr&gt;</th><th scope=col>&lt;int&gt;</th><th scope=col>&lt;chr&gt;</th><th scope=col>&lt;int&gt;</th><th scope=col>&lt;int&gt;</th><th scope=col>&lt;int&gt;</th><th scope=col>&lt;int&gt;</th><th scope=col>&lt;int&gt;</th></tr>\n",
       "</thead>\n",
       "<tbody>\n",
       "\t<tr><th scope=row>22</th><td>AN20TSCR000199</td><td>AN20TSCR000199</td><td><span style=white-space:pre-wrap>Bothriochloa pertusa                 </span></td><td><span style=white-space:pre-wrap>AUB &amp; Bookout 104                         </span></td><td>NA</td><td><span style=white-space:pre-wrap>perennial          </span></td><td><span style=white-space:pre-wrap>Bothriochloa pertusa                 </span></td><td><span style=white-space:pre-wrap>                        </span></td><td><span style=white-space:pre-wrap>AUB &amp; Bookout 104                 </span></td><td>1</td><td>AN20TSCR000199_CKDL200169515-1a-AK5395-AK5927_HLTF5DSXY_L3</td><td>240215178</td><td>2238</td><td>1980</td><td>1373</td><td><span style=white-space:pre-wrap>   1</span></td></tr>\n",
       "\t<tr><th scope=row>23</th><td>AN20TSCR000199</td><td>AN20TSCR000199</td><td><span style=white-space:pre-wrap>Bothriochloa pertusa                 </span></td><td><span style=white-space:pre-wrap>AUB &amp; Bookout 104                         </span></td><td>NA</td><td><span style=white-space:pre-wrap>perennial          </span></td><td><span style=white-space:pre-wrap>Bothriochloa pertusa                 </span></td><td><span style=white-space:pre-wrap>                        </span></td><td><span style=white-space:pre-wrap>AUB &amp; Bookout 104                 </span></td><td>2</td><td>AN20TSCR000199_CKDL220009932-1a-AK5395-AK5927_HN325DSX3_L4</td><td>192076561</td><td><span style=white-space:pre-wrap>   0</span></td><td><span style=white-space:pre-wrap>   0</span></td><td><span style=white-space:pre-wrap>   0</span></td><td><span style=white-space:pre-wrap>   0</span></td></tr>\n",
       "\t<tr><th scope=row>32</th><td>AN20TSCR000208</td><td>AN20TSCR000208</td><td><span style=white-space:pre-wrap>Eriochrysis cayennensis              </span></td><td><span style=white-space:pre-wrap>AUB &amp; Bookout 109                         </span></td><td>NA</td><td><span style=white-space:pre-wrap>perennial          </span></td><td><span style=white-space:pre-wrap>Eriochrysis cayennensis              </span></td><td><span style=white-space:pre-wrap>                        </span></td><td><span style=white-space:pre-wrap>AUB &amp; Bookout 109                 </span></td><td>1</td><td>AN20TSCR000208_CKDL200169516-1a-AK5161-AK6675_HLTF5DSXY_L4</td><td> 41590125</td><td>2579</td><td><span style=white-space:pre-wrap>  33</span></td><td>2955</td><td><span style=white-space:pre-wrap>  25</span></td></tr>\n",
       "\t<tr><th scope=row>33</th><td>AN20TSCR000208</td><td>AN20TSCR000208</td><td><span style=white-space:pre-wrap>Eriochrysis cayennensis              </span></td><td><span style=white-space:pre-wrap>AUB &amp; Bookout 109                         </span></td><td>NA</td><td><span style=white-space:pre-wrap>perennial          </span></td><td><span style=white-space:pre-wrap>Eriochrysis cayennensis              </span></td><td><span style=white-space:pre-wrap>                        </span></td><td><span style=white-space:pre-wrap>AUB &amp; Bookout 109                 </span></td><td>2</td><td><span style=white-space:pre-wrap>AN21TNTL0176_CKDL210009738-1a-AK5161-AK6675_H5C7LDSX2_L4  </span></td><td>180110944</td><td><span style=white-space:pre-wrap>   0</span></td><td><span style=white-space:pre-wrap>   0</span></td><td><span style=white-space:pre-wrap>   0</span></td><td><span style=white-space:pre-wrap>   0</span></td></tr>\n",
       "\t<tr><th scope=row>34</th><td>AN20TSCR000209</td><td><span style=white-space:pre-wrap>AN21TNTL0177  </span></td><td><span style=white-space:pre-wrap>Anatherum bicorne                    </span></td><td><span style=white-space:pre-wrap>AUB &amp; Bookout 110                         </span></td><td>NA</td><td><span style=white-space:pre-wrap>perennial          </span></td><td><span style=white-space:pre-wrap>Anatherum bicorne                    </span></td><td><span style=white-space:pre-wrap>Andropogon bicornis     </span></td><td><span style=white-space:pre-wrap>AUB &amp; Bookout 110                 </span></td><td>2</td><td><span style=white-space:pre-wrap>AN21TNTL0177_CKDL210009737-1a-AK5155-AK6686_H5C7LDSX2_L3  </span></td><td>265694347</td><td><span style=white-space:pre-wrap>   0</span></td><td><span style=white-space:pre-wrap>   0</span></td><td><span style=white-space:pre-wrap>   0</span></td><td><span style=white-space:pre-wrap>   0</span></td></tr>\n",
       "\t<tr><th scope=row>35</th><td>AN20TSCR000209</td><td><span style=white-space:pre-wrap>AN21TNTL0177  </span></td><td><span style=white-space:pre-wrap>Anatherum bicorne                    </span></td><td><span style=white-space:pre-wrap>AUB &amp; Bookout 110                         </span></td><td>NA</td><td><span style=white-space:pre-wrap>perennial          </span></td><td><span style=white-space:pre-wrap>Anatherum bicorne                    </span></td><td><span style=white-space:pre-wrap>Andropogon bicornis     </span></td><td><span style=white-space:pre-wrap>AUB &amp; Bookout 110                 </span></td><td>1</td><td>AN20TSCR000209_CKDL200169516-1a-AK5155-AK6686_HLTF5DSXY_L4</td><td> 11458190</td><td> 230</td><td><span style=white-space:pre-wrap>   4</span></td><td>3931</td><td>1427</td></tr>\n",
       "\t<tr><th scope=row>36</th><td>AN20TSCR000210</td><td>AN20TSCR000210</td><td><span style=white-space:pre-wrap>Sorghum arundinaceum                 </span></td><td><span style=white-space:pre-wrap>AUB &amp; Bookout 106                         </span></td><td>NA</td><td>annual or perennial</td><td><span style=white-space:pre-wrap>Sorghum arundinaceum                 </span></td><td><span style=white-space:pre-wrap>                        </span></td><td><span style=white-space:pre-wrap>AUB &amp; Bookout 106                 </span></td><td>2</td><td><span style=white-space:pre-wrap>AN21TNTL0178_CKDL210009737-1a-AK5142-AK6697_H5C7LDSX2_L3  </span></td><td>289544310</td><td><span style=white-space:pre-wrap>   0</span></td><td><span style=white-space:pre-wrap>   0</span></td><td><span style=white-space:pre-wrap>   0</span></td><td><span style=white-space:pre-wrap>   0</span></td></tr>\n",
       "\t<tr><th scope=row>37</th><td>AN20TSCR000210</td><td>AN20TSCR000210</td><td><span style=white-space:pre-wrap>Sorghum arundinaceum                 </span></td><td><span style=white-space:pre-wrap>AUB &amp; Bookout 106                         </span></td><td>NA</td><td>annual or perennial</td><td><span style=white-space:pre-wrap>Sorghum arundinaceum                 </span></td><td><span style=white-space:pre-wrap>                        </span></td><td><span style=white-space:pre-wrap>AUB &amp; Bookout 106                 </span></td><td>1</td><td>AN20TSCR000210_CKDL200169516-1a-AK5142-AK6697_HLTF5DSXY_L4</td><td> 15154089</td><td> 579</td><td><span style=white-space:pre-wrap>   5</span></td><td>4563</td><td> 445</td></tr>\n",
       "\t<tr><th scope=row>39</th><td>AN20TSCR000212</td><td>AN20TSCR000212</td><td><span style=white-space:pre-wrap>Hyparrhenia rufa                     </span></td><td><span style=white-space:pre-wrap>AUB &amp; Bookout 103                         </span></td><td>NA</td><td><span style=white-space:pre-wrap>perennial          </span></td><td><span style=white-space:pre-wrap>Hyparrhenia rufa                     </span></td><td><span style=white-space:pre-wrap>                        </span></td><td><span style=white-space:pre-wrap>AUB &amp; Bookout 103                 </span></td><td>1</td><td>AN20TSCR000212_CKDL200169516-1a-AK5153-AK6718_HLTF5DSXY_L4</td><td>142376442</td><td>3049</td><td> 925</td><td>1613</td><td><span style=white-space:pre-wrap>   5</span></td></tr>\n",
       "\t<tr><th scope=row>40</th><td>AN20TSCR000212</td><td>AN20TSCR000212</td><td><span style=white-space:pre-wrap>Hyparrhenia rufa                     </span></td><td><span style=white-space:pre-wrap>AUB &amp; Bookout 103                         </span></td><td>NA</td><td><span style=white-space:pre-wrap>perennial          </span></td><td><span style=white-space:pre-wrap>Hyparrhenia rufa                     </span></td><td><span style=white-space:pre-wrap>                        </span></td><td><span style=white-space:pre-wrap>AUB &amp; Bookout 103                 </span></td><td>2</td><td>AN20TSCR000212_CKDL220009932-1a-AK5153-AK6718_HN325DSX3_L4</td><td>675426444</td><td><span style=white-space:pre-wrap>   0</span></td><td><span style=white-space:pre-wrap>   0</span></td><td><span style=white-space:pre-wrap>   0</span></td><td><span style=white-space:pre-wrap>   0</span></td></tr>\n",
       "\t<tr><th scope=row>46</th><td>AN20TSCR000218</td><td>AN20TSCR000218</td><td>Elionurus citreus                    </td><td>AQ0830601                                 </td><td>NA</td><td>perennial          </td><td>Elionurus citreus                    </td><td>                        </td><td>KRM 10955                         </td><td>2</td><td>AN20TSCR000218_CKDL220009932-1a-AK5848-AK5137_HN325DSX3_L4</td><td>683572471</td><td>   0</td><td>   0</td><td>   0</td><td>   0</td></tr>\n",
       "\t<tr><th scope=row>47</th><td>AN20TSCR000218</td><td>AN20TSCR000218</td><td>Elionurus citreus                    </td><td>AQ0830601                                 </td><td>NA</td><td>perennial          </td><td>Elionurus citreus                    </td><td>                        </td><td>KRM 10955                         </td><td>1</td><td>AN20TSCR000218_CKDL200169516-1a-AK5848-AK5137_HLTF5DSXY_L4</td><td>242044361</td><td>2755</td><td>1395</td><td>1432</td><td>  10</td></tr>\n",
       "\t<tr><th scope=row>60</th><td>AN21TNTL0074  </td><td>AN21TNTL0074  </td><td>Andropogon gayanus var. bisquamulatus</td><td>                                          </td><td>NA</td><td>perennial          </td><td>Andropogon gayanus var. bisquamulatus</td><td>                        </td><td>C.C.H. Jongkind 2476              </td><td>1</td><td>AN21TNTL0074_CKDL210009738-1a-AK5151-AK6665_H5C7LDSX2_L4  </td><td>190200757</td><td>3401</td><td> 690</td><td>1499</td><td>   2</td></tr>\n",
       "\t<tr><th scope=row>61</th><td>AN21TNTL0074  </td><td>AN21TNTL0074  </td><td>Andropogon gayanus var. bisquamulatus</td><td>                                          </td><td>NA</td><td>perennial          </td><td>Andropogon gayanus var. bisquamulatus</td><td>                        </td><td>C.C.H. Jongkind 2476              </td><td>2</td><td>AN21TNTL0074_CKDL220009932-1a-AK5151-AK6665_HN325DSX3_L4  </td><td>263183552</td><td>   0</td><td>   0</td><td>   0</td><td>   0</td></tr>\n",
       "\t<tr><th scope=row>62</th><td>AN21TNTL0075  </td><td>AN21TNTL0075  </td><td>Anatherum pringlei                   </td><td>P.M. Peterson 19125                       </td><td>NA</td><td>perennial          </td><td>Anatherum pringlei                   </td><td>Andropogon pringlei     </td><td>P.M. Peterson 19125               </td><td>2</td><td>AN21TNTL0075_CKDL220009932-1a-AK5845-AK6676_HN325DSX3_L4  </td><td>520578585</td><td>   0</td><td>   0</td><td>   0</td><td>   0</td></tr>\n",
       "\t<tr><th scope=row>63</th><td>AN21TNTL0075  </td><td>AN21TNTL0075  </td><td>Anatherum pringlei                   </td><td>P.M. Peterson 19125                       </td><td>NA</td><td>perennial          </td><td>Anatherum pringlei                   </td><td>Andropogon pringlei     </td><td>P.M. Peterson 19125               </td><td>1</td><td>AN21TNTL0075_CKDL210009737-1a-AK5845-AK6676_H5C7LDSX2_L3  </td><td>287188066</td><td>1636</td><td>2610</td><td>1344</td><td>   2</td></tr>\n",
       "\t<tr><th scope=row>64</th><td>AN21TNTL0076  </td><td>AN21TNTL0076  </td><td>Andropogon campestris                </td><td>Chase 7977                                </td><td>NA</td><td>perennial          </td><td>Andropogon campestris                </td><td>Andropogon camporum     </td><td>Chase 7977                        </td><td>1</td><td>AN21TNTL0076_CKDL210009738-1a-AK4639-AK6604_H5C7LDSX2_L4  </td><td> 50776232</td><td>2226</td><td> 199</td><td>3161</td><td>   6</td></tr>\n",
       "\t<tr><th scope=row>65</th><td>AN21TNTL0076  </td><td>AN21TNTL0076  </td><td>Andropogon campestris                </td><td>Chase 7977                                </td><td>NA</td><td>perennial          </td><td>Andropogon campestris                </td><td>Andropogon camporum     </td><td>Chase 7977                        </td><td>2</td><td>AN21TNTL0076_CKDL220009932-1a-AK4639-AK6604_HN325DSX3_L4  </td><td> 40719603</td><td>   0</td><td>   0</td><td>   0</td><td>   0</td></tr>\n",
       "\t<tr><th scope=row>67</th><td>AN21TNTL0079  </td><td>AN21TNTL0079  </td><td>Bothriochloa imperatoides            </td><td>A.A. Beetle 1291 (seed collected by Gould)</td><td>NA</td><td>perennial          </td><td>Bothriochloa imperatoides            </td><td>                        </td><td>A.A. Beetle 1291                  </td><td>1</td><td>AN21TNTL0079_CKDL210009737-1a-AK4944-AK6719_H5C7LDSX2_L3  </td><td>120424959</td><td>2438</td><td>1344</td><td>1809</td><td>   1</td></tr>\n",
       "\t<tr><th scope=row>68</th><td>AN21TNTL0079  </td><td>AN21TNTL0079  </td><td>Bothriochloa imperatoides            </td><td>A.A. Beetle 1291 (seed collected by Gould)</td><td>NA</td><td>perennial          </td><td>Bothriochloa imperatoides            </td><td>                        </td><td>A.A. Beetle 1291                  </td><td>2</td><td>AN21TNTL0079_CKDL220009932-1a-AK4944-AK6719_HN325DSX3_L4  </td><td>170777757</td><td>   0</td><td>   0</td><td>   0</td><td>   0</td></tr>\n",
       "\t<tr><th scope=row>71</th><td>AN21TNTL0083  </td><td>AN21TNTL0083  </td><td>Bothriochloa torreyana               </td><td>Lyonnet 451000020                         </td><td>NA</td><td>perennial          </td><td>Bothriochloa torreyana               </td><td>                        </td><td>Lyonnet 451000020                 </td><td>1</td><td>AN21TNTL0083_CKDL210009737-1a-AK6511-AK6677_H5C7LDSX2_L3  </td><td>137646857</td><td>   0</td><td>   0</td><td>   0</td><td>   0</td></tr>\n",
       "\t<tr><th scope=row>72</th><td>AN21TNTL0083  </td><td>AN21TNTL0083  </td><td>Bothriochloa torreyana               </td><td>Lyonnet 451000020                         </td><td>NA</td><td>perennial          </td><td>Bothriochloa torreyana               </td><td>                        </td><td>Lyonnet 451000020                 </td><td>2</td><td>AN21TNTL0083_CKDL220009932-1a-AK6511-AK6677_HN325DSX3_L4  </td><td>234334668</td><td>   0</td><td>   0</td><td>   0</td><td>   0</td></tr>\n",
       "\t<tr><th scope=row>77</th><td>AN21TNTL0091  </td><td>AN21TNTL0091  </td><td>Sorghastrum fuscescens               </td><td>Pasquet 1241                              </td><td>NA</td><td>perennial          </td><td>Sorghastrum fuscescens               </td><td>                        </td><td>Pasquet 1241                      </td><td>2</td><td>AN21TNTL0091_CKDL220009932-1a-AK5158-AK6684_HN325DSX3_L4  </td><td>159071864</td><td>   0</td><td>   0</td><td>   0</td><td>   0</td></tr>\n",
       "\t<tr><th scope=row>78</th><td>AN21TNTL0091  </td><td>AN21TNTL0091  </td><td>Sorghastrum fuscescens               </td><td>Pasquet 1241                              </td><td>NA</td><td>perennial          </td><td>Sorghastrum fuscescens               </td><td>                        </td><td>Pasquet 1241                      </td><td>1</td><td>AN21TNTL0091_CKDL210009736-1a-AK5158-AK6684_H5C7LDSX2_L2  </td><td>302477209</td><td>1642</td><td>2577</td><td>1369</td><td>   4</td></tr>\n",
       "\t<tr><th scope=row>80</th><td>AN21TNTL0093  </td><td>AN21TNTL0093  </td><td>Eulalia monostachya                  </td><td>Traiperm et al 588                        </td><td>NA</td><td>perennial          </td><td>Eulalia monostachya                  </td><td>                        </td><td>Traiperm et al 588                </td><td>1</td><td>AN21TNTL0093_CKDL210009736-1a-AK5999-AK6705_H5C7LDSX2_L2  </td><td>356474200</td><td>1895</td><td>1972</td><td>1724</td><td>   1</td></tr>\n",
       "\t<tr><th scope=row>81</th><td>AN21TNTL0093  </td><td>AN21TNTL0093  </td><td>Eulalia monostachya                  </td><td>Traiperm et al 588                        </td><td>NA</td><td>perennial          </td><td>Eulalia monostachya                  </td><td>                        </td><td>Traiperm et al 588                </td><td>2</td><td>AN21TNTL0093_CKDL220009932-1a-AK5999-AK6705_HN325DSX3_L4  </td><td>160668736</td><td>   0</td><td>   0</td><td>   0</td><td>   0</td></tr>\n",
       "\t<tr><th scope=row>88</th><td>AN21TNTL0100  </td><td>AN21TNTL0100  </td><td>Dimeria chloridiformis               </td><td>W.D. Clayton; A. Weerasooriya 6179        </td><td>NA</td><td>perennial          </td><td>Dimeria chloridiformis               </td><td>Dimeria fuscescens      </td><td>W.D. Clayton, A. Weerasooriya 6179</td><td>1</td><td>AN21TNTL0100_CKDL210009736-1a-AK5143-AK6694_H5C7LDSX2_L2  </td><td>112568400</td><td>1846</td><td>2049</td><td>1695</td><td>   2</td></tr>\n",
       "\t<tr><th scope=row>89</th><td>AN21TNTL0100  </td><td>AN21TNTL0100  </td><td>Dimeria chloridiformis               </td><td>W.D. Clayton; A. Weerasooriya 6179        </td><td>NA</td><td>perennial          </td><td>Dimeria chloridiformis               </td><td>Dimeria fuscescens      </td><td>W.D. Clayton, A. Weerasooriya 6179</td><td>2</td><td>AN21TNTL0100_CKDL220009932-1a-AK5143-AK6694_HN325DSX3_L4  </td><td>372422076</td><td>   0</td><td>   0</td><td>   0</td><td>   0</td></tr>\n",
       "\t<tr><th scope=row>93</th><td><span style=white-space:pre-wrap>AN21TNTL0105  </span></td><td><span style=white-space:pre-wrap>AN21TNTL0105  </span></td><td><span style=white-space:pre-wrap>Anatherum glaucophyllum              </span></td><td><span style=white-space:pre-wrap>Schinini &amp; Dematteis 33379                </span></td><td>NA</td><td><span style=white-space:pre-wrap>perennial          </span></td><td><span style=white-space:pre-wrap>Anatherum glaucophyllum              </span></td><td>Andropogon glaucophyllus</td><td><span style=white-space:pre-wrap>Schinini &amp; Dematteis 33379        </span></td><td>1</td><td><span style=white-space:pre-wrap>AN21TNTL0105_CKDL210009736-1a-AK4947-AK6661_H5C7LDSX2_L2  </span></td><td>173466204</td><td>1940</td><td>1669</td><td>1981</td><td><span style=white-space:pre-wrap>   2</span></td></tr>\n",
       "\t<tr><th scope=row>94</th><td><span style=white-space:pre-wrap>AN21TNTL0105  </span></td><td><span style=white-space:pre-wrap>AN21TNTL0105  </span></td><td><span style=white-space:pre-wrap>Anatherum glaucophyllum              </span></td><td><span style=white-space:pre-wrap>Schinini &amp; Dematteis 33379                </span></td><td>NA</td><td><span style=white-space:pre-wrap>perennial          </span></td><td><span style=white-space:pre-wrap>Anatherum glaucophyllum              </span></td><td>Andropogon glaucophyllus</td><td><span style=white-space:pre-wrap>Schinini &amp; Dematteis 33379        </span></td><td>2</td><td><span style=white-space:pre-wrap>AN21TNTL0105_CKDL220009932-1a-AK4947-AK6661_HN325DSX3_L4  </span></td><td>209529395</td><td><span style=white-space:pre-wrap>   0</span></td><td><span style=white-space:pre-wrap>   0</span></td><td><span style=white-space:pre-wrap>   0</span></td><td><span style=white-space:pre-wrap>   0</span></td></tr>\n",
       "\t<tr><th scope=row>⋮</th><td>⋮</td><td>⋮</td><td>⋮</td><td>⋮</td><td>⋮</td><td>⋮</td><td>⋮</td><td>⋮</td><td>⋮</td><td>⋮</td><td>⋮</td><td>⋮</td><td>⋮</td><td>⋮</td><td>⋮</td><td>⋮</td></tr>\n",
       "\t<tr><th scope=row>329</th><td>AN21TSTL0242   </td><td>AN21TSTL0242   </td><td>Anatherum arenarium     </td><td>GA Norrmann 139    </td><td>NA</td><td>perennial</td><td>Anatherum arenarium     </td><td>Andropogon arenarius  </td><td>GA Norrmann 139      </td><td>1</td><td>AN21TSTL0242_CKDL210011696-1a-AK6540-AK6731_HC5FKDSX2_L2   </td><td>176000000</td><td>2432</td><td>1320</td><td>1839</td><td>1</td></tr>\n",
       "\t<tr><th scope=row>330</th><td>AN21TSTL0242   </td><td>AN21TSTL0242   </td><td>Anatherum arenarium     </td><td>GA Norrmann 139    </td><td>NA</td><td>perennial</td><td>Anatherum arenarium     </td><td>Andropogon arenarius  </td><td>GA Norrmann 139      </td><td>2</td><td>AN21TSTL0242_CKDL220009931-1a-AK6540-AK6731_HN37MDSX3_L2   </td><td> 93505306</td><td>   0</td><td>   0</td><td>   0</td><td>0</td></tr>\n",
       "\t<tr><th scope=row>335</th><td>AN21TSTL0247   </td><td>AN21TSTL0247   </td><td>Andropogon hallii       </td><td>PI 674828          </td><td>NA</td><td>perennial</td><td>Andropogon hallii       </td><td>                      </td><td>PI 674828            </td><td>1</td><td>AN21TSTL0247_CKDL210011696-1a-AK6526-AK2651_HC5FKDSX2_L2   </td><td>198000000</td><td>1727</td><td>1426</td><td>2437</td><td>2</td></tr>\n",
       "\t<tr><th scope=row>336</th><td>AN21TSTL0247   </td><td>AN21TSTL0247   </td><td>Andropogon hallii       </td><td>PI 674828          </td><td>NA</td><td>perennial</td><td>Andropogon hallii       </td><td>                      </td><td>PI 674828            </td><td>2</td><td>AN21TSTL0247_CKDL220009931-1a-AK6526-AK2651_HN37MDSX3_L2   </td><td>183991763</td><td>   0</td><td>   0</td><td>   0</td><td>0</td></tr>\n",
       "\t<tr><th scope=row>340</th><td>AN21TSTL0252   </td><td>AN21TSTL0252   </td><td>Tripsacum andersonii    </td><td>MIA 34444          </td><td>NA</td><td>perennial</td><td>Tripsacum andersonii    </td><td>                      </td><td>MIA 34444            </td><td>1</td><td>AN21TSTL0252_CKDL210011696-1a-AK6509-AK6669_HC5FKDSX2_L2   </td><td>180000000</td><td>1695</td><td>1303</td><td>2594</td><td>0</td></tr>\n",
       "\t<tr><th scope=row>341</th><td>AN21TSTL0252   </td><td>AN21TSTL0252   </td><td>Tripsacum andersonii    </td><td>MIA 34444          </td><td>NA</td><td>perennial</td><td>Tripsacum andersonii    </td><td>                      </td><td>MIA 34444            </td><td>2</td><td>AN21TSTL0252_CKDL220009931-1a-AK6509-AK6669_HN37MDSX3_L2   </td><td>219821503</td><td>   0</td><td>   0</td><td>   0</td><td>0</td></tr>\n",
       "\t<tr><th scope=row>357</th><td>AN21TSTL0272   </td><td>AN21TSTL0272   </td><td>Cymbopogon distans      </td><td>PI 653752          </td><td>NA</td><td>perennial</td><td>Cymbopogon distans      </td><td>                      </td><td>PI 653752            </td><td>1</td><td>AN21TSTL0272_CKDL210011693-1a-AK5140-AK242_HC3LJDSX2_L2    </td><td>214000000</td><td>2043</td><td>2205</td><td>1342</td><td>2</td></tr>\n",
       "\t<tr><th scope=row>358</th><td>AN21TSTL0272   </td><td>AN21TSTL0272   </td><td>Cymbopogon distans      </td><td>PI 653752          </td><td>NA</td><td>perennial</td><td>Cymbopogon distans      </td><td>                      </td><td>PI 653752            </td><td>2</td><td>AN21TSTL0272_CKDL220009931-1a-AK5140-AK242_HN37MDSX3_L2    </td><td>422897579</td><td>   0</td><td>   0</td><td>   0</td><td>0</td></tr>\n",
       "\t<tr><th scope=row>366</th><td>AN21TSTL0280   </td><td>AN21TSTL0280   </td><td>Bothriochloa hybrida    </td><td>PI 321437          </td><td>NA</td><td>perennial</td><td>Bothriochloa hybrida    </td><td>                      </td><td>PI 321437            </td><td>1</td><td>AN21TSTL0280_CKDL210011693-1a-AK4937-AK6664_HC3LJDSX2_L2   </td><td>231000000</td><td>1638</td><td>1987</td><td>1966</td><td>1</td></tr>\n",
       "\t<tr><th scope=row>367</th><td>AN21TSTL0280   </td><td>AN21TSTL0280   </td><td>Bothriochloa hybrida    </td><td>PI 321437          </td><td>NA</td><td>perennial</td><td>Bothriochloa hybrida    </td><td>                      </td><td>PI 321437            </td><td>2</td><td>AN21TSTL0280_CKDL220009931-1a-AK4937-AK6664_HN37MDSX3_L2   </td><td>278992174</td><td>   0</td><td>   0</td><td>   0</td><td>0</td></tr>\n",
       "\t<tr><th scope=row>439</th><td>AT20TN1MCRTL026</td><td>AT20TN1MCRTL026</td><td>Hyparrhenia bracteata   </td><td>MSV 1664           </td><td>NA</td><td>perennial</td><td>Hyparrhenia bracteata   </td><td>                      </td><td>Vorontsova, M.S. 1664</td><td>2</td><td>AT20TN1MCRTL026_CKDL220009932-1a-AK5455-AK6685_HN325DSX3_L4</td><td> 88423379</td><td>   0</td><td>   0</td><td>   0</td><td>0</td></tr>\n",
       "\t<tr><th scope=row>440</th><td>AT20TN1MCRTL026</td><td>AT20TN1MCRTL026</td><td>Hyparrhenia bracteata   </td><td>MSV 1664           </td><td>NA</td><td>perennial</td><td>Hyparrhenia bracteata   </td><td>                      </td><td>Vorontsova, M.S. 1664</td><td>1</td><td>MCRTL026_CKDL200164855-1B-AK5455-AK6685_HMJV7DSXY_L3       </td><td>367208078</td><td>2601</td><td>1406</td><td>1581</td><td>4</td></tr>\n",
       "\t<tr><th scope=row>443</th><td>AT20TN1MCRTL029</td><td>AT20TN1MCRTL029</td><td>Hyparrhenia madaropoda  </td><td>Reekmans 6922      </td><td>NA</td><td>annual   </td><td>Hyparrhenia madaropoda  </td><td>                      </td><td>Reekmans 6922        </td><td>1</td><td>MCRTL029_CKDL200164855-1B-AK5155-AK6686_HMJV7DSXY_L3       </td><td>278062251</td><td>2650</td><td>1397</td><td>1541</td><td>4</td></tr>\n",
       "\t<tr><th scope=row>444</th><td>AT20TN1MCRTL029</td><td>AT20TN1MCRTL029</td><td>Hyparrhenia madaropoda  </td><td>Reekmans 6922      </td><td>NA</td><td>annual   </td><td>Hyparrhenia madaropoda  </td><td>                      </td><td>Reekmans 6922        </td><td>2</td><td>AT20TN1MCRTL029_CKDL220009932-1a-AK5155-AK6686_HN325DSX3_L4</td><td> 85926726</td><td>   0</td><td>   0</td><td>   0</td><td>0</td></tr>\n",
       "\t<tr><th scope=row>449</th><td>AT20TN1MCRTL034</td><td>AT20TN1MCRTL034</td><td>Schizachyrium sanguineum</td><td>Liz Makings 3834   </td><td>NA</td><td>perennial</td><td>Schizachyrium sanguineum</td><td>                      </td><td>Liz Makings 3834     </td><td>2</td><td>AT20TN1MCRTL034_CKDL220009932-1a-AK6517-AK6687_HN325DSX3_L4</td><td>144910803</td><td>   0</td><td>   0</td><td>   0</td><td>0</td></tr>\n",
       "\t<tr><th scope=row>450</th><td>AT20TN1MCRTL034</td><td>AT20TN1MCRTL034</td><td>Schizachyrium sanguineum</td><td>Liz Makings 3834   </td><td>NA</td><td>perennial</td><td>Schizachyrium sanguineum</td><td>                      </td><td>Liz Makings 3834     </td><td>1</td><td>MCRTL034_CKDL200164855-1B-AK6517-AK6687_HMJV7DSXY_L3       </td><td>204564209</td><td>1149</td><td>2105</td><td>2336</td><td>2</td></tr>\n",
       "\t<tr><th scope=row>454</th><td>AT20TN1MCRTL038</td><td>AT20TN1MCRTL038</td><td>Schizachyrium reedii    </td><td>E.L. Ekman 17186   </td><td>NA</td><td>perennial</td><td>Schizachyrium reedii    </td><td>Andropogon reedii     </td><td>E.L. Ekman 17186     </td><td>1</td><td>MCRTL038_CKDL200164855-1B-AK6524-AK6699_HMJV7DSXY_L3       </td><td>203239240</td><td>1249</td><td>1794</td><td>2548</td><td>1</td></tr>\n",
       "\t<tr><th scope=row>455</th><td>AT20TN1MCRTL038</td><td>AT20TN1MCRTL038</td><td>Schizachyrium reedii    </td><td>E.L. Ekman 17186   </td><td>NA</td><td>perennial</td><td>Schizachyrium reedii    </td><td>Andropogon reedii     </td><td>E.L. Ekman 17186     </td><td>2</td><td>AT20TN1MCRTL038_CKDL220009932-1a-AK6524-AK6699_HN325DSX3_L4</td><td>144195504</td><td>   0</td><td>   0</td><td>   0</td><td>0</td></tr>\n",
       "\t<tr><th scope=row>463</th><td>AT20TN1MCRTL046</td><td>AT20TN1MCRTL046</td><td>Andropogon kelleri      </td><td>C.F. Hemming 2168  </td><td>NA</td><td>perennial</td><td>Andropogon kelleri      </td><td>                      </td><td>C.F. Hemming 2168    </td><td>1</td><td>MCRTL046_CKDL200164855-1B-AK6529-AK6708_HMJV7DSXY_L3       </td><td> 62807389</td><td>3483</td><td>  85</td><td>2020</td><td>4</td></tr>\n",
       "\t<tr><th scope=row>464</th><td>AT20TN1MCRTL046</td><td>AT20TN1MCRTL046</td><td>Andropogon kelleri      </td><td>C.F. Hemming 2168  </td><td>NA</td><td>perennial</td><td>Andropogon kelleri      </td><td>                      </td><td>C.F. Hemming 2168    </td><td>2</td><td>AT20TN1MCRTL046_CKDL220009932-1a-AK6529-AK6708_HN325DSX3_L4</td><td> 74670545</td><td>   0</td><td>   0</td><td>   0</td><td>0</td></tr>\n",
       "\t<tr><th scope=row>466</th><td>AT20TN1MCRTL048</td><td>AT20TN1MCRTL048</td><td>Schizachyrium cirratum  </td><td>Tellez V. 11596    </td><td>NA</td><td>perennial</td><td>Schizachyrium cirratum  </td><td>                      </td><td>Tellez V. 11596      </td><td>1</td><td>MCRTL048_CKDL200164856-1B-AK6526-AK2651_HMJV7DSXY_L4       </td><td>179213267</td><td>1904</td><td>1939</td><td>1747</td><td>2</td></tr>\n",
       "\t<tr><th scope=row>467</th><td>AT20TN1MCRTL048</td><td>AT20TN1MCRTL048</td><td>Schizachyrium cirratum  </td><td>Tellez V. 11596    </td><td>NA</td><td>perennial</td><td>Schizachyrium cirratum  </td><td>                      </td><td>Tellez V. 11596      </td><td>2</td><td>AT20TN1MCRTL048_CKDL220009932-1a-AK6526-AK2651_HN325DSX3_L4</td><td> 60666738</td><td>   0</td><td>   0</td><td>   0</td><td>0</td></tr>\n",
       "\t<tr><th scope=row>475</th><td>AT20TN1MCRTL056</td><td>AT20TN1MCRTL056</td><td>Hyparrhenia schimperi   </td><td>K.E. Bennett 283138</td><td>NA</td><td>perennial</td><td>Hyparrhenia schimperi   </td><td>                      </td><td>K.E. Bennett 283138  </td><td>2</td><td>AT20TN1MCRTL056_CKDL220009932-1a-AK6533-AK6713_HN325DSX3_L4</td><td> 57939336</td><td>   0</td><td>   0</td><td>   0</td><td>0</td></tr>\n",
       "\t<tr><th scope=row>476</th><td>AT20TN1MCRTL056</td><td>AT20TN1MCRTL056</td><td>Hyparrhenia schimperi   </td><td>K.E. Bennett 283138</td><td>NA</td><td>perennial</td><td>Hyparrhenia schimperi   </td><td>                      </td><td>K.E. Bennett 283138  </td><td>1</td><td>MCRTL056_CKDL200164856-1B-AK6533-AK6713_HMJV7DSXY_L4       </td><td>218940405</td><td>2425</td><td>1497</td><td>1666</td><td>4</td></tr>\n",
       "\t<tr><th scope=row>490</th><td>AT20TN1MCRTL070</td><td>AT20TN1MCRTL070</td><td>Hyparrhenia figariana   </td><td>M. Reekmans 11042  </td><td>NA</td><td>annual   </td><td>Hyparrhenia figariana   </td><td>                      </td><td>M. Reekmans 11042    </td><td>2</td><td>AT20TN1MCRTL070_CKDL220009932-1a-AK5147-AK6695_HN325DSX3_L4</td><td> 38421075</td><td>   0</td><td>   0</td><td>   0</td><td>0</td></tr>\n",
       "\t<tr><th scope=row>491</th><td>AT20TN1MCRTL070</td><td>AT20TN1MCRTL070</td><td>Hyparrhenia figariana   </td><td>M. Reekmans 11042  </td><td>NA</td><td>annual   </td><td>Hyparrhenia figariana   </td><td>                      </td><td>M. Reekmans 11042    </td><td>1</td><td>MCRTL070_CKDL200164856-1B-AK5147-AK6695_HMJV7DSXY_L4       </td><td>180051649</td><td>2727</td><td>1222</td><td>1638</td><td>5</td></tr>\n",
       "\t<tr><th scope=row>495</th><td>AT20TS1MCRTL004</td><td>AT20TS1MCRTL004</td><td>Eremopogon foveolatus   </td><td>Kellogg PI 302076  </td><td>NA</td><td>perennial</td><td>Eremopogon foveolatus   </td><td>Dichanthium foveolatum</td><td>Kellogg PI 302076    </td><td>2</td><td>AT20TS1MCRTL004_CKDL220009931-1a-AK6501-AK6655_HN37MDSX3_L2</td><td>437712642</td><td>   0</td><td>   0</td><td>   0</td><td>0</td></tr>\n",
       "\t<tr><th scope=row>496</th><td>AT20TS1MCRTL004</td><td>AT20TS1MCRTL004</td><td>Eremopogon foveolatus   </td><td>Kellogg PI 302076  </td><td>NA</td><td>perennial</td><td>Eremopogon foveolatus   </td><td>Dichanthium foveolatum</td><td>Kellogg PI 302076    </td><td>1</td><td>MCRTL004_CKDL200164854-1a-AK6501-AK6655_HMGJWDSXY_L4       </td><td>235987122</td><td>2721</td><td>1028</td><td>1837</td><td>6</td></tr>\n",
       "\t<tr><th scope=row>504</th><td>AT20TS1MCRTL012</td><td>AT20TS1MCRTL012</td><td>Zea nicaraguensis       </td><td>MOBOT              </td><td>NA</td><td>annual   </td><td>Zea nicaraguensis       </td><td>                      </td><td>MOBOT NO DATA        </td><td>2</td><td>AT20TS1MCRTL012_CKDL220009931-1a-AK4940-AK6663_HN37MDSX3_L2</td><td>104832276</td><td>   0</td><td>   0</td><td>   0</td><td>0</td></tr>\n",
       "\t<tr><th scope=row>505</th><td>AT20TS1MCRTL012</td><td>AT20TS1MCRTL012</td><td>Zea nicaraguensis       </td><td>MOBOT              </td><td>NA</td><td>annual   </td><td>Zea nicaraguensis       </td><td>                      </td><td>MOBOT NO DATA        </td><td>1</td><td>MCRTL012_CKDL200164854-1a-AK4940-AK6663_HMGJWDSXY_L4       </td><td>197643103</td><td>2652</td><td> 713</td><td>2225</td><td>2</td></tr>\n",
       "</tbody>\n",
       "</table>\n"
      ],
      "text/latex": [
       "A data.frame: 102 × 16\n",
       "\\begin{tabular}{r|llllllllllllllll}\n",
       "  & tracker\\_sample\\_name & assemblyID & correctSpecies & CorrectEcotype & altName & lifeHistory & tracker\\_organism & alternative\\_names & ecotype & run\\_id & file & total\\_reads & tabasco\\_complete & tabasco\\_duplicated & tabasco\\_fraged & tabasco\\_missing\\\\\n",
       "  & <chr> & <chr> & <chr> & <chr> & <chr> & <chr> & <chr> & <chr> & <chr> & <int> & <chr> & <int> & <int> & <int> & <int> & <int>\\\\\n",
       "\\hline\n",
       "\t22 & AN20TSCR000199 & AN20TSCR000199 & Bothriochloa pertusa                  & AUB \\& Bookout 104                          & NA & perennial           & Bothriochloa pertusa                  &                          & AUB \\& Bookout 104                  & 1 & AN20TSCR000199\\_CKDL200169515-1a-AK5395-AK5927\\_HLTF5DSXY\\_L3 & 240215178 & 2238 & 1980 & 1373 &    1\\\\\n",
       "\t23 & AN20TSCR000199 & AN20TSCR000199 & Bothriochloa pertusa                  & AUB \\& Bookout 104                          & NA & perennial           & Bothriochloa pertusa                  &                          & AUB \\& Bookout 104                  & 2 & AN20TSCR000199\\_CKDL220009932-1a-AK5395-AK5927\\_HN325DSX3\\_L4 & 192076561 &    0 &    0 &    0 &    0\\\\\n",
       "\t32 & AN20TSCR000208 & AN20TSCR000208 & Eriochrysis cayennensis               & AUB \\& Bookout 109                          & NA & perennial           & Eriochrysis cayennensis               &                          & AUB \\& Bookout 109                  & 1 & AN20TSCR000208\\_CKDL200169516-1a-AK5161-AK6675\\_HLTF5DSXY\\_L4 &  41590125 & 2579 &   33 & 2955 &   25\\\\\n",
       "\t33 & AN20TSCR000208 & AN20TSCR000208 & Eriochrysis cayennensis               & AUB \\& Bookout 109                          & NA & perennial           & Eriochrysis cayennensis               &                          & AUB \\& Bookout 109                  & 2 & AN21TNTL0176\\_CKDL210009738-1a-AK5161-AK6675\\_H5C7LDSX2\\_L4   & 180110944 &    0 &    0 &    0 &    0\\\\\n",
       "\t34 & AN20TSCR000209 & AN21TNTL0177   & Anatherum bicorne                     & AUB \\& Bookout 110                          & NA & perennial           & Anatherum bicorne                     & Andropogon bicornis      & AUB \\& Bookout 110                  & 2 & AN21TNTL0177\\_CKDL210009737-1a-AK5155-AK6686\\_H5C7LDSX2\\_L3   & 265694347 &    0 &    0 &    0 &    0\\\\\n",
       "\t35 & AN20TSCR000209 & AN21TNTL0177   & Anatherum bicorne                     & AUB \\& Bookout 110                          & NA & perennial           & Anatherum bicorne                     & Andropogon bicornis      & AUB \\& Bookout 110                  & 1 & AN20TSCR000209\\_CKDL200169516-1a-AK5155-AK6686\\_HLTF5DSXY\\_L4 &  11458190 &  230 &    4 & 3931 & 1427\\\\\n",
       "\t36 & AN20TSCR000210 & AN20TSCR000210 & Sorghum arundinaceum                  & AUB \\& Bookout 106                          & NA & annual or perennial & Sorghum arundinaceum                  &                          & AUB \\& Bookout 106                  & 2 & AN21TNTL0178\\_CKDL210009737-1a-AK5142-AK6697\\_H5C7LDSX2\\_L3   & 289544310 &    0 &    0 &    0 &    0\\\\\n",
       "\t37 & AN20TSCR000210 & AN20TSCR000210 & Sorghum arundinaceum                  & AUB \\& Bookout 106                          & NA & annual or perennial & Sorghum arundinaceum                  &                          & AUB \\& Bookout 106                  & 1 & AN20TSCR000210\\_CKDL200169516-1a-AK5142-AK6697\\_HLTF5DSXY\\_L4 &  15154089 &  579 &    5 & 4563 &  445\\\\\n",
       "\t39 & AN20TSCR000212 & AN20TSCR000212 & Hyparrhenia rufa                      & AUB \\& Bookout 103                          & NA & perennial           & Hyparrhenia rufa                      &                          & AUB \\& Bookout 103                  & 1 & AN20TSCR000212\\_CKDL200169516-1a-AK5153-AK6718\\_HLTF5DSXY\\_L4 & 142376442 & 3049 &  925 & 1613 &    5\\\\\n",
       "\t40 & AN20TSCR000212 & AN20TSCR000212 & Hyparrhenia rufa                      & AUB \\& Bookout 103                          & NA & perennial           & Hyparrhenia rufa                      &                          & AUB \\& Bookout 103                  & 2 & AN20TSCR000212\\_CKDL220009932-1a-AK5153-AK6718\\_HN325DSX3\\_L4 & 675426444 &    0 &    0 &    0 &    0\\\\\n",
       "\t46 & AN20TSCR000218 & AN20TSCR000218 & Elionurus citreus                     & AQ0830601                                  & NA & perennial           & Elionurus citreus                     &                          & KRM 10955                          & 2 & AN20TSCR000218\\_CKDL220009932-1a-AK5848-AK5137\\_HN325DSX3\\_L4 & 683572471 &    0 &    0 &    0 &    0\\\\\n",
       "\t47 & AN20TSCR000218 & AN20TSCR000218 & Elionurus citreus                     & AQ0830601                                  & NA & perennial           & Elionurus citreus                     &                          & KRM 10955                          & 1 & AN20TSCR000218\\_CKDL200169516-1a-AK5848-AK5137\\_HLTF5DSXY\\_L4 & 242044361 & 2755 & 1395 & 1432 &   10\\\\\n",
       "\t60 & AN21TNTL0074   & AN21TNTL0074   & Andropogon gayanus var. bisquamulatus &                                            & NA & perennial           & Andropogon gayanus var. bisquamulatus &                          & C.C.H. Jongkind 2476               & 1 & AN21TNTL0074\\_CKDL210009738-1a-AK5151-AK6665\\_H5C7LDSX2\\_L4   & 190200757 & 3401 &  690 & 1499 &    2\\\\\n",
       "\t61 & AN21TNTL0074   & AN21TNTL0074   & Andropogon gayanus var. bisquamulatus &                                            & NA & perennial           & Andropogon gayanus var. bisquamulatus &                          & C.C.H. Jongkind 2476               & 2 & AN21TNTL0074\\_CKDL220009932-1a-AK5151-AK6665\\_HN325DSX3\\_L4   & 263183552 &    0 &    0 &    0 &    0\\\\\n",
       "\t62 & AN21TNTL0075   & AN21TNTL0075   & Anatherum pringlei                    & P.M. Peterson 19125                        & NA & perennial           & Anatherum pringlei                    & Andropogon pringlei      & P.M. Peterson 19125                & 2 & AN21TNTL0075\\_CKDL220009932-1a-AK5845-AK6676\\_HN325DSX3\\_L4   & 520578585 &    0 &    0 &    0 &    0\\\\\n",
       "\t63 & AN21TNTL0075   & AN21TNTL0075   & Anatherum pringlei                    & P.M. Peterson 19125                        & NA & perennial           & Anatherum pringlei                    & Andropogon pringlei      & P.M. Peterson 19125                & 1 & AN21TNTL0075\\_CKDL210009737-1a-AK5845-AK6676\\_H5C7LDSX2\\_L3   & 287188066 & 1636 & 2610 & 1344 &    2\\\\\n",
       "\t64 & AN21TNTL0076   & AN21TNTL0076   & Andropogon campestris                 & Chase 7977                                 & NA & perennial           & Andropogon campestris                 & Andropogon camporum      & Chase 7977                         & 1 & AN21TNTL0076\\_CKDL210009738-1a-AK4639-AK6604\\_H5C7LDSX2\\_L4   &  50776232 & 2226 &  199 & 3161 &    6\\\\\n",
       "\t65 & AN21TNTL0076   & AN21TNTL0076   & Andropogon campestris                 & Chase 7977                                 & NA & perennial           & Andropogon campestris                 & Andropogon camporum      & Chase 7977                         & 2 & AN21TNTL0076\\_CKDL220009932-1a-AK4639-AK6604\\_HN325DSX3\\_L4   &  40719603 &    0 &    0 &    0 &    0\\\\\n",
       "\t67 & AN21TNTL0079   & AN21TNTL0079   & Bothriochloa imperatoides             & A.A. Beetle 1291 (seed collected by Gould) & NA & perennial           & Bothriochloa imperatoides             &                          & A.A. Beetle 1291                   & 1 & AN21TNTL0079\\_CKDL210009737-1a-AK4944-AK6719\\_H5C7LDSX2\\_L3   & 120424959 & 2438 & 1344 & 1809 &    1\\\\\n",
       "\t68 & AN21TNTL0079   & AN21TNTL0079   & Bothriochloa imperatoides             & A.A. Beetle 1291 (seed collected by Gould) & NA & perennial           & Bothriochloa imperatoides             &                          & A.A. Beetle 1291                   & 2 & AN21TNTL0079\\_CKDL220009932-1a-AK4944-AK6719\\_HN325DSX3\\_L4   & 170777757 &    0 &    0 &    0 &    0\\\\\n",
       "\t71 & AN21TNTL0083   & AN21TNTL0083   & Bothriochloa torreyana                & Lyonnet 451000020                          & NA & perennial           & Bothriochloa torreyana                &                          & Lyonnet 451000020                  & 1 & AN21TNTL0083\\_CKDL210009737-1a-AK6511-AK6677\\_H5C7LDSX2\\_L3   & 137646857 &    0 &    0 &    0 &    0\\\\\n",
       "\t72 & AN21TNTL0083   & AN21TNTL0083   & Bothriochloa torreyana                & Lyonnet 451000020                          & NA & perennial           & Bothriochloa torreyana                &                          & Lyonnet 451000020                  & 2 & AN21TNTL0083\\_CKDL220009932-1a-AK6511-AK6677\\_HN325DSX3\\_L4   & 234334668 &    0 &    0 &    0 &    0\\\\\n",
       "\t77 & AN21TNTL0091   & AN21TNTL0091   & Sorghastrum fuscescens                & Pasquet 1241                               & NA & perennial           & Sorghastrum fuscescens                &                          & Pasquet 1241                       & 2 & AN21TNTL0091\\_CKDL220009932-1a-AK5158-AK6684\\_HN325DSX3\\_L4   & 159071864 &    0 &    0 &    0 &    0\\\\\n",
       "\t78 & AN21TNTL0091   & AN21TNTL0091   & Sorghastrum fuscescens                & Pasquet 1241                               & NA & perennial           & Sorghastrum fuscescens                &                          & Pasquet 1241                       & 1 & AN21TNTL0091\\_CKDL210009736-1a-AK5158-AK6684\\_H5C7LDSX2\\_L2   & 302477209 & 1642 & 2577 & 1369 &    4\\\\\n",
       "\t80 & AN21TNTL0093   & AN21TNTL0093   & Eulalia monostachya                   & Traiperm et al 588                         & NA & perennial           & Eulalia monostachya                   &                          & Traiperm et al 588                 & 1 & AN21TNTL0093\\_CKDL210009736-1a-AK5999-AK6705\\_H5C7LDSX2\\_L2   & 356474200 & 1895 & 1972 & 1724 &    1\\\\\n",
       "\t81 & AN21TNTL0093   & AN21TNTL0093   & Eulalia monostachya                   & Traiperm et al 588                         & NA & perennial           & Eulalia monostachya                   &                          & Traiperm et al 588                 & 2 & AN21TNTL0093\\_CKDL220009932-1a-AK5999-AK6705\\_HN325DSX3\\_L4   & 160668736 &    0 &    0 &    0 &    0\\\\\n",
       "\t88 & AN21TNTL0100   & AN21TNTL0100   & Dimeria chloridiformis                & W.D. Clayton; A. Weerasooriya 6179         & NA & perennial           & Dimeria chloridiformis                & Dimeria fuscescens       & W.D. Clayton, A. Weerasooriya 6179 & 1 & AN21TNTL0100\\_CKDL210009736-1a-AK5143-AK6694\\_H5C7LDSX2\\_L2   & 112568400 & 1846 & 2049 & 1695 &    2\\\\\n",
       "\t89 & AN21TNTL0100   & AN21TNTL0100   & Dimeria chloridiformis                & W.D. Clayton; A. Weerasooriya 6179         & NA & perennial           & Dimeria chloridiformis                & Dimeria fuscescens       & W.D. Clayton, A. Weerasooriya 6179 & 2 & AN21TNTL0100\\_CKDL220009932-1a-AK5143-AK6694\\_HN325DSX3\\_L4   & 372422076 &    0 &    0 &    0 &    0\\\\\n",
       "\t93 & AN21TNTL0105   & AN21TNTL0105   & Anatherum glaucophyllum               & Schinini \\& Dematteis 33379                 & NA & perennial           & Anatherum glaucophyllum               & Andropogon glaucophyllus & Schinini \\& Dematteis 33379         & 1 & AN21TNTL0105\\_CKDL210009736-1a-AK4947-AK6661\\_H5C7LDSX2\\_L2   & 173466204 & 1940 & 1669 & 1981 &    2\\\\\n",
       "\t94 & AN21TNTL0105   & AN21TNTL0105   & Anatherum glaucophyllum               & Schinini \\& Dematteis 33379                 & NA & perennial           & Anatherum glaucophyllum               & Andropogon glaucophyllus & Schinini \\& Dematteis 33379         & 2 & AN21TNTL0105\\_CKDL220009932-1a-AK4947-AK6661\\_HN325DSX3\\_L4   & 209529395 &    0 &    0 &    0 &    0\\\\\n",
       "\t⋮ & ⋮ & ⋮ & ⋮ & ⋮ & ⋮ & ⋮ & ⋮ & ⋮ & ⋮ & ⋮ & ⋮ & ⋮ & ⋮ & ⋮ & ⋮ & ⋮\\\\\n",
       "\t329 & AN21TSTL0242    & AN21TSTL0242    & Anatherum arenarium      & GA Norrmann 139     & NA & perennial & Anatherum arenarium      & Andropogon arenarius   & GA Norrmann 139       & 1 & AN21TSTL0242\\_CKDL210011696-1a-AK6540-AK6731\\_HC5FKDSX2\\_L2    & 176000000 & 2432 & 1320 & 1839 & 1\\\\\n",
       "\t330 & AN21TSTL0242    & AN21TSTL0242    & Anatherum arenarium      & GA Norrmann 139     & NA & perennial & Anatherum arenarium      & Andropogon arenarius   & GA Norrmann 139       & 2 & AN21TSTL0242\\_CKDL220009931-1a-AK6540-AK6731\\_HN37MDSX3\\_L2    &  93505306 &    0 &    0 &    0 & 0\\\\\n",
       "\t335 & AN21TSTL0247    & AN21TSTL0247    & Andropogon hallii        & PI 674828           & NA & perennial & Andropogon hallii        &                        & PI 674828             & 1 & AN21TSTL0247\\_CKDL210011696-1a-AK6526-AK2651\\_HC5FKDSX2\\_L2    & 198000000 & 1727 & 1426 & 2437 & 2\\\\\n",
       "\t336 & AN21TSTL0247    & AN21TSTL0247    & Andropogon hallii        & PI 674828           & NA & perennial & Andropogon hallii        &                        & PI 674828             & 2 & AN21TSTL0247\\_CKDL220009931-1a-AK6526-AK2651\\_HN37MDSX3\\_L2    & 183991763 &    0 &    0 &    0 & 0\\\\\n",
       "\t340 & AN21TSTL0252    & AN21TSTL0252    & Tripsacum andersonii     & MIA 34444           & NA & perennial & Tripsacum andersonii     &                        & MIA 34444             & 1 & AN21TSTL0252\\_CKDL210011696-1a-AK6509-AK6669\\_HC5FKDSX2\\_L2    & 180000000 & 1695 & 1303 & 2594 & 0\\\\\n",
       "\t341 & AN21TSTL0252    & AN21TSTL0252    & Tripsacum andersonii     & MIA 34444           & NA & perennial & Tripsacum andersonii     &                        & MIA 34444             & 2 & AN21TSTL0252\\_CKDL220009931-1a-AK6509-AK6669\\_HN37MDSX3\\_L2    & 219821503 &    0 &    0 &    0 & 0\\\\\n",
       "\t357 & AN21TSTL0272    & AN21TSTL0272    & Cymbopogon distans       & PI 653752           & NA & perennial & Cymbopogon distans       &                        & PI 653752             & 1 & AN21TSTL0272\\_CKDL210011693-1a-AK5140-AK242\\_HC3LJDSX2\\_L2     & 214000000 & 2043 & 2205 & 1342 & 2\\\\\n",
       "\t358 & AN21TSTL0272    & AN21TSTL0272    & Cymbopogon distans       & PI 653752           & NA & perennial & Cymbopogon distans       &                        & PI 653752             & 2 & AN21TSTL0272\\_CKDL220009931-1a-AK5140-AK242\\_HN37MDSX3\\_L2     & 422897579 &    0 &    0 &    0 & 0\\\\\n",
       "\t366 & AN21TSTL0280    & AN21TSTL0280    & Bothriochloa hybrida     & PI 321437           & NA & perennial & Bothriochloa hybrida     &                        & PI 321437             & 1 & AN21TSTL0280\\_CKDL210011693-1a-AK4937-AK6664\\_HC3LJDSX2\\_L2    & 231000000 & 1638 & 1987 & 1966 & 1\\\\\n",
       "\t367 & AN21TSTL0280    & AN21TSTL0280    & Bothriochloa hybrida     & PI 321437           & NA & perennial & Bothriochloa hybrida     &                        & PI 321437             & 2 & AN21TSTL0280\\_CKDL220009931-1a-AK4937-AK6664\\_HN37MDSX3\\_L2    & 278992174 &    0 &    0 &    0 & 0\\\\\n",
       "\t439 & AT20TN1MCRTL026 & AT20TN1MCRTL026 & Hyparrhenia bracteata    & MSV 1664            & NA & perennial & Hyparrhenia bracteata    &                        & Vorontsova, M.S. 1664 & 2 & AT20TN1MCRTL026\\_CKDL220009932-1a-AK5455-AK6685\\_HN325DSX3\\_L4 &  88423379 &    0 &    0 &    0 & 0\\\\\n",
       "\t440 & AT20TN1MCRTL026 & AT20TN1MCRTL026 & Hyparrhenia bracteata    & MSV 1664            & NA & perennial & Hyparrhenia bracteata    &                        & Vorontsova, M.S. 1664 & 1 & MCRTL026\\_CKDL200164855-1B-AK5455-AK6685\\_HMJV7DSXY\\_L3        & 367208078 & 2601 & 1406 & 1581 & 4\\\\\n",
       "\t443 & AT20TN1MCRTL029 & AT20TN1MCRTL029 & Hyparrhenia madaropoda   & Reekmans 6922       & NA & annual    & Hyparrhenia madaropoda   &                        & Reekmans 6922         & 1 & MCRTL029\\_CKDL200164855-1B-AK5155-AK6686\\_HMJV7DSXY\\_L3        & 278062251 & 2650 & 1397 & 1541 & 4\\\\\n",
       "\t444 & AT20TN1MCRTL029 & AT20TN1MCRTL029 & Hyparrhenia madaropoda   & Reekmans 6922       & NA & annual    & Hyparrhenia madaropoda   &                        & Reekmans 6922         & 2 & AT20TN1MCRTL029\\_CKDL220009932-1a-AK5155-AK6686\\_HN325DSX3\\_L4 &  85926726 &    0 &    0 &    0 & 0\\\\\n",
       "\t449 & AT20TN1MCRTL034 & AT20TN1MCRTL034 & Schizachyrium sanguineum & Liz Makings 3834    & NA & perennial & Schizachyrium sanguineum &                        & Liz Makings 3834      & 2 & AT20TN1MCRTL034\\_CKDL220009932-1a-AK6517-AK6687\\_HN325DSX3\\_L4 & 144910803 &    0 &    0 &    0 & 0\\\\\n",
       "\t450 & AT20TN1MCRTL034 & AT20TN1MCRTL034 & Schizachyrium sanguineum & Liz Makings 3834    & NA & perennial & Schizachyrium sanguineum &                        & Liz Makings 3834      & 1 & MCRTL034\\_CKDL200164855-1B-AK6517-AK6687\\_HMJV7DSXY\\_L3        & 204564209 & 1149 & 2105 & 2336 & 2\\\\\n",
       "\t454 & AT20TN1MCRTL038 & AT20TN1MCRTL038 & Schizachyrium reedii     & E.L. Ekman 17186    & NA & perennial & Schizachyrium reedii     & Andropogon reedii      & E.L. Ekman 17186      & 1 & MCRTL038\\_CKDL200164855-1B-AK6524-AK6699\\_HMJV7DSXY\\_L3        & 203239240 & 1249 & 1794 & 2548 & 1\\\\\n",
       "\t455 & AT20TN1MCRTL038 & AT20TN1MCRTL038 & Schizachyrium reedii     & E.L. Ekman 17186    & NA & perennial & Schizachyrium reedii     & Andropogon reedii      & E.L. Ekman 17186      & 2 & AT20TN1MCRTL038\\_CKDL220009932-1a-AK6524-AK6699\\_HN325DSX3\\_L4 & 144195504 &    0 &    0 &    0 & 0\\\\\n",
       "\t463 & AT20TN1MCRTL046 & AT20TN1MCRTL046 & Andropogon kelleri       & C.F. Hemming 2168   & NA & perennial & Andropogon kelleri       &                        & C.F. Hemming 2168     & 1 & MCRTL046\\_CKDL200164855-1B-AK6529-AK6708\\_HMJV7DSXY\\_L3        &  62807389 & 3483 &   85 & 2020 & 4\\\\\n",
       "\t464 & AT20TN1MCRTL046 & AT20TN1MCRTL046 & Andropogon kelleri       & C.F. Hemming 2168   & NA & perennial & Andropogon kelleri       &                        & C.F. Hemming 2168     & 2 & AT20TN1MCRTL046\\_CKDL220009932-1a-AK6529-AK6708\\_HN325DSX3\\_L4 &  74670545 &    0 &    0 &    0 & 0\\\\\n",
       "\t466 & AT20TN1MCRTL048 & AT20TN1MCRTL048 & Schizachyrium cirratum   & Tellez V. 11596     & NA & perennial & Schizachyrium cirratum   &                        & Tellez V. 11596       & 1 & MCRTL048\\_CKDL200164856-1B-AK6526-AK2651\\_HMJV7DSXY\\_L4        & 179213267 & 1904 & 1939 & 1747 & 2\\\\\n",
       "\t467 & AT20TN1MCRTL048 & AT20TN1MCRTL048 & Schizachyrium cirratum   & Tellez V. 11596     & NA & perennial & Schizachyrium cirratum   &                        & Tellez V. 11596       & 2 & AT20TN1MCRTL048\\_CKDL220009932-1a-AK6526-AK2651\\_HN325DSX3\\_L4 &  60666738 &    0 &    0 &    0 & 0\\\\\n",
       "\t475 & AT20TN1MCRTL056 & AT20TN1MCRTL056 & Hyparrhenia schimperi    & K.E. Bennett 283138 & NA & perennial & Hyparrhenia schimperi    &                        & K.E. Bennett 283138   & 2 & AT20TN1MCRTL056\\_CKDL220009932-1a-AK6533-AK6713\\_HN325DSX3\\_L4 &  57939336 &    0 &    0 &    0 & 0\\\\\n",
       "\t476 & AT20TN1MCRTL056 & AT20TN1MCRTL056 & Hyparrhenia schimperi    & K.E. Bennett 283138 & NA & perennial & Hyparrhenia schimperi    &                        & K.E. Bennett 283138   & 1 & MCRTL056\\_CKDL200164856-1B-AK6533-AK6713\\_HMJV7DSXY\\_L4        & 218940405 & 2425 & 1497 & 1666 & 4\\\\\n",
       "\t490 & AT20TN1MCRTL070 & AT20TN1MCRTL070 & Hyparrhenia figariana    & M. Reekmans 11042   & NA & annual    & Hyparrhenia figariana    &                        & M. Reekmans 11042     & 2 & AT20TN1MCRTL070\\_CKDL220009932-1a-AK5147-AK6695\\_HN325DSX3\\_L4 &  38421075 &    0 &    0 &    0 & 0\\\\\n",
       "\t491 & AT20TN1MCRTL070 & AT20TN1MCRTL070 & Hyparrhenia figariana    & M. Reekmans 11042   & NA & annual    & Hyparrhenia figariana    &                        & M. Reekmans 11042     & 1 & MCRTL070\\_CKDL200164856-1B-AK5147-AK6695\\_HMJV7DSXY\\_L4        & 180051649 & 2727 & 1222 & 1638 & 5\\\\\n",
       "\t495 & AT20TS1MCRTL004 & AT20TS1MCRTL004 & Eremopogon foveolatus    & Kellogg PI 302076   & NA & perennial & Eremopogon foveolatus    & Dichanthium foveolatum & Kellogg PI 302076     & 2 & AT20TS1MCRTL004\\_CKDL220009931-1a-AK6501-AK6655\\_HN37MDSX3\\_L2 & 437712642 &    0 &    0 &    0 & 0\\\\\n",
       "\t496 & AT20TS1MCRTL004 & AT20TS1MCRTL004 & Eremopogon foveolatus    & Kellogg PI 302076   & NA & perennial & Eremopogon foveolatus    & Dichanthium foveolatum & Kellogg PI 302076     & 1 & MCRTL004\\_CKDL200164854-1a-AK6501-AK6655\\_HMGJWDSXY\\_L4        & 235987122 & 2721 & 1028 & 1837 & 6\\\\\n",
       "\t504 & AT20TS1MCRTL012 & AT20TS1MCRTL012 & Zea nicaraguensis        & MOBOT               & NA & annual    & Zea nicaraguensis        &                        & MOBOT NO DATA         & 2 & AT20TS1MCRTL012\\_CKDL220009931-1a-AK4940-AK6663\\_HN37MDSX3\\_L2 & 104832276 &    0 &    0 &    0 & 0\\\\\n",
       "\t505 & AT20TS1MCRTL012 & AT20TS1MCRTL012 & Zea nicaraguensis        & MOBOT               & NA & annual    & Zea nicaraguensis        &                        & MOBOT NO DATA         & 1 & MCRTL012\\_CKDL200164854-1a-AK4940-AK6663\\_HMGJWDSXY\\_L4        & 197643103 & 2652 &  713 & 2225 & 2\\\\\n",
       "\\end{tabular}\n"
      ],
      "text/markdown": [
       "\n",
       "A data.frame: 102 × 16\n",
       "\n",
       "| <!--/--> | tracker_sample_name &lt;chr&gt; | assemblyID &lt;chr&gt; | correctSpecies &lt;chr&gt; | CorrectEcotype &lt;chr&gt; | altName &lt;chr&gt; | lifeHistory &lt;chr&gt; | tracker_organism &lt;chr&gt; | alternative_names &lt;chr&gt; | ecotype &lt;chr&gt; | run_id &lt;int&gt; | file &lt;chr&gt; | total_reads &lt;int&gt; | tabasco_complete &lt;int&gt; | tabasco_duplicated &lt;int&gt; | tabasco_fraged &lt;int&gt; | tabasco_missing &lt;int&gt; |\n",
       "|---|---|---|---|---|---|---|---|---|---|---|---|---|---|---|---|---|\n",
       "| 22 | AN20TSCR000199 | AN20TSCR000199 | Bothriochloa pertusa                  | AUB &amp; Bookout 104                          | NA | perennial           | Bothriochloa pertusa                  | <!----> | AUB &amp; Bookout 104                  | 1 | AN20TSCR000199_CKDL200169515-1a-AK5395-AK5927_HLTF5DSXY_L3 | 240215178 | 2238 | 1980 | 1373 |    1 |\n",
       "| 23 | AN20TSCR000199 | AN20TSCR000199 | Bothriochloa pertusa                  | AUB &amp; Bookout 104                          | NA | perennial           | Bothriochloa pertusa                  | <!----> | AUB &amp; Bookout 104                  | 2 | AN20TSCR000199_CKDL220009932-1a-AK5395-AK5927_HN325DSX3_L4 | 192076561 |    0 |    0 |    0 |    0 |\n",
       "| 32 | AN20TSCR000208 | AN20TSCR000208 | Eriochrysis cayennensis               | AUB &amp; Bookout 109                          | NA | perennial           | Eriochrysis cayennensis               | <!----> | AUB &amp; Bookout 109                  | 1 | AN20TSCR000208_CKDL200169516-1a-AK5161-AK6675_HLTF5DSXY_L4 |  41590125 | 2579 |   33 | 2955 |   25 |\n",
       "| 33 | AN20TSCR000208 | AN20TSCR000208 | Eriochrysis cayennensis               | AUB &amp; Bookout 109                          | NA | perennial           | Eriochrysis cayennensis               | <!----> | AUB &amp; Bookout 109                  | 2 | AN21TNTL0176_CKDL210009738-1a-AK5161-AK6675_H5C7LDSX2_L4   | 180110944 |    0 |    0 |    0 |    0 |\n",
       "| 34 | AN20TSCR000209 | AN21TNTL0177   | Anatherum bicorne                     | AUB &amp; Bookout 110                          | NA | perennial           | Anatherum bicorne                     | Andropogon bicornis      | AUB &amp; Bookout 110                  | 2 | AN21TNTL0177_CKDL210009737-1a-AK5155-AK6686_H5C7LDSX2_L3   | 265694347 |    0 |    0 |    0 |    0 |\n",
       "| 35 | AN20TSCR000209 | AN21TNTL0177   | Anatherum bicorne                     | AUB &amp; Bookout 110                          | NA | perennial           | Anatherum bicorne                     | Andropogon bicornis      | AUB &amp; Bookout 110                  | 1 | AN20TSCR000209_CKDL200169516-1a-AK5155-AK6686_HLTF5DSXY_L4 |  11458190 |  230 |    4 | 3931 | 1427 |\n",
       "| 36 | AN20TSCR000210 | AN20TSCR000210 | Sorghum arundinaceum                  | AUB &amp; Bookout 106                          | NA | annual or perennial | Sorghum arundinaceum                  | <!----> | AUB &amp; Bookout 106                  | 2 | AN21TNTL0178_CKDL210009737-1a-AK5142-AK6697_H5C7LDSX2_L3   | 289544310 |    0 |    0 |    0 |    0 |\n",
       "| 37 | AN20TSCR000210 | AN20TSCR000210 | Sorghum arundinaceum                  | AUB &amp; Bookout 106                          | NA | annual or perennial | Sorghum arundinaceum                  | <!----> | AUB &amp; Bookout 106                  | 1 | AN20TSCR000210_CKDL200169516-1a-AK5142-AK6697_HLTF5DSXY_L4 |  15154089 |  579 |    5 | 4563 |  445 |\n",
       "| 39 | AN20TSCR000212 | AN20TSCR000212 | Hyparrhenia rufa                      | AUB &amp; Bookout 103                          | NA | perennial           | Hyparrhenia rufa                      | <!----> | AUB &amp; Bookout 103                  | 1 | AN20TSCR000212_CKDL200169516-1a-AK5153-AK6718_HLTF5DSXY_L4 | 142376442 | 3049 |  925 | 1613 |    5 |\n",
       "| 40 | AN20TSCR000212 | AN20TSCR000212 | Hyparrhenia rufa                      | AUB &amp; Bookout 103                          | NA | perennial           | Hyparrhenia rufa                      | <!----> | AUB &amp; Bookout 103                  | 2 | AN20TSCR000212_CKDL220009932-1a-AK5153-AK6718_HN325DSX3_L4 | 675426444 |    0 |    0 |    0 |    0 |\n",
       "| 46 | AN20TSCR000218 | AN20TSCR000218 | Elionurus citreus                     | AQ0830601                                  | NA | perennial           | Elionurus citreus                     | <!----> | KRM 10955                          | 2 | AN20TSCR000218_CKDL220009932-1a-AK5848-AK5137_HN325DSX3_L4 | 683572471 |    0 |    0 |    0 |    0 |\n",
       "| 47 | AN20TSCR000218 | AN20TSCR000218 | Elionurus citreus                     | AQ0830601                                  | NA | perennial           | Elionurus citreus                     | <!----> | KRM 10955                          | 1 | AN20TSCR000218_CKDL200169516-1a-AK5848-AK5137_HLTF5DSXY_L4 | 242044361 | 2755 | 1395 | 1432 |   10 |\n",
       "| 60 | AN21TNTL0074   | AN21TNTL0074   | Andropogon gayanus var. bisquamulatus | <!----> | NA | perennial           | Andropogon gayanus var. bisquamulatus | <!----> | C.C.H. Jongkind 2476               | 1 | AN21TNTL0074_CKDL210009738-1a-AK5151-AK6665_H5C7LDSX2_L4   | 190200757 | 3401 |  690 | 1499 |    2 |\n",
       "| 61 | AN21TNTL0074   | AN21TNTL0074   | Andropogon gayanus var. bisquamulatus | <!----> | NA | perennial           | Andropogon gayanus var. bisquamulatus | <!----> | C.C.H. Jongkind 2476               | 2 | AN21TNTL0074_CKDL220009932-1a-AK5151-AK6665_HN325DSX3_L4   | 263183552 |    0 |    0 |    0 |    0 |\n",
       "| 62 | AN21TNTL0075   | AN21TNTL0075   | Anatherum pringlei                    | P.M. Peterson 19125                        | NA | perennial           | Anatherum pringlei                    | Andropogon pringlei      | P.M. Peterson 19125                | 2 | AN21TNTL0075_CKDL220009932-1a-AK5845-AK6676_HN325DSX3_L4   | 520578585 |    0 |    0 |    0 |    0 |\n",
       "| 63 | AN21TNTL0075   | AN21TNTL0075   | Anatherum pringlei                    | P.M. Peterson 19125                        | NA | perennial           | Anatherum pringlei                    | Andropogon pringlei      | P.M. Peterson 19125                | 1 | AN21TNTL0075_CKDL210009737-1a-AK5845-AK6676_H5C7LDSX2_L3   | 287188066 | 1636 | 2610 | 1344 |    2 |\n",
       "| 64 | AN21TNTL0076   | AN21TNTL0076   | Andropogon campestris                 | Chase 7977                                 | NA | perennial           | Andropogon campestris                 | Andropogon camporum      | Chase 7977                         | 1 | AN21TNTL0076_CKDL210009738-1a-AK4639-AK6604_H5C7LDSX2_L4   |  50776232 | 2226 |  199 | 3161 |    6 |\n",
       "| 65 | AN21TNTL0076   | AN21TNTL0076   | Andropogon campestris                 | Chase 7977                                 | NA | perennial           | Andropogon campestris                 | Andropogon camporum      | Chase 7977                         | 2 | AN21TNTL0076_CKDL220009932-1a-AK4639-AK6604_HN325DSX3_L4   |  40719603 |    0 |    0 |    0 |    0 |\n",
       "| 67 | AN21TNTL0079   | AN21TNTL0079   | Bothriochloa imperatoides             | A.A. Beetle 1291 (seed collected by Gould) | NA | perennial           | Bothriochloa imperatoides             | <!----> | A.A. Beetle 1291                   | 1 | AN21TNTL0079_CKDL210009737-1a-AK4944-AK6719_H5C7LDSX2_L3   | 120424959 | 2438 | 1344 | 1809 |    1 |\n",
       "| 68 | AN21TNTL0079   | AN21TNTL0079   | Bothriochloa imperatoides             | A.A. Beetle 1291 (seed collected by Gould) | NA | perennial           | Bothriochloa imperatoides             | <!----> | A.A. Beetle 1291                   | 2 | AN21TNTL0079_CKDL220009932-1a-AK4944-AK6719_HN325DSX3_L4   | 170777757 |    0 |    0 |    0 |    0 |\n",
       "| 71 | AN21TNTL0083   | AN21TNTL0083   | Bothriochloa torreyana                | Lyonnet 451000020                          | NA | perennial           | Bothriochloa torreyana                | <!----> | Lyonnet 451000020                  | 1 | AN21TNTL0083_CKDL210009737-1a-AK6511-AK6677_H5C7LDSX2_L3   | 137646857 |    0 |    0 |    0 |    0 |\n",
       "| 72 | AN21TNTL0083   | AN21TNTL0083   | Bothriochloa torreyana                | Lyonnet 451000020                          | NA | perennial           | Bothriochloa torreyana                | <!----> | Lyonnet 451000020                  | 2 | AN21TNTL0083_CKDL220009932-1a-AK6511-AK6677_HN325DSX3_L4   | 234334668 |    0 |    0 |    0 |    0 |\n",
       "| 77 | AN21TNTL0091   | AN21TNTL0091   | Sorghastrum fuscescens                | Pasquet 1241                               | NA | perennial           | Sorghastrum fuscescens                | <!----> | Pasquet 1241                       | 2 | AN21TNTL0091_CKDL220009932-1a-AK5158-AK6684_HN325DSX3_L4   | 159071864 |    0 |    0 |    0 |    0 |\n",
       "| 78 | AN21TNTL0091   | AN21TNTL0091   | Sorghastrum fuscescens                | Pasquet 1241                               | NA | perennial           | Sorghastrum fuscescens                | <!----> | Pasquet 1241                       | 1 | AN21TNTL0091_CKDL210009736-1a-AK5158-AK6684_H5C7LDSX2_L2   | 302477209 | 1642 | 2577 | 1369 |    4 |\n",
       "| 80 | AN21TNTL0093   | AN21TNTL0093   | Eulalia monostachya                   | Traiperm et al 588                         | NA | perennial           | Eulalia monostachya                   | <!----> | Traiperm et al 588                 | 1 | AN21TNTL0093_CKDL210009736-1a-AK5999-AK6705_H5C7LDSX2_L2   | 356474200 | 1895 | 1972 | 1724 |    1 |\n",
       "| 81 | AN21TNTL0093   | AN21TNTL0093   | Eulalia monostachya                   | Traiperm et al 588                         | NA | perennial           | Eulalia monostachya                   | <!----> | Traiperm et al 588                 | 2 | AN21TNTL0093_CKDL220009932-1a-AK5999-AK6705_HN325DSX3_L4   | 160668736 |    0 |    0 |    0 |    0 |\n",
       "| 88 | AN21TNTL0100   | AN21TNTL0100   | Dimeria chloridiformis                | W.D. Clayton; A. Weerasooriya 6179         | NA | perennial           | Dimeria chloridiformis                | Dimeria fuscescens       | W.D. Clayton, A. Weerasooriya 6179 | 1 | AN21TNTL0100_CKDL210009736-1a-AK5143-AK6694_H5C7LDSX2_L2   | 112568400 | 1846 | 2049 | 1695 |    2 |\n",
       "| 89 | AN21TNTL0100   | AN21TNTL0100   | Dimeria chloridiformis                | W.D. Clayton; A. Weerasooriya 6179         | NA | perennial           | Dimeria chloridiformis                | Dimeria fuscescens       | W.D. Clayton, A. Weerasooriya 6179 | 2 | AN21TNTL0100_CKDL220009932-1a-AK5143-AK6694_HN325DSX3_L4   | 372422076 |    0 |    0 |    0 |    0 |\n",
       "| 93 | AN21TNTL0105   | AN21TNTL0105   | Anatherum glaucophyllum               | Schinini &amp; Dematteis 33379                 | NA | perennial           | Anatherum glaucophyllum               | Andropogon glaucophyllus | Schinini &amp; Dematteis 33379         | 1 | AN21TNTL0105_CKDL210009736-1a-AK4947-AK6661_H5C7LDSX2_L2   | 173466204 | 1940 | 1669 | 1981 |    2 |\n",
       "| 94 | AN21TNTL0105   | AN21TNTL0105   | Anatherum glaucophyllum               | Schinini &amp; Dematteis 33379                 | NA | perennial           | Anatherum glaucophyllum               | Andropogon glaucophyllus | Schinini &amp; Dematteis 33379         | 2 | AN21TNTL0105_CKDL220009932-1a-AK4947-AK6661_HN325DSX3_L4   | 209529395 |    0 |    0 |    0 |    0 |\n",
       "| ⋮ | ⋮ | ⋮ | ⋮ | ⋮ | ⋮ | ⋮ | ⋮ | ⋮ | ⋮ | ⋮ | ⋮ | ⋮ | ⋮ | ⋮ | ⋮ | ⋮ |\n",
       "| 329 | AN21TSTL0242    | AN21TSTL0242    | Anatherum arenarium      | GA Norrmann 139     | NA | perennial | Anatherum arenarium      | Andropogon arenarius   | GA Norrmann 139       | 1 | AN21TSTL0242_CKDL210011696-1a-AK6540-AK6731_HC5FKDSX2_L2    | 176000000 | 2432 | 1320 | 1839 | 1 |\n",
       "| 330 | AN21TSTL0242    | AN21TSTL0242    | Anatherum arenarium      | GA Norrmann 139     | NA | perennial | Anatherum arenarium      | Andropogon arenarius   | GA Norrmann 139       | 2 | AN21TSTL0242_CKDL220009931-1a-AK6540-AK6731_HN37MDSX3_L2    |  93505306 |    0 |    0 |    0 | 0 |\n",
       "| 335 | AN21TSTL0247    | AN21TSTL0247    | Andropogon hallii        | PI 674828           | NA | perennial | Andropogon hallii        | <!----> | PI 674828             | 1 | AN21TSTL0247_CKDL210011696-1a-AK6526-AK2651_HC5FKDSX2_L2    | 198000000 | 1727 | 1426 | 2437 | 2 |\n",
       "| 336 | AN21TSTL0247    | AN21TSTL0247    | Andropogon hallii        | PI 674828           | NA | perennial | Andropogon hallii        | <!----> | PI 674828             | 2 | AN21TSTL0247_CKDL220009931-1a-AK6526-AK2651_HN37MDSX3_L2    | 183991763 |    0 |    0 |    0 | 0 |\n",
       "| 340 | AN21TSTL0252    | AN21TSTL0252    | Tripsacum andersonii     | MIA 34444           | NA | perennial | Tripsacum andersonii     | <!----> | MIA 34444             | 1 | AN21TSTL0252_CKDL210011696-1a-AK6509-AK6669_HC5FKDSX2_L2    | 180000000 | 1695 | 1303 | 2594 | 0 |\n",
       "| 341 | AN21TSTL0252    | AN21TSTL0252    | Tripsacum andersonii     | MIA 34444           | NA | perennial | Tripsacum andersonii     | <!----> | MIA 34444             | 2 | AN21TSTL0252_CKDL220009931-1a-AK6509-AK6669_HN37MDSX3_L2    | 219821503 |    0 |    0 |    0 | 0 |\n",
       "| 357 | AN21TSTL0272    | AN21TSTL0272    | Cymbopogon distans       | PI 653752           | NA | perennial | Cymbopogon distans       | <!----> | PI 653752             | 1 | AN21TSTL0272_CKDL210011693-1a-AK5140-AK242_HC3LJDSX2_L2     | 214000000 | 2043 | 2205 | 1342 | 2 |\n",
       "| 358 | AN21TSTL0272    | AN21TSTL0272    | Cymbopogon distans       | PI 653752           | NA | perennial | Cymbopogon distans       | <!----> | PI 653752             | 2 | AN21TSTL0272_CKDL220009931-1a-AK5140-AK242_HN37MDSX3_L2     | 422897579 |    0 |    0 |    0 | 0 |\n",
       "| 366 | AN21TSTL0280    | AN21TSTL0280    | Bothriochloa hybrida     | PI 321437           | NA | perennial | Bothriochloa hybrida     | <!----> | PI 321437             | 1 | AN21TSTL0280_CKDL210011693-1a-AK4937-AK6664_HC3LJDSX2_L2    | 231000000 | 1638 | 1987 | 1966 | 1 |\n",
       "| 367 | AN21TSTL0280    | AN21TSTL0280    | Bothriochloa hybrida     | PI 321437           | NA | perennial | Bothriochloa hybrida     | <!----> | PI 321437             | 2 | AN21TSTL0280_CKDL220009931-1a-AK4937-AK6664_HN37MDSX3_L2    | 278992174 |    0 |    0 |    0 | 0 |\n",
       "| 439 | AT20TN1MCRTL026 | AT20TN1MCRTL026 | Hyparrhenia bracteata    | MSV 1664            | NA | perennial | Hyparrhenia bracteata    | <!----> | Vorontsova, M.S. 1664 | 2 | AT20TN1MCRTL026_CKDL220009932-1a-AK5455-AK6685_HN325DSX3_L4 |  88423379 |    0 |    0 |    0 | 0 |\n",
       "| 440 | AT20TN1MCRTL026 | AT20TN1MCRTL026 | Hyparrhenia bracteata    | MSV 1664            | NA | perennial | Hyparrhenia bracteata    | <!----> | Vorontsova, M.S. 1664 | 1 | MCRTL026_CKDL200164855-1B-AK5455-AK6685_HMJV7DSXY_L3        | 367208078 | 2601 | 1406 | 1581 | 4 |\n",
       "| 443 | AT20TN1MCRTL029 | AT20TN1MCRTL029 | Hyparrhenia madaropoda   | Reekmans 6922       | NA | annual    | Hyparrhenia madaropoda   | <!----> | Reekmans 6922         | 1 | MCRTL029_CKDL200164855-1B-AK5155-AK6686_HMJV7DSXY_L3        | 278062251 | 2650 | 1397 | 1541 | 4 |\n",
       "| 444 | AT20TN1MCRTL029 | AT20TN1MCRTL029 | Hyparrhenia madaropoda   | Reekmans 6922       | NA | annual    | Hyparrhenia madaropoda   | <!----> | Reekmans 6922         | 2 | AT20TN1MCRTL029_CKDL220009932-1a-AK5155-AK6686_HN325DSX3_L4 |  85926726 |    0 |    0 |    0 | 0 |\n",
       "| 449 | AT20TN1MCRTL034 | AT20TN1MCRTL034 | Schizachyrium sanguineum | Liz Makings 3834    | NA | perennial | Schizachyrium sanguineum | <!----> | Liz Makings 3834      | 2 | AT20TN1MCRTL034_CKDL220009932-1a-AK6517-AK6687_HN325DSX3_L4 | 144910803 |    0 |    0 |    0 | 0 |\n",
       "| 450 | AT20TN1MCRTL034 | AT20TN1MCRTL034 | Schizachyrium sanguineum | Liz Makings 3834    | NA | perennial | Schizachyrium sanguineum | <!----> | Liz Makings 3834      | 1 | MCRTL034_CKDL200164855-1B-AK6517-AK6687_HMJV7DSXY_L3        | 204564209 | 1149 | 2105 | 2336 | 2 |\n",
       "| 454 | AT20TN1MCRTL038 | AT20TN1MCRTL038 | Schizachyrium reedii     | E.L. Ekman 17186    | NA | perennial | Schizachyrium reedii     | Andropogon reedii      | E.L. Ekman 17186      | 1 | MCRTL038_CKDL200164855-1B-AK6524-AK6699_HMJV7DSXY_L3        | 203239240 | 1249 | 1794 | 2548 | 1 |\n",
       "| 455 | AT20TN1MCRTL038 | AT20TN1MCRTL038 | Schizachyrium reedii     | E.L. Ekman 17186    | NA | perennial | Schizachyrium reedii     | Andropogon reedii      | E.L. Ekman 17186      | 2 | AT20TN1MCRTL038_CKDL220009932-1a-AK6524-AK6699_HN325DSX3_L4 | 144195504 |    0 |    0 |    0 | 0 |\n",
       "| 463 | AT20TN1MCRTL046 | AT20TN1MCRTL046 | Andropogon kelleri       | C.F. Hemming 2168   | NA | perennial | Andropogon kelleri       | <!----> | C.F. Hemming 2168     | 1 | MCRTL046_CKDL200164855-1B-AK6529-AK6708_HMJV7DSXY_L3        |  62807389 | 3483 |   85 | 2020 | 4 |\n",
       "| 464 | AT20TN1MCRTL046 | AT20TN1MCRTL046 | Andropogon kelleri       | C.F. Hemming 2168   | NA | perennial | Andropogon kelleri       | <!----> | C.F. Hemming 2168     | 2 | AT20TN1MCRTL046_CKDL220009932-1a-AK6529-AK6708_HN325DSX3_L4 |  74670545 |    0 |    0 |    0 | 0 |\n",
       "| 466 | AT20TN1MCRTL048 | AT20TN1MCRTL048 | Schizachyrium cirratum   | Tellez V. 11596     | NA | perennial | Schizachyrium cirratum   | <!----> | Tellez V. 11596       | 1 | MCRTL048_CKDL200164856-1B-AK6526-AK2651_HMJV7DSXY_L4        | 179213267 | 1904 | 1939 | 1747 | 2 |\n",
       "| 467 | AT20TN1MCRTL048 | AT20TN1MCRTL048 | Schizachyrium cirratum   | Tellez V. 11596     | NA | perennial | Schizachyrium cirratum   | <!----> | Tellez V. 11596       | 2 | AT20TN1MCRTL048_CKDL220009932-1a-AK6526-AK2651_HN325DSX3_L4 |  60666738 |    0 |    0 |    0 | 0 |\n",
       "| 475 | AT20TN1MCRTL056 | AT20TN1MCRTL056 | Hyparrhenia schimperi    | K.E. Bennett 283138 | NA | perennial | Hyparrhenia schimperi    | <!----> | K.E. Bennett 283138   | 2 | AT20TN1MCRTL056_CKDL220009932-1a-AK6533-AK6713_HN325DSX3_L4 |  57939336 |    0 |    0 |    0 | 0 |\n",
       "| 476 | AT20TN1MCRTL056 | AT20TN1MCRTL056 | Hyparrhenia schimperi    | K.E. Bennett 283138 | NA | perennial | Hyparrhenia schimperi    | <!----> | K.E. Bennett 283138   | 1 | MCRTL056_CKDL200164856-1B-AK6533-AK6713_HMJV7DSXY_L4        | 218940405 | 2425 | 1497 | 1666 | 4 |\n",
       "| 490 | AT20TN1MCRTL070 | AT20TN1MCRTL070 | Hyparrhenia figariana    | M. Reekmans 11042   | NA | annual    | Hyparrhenia figariana    | <!----> | M. Reekmans 11042     | 2 | AT20TN1MCRTL070_CKDL220009932-1a-AK5147-AK6695_HN325DSX3_L4 |  38421075 |    0 |    0 |    0 | 0 |\n",
       "| 491 | AT20TN1MCRTL070 | AT20TN1MCRTL070 | Hyparrhenia figariana    | M. Reekmans 11042   | NA | annual    | Hyparrhenia figariana    | <!----> | M. Reekmans 11042     | 1 | MCRTL070_CKDL200164856-1B-AK5147-AK6695_HMJV7DSXY_L4        | 180051649 | 2727 | 1222 | 1638 | 5 |\n",
       "| 495 | AT20TS1MCRTL004 | AT20TS1MCRTL004 | Eremopogon foveolatus    | Kellogg PI 302076   | NA | perennial | Eremopogon foveolatus    | Dichanthium foveolatum | Kellogg PI 302076     | 2 | AT20TS1MCRTL004_CKDL220009931-1a-AK6501-AK6655_HN37MDSX3_L2 | 437712642 |    0 |    0 |    0 | 0 |\n",
       "| 496 | AT20TS1MCRTL004 | AT20TS1MCRTL004 | Eremopogon foveolatus    | Kellogg PI 302076   | NA | perennial | Eremopogon foveolatus    | Dichanthium foveolatum | Kellogg PI 302076     | 1 | MCRTL004_CKDL200164854-1a-AK6501-AK6655_HMGJWDSXY_L4        | 235987122 | 2721 | 1028 | 1837 | 6 |\n",
       "| 504 | AT20TS1MCRTL012 | AT20TS1MCRTL012 | Zea nicaraguensis        | MOBOT               | NA | annual    | Zea nicaraguensis        | <!----> | MOBOT NO DATA         | 2 | AT20TS1MCRTL012_CKDL220009931-1a-AK4940-AK6663_HN37MDSX3_L2 | 104832276 |    0 |    0 |    0 | 0 |\n",
       "| 505 | AT20TS1MCRTL012 | AT20TS1MCRTL012 | Zea nicaraguensis        | MOBOT               | NA | annual    | Zea nicaraguensis        | <!----> | MOBOT NO DATA         | 1 | MCRTL012_CKDL200164854-1a-AK4940-AK6663_HMGJWDSXY_L4        | 197643103 | 2652 |  713 | 2225 | 2 |\n",
       "\n"
      ],
      "text/plain": [
       "    tracker_sample_name assemblyID      correctSpecies                       \n",
       "22  AN20TSCR000199      AN20TSCR000199  Bothriochloa pertusa                 \n",
       "23  AN20TSCR000199      AN20TSCR000199  Bothriochloa pertusa                 \n",
       "32  AN20TSCR000208      AN20TSCR000208  Eriochrysis cayennensis              \n",
       "33  AN20TSCR000208      AN20TSCR000208  Eriochrysis cayennensis              \n",
       "34  AN20TSCR000209      AN21TNTL0177    Anatherum bicorne                    \n",
       "35  AN20TSCR000209      AN21TNTL0177    Anatherum bicorne                    \n",
       "36  AN20TSCR000210      AN20TSCR000210  Sorghum arundinaceum                 \n",
       "37  AN20TSCR000210      AN20TSCR000210  Sorghum arundinaceum                 \n",
       "39  AN20TSCR000212      AN20TSCR000212  Hyparrhenia rufa                     \n",
       "40  AN20TSCR000212      AN20TSCR000212  Hyparrhenia rufa                     \n",
       "46  AN20TSCR000218      AN20TSCR000218  Elionurus citreus                    \n",
       "47  AN20TSCR000218      AN20TSCR000218  Elionurus citreus                    \n",
       "60  AN21TNTL0074        AN21TNTL0074    Andropogon gayanus var. bisquamulatus\n",
       "61  AN21TNTL0074        AN21TNTL0074    Andropogon gayanus var. bisquamulatus\n",
       "62  AN21TNTL0075        AN21TNTL0075    Anatherum pringlei                   \n",
       "63  AN21TNTL0075        AN21TNTL0075    Anatherum pringlei                   \n",
       "64  AN21TNTL0076        AN21TNTL0076    Andropogon campestris                \n",
       "65  AN21TNTL0076        AN21TNTL0076    Andropogon campestris                \n",
       "67  AN21TNTL0079        AN21TNTL0079    Bothriochloa imperatoides            \n",
       "68  AN21TNTL0079        AN21TNTL0079    Bothriochloa imperatoides            \n",
       "71  AN21TNTL0083        AN21TNTL0083    Bothriochloa torreyana               \n",
       "72  AN21TNTL0083        AN21TNTL0083    Bothriochloa torreyana               \n",
       "77  AN21TNTL0091        AN21TNTL0091    Sorghastrum fuscescens               \n",
       "78  AN21TNTL0091        AN21TNTL0091    Sorghastrum fuscescens               \n",
       "80  AN21TNTL0093        AN21TNTL0093    Eulalia monostachya                  \n",
       "81  AN21TNTL0093        AN21TNTL0093    Eulalia monostachya                  \n",
       "88  AN21TNTL0100        AN21TNTL0100    Dimeria chloridiformis               \n",
       "89  AN21TNTL0100        AN21TNTL0100    Dimeria chloridiformis               \n",
       "93  AN21TNTL0105        AN21TNTL0105    Anatherum glaucophyllum              \n",
       "94  AN21TNTL0105        AN21TNTL0105    Anatherum glaucophyllum              \n",
       "⋮   ⋮                   ⋮               ⋮                                    \n",
       "329 AN21TSTL0242        AN21TSTL0242    Anatherum arenarium                  \n",
       "330 AN21TSTL0242        AN21TSTL0242    Anatherum arenarium                  \n",
       "335 AN21TSTL0247        AN21TSTL0247    Andropogon hallii                    \n",
       "336 AN21TSTL0247        AN21TSTL0247    Andropogon hallii                    \n",
       "340 AN21TSTL0252        AN21TSTL0252    Tripsacum andersonii                 \n",
       "341 AN21TSTL0252        AN21TSTL0252    Tripsacum andersonii                 \n",
       "357 AN21TSTL0272        AN21TSTL0272    Cymbopogon distans                   \n",
       "358 AN21TSTL0272        AN21TSTL0272    Cymbopogon distans                   \n",
       "366 AN21TSTL0280        AN21TSTL0280    Bothriochloa hybrida                 \n",
       "367 AN21TSTL0280        AN21TSTL0280    Bothriochloa hybrida                 \n",
       "439 AT20TN1MCRTL026     AT20TN1MCRTL026 Hyparrhenia bracteata                \n",
       "440 AT20TN1MCRTL026     AT20TN1MCRTL026 Hyparrhenia bracteata                \n",
       "443 AT20TN1MCRTL029     AT20TN1MCRTL029 Hyparrhenia madaropoda               \n",
       "444 AT20TN1MCRTL029     AT20TN1MCRTL029 Hyparrhenia madaropoda               \n",
       "449 AT20TN1MCRTL034     AT20TN1MCRTL034 Schizachyrium sanguineum             \n",
       "450 AT20TN1MCRTL034     AT20TN1MCRTL034 Schizachyrium sanguineum             \n",
       "454 AT20TN1MCRTL038     AT20TN1MCRTL038 Schizachyrium reedii                 \n",
       "455 AT20TN1MCRTL038     AT20TN1MCRTL038 Schizachyrium reedii                 \n",
       "463 AT20TN1MCRTL046     AT20TN1MCRTL046 Andropogon kelleri                   \n",
       "464 AT20TN1MCRTL046     AT20TN1MCRTL046 Andropogon kelleri                   \n",
       "466 AT20TN1MCRTL048     AT20TN1MCRTL048 Schizachyrium cirratum               \n",
       "467 AT20TN1MCRTL048     AT20TN1MCRTL048 Schizachyrium cirratum               \n",
       "475 AT20TN1MCRTL056     AT20TN1MCRTL056 Hyparrhenia schimperi                \n",
       "476 AT20TN1MCRTL056     AT20TN1MCRTL056 Hyparrhenia schimperi                \n",
       "490 AT20TN1MCRTL070     AT20TN1MCRTL070 Hyparrhenia figariana                \n",
       "491 AT20TN1MCRTL070     AT20TN1MCRTL070 Hyparrhenia figariana                \n",
       "495 AT20TS1MCRTL004     AT20TS1MCRTL004 Eremopogon foveolatus                \n",
       "496 AT20TS1MCRTL004     AT20TS1MCRTL004 Eremopogon foveolatus                \n",
       "504 AT20TS1MCRTL012     AT20TS1MCRTL012 Zea nicaraguensis                    \n",
       "505 AT20TS1MCRTL012     AT20TS1MCRTL012 Zea nicaraguensis                    \n",
       "    CorrectEcotype                             altName lifeHistory        \n",
       "22  AUB & Bookout 104                          NA      perennial          \n",
       "23  AUB & Bookout 104                          NA      perennial          \n",
       "32  AUB & Bookout 109                          NA      perennial          \n",
       "33  AUB & Bookout 109                          NA      perennial          \n",
       "34  AUB & Bookout 110                          NA      perennial          \n",
       "35  AUB & Bookout 110                          NA      perennial          \n",
       "36  AUB & Bookout 106                          NA      annual or perennial\n",
       "37  AUB & Bookout 106                          NA      annual or perennial\n",
       "39  AUB & Bookout 103                          NA      perennial          \n",
       "40  AUB & Bookout 103                          NA      perennial          \n",
       "46  AQ0830601                                  NA      perennial          \n",
       "47  AQ0830601                                  NA      perennial          \n",
       "60                                             NA      perennial          \n",
       "61                                             NA      perennial          \n",
       "62  P.M. Peterson 19125                        NA      perennial          \n",
       "63  P.M. Peterson 19125                        NA      perennial          \n",
       "64  Chase 7977                                 NA      perennial          \n",
       "65  Chase 7977                                 NA      perennial          \n",
       "67  A.A. Beetle 1291 (seed collected by Gould) NA      perennial          \n",
       "68  A.A. Beetle 1291 (seed collected by Gould) NA      perennial          \n",
       "71  Lyonnet 451000020                          NA      perennial          \n",
       "72  Lyonnet 451000020                          NA      perennial          \n",
       "77  Pasquet 1241                               NA      perennial          \n",
       "78  Pasquet 1241                               NA      perennial          \n",
       "80  Traiperm et al 588                         NA      perennial          \n",
       "81  Traiperm et al 588                         NA      perennial          \n",
       "88  W.D. Clayton; A. Weerasooriya 6179         NA      perennial          \n",
       "89  W.D. Clayton; A. Weerasooriya 6179         NA      perennial          \n",
       "93  Schinini & Dematteis 33379                 NA      perennial          \n",
       "94  Schinini & Dematteis 33379                 NA      perennial          \n",
       "⋮   ⋮                                          ⋮       ⋮                  \n",
       "329 GA Norrmann 139                            NA      perennial          \n",
       "330 GA Norrmann 139                            NA      perennial          \n",
       "335 PI 674828                                  NA      perennial          \n",
       "336 PI 674828                                  NA      perennial          \n",
       "340 MIA 34444                                  NA      perennial          \n",
       "341 MIA 34444                                  NA      perennial          \n",
       "357 PI 653752                                  NA      perennial          \n",
       "358 PI 653752                                  NA      perennial          \n",
       "366 PI 321437                                  NA      perennial          \n",
       "367 PI 321437                                  NA      perennial          \n",
       "439 MSV 1664                                   NA      perennial          \n",
       "440 MSV 1664                                   NA      perennial          \n",
       "443 Reekmans 6922                              NA      annual             \n",
       "444 Reekmans 6922                              NA      annual             \n",
       "449 Liz Makings 3834                           NA      perennial          \n",
       "450 Liz Makings 3834                           NA      perennial          \n",
       "454 E.L. Ekman 17186                           NA      perennial          \n",
       "455 E.L. Ekman 17186                           NA      perennial          \n",
       "463 C.F. Hemming 2168                          NA      perennial          \n",
       "464 C.F. Hemming 2168                          NA      perennial          \n",
       "466 Tellez V. 11596                            NA      perennial          \n",
       "467 Tellez V. 11596                            NA      perennial          \n",
       "475 K.E. Bennett 283138                        NA      perennial          \n",
       "476 K.E. Bennett 283138                        NA      perennial          \n",
       "490 M. Reekmans 11042                          NA      annual             \n",
       "491 M. Reekmans 11042                          NA      annual             \n",
       "495 Kellogg PI 302076                          NA      perennial          \n",
       "496 Kellogg PI 302076                          NA      perennial          \n",
       "504 MOBOT                                      NA      annual             \n",
       "505 MOBOT                                      NA      annual             \n",
       "    tracker_organism                      alternative_names       \n",
       "22  Bothriochloa pertusa                                          \n",
       "23  Bothriochloa pertusa                                          \n",
       "32  Eriochrysis cayennensis                                       \n",
       "33  Eriochrysis cayennensis                                       \n",
       "34  Anatherum bicorne                     Andropogon bicornis     \n",
       "35  Anatherum bicorne                     Andropogon bicornis     \n",
       "36  Sorghum arundinaceum                                          \n",
       "37  Sorghum arundinaceum                                          \n",
       "39  Hyparrhenia rufa                                              \n",
       "40  Hyparrhenia rufa                                              \n",
       "46  Elionurus citreus                                             \n",
       "47  Elionurus citreus                                             \n",
       "60  Andropogon gayanus var. bisquamulatus                         \n",
       "61  Andropogon gayanus var. bisquamulatus                         \n",
       "62  Anatherum pringlei                    Andropogon pringlei     \n",
       "63  Anatherum pringlei                    Andropogon pringlei     \n",
       "64  Andropogon campestris                 Andropogon camporum     \n",
       "65  Andropogon campestris                 Andropogon camporum     \n",
       "67  Bothriochloa imperatoides                                     \n",
       "68  Bothriochloa imperatoides                                     \n",
       "71  Bothriochloa torreyana                                        \n",
       "72  Bothriochloa torreyana                                        \n",
       "77  Sorghastrum fuscescens                                        \n",
       "78  Sorghastrum fuscescens                                        \n",
       "80  Eulalia monostachya                                           \n",
       "81  Eulalia monostachya                                           \n",
       "88  Dimeria chloridiformis                Dimeria fuscescens      \n",
       "89  Dimeria chloridiformis                Dimeria fuscescens      \n",
       "93  Anatherum glaucophyllum               Andropogon glaucophyllus\n",
       "94  Anatherum glaucophyllum               Andropogon glaucophyllus\n",
       "⋮   ⋮                                     ⋮                       \n",
       "329 Anatherum arenarium                   Andropogon arenarius    \n",
       "330 Anatherum arenarium                   Andropogon arenarius    \n",
       "335 Andropogon hallii                                             \n",
       "336 Andropogon hallii                                             \n",
       "340 Tripsacum andersonii                                          \n",
       "341 Tripsacum andersonii                                          \n",
       "357 Cymbopogon distans                                            \n",
       "358 Cymbopogon distans                                            \n",
       "366 Bothriochloa hybrida                                          \n",
       "367 Bothriochloa hybrida                                          \n",
       "439 Hyparrhenia bracteata                                         \n",
       "440 Hyparrhenia bracteata                                         \n",
       "443 Hyparrhenia madaropoda                                        \n",
       "444 Hyparrhenia madaropoda                                        \n",
       "449 Schizachyrium sanguineum                                      \n",
       "450 Schizachyrium sanguineum                                      \n",
       "454 Schizachyrium reedii                  Andropogon reedii       \n",
       "455 Schizachyrium reedii                  Andropogon reedii       \n",
       "463 Andropogon kelleri                                            \n",
       "464 Andropogon kelleri                                            \n",
       "466 Schizachyrium cirratum                                        \n",
       "467 Schizachyrium cirratum                                        \n",
       "475 Hyparrhenia schimperi                                         \n",
       "476 Hyparrhenia schimperi                                         \n",
       "490 Hyparrhenia figariana                                         \n",
       "491 Hyparrhenia figariana                                         \n",
       "495 Eremopogon foveolatus                 Dichanthium foveolatum  \n",
       "496 Eremopogon foveolatus                 Dichanthium foveolatum  \n",
       "504 Zea nicaraguensis                                             \n",
       "505 Zea nicaraguensis                                             \n",
       "    ecotype                            run_id\n",
       "22  AUB & Bookout 104                  1     \n",
       "23  AUB & Bookout 104                  2     \n",
       "32  AUB & Bookout 109                  1     \n",
       "33  AUB & Bookout 109                  2     \n",
       "34  AUB & Bookout 110                  2     \n",
       "35  AUB & Bookout 110                  1     \n",
       "36  AUB & Bookout 106                  2     \n",
       "37  AUB & Bookout 106                  1     \n",
       "39  AUB & Bookout 103                  1     \n",
       "40  AUB & Bookout 103                  2     \n",
       "46  KRM 10955                          2     \n",
       "47  KRM 10955                          1     \n",
       "60  C.C.H. Jongkind 2476               1     \n",
       "61  C.C.H. Jongkind 2476               2     \n",
       "62  P.M. Peterson 19125                2     \n",
       "63  P.M. Peterson 19125                1     \n",
       "64  Chase 7977                         1     \n",
       "65  Chase 7977                         2     \n",
       "67  A.A. Beetle 1291                   1     \n",
       "68  A.A. Beetle 1291                   2     \n",
       "71  Lyonnet 451000020                  1     \n",
       "72  Lyonnet 451000020                  2     \n",
       "77  Pasquet 1241                       2     \n",
       "78  Pasquet 1241                       1     \n",
       "80  Traiperm et al 588                 1     \n",
       "81  Traiperm et al 588                 2     \n",
       "88  W.D. Clayton, A. Weerasooriya 6179 1     \n",
       "89  W.D. Clayton, A. Weerasooriya 6179 2     \n",
       "93  Schinini & Dematteis 33379         1     \n",
       "94  Schinini & Dematteis 33379         2     \n",
       "⋮   ⋮                                  ⋮     \n",
       "329 GA Norrmann 139                    1     \n",
       "330 GA Norrmann 139                    2     \n",
       "335 PI 674828                          1     \n",
       "336 PI 674828                          2     \n",
       "340 MIA 34444                          1     \n",
       "341 MIA 34444                          2     \n",
       "357 PI 653752                          1     \n",
       "358 PI 653752                          2     \n",
       "366 PI 321437                          1     \n",
       "367 PI 321437                          2     \n",
       "439 Vorontsova, M.S. 1664              2     \n",
       "440 Vorontsova, M.S. 1664              1     \n",
       "443 Reekmans 6922                      1     \n",
       "444 Reekmans 6922                      2     \n",
       "449 Liz Makings 3834                   2     \n",
       "450 Liz Makings 3834                   1     \n",
       "454 E.L. Ekman 17186                   1     \n",
       "455 E.L. Ekman 17186                   2     \n",
       "463 C.F. Hemming 2168                  1     \n",
       "464 C.F. Hemming 2168                  2     \n",
       "466 Tellez V. 11596                    1     \n",
       "467 Tellez V. 11596                    2     \n",
       "475 K.E. Bennett 283138                2     \n",
       "476 K.E. Bennett 283138                1     \n",
       "490 M. Reekmans 11042                  2     \n",
       "491 M. Reekmans 11042                  1     \n",
       "495 Kellogg PI 302076                  2     \n",
       "496 Kellogg PI 302076                  1     \n",
       "504 MOBOT NO DATA                      2     \n",
       "505 MOBOT NO DATA                      1     \n",
       "    file                                                        total_reads\n",
       "22  AN20TSCR000199_CKDL200169515-1a-AK5395-AK5927_HLTF5DSXY_L3  240215178  \n",
       "23  AN20TSCR000199_CKDL220009932-1a-AK5395-AK5927_HN325DSX3_L4  192076561  \n",
       "32  AN20TSCR000208_CKDL200169516-1a-AK5161-AK6675_HLTF5DSXY_L4   41590125  \n",
       "33  AN21TNTL0176_CKDL210009738-1a-AK5161-AK6675_H5C7LDSX2_L4    180110944  \n",
       "34  AN21TNTL0177_CKDL210009737-1a-AK5155-AK6686_H5C7LDSX2_L3    265694347  \n",
       "35  AN20TSCR000209_CKDL200169516-1a-AK5155-AK6686_HLTF5DSXY_L4   11458190  \n",
       "36  AN21TNTL0178_CKDL210009737-1a-AK5142-AK6697_H5C7LDSX2_L3    289544310  \n",
       "37  AN20TSCR000210_CKDL200169516-1a-AK5142-AK6697_HLTF5DSXY_L4   15154089  \n",
       "39  AN20TSCR000212_CKDL200169516-1a-AK5153-AK6718_HLTF5DSXY_L4  142376442  \n",
       "40  AN20TSCR000212_CKDL220009932-1a-AK5153-AK6718_HN325DSX3_L4  675426444  \n",
       "46  AN20TSCR000218_CKDL220009932-1a-AK5848-AK5137_HN325DSX3_L4  683572471  \n",
       "47  AN20TSCR000218_CKDL200169516-1a-AK5848-AK5137_HLTF5DSXY_L4  242044361  \n",
       "60  AN21TNTL0074_CKDL210009738-1a-AK5151-AK6665_H5C7LDSX2_L4    190200757  \n",
       "61  AN21TNTL0074_CKDL220009932-1a-AK5151-AK6665_HN325DSX3_L4    263183552  \n",
       "62  AN21TNTL0075_CKDL220009932-1a-AK5845-AK6676_HN325DSX3_L4    520578585  \n",
       "63  AN21TNTL0075_CKDL210009737-1a-AK5845-AK6676_H5C7LDSX2_L3    287188066  \n",
       "64  AN21TNTL0076_CKDL210009738-1a-AK4639-AK6604_H5C7LDSX2_L4     50776232  \n",
       "65  AN21TNTL0076_CKDL220009932-1a-AK4639-AK6604_HN325DSX3_L4     40719603  \n",
       "67  AN21TNTL0079_CKDL210009737-1a-AK4944-AK6719_H5C7LDSX2_L3    120424959  \n",
       "68  AN21TNTL0079_CKDL220009932-1a-AK4944-AK6719_HN325DSX3_L4    170777757  \n",
       "71  AN21TNTL0083_CKDL210009737-1a-AK6511-AK6677_H5C7LDSX2_L3    137646857  \n",
       "72  AN21TNTL0083_CKDL220009932-1a-AK6511-AK6677_HN325DSX3_L4    234334668  \n",
       "77  AN21TNTL0091_CKDL220009932-1a-AK5158-AK6684_HN325DSX3_L4    159071864  \n",
       "78  AN21TNTL0091_CKDL210009736-1a-AK5158-AK6684_H5C7LDSX2_L2    302477209  \n",
       "80  AN21TNTL0093_CKDL210009736-1a-AK5999-AK6705_H5C7LDSX2_L2    356474200  \n",
       "81  AN21TNTL0093_CKDL220009932-1a-AK5999-AK6705_HN325DSX3_L4    160668736  \n",
       "88  AN21TNTL0100_CKDL210009736-1a-AK5143-AK6694_H5C7LDSX2_L2    112568400  \n",
       "89  AN21TNTL0100_CKDL220009932-1a-AK5143-AK6694_HN325DSX3_L4    372422076  \n",
       "93  AN21TNTL0105_CKDL210009736-1a-AK4947-AK6661_H5C7LDSX2_L2    173466204  \n",
       "94  AN21TNTL0105_CKDL220009932-1a-AK4947-AK6661_HN325DSX3_L4    209529395  \n",
       "⋮   ⋮                                                           ⋮          \n",
       "329 AN21TSTL0242_CKDL210011696-1a-AK6540-AK6731_HC5FKDSX2_L2    176000000  \n",
       "330 AN21TSTL0242_CKDL220009931-1a-AK6540-AK6731_HN37MDSX3_L2     93505306  \n",
       "335 AN21TSTL0247_CKDL210011696-1a-AK6526-AK2651_HC5FKDSX2_L2    198000000  \n",
       "336 AN21TSTL0247_CKDL220009931-1a-AK6526-AK2651_HN37MDSX3_L2    183991763  \n",
       "340 AN21TSTL0252_CKDL210011696-1a-AK6509-AK6669_HC5FKDSX2_L2    180000000  \n",
       "341 AN21TSTL0252_CKDL220009931-1a-AK6509-AK6669_HN37MDSX3_L2    219821503  \n",
       "357 AN21TSTL0272_CKDL210011693-1a-AK5140-AK242_HC3LJDSX2_L2     214000000  \n",
       "358 AN21TSTL0272_CKDL220009931-1a-AK5140-AK242_HN37MDSX3_L2     422897579  \n",
       "366 AN21TSTL0280_CKDL210011693-1a-AK4937-AK6664_HC3LJDSX2_L2    231000000  \n",
       "367 AN21TSTL0280_CKDL220009931-1a-AK4937-AK6664_HN37MDSX3_L2    278992174  \n",
       "439 AT20TN1MCRTL026_CKDL220009932-1a-AK5455-AK6685_HN325DSX3_L4  88423379  \n",
       "440 MCRTL026_CKDL200164855-1B-AK5455-AK6685_HMJV7DSXY_L3        367208078  \n",
       "443 MCRTL029_CKDL200164855-1B-AK5155-AK6686_HMJV7DSXY_L3        278062251  \n",
       "444 AT20TN1MCRTL029_CKDL220009932-1a-AK5155-AK6686_HN325DSX3_L4  85926726  \n",
       "449 AT20TN1MCRTL034_CKDL220009932-1a-AK6517-AK6687_HN325DSX3_L4 144910803  \n",
       "450 MCRTL034_CKDL200164855-1B-AK6517-AK6687_HMJV7DSXY_L3        204564209  \n",
       "454 MCRTL038_CKDL200164855-1B-AK6524-AK6699_HMJV7DSXY_L3        203239240  \n",
       "455 AT20TN1MCRTL038_CKDL220009932-1a-AK6524-AK6699_HN325DSX3_L4 144195504  \n",
       "463 MCRTL046_CKDL200164855-1B-AK6529-AK6708_HMJV7DSXY_L3         62807389  \n",
       "464 AT20TN1MCRTL046_CKDL220009932-1a-AK6529-AK6708_HN325DSX3_L4  74670545  \n",
       "466 MCRTL048_CKDL200164856-1B-AK6526-AK2651_HMJV7DSXY_L4        179213267  \n",
       "467 AT20TN1MCRTL048_CKDL220009932-1a-AK6526-AK2651_HN325DSX3_L4  60666738  \n",
       "475 AT20TN1MCRTL056_CKDL220009932-1a-AK6533-AK6713_HN325DSX3_L4  57939336  \n",
       "476 MCRTL056_CKDL200164856-1B-AK6533-AK6713_HMJV7DSXY_L4        218940405  \n",
       "490 AT20TN1MCRTL070_CKDL220009932-1a-AK5147-AK6695_HN325DSX3_L4  38421075  \n",
       "491 MCRTL070_CKDL200164856-1B-AK5147-AK6695_HMJV7DSXY_L4        180051649  \n",
       "495 AT20TS1MCRTL004_CKDL220009931-1a-AK6501-AK6655_HN37MDSX3_L2 437712642  \n",
       "496 MCRTL004_CKDL200164854-1a-AK6501-AK6655_HMGJWDSXY_L4        235987122  \n",
       "504 AT20TS1MCRTL012_CKDL220009931-1a-AK4940-AK6663_HN37MDSX3_L2 104832276  \n",
       "505 MCRTL012_CKDL200164854-1a-AK4940-AK6663_HMGJWDSXY_L4        197643103  \n",
       "    tabasco_complete tabasco_duplicated tabasco_fraged tabasco_missing\n",
       "22  2238             1980               1373              1           \n",
       "23     0                0                  0              0           \n",
       "32  2579               33               2955             25           \n",
       "33     0                0                  0              0           \n",
       "34     0                0                  0              0           \n",
       "35   230                4               3931           1427           \n",
       "36     0                0                  0              0           \n",
       "37   579                5               4563            445           \n",
       "39  3049              925               1613              5           \n",
       "40     0                0                  0              0           \n",
       "46     0                0                  0              0           \n",
       "47  2755             1395               1432             10           \n",
       "60  3401              690               1499              2           \n",
       "61     0                0                  0              0           \n",
       "62     0                0                  0              0           \n",
       "63  1636             2610               1344              2           \n",
       "64  2226              199               3161              6           \n",
       "65     0                0                  0              0           \n",
       "67  2438             1344               1809              1           \n",
       "68     0                0                  0              0           \n",
       "71     0                0                  0              0           \n",
       "72     0                0                  0              0           \n",
       "77     0                0                  0              0           \n",
       "78  1642             2577               1369              4           \n",
       "80  1895             1972               1724              1           \n",
       "81     0                0                  0              0           \n",
       "88  1846             2049               1695              2           \n",
       "89     0                0                  0              0           \n",
       "93  1940             1669               1981              2           \n",
       "94     0                0                  0              0           \n",
       "⋮   ⋮                ⋮                  ⋮              ⋮              \n",
       "329 2432             1320               1839           1              \n",
       "330    0                0                  0           0              \n",
       "335 1727             1426               2437           2              \n",
       "336    0                0                  0           0              \n",
       "340 1695             1303               2594           0              \n",
       "341    0                0                  0           0              \n",
       "357 2043             2205               1342           2              \n",
       "358    0                0                  0           0              \n",
       "366 1638             1987               1966           1              \n",
       "367    0                0                  0           0              \n",
       "439    0                0                  0           0              \n",
       "440 2601             1406               1581           4              \n",
       "443 2650             1397               1541           4              \n",
       "444    0                0                  0           0              \n",
       "449    0                0                  0           0              \n",
       "450 1149             2105               2336           2              \n",
       "454 1249             1794               2548           1              \n",
       "455    0                0                  0           0              \n",
       "463 3483               85               2020           4              \n",
       "464    0                0                  0           0              \n",
       "466 1904             1939               1747           2              \n",
       "467    0                0                  0           0              \n",
       "475    0                0                  0           0              \n",
       "476 2425             1497               1666           4              \n",
       "490    0                0                  0           0              \n",
       "491 2727             1222               1638           5              \n",
       "495    0                0                  0           0              \n",
       "496 2721             1028               1837           6              \n",
       "504    0                0                  0           0              \n",
       "505 2652              713               2225           2              "
      ]
     },
     "metadata": {},
     "output_type": "display_data"
    }
   ],
   "source": [
    "mergedDat_noNA[mergedDat_noNA[,1]%in%dupSample,c(1:4,7,8,12:17,29:32)]"
   ]
  },
  {
   "cell_type": "code",
   "execution_count": 21,
   "id": "cfe7d5c5",
   "metadata": {},
   "outputs": [],
   "source": [
    "mergedDat_noNAnoDup = mergedDat_noNA[!(mergedDat_noNA[,1]%in%dupSample&mergedDat_noNA$run_id==2|mergedDat_noNA[,2]==\"AN20T003\"),]"
   ]
  },
  {
   "cell_type": "code",
   "execution_count": 22,
   "id": "4a211a84",
   "metadata": {},
   "outputs": [
    {
     "data": {
      "text/html": [
       "<style>\n",
       ".list-inline {list-style: none; margin:0; padding: 0}\n",
       ".list-inline>li {display: inline-block}\n",
       ".list-inline>li:not(:last-child)::after {content: \"\\00b7\"; padding: 0 .5ex}\n",
       "</style>\n",
       "<ol class=list-inline><li>466</li><li>32</li></ol>\n"
      ],
      "text/latex": [
       "\\begin{enumerate*}\n",
       "\\item 466\n",
       "\\item 32\n",
       "\\end{enumerate*}\n"
      ],
      "text/markdown": [
       "1. 466\n",
       "2. 32\n",
       "\n",
       "\n"
      ],
      "text/plain": [
       "[1] 466  32"
      ]
     },
     "metadata": {},
     "output_type": "display_data"
    }
   ],
   "source": [
    "dim(mergedDat_noNAnoDup)"
   ]
  },
  {
   "cell_type": "code",
   "execution_count": 23,
   "id": "f3dd8880",
   "metadata": {},
   "outputs": [
    {
     "data": {
      "text/html": [
       "11"
      ],
      "text/latex": [
       "11"
      ],
      "text/markdown": [
       "11"
      ],
      "text/plain": [
       "[1] 11"
      ]
     },
     "metadata": {},
     "output_type": "display_data"
    }
   ],
   "source": [
    "sum(mergedDat_noNAnoDup$correctSpecies==\"Omit\")"
   ]
  },
  {
   "cell_type": "code",
   "execution_count": 24,
   "id": "e7784b74",
   "metadata": {},
   "outputs": [
    {
     "data": {
      "text/html": [
       "<table class=\"dataframe\">\n",
       "<caption>A data.frame: 11 × 9</caption>\n",
       "<thead>\n",
       "\t<tr><th></th><th scope=col>tracker_sample_name</th><th scope=col>assemblyID</th><th scope=col>correctSpecies</th><th scope=col>CorrectEcotype</th><th scope=col>Species</th><th scope=col>genotype_info</th><th scope=col>tracker_organism</th><th scope=col>alternative_names</th><th scope=col>ecotype</th></tr>\n",
       "\t<tr><th></th><th scope=col>&lt;chr&gt;</th><th scope=col>&lt;chr&gt;</th><th scope=col>&lt;chr&gt;</th><th scope=col>&lt;chr&gt;</th><th scope=col>&lt;chr&gt;</th><th scope=col>&lt;chr&gt;</th><th scope=col>&lt;chr&gt;</th><th scope=col>&lt;chr&gt;</th><th scope=col>&lt;chr&gt;</th></tr>\n",
       "</thead>\n",
       "<tbody>\n",
       "\t<tr><th scope=row>136</th><td>AN21TNTL0173   </td><td>AN21TNTL0173</td><td>Omit</td><td>Omit                     </td><td>Eulalia villosa           </td><td>NOP 108                  </td><td>NA</td><td>NA</td><td>NA</td></tr>\n",
       "\t<tr><th scope=row>187</th><td>AN21TSTL0005   </td><td>AN21TS05    </td><td>Omit</td><td>Omit                     </td><td>Schizachyrium sanguineum  </td><td>AUB 139                  </td><td>NA</td><td>NA</td><td>NA</td></tr>\n",
       "\t<tr><th scope=row>223</th><td>AN21TSTL0037   </td><td>AN21TS37    </td><td>Omit</td><td>PI 349688002 - White seed</td><td>Digitaria iburua          </td><td>PI 349688002 - White seed</td><td>NA</td><td>NA</td><td>NA</td></tr>\n",
       "\t<tr><th scope=row>225</th><td>AN21TSTL0039   </td><td>AN21TS39    </td><td>Omit</td><td>Omit                     </td><td>Hyparrhenia sp.           </td><td>Pasquet 1149             </td><td>NA</td><td>NA</td><td>NA</td></tr>\n",
       "\t<tr><th scope=row>227</th><td>AN21TSTL0041   </td><td>AN21TS41    </td><td>Omit</td><td>Omit                     </td><td>Hyparrhenia variabilis    </td><td>Pasquet 1124             </td><td>NA</td><td>NA</td><td>NA</td></tr>\n",
       "\t<tr><th scope=row>231</th><td>AN21TSTL0044   </td><td>AN21TS44    </td><td>Omit</td><td>Omit                     </td><td>Saccharum brevibarbe      </td><td>MIA 33319                </td><td>NA</td><td>NA</td><td>NA</td></tr>\n",
       "\t<tr><th scope=row>270</th><td>AN21TSTL0183   </td><td>AN21TSTL0183</td><td>Omit</td><td>Omit                     </td><td>Andropogon arctatus       </td><td>AUB 130                  </td><td>NA</td><td>NA</td><td>NA</td></tr>\n",
       "\t<tr><th scope=row>292</th><td>AN21TSTL0205   </td><td>AN21TSTL0205</td><td>Omit</td><td>Omit                     </td><td>Schizachyrium stoloniferum</td><td>AUB 131                  </td><td>NA</td><td>NA</td><td>NA</td></tr>\n",
       "\t<tr><th scope=row>338</th><td>AN21TSTL0250   </td><td>AN21TSTL0250</td><td>Omit</td><td>Omit                     </td><td>Saccharum narenga         </td><td>PI 246359                </td><td>NA</td><td>NA</td><td>NA</td></tr>\n",
       "\t<tr><th scope=row>442</th><td>AT20TN1MCRTL028</td><td>MCRTL028    </td><td>Omit</td><td>Omit                     </td><td>Diheteropogon filifolius  </td><td>Brand; Kay; Logie 316    </td><td>NA</td><td>NA</td><td>NA</td></tr>\n",
       "\t<tr><th scope=row>517</th><td>AT20TS1MCRTL024</td><td>MCRTL024    </td><td>Omit</td><td>Omit                     </td><td>Ophiuros megaphyllus      </td><td>Traiperm 176             </td><td>NA</td><td>NA</td><td>NA</td></tr>\n",
       "</tbody>\n",
       "</table>\n"
      ],
      "text/latex": [
       "A data.frame: 11 × 9\n",
       "\\begin{tabular}{r|lllllllll}\n",
       "  & tracker\\_sample\\_name & assemblyID & correctSpecies & CorrectEcotype & Species & genotype\\_info & tracker\\_organism & alternative\\_names & ecotype\\\\\n",
       "  & <chr> & <chr> & <chr> & <chr> & <chr> & <chr> & <chr> & <chr> & <chr>\\\\\n",
       "\\hline\n",
       "\t136 & AN21TNTL0173    & AN21TNTL0173 & Omit & Omit                      & Eulalia villosa            & NOP 108                   & NA & NA & NA\\\\\n",
       "\t187 & AN21TSTL0005    & AN21TS05     & Omit & Omit                      & Schizachyrium sanguineum   & AUB 139                   & NA & NA & NA\\\\\n",
       "\t223 & AN21TSTL0037    & AN21TS37     & Omit & PI 349688002 - White seed & Digitaria iburua           & PI 349688002 - White seed & NA & NA & NA\\\\\n",
       "\t225 & AN21TSTL0039    & AN21TS39     & Omit & Omit                      & Hyparrhenia sp.            & Pasquet 1149              & NA & NA & NA\\\\\n",
       "\t227 & AN21TSTL0041    & AN21TS41     & Omit & Omit                      & Hyparrhenia variabilis     & Pasquet 1124              & NA & NA & NA\\\\\n",
       "\t231 & AN21TSTL0044    & AN21TS44     & Omit & Omit                      & Saccharum brevibarbe       & MIA 33319                 & NA & NA & NA\\\\\n",
       "\t270 & AN21TSTL0183    & AN21TSTL0183 & Omit & Omit                      & Andropogon arctatus        & AUB 130                   & NA & NA & NA\\\\\n",
       "\t292 & AN21TSTL0205    & AN21TSTL0205 & Omit & Omit                      & Schizachyrium stoloniferum & AUB 131                   & NA & NA & NA\\\\\n",
       "\t338 & AN21TSTL0250    & AN21TSTL0250 & Omit & Omit                      & Saccharum narenga          & PI 246359                 & NA & NA & NA\\\\\n",
       "\t442 & AT20TN1MCRTL028 & MCRTL028     & Omit & Omit                      & Diheteropogon filifolius   & Brand; Kay; Logie 316     & NA & NA & NA\\\\\n",
       "\t517 & AT20TS1MCRTL024 & MCRTL024     & Omit & Omit                      & Ophiuros megaphyllus       & Traiperm 176              & NA & NA & NA\\\\\n",
       "\\end{tabular}\n"
      ],
      "text/markdown": [
       "\n",
       "A data.frame: 11 × 9\n",
       "\n",
       "| <!--/--> | tracker_sample_name &lt;chr&gt; | assemblyID &lt;chr&gt; | correctSpecies &lt;chr&gt; | CorrectEcotype &lt;chr&gt; | Species &lt;chr&gt; | genotype_info &lt;chr&gt; | tracker_organism &lt;chr&gt; | alternative_names &lt;chr&gt; | ecotype &lt;chr&gt; |\n",
       "|---|---|---|---|---|---|---|---|---|---|\n",
       "| 136 | AN21TNTL0173    | AN21TNTL0173 | Omit | Omit                      | Eulalia villosa            | NOP 108                   | NA | NA | NA |\n",
       "| 187 | AN21TSTL0005    | AN21TS05     | Omit | Omit                      | Schizachyrium sanguineum   | AUB 139                   | NA | NA | NA |\n",
       "| 223 | AN21TSTL0037    | AN21TS37     | Omit | PI 349688002 - White seed | Digitaria iburua           | PI 349688002 - White seed | NA | NA | NA |\n",
       "| 225 | AN21TSTL0039    | AN21TS39     | Omit | Omit                      | Hyparrhenia sp.            | Pasquet 1149              | NA | NA | NA |\n",
       "| 227 | AN21TSTL0041    | AN21TS41     | Omit | Omit                      | Hyparrhenia variabilis     | Pasquet 1124              | NA | NA | NA |\n",
       "| 231 | AN21TSTL0044    | AN21TS44     | Omit | Omit                      | Saccharum brevibarbe       | MIA 33319                 | NA | NA | NA |\n",
       "| 270 | AN21TSTL0183    | AN21TSTL0183 | Omit | Omit                      | Andropogon arctatus        | AUB 130                   | NA | NA | NA |\n",
       "| 292 | AN21TSTL0205    | AN21TSTL0205 | Omit | Omit                      | Schizachyrium stoloniferum | AUB 131                   | NA | NA | NA |\n",
       "| 338 | AN21TSTL0250    | AN21TSTL0250 | Omit | Omit                      | Saccharum narenga          | PI 246359                 | NA | NA | NA |\n",
       "| 442 | AT20TN1MCRTL028 | MCRTL028     | Omit | Omit                      | Diheteropogon filifolius   | Brand; Kay; Logie 316     | NA | NA | NA |\n",
       "| 517 | AT20TS1MCRTL024 | MCRTL024     | Omit | Omit                      | Ophiuros megaphyllus       | Traiperm 176              | NA | NA | NA |\n",
       "\n"
      ],
      "text/plain": [
       "    tracker_sample_name assemblyID   correctSpecies CorrectEcotype           \n",
       "136 AN21TNTL0173        AN21TNTL0173 Omit           Omit                     \n",
       "187 AN21TSTL0005        AN21TS05     Omit           Omit                     \n",
       "223 AN21TSTL0037        AN21TS37     Omit           PI 349688002 - White seed\n",
       "225 AN21TSTL0039        AN21TS39     Omit           Omit                     \n",
       "227 AN21TSTL0041        AN21TS41     Omit           Omit                     \n",
       "231 AN21TSTL0044        AN21TS44     Omit           Omit                     \n",
       "270 AN21TSTL0183        AN21TSTL0183 Omit           Omit                     \n",
       "292 AN21TSTL0205        AN21TSTL0205 Omit           Omit                     \n",
       "338 AN21TSTL0250        AN21TSTL0250 Omit           Omit                     \n",
       "442 AT20TN1MCRTL028     MCRTL028     Omit           Omit                     \n",
       "517 AT20TS1MCRTL024     MCRTL024     Omit           Omit                     \n",
       "    Species                    genotype_info             tracker_organism\n",
       "136 Eulalia villosa            NOP 108                   NA              \n",
       "187 Schizachyrium sanguineum   AUB 139                   NA              \n",
       "223 Digitaria iburua           PI 349688002 - White seed NA              \n",
       "225 Hyparrhenia sp.            Pasquet 1149              NA              \n",
       "227 Hyparrhenia variabilis     Pasquet 1124              NA              \n",
       "231 Saccharum brevibarbe       MIA 33319                 NA              \n",
       "270 Andropogon arctatus        AUB 130                   NA              \n",
       "292 Schizachyrium stoloniferum AUB 131                   NA              \n",
       "338 Saccharum narenga          PI 246359                 NA              \n",
       "442 Diheteropogon filifolius   Brand; Kay; Logie 316     NA              \n",
       "517 Ophiuros megaphyllus       Traiperm 176              NA              \n",
       "    alternative_names ecotype\n",
       "136 NA                NA     \n",
       "187 NA                NA     \n",
       "223 NA                NA     \n",
       "225 NA                NA     \n",
       "227 NA                NA     \n",
       "231 NA                NA     \n",
       "270 NA                NA     \n",
       "292 NA                NA     \n",
       "338 NA                NA     \n",
       "442 NA                NA     \n",
       "517 NA                NA     "
      ]
     },
     "metadata": {},
     "output_type": "display_data"
    }
   ],
   "source": [
    "mergedDat_noNAnoDup[mergedDat_noNAnoDup$correctSpecies==\"Omit\",c(1:6,12:14)]"
   ]
  },
  {
   "cell_type": "code",
   "execution_count": 45,
   "id": "e48685cc",
   "metadata": {},
   "outputs": [],
   "source": [
    "write.table(mergedDat_noNAnoDup[mergedDat_noNAnoDup$correctSpecies==\"Omit\",c(1:6,12:14)],\n",
    "            \"/workdir/sh2246/p_phyloGWAS/output/metadata_processing/badSampleMetadata.txt\",quote = F,sep = \"\\t\",row.names = F)"
   ]
  },
  {
   "cell_type": "code",
   "execution_count": 25,
   "id": "dc7c9b55",
   "metadata": {},
   "outputs": [],
   "source": [
    "mergedDat_noNAnoDupnoBad = mergedDat_noNAnoDup[!mergedDat_noNAnoDup$correctSpecies==\"Omit\",]"
   ]
  },
  {
   "cell_type": "code",
   "execution_count": 26,
   "id": "ebfd45e6",
   "metadata": {},
   "outputs": [
    {
     "data": {
      "text/html": [
       "<style>\n",
       ".list-inline {list-style: none; margin:0; padding: 0}\n",
       ".list-inline>li {display: inline-block}\n",
       ".list-inline>li:not(:last-child)::after {content: \"\\00b7\"; padding: 0 .5ex}\n",
       "</style>\n",
       "<ol class=list-inline><li>455</li><li>32</li></ol>\n"
      ],
      "text/latex": [
       "\\begin{enumerate*}\n",
       "\\item 455\n",
       "\\item 32\n",
       "\\end{enumerate*}\n"
      ],
      "text/markdown": [
       "1. 455\n",
       "2. 32\n",
       "\n",
       "\n"
      ],
      "text/plain": [
       "[1] 455  32"
      ]
     },
     "metadata": {},
     "output_type": "display_data"
    }
   ],
   "source": [
    "dim(mergedDat_noNAnoDupnoBad)"
   ]
  },
  {
   "cell_type": "code",
   "execution_count": 27,
   "id": "ec0a62ba",
   "metadata": {},
   "outputs": [
    {
     "data": {
      "text/html": [
       "1"
      ],
      "text/latex": [
       "1"
      ],
      "text/markdown": [
       "1"
      ],
      "text/plain": [
       "[1] 1"
      ]
     },
     "metadata": {},
     "output_type": "display_data"
    }
   ],
   "source": [
    "sum(is.na(mergedDat_noNAnoDupnoBad$tracker_organism))"
   ]
  },
  {
   "cell_type": "code",
   "execution_count": 28,
   "id": "5bc2c144",
   "metadata": {},
   "outputs": [
    {
     "data": {
      "text/html": [
       "<table class=\"dataframe\">\n",
       "<caption>A data.frame: 4 × 9</caption>\n",
       "<thead>\n",
       "\t<tr><th></th><th scope=col>tracker_sample_name</th><th scope=col>assemblyID</th><th scope=col>correctSpecies</th><th scope=col>CorrectEcotype</th><th scope=col>Species</th><th scope=col>genotype_info</th><th scope=col>tracker_organism</th><th scope=col>alternative_names</th><th scope=col>ecotype</th></tr>\n",
       "\t<tr><th></th><th scope=col>&lt;chr&gt;</th><th scope=col>&lt;chr&gt;</th><th scope=col>&lt;chr&gt;</th><th scope=col>&lt;chr&gt;</th><th scope=col>&lt;chr&gt;</th><th scope=col>&lt;chr&gt;</th><th scope=col>&lt;chr&gt;</th><th scope=col>&lt;chr&gt;</th><th scope=col>&lt;chr&gt;</th></tr>\n",
       "</thead>\n",
       "<tbody>\n",
       "\t<tr><th scope=row>401</th><td>AN22TNTL113    </td><td>AN22TNTL113</td><td>\"Andropogon\" brazzae       </td><td>SA Renvoize 5670                             </td><td>Andropogon brazzae       </td><td>NA             </td><td>Andropogon brazzae       </td><td></td><td>SA Renvoize 5670                             </td></tr>\n",
       "\t<tr><th scope=row>403</th><td>AN22TNTL117    </td><td>AN22TNTL117</td><td>\"Andropogon\" mannii        </td><td>Pasquet 1272                                 </td><td>Andropogon mannii        </td><td>NA             </td><td>Andropogon mannii        </td><td></td><td>Pasquet 1272                                 </td></tr>\n",
       "\t<tr><th scope=row>406</th><td>AN22TNTL122    </td><td>AN22TNTL122</td><td>\"Andropogon\" durifolius    </td><td>WR Anderson, M Stieber, JH Kirkbride Jr 35221</td><td>Andropogon durifolius    </td><td>NA             </td><td>Andropogon durifolius    </td><td></td><td>WR Anderson, M Stieber, JH Kirkbride Jr 35221</td></tr>\n",
       "\t<tr><th scope=row>462</th><td>AT20TN1MCRTL045</td><td>MCRTL045   </td><td>\"Andropogon\" appendiculatus</td><td>D.B. Muller 812                              </td><td>Andropogon appendiculatus</td><td>D.B. Muller 812</td><td>Andropogon appendiculatus</td><td></td><td>D.B. Muller 812                              </td></tr>\n",
       "</tbody>\n",
       "</table>\n"
      ],
      "text/latex": [
       "A data.frame: 4 × 9\n",
       "\\begin{tabular}{r|lllllllll}\n",
       "  & tracker\\_sample\\_name & assemblyID & correctSpecies & CorrectEcotype & Species & genotype\\_info & tracker\\_organism & alternative\\_names & ecotype\\\\\n",
       "  & <chr> & <chr> & <chr> & <chr> & <chr> & <chr> & <chr> & <chr> & <chr>\\\\\n",
       "\\hline\n",
       "\t401 & AN22TNTL113     & AN22TNTL113 & \"Andropogon\" brazzae        & SA Renvoize 5670                              & Andropogon brazzae        & NA              & Andropogon brazzae        &  & SA Renvoize 5670                             \\\\\n",
       "\t403 & AN22TNTL117     & AN22TNTL117 & \"Andropogon\" mannii         & Pasquet 1272                                  & Andropogon mannii         & NA              & Andropogon mannii         &  & Pasquet 1272                                 \\\\\n",
       "\t406 & AN22TNTL122     & AN22TNTL122 & \"Andropogon\" durifolius     & WR Anderson, M Stieber, JH Kirkbride Jr 35221 & Andropogon durifolius     & NA              & Andropogon durifolius     &  & WR Anderson, M Stieber, JH Kirkbride Jr 35221\\\\\n",
       "\t462 & AT20TN1MCRTL045 & MCRTL045    & \"Andropogon\" appendiculatus & D.B. Muller 812                               & Andropogon appendiculatus & D.B. Muller 812 & Andropogon appendiculatus &  & D.B. Muller 812                              \\\\\n",
       "\\end{tabular}\n"
      ],
      "text/markdown": [
       "\n",
       "A data.frame: 4 × 9\n",
       "\n",
       "| <!--/--> | tracker_sample_name &lt;chr&gt; | assemblyID &lt;chr&gt; | correctSpecies &lt;chr&gt; | CorrectEcotype &lt;chr&gt; | Species &lt;chr&gt; | genotype_info &lt;chr&gt; | tracker_organism &lt;chr&gt; | alternative_names &lt;chr&gt; | ecotype &lt;chr&gt; |\n",
       "|---|---|---|---|---|---|---|---|---|---|\n",
       "| 401 | AN22TNTL113     | AN22TNTL113 | \"Andropogon\" brazzae        | SA Renvoize 5670                              | Andropogon brazzae        | NA              | Andropogon brazzae        | <!----> | SA Renvoize 5670                              |\n",
       "| 403 | AN22TNTL117     | AN22TNTL117 | \"Andropogon\" mannii         | Pasquet 1272                                  | Andropogon mannii         | NA              | Andropogon mannii         | <!----> | Pasquet 1272                                  |\n",
       "| 406 | AN22TNTL122     | AN22TNTL122 | \"Andropogon\" durifolius     | WR Anderson, M Stieber, JH Kirkbride Jr 35221 | Andropogon durifolius     | NA              | Andropogon durifolius     | <!----> | WR Anderson, M Stieber, JH Kirkbride Jr 35221 |\n",
       "| 462 | AT20TN1MCRTL045 | MCRTL045    | \"Andropogon\" appendiculatus | D.B. Muller 812                               | Andropogon appendiculatus | D.B. Muller 812 | Andropogon appendiculatus | <!----> | D.B. Muller 812                               |\n",
       "\n"
      ],
      "text/plain": [
       "    tracker_sample_name assemblyID  correctSpecies             \n",
       "401 AN22TNTL113         AN22TNTL113 \"Andropogon\" brazzae       \n",
       "403 AN22TNTL117         AN22TNTL117 \"Andropogon\" mannii        \n",
       "406 AN22TNTL122         AN22TNTL122 \"Andropogon\" durifolius    \n",
       "462 AT20TN1MCRTL045     MCRTL045    \"Andropogon\" appendiculatus\n",
       "    CorrectEcotype                                Species                  \n",
       "401 SA Renvoize 5670                              Andropogon brazzae       \n",
       "403 Pasquet 1272                                  Andropogon mannii        \n",
       "406 WR Anderson, M Stieber, JH Kirkbride Jr 35221 Andropogon durifolius    \n",
       "462 D.B. Muller 812                               Andropogon appendiculatus\n",
       "    genotype_info   tracker_organism          alternative_names\n",
       "401 NA              Andropogon brazzae                         \n",
       "403 NA              Andropogon mannii                          \n",
       "406 NA              Andropogon durifolius                      \n",
       "462 D.B. Muller 812 Andropogon appendiculatus                  \n",
       "    ecotype                                      \n",
       "401 SA Renvoize 5670                             \n",
       "403 Pasquet 1272                                 \n",
       "406 WR Anderson, M Stieber, JH Kirkbride Jr 35221\n",
       "462 D.B. Muller 812                              "
      ]
     },
     "metadata": {},
     "output_type": "display_data"
    }
   ],
   "source": [
    "mergedDat_noNAnoDupnoBad[with(mergedDat_noNAnoDupnoBad,which(correctSpecies != tracker_organism)),c(1:6,12:14)]"
   ]
  },
  {
   "cell_type": "code",
   "execution_count": 37,
   "id": "09d92381",
   "metadata": {},
   "outputs": [],
   "source": [
    "write.table(mergedDat_noNAnoDupnoBad[with(mergedDat_noNAnoDupnoBad,which(correctSpecies != tracker_organism)),c(1:6,12:14)],\n",
    "            \"/workdir/sh2246/p_phyloGWAS/output/metadata_processing/mismatchMetadata.txt\",quote = F,sep = \"\\t\")"
   ]
  },
  {
   "cell_type": "code",
   "execution_count": null,
   "id": "42a2df65",
   "metadata": {},
   "outputs": [],
   "source": [
    "# AN20TSCR000204 should be Anatherum trichozygum"
   ]
  },
  {
   "cell_type": "code",
   "execution_count": null,
   "id": "b9384243",
   "metadata": {},
   "outputs": [],
   "source": [
    "#all good now!! (20240819)"
   ]
  },
  {
   "cell_type": "code",
   "execution_count": null,
   "id": "c3915528",
   "metadata": {},
   "outputs": [],
   "source": [
    "#Real processing start from here"
   ]
  },
  {
   "cell_type": "code",
   "execution_count": 29,
   "id": "5a401fba",
   "metadata": {},
   "outputs": [],
   "source": [
    "limsDat_noNA = limsDat[!is.na(limsDat[,1]),]\n",
    "dupSample2 = unique(limsDat_noNA[duplicated(limsDat[,1]),1])\n",
    "limsDat_noNAnoDup = limsDat_noNA[!(limsDat_noNA[,1]%in%dupSample2&limsDat_noNA$run_id==2),]"
   ]
  },
  {
   "cell_type": "code",
   "execution_count": 30,
   "id": "24eb178a",
   "metadata": {},
   "outputs": [
    {
     "data": {
      "text/html": [
       "<style>\n",
       ".list-inline {list-style: none; margin:0; padding: 0}\n",
       ".list-inline>li {display: inline-block}\n",
       ".list-inline>li:not(:last-child)::after {content: \"\\00b7\"; padding: 0 .5ex}\n",
       "</style>\n",
       "<ol class=list-inline><li>454</li><li>22</li></ol>\n"
      ],
      "text/latex": [
       "\\begin{enumerate*}\n",
       "\\item 454\n",
       "\\item 22\n",
       "\\end{enumerate*}\n"
      ],
      "text/markdown": [
       "1. 454\n",
       "2. 22\n",
       "\n",
       "\n"
      ],
      "text/plain": [
       "[1] 454  22"
      ]
     },
     "metadata": {},
     "output_type": "display_data"
    }
   ],
   "source": [
    "dim(limsDat_noNAnoDup)"
   ]
  },
  {
   "cell_type": "code",
   "execution_count": 31,
   "id": "331339a5",
   "metadata": {},
   "outputs": [
    {
     "data": {
      "text/html": [
       "<table class=\"dataframe\">\n",
       "<caption>A data.frame: 6 × 22</caption>\n",
       "<thead>\n",
       "\t<tr><th></th><th scope=col>tracker_sample_name</th><th scope=col>tracker_organism</th><th scope=col>alternative_names</th><th scope=col>ecotype</th><th scope=col>run_id</th><th scope=col>file</th><th scope=col>total_reads</th><th scope=col>gb_num</th><th scope=col>frac_mapped</th><th scope=col>percent_dup</th><th scope=col>⋯</th><th scope=col>bacteria</th><th scope=col>homo_s</th><th scope=col>tribe_qc</th><th scope=col>genus_qc</th><th scope=col>species</th><th scope=col>matched_gene_and_read_counts</th><th scope=col>tabasco_complete</th><th scope=col>tabasco_duplicated</th><th scope=col>tabasco_fraged</th><th scope=col>tabasco_missing</th></tr>\n",
       "\t<tr><th></th><th scope=col>&lt;chr&gt;</th><th scope=col>&lt;chr&gt;</th><th scope=col>&lt;chr&gt;</th><th scope=col>&lt;chr&gt;</th><th scope=col>&lt;int&gt;</th><th scope=col>&lt;chr&gt;</th><th scope=col>&lt;int&gt;</th><th scope=col>&lt;dbl&gt;</th><th scope=col>&lt;dbl&gt;</th><th scope=col>&lt;dbl&gt;</th><th scope=col>⋯</th><th scope=col>&lt;dbl&gt;</th><th scope=col>&lt;dbl&gt;</th><th scope=col>&lt;chr&gt;</th><th scope=col>&lt;chr&gt;</th><th scope=col>&lt;chr&gt;</th><th scope=col>&lt;chr&gt;</th><th scope=col>&lt;int&gt;</th><th scope=col>&lt;int&gt;</th><th scope=col>&lt;int&gt;</th><th scope=col>&lt;int&gt;</th></tr>\n",
       "</thead>\n",
       "<tbody>\n",
       "\t<tr><th scope=row>1</th><td>AT20TS1MCRTL001</td><td>Rottboellia campestris</td><td>Coelorachis cylindrica (Mnesithea)</td><td>Kellogg 1258      </td><td>1</td><td>MCRTL001_CKDL200164854-1a-AK5140-AK242_HMGJWDSXY_L4 </td><td>272268296</td><td>40.8</td><td>0.366</td><td>0.000</td><td>⋯</td><td>0.45</td><td>1.42</td><td>Andropogoneae</td><td>Mnesithea;Eremochloa;Saccharum        </td><td>helferi;ophiuroides;arundinaceum;eriopoda             </td><td>NC_035036(253);NC_036716(236);NC_030777(214);NC_035023(214)               </td><td>5325</td><td> 107</td><td> 156</td><td>4</td></tr>\n",
       "\t<tr><th scope=row>2</th><td>AT20TS1MCRTL013</td><td>Hyperthelia dissoluta </td><td>                                  </td><td>Kellogg 1137      </td><td>1</td><td>MCRTL013_CKDL200164854-1a-AK5395-AK5927_HMGJWDSXY_L4</td><td>154100842</td><td>23.1</td><td>0.433</td><td>0.147</td><td>⋯</td><td>0.41</td><td>2.30</td><td>Andropogoneae</td><td>Hyparrhenia;Andropogon                </td><td>diplandra;variabilis;subplumosa;greenwayi;gayanus     </td><td>NC_035037(321);NC_040112(321);NC_030625(315);NC_040128(294);NC_040127(280)</td><td>3705</td><td> 662</td><td>1220</td><td>5</td></tr>\n",
       "\t<tr><th scope=row>3</th><td>AT20TS1MCRTL002</td><td>Tripsacum laxum       </td><td>                                  </td><td>Kellogg MIA 34792 </td><td>1</td><td>MCRTL002_CKDL200164854-1a-AK4939-AK6653_HMGJWDSXY_L4</td><td>206616665</td><td>31.0</td><td>0.212</td><td>0.160</td><td>⋯</td><td>0.21</td><td>0.94</td><td>Andropogoneae</td><td>Zea;Saccharum;Tripidium               </td><td>perennis;luxurians;diploperennis;arundinaceum;ravennae</td><td>NC_030300(370);NC_030301(357);NC_030377(357);NC_030777(353);NC_042735(345)</td><td>2497</td><td>1603</td><td>1492</td><td>0</td></tr>\n",
       "\t<tr><th scope=row>4</th><td>AT20TS1MCRTL014</td><td><span style=white-space:pre-wrap>Rottboellia rugosa    </span></td><td><span style=white-space:pre-wrap>Coelorachis rugosa                </span></td><td>Layton &amp; Zhong 162</td><td>1</td><td>MCRTL014_CKDL200164854-1a-AK4937-AK6664_HMGJWDSXY_L4</td><td>237500144</td><td>35.6</td><td>0.385</td><td>0.161</td><td>⋯</td><td>0.91</td><td>1.94</td><td>Andropogoneae</td><td><span style=white-space:pre-wrap>Mnesithea;Eremochloa;Saccharum        </span></td><td><span style=white-space:pre-wrap>helferi;ophiuroides;eriopoda;ciliaris;arundinaceum    </span></td><td>NC_035036(227);NC_036716(214);NC_035023(199);NC_035028(194);NC_030777(191)</td><td>4905</td><td><span style=white-space:pre-wrap>  96</span></td><td> 585</td><td>6</td></tr>\n",
       "\t<tr><th scope=row>5</th><td>AT20TS1MCRTL003</td><td>Euclasta condylotricha</td><td>                                  </td><td>Pasquet 1245      </td><td>1</td><td>MCRTL003_CKDL200164854-1a-AK5159-AK6654_HMGJWDSXY_L4</td><td>271608628</td><td>40.7</td><td>0.513</td><td>0.180</td><td>⋯</td><td>0.32</td><td>1.32</td><td>Andropogoneae</td><td>Bothriochloa;Dichanthium;Capillipedium</td><td>alta;decipiens;annulatum;sericeum;venustum            </td><td>NC_030621(361);NC_040131(355);NC_042145(334);NC_035018(319);NC_030622(318)</td><td>5428</td><td>  78</td><td>  80</td><td>6</td></tr>\n",
       "\t<tr><th scope=row>6</th><td>AT20TS1MCRTL015</td><td>Eulaliopsis binata    </td><td>                                  </td><td>Traiperm 567      </td><td>1</td><td>MCRTL015_CKDL200164854-1a-AK5151-AK6665_HMGJWDSXY_L4</td><td>206938089</td><td>31.0</td><td>0.515</td><td>0.152</td><td>⋯</td><td>0.51</td><td>1.66</td><td>Andropogoneae</td><td>Eulaliopsis                           </td><td>binata                                                </td><td>NC_035049(446)                                                            </td><td>4722</td><td> 409</td><td> 460</td><td>1</td></tr>\n",
       "</tbody>\n",
       "</table>\n"
      ],
      "text/latex": [
       "A data.frame: 6 × 22\n",
       "\\begin{tabular}{r|lllllllllllllllllllll}\n",
       "  & tracker\\_sample\\_name & tracker\\_organism & alternative\\_names & ecotype & run\\_id & file & total\\_reads & gb\\_num & frac\\_mapped & percent\\_dup & ⋯ & bacteria & homo\\_s & tribe\\_qc & genus\\_qc & species & matched\\_gene\\_and\\_read\\_counts & tabasco\\_complete & tabasco\\_duplicated & tabasco\\_fraged & tabasco\\_missing\\\\\n",
       "  & <chr> & <chr> & <chr> & <chr> & <int> & <chr> & <int> & <dbl> & <dbl> & <dbl> & ⋯ & <dbl> & <dbl> & <chr> & <chr> & <chr> & <chr> & <int> & <int> & <int> & <int>\\\\\n",
       "\\hline\n",
       "\t1 & AT20TS1MCRTL001 & Rottboellia campestris & Coelorachis cylindrica (Mnesithea) & Kellogg 1258       & 1 & MCRTL001\\_CKDL200164854-1a-AK5140-AK242\\_HMGJWDSXY\\_L4  & 272268296 & 40.8 & 0.366 & 0.000 & ⋯ & 0.45 & 1.42 & Andropogoneae & Mnesithea;Eremochloa;Saccharum         & helferi;ophiuroides;arundinaceum;eriopoda              & NC\\_035036(253);NC\\_036716(236);NC\\_030777(214);NC\\_035023(214)                & 5325 &  107 &  156 & 4\\\\\n",
       "\t2 & AT20TS1MCRTL013 & Hyperthelia dissoluta  &                                    & Kellogg 1137       & 1 & MCRTL013\\_CKDL200164854-1a-AK5395-AK5927\\_HMGJWDSXY\\_L4 & 154100842 & 23.1 & 0.433 & 0.147 & ⋯ & 0.41 & 2.30 & Andropogoneae & Hyparrhenia;Andropogon                 & diplandra;variabilis;subplumosa;greenwayi;gayanus      & NC\\_035037(321);NC\\_040112(321);NC\\_030625(315);NC\\_040128(294);NC\\_040127(280) & 3705 &  662 & 1220 & 5\\\\\n",
       "\t3 & AT20TS1MCRTL002 & Tripsacum laxum        &                                    & Kellogg MIA 34792  & 1 & MCRTL002\\_CKDL200164854-1a-AK4939-AK6653\\_HMGJWDSXY\\_L4 & 206616665 & 31.0 & 0.212 & 0.160 & ⋯ & 0.21 & 0.94 & Andropogoneae & Zea;Saccharum;Tripidium                & perennis;luxurians;diploperennis;arundinaceum;ravennae & NC\\_030300(370);NC\\_030301(357);NC\\_030377(357);NC\\_030777(353);NC\\_042735(345) & 2497 & 1603 & 1492 & 0\\\\\n",
       "\t4 & AT20TS1MCRTL014 & Rottboellia rugosa     & Coelorachis rugosa                 & Layton \\& Zhong 162 & 1 & MCRTL014\\_CKDL200164854-1a-AK4937-AK6664\\_HMGJWDSXY\\_L4 & 237500144 & 35.6 & 0.385 & 0.161 & ⋯ & 0.91 & 1.94 & Andropogoneae & Mnesithea;Eremochloa;Saccharum         & helferi;ophiuroides;eriopoda;ciliaris;arundinaceum     & NC\\_035036(227);NC\\_036716(214);NC\\_035023(199);NC\\_035028(194);NC\\_030777(191) & 4905 &   96 &  585 & 6\\\\\n",
       "\t5 & AT20TS1MCRTL003 & Euclasta condylotricha &                                    & Pasquet 1245       & 1 & MCRTL003\\_CKDL200164854-1a-AK5159-AK6654\\_HMGJWDSXY\\_L4 & 271608628 & 40.7 & 0.513 & 0.180 & ⋯ & 0.32 & 1.32 & Andropogoneae & Bothriochloa;Dichanthium;Capillipedium & alta;decipiens;annulatum;sericeum;venustum             & NC\\_030621(361);NC\\_040131(355);NC\\_042145(334);NC\\_035018(319);NC\\_030622(318) & 5428 &   78 &   80 & 6\\\\\n",
       "\t6 & AT20TS1MCRTL015 & Eulaliopsis binata     &                                    & Traiperm 567       & 1 & MCRTL015\\_CKDL200164854-1a-AK5151-AK6665\\_HMGJWDSXY\\_L4 & 206938089 & 31.0 & 0.515 & 0.152 & ⋯ & 0.51 & 1.66 & Andropogoneae & Eulaliopsis                            & binata                                                 & NC\\_035049(446)                                                             & 4722 &  409 &  460 & 1\\\\\n",
       "\\end{tabular}\n"
      ],
      "text/markdown": [
       "\n",
       "A data.frame: 6 × 22\n",
       "\n",
       "| <!--/--> | tracker_sample_name &lt;chr&gt; | tracker_organism &lt;chr&gt; | alternative_names &lt;chr&gt; | ecotype &lt;chr&gt; | run_id &lt;int&gt; | file &lt;chr&gt; | total_reads &lt;int&gt; | gb_num &lt;dbl&gt; | frac_mapped &lt;dbl&gt; | percent_dup &lt;dbl&gt; | ⋯ ⋯ | bacteria &lt;dbl&gt; | homo_s &lt;dbl&gt; | tribe_qc &lt;chr&gt; | genus_qc &lt;chr&gt; | species &lt;chr&gt; | matched_gene_and_read_counts &lt;chr&gt; | tabasco_complete &lt;int&gt; | tabasco_duplicated &lt;int&gt; | tabasco_fraged &lt;int&gt; | tabasco_missing &lt;int&gt; |\n",
       "|---|---|---|---|---|---|---|---|---|---|---|---|---|---|---|---|---|---|---|---|---|---|\n",
       "| 1 | AT20TS1MCRTL001 | Rottboellia campestris | Coelorachis cylindrica (Mnesithea) | Kellogg 1258       | 1 | MCRTL001_CKDL200164854-1a-AK5140-AK242_HMGJWDSXY_L4  | 272268296 | 40.8 | 0.366 | 0.000 | ⋯ | 0.45 | 1.42 | Andropogoneae | Mnesithea;Eremochloa;Saccharum         | helferi;ophiuroides;arundinaceum;eriopoda              | NC_035036(253);NC_036716(236);NC_030777(214);NC_035023(214)                | 5325 |  107 |  156 | 4 |\n",
       "| 2 | AT20TS1MCRTL013 | Hyperthelia dissoluta  | <!----> | Kellogg 1137       | 1 | MCRTL013_CKDL200164854-1a-AK5395-AK5927_HMGJWDSXY_L4 | 154100842 | 23.1 | 0.433 | 0.147 | ⋯ | 0.41 | 2.30 | Andropogoneae | Hyparrhenia;Andropogon                 | diplandra;variabilis;subplumosa;greenwayi;gayanus      | NC_035037(321);NC_040112(321);NC_030625(315);NC_040128(294);NC_040127(280) | 3705 |  662 | 1220 | 5 |\n",
       "| 3 | AT20TS1MCRTL002 | Tripsacum laxum        | <!----> | Kellogg MIA 34792  | 1 | MCRTL002_CKDL200164854-1a-AK4939-AK6653_HMGJWDSXY_L4 | 206616665 | 31.0 | 0.212 | 0.160 | ⋯ | 0.21 | 0.94 | Andropogoneae | Zea;Saccharum;Tripidium                | perennis;luxurians;diploperennis;arundinaceum;ravennae | NC_030300(370);NC_030301(357);NC_030377(357);NC_030777(353);NC_042735(345) | 2497 | 1603 | 1492 | 0 |\n",
       "| 4 | AT20TS1MCRTL014 | Rottboellia rugosa     | Coelorachis rugosa                 | Layton &amp; Zhong 162 | 1 | MCRTL014_CKDL200164854-1a-AK4937-AK6664_HMGJWDSXY_L4 | 237500144 | 35.6 | 0.385 | 0.161 | ⋯ | 0.91 | 1.94 | Andropogoneae | Mnesithea;Eremochloa;Saccharum         | helferi;ophiuroides;eriopoda;ciliaris;arundinaceum     | NC_035036(227);NC_036716(214);NC_035023(199);NC_035028(194);NC_030777(191) | 4905 |   96 |  585 | 6 |\n",
       "| 5 | AT20TS1MCRTL003 | Euclasta condylotricha | <!----> | Pasquet 1245       | 1 | MCRTL003_CKDL200164854-1a-AK5159-AK6654_HMGJWDSXY_L4 | 271608628 | 40.7 | 0.513 | 0.180 | ⋯ | 0.32 | 1.32 | Andropogoneae | Bothriochloa;Dichanthium;Capillipedium | alta;decipiens;annulatum;sericeum;venustum             | NC_030621(361);NC_040131(355);NC_042145(334);NC_035018(319);NC_030622(318) | 5428 |   78 |   80 | 6 |\n",
       "| 6 | AT20TS1MCRTL015 | Eulaliopsis binata     | <!----> | Traiperm 567       | 1 | MCRTL015_CKDL200164854-1a-AK5151-AK6665_HMGJWDSXY_L4 | 206938089 | 31.0 | 0.515 | 0.152 | ⋯ | 0.51 | 1.66 | Andropogoneae | Eulaliopsis                            | binata                                                 | NC_035049(446)                                                             | 4722 |  409 |  460 | 1 |\n",
       "\n"
      ],
      "text/plain": [
       "  tracker_sample_name tracker_organism       alternative_names                 \n",
       "1 AT20TS1MCRTL001     Rottboellia campestris Coelorachis cylindrica (Mnesithea)\n",
       "2 AT20TS1MCRTL013     Hyperthelia dissoluta                                    \n",
       "3 AT20TS1MCRTL002     Tripsacum laxum                                          \n",
       "4 AT20TS1MCRTL014     Rottboellia rugosa     Coelorachis rugosa                \n",
       "5 AT20TS1MCRTL003     Euclasta condylotricha                                   \n",
       "6 AT20TS1MCRTL015     Eulaliopsis binata                                       \n",
       "  ecotype            run_id\n",
       "1 Kellogg 1258       1     \n",
       "2 Kellogg 1137       1     \n",
       "3 Kellogg MIA 34792  1     \n",
       "4 Layton & Zhong 162 1     \n",
       "5 Pasquet 1245       1     \n",
       "6 Traiperm 567       1     \n",
       "  file                                                 total_reads gb_num\n",
       "1 MCRTL001_CKDL200164854-1a-AK5140-AK242_HMGJWDSXY_L4  272268296   40.8  \n",
       "2 MCRTL013_CKDL200164854-1a-AK5395-AK5927_HMGJWDSXY_L4 154100842   23.1  \n",
       "3 MCRTL002_CKDL200164854-1a-AK4939-AK6653_HMGJWDSXY_L4 206616665   31.0  \n",
       "4 MCRTL014_CKDL200164854-1a-AK4937-AK6664_HMGJWDSXY_L4 237500144   35.6  \n",
       "5 MCRTL003_CKDL200164854-1a-AK5159-AK6654_HMGJWDSXY_L4 271608628   40.7  \n",
       "6 MCRTL015_CKDL200164854-1a-AK5151-AK6665_HMGJWDSXY_L4 206938089   31.0  \n",
       "  frac_mapped percent_dup ⋯ bacteria homo_s tribe_qc     \n",
       "1 0.366       0.000       ⋯ 0.45     1.42   Andropogoneae\n",
       "2 0.433       0.147       ⋯ 0.41     2.30   Andropogoneae\n",
       "3 0.212       0.160       ⋯ 0.21     0.94   Andropogoneae\n",
       "4 0.385       0.161       ⋯ 0.91     1.94   Andropogoneae\n",
       "5 0.513       0.180       ⋯ 0.32     1.32   Andropogoneae\n",
       "6 0.515       0.152       ⋯ 0.51     1.66   Andropogoneae\n",
       "  genus_qc                              \n",
       "1 Mnesithea;Eremochloa;Saccharum        \n",
       "2 Hyparrhenia;Andropogon                \n",
       "3 Zea;Saccharum;Tripidium               \n",
       "4 Mnesithea;Eremochloa;Saccharum        \n",
       "5 Bothriochloa;Dichanthium;Capillipedium\n",
       "6 Eulaliopsis                           \n",
       "  species                                               \n",
       "1 helferi;ophiuroides;arundinaceum;eriopoda             \n",
       "2 diplandra;variabilis;subplumosa;greenwayi;gayanus     \n",
       "3 perennis;luxurians;diploperennis;arundinaceum;ravennae\n",
       "4 helferi;ophiuroides;eriopoda;ciliaris;arundinaceum    \n",
       "5 alta;decipiens;annulatum;sericeum;venustum            \n",
       "6 binata                                                \n",
       "  matched_gene_and_read_counts                                              \n",
       "1 NC_035036(253);NC_036716(236);NC_030777(214);NC_035023(214)               \n",
       "2 NC_035037(321);NC_040112(321);NC_030625(315);NC_040128(294);NC_040127(280)\n",
       "3 NC_030300(370);NC_030301(357);NC_030377(357);NC_030777(353);NC_042735(345)\n",
       "4 NC_035036(227);NC_036716(214);NC_035023(199);NC_035028(194);NC_030777(191)\n",
       "5 NC_030621(361);NC_040131(355);NC_042145(334);NC_035018(319);NC_030622(318)\n",
       "6 NC_035049(446)                                                            \n",
       "  tabasco_complete tabasco_duplicated tabasco_fraged tabasco_missing\n",
       "1 5325              107                156           4              \n",
       "2 3705              662               1220           5              \n",
       "3 2497             1603               1492           0              \n",
       "4 4905               96                585           6              \n",
       "5 5428               78                 80           6              \n",
       "6 4722              409                460           1              "
      ]
     },
     "metadata": {},
     "output_type": "display_data"
    }
   ],
   "source": [
    "head(limsDat_noNAnoDup)"
   ]
  },
  {
   "cell_type": "code",
   "execution_count": 66,
   "id": "3a45606d",
   "metadata": {},
   "outputs": [],
   "source": [
    "limsDat_noNAnoDupwithAssemblyID = merge(manualDat_panand[,1:2],limsDat_noNAnoDup,by = 'tracker_sample_name',all.y =  T)"
   ]
  },
  {
   "cell_type": "code",
   "execution_count": 67,
   "id": "ee1ab2dc",
   "metadata": {},
   "outputs": [
    {
     "data": {
      "text/html": [
       "<style>\n",
       ".list-inline {list-style: none; margin:0; padding: 0}\n",
       ".list-inline>li {display: inline-block}\n",
       ".list-inline>li:not(:last-child)::after {content: \"\\00b7\"; padding: 0 .5ex}\n",
       "</style>\n",
       "<ol class=list-inline><li>454</li><li>22</li></ol>\n"
      ],
      "text/latex": [
       "\\begin{enumerate*}\n",
       "\\item 454\n",
       "\\item 22\n",
       "\\end{enumerate*}\n"
      ],
      "text/markdown": [
       "1. 454\n",
       "2. 22\n",
       "\n",
       "\n"
      ],
      "text/plain": [
       "[1] 454  22"
      ]
     },
     "metadata": {},
     "output_type": "display_data"
    },
    {
     "data": {
      "text/html": [
       "<style>\n",
       ".list-inline {list-style: none; margin:0; padding: 0}\n",
       ".list-inline>li {display: inline-block}\n",
       ".list-inline>li:not(:last-child)::after {content: \"\\00b7\"; padding: 0 .5ex}\n",
       "</style>\n",
       "<ol class=list-inline><li>454</li><li>23</li></ol>\n"
      ],
      "text/latex": [
       "\\begin{enumerate*}\n",
       "\\item 454\n",
       "\\item 23\n",
       "\\end{enumerate*}\n"
      ],
      "text/markdown": [
       "1. 454\n",
       "2. 23\n",
       "\n",
       "\n"
      ],
      "text/plain": [
       "[1] 454  23"
      ]
     },
     "metadata": {},
     "output_type": "display_data"
    }
   ],
   "source": [
    "dim(limsDat_noNAnoDup)\n",
    "dim(limsDat_noNAnoDupwithAssemblyID)"
   ]
  },
  {
   "cell_type": "code",
   "execution_count": 70,
   "id": "c94cfa23",
   "metadata": {},
   "outputs": [],
   "source": [
    "limsDat_noNAnoDupwithAssemblyID = limsDat_noNAnoDupwithAssemblyID[!duplicated(limsDat_noNAnoDupwithAssemblyID$tracker_sample_name),]"
   ]
  },
  {
   "cell_type": "code",
   "execution_count": 52,
   "id": "f6b5cf40",
   "metadata": {},
   "outputs": [],
   "source": [
    "manualDat_nonPanAndShort = manualDat[!(manualDat$source%in%\"PanAnd\"&manualDat$technology%in%\"Illumina\"),]"
   ]
  },
  {
   "cell_type": "code",
   "execution_count": 53,
   "id": "26d33dc8",
   "metadata": {},
   "outputs": [
    {
     "data": {
      "text/html": [
       "<style>\n",
       ".list-inline {list-style: none; margin:0; padding: 0}\n",
       ".list-inline>li {display: inline-block}\n",
       ".list-inline>li:not(:last-child)::after {content: \"\\00b7\"; padding: 0 .5ex}\n",
       "</style>\n",
       "<ol class=list-inline><li>807</li><li>11</li></ol>\n"
      ],
      "text/latex": [
       "\\begin{enumerate*}\n",
       "\\item 807\n",
       "\\item 11\n",
       "\\end{enumerate*}\n"
      ],
      "text/markdown": [
       "1. 807\n",
       "2. 11\n",
       "\n",
       "\n"
      ],
      "text/plain": [
       "[1] 807  11"
      ]
     },
     "metadata": {},
     "output_type": "display_data"
    },
    {
     "data": {
      "text/html": [
       "479"
      ],
      "text/latex": [
       "479"
      ],
      "text/markdown": [
       "479"
      ],
      "text/plain": [
       "[1] 479"
      ]
     },
     "metadata": {},
     "output_type": "display_data"
    },
    {
     "data": {
      "text/html": [
       "<style>\n",
       ".list-inline {list-style: none; margin:0; padding: 0}\n",
       ".list-inline>li {display: inline-block}\n",
       ".list-inline>li:not(:last-child)::after {content: \"\\00b7\"; padding: 0 .5ex}\n",
       "</style>\n",
       "<ol class=list-inline><li>328</li><li>11</li></ol>\n"
      ],
      "text/latex": [
       "\\begin{enumerate*}\n",
       "\\item 328\n",
       "\\item 11\n",
       "\\end{enumerate*}\n"
      ],
      "text/markdown": [
       "1. 328\n",
       "2. 11\n",
       "\n",
       "\n"
      ],
      "text/plain": [
       "[1] 328  11"
      ]
     },
     "metadata": {},
     "output_type": "display_data"
    }
   ],
   "source": [
    "dim(manualDat)\n",
    "sum(manualDat$source%in%\"PanAnd\"&manualDat$technology%in%\"Illumina\")\n",
    "dim(manualDat_nonPanAndShort)"
   ]
  },
  {
   "cell_type": "code",
   "execution_count": 72,
   "id": "400fca0b",
   "metadata": {},
   "outputs": [
    {
     "data": {
      "text/html": [
       "<style>\n",
       ".list-inline {list-style: none; margin:0; padding: 0}\n",
       ".list-inline>li {display: inline-block}\n",
       ".list-inline>li:not(:last-child)::after {content: \"\\00b7\"; padding: 0 .5ex}\n",
       "</style>\n",
       "<ol class=list-inline><li>327</li><li>11</li></ol>\n"
      ],
      "text/latex": [
       "\\begin{enumerate*}\n",
       "\\item 327\n",
       "\\item 11\n",
       "\\end{enumerate*}\n"
      ],
      "text/markdown": [
       "1. 327\n",
       "2. 11\n",
       "\n",
       "\n"
      ],
      "text/plain": [
       "[1] 327  11"
      ]
     },
     "metadata": {},
     "output_type": "display_data"
    }
   ],
   "source": [
    "manualDat_noBad = manualDat[!manualDat_nonPanAndShort$correctSpecies%in%c(\"Omit\",\"\"),]\n",
    "dim(manualDat_nonPanAndShort_noBad)"
   ]
  },
  {
   "cell_type": "code",
   "execution_count": 73,
   "id": "0dce57a3",
   "metadata": {},
   "outputs": [],
   "source": [
    "colnames(manualDat_nonPanAndShort_noBad)[c(3,7)] = c(\"tracker_organism\",\"alternative_names\")"
   ]
  },
  {
   "cell_type": "code",
   "execution_count": 74,
   "id": "06974461",
   "metadata": {},
   "outputs": [],
   "source": [
    "outMetadata = rbind(limsDat_noNAnoDupwithAssemblyID[,1:3],manualDat_nonPanAndShort_noBad[,c(1:3)])"
   ]
  },
  {
   "cell_type": "code",
   "execution_count": 75,
   "id": "79904442",
   "metadata": {
    "scrolled": false
   },
   "outputs": [
    {
     "data": {
      "text/html": [
       "<table class=\"dataframe\">\n",
       "<caption>A data.frame: 6 × 3</caption>\n",
       "<thead>\n",
       "\t<tr><th></th><th scope=col>tracker_sample_name</th><th scope=col>assemblyID</th><th scope=col>latest_name</th></tr>\n",
       "\t<tr><th></th><th scope=col>&lt;chr&gt;</th><th scope=col>&lt;chr&gt;</th><th scope=col>&lt;chr&gt;</th></tr>\n",
       "</thead>\n",
       "<tbody>\n",
       "\t<tr><th scope=row>1</th><td>AN20TSCR000168</td><td>AN20T168</td><td>Andropogon amethystinus           </td></tr>\n",
       "\t<tr><th scope=row>2</th><td>AN20TSCR000169</td><td>AN20T169</td><td>Anatherum eucomum subsp. huillense</td></tr>\n",
       "\t<tr><th scope=row>3</th><td>AN20TSCR000170</td><td>AN20T170</td><td>Anatherum ibityense               </td></tr>\n",
       "\t<tr><th scope=row>4</th><td>AN20TSCR000172</td><td>AN20T172</td><td>Anatherum ivohibense              </td></tr>\n",
       "\t<tr><th scope=row>5</th><td>AN20TSCR000174</td><td>AN20T174</td><td>Arthraxon antsirabensis           </td></tr>\n",
       "\t<tr><th scope=row>6</th><td>AN20TSCR000175</td><td>AN20T175</td><td>Cymbopogon caesius                </td></tr>\n",
       "</tbody>\n",
       "</table>\n"
      ],
      "text/latex": [
       "A data.frame: 6 × 3\n",
       "\\begin{tabular}{r|lll}\n",
       "  & tracker\\_sample\\_name & assemblyID & latest\\_name\\\\\n",
       "  & <chr> & <chr> & <chr>\\\\\n",
       "\\hline\n",
       "\t1 & AN20TSCR000168 & AN20T168 & Andropogon amethystinus           \\\\\n",
       "\t2 & AN20TSCR000169 & AN20T169 & Anatherum eucomum subsp. huillense\\\\\n",
       "\t3 & AN20TSCR000170 & AN20T170 & Anatherum ibityense               \\\\\n",
       "\t4 & AN20TSCR000172 & AN20T172 & Anatherum ivohibense              \\\\\n",
       "\t5 & AN20TSCR000174 & AN20T174 & Arthraxon antsirabensis           \\\\\n",
       "\t6 & AN20TSCR000175 & AN20T175 & Cymbopogon caesius                \\\\\n",
       "\\end{tabular}\n"
      ],
      "text/markdown": [
       "\n",
       "A data.frame: 6 × 3\n",
       "\n",
       "| <!--/--> | tracker_sample_name &lt;chr&gt; | assemblyID &lt;chr&gt; | latest_name &lt;chr&gt; |\n",
       "|---|---|---|---|\n",
       "| 1 | AN20TSCR000168 | AN20T168 | Andropogon amethystinus            |\n",
       "| 2 | AN20TSCR000169 | AN20T169 | Anatherum eucomum subsp. huillense |\n",
       "| 3 | AN20TSCR000170 | AN20T170 | Anatherum ibityense                |\n",
       "| 4 | AN20TSCR000172 | AN20T172 | Anatherum ivohibense               |\n",
       "| 5 | AN20TSCR000174 | AN20T174 | Arthraxon antsirabensis            |\n",
       "| 6 | AN20TSCR000175 | AN20T175 | Cymbopogon caesius                 |\n",
       "\n"
      ],
      "text/plain": [
       "  tracker_sample_name assemblyID latest_name                       \n",
       "1 AN20TSCR000168      AN20T168   Andropogon amethystinus           \n",
       "2 AN20TSCR000169      AN20T169   Anatherum eucomum subsp. huillense\n",
       "3 AN20TSCR000170      AN20T170   Anatherum ibityense               \n",
       "4 AN20TSCR000172      AN20T172   Anatherum ivohibense              \n",
       "5 AN20TSCR000174      AN20T174   Arthraxon antsirabensis           \n",
       "6 AN20TSCR000175      AN20T175   Cymbopogon caesius                "
      ]
     },
     "metadata": {},
     "output_type": "display_data"
    },
    {
     "data": {
      "text/html": [
       "<table class=\"dataframe\">\n",
       "<caption>A data.frame: 6 × 3</caption>\n",
       "<thead>\n",
       "\t<tr><th></th><th scope=col>tracker_sample_name</th><th scope=col>assemblyID</th><th scope=col>latest_name</th></tr>\n",
       "\t<tr><th></th><th scope=col>&lt;chr&gt;</th><th scope=col>&lt;chr&gt;</th><th scope=col>&lt;chr&gt;</th></tr>\n",
       "</thead>\n",
       "<tbody>\n",
       "\t<tr><th scope=row>802</th><td>NA</td><td>ASM1927943v1 </td><td>Zizania palustris  </td></tr>\n",
       "\t<tr><th scope=row>803</th><td>NA</td><td>ASM160227v1  </td><td>Zoysia japonica    </td></tr>\n",
       "\t<tr><th scope=row>804</th><td>NA</td><td>SRR23951516  </td><td>Zoysia macrostachya</td></tr>\n",
       "\t<tr><th scope=row>805</th><td>NA</td><td>ASM160229v1  </td><td>Zoysia matrella    </td></tr>\n",
       "\t<tr><th scope=row>806</th><td>NA</td><td>ASM160231v1  </td><td>Zoysia pacifica    </td></tr>\n",
       "\t<tr><th scope=row>807</th><td>NA</td><td>Zoysia_sinica</td><td>Zoysia sinica      </td></tr>\n",
       "</tbody>\n",
       "</table>\n"
      ],
      "text/latex": [
       "A data.frame: 6 × 3\n",
       "\\begin{tabular}{r|lll}\n",
       "  & tracker\\_sample\\_name & assemblyID & latest\\_name\\\\\n",
       "  & <chr> & <chr> & <chr>\\\\\n",
       "\\hline\n",
       "\t802 & NA & ASM1927943v1  & Zizania palustris  \\\\\n",
       "\t803 & NA & ASM160227v1   & Zoysia japonica    \\\\\n",
       "\t804 & NA & SRR23951516   & Zoysia macrostachya\\\\\n",
       "\t805 & NA & ASM160229v1   & Zoysia matrella    \\\\\n",
       "\t806 & NA & ASM160231v1   & Zoysia pacifica    \\\\\n",
       "\t807 & NA & Zoysia\\_sinica & Zoysia sinica      \\\\\n",
       "\\end{tabular}\n"
      ],
      "text/markdown": [
       "\n",
       "A data.frame: 6 × 3\n",
       "\n",
       "| <!--/--> | tracker_sample_name &lt;chr&gt; | assemblyID &lt;chr&gt; | latest_name &lt;chr&gt; |\n",
       "|---|---|---|---|\n",
       "| 802 | NA | ASM1927943v1  | Zizania palustris   |\n",
       "| 803 | NA | ASM160227v1   | Zoysia japonica     |\n",
       "| 804 | NA | SRR23951516   | Zoysia macrostachya |\n",
       "| 805 | NA | ASM160229v1   | Zoysia matrella     |\n",
       "| 806 | NA | ASM160231v1   | Zoysia pacifica     |\n",
       "| 807 | NA | Zoysia_sinica | Zoysia sinica       |\n",
       "\n"
      ],
      "text/plain": [
       "    tracker_sample_name assemblyID    latest_name        \n",
       "802 NA                  ASM1927943v1  Zizania palustris  \n",
       "803 NA                  ASM160227v1   Zoysia japonica    \n",
       "804 NA                  SRR23951516   Zoysia macrostachya\n",
       "805 NA                  ASM160229v1   Zoysia matrella    \n",
       "806 NA                  ASM160231v1   Zoysia pacifica    \n",
       "807 NA                  Zoysia_sinica Zoysia sinica      "
      ]
     },
     "metadata": {},
     "output_type": "display_data"
    },
    {
     "data": {
      "text/html": [
       "<style>\n",
       ".list-inline {list-style: none; margin:0; padding: 0}\n",
       ".list-inline>li {display: inline-block}\n",
       ".list-inline>li:not(:last-child)::after {content: \"\\00b7\"; padding: 0 .5ex}\n",
       "</style>\n",
       "<ol class=list-inline><li>781</li><li>3</li></ol>\n"
      ],
      "text/latex": [
       "\\begin{enumerate*}\n",
       "\\item 781\n",
       "\\item 3\n",
       "\\end{enumerate*}\n"
      ],
      "text/markdown": [
       "1. 781\n",
       "2. 3\n",
       "\n",
       "\n"
      ],
      "text/plain": [
       "[1] 781   3"
      ]
     },
     "metadata": {},
     "output_type": "display_data"
    }
   ],
   "source": [
    "outMetadata[outMetadata==\"\"] = NA\n",
    "outMetadata = outMetadata[!is.na(outMetadata$assemblyID),]\n",
    "colnames(outMetadata)[3] = \"latest_name\"\n",
    "head(outMetadata)\n",
    "tail(outMetadata)\n",
    "dim(outMetadata)"
   ]
  },
  {
   "cell_type": "code",
   "execution_count": 76,
   "id": "12fd0c6b",
   "metadata": {},
   "outputs": [
    {
     "data": {
      "text/html": [
       "608"
      ],
      "text/latex": [
       "608"
      ],
      "text/markdown": [
       "608"
      ],
      "text/plain": [
       "[1] 608"
      ]
     },
     "metadata": {},
     "output_type": "display_data"
    }
   ],
   "source": [
    "length(unique(outMetadata$latest_name))"
   ]
  },
  {
   "cell_type": "code",
   "execution_count": 77,
   "id": "2c06bd51",
   "metadata": {},
   "outputs": [
    {
     "data": {
      "text/html": [
       "<table class=\"dataframe\">\n",
       "<caption>A data.frame: 781 × 3</caption>\n",
       "<thead>\n",
       "\t<tr><th></th><th scope=col>tracker_sample_name</th><th scope=col>assemblyID</th><th scope=col>latest_name</th></tr>\n",
       "\t<tr><th></th><th scope=col>&lt;chr&gt;</th><th scope=col>&lt;chr&gt;</th><th scope=col>&lt;chr&gt;</th></tr>\n",
       "</thead>\n",
       "<tbody>\n",
       "\t<tr><th scope=row>1</th><td>AN20TSCR000168</td><td>AN20T168      </td><td>Andropogon amethystinus           </td></tr>\n",
       "\t<tr><th scope=row>2</th><td>AN20TSCR000169</td><td>AN20T169      </td><td>Anatherum eucomum subsp. huillense</td></tr>\n",
       "\t<tr><th scope=row>3</th><td>AN20TSCR000170</td><td>AN20T170      </td><td>Anatherum ibityense               </td></tr>\n",
       "\t<tr><th scope=row>4</th><td>AN20TSCR000172</td><td>AN20T172      </td><td>Anatherum ivohibense              </td></tr>\n",
       "\t<tr><th scope=row>5</th><td>AN20TSCR000174</td><td>AN20T174      </td><td>Arthraxon antsirabensis           </td></tr>\n",
       "\t<tr><th scope=row>6</th><td>AN20TSCR000175</td><td>AN20T175      </td><td>Cymbopogon caesius                </td></tr>\n",
       "\t<tr><th scope=row>7</th><td>AN20TSCR000176</td><td>AN20T176      </td><td>Chrysopogon humbertianus          </td></tr>\n",
       "\t<tr><th scope=row>8</th><td>AN20TSCR000177</td><td>AN20T177      </td><td>Dichanthium aristatum             </td></tr>\n",
       "\t<tr><th scope=row>9</th><td>AN20TSCR000179</td><td>AN20T179      </td><td>Cymbopogon commutatus             </td></tr>\n",
       "\t<tr><th scope=row>10</th><td>AN20TSCR000183</td><td>AN20T183      </td><td>Diheteropogon amplectens          </td></tr>\n",
       "\t<tr><th scope=row>11</th><td>AN20TSCR000184</td><td>AN20T184      </td><td>Diheteropogon filifolius          </td></tr>\n",
       "\t<tr><th scope=row>12</th><td>AN20TSCR000185</td><td>AN20T185      </td><td>Elionurus muticus                 </td></tr>\n",
       "\t<tr><th scope=row>13</th><td>AN20TSCR000190</td><td>AN20T190      </td><td>Hemarthria altissima              </td></tr>\n",
       "\t<tr><th scope=row>14</th><td>AN20TSCR000191</td><td>AN20T191      </td><td>Heteropogon melanocarpus          </td></tr>\n",
       "\t<tr><th scope=row>15</th><td>AN20TSCR000192</td><td>AN20T192      </td><td>Hyparrhenia mobukensis            </td></tr>\n",
       "\t<tr><th scope=row>16</th><td>AN20TSCR000193</td><td>AN20T193      </td><td>Eulalia polyneura                 </td></tr>\n",
       "\t<tr><th scope=row>17</th><td>AN20TSCR000194</td><td>AN20T194      </td><td>Ischaemum heterotrichum           </td></tr>\n",
       "\t<tr><th scope=row>18</th><td>AN20TSCR000195</td><td>AN20T195      </td><td>Ischaemum koleostachys            </td></tr>\n",
       "\t<tr><th scope=row>19</th><td>AN20TSCR000196</td><td>AN20T196      </td><td>Ischaemum polystachyum            </td></tr>\n",
       "\t<tr><th scope=row>20</th><td>AN20TSCR000197</td><td>AN20T197      </td><td>Microstegium nudum                </td></tr>\n",
       "\t<tr><th scope=row>21</th><td>AN20TSCR000198</td><td>AN20T004      </td><td>Andropogon sp.                    </td></tr>\n",
       "\t<tr><th scope=row>22</th><td>AN20TSCR000199</td><td>AN20TSCR000199</td><td>Bothriochloa pertusa              </td></tr>\n",
       "\t<tr><th scope=row>23</th><td>AN20TSCR000200</td><td>AN20T014      </td><td>Bothriochloa decipiens            </td></tr>\n",
       "\t<tr><th scope=row>24</th><td>AN20TSCR000201</td><td>AN20T019      </td><td>Hemarthria uncinata               </td></tr>\n",
       "\t<tr><th scope=row>25</th><td>AN20TSCR000202</td><td>AN20T021      </td><td>Anatherum eucomum subsp. huillense</td></tr>\n",
       "\t<tr><th scope=row>26</th><td>AN20TSCR000203</td><td>AN20T023      </td><td>Lasiorhachis perrieri             </td></tr>\n",
       "\t<tr><th scope=row>27</th><td>AN20TSCR000204</td><td>AN20T035      </td><td>Anatherum trichozygum             </td></tr>\n",
       "\t<tr><th scope=row>28</th><td>AN20TSCR000205</td><td>AN20T036      </td><td>Andropogon itremoensis            </td></tr>\n",
       "\t<tr><th scope=row>29</th><td>AN20TSCR000206</td><td>AN20T039      </td><td>Anatherum ivohibense              </td></tr>\n",
       "\t<tr><th scope=row>30</th><td>AN20TSCR000207</td><td>AN20T041      </td><td>Microstegium nudum                </td></tr>\n",
       "\t<tr><th scope=row>⋮</th><td>⋮</td><td>⋮</td><td>⋮</td></tr>\n",
       "\t<tr><th scope=row>767</th><td>NA</td><td>lpTucGree1.0.hap2                 </td><td>Tuctoria greenei                 </td></tr>\n",
       "\t<tr><th scope=row>772</th><td>NA</td><td>Ud-Pasquet1171-DRAFT-PanAnd-1.0   </td><td>Urelytrum digitatum              </td></tr>\n",
       "\t<tr><th scope=row>775</th><td>NA</td><td>Urochloa_brizantha                </td><td>Urochloa brizantha               </td></tr>\n",
       "\t<tr><th scope=row>776</th><td>NA</td><td>Embrapa_Uruz_1.0                  </td><td>Urochloa ruziziensis             </td></tr>\n",
       "\t<tr><th scope=row>777</th><td>NA</td><td>Bruz                              </td><td>Urochloa ruziziensis             </td></tr>\n",
       "\t<tr><th scope=row>779</th><td>NA</td><td>Vc-Pasquet1098-DRAFT-PanAnd-1.0   </td><td>Vossia cuspidata                 </td></tr>\n",
       "\t<tr><th scope=row>782</th><td>NA</td><td>Zd-Gigi-REFERENCE-PanAnd-1.0      </td><td>Zea diploperennis                </td></tr>\n",
       "\t<tr><th scope=row>783</th><td>NA</td><td>Zd-Momo-REFERENCE-PanAnd-1.0      </td><td>Zea diploperennis                </td></tr>\n",
       "\t<tr><th scope=row>784</th><td>NA</td><td>Zl-RIL003-REFERENCE-PanAnd-1.0    </td><td>Zea luxurians                    </td></tr>\n",
       "\t<tr><th scope=row>785</th><td>NA</td><td>ASM2944929v1                      </td><td>Zea luxurians                    </td></tr>\n",
       "\t<tr><th scope=row>786</th><td>NA</td><td>Zm-B73-REFERENCE-NAM-5.0          </td><td>Zea mays                         </td></tr>\n",
       "\t<tr><th scope=row>787</th><td>NA</td><td>Zm-B73-REFERENCE-NAM-5.0          </td><td>Zea mays                         </td></tr>\n",
       "\t<tr><th scope=row>788</th><td>NA</td><td>Zm-Mo17-REFERENCE-CAU-T2T-assembly</td><td>Zea mays                         </td></tr>\n",
       "\t<tr><th scope=row>789</th><td>NA</td><td>Zm-NC350-REFERENCE-NAM-1.0        </td><td>Zea mays                         </td></tr>\n",
       "\t<tr><th scope=row>790</th><td>NA</td><td>Zm-P39-REFERENCE-NAM-1.0          </td><td>Zea mays                         </td></tr>\n",
       "\t<tr><th scope=row>791</th><td>NA</td><td>Zm-CML322-REFERENCE-NAM-1.0       </td><td>Zea mays                         </td></tr>\n",
       "\t<tr><th scope=row>792</th><td>NA</td><td>Zh-RIMHU001-REFERENCE-PanAnd-1.0  </td><td>Zea mays subsp. huehuetenangensis</td></tr>\n",
       "\t<tr><th scope=row>793</th><td>NA</td><td>Zx-PI566673-REFERENCE-YAN-1.0     </td><td>Zea mays subsp. mexicana         </td></tr>\n",
       "\t<tr><th scope=row>794</th><td>NA</td><td>Zx-TIL18-REFERENCE-PanAnd-1.0     </td><td>Zea mays subsp. mexicana         </td></tr>\n",
       "\t<tr><th scope=row>795</th><td>NA</td><td>Zx-TIL25-REFERENCE-PanAnd-1.0     </td><td>Zea mays subsp. mexicana         </td></tr>\n",
       "\t<tr><th scope=row>796</th><td>NA</td><td>Zv-TIL01-REFERENCE-PanAnd-1.0     </td><td>Zea mays subsp. parviglumis      </td></tr>\n",
       "\t<tr><th scope=row>797</th><td>NA</td><td>Zv-TIL11-REFERENCE-PanAnd-1.0     </td><td>Zea mays subsp. parviglumis      </td></tr>\n",
       "\t<tr><th scope=row>799</th><td>NA</td><td>Zn-PI615697-REFERENCE-PanAnd-1.0  </td><td>Zea nicaraguensis                </td></tr>\n",
       "\t<tr><th scope=row>801</th><td>NA</td><td>Zizania_latifolia_v01             </td><td>Zizania latifolia                </td></tr>\n",
       "\t<tr><th scope=row>802</th><td>NA</td><td>ASM1927943v1                      </td><td>Zizania palustris                </td></tr>\n",
       "\t<tr><th scope=row>803</th><td>NA</td><td>ASM160227v1                       </td><td>Zoysia japonica                  </td></tr>\n",
       "\t<tr><th scope=row>804</th><td>NA</td><td>SRR23951516                       </td><td>Zoysia macrostachya              </td></tr>\n",
       "\t<tr><th scope=row>805</th><td>NA</td><td>ASM160229v1                       </td><td>Zoysia matrella                  </td></tr>\n",
       "\t<tr><th scope=row>806</th><td>NA</td><td>ASM160231v1                       </td><td>Zoysia pacifica                  </td></tr>\n",
       "\t<tr><th scope=row>807</th><td>NA</td><td>Zoysia_sinica                     </td><td>Zoysia sinica                    </td></tr>\n",
       "</tbody>\n",
       "</table>\n"
      ],
      "text/latex": [
       "A data.frame: 781 × 3\n",
       "\\begin{tabular}{r|lll}\n",
       "  & tracker\\_sample\\_name & assemblyID & latest\\_name\\\\\n",
       "  & <chr> & <chr> & <chr>\\\\\n",
       "\\hline\n",
       "\t1 & AN20TSCR000168 & AN20T168       & Andropogon amethystinus           \\\\\n",
       "\t2 & AN20TSCR000169 & AN20T169       & Anatherum eucomum subsp. huillense\\\\\n",
       "\t3 & AN20TSCR000170 & AN20T170       & Anatherum ibityense               \\\\\n",
       "\t4 & AN20TSCR000172 & AN20T172       & Anatherum ivohibense              \\\\\n",
       "\t5 & AN20TSCR000174 & AN20T174       & Arthraxon antsirabensis           \\\\\n",
       "\t6 & AN20TSCR000175 & AN20T175       & Cymbopogon caesius                \\\\\n",
       "\t7 & AN20TSCR000176 & AN20T176       & Chrysopogon humbertianus          \\\\\n",
       "\t8 & AN20TSCR000177 & AN20T177       & Dichanthium aristatum             \\\\\n",
       "\t9 & AN20TSCR000179 & AN20T179       & Cymbopogon commutatus             \\\\\n",
       "\t10 & AN20TSCR000183 & AN20T183       & Diheteropogon amplectens          \\\\\n",
       "\t11 & AN20TSCR000184 & AN20T184       & Diheteropogon filifolius          \\\\\n",
       "\t12 & AN20TSCR000185 & AN20T185       & Elionurus muticus                 \\\\\n",
       "\t13 & AN20TSCR000190 & AN20T190       & Hemarthria altissima              \\\\\n",
       "\t14 & AN20TSCR000191 & AN20T191       & Heteropogon melanocarpus          \\\\\n",
       "\t15 & AN20TSCR000192 & AN20T192       & Hyparrhenia mobukensis            \\\\\n",
       "\t16 & AN20TSCR000193 & AN20T193       & Eulalia polyneura                 \\\\\n",
       "\t17 & AN20TSCR000194 & AN20T194       & Ischaemum heterotrichum           \\\\\n",
       "\t18 & AN20TSCR000195 & AN20T195       & Ischaemum koleostachys            \\\\\n",
       "\t19 & AN20TSCR000196 & AN20T196       & Ischaemum polystachyum            \\\\\n",
       "\t20 & AN20TSCR000197 & AN20T197       & Microstegium nudum                \\\\\n",
       "\t21 & AN20TSCR000198 & AN20T004       & Andropogon sp.                    \\\\\n",
       "\t22 & AN20TSCR000199 & AN20TSCR000199 & Bothriochloa pertusa              \\\\\n",
       "\t23 & AN20TSCR000200 & AN20T014       & Bothriochloa decipiens            \\\\\n",
       "\t24 & AN20TSCR000201 & AN20T019       & Hemarthria uncinata               \\\\\n",
       "\t25 & AN20TSCR000202 & AN20T021       & Anatherum eucomum subsp. huillense\\\\\n",
       "\t26 & AN20TSCR000203 & AN20T023       & Lasiorhachis perrieri             \\\\\n",
       "\t27 & AN20TSCR000204 & AN20T035       & Anatherum trichozygum             \\\\\n",
       "\t28 & AN20TSCR000205 & AN20T036       & Andropogon itremoensis            \\\\\n",
       "\t29 & AN20TSCR000206 & AN20T039       & Anatherum ivohibense              \\\\\n",
       "\t30 & AN20TSCR000207 & AN20T041       & Microstegium nudum                \\\\\n",
       "\t⋮ & ⋮ & ⋮ & ⋮\\\\\n",
       "\t767 & NA & lpTucGree1.0.hap2                  & Tuctoria greenei                 \\\\\n",
       "\t772 & NA & Ud-Pasquet1171-DRAFT-PanAnd-1.0    & Urelytrum digitatum              \\\\\n",
       "\t775 & NA & Urochloa\\_brizantha                 & Urochloa brizantha               \\\\\n",
       "\t776 & NA & Embrapa\\_Uruz\\_1.0                   & Urochloa ruziziensis             \\\\\n",
       "\t777 & NA & Bruz                               & Urochloa ruziziensis             \\\\\n",
       "\t779 & NA & Vc-Pasquet1098-DRAFT-PanAnd-1.0    & Vossia cuspidata                 \\\\\n",
       "\t782 & NA & Zd-Gigi-REFERENCE-PanAnd-1.0       & Zea diploperennis                \\\\\n",
       "\t783 & NA & Zd-Momo-REFERENCE-PanAnd-1.0       & Zea diploperennis                \\\\\n",
       "\t784 & NA & Zl-RIL003-REFERENCE-PanAnd-1.0     & Zea luxurians                    \\\\\n",
       "\t785 & NA & ASM2944929v1                       & Zea luxurians                    \\\\\n",
       "\t786 & NA & Zm-B73-REFERENCE-NAM-5.0           & Zea mays                         \\\\\n",
       "\t787 & NA & Zm-B73-REFERENCE-NAM-5.0           & Zea mays                         \\\\\n",
       "\t788 & NA & Zm-Mo17-REFERENCE-CAU-T2T-assembly & Zea mays                         \\\\\n",
       "\t789 & NA & Zm-NC350-REFERENCE-NAM-1.0         & Zea mays                         \\\\\n",
       "\t790 & NA & Zm-P39-REFERENCE-NAM-1.0           & Zea mays                         \\\\\n",
       "\t791 & NA & Zm-CML322-REFERENCE-NAM-1.0        & Zea mays                         \\\\\n",
       "\t792 & NA & Zh-RIMHU001-REFERENCE-PanAnd-1.0   & Zea mays subsp. huehuetenangensis\\\\\n",
       "\t793 & NA & Zx-PI566673-REFERENCE-YAN-1.0      & Zea mays subsp. mexicana         \\\\\n",
       "\t794 & NA & Zx-TIL18-REFERENCE-PanAnd-1.0      & Zea mays subsp. mexicana         \\\\\n",
       "\t795 & NA & Zx-TIL25-REFERENCE-PanAnd-1.0      & Zea mays subsp. mexicana         \\\\\n",
       "\t796 & NA & Zv-TIL01-REFERENCE-PanAnd-1.0      & Zea mays subsp. parviglumis      \\\\\n",
       "\t797 & NA & Zv-TIL11-REFERENCE-PanAnd-1.0      & Zea mays subsp. parviglumis      \\\\\n",
       "\t799 & NA & Zn-PI615697-REFERENCE-PanAnd-1.0   & Zea nicaraguensis                \\\\\n",
       "\t801 & NA & Zizania\\_latifolia\\_v01              & Zizania latifolia                \\\\\n",
       "\t802 & NA & ASM1927943v1                       & Zizania palustris                \\\\\n",
       "\t803 & NA & ASM160227v1                        & Zoysia japonica                  \\\\\n",
       "\t804 & NA & SRR23951516                        & Zoysia macrostachya              \\\\\n",
       "\t805 & NA & ASM160229v1                        & Zoysia matrella                  \\\\\n",
       "\t806 & NA & ASM160231v1                        & Zoysia pacifica                  \\\\\n",
       "\t807 & NA & Zoysia\\_sinica                      & Zoysia sinica                    \\\\\n",
       "\\end{tabular}\n"
      ],
      "text/markdown": [
       "\n",
       "A data.frame: 781 × 3\n",
       "\n",
       "| <!--/--> | tracker_sample_name &lt;chr&gt; | assemblyID &lt;chr&gt; | latest_name &lt;chr&gt; |\n",
       "|---|---|---|---|\n",
       "| 1 | AN20TSCR000168 | AN20T168       | Andropogon amethystinus            |\n",
       "| 2 | AN20TSCR000169 | AN20T169       | Anatherum eucomum subsp. huillense |\n",
       "| 3 | AN20TSCR000170 | AN20T170       | Anatherum ibityense                |\n",
       "| 4 | AN20TSCR000172 | AN20T172       | Anatherum ivohibense               |\n",
       "| 5 | AN20TSCR000174 | AN20T174       | Arthraxon antsirabensis            |\n",
       "| 6 | AN20TSCR000175 | AN20T175       | Cymbopogon caesius                 |\n",
       "| 7 | AN20TSCR000176 | AN20T176       | Chrysopogon humbertianus           |\n",
       "| 8 | AN20TSCR000177 | AN20T177       | Dichanthium aristatum              |\n",
       "| 9 | AN20TSCR000179 | AN20T179       | Cymbopogon commutatus              |\n",
       "| 10 | AN20TSCR000183 | AN20T183       | Diheteropogon amplectens           |\n",
       "| 11 | AN20TSCR000184 | AN20T184       | Diheteropogon filifolius           |\n",
       "| 12 | AN20TSCR000185 | AN20T185       | Elionurus muticus                  |\n",
       "| 13 | AN20TSCR000190 | AN20T190       | Hemarthria altissima               |\n",
       "| 14 | AN20TSCR000191 | AN20T191       | Heteropogon melanocarpus           |\n",
       "| 15 | AN20TSCR000192 | AN20T192       | Hyparrhenia mobukensis             |\n",
       "| 16 | AN20TSCR000193 | AN20T193       | Eulalia polyneura                  |\n",
       "| 17 | AN20TSCR000194 | AN20T194       | Ischaemum heterotrichum            |\n",
       "| 18 | AN20TSCR000195 | AN20T195       | Ischaemum koleostachys             |\n",
       "| 19 | AN20TSCR000196 | AN20T196       | Ischaemum polystachyum             |\n",
       "| 20 | AN20TSCR000197 | AN20T197       | Microstegium nudum                 |\n",
       "| 21 | AN20TSCR000198 | AN20T004       | Andropogon sp.                     |\n",
       "| 22 | AN20TSCR000199 | AN20TSCR000199 | Bothriochloa pertusa               |\n",
       "| 23 | AN20TSCR000200 | AN20T014       | Bothriochloa decipiens             |\n",
       "| 24 | AN20TSCR000201 | AN20T019       | Hemarthria uncinata                |\n",
       "| 25 | AN20TSCR000202 | AN20T021       | Anatherum eucomum subsp. huillense |\n",
       "| 26 | AN20TSCR000203 | AN20T023       | Lasiorhachis perrieri              |\n",
       "| 27 | AN20TSCR000204 | AN20T035       | Anatherum trichozygum              |\n",
       "| 28 | AN20TSCR000205 | AN20T036       | Andropogon itremoensis             |\n",
       "| 29 | AN20TSCR000206 | AN20T039       | Anatherum ivohibense               |\n",
       "| 30 | AN20TSCR000207 | AN20T041       | Microstegium nudum                 |\n",
       "| ⋮ | ⋮ | ⋮ | ⋮ |\n",
       "| 767 | NA | lpTucGree1.0.hap2                  | Tuctoria greenei                  |\n",
       "| 772 | NA | Ud-Pasquet1171-DRAFT-PanAnd-1.0    | Urelytrum digitatum               |\n",
       "| 775 | NA | Urochloa_brizantha                 | Urochloa brizantha                |\n",
       "| 776 | NA | Embrapa_Uruz_1.0                   | Urochloa ruziziensis              |\n",
       "| 777 | NA | Bruz                               | Urochloa ruziziensis              |\n",
       "| 779 | NA | Vc-Pasquet1098-DRAFT-PanAnd-1.0    | Vossia cuspidata                  |\n",
       "| 782 | NA | Zd-Gigi-REFERENCE-PanAnd-1.0       | Zea diploperennis                 |\n",
       "| 783 | NA | Zd-Momo-REFERENCE-PanAnd-1.0       | Zea diploperennis                 |\n",
       "| 784 | NA | Zl-RIL003-REFERENCE-PanAnd-1.0     | Zea luxurians                     |\n",
       "| 785 | NA | ASM2944929v1                       | Zea luxurians                     |\n",
       "| 786 | NA | Zm-B73-REFERENCE-NAM-5.0           | Zea mays                          |\n",
       "| 787 | NA | Zm-B73-REFERENCE-NAM-5.0           | Zea mays                          |\n",
       "| 788 | NA | Zm-Mo17-REFERENCE-CAU-T2T-assembly | Zea mays                          |\n",
       "| 789 | NA | Zm-NC350-REFERENCE-NAM-1.0         | Zea mays                          |\n",
       "| 790 | NA | Zm-P39-REFERENCE-NAM-1.0           | Zea mays                          |\n",
       "| 791 | NA | Zm-CML322-REFERENCE-NAM-1.0        | Zea mays                          |\n",
       "| 792 | NA | Zh-RIMHU001-REFERENCE-PanAnd-1.0   | Zea mays subsp. huehuetenangensis |\n",
       "| 793 | NA | Zx-PI566673-REFERENCE-YAN-1.0      | Zea mays subsp. mexicana          |\n",
       "| 794 | NA | Zx-TIL18-REFERENCE-PanAnd-1.0      | Zea mays subsp. mexicana          |\n",
       "| 795 | NA | Zx-TIL25-REFERENCE-PanAnd-1.0      | Zea mays subsp. mexicana          |\n",
       "| 796 | NA | Zv-TIL01-REFERENCE-PanAnd-1.0      | Zea mays subsp. parviglumis       |\n",
       "| 797 | NA | Zv-TIL11-REFERENCE-PanAnd-1.0      | Zea mays subsp. parviglumis       |\n",
       "| 799 | NA | Zn-PI615697-REFERENCE-PanAnd-1.0   | Zea nicaraguensis                 |\n",
       "| 801 | NA | Zizania_latifolia_v01              | Zizania latifolia                 |\n",
       "| 802 | NA | ASM1927943v1                       | Zizania palustris                 |\n",
       "| 803 | NA | ASM160227v1                        | Zoysia japonica                   |\n",
       "| 804 | NA | SRR23951516                        | Zoysia macrostachya               |\n",
       "| 805 | NA | ASM160229v1                        | Zoysia matrella                   |\n",
       "| 806 | NA | ASM160231v1                        | Zoysia pacifica                   |\n",
       "| 807 | NA | Zoysia_sinica                      | Zoysia sinica                     |\n",
       "\n"
      ],
      "text/plain": [
       "    tracker_sample_name assemblyID                        \n",
       "1   AN20TSCR000168      AN20T168                          \n",
       "2   AN20TSCR000169      AN20T169                          \n",
       "3   AN20TSCR000170      AN20T170                          \n",
       "4   AN20TSCR000172      AN20T172                          \n",
       "5   AN20TSCR000174      AN20T174                          \n",
       "6   AN20TSCR000175      AN20T175                          \n",
       "7   AN20TSCR000176      AN20T176                          \n",
       "8   AN20TSCR000177      AN20T177                          \n",
       "9   AN20TSCR000179      AN20T179                          \n",
       "10  AN20TSCR000183      AN20T183                          \n",
       "11  AN20TSCR000184      AN20T184                          \n",
       "12  AN20TSCR000185      AN20T185                          \n",
       "13  AN20TSCR000190      AN20T190                          \n",
       "14  AN20TSCR000191      AN20T191                          \n",
       "15  AN20TSCR000192      AN20T192                          \n",
       "16  AN20TSCR000193      AN20T193                          \n",
       "17  AN20TSCR000194      AN20T194                          \n",
       "18  AN20TSCR000195      AN20T195                          \n",
       "19  AN20TSCR000196      AN20T196                          \n",
       "20  AN20TSCR000197      AN20T197                          \n",
       "21  AN20TSCR000198      AN20T004                          \n",
       "22  AN20TSCR000199      AN20TSCR000199                    \n",
       "23  AN20TSCR000200      AN20T014                          \n",
       "24  AN20TSCR000201      AN20T019                          \n",
       "25  AN20TSCR000202      AN20T021                          \n",
       "26  AN20TSCR000203      AN20T023                          \n",
       "27  AN20TSCR000204      AN20T035                          \n",
       "28  AN20TSCR000205      AN20T036                          \n",
       "29  AN20TSCR000206      AN20T039                          \n",
       "30  AN20TSCR000207      AN20T041                          \n",
       "⋮   ⋮                   ⋮                                 \n",
       "767 NA                  lpTucGree1.0.hap2                 \n",
       "772 NA                  Ud-Pasquet1171-DRAFT-PanAnd-1.0   \n",
       "775 NA                  Urochloa_brizantha                \n",
       "776 NA                  Embrapa_Uruz_1.0                  \n",
       "777 NA                  Bruz                              \n",
       "779 NA                  Vc-Pasquet1098-DRAFT-PanAnd-1.0   \n",
       "782 NA                  Zd-Gigi-REFERENCE-PanAnd-1.0      \n",
       "783 NA                  Zd-Momo-REFERENCE-PanAnd-1.0      \n",
       "784 NA                  Zl-RIL003-REFERENCE-PanAnd-1.0    \n",
       "785 NA                  ASM2944929v1                      \n",
       "786 NA                  Zm-B73-REFERENCE-NAM-5.0          \n",
       "787 NA                  Zm-B73-REFERENCE-NAM-5.0          \n",
       "788 NA                  Zm-Mo17-REFERENCE-CAU-T2T-assembly\n",
       "789 NA                  Zm-NC350-REFERENCE-NAM-1.0        \n",
       "790 NA                  Zm-P39-REFERENCE-NAM-1.0          \n",
       "791 NA                  Zm-CML322-REFERENCE-NAM-1.0       \n",
       "792 NA                  Zh-RIMHU001-REFERENCE-PanAnd-1.0  \n",
       "793 NA                  Zx-PI566673-REFERENCE-YAN-1.0     \n",
       "794 NA                  Zx-TIL18-REFERENCE-PanAnd-1.0     \n",
       "795 NA                  Zx-TIL25-REFERENCE-PanAnd-1.0     \n",
       "796 NA                  Zv-TIL01-REFERENCE-PanAnd-1.0     \n",
       "797 NA                  Zv-TIL11-REFERENCE-PanAnd-1.0     \n",
       "799 NA                  Zn-PI615697-REFERENCE-PanAnd-1.0  \n",
       "801 NA                  Zizania_latifolia_v01             \n",
       "802 NA                  ASM1927943v1                      \n",
       "803 NA                  ASM160227v1                       \n",
       "804 NA                  SRR23951516                       \n",
       "805 NA                  ASM160229v1                       \n",
       "806 NA                  ASM160231v1                       \n",
       "807 NA                  Zoysia_sinica                     \n",
       "    latest_name                       \n",
       "1   Andropogon amethystinus           \n",
       "2   Anatherum eucomum subsp. huillense\n",
       "3   Anatherum ibityense               \n",
       "4   Anatherum ivohibense              \n",
       "5   Arthraxon antsirabensis           \n",
       "6   Cymbopogon caesius                \n",
       "7   Chrysopogon humbertianus          \n",
       "8   Dichanthium aristatum             \n",
       "9   Cymbopogon commutatus             \n",
       "10  Diheteropogon amplectens          \n",
       "11  Diheteropogon filifolius          \n",
       "12  Elionurus muticus                 \n",
       "13  Hemarthria altissima              \n",
       "14  Heteropogon melanocarpus          \n",
       "15  Hyparrhenia mobukensis            \n",
       "16  Eulalia polyneura                 \n",
       "17  Ischaemum heterotrichum           \n",
       "18  Ischaemum koleostachys            \n",
       "19  Ischaemum polystachyum            \n",
       "20  Microstegium nudum                \n",
       "21  Andropogon sp.                    \n",
       "22  Bothriochloa pertusa              \n",
       "23  Bothriochloa decipiens            \n",
       "24  Hemarthria uncinata               \n",
       "25  Anatherum eucomum subsp. huillense\n",
       "26  Lasiorhachis perrieri             \n",
       "27  Anatherum trichozygum             \n",
       "28  Andropogon itremoensis            \n",
       "29  Anatherum ivohibense              \n",
       "30  Microstegium nudum                \n",
       "⋮   ⋮                                 \n",
       "767 Tuctoria greenei                  \n",
       "772 Urelytrum digitatum               \n",
       "775 Urochloa brizantha                \n",
       "776 Urochloa ruziziensis              \n",
       "777 Urochloa ruziziensis              \n",
       "779 Vossia cuspidata                  \n",
       "782 Zea diploperennis                 \n",
       "783 Zea diploperennis                 \n",
       "784 Zea luxurians                     \n",
       "785 Zea luxurians                     \n",
       "786 Zea mays                          \n",
       "787 Zea mays                          \n",
       "788 Zea mays                          \n",
       "789 Zea mays                          \n",
       "790 Zea mays                          \n",
       "791 Zea mays                          \n",
       "792 Zea mays subsp. huehuetenangensis \n",
       "793 Zea mays subsp. mexicana          \n",
       "794 Zea mays subsp. mexicana          \n",
       "795 Zea mays subsp. mexicana          \n",
       "796 Zea mays subsp. parviglumis       \n",
       "797 Zea mays subsp. parviglumis       \n",
       "799 Zea nicaraguensis                 \n",
       "801 Zizania latifolia                 \n",
       "802 Zizania palustris                 \n",
       "803 Zoysia japonica                   \n",
       "804 Zoysia macrostachya               \n",
       "805 Zoysia matrella                   \n",
       "806 Zoysia pacifica                   \n",
       "807 Zoysia sinica                     "
      ]
     },
     "metadata": {},
     "output_type": "display_data"
    }
   ],
   "source": [
    "outMetadata"
   ]
  },
  {
   "cell_type": "code",
   "execution_count": 315,
   "id": "fec7e3df",
   "metadata": {},
   "outputs": [],
   "source": [
    "write.table(outMetadata,\"/workdir/sh2246/p_phyloGWAS/data/assembly2spNameMetadata_20240819.txt\",row.names = F,col.names = T,quote = F,sep = \"\\t\")"
   ]
  },
  {
   "cell_type": "code",
   "execution_count": 78,
   "id": "bb2b57cf",
   "metadata": {},
   "outputs": [],
   "source": [
    "testMetadata = rbind(limsDat_noNAnoDupwithAssemblyID[,3:4],manualDat_nonPanAndShort_noBad[,c(3,7)])"
   ]
  },
  {
   "cell_type": "code",
   "execution_count": 79,
   "id": "95e2c77e",
   "metadata": {},
   "outputs": [],
   "source": [
    "testMetadata = testMetadata[!duplicated(testMetadata[,1]),]"
   ]
  },
  {
   "cell_type": "code",
   "execution_count": 220,
   "id": "59668c3d",
   "metadata": {},
   "outputs": [],
   "source": [
    "# testMetadata[,1] = gsub(\"subsp.*\",\"\",testMetadata[,1])"
   ]
  },
  {
   "cell_type": "code",
   "execution_count": 223,
   "id": "1dcc9db2",
   "metadata": {},
   "outputs": [],
   "source": [
    "# testMetadata[,1] = gsub(\"var.*\",\"\",testMetadata[,1])"
   ]
  },
  {
   "cell_type": "code",
   "execution_count": 80,
   "id": "9e9c5e17",
   "metadata": {},
   "outputs": [
    {
     "data": {
      "text/html": [
       "<table class=\"dataframe\">\n",
       "<caption>A data.frame: 0 × 2</caption>\n",
       "<thead>\n",
       "\t<tr><th scope=col>tracker_organism</th><th scope=col>alternative_names</th></tr>\n",
       "\t<tr><th scope=col>&lt;chr&gt;</th><th scope=col>&lt;chr&gt;</th></tr>\n",
       "</thead>\n",
       "<tbody>\n",
       "</tbody>\n",
       "</table>\n"
      ],
      "text/latex": [
       "A data.frame: 0 × 2\n",
       "\\begin{tabular}{ll}\n",
       " tracker\\_organism & alternative\\_names\\\\\n",
       " <chr> & <chr>\\\\\n",
       "\\hline\n",
       "\\end{tabular}\n"
      ],
      "text/markdown": [
       "\n",
       "A data.frame: 0 × 2\n",
       "\n",
       "| tracker_organism &lt;chr&gt; | alternative_names &lt;chr&gt; |\n",
       "|---|---|\n",
       "\n"
      ],
      "text/plain": [
       "     tracker_organism alternative_names"
      ]
     },
     "metadata": {},
     "output_type": "display_data"
    }
   ],
   "source": [
    "testMetadata[grep(\"(syn)\",testMetadata[,1]),]"
   ]
  },
  {
   "cell_type": "code",
   "execution_count": 82,
   "id": "bd346a2d",
   "metadata": {},
   "outputs": [
    {
     "data": {
      "text/html": [
       "<table class=\"dataframe\">\n",
       "<caption>A data.frame: 6 × 2</caption>\n",
       "<thead>\n",
       "\t<tr><th></th><th scope=col>tracker_organism</th><th scope=col>alternative_names</th></tr>\n",
       "\t<tr><th></th><th scope=col>&lt;chr&gt;</th><th scope=col>&lt;chr&gt;</th></tr>\n",
       "</thead>\n",
       "<tbody>\n",
       "\t<tr><th scope=row>2</th><td>Anatherum eucomum subsp. huillense       </td><td>Andropogon huillensis,Andropogon eucomus subsp. huillensis</td></tr>\n",
       "\t<tr><th scope=row>51</th><td>Diheteropogon amplectens var. catangensis</td><td>                                                          </td></tr>\n",
       "\t<tr><th scope=row>54</th><td>Andropogon gayanus var. bisquamulatus    </td><td>                                                          </td></tr>\n",
       "\t<tr><th scope=row>792</th><td>Zea mays subsp. huehuetenangensis        </td><td>NA                                                        </td></tr>\n",
       "\t<tr><th scope=row>793</th><td>Zea mays subsp. mexicana                 </td><td>Zea mexicana                                              </td></tr>\n",
       "\t<tr><th scope=row>796</th><td>Zea mays subsp. parviglumis              </td><td>NA                                                        </td></tr>\n",
       "</tbody>\n",
       "</table>\n"
      ],
      "text/latex": [
       "A data.frame: 6 × 2\n",
       "\\begin{tabular}{r|ll}\n",
       "  & tracker\\_organism & alternative\\_names\\\\\n",
       "  & <chr> & <chr>\\\\\n",
       "\\hline\n",
       "\t2 & Anatherum eucomum subsp. huillense        & Andropogon huillensis,Andropogon eucomus subsp. huillensis\\\\\n",
       "\t51 & Diheteropogon amplectens var. catangensis &                                                           \\\\\n",
       "\t54 & Andropogon gayanus var. bisquamulatus     &                                                           \\\\\n",
       "\t792 & Zea mays subsp. huehuetenangensis         & NA                                                        \\\\\n",
       "\t793 & Zea mays subsp. mexicana                  & Zea mexicana                                              \\\\\n",
       "\t796 & Zea mays subsp. parviglumis               & NA                                                        \\\\\n",
       "\\end{tabular}\n"
      ],
      "text/markdown": [
       "\n",
       "A data.frame: 6 × 2\n",
       "\n",
       "| <!--/--> | tracker_organism &lt;chr&gt; | alternative_names &lt;chr&gt; |\n",
       "|---|---|---|\n",
       "| 2 | Anatherum eucomum subsp. huillense        | Andropogon huillensis,Andropogon eucomus subsp. huillensis |\n",
       "| 51 | Diheteropogon amplectens var. catangensis | <!----> |\n",
       "| 54 | Andropogon gayanus var. bisquamulatus     | <!----> |\n",
       "| 792 | Zea mays subsp. huehuetenangensis         | NA                                                         |\n",
       "| 793 | Zea mays subsp. mexicana                  | Zea mexicana                                               |\n",
       "| 796 | Zea mays subsp. parviglumis               | NA                                                         |\n",
       "\n"
      ],
      "text/plain": [
       "    tracker_organism                         \n",
       "2   Anatherum eucomum subsp. huillense       \n",
       "51  Diheteropogon amplectens var. catangensis\n",
       "54  Andropogon gayanus var. bisquamulatus    \n",
       "792 Zea mays subsp. huehuetenangensis        \n",
       "793 Zea mays subsp. mexicana                 \n",
       "796 Zea mays subsp. parviglumis              \n",
       "    alternative_names                                         \n",
       "2   Andropogon huillensis,Andropogon eucomus subsp. huillensis\n",
       "51                                                            \n",
       "54                                                            \n",
       "792 NA                                                        \n",
       "793 Zea mexicana                                              \n",
       "796 NA                                                        "
      ]
     },
     "metadata": {},
     "output_type": "display_data"
    }
   ],
   "source": [
    "testMetadata[which(apply(testMetadata,1,function(x) length(limma::strsplit2(x[1],\" \"))!=2)),]"
   ]
  },
  {
   "cell_type": "code",
   "execution_count": 225,
   "id": "62cb4b6a",
   "metadata": {},
   "outputs": [],
   "source": [
    "# testMetadata = na.omit(testMetadata[apply(testMetadata,1,function(x) length(strsplit2(x[1],\" \"))==2),])"
   ]
  },
  {
   "cell_type": "code",
   "execution_count": 83,
   "id": "fe8b87ab",
   "metadata": {},
   "outputs": [],
   "source": [
    "testMetadata[testMetadata==\"\"] = NA"
   ]
  },
  {
   "cell_type": "code",
   "execution_count": 84,
   "id": "1f31dee3",
   "metadata": {},
   "outputs": [],
   "source": [
    "testMetadata = testMetadata[!duplicated(testMetadata[,1]),]"
   ]
  },
  {
   "cell_type": "code",
   "execution_count": 85,
   "id": "c7b02275",
   "metadata": {},
   "outputs": [],
   "source": [
    "testMetadata_long <- testMetadata %>%\n",
    "  separate_rows(alternative_names, sep = \",\") %>%\n",
    "  pivot_longer(cols = everything(), names_to = \"original_col\", values_to = \"names\") %>%\n",
    "  filter(!is.na(names)) %>%\n",
    "  mutate(latest_name = if_else(original_col == \"tracker_organism\", names, lag(names, default = first(names)))) %>%\n",
    "  select(-original_col)\n"
   ]
  },
  {
   "cell_type": "code",
   "execution_count": 86,
   "id": "c50e204d",
   "metadata": {},
   "outputs": [
    {
     "name": "stderr",
     "output_type": "stream",
     "text": [
      "Warning message in xtfrm.data.frame(x):\n",
      "“cannot xtfrm data frames”\n"
     ]
    },
    {
     "data": {
      "text/html": [
       "<table class=\"dataframe\">\n",
       "<caption>A tibble: 669 × 2</caption>\n",
       "<thead>\n",
       "\t<tr><th scope=col>names</th><th scope=col>latest_name</th></tr>\n",
       "\t<tr><th scope=col>&lt;chr&gt;</th><th scope=col>&lt;chr&gt;</th></tr>\n",
       "</thead>\n",
       "<tbody>\n",
       "\t<tr><td>Aegilops bicornis         </td><td>Aegilops bicornis         </td></tr>\n",
       "\t<tr><td>Aegilops cylindrica       </td><td>Aegilops cylindrica       </td></tr>\n",
       "\t<tr><td>Aegilops geniculata       </td><td>Aegilops geniculata       </td></tr>\n",
       "\t<tr><td>Aegilops longissima       </td><td>Aegilops longissima       </td></tr>\n",
       "\t<tr><td>Aegilops markgrafii       </td><td>Aegilops markgrafii       </td></tr>\n",
       "\t<tr><td>Aegilops searsii          </td><td>Aegilops searsii          </td></tr>\n",
       "\t<tr><td>Aegilops sharonensis      </td><td>Aegilops sharonensis      </td></tr>\n",
       "\t<tr><td>Aegilops speltoides       </td><td>Aegilops speltoides       </td></tr>\n",
       "\t<tr><td>Aegilops tauschii         </td><td>Aegilops tauschii         </td></tr>\n",
       "\t<tr><td>Aegilops triuncialis      </td><td>Aegilops triuncialis      </td></tr>\n",
       "\t<tr><td>Aegilops umbellulata      </td><td>Aegilops umbellulata      </td></tr>\n",
       "\t<tr><td>Aegilops ventricosa       </td><td>Aegilops ventricosa       </td></tr>\n",
       "\t<tr><td>Agropyron cristatum       </td><td>Agropyron cristatum       </td></tr>\n",
       "\t<tr><td>Alloteropsis angusta      </td><td>Alloteropsis angusta      </td></tr>\n",
       "\t<tr><td>Alloteropsis cimicina     </td><td>Alloteropsis cimicina     </td></tr>\n",
       "\t<tr><td>Alloteropsis semialata    </td><td>Alloteropsis semialata    </td></tr>\n",
       "\t<tr><td>Alopecurus myosuroides    </td><td>Alopecurus myosuroides    </td></tr>\n",
       "\t<tr><td>Amblyopyrum muticum       </td><td>Amblyopyrum muticum       </td></tr>\n",
       "\t<tr><td>Ampelocalamus luodianensis</td><td>Ampelocalamus luodianensis</td></tr>\n",
       "\t<tr><td>Anadelphia polychaeta     </td><td>Anadelphia polychaeta     </td></tr>\n",
       "\t<tr><td>Anadelphia scyphofera     </td><td>Anadelphia scyphofera     </td></tr>\n",
       "\t<tr><td>Anadelphia trepidaria     </td><td>Anadelphia trepidaria     </td></tr>\n",
       "\t<tr><td>Anadelphia trispiculata   </td><td>Anadelphia trispiculata   </td></tr>\n",
       "\t<tr><td>Anatherum arctatum        </td><td>Anatherum arctatum        </td></tr>\n",
       "\t<tr><td>Andropogon arctatus       </td><td>Anatherum arctatum        </td></tr>\n",
       "\t<tr><td>Anatherum arenarium       </td><td>Anatherum arenarium       </td></tr>\n",
       "\t<tr><td>Andropogon arenarius      </td><td>Anatherum arenarium       </td></tr>\n",
       "\t<tr><td>Anatherum bicorne         </td><td>Anatherum bicorne         </td></tr>\n",
       "\t<tr><td>Andropogon bicornis       </td><td>Anatherum bicorne         </td></tr>\n",
       "\t<tr><td>Anatherum brachystachyum  </td><td>Anatherum brachystachyum  </td></tr>\n",
       "\t<tr><td>⋮</td><td>⋮</td></tr>\n",
       "\t<tr><td>Triticum dicoccoides             </td><td>Triticum dicoccoides             </td></tr>\n",
       "\t<tr><td>Triticum monococcum              </td><td>Triticum monococcum              </td></tr>\n",
       "\t<tr><td>Triticum petropavlovskyi         </td><td>Triticum petropavlovskyi         </td></tr>\n",
       "\t<tr><td>Triticum timopheevii             </td><td>Triticum timopheevii             </td></tr>\n",
       "\t<tr><td>Triticum turgidum                </td><td>Triticum turgidum                </td></tr>\n",
       "\t<tr><td>Triticum urartu                  </td><td>Triticum urartu                  </td></tr>\n",
       "\t<tr><td>Tuctoria greenei                 </td><td>Tuctoria greenei                 </td></tr>\n",
       "\t<tr><td>Urelytrum agropyroides           </td><td>Urelytrum agropyroides           </td></tr>\n",
       "\t<tr><td>Urelytrum digitatum              </td><td>Urelytrum digitatum              </td></tr>\n",
       "\t<tr><td>Urelytrum giganteum              </td><td>Urelytrum giganteum              </td></tr>\n",
       "\t<tr><td>Urelytrum henrardii              </td><td>Urelytrum henrardii              </td></tr>\n",
       "\t<tr><td>Urochloa brizantha               </td><td>Urochloa brizantha               </td></tr>\n",
       "\t<tr><td>Urochloa ruziziensis             </td><td>Urochloa ruziziensis             </td></tr>\n",
       "\t<tr><td>Vossia cuspidata                 </td><td>Vossia cuspidata                 </td></tr>\n",
       "\t<tr><td>Zea diploperennis                </td><td>Zea diploperennis                </td></tr>\n",
       "\t<tr><td>Zea luxurians                    </td><td>Zea luxurians                    </td></tr>\n",
       "\t<tr><td>Zea mays                         </td><td>Zea mays                         </td></tr>\n",
       "\t<tr><td>Zea mays subsp. huehuetenangensis</td><td>Zea mays subsp. huehuetenangensis</td></tr>\n",
       "\t<tr><td>Zea mays subsp. mexicana         </td><td>Zea mays subsp. mexicana         </td></tr>\n",
       "\t<tr><td>Zea mexicana                     </td><td>Zea mays subsp. mexicana         </td></tr>\n",
       "\t<tr><td>Zea mays subsp. parviglumis      </td><td>Zea mays subsp. parviglumis      </td></tr>\n",
       "\t<tr><td>Zea nicaraguensis                </td><td>Zea nicaraguensis                </td></tr>\n",
       "\t<tr><td>Zea perennis                     </td><td>Zea perennis                     </td></tr>\n",
       "\t<tr><td>Zizania latifolia                </td><td>Zizania latifolia                </td></tr>\n",
       "\t<tr><td>Zizania palustris                </td><td>Zizania palustris                </td></tr>\n",
       "\t<tr><td>Zoysia japonica                  </td><td>Zoysia japonica                  </td></tr>\n",
       "\t<tr><td>Zoysia macrostachya              </td><td>Zoysia macrostachya              </td></tr>\n",
       "\t<tr><td>Zoysia matrella                  </td><td>Zoysia matrella                  </td></tr>\n",
       "\t<tr><td>Zoysia pacifica                  </td><td>Zoysia pacifica                  </td></tr>\n",
       "\t<tr><td>Zoysia sinica                    </td><td>Zoysia sinica                    </td></tr>\n",
       "</tbody>\n",
       "</table>\n"
      ],
      "text/latex": [
       "A tibble: 669 × 2\n",
       "\\begin{tabular}{ll}\n",
       " names & latest\\_name\\\\\n",
       " <chr> & <chr>\\\\\n",
       "\\hline\n",
       "\t Aegilops bicornis          & Aegilops bicornis         \\\\\n",
       "\t Aegilops cylindrica        & Aegilops cylindrica       \\\\\n",
       "\t Aegilops geniculata        & Aegilops geniculata       \\\\\n",
       "\t Aegilops longissima        & Aegilops longissima       \\\\\n",
       "\t Aegilops markgrafii        & Aegilops markgrafii       \\\\\n",
       "\t Aegilops searsii           & Aegilops searsii          \\\\\n",
       "\t Aegilops sharonensis       & Aegilops sharonensis      \\\\\n",
       "\t Aegilops speltoides        & Aegilops speltoides       \\\\\n",
       "\t Aegilops tauschii          & Aegilops tauschii         \\\\\n",
       "\t Aegilops triuncialis       & Aegilops triuncialis      \\\\\n",
       "\t Aegilops umbellulata       & Aegilops umbellulata      \\\\\n",
       "\t Aegilops ventricosa        & Aegilops ventricosa       \\\\\n",
       "\t Agropyron cristatum        & Agropyron cristatum       \\\\\n",
       "\t Alloteropsis angusta       & Alloteropsis angusta      \\\\\n",
       "\t Alloteropsis cimicina      & Alloteropsis cimicina     \\\\\n",
       "\t Alloteropsis semialata     & Alloteropsis semialata    \\\\\n",
       "\t Alopecurus myosuroides     & Alopecurus myosuroides    \\\\\n",
       "\t Amblyopyrum muticum        & Amblyopyrum muticum       \\\\\n",
       "\t Ampelocalamus luodianensis & Ampelocalamus luodianensis\\\\\n",
       "\t Anadelphia polychaeta      & Anadelphia polychaeta     \\\\\n",
       "\t Anadelphia scyphofera      & Anadelphia scyphofera     \\\\\n",
       "\t Anadelphia trepidaria      & Anadelphia trepidaria     \\\\\n",
       "\t Anadelphia trispiculata    & Anadelphia trispiculata   \\\\\n",
       "\t Anatherum arctatum         & Anatherum arctatum        \\\\\n",
       "\t Andropogon arctatus        & Anatherum arctatum        \\\\\n",
       "\t Anatherum arenarium        & Anatherum arenarium       \\\\\n",
       "\t Andropogon arenarius       & Anatherum arenarium       \\\\\n",
       "\t Anatherum bicorne          & Anatherum bicorne         \\\\\n",
       "\t Andropogon bicornis        & Anatherum bicorne         \\\\\n",
       "\t Anatherum brachystachyum   & Anatherum brachystachyum  \\\\\n",
       "\t ⋮ & ⋮\\\\\n",
       "\t Triticum dicoccoides              & Triticum dicoccoides             \\\\\n",
       "\t Triticum monococcum               & Triticum monococcum              \\\\\n",
       "\t Triticum petropavlovskyi          & Triticum petropavlovskyi         \\\\\n",
       "\t Triticum timopheevii              & Triticum timopheevii             \\\\\n",
       "\t Triticum turgidum                 & Triticum turgidum                \\\\\n",
       "\t Triticum urartu                   & Triticum urartu                  \\\\\n",
       "\t Tuctoria greenei                  & Tuctoria greenei                 \\\\\n",
       "\t Urelytrum agropyroides            & Urelytrum agropyroides           \\\\\n",
       "\t Urelytrum digitatum               & Urelytrum digitatum              \\\\\n",
       "\t Urelytrum giganteum               & Urelytrum giganteum              \\\\\n",
       "\t Urelytrum henrardii               & Urelytrum henrardii              \\\\\n",
       "\t Urochloa brizantha                & Urochloa brizantha               \\\\\n",
       "\t Urochloa ruziziensis              & Urochloa ruziziensis             \\\\\n",
       "\t Vossia cuspidata                  & Vossia cuspidata                 \\\\\n",
       "\t Zea diploperennis                 & Zea diploperennis                \\\\\n",
       "\t Zea luxurians                     & Zea luxurians                    \\\\\n",
       "\t Zea mays                          & Zea mays                         \\\\\n",
       "\t Zea mays subsp. huehuetenangensis & Zea mays subsp. huehuetenangensis\\\\\n",
       "\t Zea mays subsp. mexicana          & Zea mays subsp. mexicana         \\\\\n",
       "\t Zea mexicana                      & Zea mays subsp. mexicana         \\\\\n",
       "\t Zea mays subsp. parviglumis       & Zea mays subsp. parviglumis      \\\\\n",
       "\t Zea nicaraguensis                 & Zea nicaraguensis                \\\\\n",
       "\t Zea perennis                      & Zea perennis                     \\\\\n",
       "\t Zizania latifolia                 & Zizania latifolia                \\\\\n",
       "\t Zizania palustris                 & Zizania palustris                \\\\\n",
       "\t Zoysia japonica                   & Zoysia japonica                  \\\\\n",
       "\t Zoysia macrostachya               & Zoysia macrostachya              \\\\\n",
       "\t Zoysia matrella                   & Zoysia matrella                  \\\\\n",
       "\t Zoysia pacifica                   & Zoysia pacifica                  \\\\\n",
       "\t Zoysia sinica                     & Zoysia sinica                    \\\\\n",
       "\\end{tabular}\n"
      ],
      "text/markdown": [
       "\n",
       "A tibble: 669 × 2\n",
       "\n",
       "| names &lt;chr&gt; | latest_name &lt;chr&gt; |\n",
       "|---|---|\n",
       "| Aegilops bicornis          | Aegilops bicornis          |\n",
       "| Aegilops cylindrica        | Aegilops cylindrica        |\n",
       "| Aegilops geniculata        | Aegilops geniculata        |\n",
       "| Aegilops longissima        | Aegilops longissima        |\n",
       "| Aegilops markgrafii        | Aegilops markgrafii        |\n",
       "| Aegilops searsii           | Aegilops searsii           |\n",
       "| Aegilops sharonensis       | Aegilops sharonensis       |\n",
       "| Aegilops speltoides        | Aegilops speltoides        |\n",
       "| Aegilops tauschii          | Aegilops tauschii          |\n",
       "| Aegilops triuncialis       | Aegilops triuncialis       |\n",
       "| Aegilops umbellulata       | Aegilops umbellulata       |\n",
       "| Aegilops ventricosa        | Aegilops ventricosa        |\n",
       "| Agropyron cristatum        | Agropyron cristatum        |\n",
       "| Alloteropsis angusta       | Alloteropsis angusta       |\n",
       "| Alloteropsis cimicina      | Alloteropsis cimicina      |\n",
       "| Alloteropsis semialata     | Alloteropsis semialata     |\n",
       "| Alopecurus myosuroides     | Alopecurus myosuroides     |\n",
       "| Amblyopyrum muticum        | Amblyopyrum muticum        |\n",
       "| Ampelocalamus luodianensis | Ampelocalamus luodianensis |\n",
       "| Anadelphia polychaeta      | Anadelphia polychaeta      |\n",
       "| Anadelphia scyphofera      | Anadelphia scyphofera      |\n",
       "| Anadelphia trepidaria      | Anadelphia trepidaria      |\n",
       "| Anadelphia trispiculata    | Anadelphia trispiculata    |\n",
       "| Anatherum arctatum         | Anatherum arctatum         |\n",
       "| Andropogon arctatus        | Anatherum arctatum         |\n",
       "| Anatherum arenarium        | Anatherum arenarium        |\n",
       "| Andropogon arenarius       | Anatherum arenarium        |\n",
       "| Anatherum bicorne          | Anatherum bicorne          |\n",
       "| Andropogon bicornis        | Anatherum bicorne          |\n",
       "| Anatherum brachystachyum   | Anatherum brachystachyum   |\n",
       "| ⋮ | ⋮ |\n",
       "| Triticum dicoccoides              | Triticum dicoccoides              |\n",
       "| Triticum monococcum               | Triticum monococcum               |\n",
       "| Triticum petropavlovskyi          | Triticum petropavlovskyi          |\n",
       "| Triticum timopheevii              | Triticum timopheevii              |\n",
       "| Triticum turgidum                 | Triticum turgidum                 |\n",
       "| Triticum urartu                   | Triticum urartu                   |\n",
       "| Tuctoria greenei                  | Tuctoria greenei                  |\n",
       "| Urelytrum agropyroides            | Urelytrum agropyroides            |\n",
       "| Urelytrum digitatum               | Urelytrum digitatum               |\n",
       "| Urelytrum giganteum               | Urelytrum giganteum               |\n",
       "| Urelytrum henrardii               | Urelytrum henrardii               |\n",
       "| Urochloa brizantha                | Urochloa brizantha                |\n",
       "| Urochloa ruziziensis              | Urochloa ruziziensis              |\n",
       "| Vossia cuspidata                  | Vossia cuspidata                  |\n",
       "| Zea diploperennis                 | Zea diploperennis                 |\n",
       "| Zea luxurians                     | Zea luxurians                     |\n",
       "| Zea mays                          | Zea mays                          |\n",
       "| Zea mays subsp. huehuetenangensis | Zea mays subsp. huehuetenangensis |\n",
       "| Zea mays subsp. mexicana          | Zea mays subsp. mexicana          |\n",
       "| Zea mexicana                      | Zea mays subsp. mexicana          |\n",
       "| Zea mays subsp. parviglumis       | Zea mays subsp. parviglumis       |\n",
       "| Zea nicaraguensis                 | Zea nicaraguensis                 |\n",
       "| Zea perennis                      | Zea perennis                      |\n",
       "| Zizania latifolia                 | Zizania latifolia                 |\n",
       "| Zizania palustris                 | Zizania palustris                 |\n",
       "| Zoysia japonica                   | Zoysia japonica                   |\n",
       "| Zoysia macrostachya               | Zoysia macrostachya               |\n",
       "| Zoysia matrella                   | Zoysia matrella                   |\n",
       "| Zoysia pacifica                   | Zoysia pacifica                   |\n",
       "| Zoysia sinica                     | Zoysia sinica                     |\n",
       "\n"
      ],
      "text/plain": [
       "    names                             latest_name                      \n",
       "1   Aegilops bicornis                 Aegilops bicornis                \n",
       "2   Aegilops cylindrica               Aegilops cylindrica              \n",
       "3   Aegilops geniculata               Aegilops geniculata              \n",
       "4   Aegilops longissima               Aegilops longissima              \n",
       "5   Aegilops markgrafii               Aegilops markgrafii              \n",
       "6   Aegilops searsii                  Aegilops searsii                 \n",
       "7   Aegilops sharonensis              Aegilops sharonensis             \n",
       "8   Aegilops speltoides               Aegilops speltoides              \n",
       "9   Aegilops tauschii                 Aegilops tauschii                \n",
       "10  Aegilops triuncialis              Aegilops triuncialis             \n",
       "11  Aegilops umbellulata              Aegilops umbellulata             \n",
       "12  Aegilops ventricosa               Aegilops ventricosa              \n",
       "13  Agropyron cristatum               Agropyron cristatum              \n",
       "14  Alloteropsis angusta              Alloteropsis angusta             \n",
       "15  Alloteropsis cimicina             Alloteropsis cimicina            \n",
       "16  Alloteropsis semialata            Alloteropsis semialata           \n",
       "17  Alopecurus myosuroides            Alopecurus myosuroides           \n",
       "18  Amblyopyrum muticum               Amblyopyrum muticum              \n",
       "19  Ampelocalamus luodianensis        Ampelocalamus luodianensis       \n",
       "20  Anadelphia polychaeta             Anadelphia polychaeta            \n",
       "21  Anadelphia scyphofera             Anadelphia scyphofera            \n",
       "22  Anadelphia trepidaria             Anadelphia trepidaria            \n",
       "23  Anadelphia trispiculata           Anadelphia trispiculata          \n",
       "24  Anatherum arctatum                Anatherum arctatum               \n",
       "25  Andropogon arctatus               Anatherum arctatum               \n",
       "26  Anatherum arenarium               Anatherum arenarium              \n",
       "27  Andropogon arenarius              Anatherum arenarium              \n",
       "28  Anatherum bicorne                 Anatherum bicorne                \n",
       "29  Andropogon bicornis               Anatherum bicorne                \n",
       "30  Anatherum brachystachyum          Anatherum brachystachyum         \n",
       "⋮   ⋮                                 ⋮                                \n",
       "640 Triticum dicoccoides              Triticum dicoccoides             \n",
       "641 Triticum monococcum               Triticum monococcum              \n",
       "642 Triticum petropavlovskyi          Triticum petropavlovskyi         \n",
       "643 Triticum timopheevii              Triticum timopheevii             \n",
       "644 Triticum turgidum                 Triticum turgidum                \n",
       "645 Triticum urartu                   Triticum urartu                  \n",
       "646 Tuctoria greenei                  Tuctoria greenei                 \n",
       "647 Urelytrum agropyroides            Urelytrum agropyroides           \n",
       "648 Urelytrum digitatum               Urelytrum digitatum              \n",
       "649 Urelytrum giganteum               Urelytrum giganteum              \n",
       "650 Urelytrum henrardii               Urelytrum henrardii              \n",
       "651 Urochloa brizantha                Urochloa brizantha               \n",
       "652 Urochloa ruziziensis              Urochloa ruziziensis             \n",
       "653 Vossia cuspidata                  Vossia cuspidata                 \n",
       "654 Zea diploperennis                 Zea diploperennis                \n",
       "655 Zea luxurians                     Zea luxurians                    \n",
       "656 Zea mays                          Zea mays                         \n",
       "657 Zea mays subsp. huehuetenangensis Zea mays subsp. huehuetenangensis\n",
       "658 Zea mays subsp. mexicana          Zea mays subsp. mexicana         \n",
       "659 Zea mexicana                      Zea mays subsp. mexicana         \n",
       "660 Zea mays subsp. parviglumis       Zea mays subsp. parviglumis      \n",
       "661 Zea nicaraguensis                 Zea nicaraguensis                \n",
       "662 Zea perennis                      Zea perennis                     \n",
       "663 Zizania latifolia                 Zizania latifolia                \n",
       "664 Zizania palustris                 Zizania palustris                \n",
       "665 Zoysia japonica                   Zoysia japonica                  \n",
       "666 Zoysia macrostachya               Zoysia macrostachya              \n",
       "667 Zoysia matrella                   Zoysia matrella                  \n",
       "668 Zoysia pacifica                   Zoysia pacifica                  \n",
       "669 Zoysia sinica                     Zoysia sinica                    "
      ]
     },
     "metadata": {},
     "output_type": "display_data"
    }
   ],
   "source": [
    "testMetadata_long[order(testMetadata_long[,2]),]"
   ]
  },
  {
   "cell_type": "code",
   "execution_count": 316,
   "id": "389318cb",
   "metadata": {},
   "outputs": [],
   "source": [
    "write.table(testMetadata_long,\"/workdir/sh2246/p_phyloGWAS/data/spNameMetadata_20240819.txt\",row.names = F,col.names = T,quote = F,sep = \"\\t\")"
   ]
  },
  {
   "cell_type": "code",
   "execution_count": null,
   "id": "31afa03c",
   "metadata": {},
   "outputs": [],
   "source": [
    "# formal analysis done"
   ]
  },
  {
   "cell_type": "code",
   "execution_count": null,
   "id": "8e470332",
   "metadata": {},
   "outputs": [],
   "source": []
  },
  {
   "cell_type": "code",
   "execution_count": null,
   "id": "494f91cc",
   "metadata": {},
   "outputs": [],
   "source": []
  }
 ],
 "metadata": {
  "kernelspec": {
   "display_name": "R",
   "language": "R",
   "name": "ir"
  },
  "language_info": {
   "codemirror_mode": "r",
   "file_extension": ".r",
   "mimetype": "text/x-r-source",
   "name": "R",
   "pygments_lexer": "r",
   "version": "4.2.2"
  }
 },
 "nbformat": 4,
 "nbformat_minor": 5
}
