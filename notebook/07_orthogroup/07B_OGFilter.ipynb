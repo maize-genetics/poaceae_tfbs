{
 "cells": [
  {
   "cell_type": "code",
   "execution_count": null,
   "id": "f06e758f",
   "metadata": {},
   "outputs": [],
   "source": [
    "#filter the orthogroups\n",
    "#author: Sheng-Kai Hsu\n",
    "#created: 2024.06.06\n",
    "#last edited: 2025.03.31\n"
   ]
  },
  {
   "cell_type": "code",
   "execution_count": 9,
   "id": "479cf76d",
   "metadata": {},
   "outputs": [],
   "source": [
    "rm(list = ls())"
   ]
  },
  {
   "cell_type": "code",
   "execution_count": 10,
   "id": "c8d4904e",
   "metadata": {},
   "outputs": [],
   "source": [
    "helixer_OG = read.table(\"/workdir/sh2246/p_phyloGWAS/output/OrthoFinder/Results_Jun06/Orthogroups/Orthogroups.GeneCount.tsv\",header =T)"
   ]
  },
  {
   "cell_type": "code",
   "execution_count": 11,
   "id": "83a87f86",
   "metadata": {},
   "outputs": [
    {
     "data": {
      "text/html": [
       "<style>\n",
       ".list-inline {list-style: none; margin:0; padding: 0}\n",
       ".list-inline>li {display: inline-block}\n",
       ".list-inline>li:not(:last-child)::after {content: \"\\00b7\"; padding: 0 .5ex}\n",
       "</style>\n",
       "<ol class=list-inline><li>99140</li><li>34</li></ol>\n"
      ],
      "text/latex": [
       "\\begin{enumerate*}\n",
       "\\item 99140\n",
       "\\item 34\n",
       "\\end{enumerate*}\n"
      ],
      "text/markdown": [
       "1. 99140\n",
       "2. 34\n",
       "\n",
       "\n"
      ],
      "text/plain": [
       "[1] 99140    34"
      ]
     },
     "metadata": {},
     "output_type": "display_data"
    }
   ],
   "source": [
    "dim(helixer_OG)"
   ]
  },
  {
   "cell_type": "code",
   "execution_count": 12,
   "id": "f030ae69",
   "metadata": {},
   "outputs": [
    {
     "data": {
      "text/html": [
       "<style>\n",
       ".list-inline {list-style: none; margin:0; padding: 0}\n",
       ".list-inline>li {display: inline-block}\n",
       ".list-inline>li:not(:last-child)::after {content: \"\\00b7\"; padding: 0 .5ex}\n",
       "</style>\n",
       "<ol class=list-inline><li>'Orthogroup'</li><li>'ASEM_AUS1_V1.0.aa'</li><li>'ASM160227v1.aa'</li><li>'ASM1927943v1.aa'</li><li>'ASM1935983v1.aa'</li><li>'ASM711570v1.aa'</li><li>'Aet_v5.0.aa'</li><li>'Alomy_genome_v1.aa'</li><li>'Av.Kellogg1287_8.REFERENCE.PanAnd.1.0.aa'</li><li>'Brachypodium_distachyon_v3.0.aa'</li><li>'DiExil.aa'</li><li>'Eleusine_coracana_v1.0.aa'</li><li>'Embrapa_Uruz_1.0.aa'</li><li>'IRGSP.1.0.aa'</li><li>'KIB_Aluo_1.aa'</li><li>'KIB_Gang_2.aa'</li><li>'KIB_Mbac_1.aa'</li><li>'KIB_Ogla_1.aa'</li><li>'KIB_Pedu_3.aa'</li><li>'KIB_Rgui_2.aa'</li><li>'P.vaginatum_v3.1.aa'</li><li>'P.virgatum_v5.aa'</li><li>'Pp.Kellogg1297.DRAFT.PanAnd.1.0.aa'</li><li>'Puccinellia_tenuiflora_refer_1.0.aa'</li><li>'Rt.Layton_Zhong169.DRAFT.PanAnd.1.0.aa'</li><li>'Salk_teff_dabbi_3.0.aa'</li><li>'Setaria_italica_v2.0.aa'</li><li>'Sorghum_bicolor_NCBIv3.aa'</li><li>'TSU_Scap_1.aa'</li><li>'Zm.B73.REFERENCE.NAM.5.0.aa'</li><li>'lpBroSter1.1.aa'</li><li>'lpPhrAust1.1.aa'</li><li>'mabamboo_1.0.aa'</li><li>'Total'</li></ol>\n"
      ],
      "text/latex": [
       "\\begin{enumerate*}\n",
       "\\item 'Orthogroup'\n",
       "\\item 'ASEM\\_AUS1\\_V1.0.aa'\n",
       "\\item 'ASM160227v1.aa'\n",
       "\\item 'ASM1927943v1.aa'\n",
       "\\item 'ASM1935983v1.aa'\n",
       "\\item 'ASM711570v1.aa'\n",
       "\\item 'Aet\\_v5.0.aa'\n",
       "\\item 'Alomy\\_genome\\_v1.aa'\n",
       "\\item 'Av.Kellogg1287\\_8.REFERENCE.PanAnd.1.0.aa'\n",
       "\\item 'Brachypodium\\_distachyon\\_v3.0.aa'\n",
       "\\item 'DiExil.aa'\n",
       "\\item 'Eleusine\\_coracana\\_v1.0.aa'\n",
       "\\item 'Embrapa\\_Uruz\\_1.0.aa'\n",
       "\\item 'IRGSP.1.0.aa'\n",
       "\\item 'KIB\\_Aluo\\_1.aa'\n",
       "\\item 'KIB\\_Gang\\_2.aa'\n",
       "\\item 'KIB\\_Mbac\\_1.aa'\n",
       "\\item 'KIB\\_Ogla\\_1.aa'\n",
       "\\item 'KIB\\_Pedu\\_3.aa'\n",
       "\\item 'KIB\\_Rgui\\_2.aa'\n",
       "\\item 'P.vaginatum\\_v3.1.aa'\n",
       "\\item 'P.virgatum\\_v5.aa'\n",
       "\\item 'Pp.Kellogg1297.DRAFT.PanAnd.1.0.aa'\n",
       "\\item 'Puccinellia\\_tenuiflora\\_refer\\_1.0.aa'\n",
       "\\item 'Rt.Layton\\_Zhong169.DRAFT.PanAnd.1.0.aa'\n",
       "\\item 'Salk\\_teff\\_dabbi\\_3.0.aa'\n",
       "\\item 'Setaria\\_italica\\_v2.0.aa'\n",
       "\\item 'Sorghum\\_bicolor\\_NCBIv3.aa'\n",
       "\\item 'TSU\\_Scap\\_1.aa'\n",
       "\\item 'Zm.B73.REFERENCE.NAM.5.0.aa'\n",
       "\\item 'lpBroSter1.1.aa'\n",
       "\\item 'lpPhrAust1.1.aa'\n",
       "\\item 'mabamboo\\_1.0.aa'\n",
       "\\item 'Total'\n",
       "\\end{enumerate*}\n"
      ],
      "text/markdown": [
       "1. 'Orthogroup'\n",
       "2. 'ASEM_AUS1_V1.0.aa'\n",
       "3. 'ASM160227v1.aa'\n",
       "4. 'ASM1927943v1.aa'\n",
       "5. 'ASM1935983v1.aa'\n",
       "6. 'ASM711570v1.aa'\n",
       "7. 'Aet_v5.0.aa'\n",
       "8. 'Alomy_genome_v1.aa'\n",
       "9. 'Av.Kellogg1287_8.REFERENCE.PanAnd.1.0.aa'\n",
       "10. 'Brachypodium_distachyon_v3.0.aa'\n",
       "11. 'DiExil.aa'\n",
       "12. 'Eleusine_coracana_v1.0.aa'\n",
       "13. 'Embrapa_Uruz_1.0.aa'\n",
       "14. 'IRGSP.1.0.aa'\n",
       "15. 'KIB_Aluo_1.aa'\n",
       "16. 'KIB_Gang_2.aa'\n",
       "17. 'KIB_Mbac_1.aa'\n",
       "18. 'KIB_Ogla_1.aa'\n",
       "19. 'KIB_Pedu_3.aa'\n",
       "20. 'KIB_Rgui_2.aa'\n",
       "21. 'P.vaginatum_v3.1.aa'\n",
       "22. 'P.virgatum_v5.aa'\n",
       "23. 'Pp.Kellogg1297.DRAFT.PanAnd.1.0.aa'\n",
       "24. 'Puccinellia_tenuiflora_refer_1.0.aa'\n",
       "25. 'Rt.Layton_Zhong169.DRAFT.PanAnd.1.0.aa'\n",
       "26. 'Salk_teff_dabbi_3.0.aa'\n",
       "27. 'Setaria_italica_v2.0.aa'\n",
       "28. 'Sorghum_bicolor_NCBIv3.aa'\n",
       "29. 'TSU_Scap_1.aa'\n",
       "30. 'Zm.B73.REFERENCE.NAM.5.0.aa'\n",
       "31. 'lpBroSter1.1.aa'\n",
       "32. 'lpPhrAust1.1.aa'\n",
       "33. 'mabamboo_1.0.aa'\n",
       "34. 'Total'\n",
       "\n",
       "\n"
      ],
      "text/plain": [
       " [1] \"Orthogroup\"                              \n",
       " [2] \"ASEM_AUS1_V1.0.aa\"                       \n",
       " [3] \"ASM160227v1.aa\"                          \n",
       " [4] \"ASM1927943v1.aa\"                         \n",
       " [5] \"ASM1935983v1.aa\"                         \n",
       " [6] \"ASM711570v1.aa\"                          \n",
       " [7] \"Aet_v5.0.aa\"                             \n",
       " [8] \"Alomy_genome_v1.aa\"                      \n",
       " [9] \"Av.Kellogg1287_8.REFERENCE.PanAnd.1.0.aa\"\n",
       "[10] \"Brachypodium_distachyon_v3.0.aa\"         \n",
       "[11] \"DiExil.aa\"                               \n",
       "[12] \"Eleusine_coracana_v1.0.aa\"               \n",
       "[13] \"Embrapa_Uruz_1.0.aa\"                     \n",
       "[14] \"IRGSP.1.0.aa\"                            \n",
       "[15] \"KIB_Aluo_1.aa\"                           \n",
       "[16] \"KIB_Gang_2.aa\"                           \n",
       "[17] \"KIB_Mbac_1.aa\"                           \n",
       "[18] \"KIB_Ogla_1.aa\"                           \n",
       "[19] \"KIB_Pedu_3.aa\"                           \n",
       "[20] \"KIB_Rgui_2.aa\"                           \n",
       "[21] \"P.vaginatum_v3.1.aa\"                     \n",
       "[22] \"P.virgatum_v5.aa\"                        \n",
       "[23] \"Pp.Kellogg1297.DRAFT.PanAnd.1.0.aa\"      \n",
       "[24] \"Puccinellia_tenuiflora_refer_1.0.aa\"     \n",
       "[25] \"Rt.Layton_Zhong169.DRAFT.PanAnd.1.0.aa\"  \n",
       "[26] \"Salk_teff_dabbi_3.0.aa\"                  \n",
       "[27] \"Setaria_italica_v2.0.aa\"                 \n",
       "[28] \"Sorghum_bicolor_NCBIv3.aa\"               \n",
       "[29] \"TSU_Scap_1.aa\"                           \n",
       "[30] \"Zm.B73.REFERENCE.NAM.5.0.aa\"             \n",
       "[31] \"lpBroSter1.1.aa\"                         \n",
       "[32] \"lpPhrAust1.1.aa\"                         \n",
       "[33] \"mabamboo_1.0.aa\"                         \n",
       "[34] \"Total\"                                   "
      ]
     },
     "metadata": {},
     "output_type": "display_data"
    }
   ],
   "source": [
    "colnames(helixer_OG)"
   ]
  },
  {
   "cell_type": "code",
   "execution_count": 13,
   "id": "1be4954b",
   "metadata": {},
   "outputs": [],
   "source": [
    "# helixer_OG_filtered = helixer_OG[,-idx]\n",
    "helixer_OG_filtered = helixer_OG"
   ]
  },
  {
   "cell_type": "code",
   "execution_count": 14,
   "id": "eae1783b",
   "metadata": {},
   "outputs": [],
   "source": [
    "helixer_OG_filtered = helixer_OG_filtered[-which(apply(helixer_OG_filtered[,-c(1,ncol(helixer_OG_filtered))],1,function(x) all(x<=1))),-c(1,ncol(helixer_OG_filtered))]"
   ]
  },
  {
   "cell_type": "code",
   "execution_count": 15,
   "id": "d6bbe036",
   "metadata": {},
   "outputs": [
    {
     "data": {
      "text/html": [
       "<style>\n",
       ".list-inline {list-style: none; margin:0; padding: 0}\n",
       ".list-inline>li {display: inline-block}\n",
       ".list-inline>li:not(:last-child)::after {content: \"\\00b7\"; padding: 0 .5ex}\n",
       "</style>\n",
       "<ol class=list-inline><li>87841</li><li>32</li></ol>\n"
      ],
      "text/latex": [
       "\\begin{enumerate*}\n",
       "\\item 87841\n",
       "\\item 32\n",
       "\\end{enumerate*}\n"
      ],
      "text/markdown": [
       "1. 87841\n",
       "2. 32\n",
       "\n",
       "\n"
      ],
      "text/plain": [
       "[1] 87841    32"
      ]
     },
     "metadata": {},
     "output_type": "display_data"
    }
   ],
   "source": [
    "dim(helixer_OG_filtered)"
   ]
  },
  {
   "cell_type": "code",
   "execution_count": 124,
   "id": "85c78c7d",
   "metadata": {},
   "outputs": [
    {
     "data": {
      "image/png": "[encoded data removed]",
      "text/plain": [
       "plot without title"
      ]
     },
     "metadata": {
      "image/png": {
       "height": 480,
       "width": 480
      }
     },
     "output_type": "display_data"
    }
   ],
   "source": [
    "options(repr.plot.width=8, repr.plot.height=8)\n",
    "par(mar = c(4,20,1,1))\n",
    "barplot(apply(helixer_OG_filtered,2,function(x) sum(x>0)),las = 1,horiz = T,xlab = \"# of annotated genes in OGs\",\n",
    "        names.arg = c(\"Alloteropsis semialata\",\"Zoysia japonica\",\"Zizania palustris\",\"Pharus latifolius\",\n",
    "                      \"Dactylis glomerata\",\"Aegilops tauschii\",\"Alopecurus myosuroides\",\"Anatherum virginicum\",\n",
    "                      \"Brachypodium distachyon\",\"Digitaria exilis\",\"Eleusine coracana\",\"Urochloa ruziziensis\",\n",
    "                      \"Oryza sativa\",\"Ampelocalamus luodianensis\",\"Guadua angustifolia\",\"Melocanna baccifera\",\n",
    "                      \"Otatea glauca\",\"Phyllostachys edulis\",\"Raddia guianensis\",\"Paspalum vaginatum\",\n",
    "                      \"Panicum virgatum\",\"Poa pratensis\",\"Puccinellia tenuiflora\",\"Rottboellia tuberculosa\",\n",
    "                      \"Eragrostis tef\",\"Setaria italica\",\"Sorghum bicolor\",\"Stipa capillata\",\"Zea mays\",\n",
    "                      \"Bromus sterilis\",\"Phragmites australis\",\"Dendrocalamus latiflorus\"))\n",
    "        "
   ]
  },
  {
   "cell_type": "code",
   "execution_count": 130,
   "id": "9a14aaf1",
   "metadata": {},
   "outputs": [
    {
     "data": {
      "text/html": [
       "<strong>pdf:</strong> 2"
      ],
      "text/latex": [
       "\\textbf{pdf:} 2"
      ],
      "text/markdown": [
       "**pdf:** 2"
      ],
      "text/plain": [
       "pdf \n",
       "  2 "
      ]
     },
     "metadata": {},
     "output_type": "display_data"
    }
   ],
   "source": [
    "png(\"/workdir/sh2246/p_phyloGWAS/output/figure/suppFig/suppFig_genomicPipeline_a.png\",height = 6.4,width = 4.8,\n",
    "    units = \"cm\",res = 600,pointsize = 4)\n",
    "par(mar = c(4,12,1,1))\n",
    "barplot(apply(helixer_OG_filtered,2,function(x) sum(x>0)),las = 1,horiz = T,xlab = \"# of annotated genes in OGs\",\n",
    "        names.arg = c(\"Alloteropsis semialata\",\"Zoysia japonica\",\"Zizania palustris\",\"Pharus latifolius\",\n",
    "                      \"Dactylis glomerata\",\"Aegilops tauschii\",\"Alopecurus myosuroides\",\"Anatherum virginicum\",\n",
    "                      \"Brachypodium distachyon\",\"Digitaria exilis\",\"Eleusine coracana\",\"Urochloa ruziziensis\",\n",
    "                      \"Oryza sativa\",\"Ampelocalamus luodianensis\",\"Guadua angustifolia\",\"Melocanna baccifera\",\n",
    "                      \"Otatea glauca\",\"Phyllostachys edulis\",\"Raddia guianensis\",\"Paspalum vaginatum\",\n",
    "                      \"Panicum virgatum\",\"Poa pratensis\",\"Puccinellia tenuiflora\",\"Rottboellia tuberculosa\",\n",
    "                      \"Eragrostis tef\",\"Setaria italica\",\"Sorghum bicolor\",\"Stipa capillata\",\"Zea mays\",\n",
    "                      \"Bromus sterilis\",\"Phragmites australis\",\"Dendrocalamus latiflorus\"))\n",
    "dev.off()"
   ]
  },
  {
   "cell_type": "code",
   "execution_count": 17,
   "id": "96d95ed9",
   "metadata": {},
   "outputs": [
    {
     "data": {
      "text/plain": [
       "numTaxa_helixer\n",
       "    1     2     3     4     5     6     7     8     9    10    11    12    13 \n",
       "40190 10166  5596  3636  2517  1949  1336   908   656   493   384   349   255 \n",
       "   14    15    16    17    18    19    20    21    22    23    24    25    26 \n",
       "  233   195   191   167   173   151   180   182   199   224   214   199   271 \n",
       "   27    28    29    30    31    32 \n",
       "  291   345   468   978  3356 11389 "
      ]
     },
     "metadata": {},
     "output_type": "display_data"
    }
   ],
   "source": [
    "numTaxa_helixer = apply(helixer_OG_filtered,1,function(x) sum(x>0))\n",
    "table(numTaxa_helixer)                        "
   ]
  },
  {
   "cell_type": "code",
   "execution_count": 18,
   "id": "d18ae9e6",
   "metadata": {},
   "outputs": [
    {
     "data": {
      "image/png": "[encoded data removed]",
      "text/plain": [
       "plot without title"
      ]
     },
     "metadata": {
      "image/png": {
       "height": 480,
       "width": 900
      }
     },
     "output_type": "display_data"
    }
   ],
   "source": [
    "options(repr.plot.width=15, repr.plot.height=8)\n",
    "barplot(table(numTaxa_helixer))"
   ]
  },
  {
   "cell_type": "code",
   "execution_count": 19,
   "id": "0b134e49",
   "metadata": {},
   "outputs": [
    {
     "data": {
      "image/png": "[encoded data removed]",
      "text/plain": [
       "Plot with title “”"
      ]
     },
     "metadata": {
      "image/png": {
       "height": 480,
       "width": 900
      }
     },
     "output_type": "display_data"
    }
   ],
   "source": [
    "numTip_helixer = apply(helixer_OG_filtered,1,function(x) sum(x))\n",
    "\n",
    "hist(numTip_helixer,xlim = c(0,180),breaks = seq(0,4000,1),xlab = \"# of tip\",main = \"\",\n",
    "     col = scales::alpha(\"orange\",.5),freq = F)\n"
   ]
  },
  {
   "cell_type": "code",
   "execution_count": 135,
   "id": "17799218",
   "metadata": {},
   "outputs": [
    {
     "data": {
      "text/plain": [
       "    Min.  1st Qu.   Median     Mean  3rd Qu.     Max. \n",
       "   2.000    2.000    4.000    7.555    8.000 3022.000 "
      ]
     },
     "metadata": {},
     "output_type": "display_data"
    },
    {
     "data": {
      "image/png": "[encoded data removed]",
      "text/plain": [
       "Plot with title “”"
      ]
     },
     "metadata": {
      "image/png": {
       "height": 480,
       "width": 480
      }
     },
     "output_type": "display_data"
    }
   ],
   "source": [
    "numTipMax_helixer = apply(helixer_OG_filtered,1,function(x) max(x))\n",
    "summary(numTipMax_helixer)\n",
    "hist(numTipMax_helixer,xlim = c(0,40),breaks = seq(0,3040,1),xlab = \"max. # of copy per taxa\",main = \"\")\n"
   ]
  },
  {
   "cell_type": "code",
   "execution_count": 137,
   "id": "764319de",
   "metadata": {},
   "outputs": [
    {
     "data": {
      "text/html": [
       "<strong>pdf:</strong> 2"
      ],
      "text/latex": [
       "\\textbf{pdf:} 2"
      ],
      "text/markdown": [
       "**pdf:** 2"
      ],
      "text/plain": [
       "pdf \n",
       "  2 "
      ]
     },
     "metadata": {},
     "output_type": "display_data"
    },
    {
     "data": {
      "text/html": [
       "<strong>pdf:</strong> 2"
      ],
      "text/latex": [
       "\\textbf{pdf:} 2"
      ],
      "text/markdown": [
       "**pdf:** 2"
      ],
      "text/plain": [
       "pdf \n",
       "  2 "
      ]
     },
     "metadata": {},
     "output_type": "display_data"
    }
   ],
   "source": [
    "png(\"/workdir/sh2246/p_phyloGWAS/output/figure/suppFig/suppFig_genomicPipeline_b3.png\",width = 6.6,height = 3,\n",
    "    units = \"cm\",res = 600,pointsize = 4)\n",
    "par(mar = c(4,4,1,0))\n",
    "hist(numTipMax_helixer,breaks = seq(0,3040,1),xlab = \"max. # of copy per taxa\",main = \"\")\n",
    "dev.off()\n",
    "png(\"/workdir/sh2246/p_phyloGWAS/output/figure/suppFig/suppFig_genomicPipeline_b4.png\",width = 4.4,height = 2,\n",
    "    units = \"cm\",res = 600,pointsize = 4)\n",
    "par(mar = c(2,3,0,0))\n",
    "hist(numTipMax_helixer,xlim = c(0,100),breaks = seq(0,3040,1),main = \"\")\n",
    "dev.off()"
   ]
  },
  {
   "cell_type": "code",
   "execution_count": null,
   "id": "1eea643f",
   "metadata": {},
   "outputs": [],
   "source": [
    "# helixer-OG filtering"
   ]
  },
  {
   "cell_type": "code",
   "execution_count": 31,
   "id": "2b78cb3d",
   "metadata": {},
   "outputs": [],
   "source": [
    "#filterOG = apply(helixer_OG[,-c(1,ncol(helixer_OG))],1,function(x) sum(x>0))> 3 & !apply(helixer_OG[,-c(1,ncol(helixer_OG))],1,function(x) any(x>18))\n",
    "\n",
    "#filterOG_strict = apply(helixer_OG[,-c(1,ncol(helixer_OG))],1,function(x) sum(x>0))> 7 & !apply(helixer_OG[,-c(1,ncol(helixer_OG))],1,function(x) any(x>18))\n",
    "\n",
    "# present in >= 8 taxa; with <= 100 copy per taxa\n",
    "filterOG = apply(helixer_OG[,-c(1,ncol(helixer_OG))],1,function(x) sum(x>0))> 7 & !apply(helixer_OG[,-c(1,ncol(helixer_OG))],1,function(x) any(x>100))"
   ]
  },
  {
   "cell_type": "code",
   "execution_count": 30,
   "id": "16a68fe6",
   "metadata": {},
   "outputs": [
    {
     "data": {
      "text/html": [
       "22363"
      ],
      "text/latex": [
       "22363"
      ],
      "text/markdown": [
       "22363"
      ],
      "text/plain": [
       "[1] 22363"
      ]
     },
     "metadata": {},
     "output_type": "display_data"
    }
   ],
   "source": [
    "sum(filterOG)"
   ]
  },
  {
   "cell_type": "code",
   "execution_count": 32,
   "id": "e4ba6190",
   "metadata": {},
   "outputs": [],
   "source": [
    "helixer_OG_OGfiltered = helixer_OG[filterOG,]"
   ]
  },
  {
   "cell_type": "code",
   "execution_count": 33,
   "id": "1a330c67",
   "metadata": {},
   "outputs": [
    {
     "data": {
      "text/html": [
       "<style>\n",
       ".list-inline {list-style: none; margin:0; padding: 0}\n",
       ".list-inline>li {display: inline-block}\n",
       ".list-inline>li:not(:last-child)::after {content: \"\\00b7\"; padding: 0 .5ex}\n",
       "</style>\n",
       "<ol class=list-inline><li>99140</li><li>34</li></ol>\n"
      ],
      "text/latex": [
       "\\begin{enumerate*}\n",
       "\\item 99140\n",
       "\\item 34\n",
       "\\end{enumerate*}\n"
      ],
      "text/markdown": [
       "1. 99140\n",
       "2. 34\n",
       "\n",
       "\n"
      ],
      "text/plain": [
       "[1] 99140    34"
      ]
     },
     "metadata": {},
     "output_type": "display_data"
    },
    {
     "data": {
      "text/html": [
       "<style>\n",
       ".list-inline {list-style: none; margin:0; padding: 0}\n",
       ".list-inline>li {display: inline-block}\n",
       ".list-inline>li:not(:last-child)::after {content: \"\\00b7\"; padding: 0 .5ex}\n",
       "</style>\n",
       "<ol class=list-inline><li>22363</li><li>34</li></ol>\n"
      ],
      "text/latex": [
       "\\begin{enumerate*}\n",
       "\\item 22363\n",
       "\\item 34\n",
       "\\end{enumerate*}\n"
      ],
      "text/markdown": [
       "1. 22363\n",
       "2. 34\n",
       "\n",
       "\n"
      ],
      "text/plain": [
       "[1] 22363    34"
      ]
     },
     "metadata": {},
     "output_type": "display_data"
    }
   ],
   "source": [
    "dim(helixer_OG)\n",
    "dim(helixer_OG_OGfiltered)\n",
    "# dim(helixer_OG_OGfilteredHard)\n",
    "# dim(helixer_OG_recovered)"
   ]
  },
  {
   "cell_type": "code",
   "execution_count": 134,
   "id": "01572417",
   "metadata": {},
   "outputs": [
    {
     "data": {
      "text/html": [
       "<strong>pdf:</strong> 2"
      ],
      "text/latex": [
       "\\textbf{pdf:} 2"
      ],
      "text/markdown": [
       "**pdf:** 2"
      ],
      "text/plain": [
       "pdf \n",
       "  2 "
      ]
     },
     "metadata": {},
     "output_type": "display_data"
    },
    {
     "data": {
      "text/html": [
       "<strong>pdf:</strong> 2"
      ],
      "text/latex": [
       "\\textbf{pdf:} 2"
      ],
      "text/markdown": [
       "**pdf:** 2"
      ],
      "text/plain": [
       "pdf \n",
       "  2 "
      ]
     },
     "metadata": {},
     "output_type": "display_data"
    }
   ],
   "source": [
    "png(\"/workdir/sh2246/p_phyloGWAS/output/figure/suppFig/suppFig_genomicPipeline_b1.png\",width = 6.6,height = 3,\n",
    "    units = \"cm\",res = 600,pointsize = 4)\n",
    "par(mar = c(4,4,1,0))\n",
    "barplot(table(numTaxa_helixer),xlab = \"Present in # of taxa\",ylab = \"# of OGs\")\n",
    "dev.off()\n",
    "png(\"/workdir/sh2246/p_phyloGWAS/output/figure/suppFig/suppFig_genomicPipeline_b2.png\",width = 4.4,height = 2,\n",
    "    units = \"cm\",res = 600,pointsize = 4)\n",
    "par(mar = c(2,3,0,0))\n",
    "barplot(table(apply(helixer_OG_OGfiltered[,-c(1,ncol(helixer_OG))],1,function(x) sum(x>0))))\n",
    "dev.off()"
   ]
  },
  {
   "cell_type": "code",
   "execution_count": 35,
   "id": "7641904e",
   "metadata": {},
   "outputs": [
    {
     "data": {
      "text/plain": [
       "\n",
       "   1    2    3    4    5    6    7    8    9   10   11   12   13   14   15   16 \n",
       "8047 2490  473  173   86   28   22   14    8    7    3    8    2    1    2    1 \n",
       "  17   18   20   24   29 \n",
       "   2    1    1    1    1 "
      ]
     },
     "metadata": {},
     "output_type": "display_data"
    }
   ],
   "source": [
    "table(helixer_OG_OGfiltered[apply(helixer_OG_OGfiltered[,-c(1,ncol(helixer_OG))],1,function(x) sum(x>0))==32,\"Sorghum_bicolor_NCBIv3.aa\"])"
   ]
  },
  {
   "cell_type": "code",
   "execution_count": 36,
   "id": "e69bdcfa",
   "metadata": {},
   "outputs": [
    {
     "data": {
      "image/png": "[encoded data removed]",
      "text/plain": [
       "plot without title"
      ]
     },
     "metadata": {
      "image/png": {
       "height": 480,
       "width": 900
      }
     },
     "output_type": "display_data"
    }
   ],
   "source": [
    "par(mar=c(20,5,1,1))\n",
    "barplot(sort(colSums(helixer_OG_OGfiltered!=0)),las =2)"
   ]
  },
  {
   "cell_type": "code",
   "execution_count": 37,
   "id": "e8836a4c",
   "metadata": {},
   "outputs": [],
   "source": [
    "write.table(helixer_OG_OGfiltered$Orthogroup,\"/workdir/sh2246/p_phyloGWAS/output/poaceaeHelixerOG_filtered_20250331.txt\",quote = F,col.names = F,row.names = F)"
   ]
  },
  {
   "cell_type": "code",
   "execution_count": null,
   "id": "bb50e28a",
   "metadata": {},
   "outputs": [],
   "source": [
    "####OG filter end####"
   ]
  },
  {
   "cell_type": "code",
   "execution_count": null,
   "id": "a50cab64",
   "metadata": {},
   "outputs": [],
   "source": []
  },
  {
   "cell_type": "code",
   "execution_count": null,
   "id": "7020c911",
   "metadata": {},
   "outputs": [],
   "source": []
  },
  {
   "cell_type": "code",
   "execution_count": null,
   "id": "62f3c107",
   "metadata": {},
   "outputs": [],
   "source": [
    "####ID matching####"
   ]
  },
  {
   "cell_type": "code",
   "execution_count": 42,
   "id": "70444ebc",
   "metadata": {},
   "outputs": [],
   "source": [
    "gffComp = read.table(\"/workdir/sh2246/p_phyloGWAS_archived/data/annotations/gffcmp.Zm-B73-REFERENCE-NAM-5.0_helixer.gff.tmap\",header = T)"
   ]
  },
  {
   "cell_type": "code",
   "execution_count": 43,
   "id": "f6f8de83",
   "metadata": {},
   "outputs": [
    {
     "data": {
      "text/html": [
       "<table class=\"dataframe\">\n",
       "<caption>A data.frame: 6 × 12</caption>\n",
       "<thead>\n",
       "\t<tr><th></th><th scope=col>ref_gene_id</th><th scope=col>ref_id</th><th scope=col>class_code</th><th scope=col>qry_gene_id</th><th scope=col>qry_id</th><th scope=col>num_exons</th><th scope=col>FPKM</th><th scope=col>TPM</th><th scope=col>cov</th><th scope=col>len</th><th scope=col>major_iso_id</th><th scope=col>ref_match_len</th></tr>\n",
       "\t<tr><th></th><th scope=col>&lt;chr&gt;</th><th scope=col>&lt;chr&gt;</th><th scope=col>&lt;chr&gt;</th><th scope=col>&lt;chr&gt;</th><th scope=col>&lt;chr&gt;</th><th scope=col>&lt;int&gt;</th><th scope=col>&lt;dbl&gt;</th><th scope=col>&lt;dbl&gt;</th><th scope=col>&lt;dbl&gt;</th><th scope=col>&lt;int&gt;</th><th scope=col>&lt;chr&gt;</th><th scope=col>&lt;chr&gt;</th></tr>\n",
       "</thead>\n",
       "<tbody>\n",
       "\t<tr><th scope=row>1</th><td>Zm00001eb000010</td><td>Zm00001eb000010_T001</td><td>m</td><td>_chr1_000001</td><td>_chr1_000001.1</td><td> 8</td><td>0</td><td>0</td><td>0</td><td>3605</td><td>_chr1_000001.1</td><td>3615</td></tr>\n",
       "\t<tr><th scope=row>2</th><td>-              </td><td>-                   </td><td>u</td><td>_chr1_000002</td><td>_chr1_000002.1</td><td>15</td><td>0</td><td>0</td><td>0</td><td>3609</td><td>_chr1_000002.1</td><td>-   </td></tr>\n",
       "\t<tr><th scope=row>3</th><td>-              </td><td>-                   </td><td>u</td><td>_chr1_000003</td><td>_chr1_000003.1</td><td>11</td><td>0</td><td>0</td><td>0</td><td>2362</td><td>_chr1_000003.1</td><td>-   </td></tr>\n",
       "\t<tr><th scope=row>4</th><td>Zm00001eb000200</td><td>Zm00001eb000200_T001</td><td>c</td><td>_chr1_000004</td><td>_chr1_000004.1</td><td> 1</td><td>0</td><td>0</td><td>0</td><td> 810</td><td>_chr1_000004.1</td><td>845 </td></tr>\n",
       "\t<tr><th scope=row>5</th><td>Zm00001eb000210</td><td>Zm00001eb000210_T001</td><td>m</td><td>_chr1_000005</td><td>_chr1_000005.1</td><td>17</td><td>0</td><td>0</td><td>0</td><td>2863</td><td>_chr1_000005.1</td><td>3446</td></tr>\n",
       "\t<tr><th scope=row>6</th><td>Zm00001eb000210</td><td>Zm00001eb000210_T002</td><td>c</td><td>_chr1_000006</td><td>_chr1_000006.1</td><td> 2</td><td>0</td><td>0</td><td>0</td><td>1109</td><td>_chr1_000006.1</td><td>3465</td></tr>\n",
       "</tbody>\n",
       "</table>\n"
      ],
      "text/latex": [
       "A data.frame: 6 × 12\n",
       "\\begin{tabular}{r|llllllllllll}\n",
       "  & ref\\_gene\\_id & ref\\_id & class\\_code & qry\\_gene\\_id & qry\\_id & num\\_exons & FPKM & TPM & cov & len & major\\_iso\\_id & ref\\_match\\_len\\\\\n",
       "  & <chr> & <chr> & <chr> & <chr> & <chr> & <int> & <dbl> & <dbl> & <dbl> & <int> & <chr> & <chr>\\\\\n",
       "\\hline\n",
       "\t1 & Zm00001eb000010 & Zm00001eb000010\\_T001 & m & \\_chr1\\_000001 & \\_chr1\\_000001.1 &  8 & 0 & 0 & 0 & 3605 & \\_chr1\\_000001.1 & 3615\\\\\n",
       "\t2 & -               & -                    & u & \\_chr1\\_000002 & \\_chr1\\_000002.1 & 15 & 0 & 0 & 0 & 3609 & \\_chr1\\_000002.1 & -   \\\\\n",
       "\t3 & -               & -                    & u & \\_chr1\\_000003 & \\_chr1\\_000003.1 & 11 & 0 & 0 & 0 & 2362 & \\_chr1\\_000003.1 & -   \\\\\n",
       "\t4 & Zm00001eb000200 & Zm00001eb000200\\_T001 & c & \\_chr1\\_000004 & \\_chr1\\_000004.1 &  1 & 0 & 0 & 0 &  810 & \\_chr1\\_000004.1 & 845 \\\\\n",
       "\t5 & Zm00001eb000210 & Zm00001eb000210\\_T001 & m & \\_chr1\\_000005 & \\_chr1\\_000005.1 & 17 & 0 & 0 & 0 & 2863 & \\_chr1\\_000005.1 & 3446\\\\\n",
       "\t6 & Zm00001eb000210 & Zm00001eb000210\\_T002 & c & \\_chr1\\_000006 & \\_chr1\\_000006.1 &  2 & 0 & 0 & 0 & 1109 & \\_chr1\\_000006.1 & 3465\\\\\n",
       "\\end{tabular}\n"
      ],
      "text/markdown": [
       "\n",
       "A data.frame: 6 × 12\n",
       "\n",
       "| <!--/--> | ref_gene_id &lt;chr&gt; | ref_id &lt;chr&gt; | class_code &lt;chr&gt; | qry_gene_id &lt;chr&gt; | qry_id &lt;chr&gt; | num_exons &lt;int&gt; | FPKM &lt;dbl&gt; | TPM &lt;dbl&gt; | cov &lt;dbl&gt; | len &lt;int&gt; | major_iso_id &lt;chr&gt; | ref_match_len &lt;chr&gt; |\n",
       "|---|---|---|---|---|---|---|---|---|---|---|---|---|\n",
       "| 1 | Zm00001eb000010 | Zm00001eb000010_T001 | m | _chr1_000001 | _chr1_000001.1 |  8 | 0 | 0 | 0 | 3605 | _chr1_000001.1 | 3615 |\n",
       "| 2 | -               | -                    | u | _chr1_000002 | _chr1_000002.1 | 15 | 0 | 0 | 0 | 3609 | _chr1_000002.1 | -    |\n",
       "| 3 | -               | -                    | u | _chr1_000003 | _chr1_000003.1 | 11 | 0 | 0 | 0 | 2362 | _chr1_000003.1 | -    |\n",
       "| 4 | Zm00001eb000200 | Zm00001eb000200_T001 | c | _chr1_000004 | _chr1_000004.1 |  1 | 0 | 0 | 0 |  810 | _chr1_000004.1 | 845  |\n",
       "| 5 | Zm00001eb000210 | Zm00001eb000210_T001 | m | _chr1_000005 | _chr1_000005.1 | 17 | 0 | 0 | 0 | 2863 | _chr1_000005.1 | 3446 |\n",
       "| 6 | Zm00001eb000210 | Zm00001eb000210_T002 | c | _chr1_000006 | _chr1_000006.1 |  2 | 0 | 0 | 0 | 1109 | _chr1_000006.1 | 3465 |\n",
       "\n"
      ],
      "text/plain": [
       "  ref_gene_id     ref_id               class_code qry_gene_id  qry_id        \n",
       "1 Zm00001eb000010 Zm00001eb000010_T001 m          _chr1_000001 _chr1_000001.1\n",
       "2 -               -                    u          _chr1_000002 _chr1_000002.1\n",
       "3 -               -                    u          _chr1_000003 _chr1_000003.1\n",
       "4 Zm00001eb000200 Zm00001eb000200_T001 c          _chr1_000004 _chr1_000004.1\n",
       "5 Zm00001eb000210 Zm00001eb000210_T001 m          _chr1_000005 _chr1_000005.1\n",
       "6 Zm00001eb000210 Zm00001eb000210_T002 c          _chr1_000006 _chr1_000006.1\n",
       "  num_exons FPKM TPM cov len  major_iso_id   ref_match_len\n",
       "1  8        0    0   0   3605 _chr1_000001.1 3615         \n",
       "2 15        0    0   0   3609 _chr1_000002.1 -            \n",
       "3 11        0    0   0   2362 _chr1_000003.1 -            \n",
       "4  1        0    0   0    810 _chr1_000004.1 845          \n",
       "5 17        0    0   0   2863 _chr1_000005.1 3446         \n",
       "6  2        0    0   0   1109 _chr1_000006.1 3465         "
      ]
     },
     "metadata": {},
     "output_type": "display_data"
    }
   ],
   "source": [
    "head(gffComp)"
   ]
  },
  {
   "cell_type": "code",
   "execution_count": 63,
   "id": "89978486",
   "metadata": {},
   "outputs": [
    {
     "data": {
      "text/plain": [
       "\n",
       "    =     c     k     m     n     j \n",
       "12960  1788  4442   664   743 11201 "
      ]
     },
     "metadata": {},
     "output_type": "display_data"
    },
    {
     "data": {
      "text/html": [
       "31798"
      ],
      "text/latex": [
       "31798"
      ],
      "text/markdown": [
       "31798"
      ],
      "text/plain": [
       "[1] 31798"
      ]
     },
     "metadata": {},
     "output_type": "display_data"
    }
   ],
   "source": [
    "table(gffComp$class_code)[c(\"=\",\"c\",\"k\",\"m\",\"n\",\"j\")]\n",
    "sum(table(gffComp$class_code)[c(\"=\",\"c\",\"k\",\"m\",\"n\",\"j\")])"
   ]
  },
  {
   "cell_type": "code",
   "execution_count": 64,
   "id": "ce240cbd",
   "metadata": {},
   "outputs": [],
   "source": [
    "gffComp_filtered = gffComp[gffComp$class_code%in%c(\"=\",\"c\",\"k\",\"m\",\"n\",\"j\"),]"
   ]
  },
  {
   "cell_type": "code",
   "execution_count": 66,
   "id": "ce2694b1",
   "metadata": {},
   "outputs": [
    {
     "data": {
      "text/html": [
       "<table class=\"dataframe\">\n",
       "<caption>A data.frame: 31798 × 2</caption>\n",
       "<thead>\n",
       "\t<tr><th></th><th scope=col>ref_gene_id</th><th scope=col>qry_gene_id</th></tr>\n",
       "\t<tr><th></th><th scope=col>&lt;chr&gt;</th><th scope=col>&lt;chr&gt;</th></tr>\n",
       "</thead>\n",
       "<tbody>\n",
       "\t<tr><th scope=row>1</th><td>Zm00001eb000010</td><td>_chr1_000001</td></tr>\n",
       "\t<tr><th scope=row>4</th><td>Zm00001eb000200</td><td>_chr1_000004</td></tr>\n",
       "\t<tr><th scope=row>5</th><td>Zm00001eb000210</td><td>_chr1_000005</td></tr>\n",
       "\t<tr><th scope=row>6</th><td>Zm00001eb000210</td><td>_chr1_000006</td></tr>\n",
       "\t<tr><th scope=row>8</th><td>Zm00001eb000220</td><td>_chr1_000008</td></tr>\n",
       "\t<tr><th scope=row>9</th><td>Zm00001eb000230</td><td>_chr1_000009</td></tr>\n",
       "\t<tr><th scope=row>10</th><td>Zm00001eb000250</td><td>_chr1_000010</td></tr>\n",
       "\t<tr><th scope=row>14</th><td>Zm00001eb000340</td><td>_chr1_000014</td></tr>\n",
       "\t<tr><th scope=row>15</th><td>Zm00001eb000360</td><td>_chr1_000015</td></tr>\n",
       "\t<tr><th scope=row>16</th><td>Zm00001eb000380</td><td>_chr1_000016</td></tr>\n",
       "\t<tr><th scope=row>17</th><td>Zm00001eb000390</td><td>_chr1_000017</td></tr>\n",
       "\t<tr><th scope=row>21</th><td>Zm00001eb000440</td><td>_chr1_000021</td></tr>\n",
       "\t<tr><th scope=row>23</th><td>Zm00001eb000490</td><td>_chr1_000023</td></tr>\n",
       "\t<tr><th scope=row>24</th><td>Zm00001eb000570</td><td>_chr1_000024</td></tr>\n",
       "\t<tr><th scope=row>25</th><td>Zm00001eb000590</td><td>_chr1_000025</td></tr>\n",
       "\t<tr><th scope=row>26</th><td>Zm00001eb000640</td><td>_chr1_000026</td></tr>\n",
       "\t<tr><th scope=row>27</th><td>Zm00001eb000650</td><td>_chr1_000027</td></tr>\n",
       "\t<tr><th scope=row>28</th><td>Zm00001eb000670</td><td>_chr1_000028</td></tr>\n",
       "\t<tr><th scope=row>29</th><td>Zm00001eb000690</td><td>_chr1_000029</td></tr>\n",
       "\t<tr><th scope=row>30</th><td>Zm00001eb000710</td><td>_chr1_000030</td></tr>\n",
       "\t<tr><th scope=row>31</th><td>Zm00001eb000740</td><td>_chr1_000031</td></tr>\n",
       "\t<tr><th scope=row>32</th><td>Zm00001eb000760</td><td>_chr1_000032</td></tr>\n",
       "\t<tr><th scope=row>33</th><td>Zm00001eb000770</td><td>_chr1_000033</td></tr>\n",
       "\t<tr><th scope=row>34</th><td>Zm00001eb000780</td><td>_chr1_000034</td></tr>\n",
       "\t<tr><th scope=row>35</th><td>Zm00001eb000790</td><td>_chr1_000035</td></tr>\n",
       "\t<tr><th scope=row>36</th><td>Zm00001eb000820</td><td>_chr1_000036</td></tr>\n",
       "\t<tr><th scope=row>37</th><td>Zm00001eb000840</td><td>_chr1_000037</td></tr>\n",
       "\t<tr><th scope=row>38</th><td>Zm00001eb000860</td><td>_chr1_000038</td></tr>\n",
       "\t<tr><th scope=row>39</th><td>Zm00001eb000870</td><td>_chr1_000039</td></tr>\n",
       "\t<tr><th scope=row>40</th><td>Zm00001eb000890</td><td>_chr1_000040</td></tr>\n",
       "\t<tr><th scope=row>⋮</th><td>⋮</td><td>⋮</td></tr>\n",
       "\t<tr><th scope=row>41762</th><td>Zm00001eb442740</td><td>_scaf_621_000006</td></tr>\n",
       "\t<tr><th scope=row>41769</th><td>Zm00001eb442780</td><td>_scaf_625_000001</td></tr>\n",
       "\t<tr><th scope=row>41778</th><td>Zm00001eb442790</td><td>_scaf_640_000001</td></tr>\n",
       "\t<tr><th scope=row>41779</th><td>Zm00001eb442800</td><td>_scaf_640_000002</td></tr>\n",
       "\t<tr><th scope=row>41780</th><td>Zm00001eb442810</td><td>_scaf_644_000001</td></tr>\n",
       "\t<tr><th scope=row>41781</th><td>Zm00001eb442820</td><td>_scaf_644_000002</td></tr>\n",
       "\t<tr><th scope=row>41795</th><td>Zm00001eb442870</td><td>_scaf_651_000001</td></tr>\n",
       "\t<tr><th scope=row>41797</th><td>Zm00001eb442850</td><td>_scaf_651_000003</td></tr>\n",
       "\t<tr><th scope=row>41798</th><td>Zm00001eb442850</td><td>_scaf_651_000004</td></tr>\n",
       "\t<tr><th scope=row>41799</th><td>Zm00001eb442840</td><td>_scaf_651_000005</td></tr>\n",
       "\t<tr><th scope=row>41800</th><td>Zm00001eb442880</td><td>_scaf_656_000001</td></tr>\n",
       "\t<tr><th scope=row>41803</th><td>Zm00001eb442890</td><td>_scaf_659_000001</td></tr>\n",
       "\t<tr><th scope=row>41804</th><td>Zm00001eb442890</td><td>_scaf_659_000002</td></tr>\n",
       "\t<tr><th scope=row>41805</th><td>Zm00001eb436380</td><td>_scaf_66_000001 </td></tr>\n",
       "\t<tr><th scope=row>41806</th><td>Zm00001eb436400</td><td>_scaf_66_000002 </td></tr>\n",
       "\t<tr><th scope=row>41823</th><td>Zm00001eb442940</td><td>_scaf_670_000001</td></tr>\n",
       "\t<tr><th scope=row>41825</th><td>Zm00001eb442960</td><td>_scaf_674_000001</td></tr>\n",
       "\t<tr><th scope=row>41826</th><td>Zm00001eb442960</td><td>_scaf_674_000002</td></tr>\n",
       "\t<tr><th scope=row>41827</th><td>Zm00001eb442970</td><td>_scaf_674_000003</td></tr>\n",
       "\t<tr><th scope=row>41828</th><td>Zm00001eb442980</td><td>_scaf_674_000004</td></tr>\n",
       "\t<tr><th scope=row>41830</th><td>Zm00001eb442990</td><td>_scaf_675_000002</td></tr>\n",
       "\t<tr><th scope=row>41837</th><td>Zm00001eb443000</td><td>_scaf_675_000009</td></tr>\n",
       "\t<tr><th scope=row>41852</th><td>Zm00001eb443030</td><td>_scaf_695_000001</td></tr>\n",
       "\t<tr><th scope=row>41858</th><td>Zm00001eb436490</td><td>_scaf_72_000006 </td></tr>\n",
       "\t<tr><th scope=row>41862</th><td>Zm00001eb436450</td><td>_scaf_72_000010 </td></tr>\n",
       "\t<tr><th scope=row>41892</th><td>Zm00001eb436880</td><td>_scaf_87_000030 </td></tr>\n",
       "\t<tr><th scope=row>41894</th><td>Zm00001eb436840</td><td>_scaf_87_000032 </td></tr>\n",
       "\t<tr><th scope=row>41896</th><td>Zm00001eb436810</td><td>_scaf_87_000034 </td></tr>\n",
       "\t<tr><th scope=row>41899</th><td>Zm00001eb436800</td><td>_scaf_87_000037 </td></tr>\n",
       "\t<tr><th scope=row>41914</th><td>Zm00001eb437040</td><td>_scaf_94_000008 </td></tr>\n",
       "</tbody>\n",
       "</table>\n"
      ],
      "text/latex": [
       "A data.frame: 31798 × 2\n",
       "\\begin{tabular}{r|ll}\n",
       "  & ref\\_gene\\_id & qry\\_gene\\_id\\\\\n",
       "  & <chr> & <chr>\\\\\n",
       "\\hline\n",
       "\t1 & Zm00001eb000010 & \\_chr1\\_000001\\\\\n",
       "\t4 & Zm00001eb000200 & \\_chr1\\_000004\\\\\n",
       "\t5 & Zm00001eb000210 & \\_chr1\\_000005\\\\\n",
       "\t6 & Zm00001eb000210 & \\_chr1\\_000006\\\\\n",
       "\t8 & Zm00001eb000220 & \\_chr1\\_000008\\\\\n",
       "\t9 & Zm00001eb000230 & \\_chr1\\_000009\\\\\n",
       "\t10 & Zm00001eb000250 & \\_chr1\\_000010\\\\\n",
       "\t14 & Zm00001eb000340 & \\_chr1\\_000014\\\\\n",
       "\t15 & Zm00001eb000360 & \\_chr1\\_000015\\\\\n",
       "\t16 & Zm00001eb000380 & \\_chr1\\_000016\\\\\n",
       "\t17 & Zm00001eb000390 & \\_chr1\\_000017\\\\\n",
       "\t21 & Zm00001eb000440 & \\_chr1\\_000021\\\\\n",
       "\t23 & Zm00001eb000490 & \\_chr1\\_000023\\\\\n",
       "\t24 & Zm00001eb000570 & \\_chr1\\_000024\\\\\n",
       "\t25 & Zm00001eb000590 & \\_chr1\\_000025\\\\\n",
       "\t26 & Zm00001eb000640 & \\_chr1\\_000026\\\\\n",
       "\t27 & Zm00001eb000650 & \\_chr1\\_000027\\\\\n",
       "\t28 & Zm00001eb000670 & \\_chr1\\_000028\\\\\n",
       "\t29 & Zm00001eb000690 & \\_chr1\\_000029\\\\\n",
       "\t30 & Zm00001eb000710 & \\_chr1\\_000030\\\\\n",
       "\t31 & Zm00001eb000740 & \\_chr1\\_000031\\\\\n",
       "\t32 & Zm00001eb000760 & \\_chr1\\_000032\\\\\n",
       "\t33 & Zm00001eb000770 & \\_chr1\\_000033\\\\\n",
       "\t34 & Zm00001eb000780 & \\_chr1\\_000034\\\\\n",
       "\t35 & Zm00001eb000790 & \\_chr1\\_000035\\\\\n",
       "\t36 & Zm00001eb000820 & \\_chr1\\_000036\\\\\n",
       "\t37 & Zm00001eb000840 & \\_chr1\\_000037\\\\\n",
       "\t38 & Zm00001eb000860 & \\_chr1\\_000038\\\\\n",
       "\t39 & Zm00001eb000870 & \\_chr1\\_000039\\\\\n",
       "\t40 & Zm00001eb000890 & \\_chr1\\_000040\\\\\n",
       "\t⋮ & ⋮ & ⋮\\\\\n",
       "\t41762 & Zm00001eb442740 & \\_scaf\\_621\\_000006\\\\\n",
       "\t41769 & Zm00001eb442780 & \\_scaf\\_625\\_000001\\\\\n",
       "\t41778 & Zm00001eb442790 & \\_scaf\\_640\\_000001\\\\\n",
       "\t41779 & Zm00001eb442800 & \\_scaf\\_640\\_000002\\\\\n",
       "\t41780 & Zm00001eb442810 & \\_scaf\\_644\\_000001\\\\\n",
       "\t41781 & Zm00001eb442820 & \\_scaf\\_644\\_000002\\\\\n",
       "\t41795 & Zm00001eb442870 & \\_scaf\\_651\\_000001\\\\\n",
       "\t41797 & Zm00001eb442850 & \\_scaf\\_651\\_000003\\\\\n",
       "\t41798 & Zm00001eb442850 & \\_scaf\\_651\\_000004\\\\\n",
       "\t41799 & Zm00001eb442840 & \\_scaf\\_651\\_000005\\\\\n",
       "\t41800 & Zm00001eb442880 & \\_scaf\\_656\\_000001\\\\\n",
       "\t41803 & Zm00001eb442890 & \\_scaf\\_659\\_000001\\\\\n",
       "\t41804 & Zm00001eb442890 & \\_scaf\\_659\\_000002\\\\\n",
       "\t41805 & Zm00001eb436380 & \\_scaf\\_66\\_000001 \\\\\n",
       "\t41806 & Zm00001eb436400 & \\_scaf\\_66\\_000002 \\\\\n",
       "\t41823 & Zm00001eb442940 & \\_scaf\\_670\\_000001\\\\\n",
       "\t41825 & Zm00001eb442960 & \\_scaf\\_674\\_000001\\\\\n",
       "\t41826 & Zm00001eb442960 & \\_scaf\\_674\\_000002\\\\\n",
       "\t41827 & Zm00001eb442970 & \\_scaf\\_674\\_000003\\\\\n",
       "\t41828 & Zm00001eb442980 & \\_scaf\\_674\\_000004\\\\\n",
       "\t41830 & Zm00001eb442990 & \\_scaf\\_675\\_000002\\\\\n",
       "\t41837 & Zm00001eb443000 & \\_scaf\\_675\\_000009\\\\\n",
       "\t41852 & Zm00001eb443030 & \\_scaf\\_695\\_000001\\\\\n",
       "\t41858 & Zm00001eb436490 & \\_scaf\\_72\\_000006 \\\\\n",
       "\t41862 & Zm00001eb436450 & \\_scaf\\_72\\_000010 \\\\\n",
       "\t41892 & Zm00001eb436880 & \\_scaf\\_87\\_000030 \\\\\n",
       "\t41894 & Zm00001eb436840 & \\_scaf\\_87\\_000032 \\\\\n",
       "\t41896 & Zm00001eb436810 & \\_scaf\\_87\\_000034 \\\\\n",
       "\t41899 & Zm00001eb436800 & \\_scaf\\_87\\_000037 \\\\\n",
       "\t41914 & Zm00001eb437040 & \\_scaf\\_94\\_000008 \\\\\n",
       "\\end{tabular}\n"
      ],
      "text/markdown": [
       "\n",
       "A data.frame: 31798 × 2\n",
       "\n",
       "| <!--/--> | ref_gene_id &lt;chr&gt; | qry_gene_id &lt;chr&gt; |\n",
       "|---|---|---|\n",
       "| 1 | Zm00001eb000010 | _chr1_000001 |\n",
       "| 4 | Zm00001eb000200 | _chr1_000004 |\n",
       "| 5 | Zm00001eb000210 | _chr1_000005 |\n",
       "| 6 | Zm00001eb000210 | _chr1_000006 |\n",
       "| 8 | Zm00001eb000220 | _chr1_000008 |\n",
       "| 9 | Zm00001eb000230 | _chr1_000009 |\n",
       "| 10 | Zm00001eb000250 | _chr1_000010 |\n",
       "| 14 | Zm00001eb000340 | _chr1_000014 |\n",
       "| 15 | Zm00001eb000360 | _chr1_000015 |\n",
       "| 16 | Zm00001eb000380 | _chr1_000016 |\n",
       "| 17 | Zm00001eb000390 | _chr1_000017 |\n",
       "| 21 | Zm00001eb000440 | _chr1_000021 |\n",
       "| 23 | Zm00001eb000490 | _chr1_000023 |\n",
       "| 24 | Zm00001eb000570 | _chr1_000024 |\n",
       "| 25 | Zm00001eb000590 | _chr1_000025 |\n",
       "| 26 | Zm00001eb000640 | _chr1_000026 |\n",
       "| 27 | Zm00001eb000650 | _chr1_000027 |\n",
       "| 28 | Zm00001eb000670 | _chr1_000028 |\n",
       "| 29 | Zm00001eb000690 | _chr1_000029 |\n",
       "| 30 | Zm00001eb000710 | _chr1_000030 |\n",
       "| 31 | Zm00001eb000740 | _chr1_000031 |\n",
       "| 32 | Zm00001eb000760 | _chr1_000032 |\n",
       "| 33 | Zm00001eb000770 | _chr1_000033 |\n",
       "| 34 | Zm00001eb000780 | _chr1_000034 |\n",
       "| 35 | Zm00001eb000790 | _chr1_000035 |\n",
       "| 36 | Zm00001eb000820 | _chr1_000036 |\n",
       "| 37 | Zm00001eb000840 | _chr1_000037 |\n",
       "| 38 | Zm00001eb000860 | _chr1_000038 |\n",
       "| 39 | Zm00001eb000870 | _chr1_000039 |\n",
       "| 40 | Zm00001eb000890 | _chr1_000040 |\n",
       "| ⋮ | ⋮ | ⋮ |\n",
       "| 41762 | Zm00001eb442740 | _scaf_621_000006 |\n",
       "| 41769 | Zm00001eb442780 | _scaf_625_000001 |\n",
       "| 41778 | Zm00001eb442790 | _scaf_640_000001 |\n",
       "| 41779 | Zm00001eb442800 | _scaf_640_000002 |\n",
       "| 41780 | Zm00001eb442810 | _scaf_644_000001 |\n",
       "| 41781 | Zm00001eb442820 | _scaf_644_000002 |\n",
       "| 41795 | Zm00001eb442870 | _scaf_651_000001 |\n",
       "| 41797 | Zm00001eb442850 | _scaf_651_000003 |\n",
       "| 41798 | Zm00001eb442850 | _scaf_651_000004 |\n",
       "| 41799 | Zm00001eb442840 | _scaf_651_000005 |\n",
       "| 41800 | Zm00001eb442880 | _scaf_656_000001 |\n",
       "| 41803 | Zm00001eb442890 | _scaf_659_000001 |\n",
       "| 41804 | Zm00001eb442890 | _scaf_659_000002 |\n",
       "| 41805 | Zm00001eb436380 | _scaf_66_000001  |\n",
       "| 41806 | Zm00001eb436400 | _scaf_66_000002  |\n",
       "| 41823 | Zm00001eb442940 | _scaf_670_000001 |\n",
       "| 41825 | Zm00001eb442960 | _scaf_674_000001 |\n",
       "| 41826 | Zm00001eb442960 | _scaf_674_000002 |\n",
       "| 41827 | Zm00001eb442970 | _scaf_674_000003 |\n",
       "| 41828 | Zm00001eb442980 | _scaf_674_000004 |\n",
       "| 41830 | Zm00001eb442990 | _scaf_675_000002 |\n",
       "| 41837 | Zm00001eb443000 | _scaf_675_000009 |\n",
       "| 41852 | Zm00001eb443030 | _scaf_695_000001 |\n",
       "| 41858 | Zm00001eb436490 | _scaf_72_000006  |\n",
       "| 41862 | Zm00001eb436450 | _scaf_72_000010  |\n",
       "| 41892 | Zm00001eb436880 | _scaf_87_000030  |\n",
       "| 41894 | Zm00001eb436840 | _scaf_87_000032  |\n",
       "| 41896 | Zm00001eb436810 | _scaf_87_000034  |\n",
       "| 41899 | Zm00001eb436800 | _scaf_87_000037  |\n",
       "| 41914 | Zm00001eb437040 | _scaf_94_000008  |\n",
       "\n"
      ],
      "text/plain": [
       "      ref_gene_id     qry_gene_id     \n",
       "1     Zm00001eb000010 _chr1_000001    \n",
       "4     Zm00001eb000200 _chr1_000004    \n",
       "5     Zm00001eb000210 _chr1_000005    \n",
       "6     Zm00001eb000210 _chr1_000006    \n",
       "8     Zm00001eb000220 _chr1_000008    \n",
       "9     Zm00001eb000230 _chr1_000009    \n",
       "10    Zm00001eb000250 _chr1_000010    \n",
       "14    Zm00001eb000340 _chr1_000014    \n",
       "15    Zm00001eb000360 _chr1_000015    \n",
       "16    Zm00001eb000380 _chr1_000016    \n",
       "17    Zm00001eb000390 _chr1_000017    \n",
       "21    Zm00001eb000440 _chr1_000021    \n",
       "23    Zm00001eb000490 _chr1_000023    \n",
       "24    Zm00001eb000570 _chr1_000024    \n",
       "25    Zm00001eb000590 _chr1_000025    \n",
       "26    Zm00001eb000640 _chr1_000026    \n",
       "27    Zm00001eb000650 _chr1_000027    \n",
       "28    Zm00001eb000670 _chr1_000028    \n",
       "29    Zm00001eb000690 _chr1_000029    \n",
       "30    Zm00001eb000710 _chr1_000030    \n",
       "31    Zm00001eb000740 _chr1_000031    \n",
       "32    Zm00001eb000760 _chr1_000032    \n",
       "33    Zm00001eb000770 _chr1_000033    \n",
       "34    Zm00001eb000780 _chr1_000034    \n",
       "35    Zm00001eb000790 _chr1_000035    \n",
       "36    Zm00001eb000820 _chr1_000036    \n",
       "37    Zm00001eb000840 _chr1_000037    \n",
       "38    Zm00001eb000860 _chr1_000038    \n",
       "39    Zm00001eb000870 _chr1_000039    \n",
       "40    Zm00001eb000890 _chr1_000040    \n",
       "⋮     ⋮               ⋮               \n",
       "41762 Zm00001eb442740 _scaf_621_000006\n",
       "41769 Zm00001eb442780 _scaf_625_000001\n",
       "41778 Zm00001eb442790 _scaf_640_000001\n",
       "41779 Zm00001eb442800 _scaf_640_000002\n",
       "41780 Zm00001eb442810 _scaf_644_000001\n",
       "41781 Zm00001eb442820 _scaf_644_000002\n",
       "41795 Zm00001eb442870 _scaf_651_000001\n",
       "41797 Zm00001eb442850 _scaf_651_000003\n",
       "41798 Zm00001eb442850 _scaf_651_000004\n",
       "41799 Zm00001eb442840 _scaf_651_000005\n",
       "41800 Zm00001eb442880 _scaf_656_000001\n",
       "41803 Zm00001eb442890 _scaf_659_000001\n",
       "41804 Zm00001eb442890 _scaf_659_000002\n",
       "41805 Zm00001eb436380 _scaf_66_000001 \n",
       "41806 Zm00001eb436400 _scaf_66_000002 \n",
       "41823 Zm00001eb442940 _scaf_670_000001\n",
       "41825 Zm00001eb442960 _scaf_674_000001\n",
       "41826 Zm00001eb442960 _scaf_674_000002\n",
       "41827 Zm00001eb442970 _scaf_674_000003\n",
       "41828 Zm00001eb442980 _scaf_674_000004\n",
       "41830 Zm00001eb442990 _scaf_675_000002\n",
       "41837 Zm00001eb443000 _scaf_675_000009\n",
       "41852 Zm00001eb443030 _scaf_695_000001\n",
       "41858 Zm00001eb436490 _scaf_72_000006 \n",
       "41862 Zm00001eb436450 _scaf_72_000010 \n",
       "41892 Zm00001eb436880 _scaf_87_000030 \n",
       "41894 Zm00001eb436840 _scaf_87_000032 \n",
       "41896 Zm00001eb436810 _scaf_87_000034 \n",
       "41899 Zm00001eb436800 _scaf_87_000037 \n",
       "41914 Zm00001eb437040 _scaf_94_000008 "
      ]
     },
     "metadata": {},
     "output_type": "display_data"
    }
   ],
   "source": [
    "gffComp_filtered[,c(1,4)]"
   ]
  },
  {
   "cell_type": "code",
   "execution_count": 47,
   "id": "3de2f31b",
   "metadata": {},
   "outputs": [],
   "source": [
    "OG_geneID = read.delim(\"/workdir/sh2246/p_phyloGWAS/output/OrthoFinder/Results_Jun06/Orthogroups/Orthogroups.tsv\",header =T)"
   ]
  },
  {
   "cell_type": "code",
   "execution_count": 60,
   "id": "33ff41ea",
   "metadata": {},
   "outputs": [
    {
     "data": {
      "text/html": [
       "<table class=\"dataframe\">\n",
       "<caption>A data.frame: 6 × 2</caption>\n",
       "<thead>\n",
       "\t<tr><th></th><th scope=col>Orthogroup</th><th scope=col>Zm.B73.REFERENCE.NAM.5.0.aa</th></tr>\n",
       "\t<tr><th></th><th scope=col>&lt;chr&gt;</th><th scope=col>&lt;chr&gt;</th></tr>\n",
       "</thead>\n",
       "<tbody>\n",
       "\t<tr><th scope=row>34</th><td>OG0000033</td><td>_chr10_002195.1, _chr10_002565.1, _chr1_001569.1, _chr1_001570.1, _chr2_001452.1, _chr4_001461.1, _chr4_002695.1, _chr6_000131.1, _chr6_000231.1, _chr6_000232.1, _chr6_003201.1, _chr6_003202.1, _chr6_003203.1, _chr7_002917.1, _chr8_002589.1, _chr9_000976.1, _chr9_002984.1                                                                                   </td></tr>\n",
       "\t<tr><th scope=row>54</th><td>OG0000053</td><td>_chr10_000334.1, _chr10_002322.1, _chr10_002323.1, _chr10_002324.1, _chr10_002326.1, _chr4_000347.1, _chr4_000348.1, _chr4_000349.1, _chr4_000350.1, _chr4_000351.1, _chr4_000352.1, _chr4_000353.1, _chr4_000354.1, _chr4_000355.1, _chr4_000356.1, _chr4_000357.1, _chr4_000358.1, _chr4_000359.1, _chr4_000360.1, _chr4_003836.1, _chr4_003837.1, _chr4_003838.1</td></tr>\n",
       "\t<tr><th scope=row>60</th><td>OG0000059</td><td>_chr10_002700.1, _chr10_002704.1, _chr1_001871.1, _chr1_005284.1, _chr1_005287.1, _chr1_005288.1, _chr2_001256.1, _chr4_000272.1, _chr4_000275.1, _chr4_001491.1, _chr4_001492.1, _chr4_002455.1, _chr4_003894.1, _chr4_004008.1, _chr6_001971.1, _chr6_001972.1, _chr6_001973.1, _chr6_001974.1, _chr8_000948.1, _chr9_000952.1, _chr9_002191.1                   </td></tr>\n",
       "\t<tr><th scope=row>63</th><td>OG0000062</td><td>_chr10_000749.1, _chr10_000766.1, _chr1_000925.1, _chr2_004126.1, _chr2_004136.1, _chr2_004233.1, _chr3_002971.1, _chr3_003381.1, _chr3_003976.1, _chr4_000760.1, _chr5_001621.1, _chr5_003139.1, _chr6_000448.1, _chr6_003046.1, _chr8_002062.1, _chr9_000222.1, _chr9_000324.1                                                                                   </td></tr>\n",
       "\t<tr><th scope=row>68</th><td>OG0000067</td><td>_chr2_002576.1, _chr7_000060.1, _chr7_002889.1, _chr7_003124.1                                                                                                                                                                                                                                                                                                     </td></tr>\n",
       "\t<tr><th scope=row>71</th><td>OG0000070</td><td>_chr10_000118.1, _chr10_000242.1, _chr10_000753.1, _chr10_000754.1, _chr10_000755.1, _chr10_000756.1, _chr10_000757.1, _chr10_000758.1, _chr10_000759.1, _chr10_001929.1, _chr10_002559.1, _chr2_004137.1, _chr3_000264.1, _chr7_001101.1                                                                                                                          </td></tr>\n",
       "</tbody>\n",
       "</table>\n"
      ],
      "text/latex": [
       "A data.frame: 6 × 2\n",
       "\\begin{tabular}{r|ll}\n",
       "  & Orthogroup & Zm.B73.REFERENCE.NAM.5.0.aa\\\\\n",
       "  & <chr> & <chr>\\\\\n",
       "\\hline\n",
       "\t34 & OG0000033 & \\_chr10\\_002195.1, \\_chr10\\_002565.1, \\_chr1\\_001569.1, \\_chr1\\_001570.1, \\_chr2\\_001452.1, \\_chr4\\_001461.1, \\_chr4\\_002695.1, \\_chr6\\_000131.1, \\_chr6\\_000231.1, \\_chr6\\_000232.1, \\_chr6\\_003201.1, \\_chr6\\_003202.1, \\_chr6\\_003203.1, \\_chr7\\_002917.1, \\_chr8\\_002589.1, \\_chr9\\_000976.1, \\_chr9\\_002984.1                                                                                   \\\\\n",
       "\t54 & OG0000053 & \\_chr10\\_000334.1, \\_chr10\\_002322.1, \\_chr10\\_002323.1, \\_chr10\\_002324.1, \\_chr10\\_002326.1, \\_chr4\\_000347.1, \\_chr4\\_000348.1, \\_chr4\\_000349.1, \\_chr4\\_000350.1, \\_chr4\\_000351.1, \\_chr4\\_000352.1, \\_chr4\\_000353.1, \\_chr4\\_000354.1, \\_chr4\\_000355.1, \\_chr4\\_000356.1, \\_chr4\\_000357.1, \\_chr4\\_000358.1, \\_chr4\\_000359.1, \\_chr4\\_000360.1, \\_chr4\\_003836.1, \\_chr4\\_003837.1, \\_chr4\\_003838.1\\\\\n",
       "\t60 & OG0000059 & \\_chr10\\_002700.1, \\_chr10\\_002704.1, \\_chr1\\_001871.1, \\_chr1\\_005284.1, \\_chr1\\_005287.1, \\_chr1\\_005288.1, \\_chr2\\_001256.1, \\_chr4\\_000272.1, \\_chr4\\_000275.1, \\_chr4\\_001491.1, \\_chr4\\_001492.1, \\_chr4\\_002455.1, \\_chr4\\_003894.1, \\_chr4\\_004008.1, \\_chr6\\_001971.1, \\_chr6\\_001972.1, \\_chr6\\_001973.1, \\_chr6\\_001974.1, \\_chr8\\_000948.1, \\_chr9\\_000952.1, \\_chr9\\_002191.1                   \\\\\n",
       "\t63 & OG0000062 & \\_chr10\\_000749.1, \\_chr10\\_000766.1, \\_chr1\\_000925.1, \\_chr2\\_004126.1, \\_chr2\\_004136.1, \\_chr2\\_004233.1, \\_chr3\\_002971.1, \\_chr3\\_003381.1, \\_chr3\\_003976.1, \\_chr4\\_000760.1, \\_chr5\\_001621.1, \\_chr5\\_003139.1, \\_chr6\\_000448.1, \\_chr6\\_003046.1, \\_chr8\\_002062.1, \\_chr9\\_000222.1, \\_chr9\\_000324.1                                                                                   \\\\\n",
       "\t68 & OG0000067 & \\_chr2\\_002576.1, \\_chr7\\_000060.1, \\_chr7\\_002889.1, \\_chr7\\_003124.1                                                                                                                                                                                                                                                                                                     \\\\\n",
       "\t71 & OG0000070 & \\_chr10\\_000118.1, \\_chr10\\_000242.1, \\_chr10\\_000753.1, \\_chr10\\_000754.1, \\_chr10\\_000755.1, \\_chr10\\_000756.1, \\_chr10\\_000757.1, \\_chr10\\_000758.1, \\_chr10\\_000759.1, \\_chr10\\_001929.1, \\_chr10\\_002559.1, \\_chr2\\_004137.1, \\_chr3\\_000264.1, \\_chr7\\_001101.1                                                                                                                          \\\\\n",
       "\\end{tabular}\n"
      ],
      "text/markdown": [
       "\n",
       "A data.frame: 6 × 2\n",
       "\n",
       "| <!--/--> | Orthogroup &lt;chr&gt; | Zm.B73.REFERENCE.NAM.5.0.aa &lt;chr&gt; |\n",
       "|---|---|---|\n",
       "| 34 | OG0000033 | _chr10_002195.1, _chr10_002565.1, _chr1_001569.1, _chr1_001570.1, _chr2_001452.1, _chr4_001461.1, _chr4_002695.1, _chr6_000131.1, _chr6_000231.1, _chr6_000232.1, _chr6_003201.1, _chr6_003202.1, _chr6_003203.1, _chr7_002917.1, _chr8_002589.1, _chr9_000976.1, _chr9_002984.1                                                                                    |\n",
       "| 54 | OG0000053 | _chr10_000334.1, _chr10_002322.1, _chr10_002323.1, _chr10_002324.1, _chr10_002326.1, _chr4_000347.1, _chr4_000348.1, _chr4_000349.1, _chr4_000350.1, _chr4_000351.1, _chr4_000352.1, _chr4_000353.1, _chr4_000354.1, _chr4_000355.1, _chr4_000356.1, _chr4_000357.1, _chr4_000358.1, _chr4_000359.1, _chr4_000360.1, _chr4_003836.1, _chr4_003837.1, _chr4_003838.1 |\n",
       "| 60 | OG0000059 | _chr10_002700.1, _chr10_002704.1, _chr1_001871.1, _chr1_005284.1, _chr1_005287.1, _chr1_005288.1, _chr2_001256.1, _chr4_000272.1, _chr4_000275.1, _chr4_001491.1, _chr4_001492.1, _chr4_002455.1, _chr4_003894.1, _chr4_004008.1, _chr6_001971.1, _chr6_001972.1, _chr6_001973.1, _chr6_001974.1, _chr8_000948.1, _chr9_000952.1, _chr9_002191.1                    |\n",
       "| 63 | OG0000062 | _chr10_000749.1, _chr10_000766.1, _chr1_000925.1, _chr2_004126.1, _chr2_004136.1, _chr2_004233.1, _chr3_002971.1, _chr3_003381.1, _chr3_003976.1, _chr4_000760.1, _chr5_001621.1, _chr5_003139.1, _chr6_000448.1, _chr6_003046.1, _chr8_002062.1, _chr9_000222.1, _chr9_000324.1                                                                                    |\n",
       "| 68 | OG0000067 | _chr2_002576.1, _chr7_000060.1, _chr7_002889.1, _chr7_003124.1                                                                                                                                                                                                                                                                                                      |\n",
       "| 71 | OG0000070 | _chr10_000118.1, _chr10_000242.1, _chr10_000753.1, _chr10_000754.1, _chr10_000755.1, _chr10_000756.1, _chr10_000757.1, _chr10_000758.1, _chr10_000759.1, _chr10_001929.1, _chr10_002559.1, _chr2_004137.1, _chr3_000264.1, _chr7_001101.1                                                                                                                           |\n",
       "\n"
      ],
      "text/plain": [
       "   Orthogroup\n",
       "34 OG0000033 \n",
       "54 OG0000053 \n",
       "60 OG0000059 \n",
       "63 OG0000062 \n",
       "68 OG0000067 \n",
       "71 OG0000070 \n",
       "   Zm.B73.REFERENCE.NAM.5.0.aa                                                                                                                                                                                                                                                                                                                                        \n",
       "34 _chr10_002195.1, _chr10_002565.1, _chr1_001569.1, _chr1_001570.1, _chr2_001452.1, _chr4_001461.1, _chr4_002695.1, _chr6_000131.1, _chr6_000231.1, _chr6_000232.1, _chr6_003201.1, _chr6_003202.1, _chr6_003203.1, _chr7_002917.1, _chr8_002589.1, _chr9_000976.1, _chr9_002984.1                                                                                   \n",
       "54 _chr10_000334.1, _chr10_002322.1, _chr10_002323.1, _chr10_002324.1, _chr10_002326.1, _chr4_000347.1, _chr4_000348.1, _chr4_000349.1, _chr4_000350.1, _chr4_000351.1, _chr4_000352.1, _chr4_000353.1, _chr4_000354.1, _chr4_000355.1, _chr4_000356.1, _chr4_000357.1, _chr4_000358.1, _chr4_000359.1, _chr4_000360.1, _chr4_003836.1, _chr4_003837.1, _chr4_003838.1\n",
       "60 _chr10_002700.1, _chr10_002704.1, _chr1_001871.1, _chr1_005284.1, _chr1_005287.1, _chr1_005288.1, _chr2_001256.1, _chr4_000272.1, _chr4_000275.1, _chr4_001491.1, _chr4_001492.1, _chr4_002455.1, _chr4_003894.1, _chr4_004008.1, _chr6_001971.1, _chr6_001972.1, _chr6_001973.1, _chr6_001974.1, _chr8_000948.1, _chr9_000952.1, _chr9_002191.1                   \n",
       "63 _chr10_000749.1, _chr10_000766.1, _chr1_000925.1, _chr2_004126.1, _chr2_004136.1, _chr2_004233.1, _chr3_002971.1, _chr3_003381.1, _chr3_003976.1, _chr4_000760.1, _chr5_001621.1, _chr5_003139.1, _chr6_000448.1, _chr6_003046.1, _chr8_002062.1, _chr9_000222.1, _chr9_000324.1                                                                                   \n",
       "68 _chr2_002576.1, _chr7_000060.1, _chr7_002889.1, _chr7_003124.1                                                                                                                                                                                                                                                                                                     \n",
       "71 _chr10_000118.1, _chr10_000242.1, _chr10_000753.1, _chr10_000754.1, _chr10_000755.1, _chr10_000756.1, _chr10_000757.1, _chr10_000758.1, _chr10_000759.1, _chr10_001929.1, _chr10_002559.1, _chr2_004137.1, _chr3_000264.1, _chr7_001101.1                                                                                                                          "
      ]
     },
     "metadata": {},
     "output_type": "display_data"
    }
   ],
   "source": [
    "head(OG_geneID[OG_geneID$Orthogroup%in%helixer_OG_OGfiltered$Orthogroup,c(1,30)])"
   ]
  },
  {
   "cell_type": "code",
   "execution_count": 61,
   "id": "b8e888ce",
   "metadata": {},
   "outputs": [
    {
     "data": {
      "text/html": [
       "31678"
      ],
      "text/latex": [
       "31678"
      ],
      "text/markdown": [
       "31678"
      ],
      "text/plain": [
       "[1] 31678"
      ]
     },
     "metadata": {},
     "output_type": "display_data"
    }
   ],
   "source": [
    "sum(helixer_OG_OGfiltered$Zm.B73.REFERENCE.NAM.5.0.aa)"
   ]
  },
  {
   "cell_type": "code",
   "execution_count": 71,
   "id": "43136ecf",
   "metadata": {},
   "outputs": [],
   "source": [
    "library(dplyr)\n",
    "library(tidyr)\n",
    "\n",
    "df1_long <- OG_geneID[OG_geneID$Orthogroup%in%helixer_OG_OGfiltered$Orthogroup,c(1,30)] %>%\n",
    "  separate_rows(Zm.B73.REFERENCE.NAM.5.0.aa, sep = \",\") %>%\n",
    "  # Trim any extra spaces after splitting\n",
    "  mutate(helixerID = trimws(Zm.B73.REFERENCE.NAM.5.0.aa))\n",
    "df_joined <- df1_long %>%\n",
    "  left_join(gffComp_filtered[,c(1,5)], \n",
    "            by = c(\"helixerID\" = \"qry_id\"))\n"
   ]
  },
  {
   "cell_type": "code",
   "execution_count": 96,
   "id": "96fc1fbd",
   "metadata": {},
   "outputs": [
    {
     "data": {
      "text/html": [
       "<table class=\"dataframe\">\n",
       "<caption>A tibble: 6 × 4</caption>\n",
       "<thead>\n",
       "\t<tr><th scope=col>Orthogroup</th><th scope=col>Zm.B73.REFERENCE.NAM.5.0.aa</th><th scope=col>helixerID</th><th scope=col>ref_gene_id</th></tr>\n",
       "\t<tr><th scope=col>&lt;chr&gt;</th><th scope=col>&lt;chr&gt;</th><th scope=col>&lt;chr&gt;</th><th scope=col>&lt;chr&gt;</th></tr>\n",
       "</thead>\n",
       "<tbody>\n",
       "\t<tr><td>OG0000033</td><td>_chr10_002195.1 </td><td>_chr10_002195.1</td><td>NA             </td></tr>\n",
       "\t<tr><td>OG0000033</td><td> _chr10_002565.1</td><td>_chr10_002565.1</td><td>Zm00001eb407630</td></tr>\n",
       "\t<tr><td>OG0000033</td><td> _chr1_001569.1 </td><td>_chr1_001569.1 </td><td>Zm00001eb034240</td></tr>\n",
       "\t<tr><td>OG0000033</td><td> _chr1_001570.1 </td><td>_chr1_001570.1 </td><td>Zm00001eb034240</td></tr>\n",
       "\t<tr><td>OG0000033</td><td> _chr2_001452.1 </td><td>_chr2_001452.1 </td><td>Zm00001eb097070</td></tr>\n",
       "\t<tr><td>OG0000033</td><td> _chr4_001461.1 </td><td>_chr4_001461.1 </td><td>Zm00001eb197310</td></tr>\n",
       "</tbody>\n",
       "</table>\n"
      ],
      "text/latex": [
       "A tibble: 6 × 4\n",
       "\\begin{tabular}{llll}\n",
       " Orthogroup & Zm.B73.REFERENCE.NAM.5.0.aa & helixerID & ref\\_gene\\_id\\\\\n",
       " <chr> & <chr> & <chr> & <chr>\\\\\n",
       "\\hline\n",
       "\t OG0000033 & \\_chr10\\_002195.1  & \\_chr10\\_002195.1 & NA             \\\\\n",
       "\t OG0000033 &  \\_chr10\\_002565.1 & \\_chr10\\_002565.1 & Zm00001eb407630\\\\\n",
       "\t OG0000033 &  \\_chr1\\_001569.1  & \\_chr1\\_001569.1  & Zm00001eb034240\\\\\n",
       "\t OG0000033 &  \\_chr1\\_001570.1  & \\_chr1\\_001570.1  & Zm00001eb034240\\\\\n",
       "\t OG0000033 &  \\_chr2\\_001452.1  & \\_chr2\\_001452.1  & Zm00001eb097070\\\\\n",
       "\t OG0000033 &  \\_chr4\\_001461.1  & \\_chr4\\_001461.1  & Zm00001eb197310\\\\\n",
       "\\end{tabular}\n"
      ],
      "text/markdown": [
       "\n",
       "A tibble: 6 × 4\n",
       "\n",
       "| Orthogroup &lt;chr&gt; | Zm.B73.REFERENCE.NAM.5.0.aa &lt;chr&gt; | helixerID &lt;chr&gt; | ref_gene_id &lt;chr&gt; |\n",
       "|---|---|---|---|\n",
       "| OG0000033 | _chr10_002195.1  | _chr10_002195.1 | NA              |\n",
       "| OG0000033 |  _chr10_002565.1 | _chr10_002565.1 | Zm00001eb407630 |\n",
       "| OG0000033 |  _chr1_001569.1  | _chr1_001569.1  | Zm00001eb034240 |\n",
       "| OG0000033 |  _chr1_001570.1  | _chr1_001570.1  | Zm00001eb034240 |\n",
       "| OG0000033 |  _chr2_001452.1  | _chr2_001452.1  | Zm00001eb097070 |\n",
       "| OG0000033 |  _chr4_001461.1  | _chr4_001461.1  | Zm00001eb197310 |\n",
       "\n"
      ],
      "text/plain": [
       "  Orthogroup Zm.B73.REFERENCE.NAM.5.0.aa helixerID       ref_gene_id    \n",
       "1 OG0000033  _chr10_002195.1             _chr10_002195.1 NA             \n",
       "2 OG0000033   _chr10_002565.1            _chr10_002565.1 Zm00001eb407630\n",
       "3 OG0000033   _chr1_001569.1             _chr1_001569.1  Zm00001eb034240\n",
       "4 OG0000033   _chr1_001570.1             _chr1_001570.1  Zm00001eb034240\n",
       "5 OG0000033   _chr2_001452.1             _chr2_001452.1  Zm00001eb097070\n",
       "6 OG0000033   _chr4_001461.1             _chr4_001461.1  Zm00001eb197310"
      ]
     },
     "metadata": {},
     "output_type": "display_data"
    }
   ],
   "source": [
    "head(df_joined)"
   ]
  },
  {
   "cell_type": "code",
   "execution_count": 82,
   "id": "cc25e9ab",
   "metadata": {},
   "outputs": [],
   "source": [
    "df_concatenated <- df_joined[,-2] %>%\n",
    "  group_by(Orthogroup) %>%\n",
    "  summarise(\n",
    "    helixer_ids = paste(helixerID, collapse = \",\"),\n",
    "    refGene_ids = paste(na.omit(ref_gene_id), collapse = \",\")\n",
    "  )"
   ]
  },
  {
   "cell_type": "code",
   "execution_count": 90,
   "id": "2fe1420b",
   "metadata": {},
   "outputs": [
    {
     "data": {
      "text/html": [
       "<table class=\"dataframe\">\n",
       "<caption>A tibble: 6 × 2</caption>\n",
       "<thead>\n",
       "\t<tr><th scope=col>Orthogroup</th><th scope=col>refGene_ids</th></tr>\n",
       "\t<tr><th scope=col>&lt;chr&gt;</th><th scope=col>&lt;chr&gt;</th></tr>\n",
       "</thead>\n",
       "<tbody>\n",
       "\t<tr><td>OG0000033</td><td>Zm00001eb407630,Zm00001eb034240,Zm00001eb034240,Zm00001eb097070,Zm00001eb197310,Zm00001eb197140,Zm00001eb265890,Zm00001eb265890,Zm00001eb265900,Zm00001eb265880,Zm00001eb265850,Zm00001eb304540,Zm00001eb355410,Zm00001eb392870,Zm00001eb375640                                                                                                </td></tr>\n",
       "\t<tr><td>OG0000053</td><td>Zm00001eb413180,Zm00001eb413260,Zm00001eb413250,Zm00001eb413210,Zm00001eb413190,Zm00001eb171520,Zm00001eb171530,Zm00001eb171540,Zm00001eb171550,Zm00001eb171570,Zm00001eb171580,Zm00001eb171590,Zm00001eb171600,Zm00001eb171610,Zm00001eb171630,Zm00001eb171640,Zm00001eb171650,Zm00001eb171660,Zm00001eb171510,Zm00001eb171500,Zm00001eb171490</td></tr>\n",
       "\t<tr><td>OG0000059</td><td>Zm00001eb405180,Zm00001eb405160,Zm00001eb040570,Zm00001eb018660,Zm00001eb018640,Zm00001eb092770,Zm00001eb169520,Zm00001eb198140,Zm00001eb198150,Zm00001eb202200,Zm00001eb170590,Zm00001eb168290,Zm00001eb292890,Zm00001eb292880,Zm00001eb292850,Zm00001eb292840,Zm00001eb353110,Zm00001eb392340                                                </td></tr>\n",
       "\t<tr><td>OG0000062</td><td>Zm00001eb422190,Zm00001eb422440,Zm00001eb018990,Zm00001eb083380,Zm00001eb083310,Zm00001eb081270,Zm00001eb146770,Zm00001eb137500,Zm00001eb123830,Zm00001eb181740,Zm00001eb244680,Zm00001eb243130,Zm00001eb271240,Zm00001eb269650,Zm00001eb376150,Zm00001eb378250                                                                                </td></tr>\n",
       "\t<tr><td>OG0000067</td><td>Zm00001eb117940,Zm00001eb299100,Zm00001eb305290,Zm00001eb299090                                                                                                                                                                                                                                                                                </td></tr>\n",
       "\t<tr><td>OG0000070</td><td>Zm00001eb411220,Zm00001eb422250,Zm00001eb422270,Zm00001eb422290,Zm00001eb422330,Zm00001eb407700,Zm00001eb083290,Zm00001eb123820,Zm00001eb321390                                                                                                                                                                                                </td></tr>\n",
       "</tbody>\n",
       "</table>\n"
      ],
      "text/latex": [
       "A tibble: 6 × 2\n",
       "\\begin{tabular}{ll}\n",
       " Orthogroup & refGene\\_ids\\\\\n",
       " <chr> & <chr>\\\\\n",
       "\\hline\n",
       "\t OG0000033 & Zm00001eb407630,Zm00001eb034240,Zm00001eb034240,Zm00001eb097070,Zm00001eb197310,Zm00001eb197140,Zm00001eb265890,Zm00001eb265890,Zm00001eb265900,Zm00001eb265880,Zm00001eb265850,Zm00001eb304540,Zm00001eb355410,Zm00001eb392870,Zm00001eb375640                                                                                                \\\\\n",
       "\t OG0000053 & Zm00001eb413180,Zm00001eb413260,Zm00001eb413250,Zm00001eb413210,Zm00001eb413190,Zm00001eb171520,Zm00001eb171530,Zm00001eb171540,Zm00001eb171550,Zm00001eb171570,Zm00001eb171580,Zm00001eb171590,Zm00001eb171600,Zm00001eb171610,Zm00001eb171630,Zm00001eb171640,Zm00001eb171650,Zm00001eb171660,Zm00001eb171510,Zm00001eb171500,Zm00001eb171490\\\\\n",
       "\t OG0000059 & Zm00001eb405180,Zm00001eb405160,Zm00001eb040570,Zm00001eb018660,Zm00001eb018640,Zm00001eb092770,Zm00001eb169520,Zm00001eb198140,Zm00001eb198150,Zm00001eb202200,Zm00001eb170590,Zm00001eb168290,Zm00001eb292890,Zm00001eb292880,Zm00001eb292850,Zm00001eb292840,Zm00001eb353110,Zm00001eb392340                                                \\\\\n",
       "\t OG0000062 & Zm00001eb422190,Zm00001eb422440,Zm00001eb018990,Zm00001eb083380,Zm00001eb083310,Zm00001eb081270,Zm00001eb146770,Zm00001eb137500,Zm00001eb123830,Zm00001eb181740,Zm00001eb244680,Zm00001eb243130,Zm00001eb271240,Zm00001eb269650,Zm00001eb376150,Zm00001eb378250                                                                                \\\\\n",
       "\t OG0000067 & Zm00001eb117940,Zm00001eb299100,Zm00001eb305290,Zm00001eb299090                                                                                                                                                                                                                                                                                \\\\\n",
       "\t OG0000070 & Zm00001eb411220,Zm00001eb422250,Zm00001eb422270,Zm00001eb422290,Zm00001eb422330,Zm00001eb407700,Zm00001eb083290,Zm00001eb123820,Zm00001eb321390                                                                                                                                                                                                \\\\\n",
       "\\end{tabular}\n"
      ],
      "text/markdown": [
       "\n",
       "A tibble: 6 × 2\n",
       "\n",
       "| Orthogroup &lt;chr&gt; | refGene_ids &lt;chr&gt; |\n",
       "|---|---|\n",
       "| OG0000033 | Zm00001eb407630,Zm00001eb034240,Zm00001eb034240,Zm00001eb097070,Zm00001eb197310,Zm00001eb197140,Zm00001eb265890,Zm00001eb265890,Zm00001eb265900,Zm00001eb265880,Zm00001eb265850,Zm00001eb304540,Zm00001eb355410,Zm00001eb392870,Zm00001eb375640                                                                                                 |\n",
       "| OG0000053 | Zm00001eb413180,Zm00001eb413260,Zm00001eb413250,Zm00001eb413210,Zm00001eb413190,Zm00001eb171520,Zm00001eb171530,Zm00001eb171540,Zm00001eb171550,Zm00001eb171570,Zm00001eb171580,Zm00001eb171590,Zm00001eb171600,Zm00001eb171610,Zm00001eb171630,Zm00001eb171640,Zm00001eb171650,Zm00001eb171660,Zm00001eb171510,Zm00001eb171500,Zm00001eb171490 |\n",
       "| OG0000059 | Zm00001eb405180,Zm00001eb405160,Zm00001eb040570,Zm00001eb018660,Zm00001eb018640,Zm00001eb092770,Zm00001eb169520,Zm00001eb198140,Zm00001eb198150,Zm00001eb202200,Zm00001eb170590,Zm00001eb168290,Zm00001eb292890,Zm00001eb292880,Zm00001eb292850,Zm00001eb292840,Zm00001eb353110,Zm00001eb392340                                                 |\n",
       "| OG0000062 | Zm00001eb422190,Zm00001eb422440,Zm00001eb018990,Zm00001eb083380,Zm00001eb083310,Zm00001eb081270,Zm00001eb146770,Zm00001eb137500,Zm00001eb123830,Zm00001eb181740,Zm00001eb244680,Zm00001eb243130,Zm00001eb271240,Zm00001eb269650,Zm00001eb376150,Zm00001eb378250                                                                                 |\n",
       "| OG0000067 | Zm00001eb117940,Zm00001eb299100,Zm00001eb305290,Zm00001eb299090                                                                                                                                                                                                                                                                                 |\n",
       "| OG0000070 | Zm00001eb411220,Zm00001eb422250,Zm00001eb422270,Zm00001eb422290,Zm00001eb422330,Zm00001eb407700,Zm00001eb083290,Zm00001eb123820,Zm00001eb321390                                                                                                                                                                                                 |\n",
       "\n"
      ],
      "text/plain": [
       "  Orthogroup\n",
       "1 OG0000033 \n",
       "2 OG0000053 \n",
       "3 OG0000059 \n",
       "4 OG0000062 \n",
       "5 OG0000067 \n",
       "6 OG0000070 \n",
       "  refGene_ids                                                                                                                                                                                                                                                                                                                                    \n",
       "1 Zm00001eb407630,Zm00001eb034240,Zm00001eb034240,Zm00001eb097070,Zm00001eb197310,Zm00001eb197140,Zm00001eb265890,Zm00001eb265890,Zm00001eb265900,Zm00001eb265880,Zm00001eb265850,Zm00001eb304540,Zm00001eb355410,Zm00001eb392870,Zm00001eb375640                                                                                                \n",
       "2 Zm00001eb413180,Zm00001eb413260,Zm00001eb413250,Zm00001eb413210,Zm00001eb413190,Zm00001eb171520,Zm00001eb171530,Zm00001eb171540,Zm00001eb171550,Zm00001eb171570,Zm00001eb171580,Zm00001eb171590,Zm00001eb171600,Zm00001eb171610,Zm00001eb171630,Zm00001eb171640,Zm00001eb171650,Zm00001eb171660,Zm00001eb171510,Zm00001eb171500,Zm00001eb171490\n",
       "3 Zm00001eb405180,Zm00001eb405160,Zm00001eb040570,Zm00001eb018660,Zm00001eb018640,Zm00001eb092770,Zm00001eb169520,Zm00001eb198140,Zm00001eb198150,Zm00001eb202200,Zm00001eb170590,Zm00001eb168290,Zm00001eb292890,Zm00001eb292880,Zm00001eb292850,Zm00001eb292840,Zm00001eb353110,Zm00001eb392340                                                \n",
       "4 Zm00001eb422190,Zm00001eb422440,Zm00001eb018990,Zm00001eb083380,Zm00001eb083310,Zm00001eb081270,Zm00001eb146770,Zm00001eb137500,Zm00001eb123830,Zm00001eb181740,Zm00001eb244680,Zm00001eb243130,Zm00001eb271240,Zm00001eb269650,Zm00001eb376150,Zm00001eb378250                                                                                \n",
       "5 Zm00001eb117940,Zm00001eb299100,Zm00001eb305290,Zm00001eb299090                                                                                                                                                                                                                                                                                \n",
       "6 Zm00001eb411220,Zm00001eb422250,Zm00001eb422270,Zm00001eb422290,Zm00001eb422330,Zm00001eb407700,Zm00001eb083290,Zm00001eb123820,Zm00001eb321390                                                                                                                                                                                                "
      ]
     },
     "metadata": {},
     "output_type": "display_data"
    }
   ],
   "source": [
    "head(df_concatenated[,-2])"
   ]
  },
  {
   "cell_type": "code",
   "execution_count": 103,
   "id": "bfd16f92",
   "metadata": {},
   "outputs": [],
   "source": [
    "OGtoZm_gffComp = df_concatenated[,-2]\n",
    "colnames(OGtoZm_gffComp) = c(\"OGID\",\"ZmID\")"
   ]
  },
  {
   "cell_type": "code",
   "execution_count": 111,
   "id": "4eca3f99",
   "metadata": {},
   "outputs": [
    {
     "data": {
      "text/html": [
       "17869"
      ],
      "text/latex": [
       "17869"
      ],
      "text/markdown": [
       "17869"
      ],
      "text/plain": [
       "[1] 17869"
      ]
     },
     "metadata": {},
     "output_type": "display_data"
    },
    {
     "data": {
      "text/html": [
       "16992"
      ],
      "text/latex": [
       "16992"
      ],
      "text/markdown": [
       "16992"
      ],
      "text/plain": [
       "[1] 16992"
      ]
     },
     "metadata": {},
     "output_type": "display_data"
    }
   ],
   "source": [
    "sum(!df_concatenated$helixer_ids==\"\")\n",
    "sum(!df_concatenated$refGene_ids==\"\")"
   ]
  },
  {
   "cell_type": "code",
   "execution_count": 105,
   "id": "1a650122",
   "metadata": {},
   "outputs": [],
   "source": [
    "write.table(OGtoZm_gffComp, \"/workdir/sh2246/p_phyloGWAS/output/OGtoZmID_gffComp_20250331.txt\",sep = \"\\t\",quote = F,row.names = F,col.names = T)"
   ]
  },
  {
   "cell_type": "code",
   "execution_count": 85,
   "id": "62c66fac",
   "metadata": {},
   "outputs": [],
   "source": [
    "OGtoZmID = read.table(\"/workdir/sh2246/p_phyloGWAS_archived/output/OGToZm_mapping_v2.txt\")"
   ]
  },
  {
   "cell_type": "code",
   "execution_count": 87,
   "id": "31f19d1c",
   "metadata": {},
   "outputs": [],
   "source": [
    "OGtoZmID$V3 = substr(OGtoZmID$V1,1,15)"
   ]
  },
  {
   "cell_type": "code",
   "execution_count": 89,
   "id": "021beeca",
   "metadata": {},
   "outputs": [
    {
     "data": {
      "text/html": [
       "<table class=\"dataframe\">\n",
       "<caption>A data.frame: 6 × 2</caption>\n",
       "<thead>\n",
       "\t<tr><th></th><th scope=col>V2</th><th scope=col>V3</th></tr>\n",
       "\t<tr><th></th><th scope=col>&lt;chr&gt;</th><th scope=col>&lt;chr&gt;</th></tr>\n",
       "</thead>\n",
       "<tbody>\n",
       "\t<tr><th scope=row>1</th><td>OG0000508</td><td>Zm00001eb037000</td></tr>\n",
       "\t<tr><th scope=row>2</th><td>OG0000556</td><td>Zm00001eb061630</td></tr>\n",
       "\t<tr><th scope=row>3</th><td>OG0000574</td><td>Zm00001eb377400</td></tr>\n",
       "\t<tr><th scope=row>4</th><td>OG0000687</td><td>Zm00001eb324180</td></tr>\n",
       "\t<tr><th scope=row>5</th><td>OG0000727</td><td>Zm00001eb102900</td></tr>\n",
       "\t<tr><th scope=row>6</th><td>OG0000787</td><td>Zm00001eb406740</td></tr>\n",
       "</tbody>\n",
       "</table>\n"
      ],
      "text/latex": [
       "A data.frame: 6 × 2\n",
       "\\begin{tabular}{r|ll}\n",
       "  & V2 & V3\\\\\n",
       "  & <chr> & <chr>\\\\\n",
       "\\hline\n",
       "\t1 & OG0000508 & Zm00001eb037000\\\\\n",
       "\t2 & OG0000556 & Zm00001eb061630\\\\\n",
       "\t3 & OG0000574 & Zm00001eb377400\\\\\n",
       "\t4 & OG0000687 & Zm00001eb324180\\\\\n",
       "\t5 & OG0000727 & Zm00001eb102900\\\\\n",
       "\t6 & OG0000787 & Zm00001eb406740\\\\\n",
       "\\end{tabular}\n"
      ],
      "text/markdown": [
       "\n",
       "A data.frame: 6 × 2\n",
       "\n",
       "| <!--/--> | V2 &lt;chr&gt; | V3 &lt;chr&gt; |\n",
       "|---|---|---|\n",
       "| 1 | OG0000508 | Zm00001eb037000 |\n",
       "| 2 | OG0000556 | Zm00001eb061630 |\n",
       "| 3 | OG0000574 | Zm00001eb377400 |\n",
       "| 4 | OG0000687 | Zm00001eb324180 |\n",
       "| 5 | OG0000727 | Zm00001eb102900 |\n",
       "| 6 | OG0000787 | Zm00001eb406740 |\n",
       "\n"
      ],
      "text/plain": [
       "  V2        V3             \n",
       "1 OG0000508 Zm00001eb037000\n",
       "2 OG0000556 Zm00001eb061630\n",
       "3 OG0000574 Zm00001eb377400\n",
       "4 OG0000687 Zm00001eb324180\n",
       "5 OG0000727 Zm00001eb102900\n",
       "6 OG0000787 Zm00001eb406740"
      ]
     },
     "metadata": {},
     "output_type": "display_data"
    }
   ],
   "source": [
    "head(OGtoZmID[,2:3])"
   ]
  },
  {
   "cell_type": "code",
   "execution_count": 92,
   "id": "19eff5fd",
   "metadata": {},
   "outputs": [],
   "source": [
    "matchCount = 0\n",
    "for(i in 1:nrow(OGtoZmID)){\n",
    "    matchCount = matchCount + as.numeric(any(df_joined[df_joined[,1]%in%OGtoZmID[i,2],4]==OGtoZmID[i,3],na.rm = T))\n",
    "}"
   ]
  },
  {
   "cell_type": "code",
   "execution_count": 100,
   "id": "f8d4afb9",
   "metadata": {},
   "outputs": [],
   "source": [
    "# Create a unique key for each row in df_joined\n",
    "matches <- paste(df_joined$Orthogroup, df_joined$ref_gene_id, sep = \"_\")\n",
    "\n",
    "# Create a key for each row in OGtoZmID\n",
    "target <- paste(OGtoZmID$V2, OGtoZmID$V3, sep = \"_\")\n",
    "\n",
    "# Calculate the match count, counting each OGtoZmID row that has a matching key in df_joined\n",
    "matchCount <- sum(target %in% matches)\n"
   ]
  },
  {
   "cell_type": "code",
   "execution_count": 102,
   "id": "556231c6",
   "metadata": {},
   "outputs": [
    {
     "data": {
      "text/html": [
       "0.901787243761777"
      ],
      "text/latex": [
       "0.901787243761777"
      ],
      "text/markdown": [
       "0.901787243761777"
      ],
      "text/plain": [
       "[1] 0.9017872"
      ]
     },
     "metadata": {},
     "output_type": "display_data"
    }
   ],
   "source": [
    "matchCount/length(unique(OGtoZmID$V3))"
   ]
  },
  {
   "cell_type": "code",
   "execution_count": 58,
   "id": "51965392",
   "metadata": {},
   "outputs": [
    {
     "data": {
      "text/html": [
       "30"
      ],
      "text/latex": [
       "30"
      ],
      "text/markdown": [
       "30"
      ],
      "text/plain": [
       "[1] 30"
      ]
     },
     "metadata": {},
     "output_type": "display_data"
    }
   ],
   "source": [
    "which(colnames(OG_geneID)%in%\"Zm.B73.REFERENCE.NAM.5.0.aa\")"
   ]
  }
 ],
 "metadata": {
  "kernelspec": {
   "display_name": "R",
   "language": "R",
   "name": "ir"
  },
  "language_info": {
   "codemirror_mode": "r",
   "file_extension": ".r",
   "mimetype": "text/x-r-source",
   "name": "R",
   "pygments_lexer": "r",
   "version": "4.2.2"
  }
 },
 "nbformat": 4,
 "nbformat_minor": 5
}
