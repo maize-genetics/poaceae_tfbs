{
 "cells": [
  {
   "cell_type": "code",
   "execution_count": 1,
   "id": "479cf76d",
   "metadata": {},
   "outputs": [],
   "source": [
    "rm(list = ls())"
   ]
  },
  {
   "cell_type": "code",
   "execution_count": 2,
   "id": "c8d4904e",
   "metadata": {},
   "outputs": [],
   "source": [
    "helixer_OG = read.table(\"/workdir/sh2246/p_phyloGWAS/output/OrthoFinder/Results_Jun06/Orthogroups/Orthogroups.GeneCount.tsv\",header =T)"
   ]
  },
  {
   "cell_type": "code",
   "execution_count": 3,
   "id": "7a07b54e",
   "metadata": {},
   "outputs": [],
   "source": [
    "OGtab=read.table(\"/workdir/sh2246/p_panAndOGASR/data/og_v9/orthofinder_results_with-alt_v9.2b/Orthogroups/Orthogroups.GeneCount.tsv\",header = T)"
   ]
  },
  {
   "cell_type": "code",
   "execution_count": 68,
   "id": "83a87f86",
   "metadata": {},
   "outputs": [
    {
     "data": {
      "text/html": [
       "<style>\n",
       ".list-inline {list-style: none; margin:0; padding: 0}\n",
       ".list-inline>li {display: inline-block}\n",
       ".list-inline>li:not(:last-child)::after {content: \"\\00b7\"; padding: 0 .5ex}\n",
       "</style>\n",
       "<ol class=list-inline><li>99140</li><li>34</li></ol>\n"
      ],
      "text/latex": [
       "\\begin{enumerate*}\n",
       "\\item 99140\n",
       "\\item 34\n",
       "\\end{enumerate*}\n"
      ],
      "text/markdown": [
       "1. 99140\n",
       "2. 34\n",
       "\n",
       "\n"
      ],
      "text/plain": [
       "[1] 99140    34"
      ]
     },
     "metadata": {},
     "output_type": "display_data"
    }
   ],
   "source": [
    "# dim(OGtab)\n",
    "dim(helixer_OG)"
   ]
  },
  {
   "cell_type": "code",
   "execution_count": 69,
   "id": "f030ae69",
   "metadata": {},
   "outputs": [
    {
     "data": {
      "text/html": [
       "<style>\n",
       ".list-inline {list-style: none; margin:0; padding: 0}\n",
       ".list-inline>li {display: inline-block}\n",
       ".list-inline>li:not(:last-child)::after {content: \"\\00b7\"; padding: 0 .5ex}\n",
       "</style>\n",
       "<ol class=list-inline><li>'Orthogroup'</li><li>'ASEM_AUS1_V1.0.aa'</li><li>'ASM160227v1.aa'</li><li>'ASM1927943v1.aa'</li><li>'ASM1935983v1.aa'</li><li>'ASM711570v1.aa'</li><li>'Aet_v5.0.aa'</li><li>'Alomy_genome_v1.aa'</li><li>'Av.Kellogg1287_8.REFERENCE.PanAnd.1.0.aa'</li><li>'Brachypodium_distachyon_v3.0.aa'</li><li>'DiExil.aa'</li><li>'Eleusine_coracana_v1.0.aa'</li><li>'Embrapa_Uruz_1.0.aa'</li><li>'IRGSP.1.0.aa'</li><li>'KIB_Aluo_1.aa'</li><li>'KIB_Gang_2.aa'</li><li>'KIB_Mbac_1.aa'</li><li>'KIB_Ogla_1.aa'</li><li>'KIB_Pedu_3.aa'</li><li>'KIB_Rgui_2.aa'</li><li>'P.vaginatum_v3.1.aa'</li><li>'P.virgatum_v5.aa'</li><li>'Pp.Kellogg1297.DRAFT.PanAnd.1.0.aa'</li><li>'Puccinellia_tenuiflora_refer_1.0.aa'</li><li>'Rt.Layton_Zhong169.DRAFT.PanAnd.1.0.aa'</li><li>'Salk_teff_dabbi_3.0.aa'</li><li>'Setaria_italica_v2.0.aa'</li><li>'Sorghum_bicolor_NCBIv3.aa'</li><li>'TSU_Scap_1.aa'</li><li>'Zm.B73.REFERENCE.NAM.5.0.aa'</li><li>'lpBroSter1.1.aa'</li><li>'lpPhrAust1.1.aa'</li><li>'mabamboo_1.0.aa'</li><li>'Total'</li></ol>\n"
      ],
      "text/latex": [
       "\\begin{enumerate*}\n",
       "\\item 'Orthogroup'\n",
       "\\item 'ASEM\\_AUS1\\_V1.0.aa'\n",
       "\\item 'ASM160227v1.aa'\n",
       "\\item 'ASM1927943v1.aa'\n",
       "\\item 'ASM1935983v1.aa'\n",
       "\\item 'ASM711570v1.aa'\n",
       "\\item 'Aet\\_v5.0.aa'\n",
       "\\item 'Alomy\\_genome\\_v1.aa'\n",
       "\\item 'Av.Kellogg1287\\_8.REFERENCE.PanAnd.1.0.aa'\n",
       "\\item 'Brachypodium\\_distachyon\\_v3.0.aa'\n",
       "\\item 'DiExil.aa'\n",
       "\\item 'Eleusine\\_coracana\\_v1.0.aa'\n",
       "\\item 'Embrapa\\_Uruz\\_1.0.aa'\n",
       "\\item 'IRGSP.1.0.aa'\n",
       "\\item 'KIB\\_Aluo\\_1.aa'\n",
       "\\item 'KIB\\_Gang\\_2.aa'\n",
       "\\item 'KIB\\_Mbac\\_1.aa'\n",
       "\\item 'KIB\\_Ogla\\_1.aa'\n",
       "\\item 'KIB\\_Pedu\\_3.aa'\n",
       "\\item 'KIB\\_Rgui\\_2.aa'\n",
       "\\item 'P.vaginatum\\_v3.1.aa'\n",
       "\\item 'P.virgatum\\_v5.aa'\n",
       "\\item 'Pp.Kellogg1297.DRAFT.PanAnd.1.0.aa'\n",
       "\\item 'Puccinellia\\_tenuiflora\\_refer\\_1.0.aa'\n",
       "\\item 'Rt.Layton\\_Zhong169.DRAFT.PanAnd.1.0.aa'\n",
       "\\item 'Salk\\_teff\\_dabbi\\_3.0.aa'\n",
       "\\item 'Setaria\\_italica\\_v2.0.aa'\n",
       "\\item 'Sorghum\\_bicolor\\_NCBIv3.aa'\n",
       "\\item 'TSU\\_Scap\\_1.aa'\n",
       "\\item 'Zm.B73.REFERENCE.NAM.5.0.aa'\n",
       "\\item 'lpBroSter1.1.aa'\n",
       "\\item 'lpPhrAust1.1.aa'\n",
       "\\item 'mabamboo\\_1.0.aa'\n",
       "\\item 'Total'\n",
       "\\end{enumerate*}\n"
      ],
      "text/markdown": [
       "1. 'Orthogroup'\n",
       "2. 'ASEM_AUS1_V1.0.aa'\n",
       "3. 'ASM160227v1.aa'\n",
       "4. 'ASM1927943v1.aa'\n",
       "5. 'ASM1935983v1.aa'\n",
       "6. 'ASM711570v1.aa'\n",
       "7. 'Aet_v5.0.aa'\n",
       "8. 'Alomy_genome_v1.aa'\n",
       "9. 'Av.Kellogg1287_8.REFERENCE.PanAnd.1.0.aa'\n",
       "10. 'Brachypodium_distachyon_v3.0.aa'\n",
       "11. 'DiExil.aa'\n",
       "12. 'Eleusine_coracana_v1.0.aa'\n",
       "13. 'Embrapa_Uruz_1.0.aa'\n",
       "14. 'IRGSP.1.0.aa'\n",
       "15. 'KIB_Aluo_1.aa'\n",
       "16. 'KIB_Gang_2.aa'\n",
       "17. 'KIB_Mbac_1.aa'\n",
       "18. 'KIB_Ogla_1.aa'\n",
       "19. 'KIB_Pedu_3.aa'\n",
       "20. 'KIB_Rgui_2.aa'\n",
       "21. 'P.vaginatum_v3.1.aa'\n",
       "22. 'P.virgatum_v5.aa'\n",
       "23. 'Pp.Kellogg1297.DRAFT.PanAnd.1.0.aa'\n",
       "24. 'Puccinellia_tenuiflora_refer_1.0.aa'\n",
       "25. 'Rt.Layton_Zhong169.DRAFT.PanAnd.1.0.aa'\n",
       "26. 'Salk_teff_dabbi_3.0.aa'\n",
       "27. 'Setaria_italica_v2.0.aa'\n",
       "28. 'Sorghum_bicolor_NCBIv3.aa'\n",
       "29. 'TSU_Scap_1.aa'\n",
       "30. 'Zm.B73.REFERENCE.NAM.5.0.aa'\n",
       "31. 'lpBroSter1.1.aa'\n",
       "32. 'lpPhrAust1.1.aa'\n",
       "33. 'mabamboo_1.0.aa'\n",
       "34. 'Total'\n",
       "\n",
       "\n"
      ],
      "text/plain": [
       " [1] \"Orthogroup\"                              \n",
       " [2] \"ASEM_AUS1_V1.0.aa\"                       \n",
       " [3] \"ASM160227v1.aa\"                          \n",
       " [4] \"ASM1927943v1.aa\"                         \n",
       " [5] \"ASM1935983v1.aa\"                         \n",
       " [6] \"ASM711570v1.aa\"                          \n",
       " [7] \"Aet_v5.0.aa\"                             \n",
       " [8] \"Alomy_genome_v1.aa\"                      \n",
       " [9] \"Av.Kellogg1287_8.REFERENCE.PanAnd.1.0.aa\"\n",
       "[10] \"Brachypodium_distachyon_v3.0.aa\"         \n",
       "[11] \"DiExil.aa\"                               \n",
       "[12] \"Eleusine_coracana_v1.0.aa\"               \n",
       "[13] \"Embrapa_Uruz_1.0.aa\"                     \n",
       "[14] \"IRGSP.1.0.aa\"                            \n",
       "[15] \"KIB_Aluo_1.aa\"                           \n",
       "[16] \"KIB_Gang_2.aa\"                           \n",
       "[17] \"KIB_Mbac_1.aa\"                           \n",
       "[18] \"KIB_Ogla_1.aa\"                           \n",
       "[19] \"KIB_Pedu_3.aa\"                           \n",
       "[20] \"KIB_Rgui_2.aa\"                           \n",
       "[21] \"P.vaginatum_v3.1.aa\"                     \n",
       "[22] \"P.virgatum_v5.aa\"                        \n",
       "[23] \"Pp.Kellogg1297.DRAFT.PanAnd.1.0.aa\"      \n",
       "[24] \"Puccinellia_tenuiflora_refer_1.0.aa\"     \n",
       "[25] \"Rt.Layton_Zhong169.DRAFT.PanAnd.1.0.aa\"  \n",
       "[26] \"Salk_teff_dabbi_3.0.aa\"                  \n",
       "[27] \"Setaria_italica_v2.0.aa\"                 \n",
       "[28] \"Sorghum_bicolor_NCBIv3.aa\"               \n",
       "[29] \"TSU_Scap_1.aa\"                           \n",
       "[30] \"Zm.B73.REFERENCE.NAM.5.0.aa\"             \n",
       "[31] \"lpBroSter1.1.aa\"                         \n",
       "[32] \"lpPhrAust1.1.aa\"                         \n",
       "[33] \"mabamboo_1.0.aa\"                         \n",
       "[34] \"Total\"                                   "
      ]
     },
     "metadata": {},
     "output_type": "display_data"
    }
   ],
   "source": [
    "colnames(helixer_OG)"
   ]
  },
  {
   "cell_type": "code",
   "execution_count": 10,
   "id": "0e4c9d06",
   "metadata": {},
   "outputs": [
    {
     "data": {
      "text/html": [
       "<dl>\n",
       "\t<dt>$Orthogroup</dt>\n",
       "\t\t<dd>'OG0001818'</dd>\n",
       "\t<dt>$ASEM_AUS1_V1.0.aa</dt>\n",
       "\t\t<dd>2</dd>\n",
       "\t<dt>$ASM160227v1.aa</dt>\n",
       "\t\t<dd>3</dd>\n",
       "\t<dt>$ASM1927943v1.aa</dt>\n",
       "\t\t<dd>3</dd>\n",
       "\t<dt>$ASM1935983v1.aa</dt>\n",
       "\t\t<dd>2</dd>\n",
       "\t<dt>$ASM711570v1.aa</dt>\n",
       "\t\t<dd>3</dd>\n",
       "\t<dt>$Aet_v5.0.aa</dt>\n",
       "\t\t<dd>4</dd>\n",
       "\t<dt>$Alomy_genome_v1.aa</dt>\n",
       "\t\t<dd>2</dd>\n",
       "\t<dt>$Av.Kellogg1287_8.REFERENCE.PanAnd.1.0.aa</dt>\n",
       "\t\t<dd>2</dd>\n",
       "\t<dt>$Brachypodium_distachyon_v3.0.aa</dt>\n",
       "\t\t<dd>2</dd>\n",
       "\t<dt>$DiExil.aa</dt>\n",
       "\t\t<dd>4</dd>\n",
       "\t<dt>$Eleusine_coracana_v1.0.aa</dt>\n",
       "\t\t<dd>4</dd>\n",
       "\t<dt>$Embrapa_Uruz_1.0.aa</dt>\n",
       "\t\t<dd>2</dd>\n",
       "\t<dt>$IRGSP.1.0.aa</dt>\n",
       "\t\t<dd>2</dd>\n",
       "\t<dt>$KIB_Aluo_1.aa</dt>\n",
       "\t\t<dd>4</dd>\n",
       "\t<dt>$KIB_Gang_2.aa</dt>\n",
       "\t\t<dd>5</dd>\n",
       "\t<dt>$KIB_Mbac_1.aa</dt>\n",
       "\t\t<dd>6</dd>\n",
       "\t<dt>$KIB_Ogla_1.aa</dt>\n",
       "\t\t<dd>4</dd>\n",
       "\t<dt>$KIB_Pedu_3.aa</dt>\n",
       "\t\t<dd>5</dd>\n",
       "\t<dt>$KIB_Rgui_2.aa</dt>\n",
       "\t\t<dd>3</dd>\n",
       "\t<dt>$P.vaginatum_v3.1.aa</dt>\n",
       "\t\t<dd>2</dd>\n",
       "\t<dt>$P.virgatum_v5.aa</dt>\n",
       "\t\t<dd>4</dd>\n",
       "\t<dt>$Pp.Kellogg1297.DRAFT.PanAnd.1.0.aa</dt>\n",
       "\t\t<dd>16</dd>\n",
       "\t<dt>$Puccinellia_tenuiflora_refer_1.0.aa</dt>\n",
       "\t\t<dd>2</dd>\n",
       "\t<dt>$Rt.Layton_Zhong169.DRAFT.PanAnd.1.0.aa</dt>\n",
       "\t\t<dd>2</dd>\n",
       "\t<dt>$Salk_teff_dabbi_3.0.aa</dt>\n",
       "\t\t<dd>4</dd>\n",
       "\t<dt>$Setaria_italica_v2.0.aa</dt>\n",
       "\t\t<dd>2</dd>\n",
       "\t<dt>$Sorghum_bicolor_NCBIv3.aa</dt>\n",
       "\t\t<dd>2</dd>\n",
       "\t<dt>$TSU_Scap_1.aa</dt>\n",
       "\t\t<dd>4</dd>\n",
       "\t<dt>$Zm.B73.REFERENCE.NAM.5.0.aa</dt>\n",
       "\t\t<dd>4</dd>\n",
       "\t<dt>$lpBroSter1.1.aa</dt>\n",
       "\t\t<dd>2</dd>\n",
       "\t<dt>$lpPhrAust1.1.aa</dt>\n",
       "\t\t<dd>4</dd>\n",
       "\t<dt>$mabamboo_1.0.aa</dt>\n",
       "\t\t<dd>13</dd>\n",
       "\t<dt>$Total</dt>\n",
       "\t\t<dd>123</dd>\n",
       "</dl>\n"
      ],
      "text/latex": [
       "\\begin{description}\n",
       "\\item[\\$Orthogroup] 'OG0001818'\n",
       "\\item[\\$ASEM\\_AUS1\\_V1.0.aa] 2\n",
       "\\item[\\$ASM160227v1.aa] 3\n",
       "\\item[\\$ASM1927943v1.aa] 3\n",
       "\\item[\\$ASM1935983v1.aa] 2\n",
       "\\item[\\$ASM711570v1.aa] 3\n",
       "\\item[\\$Aet\\_v5.0.aa] 4\n",
       "\\item[\\$Alomy\\_genome\\_v1.aa] 2\n",
       "\\item[\\$Av.Kellogg1287\\_8.REFERENCE.PanAnd.1.0.aa] 2\n",
       "\\item[\\$Brachypodium\\_distachyon\\_v3.0.aa] 2\n",
       "\\item[\\$DiExil.aa] 4\n",
       "\\item[\\$Eleusine\\_coracana\\_v1.0.aa] 4\n",
       "\\item[\\$Embrapa\\_Uruz\\_1.0.aa] 2\n",
       "\\item[\\$IRGSP.1.0.aa] 2\n",
       "\\item[\\$KIB\\_Aluo\\_1.aa] 4\n",
       "\\item[\\$KIB\\_Gang\\_2.aa] 5\n",
       "\\item[\\$KIB\\_Mbac\\_1.aa] 6\n",
       "\\item[\\$KIB\\_Ogla\\_1.aa] 4\n",
       "\\item[\\$KIB\\_Pedu\\_3.aa] 5\n",
       "\\item[\\$KIB\\_Rgui\\_2.aa] 3\n",
       "\\item[\\$P.vaginatum\\_v3.1.aa] 2\n",
       "\\item[\\$P.virgatum\\_v5.aa] 4\n",
       "\\item[\\$Pp.Kellogg1297.DRAFT.PanAnd.1.0.aa] 16\n",
       "\\item[\\$Puccinellia\\_tenuiflora\\_refer\\_1.0.aa] 2\n",
       "\\item[\\$Rt.Layton\\_Zhong169.DRAFT.PanAnd.1.0.aa] 2\n",
       "\\item[\\$Salk\\_teff\\_dabbi\\_3.0.aa] 4\n",
       "\\item[\\$Setaria\\_italica\\_v2.0.aa] 2\n",
       "\\item[\\$Sorghum\\_bicolor\\_NCBIv3.aa] 2\n",
       "\\item[\\$TSU\\_Scap\\_1.aa] 4\n",
       "\\item[\\$Zm.B73.REFERENCE.NAM.5.0.aa] 4\n",
       "\\item[\\$lpBroSter1.1.aa] 2\n",
       "\\item[\\$lpPhrAust1.1.aa] 4\n",
       "\\item[\\$mabamboo\\_1.0.aa] 13\n",
       "\\item[\\$Total] 123\n",
       "\\end{description}\n"
      ],
      "text/markdown": [
       "$Orthogroup\n",
       ":   'OG0001818'\n",
       "$ASEM_AUS1_V1.0.aa\n",
       ":   2\n",
       "$ASM160227v1.aa\n",
       ":   3\n",
       "$ASM1927943v1.aa\n",
       ":   3\n",
       "$ASM1935983v1.aa\n",
       ":   2\n",
       "$ASM711570v1.aa\n",
       ":   3\n",
       "$Aet_v5.0.aa\n",
       ":   4\n",
       "$Alomy_genome_v1.aa\n",
       ":   2\n",
       "$Av.Kellogg1287_8.REFERENCE.PanAnd.1.0.aa\n",
       ":   2\n",
       "$Brachypodium_distachyon_v3.0.aa\n",
       ":   2\n",
       "$DiExil.aa\n",
       ":   4\n",
       "$Eleusine_coracana_v1.0.aa\n",
       ":   4\n",
       "$Embrapa_Uruz_1.0.aa\n",
       ":   2\n",
       "$IRGSP.1.0.aa\n",
       ":   2\n",
       "$KIB_Aluo_1.aa\n",
       ":   4\n",
       "$KIB_Gang_2.aa\n",
       ":   5\n",
       "$KIB_Mbac_1.aa\n",
       ":   6\n",
       "$KIB_Ogla_1.aa\n",
       ":   4\n",
       "$KIB_Pedu_3.aa\n",
       ":   5\n",
       "$KIB_Rgui_2.aa\n",
       ":   3\n",
       "$P.vaginatum_v3.1.aa\n",
       ":   2\n",
       "$P.virgatum_v5.aa\n",
       ":   4\n",
       "$Pp.Kellogg1297.DRAFT.PanAnd.1.0.aa\n",
       ":   16\n",
       "$Puccinellia_tenuiflora_refer_1.0.aa\n",
       ":   2\n",
       "$Rt.Layton_Zhong169.DRAFT.PanAnd.1.0.aa\n",
       ":   2\n",
       "$Salk_teff_dabbi_3.0.aa\n",
       ":   4\n",
       "$Setaria_italica_v2.0.aa\n",
       ":   2\n",
       "$Sorghum_bicolor_NCBIv3.aa\n",
       ":   2\n",
       "$TSU_Scap_1.aa\n",
       ":   4\n",
       "$Zm.B73.REFERENCE.NAM.5.0.aa\n",
       ":   4\n",
       "$lpBroSter1.1.aa\n",
       ":   2\n",
       "$lpPhrAust1.1.aa\n",
       ":   4\n",
       "$mabamboo_1.0.aa\n",
       ":   13\n",
       "$Total\n",
       ":   123\n",
       "\n",
       "\n"
      ],
      "text/plain": [
       "$Orthogroup\n",
       "[1] \"OG0001818\"\n",
       "\n",
       "$ASEM_AUS1_V1.0.aa\n",
       "[1] 2\n",
       "\n",
       "$ASM160227v1.aa\n",
       "[1] 3\n",
       "\n",
       "$ASM1927943v1.aa\n",
       "[1] 3\n",
       "\n",
       "$ASM1935983v1.aa\n",
       "[1] 2\n",
       "\n",
       "$ASM711570v1.aa\n",
       "[1] 3\n",
       "\n",
       "$Aet_v5.0.aa\n",
       "[1] 4\n",
       "\n",
       "$Alomy_genome_v1.aa\n",
       "[1] 2\n",
       "\n",
       "$Av.Kellogg1287_8.REFERENCE.PanAnd.1.0.aa\n",
       "[1] 2\n",
       "\n",
       "$Brachypodium_distachyon_v3.0.aa\n",
       "[1] 2\n",
       "\n",
       "$DiExil.aa\n",
       "[1] 4\n",
       "\n",
       "$Eleusine_coracana_v1.0.aa\n",
       "[1] 4\n",
       "\n",
       "$Embrapa_Uruz_1.0.aa\n",
       "[1] 2\n",
       "\n",
       "$IRGSP.1.0.aa\n",
       "[1] 2\n",
       "\n",
       "$KIB_Aluo_1.aa\n",
       "[1] 4\n",
       "\n",
       "$KIB_Gang_2.aa\n",
       "[1] 5\n",
       "\n",
       "$KIB_Mbac_1.aa\n",
       "[1] 6\n",
       "\n",
       "$KIB_Ogla_1.aa\n",
       "[1] 4\n",
       "\n",
       "$KIB_Pedu_3.aa\n",
       "[1] 5\n",
       "\n",
       "$KIB_Rgui_2.aa\n",
       "[1] 3\n",
       "\n",
       "$P.vaginatum_v3.1.aa\n",
       "[1] 2\n",
       "\n",
       "$P.virgatum_v5.aa\n",
       "[1] 4\n",
       "\n",
       "$Pp.Kellogg1297.DRAFT.PanAnd.1.0.aa\n",
       "[1] 16\n",
       "\n",
       "$Puccinellia_tenuiflora_refer_1.0.aa\n",
       "[1] 2\n",
       "\n",
       "$Rt.Layton_Zhong169.DRAFT.PanAnd.1.0.aa\n",
       "[1] 2\n",
       "\n",
       "$Salk_teff_dabbi_3.0.aa\n",
       "[1] 4\n",
       "\n",
       "$Setaria_italica_v2.0.aa\n",
       "[1] 2\n",
       "\n",
       "$Sorghum_bicolor_NCBIv3.aa\n",
       "[1] 2\n",
       "\n",
       "$TSU_Scap_1.aa\n",
       "[1] 4\n",
       "\n",
       "$Zm.B73.REFERENCE.NAM.5.0.aa\n",
       "[1] 4\n",
       "\n",
       "$lpBroSter1.1.aa\n",
       "[1] 2\n",
       "\n",
       "$lpPhrAust1.1.aa\n",
       "[1] 4\n",
       "\n",
       "$mabamboo_1.0.aa\n",
       "[1] 13\n",
       "\n",
       "$Total\n",
       "[1] 123\n"
      ]
     },
     "metadata": {},
     "output_type": "display_data"
    }
   ],
   "source": [
    "as.vector(helixer_OG[helixer_OG$Orthogroup == 'OG0001818',])"
   ]
  },
  {
   "cell_type": "code",
   "execution_count": 52,
   "id": "9bce77ed",
   "metadata": {},
   "outputs": [],
   "source": [
    "# idx =which(colnames(helixer_OG)%in%c(\"Brachypodium_distachyon.Brachypodium_distachyon_v3.0.dna.toplevel.aa\",\n",
    "#                           \"Eremochloa_ophiuroides_genome_rc_oneline_rmNN.aa\",\n",
    "#                           \"Oryza_sativa.IRGSP.1.0.dna.toplevel.aa\",\n",
    "#                           \"Td.McKain334_5.DRAFT.PanAnd.1.0.aa\",\n",
    "#                           \"Andropogon_gerardii_var_Kellogg_1272.mainGenome.bothhaps.aa\"))\n",
    "idx =which(colnames(helixer_OG)%in%c(\"RSPBVictoria1.0.aa\",\"ISU_Sangustifolia_v1.aa\"))"
   ]
  },
  {
   "cell_type": "code",
   "execution_count": 70,
   "id": "e0b84cae",
   "metadata": {},
   "outputs": [
    {
     "ename": "ERROR",
     "evalue": "Error in is.data.frame(x): object 'OGtab' not found\n",
     "output_type": "error",
     "traceback": [
      "Error in is.data.frame(x): object 'OGtab' not found\nTraceback:\n",
      "1. colnames(OGtab)",
      "2. is.data.frame(x)"
     ]
    }
   ],
   "source": [
    "colnames(OGtab)"
   ]
  },
  {
   "cell_type": "code",
   "execution_count": 4,
   "id": "1be4954b",
   "metadata": {},
   "outputs": [],
   "source": [
    "# helixer_OG_filtered = helixer_OG[,-idx]\n",
    "helixer_OG_filtered = helixer_OG"
   ]
  },
  {
   "cell_type": "code",
   "execution_count": 5,
   "id": "eae1783b",
   "metadata": {},
   "outputs": [],
   "source": [
    "helixer_OG_filtered = helixer_OG_filtered[-which(apply(helixer_OG_filtered[,-c(1,ncol(helixer_OG_filtered))],1,function(x) all(x<=1))),-c(1,ncol(helixer_OG_filtered))]"
   ]
  },
  {
   "cell_type": "code",
   "execution_count": 6,
   "id": "d6bbe036",
   "metadata": {},
   "outputs": [
    {
     "data": {
      "text/html": [
       "<style>\n",
       ".list-inline {list-style: none; margin:0; padding: 0}\n",
       ".list-inline>li {display: inline-block}\n",
       ".list-inline>li:not(:last-child)::after {content: \"\\00b7\"; padding: 0 .5ex}\n",
       "</style>\n",
       "<ol class=list-inline><li>87841</li><li>32</li></ol>\n"
      ],
      "text/latex": [
       "\\begin{enumerate*}\n",
       "\\item 87841\n",
       "\\item 32\n",
       "\\end{enumerate*}\n"
      ],
      "text/markdown": [
       "1. 87841\n",
       "2. 32\n",
       "\n",
       "\n"
      ],
      "text/plain": [
       "[1] 87841    32"
      ]
     },
     "metadata": {},
     "output_type": "display_data"
    }
   ],
   "source": [
    "dim(helixer_OG_filtered)"
   ]
  },
  {
   "cell_type": "code",
   "execution_count": 74,
   "id": "85c78c7d",
   "metadata": {},
   "outputs": [
    {
     "data": {
      "image/png": "[encoded data removed]",
      "text/plain": [
       "plot without title"
      ]
     },
     "metadata": {
      "image/png": {
       "height": 480,
       "width": 900
      }
     },
     "output_type": "display_data"
    }
   ],
   "source": [
    "options(repr.plot.width=15, repr.plot.height=8)\n",
    "par(mar = c(20,4,1,1))\n",
    "barplot(apply(helixer_OG_filtered,2,function(x) sum(x>0)),las = 2)"
   ]
  },
  {
   "cell_type": "code",
   "execution_count": 75,
   "id": "96d95ed9",
   "metadata": {},
   "outputs": [
    {
     "data": {
      "text/plain": [
       "numTaxa_helixer\n",
       "    1     2     3     4     5     6     7     8     9    10    11    12    13 \n",
       "40190 10166  5596  3636  2517  1949  1336   908   656   493   384   349   255 \n",
       "   14    15    16    17    18    19    20    21    22    23    24    25    26 \n",
       "  233   195   191   167   173   151   180   182   199   224   214   199   271 \n",
       "   27    28    29    30    31    32 \n",
       "  291   345   468   978  3356 11389 "
      ]
     },
     "metadata": {},
     "output_type": "display_data"
    }
   ],
   "source": [
    "numTaxa_helixer = apply(helixer_OG_filtered,1,function(x) sum(x>0))\n",
    "# numTaxa_ogv9 = apply(OGtab[,2:40],1,function(x) sum(x>0))\n",
    "# rbind(table(numTaxa_helixer),table(numTaxa_ogv9))\n",
    "table(numTaxa_helixer)                        "
   ]
  },
  {
   "cell_type": "code",
   "execution_count": 76,
   "id": "d18ae9e6",
   "metadata": {},
   "outputs": [
    {
     "data": {
      "image/png": "[encoded data removed]",
      "text/plain": [
       "plot without title"
      ]
     },
     "metadata": {
      "image/png": {
       "height": 480,
       "width": 900
      }
     },
     "output_type": "display_data"
    }
   ],
   "source": [
    "options(repr.plot.width=15, repr.plot.height=8)\n",
    "barplot(table(numTaxa_helixer))"
   ]
  },
  {
   "cell_type": "code",
   "execution_count": 61,
   "id": "5e74f4f6",
   "metadata": {},
   "outputs": [
    {
     "data": {
      "image/png": "[encoded data removed]",
      "text/plain": [
       "plot without title"
      ]
     },
     "metadata": {
      "image/png": {
       "height": 480,
       "width": 900
      }
     },
     "output_type": "display_data"
    }
   ],
   "source": [
    "options(repr.plot.width=15, repr.plot.height=8)\n",
    "barplot(rbind(table(numTaxa_helixer),table(numTaxa_ogv9)),beside = T,xlab = \"Present in # of genome\",\n",
    "        col = c(\"orange\",\"blue\"),legend.text = c(\"Helixer\",\"v1 annotation\"),args.legend = list(bty='n'))"
   ]
  },
  {
   "cell_type": "code",
   "execution_count": 77,
   "id": "0b134e49",
   "metadata": {},
   "outputs": [],
   "source": [
    "numTip_helixer = apply(helixer_OG_filtered,1,function(x) sum(x))\n",
    "# numTip_ogv9 = apply(OGtab[,2:40],1,function(x) sum(x))                       "
   ]
  },
  {
   "cell_type": "code",
   "execution_count": 78,
   "id": "678198bb",
   "metadata": {},
   "outputs": [
    {
     "data": {
      "image/png": "[encoded data removed]",
      "text/plain": [
       "Plot with title “”"
      ]
     },
     "metadata": {
      "image/png": {
       "height": 480,
       "width": 900
      }
     },
     "output_type": "display_data"
    }
   ],
   "source": [
    "hist(numTip_helixer,xlim = c(0,180),breaks = seq(0,4000,1),xlab = \"# of tip\",main = \"\",\n",
    "     col = scales::alpha(\"orange\",.5),freq = F)\n",
    "# hist(numTip_ogv9,xlim = c(0,180),breaks = seq(0,4000,1),col = scales::alpha(\"blue\",.5),add =T,freq =F)"
   ]
  },
  {
   "cell_type": "code",
   "execution_count": 32,
   "id": "362ad912",
   "metadata": {},
   "outputs": [
    {
     "data": {
      "text/html": [
       "<table class=\"dataframe\">\n",
       "<caption>A matrix: 2 × 39 of type int</caption>\n",
       "<thead>\n",
       "\t<tr><th scope=col>1</th><th scope=col>2</th><th scope=col>3</th><th scope=col>4</th><th scope=col>5</th><th scope=col>6</th><th scope=col>7</th><th scope=col>8</th><th scope=col>9</th><th scope=col>10</th><th scope=col>⋯</th><th scope=col>30</th><th scope=col>31</th><th scope=col>32</th><th scope=col>33</th><th scope=col>34</th><th scope=col>35</th><th scope=col>36</th><th scope=col>37</th><th scope=col>38</th><th scope=col>39</th></tr>\n",
       "</thead>\n",
       "<tbody>\n",
       "\t<tr><td>44392</td><td>23576</td><td>11932</td><td>7358</td><td>5001</td><td>3281</td><td>2563</td><td>1888</td><td>1528</td><td>1267</td><td>⋯</td><td>120</td><td>128</td><td>129</td><td>143</td><td>182</td><td>240</td><td>329</td><td> 573</td><td>1756</td><td>16115</td></tr>\n",
       "\t<tr><td>26401</td><td>15112</td><td> 7054</td><td>4433</td><td>2263</td><td>1429</td><td>1023</td><td> 822</td><td> 642</td><td> 502</td><td>⋯</td><td>222</td><td>148</td><td>186</td><td>187</td><td>252</td><td>408</td><td>755</td><td>1936</td><td>5571</td><td>10804</td></tr>\n",
       "</tbody>\n",
       "</table>\n"
      ],
      "text/latex": [
       "A matrix: 2 × 39 of type int\n",
       "\\begin{tabular}{lllllllllllllllllllll}\n",
       " 1 & 2 & 3 & 4 & 5 & 6 & 7 & 8 & 9 & 10 & ⋯ & 30 & 31 & 32 & 33 & 34 & 35 & 36 & 37 & 38 & 39\\\\\n",
       "\\hline\n",
       "\t 44392 & 23576 & 11932 & 7358 & 5001 & 3281 & 2563 & 1888 & 1528 & 1267 & ⋯ & 120 & 128 & 129 & 143 & 182 & 240 & 329 &  573 & 1756 & 16115\\\\\n",
       "\t 26401 & 15112 &  7054 & 4433 & 2263 & 1429 & 1023 &  822 &  642 &  502 & ⋯ & 222 & 148 & 186 & 187 & 252 & 408 & 755 & 1936 & 5571 & 10804\\\\\n",
       "\\end{tabular}\n"
      ],
      "text/markdown": [
       "\n",
       "A matrix: 2 × 39 of type int\n",
       "\n",
       "| 1 | 2 | 3 | 4 | 5 | 6 | 7 | 8 | 9 | 10 | ⋯ | 30 | 31 | 32 | 33 | 34 | 35 | 36 | 37 | 38 | 39 |\n",
       "|---|---|---|---|---|---|---|---|---|---|---|---|---|---|---|---|---|---|---|---|---|\n",
       "| 44392 | 23576 | 11932 | 7358 | 5001 | 3281 | 2563 | 1888 | 1528 | 1267 | ⋯ | 120 | 128 | 129 | 143 | 182 | 240 | 329 |  573 | 1756 | 16115 |\n",
       "| 26401 | 15112 |  7054 | 4433 | 2263 | 1429 | 1023 |  822 |  642 |  502 | ⋯ | 222 | 148 | 186 | 187 | 252 | 408 | 755 | 1936 | 5571 | 10804 |\n",
       "\n"
      ],
      "text/plain": [
       "     1     2     3     4    5    6    7    8    9    10   ⋯ 30  31  32  33  34 \n",
       "[1,] 44392 23576 11932 7358 5001 3281 2563 1888 1528 1267 ⋯ 120 128 129 143 182\n",
       "[2,] 26401 15112  7054 4433 2263 1429 1023  822  642  502 ⋯ 222 148 186 187 252\n",
       "     35  36  37   38   39   \n",
       "[1,] 240 329  573 1756 16115\n",
       "[2,] 408 755 1936 5571 10804"
      ]
     },
     "metadata": {},
     "output_type": "display_data"
    }
   ],
   "source": [
    "rbind(table(numTaxa_helixer),table(numTaxa_ogv9))"
   ]
  },
  {
   "cell_type": "code",
   "execution_count": null,
   "id": "1eea643f",
   "metadata": {},
   "outputs": [],
   "source": [
    "# helixer-OG filtering"
   ]
  },
  {
   "cell_type": "code",
   "execution_count": 82,
   "id": "2b78cb3d",
   "metadata": {},
   "outputs": [],
   "source": [
    "filterOG = apply(helixer_OG[,-c(1,ncol(helixer_OG))],1,function(x) sum(x>0))> 3 & !apply(helixer_OG[,-c(1,ncol(helixer_OG))],1,function(x) any(x>18))"
   ]
  },
  {
   "cell_type": "code",
   "execution_count": 31,
   "id": "5e0e22a4",
   "metadata": {},
   "outputs": [],
   "source": [
    "filterOG_strict = apply(helixer_OG[,-c(1,ncol(helixer_OG))],1,function(x) sum(x>0))> 7 & !apply(helixer_OG[,-c(1,ncol(helixer_OG))],1,function(x) any(x>18))"
   ]
  },
  {
   "cell_type": "code",
   "execution_count": 41,
   "id": "039c60d0",
   "metadata": {},
   "outputs": [],
   "source": [
    "filterOG_strictRelax = apply(helixer_OG[,-c(1,ncol(helixer_OG))],1,function(x) sum(x>0))> 7 & !apply(helixer_OG[,-c(1,ncol(helixer_OG))],1,function(x) any(x>100))"
   ]
  },
  {
   "cell_type": "code",
   "execution_count": 83,
   "id": "e8459a1d",
   "metadata": {},
   "outputs": [
    {
     "data": {
      "text/html": [
       "30649"
      ],
      "text/latex": [
       "30649"
      ],
      "text/markdown": [
       "30649"
      ],
      "text/plain": [
       "[1] 30649"
      ]
     },
     "metadata": {},
     "output_type": "display_data"
    }
   ],
   "source": [
    "sum(filterOG)"
   ]
  },
  {
   "cell_type": "code",
   "execution_count": 21,
   "id": "c810e770",
   "metadata": {},
   "outputs": [
    {
     "data": {
      "text/html": [
       "20037"
      ],
      "text/latex": [
       "20037"
      ],
      "text/markdown": [
       "20037"
      ],
      "text/plain": [
       "[1] 20037"
      ]
     },
     "metadata": {},
     "output_type": "display_data"
    }
   ],
   "source": [
    "sum(filterOG_strict)"
   ]
  },
  {
   "cell_type": "code",
   "execution_count": 42,
   "id": "16a68fe6",
   "metadata": {},
   "outputs": [
    {
     "data": {
      "text/html": [
       "2326"
      ],
      "text/latex": [
       "2326"
      ],
      "text/markdown": [
       "2326"
      ],
      "text/plain": [
       "[1] 2326"
      ]
     },
     "metadata": {},
     "output_type": "display_data"
    }
   ],
   "source": [
    "sum(filterOG_strictRelax&!filterOG_strict)"
   ]
  },
  {
   "cell_type": "code",
   "execution_count": 13,
   "id": "e4ba6190",
   "metadata": {},
   "outputs": [],
   "source": [
    "helixer_OG_OGfiltered = helixer_OG[filterOG,]"
   ]
  },
  {
   "cell_type": "code",
   "execution_count": 15,
   "id": "7c003f40",
   "metadata": {},
   "outputs": [],
   "source": [
    "helixer_OG_OGfilteredHard = helixer_OG[filterOG_strict,]"
   ]
  },
  {
   "cell_type": "code",
   "execution_count": 43,
   "id": "3cb10828",
   "metadata": {},
   "outputs": [],
   "source": [
    "helixer_OG_recovered = helixer_OG[filterOG_strictRelax&!filterOG_strict,]"
   ]
  },
  {
   "cell_type": "code",
   "execution_count": 48,
   "id": "fb36b2ce",
   "metadata": {},
   "outputs": [
    {
     "data": {
      "text/html": [
       "<table class=\"dataframe\">\n",
       "<caption>A data.frame: 2326 × 33</caption>\n",
       "<thead>\n",
       "\t<tr><th></th><th scope=col>ASEM_AUS1_V1.0.aa</th><th scope=col>ASM160227v1.aa</th><th scope=col>ASM1927943v1.aa</th><th scope=col>ASM1935983v1.aa</th><th scope=col>ASM711570v1.aa</th><th scope=col>Aet_v5.0.aa</th><th scope=col>Alomy_genome_v1.aa</th><th scope=col>Av.Kellogg1287_8.REFERENCE.PanAnd.1.0.aa</th><th scope=col>Brachypodium_distachyon_v3.0.aa</th><th scope=col>DiExil.aa</th><th scope=col>⋯</th><th scope=col>Rt.Layton_Zhong169.DRAFT.PanAnd.1.0.aa</th><th scope=col>Salk_teff_dabbi_3.0.aa</th><th scope=col>Setaria_italica_v2.0.aa</th><th scope=col>Sorghum_bicolor_NCBIv3.aa</th><th scope=col>TSU_Scap_1.aa</th><th scope=col>Zm.B73.REFERENCE.NAM.5.0.aa</th><th scope=col>lpBroSter1.1.aa</th><th scope=col>lpPhrAust1.1.aa</th><th scope=col>mabamboo_1.0.aa</th><th scope=col>Total</th></tr>\n",
       "\t<tr><th></th><th scope=col>&lt;int&gt;</th><th scope=col>&lt;int&gt;</th><th scope=col>&lt;int&gt;</th><th scope=col>&lt;int&gt;</th><th scope=col>&lt;int&gt;</th><th scope=col>&lt;int&gt;</th><th scope=col>&lt;int&gt;</th><th scope=col>&lt;int&gt;</th><th scope=col>&lt;int&gt;</th><th scope=col>&lt;int&gt;</th><th scope=col>⋯</th><th scope=col>&lt;int&gt;</th><th scope=col>&lt;int&gt;</th><th scope=col>&lt;int&gt;</th><th scope=col>&lt;int&gt;</th><th scope=col>&lt;int&gt;</th><th scope=col>&lt;int&gt;</th><th scope=col>&lt;int&gt;</th><th scope=col>&lt;int&gt;</th><th scope=col>&lt;int&gt;</th><th scope=col>&lt;int&gt;</th></tr>\n",
       "</thead>\n",
       "<tbody>\n",
       "\t<tr><th scope=row>34</th><td>40</td><td> 7</td><td> 4</td><td>10</td><td>48</td><td>43</td><td>79</td><td>25</td><td>12</td><td>60</td><td>⋯</td><td>26</td><td>34</td><td>22</td><td>16</td><td>10</td><td>17</td><td>59</td><td> 4</td><td>35</td><td>868</td></tr>\n",
       "\t<tr><th scope=row>54</th><td>12</td><td> 5</td><td> 6</td><td> 9</td><td>28</td><td>35</td><td>28</td><td>26</td><td>11</td><td>23</td><td>⋯</td><td>24</td><td>14</td><td>15</td><td>24</td><td>18</td><td>22</td><td>40</td><td>16</td><td>58</td><td>744</td></tr>\n",
       "\t<tr><th scope=row>60</th><td>25</td><td>14</td><td>20</td><td> 6</td><td>11</td><td>19</td><td>10</td><td>24</td><td>10</td><td>46</td><td>⋯</td><td>20</td><td>24</td><td>21</td><td>18</td><td> 6</td><td>21</td><td>14</td><td> 9</td><td>55</td><td>715</td></tr>\n",
       "\t<tr><th scope=row>63</th><td>14</td><td>11</td><td>11</td><td> 9</td><td>28</td><td>36</td><td>36</td><td>17</td><td>14</td><td>28</td><td>⋯</td><td>14</td><td>28</td><td>15</td><td>15</td><td>19</td><td>17</td><td>43</td><td>17</td><td>44</td><td>690</td></tr>\n",
       "\t<tr><th scope=row>68</th><td>34</td><td> 5</td><td> 0</td><td>13</td><td> 2</td><td> 5</td><td> 2</td><td>43</td><td>14</td><td>46</td><td>⋯</td><td>20</td><td>22</td><td>22</td><td>20</td><td> 1</td><td> 4</td><td> 3</td><td>19</td><td>48</td><td>654</td></tr>\n",
       "\t<tr><th scope=row>71</th><td>16</td><td> 7</td><td> 4</td><td> 5</td><td>13</td><td>18</td><td>21</td><td>15</td><td>12</td><td>18</td><td>⋯</td><td>10</td><td>17</td><td>12</td><td> 9</td><td> 6</td><td>14</td><td>14</td><td>12</td><td>84</td><td>631</td></tr>\n",
       "\t<tr><th scope=row>74</th><td>16</td><td>14</td><td>15</td><td>12</td><td>12</td><td>21</td><td>25</td><td>10</td><td> 4</td><td>20</td><td>⋯</td><td>12</td><td>27</td><td>11</td><td>17</td><td> 8</td><td> 9</td><td>16</td><td>19</td><td>56</td><td>620</td></tr>\n",
       "\t<tr><th scope=row>79</th><td>27</td><td> 6</td><td> 3</td><td> 0</td><td>16</td><td>18</td><td>25</td><td>40</td><td>13</td><td>57</td><td>⋯</td><td>21</td><td>13</td><td>17</td><td> 9</td><td> 8</td><td> 5</td><td>14</td><td> 6</td><td>24</td><td>594</td></tr>\n",
       "\t<tr><th scope=row>85</th><td>22</td><td> 9</td><td>11</td><td> 1</td><td>18</td><td>20</td><td>19</td><td>15</td><td> 7</td><td>46</td><td>⋯</td><td>11</td><td>17</td><td>14</td><td>20</td><td> 5</td><td>14</td><td>15</td><td> 9</td><td>25</td><td>564</td></tr>\n",
       "\t<tr><th scope=row>91</th><td>12</td><td> 3</td><td> 0</td><td> 2</td><td> 8</td><td>17</td><td>15</td><td>28</td><td> 8</td><td>10</td><td>⋯</td><td> 7</td><td> 9</td><td> 5</td><td> 5</td><td>11</td><td> 0</td><td> 6</td><td>25</td><td>81</td><td>551</td></tr>\n",
       "\t<tr><th scope=row>94</th><td>16</td><td> 2</td><td> 2</td><td> 0</td><td> 9</td><td>29</td><td>16</td><td>19</td><td> 8</td><td>21</td><td>⋯</td><td>13</td><td>12</td><td>21</td><td> 7</td><td>19</td><td> 4</td><td>21</td><td> 7</td><td>44</td><td>540</td></tr>\n",
       "\t<tr><th scope=row>95</th><td>22</td><td> 5</td><td> 2</td><td>17</td><td>12</td><td>23</td><td> 9</td><td>20</td><td> 3</td><td>25</td><td>⋯</td><td>11</td><td>15</td><td>21</td><td> 7</td><td> 9</td><td> 0</td><td>13</td><td> 4</td><td>54</td><td>540</td></tr>\n",
       "\t<tr><th scope=row>96</th><td>10</td><td> 7</td><td> 3</td><td> 8</td><td>20</td><td>19</td><td>12</td><td>21</td><td> 4</td><td>15</td><td>⋯</td><td>18</td><td>12</td><td>17</td><td>12</td><td> 4</td><td> 8</td><td> 9</td><td> 9</td><td>67</td><td>540</td></tr>\n",
       "\t<tr><th scope=row>99</th><td>10</td><td>11</td><td>10</td><td> 6</td><td>21</td><td>34</td><td>32</td><td> 9</td><td>11</td><td>15</td><td>⋯</td><td>13</td><td>13</td><td>10</td><td>12</td><td>17</td><td>12</td><td>34</td><td>13</td><td>20</td><td>535</td></tr>\n",
       "\t<tr><th scope=row>105</th><td>24</td><td>85</td><td> 4</td><td> 6</td><td>13</td><td>74</td><td> 9</td><td>23</td><td> 1</td><td> 5</td><td>⋯</td><td> 4</td><td>14</td><td> 5</td><td> 5</td><td> 4</td><td> 3</td><td> 3</td><td> 6</td><td>45</td><td>526</td></tr>\n",
       "\t<tr><th scope=row>107</th><td>10</td><td>11</td><td>18</td><td> 9</td><td>11</td><td>14</td><td>13</td><td>11</td><td> 7</td><td>16</td><td>⋯</td><td>10</td><td>19</td><td> 8</td><td>29</td><td>13</td><td>14</td><td>10</td><td>16</td><td>41</td><td>525</td></tr>\n",
       "\t<tr><th scope=row>110</th><td>16</td><td> 7</td><td>13</td><td> 7</td><td>15</td><td>20</td><td>15</td><td>15</td><td> 6</td><td>32</td><td>⋯</td><td>17</td><td>53</td><td>16</td><td>17</td><td>17</td><td>10</td><td>12</td><td>15</td><td> 8</td><td>523</td></tr>\n",
       "\t<tr><th scope=row>112</th><td>25</td><td>15</td><td> 0</td><td>22</td><td>12</td><td> 7</td><td> 3</td><td>59</td><td> 1</td><td> 9</td><td>⋯</td><td>30</td><td> 6</td><td> 3</td><td>24</td><td>20</td><td> 4</td><td>13</td><td> 1</td><td>62</td><td>522</td></tr>\n",
       "\t<tr><th scope=row>113</th><td>20</td><td> 7</td><td> 7</td><td> 6</td><td>13</td><td> 8</td><td> 9</td><td> 6</td><td>24</td><td>12</td><td>⋯</td><td> 9</td><td>16</td><td>12</td><td> 3</td><td>33</td><td> 0</td><td> 6</td><td> 6</td><td>68</td><td>521</td></tr>\n",
       "\t<tr><th scope=row>115</th><td> 9</td><td> 7</td><td> 1</td><td>10</td><td> 9</td><td>20</td><td>11</td><td>14</td><td>10</td><td>18</td><td>⋯</td><td> 7</td><td>13</td><td> 7</td><td> 7</td><td> 7</td><td> 0</td><td>27</td><td>10</td><td>69</td><td>520</td></tr>\n",
       "\t<tr><th scope=row>117</th><td>15</td><td>15</td><td> 0</td><td> 1</td><td>17</td><td>19</td><td>40</td><td>17</td><td> 7</td><td>34</td><td>⋯</td><td> 8</td><td>41</td><td> 4</td><td> 2</td><td> 5</td><td> 9</td><td>16</td><td> 9</td><td>23</td><td>517</td></tr>\n",
       "\t<tr><th scope=row>119</th><td>33</td><td> 3</td><td> 0</td><td> 0</td><td>15</td><td>11</td><td>13</td><td>35</td><td> 3</td><td>39</td><td>⋯</td><td>13</td><td>64</td><td>16</td><td>16</td><td> 0</td><td> 2</td><td> 4</td><td> 3</td><td> 2</td><td>515</td></tr>\n",
       "\t<tr><th scope=row>122</th><td>22</td><td>14</td><td> 0</td><td> 0</td><td>13</td><td> 1</td><td>15</td><td>32</td><td>13</td><td>23</td><td>⋯</td><td>18</td><td>12</td><td>22</td><td> 0</td><td> 5</td><td>11</td><td>14</td><td> 0</td><td> 5</td><td>512</td></tr>\n",
       "\t<tr><th scope=row>125</th><td>10</td><td>14</td><td>13</td><td> 9</td><td>23</td><td>27</td><td>26</td><td>12</td><td>13</td><td>20</td><td>⋯</td><td>10</td><td>16</td><td> 9</td><td>11</td><td>17</td><td>15</td><td>25</td><td>13</td><td>26</td><td>507</td></tr>\n",
       "\t<tr><th scope=row>127</th><td>12</td><td>11</td><td> 7</td><td> 4</td><td>16</td><td>17</td><td>15</td><td> 9</td><td>15</td><td>28</td><td>⋯</td><td>11</td><td>26</td><td>11</td><td>12</td><td>13</td><td> 7</td><td>17</td><td>12</td><td>31</td><td>507</td></tr>\n",
       "\t<tr><th scope=row>138</th><td>11</td><td> 4</td><td> 2</td><td>12</td><td>11</td><td> 9</td><td> 5</td><td>15</td><td> 5</td><td>10</td><td>⋯</td><td> 9</td><td> 3</td><td>12</td><td> 7</td><td> 4</td><td> 7</td><td> 4</td><td> 6</td><td>76</td><td>490</td></tr>\n",
       "\t<tr><th scope=row>139</th><td>15</td><td> 7</td><td> 1</td><td> 0</td><td>16</td><td>13</td><td>20</td><td>24</td><td>10</td><td>31</td><td>⋯</td><td>12</td><td>58</td><td>13</td><td>17</td><td> 8</td><td> 4</td><td>18</td><td>10</td><td> 5</td><td>488</td></tr>\n",
       "\t<tr><th scope=row>140</th><td> 6</td><td>13</td><td> 4</td><td> 0</td><td> 3</td><td>90</td><td>19</td><td> 1</td><td> 2</td><td> 9</td><td>⋯</td><td> 2</td><td> 1</td><td> 3</td><td> 0</td><td> 4</td><td> 1</td><td>17</td><td> 5</td><td>58</td><td>485</td></tr>\n",
       "\t<tr><th scope=row>143</th><td>17</td><td> 2</td><td> 1</td><td> 1</td><td>13</td><td>25</td><td>18</td><td>31</td><td> 5</td><td>16</td><td>⋯</td><td> 6</td><td> 8</td><td> 5</td><td> 2</td><td>14</td><td> 8</td><td> 7</td><td> 6</td><td>89</td><td>483</td></tr>\n",
       "\t<tr><th scope=row>147</th><td>16</td><td> 4</td><td> 2</td><td> 4</td><td> 2</td><td>23</td><td> 3</td><td> 7</td><td> 5</td><td>21</td><td>⋯</td><td> 7</td><td>17</td><td> 7</td><td> 4</td><td> 8</td><td> 4</td><td> 9</td><td>15</td><td>73</td><td>480</td></tr>\n",
       "\t<tr><th scope=row>⋮</th><td>⋮</td><td>⋮</td><td>⋮</td><td>⋮</td><td>⋮</td><td>⋮</td><td>⋮</td><td>⋮</td><td>⋮</td><td>⋮</td><td>⋱</td><td>⋮</td><td>⋮</td><td>⋮</td><td>⋮</td><td>⋮</td><td>⋮</td><td>⋮</td><td>⋮</td><td>⋮</td><td>⋮</td></tr>\n",
       "\t<tr><th scope=row>19844</th><td>0</td><td>0</td><td>1</td><td>1</td><td>0</td><td> 7</td><td> 2</td><td> 0</td><td>0</td><td>0</td><td>⋯</td><td>0</td><td>0</td><td>0</td><td>0</td><td>0</td><td>0</td><td> 1</td><td>0</td><td> 0</td><td>38</td></tr>\n",
       "\t<tr><th scope=row>19848</th><td>0</td><td>0</td><td>0</td><td>1</td><td>1</td><td> 0</td><td> 1</td><td> 0</td><td>0</td><td>0</td><td>⋯</td><td>0</td><td>0</td><td>0</td><td>0</td><td>5</td><td>0</td><td> 0</td><td>0</td><td> 0</td><td>38</td></tr>\n",
       "\t<tr><th scope=row>19854</th><td>0</td><td>0</td><td>0</td><td>0</td><td>2</td><td> 3</td><td> 3</td><td> 0</td><td>3</td><td>0</td><td>⋯</td><td>0</td><td>0</td><td>0</td><td>0</td><td>1</td><td>0</td><td> 3</td><td>0</td><td> 2</td><td>38</td></tr>\n",
       "\t<tr><th scope=row>19867</th><td>0</td><td>0</td><td>0</td><td>0</td><td>1</td><td> 2</td><td> 1</td><td> 0</td><td>0</td><td>0</td><td>⋯</td><td>0</td><td>0</td><td>0</td><td>1</td><td>0</td><td>0</td><td> 3</td><td>1</td><td> 2</td><td>38</td></tr>\n",
       "\t<tr><th scope=row>19872</th><td>0</td><td>0</td><td>0</td><td>0</td><td>0</td><td> 1</td><td> 0</td><td>29</td><td>0</td><td>0</td><td>⋯</td><td>0</td><td>0</td><td>2</td><td>0</td><td>0</td><td>0</td><td> 0</td><td>1</td><td> 0</td><td>38</td></tr>\n",
       "\t<tr><th scope=row>19975</th><td>0</td><td>0</td><td>1</td><td>0</td><td>1</td><td> 1</td><td> 1</td><td> 0</td><td>1</td><td>0</td><td>⋯</td><td>0</td><td>0</td><td>0</td><td>0</td><td>1</td><td>0</td><td> 1</td><td>0</td><td> 1</td><td>37</td></tr>\n",
       "\t<tr><th scope=row>19976</th><td>0</td><td>0</td><td>2</td><td>0</td><td>0</td><td> 0</td><td> 0</td><td> 0</td><td>0</td><td>0</td><td>⋯</td><td>0</td><td>0</td><td>0</td><td>2</td><td>1</td><td>3</td><td>19</td><td>0</td><td> 0</td><td>37</td></tr>\n",
       "\t<tr><th scope=row>19991</th><td>0</td><td>0</td><td>0</td><td>0</td><td>5</td><td> 0</td><td> 0</td><td> 1</td><td>0</td><td>0</td><td>⋯</td><td>0</td><td>0</td><td>0</td><td>0</td><td>0</td><td>2</td><td> 1</td><td>0</td><td>24</td><td>37</td></tr>\n",
       "\t<tr><th scope=row>20003</th><td>0</td><td>0</td><td>0</td><td>0</td><td>3</td><td> 2</td><td> 2</td><td> 0</td><td>2</td><td>0</td><td>⋯</td><td>0</td><td>0</td><td>0</td><td>0</td><td>1</td><td>0</td><td> 1</td><td>0</td><td> 0</td><td>37</td></tr>\n",
       "\t<tr><th scope=row>20065</th><td>1</td><td>0</td><td>0</td><td>0</td><td>0</td><td> 0</td><td> 0</td><td> 1</td><td>0</td><td>0</td><td>⋯</td><td>1</td><td>0</td><td>0</td><td>0</td><td>1</td><td>0</td><td> 0</td><td>0</td><td> 8</td><td>36</td></tr>\n",
       "\t<tr><th scope=row>20084</th><td>1</td><td>0</td><td>0</td><td>0</td><td>0</td><td> 2</td><td> 1</td><td> 0</td><td>1</td><td>2</td><td>⋯</td><td>0</td><td>0</td><td>0</td><td>0</td><td>0</td><td>0</td><td> 3</td><td>0</td><td> 1</td><td>36</td></tr>\n",
       "\t<tr><th scope=row>20125</th><td>0</td><td>0</td><td>1</td><td>0</td><td>1</td><td> 1</td><td> 2</td><td> 0</td><td>0</td><td>0</td><td>⋯</td><td>0</td><td>1</td><td>0</td><td>0</td><td>0</td><td>0</td><td> 0</td><td>0</td><td> 0</td><td>36</td></tr>\n",
       "\t<tr><th scope=row>20399</th><td>0</td><td>0</td><td>1</td><td>0</td><td>0</td><td> 0</td><td> 0</td><td> 0</td><td>0</td><td>0</td><td>⋯</td><td>0</td><td>1</td><td>0</td><td>0</td><td>0</td><td>0</td><td> 0</td><td>0</td><td> 3</td><td>34</td></tr>\n",
       "\t<tr><th scope=row>20436</th><td>0</td><td>0</td><td>0</td><td>0</td><td>0</td><td> 2</td><td> 4</td><td> 0</td><td>0</td><td>0</td><td>⋯</td><td>0</td><td>0</td><td>0</td><td>0</td><td>1</td><td>0</td><td> 0</td><td>1</td><td>20</td><td>34</td></tr>\n",
       "\t<tr><th scope=row>20557</th><td>0</td><td>0</td><td>0</td><td>0</td><td>3</td><td> 0</td><td> 4</td><td> 1</td><td>0</td><td>0</td><td>⋯</td><td>0</td><td>1</td><td>0</td><td>0</td><td>0</td><td>0</td><td> 0</td><td>0</td><td> 0</td><td>33</td></tr>\n",
       "\t<tr><th scope=row>20558</th><td>0</td><td>0</td><td>0</td><td>0</td><td>1</td><td> 0</td><td> 1</td><td> 0</td><td>2</td><td>0</td><td>⋯</td><td>0</td><td>0</td><td>0</td><td>0</td><td>2</td><td>0</td><td> 1</td><td>0</td><td> 0</td><td>33</td></tr>\n",
       "\t<tr><th scope=row>20559</th><td>0</td><td>0</td><td>0</td><td>0</td><td>1</td><td>24</td><td> 1</td><td> 0</td><td>0</td><td>0</td><td>⋯</td><td>0</td><td>2</td><td>0</td><td>0</td><td>0</td><td>0</td><td> 0</td><td>0</td><td> 0</td><td>33</td></tr>\n",
       "\t<tr><th scope=row>20564</th><td>0</td><td>0</td><td>0</td><td>0</td><td>3</td><td> 0</td><td> 2</td><td> 0</td><td>1</td><td>0</td><td>⋯</td><td>0</td><td>0</td><td>0</td><td>0</td><td>2</td><td>0</td><td> 0</td><td>0</td><td> 0</td><td>33</td></tr>\n",
       "\t<tr><th scope=row>20565</th><td>0</td><td>0</td><td>0</td><td>0</td><td>1</td><td> 1</td><td> 5</td><td> 0</td><td>0</td><td>0</td><td>⋯</td><td>0</td><td>0</td><td>0</td><td>0</td><td>0</td><td>0</td><td> 0</td><td>0</td><td> 1</td><td>33</td></tr>\n",
       "\t<tr><th scope=row>20567</th><td>0</td><td>0</td><td>0</td><td>0</td><td>2</td><td> 2</td><td> 3</td><td> 0</td><td>2</td><td>0</td><td>⋯</td><td>0</td><td>0</td><td>0</td><td>0</td><td>1</td><td>0</td><td> 2</td><td>0</td><td> 0</td><td>33</td></tr>\n",
       "\t<tr><th scope=row>20579</th><td>0</td><td>0</td><td>0</td><td>0</td><td>0</td><td> 0</td><td> 1</td><td> 1</td><td>0</td><td>0</td><td>⋯</td><td>3</td><td>0</td><td>0</td><td>0</td><td>1</td><td>0</td><td> 0</td><td>0</td><td> 3</td><td>33</td></tr>\n",
       "\t<tr><th scope=row>20652</th><td>1</td><td>0</td><td>0</td><td>0</td><td>1</td><td> 1</td><td> 1</td><td> 0</td><td>0</td><td>0</td><td>⋯</td><td>0</td><td>2</td><td>1</td><td>0</td><td>0</td><td>0</td><td> 0</td><td>0</td><td> 0</td><td>32</td></tr>\n",
       "\t<tr><th scope=row>20654</th><td>1</td><td>0</td><td>0</td><td>0</td><td>1</td><td> 1</td><td> 3</td><td> 0</td><td>0</td><td>0</td><td>⋯</td><td>0</td><td>0</td><td>0</td><td>0</td><td>0</td><td>0</td><td> 1</td><td>0</td><td> 1</td><td>32</td></tr>\n",
       "\t<tr><th scope=row>20700</th><td>0</td><td>0</td><td>0</td><td>0</td><td>0</td><td> 1</td><td> 0</td><td> 0</td><td>0</td><td>0</td><td>⋯</td><td>0</td><td>0</td><td>0</td><td>0</td><td>1</td><td>0</td><td> 0</td><td>0</td><td>20</td><td>32</td></tr>\n",
       "\t<tr><th scope=row>20716</th><td>0</td><td>0</td><td>0</td><td>0</td><td>0</td><td> 0</td><td> 0</td><td> 0</td><td>0</td><td>1</td><td>⋯</td><td>0</td><td>0</td><td>0</td><td>0</td><td>0</td><td>0</td><td> 0</td><td>1</td><td>23</td><td>32</td></tr>\n",
       "\t<tr><th scope=row>20736</th><td>1</td><td>0</td><td>0</td><td>1</td><td>0</td><td> 1</td><td> 0</td><td> 0</td><td>0</td><td>0</td><td>⋯</td><td>0</td><td>0</td><td>0</td><td>0</td><td>0</td><td>0</td><td> 0</td><td>0</td><td>19</td><td>31</td></tr>\n",
       "\t<tr><th scope=row>20771</th><td>1</td><td>1</td><td>0</td><td>1</td><td>0</td><td> 0</td><td> 0</td><td> 0</td><td>0</td><td>0</td><td>⋯</td><td>0</td><td>0</td><td>0</td><td>0</td><td>0</td><td>0</td><td> 0</td><td>0</td><td> 0</td><td>31</td></tr>\n",
       "\t<tr><th scope=row>20962</th><td>0</td><td>0</td><td>0</td><td>0</td><td>2</td><td> 0</td><td> 1</td><td> 0</td><td>1</td><td>0</td><td>⋯</td><td>1</td><td>0</td><td>0</td><td>0</td><td>1</td><td>0</td><td> 2</td><td>0</td><td> 0</td><td>30</td></tr>\n",
       "\t<tr><th scope=row>21106</th><td>0</td><td>0</td><td>0</td><td>0</td><td>2</td><td> 1</td><td> 1</td><td> 0</td><td>1</td><td>0</td><td>⋯</td><td>0</td><td>0</td><td>0</td><td>0</td><td>0</td><td>0</td><td> 1</td><td>0</td><td> 0</td><td>29</td></tr>\n",
       "\t<tr><th scope=row>21232</th><td>0</td><td>1</td><td>1</td><td>1</td><td>0</td><td> 0</td><td>19</td><td> 0</td><td>0</td><td>0</td><td>⋯</td><td>1</td><td>0</td><td>0</td><td>0</td><td>0</td><td>0</td><td> 0</td><td>0</td><td> 1</td><td>28</td></tr>\n",
       "</tbody>\n",
       "</table>\n"
      ],
      "text/latex": [
       "A data.frame: 2326 × 33\n",
       "\\begin{tabular}{r|lllllllllllllllllllll}\n",
       "  & ASEM\\_AUS1\\_V1.0.aa & ASM160227v1.aa & ASM1927943v1.aa & ASM1935983v1.aa & ASM711570v1.aa & Aet\\_v5.0.aa & Alomy\\_genome\\_v1.aa & Av.Kellogg1287\\_8.REFERENCE.PanAnd.1.0.aa & Brachypodium\\_distachyon\\_v3.0.aa & DiExil.aa & ⋯ & Rt.Layton\\_Zhong169.DRAFT.PanAnd.1.0.aa & Salk\\_teff\\_dabbi\\_3.0.aa & Setaria\\_italica\\_v2.0.aa & Sorghum\\_bicolor\\_NCBIv3.aa & TSU\\_Scap\\_1.aa & Zm.B73.REFERENCE.NAM.5.0.aa & lpBroSter1.1.aa & lpPhrAust1.1.aa & mabamboo\\_1.0.aa & Total\\\\\n",
       "  & <int> & <int> & <int> & <int> & <int> & <int> & <int> & <int> & <int> & <int> & ⋯ & <int> & <int> & <int> & <int> & <int> & <int> & <int> & <int> & <int> & <int>\\\\\n",
       "\\hline\n",
       "\t34 & 40 &  7 &  4 & 10 & 48 & 43 & 79 & 25 & 12 & 60 & ⋯ & 26 & 34 & 22 & 16 & 10 & 17 & 59 &  4 & 35 & 868\\\\\n",
       "\t54 & 12 &  5 &  6 &  9 & 28 & 35 & 28 & 26 & 11 & 23 & ⋯ & 24 & 14 & 15 & 24 & 18 & 22 & 40 & 16 & 58 & 744\\\\\n",
       "\t60 & 25 & 14 & 20 &  6 & 11 & 19 & 10 & 24 & 10 & 46 & ⋯ & 20 & 24 & 21 & 18 &  6 & 21 & 14 &  9 & 55 & 715\\\\\n",
       "\t63 & 14 & 11 & 11 &  9 & 28 & 36 & 36 & 17 & 14 & 28 & ⋯ & 14 & 28 & 15 & 15 & 19 & 17 & 43 & 17 & 44 & 690\\\\\n",
       "\t68 & 34 &  5 &  0 & 13 &  2 &  5 &  2 & 43 & 14 & 46 & ⋯ & 20 & 22 & 22 & 20 &  1 &  4 &  3 & 19 & 48 & 654\\\\\n",
       "\t71 & 16 &  7 &  4 &  5 & 13 & 18 & 21 & 15 & 12 & 18 & ⋯ & 10 & 17 & 12 &  9 &  6 & 14 & 14 & 12 & 84 & 631\\\\\n",
       "\t74 & 16 & 14 & 15 & 12 & 12 & 21 & 25 & 10 &  4 & 20 & ⋯ & 12 & 27 & 11 & 17 &  8 &  9 & 16 & 19 & 56 & 620\\\\\n",
       "\t79 & 27 &  6 &  3 &  0 & 16 & 18 & 25 & 40 & 13 & 57 & ⋯ & 21 & 13 & 17 &  9 &  8 &  5 & 14 &  6 & 24 & 594\\\\\n",
       "\t85 & 22 &  9 & 11 &  1 & 18 & 20 & 19 & 15 &  7 & 46 & ⋯ & 11 & 17 & 14 & 20 &  5 & 14 & 15 &  9 & 25 & 564\\\\\n",
       "\t91 & 12 &  3 &  0 &  2 &  8 & 17 & 15 & 28 &  8 & 10 & ⋯ &  7 &  9 &  5 &  5 & 11 &  0 &  6 & 25 & 81 & 551\\\\\n",
       "\t94 & 16 &  2 &  2 &  0 &  9 & 29 & 16 & 19 &  8 & 21 & ⋯ & 13 & 12 & 21 &  7 & 19 &  4 & 21 &  7 & 44 & 540\\\\\n",
       "\t95 & 22 &  5 &  2 & 17 & 12 & 23 &  9 & 20 &  3 & 25 & ⋯ & 11 & 15 & 21 &  7 &  9 &  0 & 13 &  4 & 54 & 540\\\\\n",
       "\t96 & 10 &  7 &  3 &  8 & 20 & 19 & 12 & 21 &  4 & 15 & ⋯ & 18 & 12 & 17 & 12 &  4 &  8 &  9 &  9 & 67 & 540\\\\\n",
       "\t99 & 10 & 11 & 10 &  6 & 21 & 34 & 32 &  9 & 11 & 15 & ⋯ & 13 & 13 & 10 & 12 & 17 & 12 & 34 & 13 & 20 & 535\\\\\n",
       "\t105 & 24 & 85 &  4 &  6 & 13 & 74 &  9 & 23 &  1 &  5 & ⋯ &  4 & 14 &  5 &  5 &  4 &  3 &  3 &  6 & 45 & 526\\\\\n",
       "\t107 & 10 & 11 & 18 &  9 & 11 & 14 & 13 & 11 &  7 & 16 & ⋯ & 10 & 19 &  8 & 29 & 13 & 14 & 10 & 16 & 41 & 525\\\\\n",
       "\t110 & 16 &  7 & 13 &  7 & 15 & 20 & 15 & 15 &  6 & 32 & ⋯ & 17 & 53 & 16 & 17 & 17 & 10 & 12 & 15 &  8 & 523\\\\\n",
       "\t112 & 25 & 15 &  0 & 22 & 12 &  7 &  3 & 59 &  1 &  9 & ⋯ & 30 &  6 &  3 & 24 & 20 &  4 & 13 &  1 & 62 & 522\\\\\n",
       "\t113 & 20 &  7 &  7 &  6 & 13 &  8 &  9 &  6 & 24 & 12 & ⋯ &  9 & 16 & 12 &  3 & 33 &  0 &  6 &  6 & 68 & 521\\\\\n",
       "\t115 &  9 &  7 &  1 & 10 &  9 & 20 & 11 & 14 & 10 & 18 & ⋯ &  7 & 13 &  7 &  7 &  7 &  0 & 27 & 10 & 69 & 520\\\\\n",
       "\t117 & 15 & 15 &  0 &  1 & 17 & 19 & 40 & 17 &  7 & 34 & ⋯ &  8 & 41 &  4 &  2 &  5 &  9 & 16 &  9 & 23 & 517\\\\\n",
       "\t119 & 33 &  3 &  0 &  0 & 15 & 11 & 13 & 35 &  3 & 39 & ⋯ & 13 & 64 & 16 & 16 &  0 &  2 &  4 &  3 &  2 & 515\\\\\n",
       "\t122 & 22 & 14 &  0 &  0 & 13 &  1 & 15 & 32 & 13 & 23 & ⋯ & 18 & 12 & 22 &  0 &  5 & 11 & 14 &  0 &  5 & 512\\\\\n",
       "\t125 & 10 & 14 & 13 &  9 & 23 & 27 & 26 & 12 & 13 & 20 & ⋯ & 10 & 16 &  9 & 11 & 17 & 15 & 25 & 13 & 26 & 507\\\\\n",
       "\t127 & 12 & 11 &  7 &  4 & 16 & 17 & 15 &  9 & 15 & 28 & ⋯ & 11 & 26 & 11 & 12 & 13 &  7 & 17 & 12 & 31 & 507\\\\\n",
       "\t138 & 11 &  4 &  2 & 12 & 11 &  9 &  5 & 15 &  5 & 10 & ⋯ &  9 &  3 & 12 &  7 &  4 &  7 &  4 &  6 & 76 & 490\\\\\n",
       "\t139 & 15 &  7 &  1 &  0 & 16 & 13 & 20 & 24 & 10 & 31 & ⋯ & 12 & 58 & 13 & 17 &  8 &  4 & 18 & 10 &  5 & 488\\\\\n",
       "\t140 &  6 & 13 &  4 &  0 &  3 & 90 & 19 &  1 &  2 &  9 & ⋯ &  2 &  1 &  3 &  0 &  4 &  1 & 17 &  5 & 58 & 485\\\\\n",
       "\t143 & 17 &  2 &  1 &  1 & 13 & 25 & 18 & 31 &  5 & 16 & ⋯ &  6 &  8 &  5 &  2 & 14 &  8 &  7 &  6 & 89 & 483\\\\\n",
       "\t147 & 16 &  4 &  2 &  4 &  2 & 23 &  3 &  7 &  5 & 21 & ⋯ &  7 & 17 &  7 &  4 &  8 &  4 &  9 & 15 & 73 & 480\\\\\n",
       "\t⋮ & ⋮ & ⋮ & ⋮ & ⋮ & ⋮ & ⋮ & ⋮ & ⋮ & ⋮ & ⋮ & ⋱ & ⋮ & ⋮ & ⋮ & ⋮ & ⋮ & ⋮ & ⋮ & ⋮ & ⋮ & ⋮\\\\\n",
       "\t19844 & 0 & 0 & 1 & 1 & 0 &  7 &  2 &  0 & 0 & 0 & ⋯ & 0 & 0 & 0 & 0 & 0 & 0 &  1 & 0 &  0 & 38\\\\\n",
       "\t19848 & 0 & 0 & 0 & 1 & 1 &  0 &  1 &  0 & 0 & 0 & ⋯ & 0 & 0 & 0 & 0 & 5 & 0 &  0 & 0 &  0 & 38\\\\\n",
       "\t19854 & 0 & 0 & 0 & 0 & 2 &  3 &  3 &  0 & 3 & 0 & ⋯ & 0 & 0 & 0 & 0 & 1 & 0 &  3 & 0 &  2 & 38\\\\\n",
       "\t19867 & 0 & 0 & 0 & 0 & 1 &  2 &  1 &  0 & 0 & 0 & ⋯ & 0 & 0 & 0 & 1 & 0 & 0 &  3 & 1 &  2 & 38\\\\\n",
       "\t19872 & 0 & 0 & 0 & 0 & 0 &  1 &  0 & 29 & 0 & 0 & ⋯ & 0 & 0 & 2 & 0 & 0 & 0 &  0 & 1 &  0 & 38\\\\\n",
       "\t19975 & 0 & 0 & 1 & 0 & 1 &  1 &  1 &  0 & 1 & 0 & ⋯ & 0 & 0 & 0 & 0 & 1 & 0 &  1 & 0 &  1 & 37\\\\\n",
       "\t19976 & 0 & 0 & 2 & 0 & 0 &  0 &  0 &  0 & 0 & 0 & ⋯ & 0 & 0 & 0 & 2 & 1 & 3 & 19 & 0 &  0 & 37\\\\\n",
       "\t19991 & 0 & 0 & 0 & 0 & 5 &  0 &  0 &  1 & 0 & 0 & ⋯ & 0 & 0 & 0 & 0 & 0 & 2 &  1 & 0 & 24 & 37\\\\\n",
       "\t20003 & 0 & 0 & 0 & 0 & 3 &  2 &  2 &  0 & 2 & 0 & ⋯ & 0 & 0 & 0 & 0 & 1 & 0 &  1 & 0 &  0 & 37\\\\\n",
       "\t20065 & 1 & 0 & 0 & 0 & 0 &  0 &  0 &  1 & 0 & 0 & ⋯ & 1 & 0 & 0 & 0 & 1 & 0 &  0 & 0 &  8 & 36\\\\\n",
       "\t20084 & 1 & 0 & 0 & 0 & 0 &  2 &  1 &  0 & 1 & 2 & ⋯ & 0 & 0 & 0 & 0 & 0 & 0 &  3 & 0 &  1 & 36\\\\\n",
       "\t20125 & 0 & 0 & 1 & 0 & 1 &  1 &  2 &  0 & 0 & 0 & ⋯ & 0 & 1 & 0 & 0 & 0 & 0 &  0 & 0 &  0 & 36\\\\\n",
       "\t20399 & 0 & 0 & 1 & 0 & 0 &  0 &  0 &  0 & 0 & 0 & ⋯ & 0 & 1 & 0 & 0 & 0 & 0 &  0 & 0 &  3 & 34\\\\\n",
       "\t20436 & 0 & 0 & 0 & 0 & 0 &  2 &  4 &  0 & 0 & 0 & ⋯ & 0 & 0 & 0 & 0 & 1 & 0 &  0 & 1 & 20 & 34\\\\\n",
       "\t20557 & 0 & 0 & 0 & 0 & 3 &  0 &  4 &  1 & 0 & 0 & ⋯ & 0 & 1 & 0 & 0 & 0 & 0 &  0 & 0 &  0 & 33\\\\\n",
       "\t20558 & 0 & 0 & 0 & 0 & 1 &  0 &  1 &  0 & 2 & 0 & ⋯ & 0 & 0 & 0 & 0 & 2 & 0 &  1 & 0 &  0 & 33\\\\\n",
       "\t20559 & 0 & 0 & 0 & 0 & 1 & 24 &  1 &  0 & 0 & 0 & ⋯ & 0 & 2 & 0 & 0 & 0 & 0 &  0 & 0 &  0 & 33\\\\\n",
       "\t20564 & 0 & 0 & 0 & 0 & 3 &  0 &  2 &  0 & 1 & 0 & ⋯ & 0 & 0 & 0 & 0 & 2 & 0 &  0 & 0 &  0 & 33\\\\\n",
       "\t20565 & 0 & 0 & 0 & 0 & 1 &  1 &  5 &  0 & 0 & 0 & ⋯ & 0 & 0 & 0 & 0 & 0 & 0 &  0 & 0 &  1 & 33\\\\\n",
       "\t20567 & 0 & 0 & 0 & 0 & 2 &  2 &  3 &  0 & 2 & 0 & ⋯ & 0 & 0 & 0 & 0 & 1 & 0 &  2 & 0 &  0 & 33\\\\\n",
       "\t20579 & 0 & 0 & 0 & 0 & 0 &  0 &  1 &  1 & 0 & 0 & ⋯ & 3 & 0 & 0 & 0 & 1 & 0 &  0 & 0 &  3 & 33\\\\\n",
       "\t20652 & 1 & 0 & 0 & 0 & 1 &  1 &  1 &  0 & 0 & 0 & ⋯ & 0 & 2 & 1 & 0 & 0 & 0 &  0 & 0 &  0 & 32\\\\\n",
       "\t20654 & 1 & 0 & 0 & 0 & 1 &  1 &  3 &  0 & 0 & 0 & ⋯ & 0 & 0 & 0 & 0 & 0 & 0 &  1 & 0 &  1 & 32\\\\\n",
       "\t20700 & 0 & 0 & 0 & 0 & 0 &  1 &  0 &  0 & 0 & 0 & ⋯ & 0 & 0 & 0 & 0 & 1 & 0 &  0 & 0 & 20 & 32\\\\\n",
       "\t20716 & 0 & 0 & 0 & 0 & 0 &  0 &  0 &  0 & 0 & 1 & ⋯ & 0 & 0 & 0 & 0 & 0 & 0 &  0 & 1 & 23 & 32\\\\\n",
       "\t20736 & 1 & 0 & 0 & 1 & 0 &  1 &  0 &  0 & 0 & 0 & ⋯ & 0 & 0 & 0 & 0 & 0 & 0 &  0 & 0 & 19 & 31\\\\\n",
       "\t20771 & 1 & 1 & 0 & 1 & 0 &  0 &  0 &  0 & 0 & 0 & ⋯ & 0 & 0 & 0 & 0 & 0 & 0 &  0 & 0 &  0 & 31\\\\\n",
       "\t20962 & 0 & 0 & 0 & 0 & 2 &  0 &  1 &  0 & 1 & 0 & ⋯ & 1 & 0 & 0 & 0 & 1 & 0 &  2 & 0 &  0 & 30\\\\\n",
       "\t21106 & 0 & 0 & 0 & 0 & 2 &  1 &  1 &  0 & 1 & 0 & ⋯ & 0 & 0 & 0 & 0 & 0 & 0 &  1 & 0 &  0 & 29\\\\\n",
       "\t21232 & 0 & 1 & 1 & 1 & 0 &  0 & 19 &  0 & 0 & 0 & ⋯ & 1 & 0 & 0 & 0 & 0 & 0 &  0 & 0 &  1 & 28\\\\\n",
       "\\end{tabular}\n"
      ],
      "text/markdown": [
       "\n",
       "A data.frame: 2326 × 33\n",
       "\n",
       "| <!--/--> | ASEM_AUS1_V1.0.aa &lt;int&gt; | ASM160227v1.aa &lt;int&gt; | ASM1927943v1.aa &lt;int&gt; | ASM1935983v1.aa &lt;int&gt; | ASM711570v1.aa &lt;int&gt; | Aet_v5.0.aa &lt;int&gt; | Alomy_genome_v1.aa &lt;int&gt; | Av.Kellogg1287_8.REFERENCE.PanAnd.1.0.aa &lt;int&gt; | Brachypodium_distachyon_v3.0.aa &lt;int&gt; | DiExil.aa &lt;int&gt; | ⋯ ⋯ | Rt.Layton_Zhong169.DRAFT.PanAnd.1.0.aa &lt;int&gt; | Salk_teff_dabbi_3.0.aa &lt;int&gt; | Setaria_italica_v2.0.aa &lt;int&gt; | Sorghum_bicolor_NCBIv3.aa &lt;int&gt; | TSU_Scap_1.aa &lt;int&gt; | Zm.B73.REFERENCE.NAM.5.0.aa &lt;int&gt; | lpBroSter1.1.aa &lt;int&gt; | lpPhrAust1.1.aa &lt;int&gt; | mabamboo_1.0.aa &lt;int&gt; | Total &lt;int&gt; |\n",
       "|---|---|---|---|---|---|---|---|---|---|---|---|---|---|---|---|---|---|---|---|---|---|\n",
       "| 34 | 40 |  7 |  4 | 10 | 48 | 43 | 79 | 25 | 12 | 60 | ⋯ | 26 | 34 | 22 | 16 | 10 | 17 | 59 |  4 | 35 | 868 |\n",
       "| 54 | 12 |  5 |  6 |  9 | 28 | 35 | 28 | 26 | 11 | 23 | ⋯ | 24 | 14 | 15 | 24 | 18 | 22 | 40 | 16 | 58 | 744 |\n",
       "| 60 | 25 | 14 | 20 |  6 | 11 | 19 | 10 | 24 | 10 | 46 | ⋯ | 20 | 24 | 21 | 18 |  6 | 21 | 14 |  9 | 55 | 715 |\n",
       "| 63 | 14 | 11 | 11 |  9 | 28 | 36 | 36 | 17 | 14 | 28 | ⋯ | 14 | 28 | 15 | 15 | 19 | 17 | 43 | 17 | 44 | 690 |\n",
       "| 68 | 34 |  5 |  0 | 13 |  2 |  5 |  2 | 43 | 14 | 46 | ⋯ | 20 | 22 | 22 | 20 |  1 |  4 |  3 | 19 | 48 | 654 |\n",
       "| 71 | 16 |  7 |  4 |  5 | 13 | 18 | 21 | 15 | 12 | 18 | ⋯ | 10 | 17 | 12 |  9 |  6 | 14 | 14 | 12 | 84 | 631 |\n",
       "| 74 | 16 | 14 | 15 | 12 | 12 | 21 | 25 | 10 |  4 | 20 | ⋯ | 12 | 27 | 11 | 17 |  8 |  9 | 16 | 19 | 56 | 620 |\n",
       "| 79 | 27 |  6 |  3 |  0 | 16 | 18 | 25 | 40 | 13 | 57 | ⋯ | 21 | 13 | 17 |  9 |  8 |  5 | 14 |  6 | 24 | 594 |\n",
       "| 85 | 22 |  9 | 11 |  1 | 18 | 20 | 19 | 15 |  7 | 46 | ⋯ | 11 | 17 | 14 | 20 |  5 | 14 | 15 |  9 | 25 | 564 |\n",
       "| 91 | 12 |  3 |  0 |  2 |  8 | 17 | 15 | 28 |  8 | 10 | ⋯ |  7 |  9 |  5 |  5 | 11 |  0 |  6 | 25 | 81 | 551 |\n",
       "| 94 | 16 |  2 |  2 |  0 |  9 | 29 | 16 | 19 |  8 | 21 | ⋯ | 13 | 12 | 21 |  7 | 19 |  4 | 21 |  7 | 44 | 540 |\n",
       "| 95 | 22 |  5 |  2 | 17 | 12 | 23 |  9 | 20 |  3 | 25 | ⋯ | 11 | 15 | 21 |  7 |  9 |  0 | 13 |  4 | 54 | 540 |\n",
       "| 96 | 10 |  7 |  3 |  8 | 20 | 19 | 12 | 21 |  4 | 15 | ⋯ | 18 | 12 | 17 | 12 |  4 |  8 |  9 |  9 | 67 | 540 |\n",
       "| 99 | 10 | 11 | 10 |  6 | 21 | 34 | 32 |  9 | 11 | 15 | ⋯ | 13 | 13 | 10 | 12 | 17 | 12 | 34 | 13 | 20 | 535 |\n",
       "| 105 | 24 | 85 |  4 |  6 | 13 | 74 |  9 | 23 |  1 |  5 | ⋯ |  4 | 14 |  5 |  5 |  4 |  3 |  3 |  6 | 45 | 526 |\n",
       "| 107 | 10 | 11 | 18 |  9 | 11 | 14 | 13 | 11 |  7 | 16 | ⋯ | 10 | 19 |  8 | 29 | 13 | 14 | 10 | 16 | 41 | 525 |\n",
       "| 110 | 16 |  7 | 13 |  7 | 15 | 20 | 15 | 15 |  6 | 32 | ⋯ | 17 | 53 | 16 | 17 | 17 | 10 | 12 | 15 |  8 | 523 |\n",
       "| 112 | 25 | 15 |  0 | 22 | 12 |  7 |  3 | 59 |  1 |  9 | ⋯ | 30 |  6 |  3 | 24 | 20 |  4 | 13 |  1 | 62 | 522 |\n",
       "| 113 | 20 |  7 |  7 |  6 | 13 |  8 |  9 |  6 | 24 | 12 | ⋯ |  9 | 16 | 12 |  3 | 33 |  0 |  6 |  6 | 68 | 521 |\n",
       "| 115 |  9 |  7 |  1 | 10 |  9 | 20 | 11 | 14 | 10 | 18 | ⋯ |  7 | 13 |  7 |  7 |  7 |  0 | 27 | 10 | 69 | 520 |\n",
       "| 117 | 15 | 15 |  0 |  1 | 17 | 19 | 40 | 17 |  7 | 34 | ⋯ |  8 | 41 |  4 |  2 |  5 |  9 | 16 |  9 | 23 | 517 |\n",
       "| 119 | 33 |  3 |  0 |  0 | 15 | 11 | 13 | 35 |  3 | 39 | ⋯ | 13 | 64 | 16 | 16 |  0 |  2 |  4 |  3 |  2 | 515 |\n",
       "| 122 | 22 | 14 |  0 |  0 | 13 |  1 | 15 | 32 | 13 | 23 | ⋯ | 18 | 12 | 22 |  0 |  5 | 11 | 14 |  0 |  5 | 512 |\n",
       "| 125 | 10 | 14 | 13 |  9 | 23 | 27 | 26 | 12 | 13 | 20 | ⋯ | 10 | 16 |  9 | 11 | 17 | 15 | 25 | 13 | 26 | 507 |\n",
       "| 127 | 12 | 11 |  7 |  4 | 16 | 17 | 15 |  9 | 15 | 28 | ⋯ | 11 | 26 | 11 | 12 | 13 |  7 | 17 | 12 | 31 | 507 |\n",
       "| 138 | 11 |  4 |  2 | 12 | 11 |  9 |  5 | 15 |  5 | 10 | ⋯ |  9 |  3 | 12 |  7 |  4 |  7 |  4 |  6 | 76 | 490 |\n",
       "| 139 | 15 |  7 |  1 |  0 | 16 | 13 | 20 | 24 | 10 | 31 | ⋯ | 12 | 58 | 13 | 17 |  8 |  4 | 18 | 10 |  5 | 488 |\n",
       "| 140 |  6 | 13 |  4 |  0 |  3 | 90 | 19 |  1 |  2 |  9 | ⋯ |  2 |  1 |  3 |  0 |  4 |  1 | 17 |  5 | 58 | 485 |\n",
       "| 143 | 17 |  2 |  1 |  1 | 13 | 25 | 18 | 31 |  5 | 16 | ⋯ |  6 |  8 |  5 |  2 | 14 |  8 |  7 |  6 | 89 | 483 |\n",
       "| 147 | 16 |  4 |  2 |  4 |  2 | 23 |  3 |  7 |  5 | 21 | ⋯ |  7 | 17 |  7 |  4 |  8 |  4 |  9 | 15 | 73 | 480 |\n",
       "| ⋮ | ⋮ | ⋮ | ⋮ | ⋮ | ⋮ | ⋮ | ⋮ | ⋮ | ⋮ | ⋮ | ⋱ | ⋮ | ⋮ | ⋮ | ⋮ | ⋮ | ⋮ | ⋮ | ⋮ | ⋮ | ⋮ |\n",
       "| 19844 | 0 | 0 | 1 | 1 | 0 |  7 |  2 |  0 | 0 | 0 | ⋯ | 0 | 0 | 0 | 0 | 0 | 0 |  1 | 0 |  0 | 38 |\n",
       "| 19848 | 0 | 0 | 0 | 1 | 1 |  0 |  1 |  0 | 0 | 0 | ⋯ | 0 | 0 | 0 | 0 | 5 | 0 |  0 | 0 |  0 | 38 |\n",
       "| 19854 | 0 | 0 | 0 | 0 | 2 |  3 |  3 |  0 | 3 | 0 | ⋯ | 0 | 0 | 0 | 0 | 1 | 0 |  3 | 0 |  2 | 38 |\n",
       "| 19867 | 0 | 0 | 0 | 0 | 1 |  2 |  1 |  0 | 0 | 0 | ⋯ | 0 | 0 | 0 | 1 | 0 | 0 |  3 | 1 |  2 | 38 |\n",
       "| 19872 | 0 | 0 | 0 | 0 | 0 |  1 |  0 | 29 | 0 | 0 | ⋯ | 0 | 0 | 2 | 0 | 0 | 0 |  0 | 1 |  0 | 38 |\n",
       "| 19975 | 0 | 0 | 1 | 0 | 1 |  1 |  1 |  0 | 1 | 0 | ⋯ | 0 | 0 | 0 | 0 | 1 | 0 |  1 | 0 |  1 | 37 |\n",
       "| 19976 | 0 | 0 | 2 | 0 | 0 |  0 |  0 |  0 | 0 | 0 | ⋯ | 0 | 0 | 0 | 2 | 1 | 3 | 19 | 0 |  0 | 37 |\n",
       "| 19991 | 0 | 0 | 0 | 0 | 5 |  0 |  0 |  1 | 0 | 0 | ⋯ | 0 | 0 | 0 | 0 | 0 | 2 |  1 | 0 | 24 | 37 |\n",
       "| 20003 | 0 | 0 | 0 | 0 | 3 |  2 |  2 |  0 | 2 | 0 | ⋯ | 0 | 0 | 0 | 0 | 1 | 0 |  1 | 0 |  0 | 37 |\n",
       "| 20065 | 1 | 0 | 0 | 0 | 0 |  0 |  0 |  1 | 0 | 0 | ⋯ | 1 | 0 | 0 | 0 | 1 | 0 |  0 | 0 |  8 | 36 |\n",
       "| 20084 | 1 | 0 | 0 | 0 | 0 |  2 |  1 |  0 | 1 | 2 | ⋯ | 0 | 0 | 0 | 0 | 0 | 0 |  3 | 0 |  1 | 36 |\n",
       "| 20125 | 0 | 0 | 1 | 0 | 1 |  1 |  2 |  0 | 0 | 0 | ⋯ | 0 | 1 | 0 | 0 | 0 | 0 |  0 | 0 |  0 | 36 |\n",
       "| 20399 | 0 | 0 | 1 | 0 | 0 |  0 |  0 |  0 | 0 | 0 | ⋯ | 0 | 1 | 0 | 0 | 0 | 0 |  0 | 0 |  3 | 34 |\n",
       "| 20436 | 0 | 0 | 0 | 0 | 0 |  2 |  4 |  0 | 0 | 0 | ⋯ | 0 | 0 | 0 | 0 | 1 | 0 |  0 | 1 | 20 | 34 |\n",
       "| 20557 | 0 | 0 | 0 | 0 | 3 |  0 |  4 |  1 | 0 | 0 | ⋯ | 0 | 1 | 0 | 0 | 0 | 0 |  0 | 0 |  0 | 33 |\n",
       "| 20558 | 0 | 0 | 0 | 0 | 1 |  0 |  1 |  0 | 2 | 0 | ⋯ | 0 | 0 | 0 | 0 | 2 | 0 |  1 | 0 |  0 | 33 |\n",
       "| 20559 | 0 | 0 | 0 | 0 | 1 | 24 |  1 |  0 | 0 | 0 | ⋯ | 0 | 2 | 0 | 0 | 0 | 0 |  0 | 0 |  0 | 33 |\n",
       "| 20564 | 0 | 0 | 0 | 0 | 3 |  0 |  2 |  0 | 1 | 0 | ⋯ | 0 | 0 | 0 | 0 | 2 | 0 |  0 | 0 |  0 | 33 |\n",
       "| 20565 | 0 | 0 | 0 | 0 | 1 |  1 |  5 |  0 | 0 | 0 | ⋯ | 0 | 0 | 0 | 0 | 0 | 0 |  0 | 0 |  1 | 33 |\n",
       "| 20567 | 0 | 0 | 0 | 0 | 2 |  2 |  3 |  0 | 2 | 0 | ⋯ | 0 | 0 | 0 | 0 | 1 | 0 |  2 | 0 |  0 | 33 |\n",
       "| 20579 | 0 | 0 | 0 | 0 | 0 |  0 |  1 |  1 | 0 | 0 | ⋯ | 3 | 0 | 0 | 0 | 1 | 0 |  0 | 0 |  3 | 33 |\n",
       "| 20652 | 1 | 0 | 0 | 0 | 1 |  1 |  1 |  0 | 0 | 0 | ⋯ | 0 | 2 | 1 | 0 | 0 | 0 |  0 | 0 |  0 | 32 |\n",
       "| 20654 | 1 | 0 | 0 | 0 | 1 |  1 |  3 |  0 | 0 | 0 | ⋯ | 0 | 0 | 0 | 0 | 0 | 0 |  1 | 0 |  1 | 32 |\n",
       "| 20700 | 0 | 0 | 0 | 0 | 0 |  1 |  0 |  0 | 0 | 0 | ⋯ | 0 | 0 | 0 | 0 | 1 | 0 |  0 | 0 | 20 | 32 |\n",
       "| 20716 | 0 | 0 | 0 | 0 | 0 |  0 |  0 |  0 | 0 | 1 | ⋯ | 0 | 0 | 0 | 0 | 0 | 0 |  0 | 1 | 23 | 32 |\n",
       "| 20736 | 1 | 0 | 0 | 1 | 0 |  1 |  0 |  0 | 0 | 0 | ⋯ | 0 | 0 | 0 | 0 | 0 | 0 |  0 | 0 | 19 | 31 |\n",
       "| 20771 | 1 | 1 | 0 | 1 | 0 |  0 |  0 |  0 | 0 | 0 | ⋯ | 0 | 0 | 0 | 0 | 0 | 0 |  0 | 0 |  0 | 31 |\n",
       "| 20962 | 0 | 0 | 0 | 0 | 2 |  0 |  1 |  0 | 1 | 0 | ⋯ | 1 | 0 | 0 | 0 | 1 | 0 |  2 | 0 |  0 | 30 |\n",
       "| 21106 | 0 | 0 | 0 | 0 | 2 |  1 |  1 |  0 | 1 | 0 | ⋯ | 0 | 0 | 0 | 0 | 0 | 0 |  1 | 0 |  0 | 29 |\n",
       "| 21232 | 0 | 1 | 1 | 1 | 0 |  0 | 19 |  0 | 0 | 0 | ⋯ | 1 | 0 | 0 | 0 | 0 | 0 |  0 | 0 |  1 | 28 |\n",
       "\n"
      ],
      "text/plain": [
       "      ASEM_AUS1_V1.0.aa ASM160227v1.aa ASM1927943v1.aa ASM1935983v1.aa\n",
       "34    40                 7              4              10             \n",
       "54    12                 5              6               9             \n",
       "60    25                14             20               6             \n",
       "63    14                11             11               9             \n",
       "68    34                 5              0              13             \n",
       "71    16                 7              4               5             \n",
       "74    16                14             15              12             \n",
       "79    27                 6              3               0             \n",
       "85    22                 9             11               1             \n",
       "91    12                 3              0               2             \n",
       "94    16                 2              2               0             \n",
       "95    22                 5              2              17             \n",
       "96    10                 7              3               8             \n",
       "99    10                11             10               6             \n",
       "105   24                85              4               6             \n",
       "107   10                11             18               9             \n",
       "110   16                 7             13               7             \n",
       "112   25                15              0              22             \n",
       "113   20                 7              7               6             \n",
       "115    9                 7              1              10             \n",
       "117   15                15              0               1             \n",
       "119   33                 3              0               0             \n",
       "122   22                14              0               0             \n",
       "125   10                14             13               9             \n",
       "127   12                11              7               4             \n",
       "138   11                 4              2              12             \n",
       "139   15                 7              1               0             \n",
       "140    6                13              4               0             \n",
       "143   17                 2              1               1             \n",
       "147   16                 4              2               4             \n",
       "⋮     ⋮                 ⋮              ⋮               ⋮              \n",
       "19844 0                 0              1               1              \n",
       "19848 0                 0              0               1              \n",
       "19854 0                 0              0               0              \n",
       "19867 0                 0              0               0              \n",
       "19872 0                 0              0               0              \n",
       "19975 0                 0              1               0              \n",
       "19976 0                 0              2               0              \n",
       "19991 0                 0              0               0              \n",
       "20003 0                 0              0               0              \n",
       "20065 1                 0              0               0              \n",
       "20084 1                 0              0               0              \n",
       "20125 0                 0              1               0              \n",
       "20399 0                 0              1               0              \n",
       "20436 0                 0              0               0              \n",
       "20557 0                 0              0               0              \n",
       "20558 0                 0              0               0              \n",
       "20559 0                 0              0               0              \n",
       "20564 0                 0              0               0              \n",
       "20565 0                 0              0               0              \n",
       "20567 0                 0              0               0              \n",
       "20579 0                 0              0               0              \n",
       "20652 1                 0              0               0              \n",
       "20654 1                 0              0               0              \n",
       "20700 0                 0              0               0              \n",
       "20716 0                 0              0               0              \n",
       "20736 1                 0              0               1              \n",
       "20771 1                 1              0               1              \n",
       "20962 0                 0              0               0              \n",
       "21106 0                 0              0               0              \n",
       "21232 0                 1              1               1              \n",
       "      ASM711570v1.aa Aet_v5.0.aa Alomy_genome_v1.aa\n",
       "34    48             43          79                \n",
       "54    28             35          28                \n",
       "60    11             19          10                \n",
       "63    28             36          36                \n",
       "68     2              5           2                \n",
       "71    13             18          21                \n",
       "74    12             21          25                \n",
       "79    16             18          25                \n",
       "85    18             20          19                \n",
       "91     8             17          15                \n",
       "94     9             29          16                \n",
       "95    12             23           9                \n",
       "96    20             19          12                \n",
       "99    21             34          32                \n",
       "105   13             74           9                \n",
       "107   11             14          13                \n",
       "110   15             20          15                \n",
       "112   12              7           3                \n",
       "113   13              8           9                \n",
       "115    9             20          11                \n",
       "117   17             19          40                \n",
       "119   15             11          13                \n",
       "122   13              1          15                \n",
       "125   23             27          26                \n",
       "127   16             17          15                \n",
       "138   11              9           5                \n",
       "139   16             13          20                \n",
       "140    3             90          19                \n",
       "143   13             25          18                \n",
       "147    2             23           3                \n",
       "⋮     ⋮              ⋮           ⋮                 \n",
       "19844 0               7           2                \n",
       "19848 1               0           1                \n",
       "19854 2               3           3                \n",
       "19867 1               2           1                \n",
       "19872 0               1           0                \n",
       "19975 1               1           1                \n",
       "19976 0               0           0                \n",
       "19991 5               0           0                \n",
       "20003 3               2           2                \n",
       "20065 0               0           0                \n",
       "20084 0               2           1                \n",
       "20125 1               1           2                \n",
       "20399 0               0           0                \n",
       "20436 0               2           4                \n",
       "20557 3               0           4                \n",
       "20558 1               0           1                \n",
       "20559 1              24           1                \n",
       "20564 3               0           2                \n",
       "20565 1               1           5                \n",
       "20567 2               2           3                \n",
       "20579 0               0           1                \n",
       "20652 1               1           1                \n",
       "20654 1               1           3                \n",
       "20700 0               1           0                \n",
       "20716 0               0           0                \n",
       "20736 0               1           0                \n",
       "20771 0               0           0                \n",
       "20962 2               0           1                \n",
       "21106 2               1           1                \n",
       "21232 0               0          19                \n",
       "      Av.Kellogg1287_8.REFERENCE.PanAnd.1.0.aa Brachypodium_distachyon_v3.0.aa\n",
       "34    25                                       12                             \n",
       "54    26                                       11                             \n",
       "60    24                                       10                             \n",
       "63    17                                       14                             \n",
       "68    43                                       14                             \n",
       "71    15                                       12                             \n",
       "74    10                                        4                             \n",
       "79    40                                       13                             \n",
       "85    15                                        7                             \n",
       "91    28                                        8                             \n",
       "94    19                                        8                             \n",
       "95    20                                        3                             \n",
       "96    21                                        4                             \n",
       "99     9                                       11                             \n",
       "105   23                                        1                             \n",
       "107   11                                        7                             \n",
       "110   15                                        6                             \n",
       "112   59                                        1                             \n",
       "113    6                                       24                             \n",
       "115   14                                       10                             \n",
       "117   17                                        7                             \n",
       "119   35                                        3                             \n",
       "122   32                                       13                             \n",
       "125   12                                       13                             \n",
       "127    9                                       15                             \n",
       "138   15                                        5                             \n",
       "139   24                                       10                             \n",
       "140    1                                        2                             \n",
       "143   31                                        5                             \n",
       "147    7                                        5                             \n",
       "⋮     ⋮                                        ⋮                              \n",
       "19844  0                                       0                              \n",
       "19848  0                                       0                              \n",
       "19854  0                                       3                              \n",
       "19867  0                                       0                              \n",
       "19872 29                                       0                              \n",
       "19975  0                                       1                              \n",
       "19976  0                                       0                              \n",
       "19991  1                                       0                              \n",
       "20003  0                                       2                              \n",
       "20065  1                                       0                              \n",
       "20084  0                                       1                              \n",
       "20125  0                                       0                              \n",
       "20399  0                                       0                              \n",
       "20436  0                                       0                              \n",
       "20557  1                                       0                              \n",
       "20558  0                                       2                              \n",
       "20559  0                                       0                              \n",
       "20564  0                                       1                              \n",
       "20565  0                                       0                              \n",
       "20567  0                                       2                              \n",
       "20579  1                                       0                              \n",
       "20652  0                                       0                              \n",
       "20654  0                                       0                              \n",
       "20700  0                                       0                              \n",
       "20716  0                                       0                              \n",
       "20736  0                                       0                              \n",
       "20771  0                                       0                              \n",
       "20962  0                                       1                              \n",
       "21106  0                                       1                              \n",
       "21232  0                                       0                              \n",
       "      DiExil.aa ⋯ Rt.Layton_Zhong169.DRAFT.PanAnd.1.0.aa Salk_teff_dabbi_3.0.aa\n",
       "34    60        ⋯ 26                                     34                    \n",
       "54    23        ⋯ 24                                     14                    \n",
       "60    46        ⋯ 20                                     24                    \n",
       "63    28        ⋯ 14                                     28                    \n",
       "68    46        ⋯ 20                                     22                    \n",
       "71    18        ⋯ 10                                     17                    \n",
       "74    20        ⋯ 12                                     27                    \n",
       "79    57        ⋯ 21                                     13                    \n",
       "85    46        ⋯ 11                                     17                    \n",
       "91    10        ⋯  7                                      9                    \n",
       "94    21        ⋯ 13                                     12                    \n",
       "95    25        ⋯ 11                                     15                    \n",
       "96    15        ⋯ 18                                     12                    \n",
       "99    15        ⋯ 13                                     13                    \n",
       "105    5        ⋯  4                                     14                    \n",
       "107   16        ⋯ 10                                     19                    \n",
       "110   32        ⋯ 17                                     53                    \n",
       "112    9        ⋯ 30                                      6                    \n",
       "113   12        ⋯  9                                     16                    \n",
       "115   18        ⋯  7                                     13                    \n",
       "117   34        ⋯  8                                     41                    \n",
       "119   39        ⋯ 13                                     64                    \n",
       "122   23        ⋯ 18                                     12                    \n",
       "125   20        ⋯ 10                                     16                    \n",
       "127   28        ⋯ 11                                     26                    \n",
       "138   10        ⋯  9                                      3                    \n",
       "139   31        ⋯ 12                                     58                    \n",
       "140    9        ⋯  2                                      1                    \n",
       "143   16        ⋯  6                                      8                    \n",
       "147   21        ⋯  7                                     17                    \n",
       "⋮     ⋮         ⋱ ⋮                                      ⋮                     \n",
       "19844 0         ⋯ 0                                      0                     \n",
       "19848 0         ⋯ 0                                      0                     \n",
       "19854 0         ⋯ 0                                      0                     \n",
       "19867 0         ⋯ 0                                      0                     \n",
       "19872 0         ⋯ 0                                      0                     \n",
       "19975 0         ⋯ 0                                      0                     \n",
       "19976 0         ⋯ 0                                      0                     \n",
       "19991 0         ⋯ 0                                      0                     \n",
       "20003 0         ⋯ 0                                      0                     \n",
       "20065 0         ⋯ 1                                      0                     \n",
       "20084 2         ⋯ 0                                      0                     \n",
       "20125 0         ⋯ 0                                      1                     \n",
       "20399 0         ⋯ 0                                      1                     \n",
       "20436 0         ⋯ 0                                      0                     \n",
       "20557 0         ⋯ 0                                      1                     \n",
       "20558 0         ⋯ 0                                      0                     \n",
       "20559 0         ⋯ 0                                      2                     \n",
       "20564 0         ⋯ 0                                      0                     \n",
       "20565 0         ⋯ 0                                      0                     \n",
       "20567 0         ⋯ 0                                      0                     \n",
       "20579 0         ⋯ 3                                      0                     \n",
       "20652 0         ⋯ 0                                      2                     \n",
       "20654 0         ⋯ 0                                      0                     \n",
       "20700 0         ⋯ 0                                      0                     \n",
       "20716 1         ⋯ 0                                      0                     \n",
       "20736 0         ⋯ 0                                      0                     \n",
       "20771 0         ⋯ 0                                      0                     \n",
       "20962 0         ⋯ 1                                      0                     \n",
       "21106 0         ⋯ 0                                      0                     \n",
       "21232 0         ⋯ 1                                      0                     \n",
       "      Setaria_italica_v2.0.aa Sorghum_bicolor_NCBIv3.aa TSU_Scap_1.aa\n",
       "34    22                      16                        10           \n",
       "54    15                      24                        18           \n",
       "60    21                      18                         6           \n",
       "63    15                      15                        19           \n",
       "68    22                      20                         1           \n",
       "71    12                       9                         6           \n",
       "74    11                      17                         8           \n",
       "79    17                       9                         8           \n",
       "85    14                      20                         5           \n",
       "91     5                       5                        11           \n",
       "94    21                       7                        19           \n",
       "95    21                       7                         9           \n",
       "96    17                      12                         4           \n",
       "99    10                      12                        17           \n",
       "105    5                       5                         4           \n",
       "107    8                      29                        13           \n",
       "110   16                      17                        17           \n",
       "112    3                      24                        20           \n",
       "113   12                       3                        33           \n",
       "115    7                       7                         7           \n",
       "117    4                       2                         5           \n",
       "119   16                      16                         0           \n",
       "122   22                       0                         5           \n",
       "125    9                      11                        17           \n",
       "127   11                      12                        13           \n",
       "138   12                       7                         4           \n",
       "139   13                      17                         8           \n",
       "140    3                       0                         4           \n",
       "143    5                       2                        14           \n",
       "147    7                       4                         8           \n",
       "⋮     ⋮                       ⋮                         ⋮            \n",
       "19844 0                       0                         0            \n",
       "19848 0                       0                         5            \n",
       "19854 0                       0                         1            \n",
       "19867 0                       1                         0            \n",
       "19872 2                       0                         0            \n",
       "19975 0                       0                         1            \n",
       "19976 0                       2                         1            \n",
       "19991 0                       0                         0            \n",
       "20003 0                       0                         1            \n",
       "20065 0                       0                         1            \n",
       "20084 0                       0                         0            \n",
       "20125 0                       0                         0            \n",
       "20399 0                       0                         0            \n",
       "20436 0                       0                         1            \n",
       "20557 0                       0                         0            \n",
       "20558 0                       0                         2            \n",
       "20559 0                       0                         0            \n",
       "20564 0                       0                         2            \n",
       "20565 0                       0                         0            \n",
       "20567 0                       0                         1            \n",
       "20579 0                       0                         1            \n",
       "20652 1                       0                         0            \n",
       "20654 0                       0                         0            \n",
       "20700 0                       0                         1            \n",
       "20716 0                       0                         0            \n",
       "20736 0                       0                         0            \n",
       "20771 0                       0                         0            \n",
       "20962 0                       0                         1            \n",
       "21106 0                       0                         0            \n",
       "21232 0                       0                         0            \n",
       "      Zm.B73.REFERENCE.NAM.5.0.aa lpBroSter1.1.aa lpPhrAust1.1.aa\n",
       "34    17                          59               4             \n",
       "54    22                          40              16             \n",
       "60    21                          14               9             \n",
       "63    17                          43              17             \n",
       "68     4                           3              19             \n",
       "71    14                          14              12             \n",
       "74     9                          16              19             \n",
       "79     5                          14               6             \n",
       "85    14                          15               9             \n",
       "91     0                           6              25             \n",
       "94     4                          21               7             \n",
       "95     0                          13               4             \n",
       "96     8                           9               9             \n",
       "99    12                          34              13             \n",
       "105    3                           3               6             \n",
       "107   14                          10              16             \n",
       "110   10                          12              15             \n",
       "112    4                          13               1             \n",
       "113    0                           6               6             \n",
       "115    0                          27              10             \n",
       "117    9                          16               9             \n",
       "119    2                           4               3             \n",
       "122   11                          14               0             \n",
       "125   15                          25              13             \n",
       "127    7                          17              12             \n",
       "138    7                           4               6             \n",
       "139    4                          18              10             \n",
       "140    1                          17               5             \n",
       "143    8                           7               6             \n",
       "147    4                           9              15             \n",
       "⋮     ⋮                           ⋮               ⋮              \n",
       "19844 0                            1              0              \n",
       "19848 0                            0              0              \n",
       "19854 0                            3              0              \n",
       "19867 0                            3              1              \n",
       "19872 0                            0              1              \n",
       "19975 0                            1              0              \n",
       "19976 3                           19              0              \n",
       "19991 2                            1              0              \n",
       "20003 0                            1              0              \n",
       "20065 0                            0              0              \n",
       "20084 0                            3              0              \n",
       "20125 0                            0              0              \n",
       "20399 0                            0              0              \n",
       "20436 0                            0              1              \n",
       "20557 0                            0              0              \n",
       "20558 0                            1              0              \n",
       "20559 0                            0              0              \n",
       "20564 0                            0              0              \n",
       "20565 0                            0              0              \n",
       "20567 0                            2              0              \n",
       "20579 0                            0              0              \n",
       "20652 0                            0              0              \n",
       "20654 0                            1              0              \n",
       "20700 0                            0              0              \n",
       "20716 0                            0              1              \n",
       "20736 0                            0              0              \n",
       "20771 0                            0              0              \n",
       "20962 0                            2              0              \n",
       "21106 0                            1              0              \n",
       "21232 0                            0              0              \n",
       "      mabamboo_1.0.aa Total\n",
       "34    35              868  \n",
       "54    58              744  \n",
       "60    55              715  \n",
       "63    44              690  \n",
       "68    48              654  \n",
       "71    84              631  \n",
       "74    56              620  \n",
       "79    24              594  \n",
       "85    25              564  \n",
       "91    81              551  \n",
       "94    44              540  \n",
       "95    54              540  \n",
       "96    67              540  \n",
       "99    20              535  \n",
       "105   45              526  \n",
       "107   41              525  \n",
       "110    8              523  \n",
       "112   62              522  \n",
       "113   68              521  \n",
       "115   69              520  \n",
       "117   23              517  \n",
       "119    2              515  \n",
       "122    5              512  \n",
       "125   26              507  \n",
       "127   31              507  \n",
       "138   76              490  \n",
       "139    5              488  \n",
       "140   58              485  \n",
       "143   89              483  \n",
       "147   73              480  \n",
       "⋮     ⋮               ⋮    \n",
       "19844  0              38   \n",
       "19848  0              38   \n",
       "19854  2              38   \n",
       "19867  2              38   \n",
       "19872  0              38   \n",
       "19975  1              37   \n",
       "19976  0              37   \n",
       "19991 24              37   \n",
       "20003  0              37   \n",
       "20065  8              36   \n",
       "20084  1              36   \n",
       "20125  0              36   \n",
       "20399  3              34   \n",
       "20436 20              34   \n",
       "20557  0              33   \n",
       "20558  0              33   \n",
       "20559  0              33   \n",
       "20564  0              33   \n",
       "20565  1              33   \n",
       "20567  0              33   \n",
       "20579  3              33   \n",
       "20652  0              32   \n",
       "20654  1              32   \n",
       "20700 20              32   \n",
       "20716 23              32   \n",
       "20736 19              31   \n",
       "20771  0              31   \n",
       "20962  0              30   \n",
       "21106  0              29   \n",
       "21232  1              28   "
      ]
     },
     "metadata": {},
     "output_type": "display_data"
    }
   ],
   "source": [
    "helixer_OG_recovered[,-1]"
   ]
  },
  {
   "cell_type": "code",
   "execution_count": 14,
   "id": "b47ea289",
   "metadata": {},
   "outputs": [
    {
     "data": {
      "text/html": [
       "<table class=\"dataframe\">\n",
       "<caption>A data.frame: 1 × 34</caption>\n",
       "<thead>\n",
       "\t<tr><th></th><th scope=col>Orthogroup</th><th scope=col>ASEM_AUS1_V1.0.aa</th><th scope=col>ASM160227v1.aa</th><th scope=col>ASM1927943v1.aa</th><th scope=col>ASM1935983v1.aa</th><th scope=col>ASM711570v1.aa</th><th scope=col>Aet_v5.0.aa</th><th scope=col>Alomy_genome_v1.aa</th><th scope=col>Av.Kellogg1287_8.REFERENCE.PanAnd.1.0.aa</th><th scope=col>Brachypodium_distachyon_v3.0.aa</th><th scope=col>⋯</th><th scope=col>Rt.Layton_Zhong169.DRAFT.PanAnd.1.0.aa</th><th scope=col>Salk_teff_dabbi_3.0.aa</th><th scope=col>Setaria_italica_v2.0.aa</th><th scope=col>Sorghum_bicolor_NCBIv3.aa</th><th scope=col>TSU_Scap_1.aa</th><th scope=col>Zm.B73.REFERENCE.NAM.5.0.aa</th><th scope=col>lpBroSter1.1.aa</th><th scope=col>lpPhrAust1.1.aa</th><th scope=col>mabamboo_1.0.aa</th><th scope=col>Total</th></tr>\n",
       "\t<tr><th></th><th scope=col>&lt;chr&gt;</th><th scope=col>&lt;int&gt;</th><th scope=col>&lt;int&gt;</th><th scope=col>&lt;int&gt;</th><th scope=col>&lt;int&gt;</th><th scope=col>&lt;int&gt;</th><th scope=col>&lt;int&gt;</th><th scope=col>&lt;int&gt;</th><th scope=col>&lt;int&gt;</th><th scope=col>&lt;int&gt;</th><th scope=col>⋯</th><th scope=col>&lt;int&gt;</th><th scope=col>&lt;int&gt;</th><th scope=col>&lt;int&gt;</th><th scope=col>&lt;int&gt;</th><th scope=col>&lt;int&gt;</th><th scope=col>&lt;int&gt;</th><th scope=col>&lt;int&gt;</th><th scope=col>&lt;int&gt;</th><th scope=col>&lt;int&gt;</th><th scope=col>&lt;int&gt;</th></tr>\n",
       "</thead>\n",
       "<tbody>\n",
       "\t<tr><th scope=row>1819</th><td>OG0001818</td><td>2</td><td>3</td><td>3</td><td>2</td><td>3</td><td>4</td><td>2</td><td>2</td><td>2</td><td>⋯</td><td>2</td><td>4</td><td>2</td><td>2</td><td>4</td><td>4</td><td>2</td><td>4</td><td>13</td><td>123</td></tr>\n",
       "</tbody>\n",
       "</table>\n"
      ],
      "text/latex": [
       "A data.frame: 1 × 34\n",
       "\\begin{tabular}{r|lllllllllllllllllllll}\n",
       "  & Orthogroup & ASEM\\_AUS1\\_V1.0.aa & ASM160227v1.aa & ASM1927943v1.aa & ASM1935983v1.aa & ASM711570v1.aa & Aet\\_v5.0.aa & Alomy\\_genome\\_v1.aa & Av.Kellogg1287\\_8.REFERENCE.PanAnd.1.0.aa & Brachypodium\\_distachyon\\_v3.0.aa & ⋯ & Rt.Layton\\_Zhong169.DRAFT.PanAnd.1.0.aa & Salk\\_teff\\_dabbi\\_3.0.aa & Setaria\\_italica\\_v2.0.aa & Sorghum\\_bicolor\\_NCBIv3.aa & TSU\\_Scap\\_1.aa & Zm.B73.REFERENCE.NAM.5.0.aa & lpBroSter1.1.aa & lpPhrAust1.1.aa & mabamboo\\_1.0.aa & Total\\\\\n",
       "  & <chr> & <int> & <int> & <int> & <int> & <int> & <int> & <int> & <int> & <int> & ⋯ & <int> & <int> & <int> & <int> & <int> & <int> & <int> & <int> & <int> & <int>\\\\\n",
       "\\hline\n",
       "\t1819 & OG0001818 & 2 & 3 & 3 & 2 & 3 & 4 & 2 & 2 & 2 & ⋯ & 2 & 4 & 2 & 2 & 4 & 4 & 2 & 4 & 13 & 123\\\\\n",
       "\\end{tabular}\n"
      ],
      "text/markdown": [
       "\n",
       "A data.frame: 1 × 34\n",
       "\n",
       "| <!--/--> | Orthogroup &lt;chr&gt; | ASEM_AUS1_V1.0.aa &lt;int&gt; | ASM160227v1.aa &lt;int&gt; | ASM1927943v1.aa &lt;int&gt; | ASM1935983v1.aa &lt;int&gt; | ASM711570v1.aa &lt;int&gt; | Aet_v5.0.aa &lt;int&gt; | Alomy_genome_v1.aa &lt;int&gt; | Av.Kellogg1287_8.REFERENCE.PanAnd.1.0.aa &lt;int&gt; | Brachypodium_distachyon_v3.0.aa &lt;int&gt; | ⋯ ⋯ | Rt.Layton_Zhong169.DRAFT.PanAnd.1.0.aa &lt;int&gt; | Salk_teff_dabbi_3.0.aa &lt;int&gt; | Setaria_italica_v2.0.aa &lt;int&gt; | Sorghum_bicolor_NCBIv3.aa &lt;int&gt; | TSU_Scap_1.aa &lt;int&gt; | Zm.B73.REFERENCE.NAM.5.0.aa &lt;int&gt; | lpBroSter1.1.aa &lt;int&gt; | lpPhrAust1.1.aa &lt;int&gt; | mabamboo_1.0.aa &lt;int&gt; | Total &lt;int&gt; |\n",
       "|---|---|---|---|---|---|---|---|---|---|---|---|---|---|---|---|---|---|---|---|---|---|\n",
       "| 1819 | OG0001818 | 2 | 3 | 3 | 2 | 3 | 4 | 2 | 2 | 2 | ⋯ | 2 | 4 | 2 | 2 | 4 | 4 | 2 | 4 | 13 | 123 |\n",
       "\n"
      ],
      "text/plain": [
       "     Orthogroup ASEM_AUS1_V1.0.aa ASM160227v1.aa ASM1927943v1.aa\n",
       "1819 OG0001818  2                 3              3              \n",
       "     ASM1935983v1.aa ASM711570v1.aa Aet_v5.0.aa Alomy_genome_v1.aa\n",
       "1819 2               3              4           2                 \n",
       "     Av.Kellogg1287_8.REFERENCE.PanAnd.1.0.aa Brachypodium_distachyon_v3.0.aa ⋯\n",
       "1819 2                                        2                               ⋯\n",
       "     Rt.Layton_Zhong169.DRAFT.PanAnd.1.0.aa Salk_teff_dabbi_3.0.aa\n",
       "1819 2                                      4                     \n",
       "     Setaria_italica_v2.0.aa Sorghum_bicolor_NCBIv3.aa TSU_Scap_1.aa\n",
       "1819 2                       2                         4            \n",
       "     Zm.B73.REFERENCE.NAM.5.0.aa lpBroSter1.1.aa lpPhrAust1.1.aa\n",
       "1819 4                           2               4              \n",
       "     mabamboo_1.0.aa Total\n",
       "1819 13              123  "
      ]
     },
     "metadata": {},
     "output_type": "display_data"
    }
   ],
   "source": [
    "helixer_OG_OGfilteredHard[helixer_OG_OGfilteredHard$Orthogroup == \"OG0001818\",]"
   ]
  },
  {
   "cell_type": "code",
   "execution_count": 49,
   "id": "1a330c67",
   "metadata": {},
   "outputs": [
    {
     "data": {
      "text/html": [
       "<style>\n",
       ".list-inline {list-style: none; margin:0; padding: 0}\n",
       ".list-inline>li {display: inline-block}\n",
       ".list-inline>li:not(:last-child)::after {content: \"\\00b7\"; padding: 0 .5ex}\n",
       "</style>\n",
       "<ol class=list-inline><li>99140</li><li>34</li></ol>\n"
      ],
      "text/latex": [
       "\\begin{enumerate*}\n",
       "\\item 99140\n",
       "\\item 34\n",
       "\\end{enumerate*}\n"
      ],
      "text/markdown": [
       "1. 99140\n",
       "2. 34\n",
       "\n",
       "\n"
      ],
      "text/plain": [
       "[1] 99140    34"
      ]
     },
     "metadata": {},
     "output_type": "display_data"
    },
    {
     "data": {
      "text/html": [
       "<style>\n",
       ".list-inline {list-style: none; margin:0; padding: 0}\n",
       ".list-inline>li {display: inline-block}\n",
       ".list-inline>li:not(:last-child)::after {content: \"\\00b7\"; padding: 0 .5ex}\n",
       "</style>\n",
       "<ol class=list-inline><li>20037</li><li>34</li></ol>\n"
      ],
      "text/latex": [
       "\\begin{enumerate*}\n",
       "\\item 20037\n",
       "\\item 34\n",
       "\\end{enumerate*}\n"
      ],
      "text/markdown": [
       "1. 20037\n",
       "2. 34\n",
       "\n",
       "\n"
      ],
      "text/plain": [
       "[1] 20037    34"
      ]
     },
     "metadata": {},
     "output_type": "display_data"
    },
    {
     "data": {
      "text/html": [
       "<style>\n",
       ".list-inline {list-style: none; margin:0; padding: 0}\n",
       ".list-inline>li {display: inline-block}\n",
       ".list-inline>li:not(:last-child)::after {content: \"\\00b7\"; padding: 0 .5ex}\n",
       "</style>\n",
       "<ol class=list-inline><li>2326</li><li>34</li></ol>\n"
      ],
      "text/latex": [
       "\\begin{enumerate*}\n",
       "\\item 2326\n",
       "\\item 34\n",
       "\\end{enumerate*}\n"
      ],
      "text/markdown": [
       "1. 2326\n",
       "2. 34\n",
       "\n",
       "\n"
      ],
      "text/plain": [
       "[1] 2326   34"
      ]
     },
     "metadata": {},
     "output_type": "display_data"
    }
   ],
   "source": [
    "dim(helixer_OG)\n",
    "# dim(helixer_OG_OGfiltered)\n",
    "dim(helixer_OG_OGfilteredHard)\n",
    "dim(helixer_OG_recovered)"
   ]
  },
  {
   "cell_type": "code",
   "execution_count": 87,
   "id": "01572417",
   "metadata": {},
   "outputs": [
    {
     "data": {
      "image/png": "[encoded data removed]",
      "text/plain": [
       "plot without title"
      ]
     },
     "metadata": {
      "image/png": {
       "height": 480,
       "width": 900
      }
     },
     "output_type": "display_data"
    }
   ],
   "source": [
    "barplot(table(apply(helixer_OG_OGfiltered[,-c(1,ncol(helixer_OG))],1,function(x) sum(x>0))))"
   ]
  },
  {
   "cell_type": "code",
   "execution_count": 90,
   "id": "7641904e",
   "metadata": {},
   "outputs": [
    {
     "data": {
      "text/plain": [
       "\n",
       "   1    2    3    4    5    6    7   10 \n",
       "7819 2147  297   67   20    8    3    1 "
      ]
     },
     "metadata": {},
     "output_type": "display_data"
    }
   ],
   "source": [
    "table(helixer_OG_OGfiltered[apply(helixer_OG_OGfiltered[,-c(1,ncol(helixer_OG))],1,function(x) sum(x>0))==32,\"Sorghum_bicolor_NCBIv3.aa\"])"
   ]
  },
  {
   "cell_type": "code",
   "execution_count": 103,
   "id": "788d0193",
   "metadata": {},
   "outputs": [
    {
     "data": {
      "text/html": [
       "<style>\n",
       ".list-inline {list-style: none; margin:0; padding: 0}\n",
       ".list-inline>li {display: inline-block}\n",
       ".list-inline>li:not(:last-child)::after {content: \"\\00b7\"; padding: 0 .5ex}\n",
       "</style>\n",
       "<ol class=list-inline><li>'Orthogroup'</li><li>'ASEM_AUS1_V1.0.aa'</li><li>'ASM160227v1.aa'</li><li>'ASM1927943v1.aa'</li><li>'ASM1935983v1.aa'</li><li>'ASM711570v1.aa'</li><li>'Aet_v5.0.aa'</li><li>'Alomy_genome_v1.aa'</li><li>'Av.Kellogg1287_8.REFERENCE.PanAnd.1.0.aa'</li><li>'Brachypodium_distachyon_v3.0.aa'</li><li>'DiExil.aa'</li><li>'Eleusine_coracana_v1.0.aa'</li><li>'Embrapa_Uruz_1.0.aa'</li><li>'IRGSP.1.0.aa'</li><li>'KIB_Aluo_1.aa'</li><li>'KIB_Gang_2.aa'</li><li>'KIB_Mbac_1.aa'</li><li>'KIB_Ogla_1.aa'</li><li>'KIB_Pedu_3.aa'</li><li>'KIB_Rgui_2.aa'</li><li>'P.vaginatum_v3.1.aa'</li><li>'P.virgatum_v5.aa'</li><li>'Pp.Kellogg1297.DRAFT.PanAnd.1.0.aa'</li><li>'Puccinellia_tenuiflora_refer_1.0.aa'</li><li>'Rt.Layton_Zhong169.DRAFT.PanAnd.1.0.aa'</li><li>'Salk_teff_dabbi_3.0.aa'</li><li>'Setaria_italica_v2.0.aa'</li><li>'Sorghum_bicolor_NCBIv3.aa'</li><li>'TSU_Scap_1.aa'</li><li>'Zm.B73.REFERENCE.NAM.5.0.aa'</li><li>'lpBroSter1.1.aa'</li><li>'lpPhrAust1.1.aa'</li><li>'mabamboo_1.0.aa'</li><li>'Total'</li></ol>\n"
      ],
      "text/latex": [
       "\\begin{enumerate*}\n",
       "\\item 'Orthogroup'\n",
       "\\item 'ASEM\\_AUS1\\_V1.0.aa'\n",
       "\\item 'ASM160227v1.aa'\n",
       "\\item 'ASM1927943v1.aa'\n",
       "\\item 'ASM1935983v1.aa'\n",
       "\\item 'ASM711570v1.aa'\n",
       "\\item 'Aet\\_v5.0.aa'\n",
       "\\item 'Alomy\\_genome\\_v1.aa'\n",
       "\\item 'Av.Kellogg1287\\_8.REFERENCE.PanAnd.1.0.aa'\n",
       "\\item 'Brachypodium\\_distachyon\\_v3.0.aa'\n",
       "\\item 'DiExil.aa'\n",
       "\\item 'Eleusine\\_coracana\\_v1.0.aa'\n",
       "\\item 'Embrapa\\_Uruz\\_1.0.aa'\n",
       "\\item 'IRGSP.1.0.aa'\n",
       "\\item 'KIB\\_Aluo\\_1.aa'\n",
       "\\item 'KIB\\_Gang\\_2.aa'\n",
       "\\item 'KIB\\_Mbac\\_1.aa'\n",
       "\\item 'KIB\\_Ogla\\_1.aa'\n",
       "\\item 'KIB\\_Pedu\\_3.aa'\n",
       "\\item 'KIB\\_Rgui\\_2.aa'\n",
       "\\item 'P.vaginatum\\_v3.1.aa'\n",
       "\\item 'P.virgatum\\_v5.aa'\n",
       "\\item 'Pp.Kellogg1297.DRAFT.PanAnd.1.0.aa'\n",
       "\\item 'Puccinellia\\_tenuiflora\\_refer\\_1.0.aa'\n",
       "\\item 'Rt.Layton\\_Zhong169.DRAFT.PanAnd.1.0.aa'\n",
       "\\item 'Salk\\_teff\\_dabbi\\_3.0.aa'\n",
       "\\item 'Setaria\\_italica\\_v2.0.aa'\n",
       "\\item 'Sorghum\\_bicolor\\_NCBIv3.aa'\n",
       "\\item 'TSU\\_Scap\\_1.aa'\n",
       "\\item 'Zm.B73.REFERENCE.NAM.5.0.aa'\n",
       "\\item 'lpBroSter1.1.aa'\n",
       "\\item 'lpPhrAust1.1.aa'\n",
       "\\item 'mabamboo\\_1.0.aa'\n",
       "\\item 'Total'\n",
       "\\end{enumerate*}\n"
      ],
      "text/markdown": [
       "1. 'Orthogroup'\n",
       "2. 'ASEM_AUS1_V1.0.aa'\n",
       "3. 'ASM160227v1.aa'\n",
       "4. 'ASM1927943v1.aa'\n",
       "5. 'ASM1935983v1.aa'\n",
       "6. 'ASM711570v1.aa'\n",
       "7. 'Aet_v5.0.aa'\n",
       "8. 'Alomy_genome_v1.aa'\n",
       "9. 'Av.Kellogg1287_8.REFERENCE.PanAnd.1.0.aa'\n",
       "10. 'Brachypodium_distachyon_v3.0.aa'\n",
       "11. 'DiExil.aa'\n",
       "12. 'Eleusine_coracana_v1.0.aa'\n",
       "13. 'Embrapa_Uruz_1.0.aa'\n",
       "14. 'IRGSP.1.0.aa'\n",
       "15. 'KIB_Aluo_1.aa'\n",
       "16. 'KIB_Gang_2.aa'\n",
       "17. 'KIB_Mbac_1.aa'\n",
       "18. 'KIB_Ogla_1.aa'\n",
       "19. 'KIB_Pedu_3.aa'\n",
       "20. 'KIB_Rgui_2.aa'\n",
       "21. 'P.vaginatum_v3.1.aa'\n",
       "22. 'P.virgatum_v5.aa'\n",
       "23. 'Pp.Kellogg1297.DRAFT.PanAnd.1.0.aa'\n",
       "24. 'Puccinellia_tenuiflora_refer_1.0.aa'\n",
       "25. 'Rt.Layton_Zhong169.DRAFT.PanAnd.1.0.aa'\n",
       "26. 'Salk_teff_dabbi_3.0.aa'\n",
       "27. 'Setaria_italica_v2.0.aa'\n",
       "28. 'Sorghum_bicolor_NCBIv3.aa'\n",
       "29. 'TSU_Scap_1.aa'\n",
       "30. 'Zm.B73.REFERENCE.NAM.5.0.aa'\n",
       "31. 'lpBroSter1.1.aa'\n",
       "32. 'lpPhrAust1.1.aa'\n",
       "33. 'mabamboo_1.0.aa'\n",
       "34. 'Total'\n",
       "\n",
       "\n"
      ],
      "text/plain": [
       " [1] \"Orthogroup\"                              \n",
       " [2] \"ASEM_AUS1_V1.0.aa\"                       \n",
       " [3] \"ASM160227v1.aa\"                          \n",
       " [4] \"ASM1927943v1.aa\"                         \n",
       " [5] \"ASM1935983v1.aa\"                         \n",
       " [6] \"ASM711570v1.aa\"                          \n",
       " [7] \"Aet_v5.0.aa\"                             \n",
       " [8] \"Alomy_genome_v1.aa\"                      \n",
       " [9] \"Av.Kellogg1287_8.REFERENCE.PanAnd.1.0.aa\"\n",
       "[10] \"Brachypodium_distachyon_v3.0.aa\"         \n",
       "[11] \"DiExil.aa\"                               \n",
       "[12] \"Eleusine_coracana_v1.0.aa\"               \n",
       "[13] \"Embrapa_Uruz_1.0.aa\"                     \n",
       "[14] \"IRGSP.1.0.aa\"                            \n",
       "[15] \"KIB_Aluo_1.aa\"                           \n",
       "[16] \"KIB_Gang_2.aa\"                           \n",
       "[17] \"KIB_Mbac_1.aa\"                           \n",
       "[18] \"KIB_Ogla_1.aa\"                           \n",
       "[19] \"KIB_Pedu_3.aa\"                           \n",
       "[20] \"KIB_Rgui_2.aa\"                           \n",
       "[21] \"P.vaginatum_v3.1.aa\"                     \n",
       "[22] \"P.virgatum_v5.aa\"                        \n",
       "[23] \"Pp.Kellogg1297.DRAFT.PanAnd.1.0.aa\"      \n",
       "[24] \"Puccinellia_tenuiflora_refer_1.0.aa\"     \n",
       "[25] \"Rt.Layton_Zhong169.DRAFT.PanAnd.1.0.aa\"  \n",
       "[26] \"Salk_teff_dabbi_3.0.aa\"                  \n",
       "[27] \"Setaria_italica_v2.0.aa\"                 \n",
       "[28] \"Sorghum_bicolor_NCBIv3.aa\"               \n",
       "[29] \"TSU_Scap_1.aa\"                           \n",
       "[30] \"Zm.B73.REFERENCE.NAM.5.0.aa\"             \n",
       "[31] \"lpBroSter1.1.aa\"                         \n",
       "[32] \"lpPhrAust1.1.aa\"                         \n",
       "[33] \"mabamboo_1.0.aa\"                         \n",
       "[34] \"Total\"                                   "
      ]
     },
     "metadata": {},
     "output_type": "display_data"
    }
   ],
   "source": [
    "colnames(helixer_OG_OGfilteredHard)"
   ]
  },
  {
   "cell_type": "code",
   "execution_count": 115,
   "id": "e69bdcfa",
   "metadata": {},
   "outputs": [
    {
     "data": {
      "image/png": "[encoded data removed]",
      "text/plain": [
       "plot without title"
      ]
     },
     "metadata": {
      "image/png": {
       "height": 480,
       "width": 900
      }
     },
     "output_type": "display_data"
    }
   ],
   "source": [
    "par(mar=c(20,5,1,1))\n",
    "barplot(sort(colSums(helixer_OG_OGfilteredHard!=0)),las =2)"
   ]
  },
  {
   "cell_type": "code",
   "execution_count": 106,
   "id": "ccfaae2d",
   "metadata": {},
   "outputs": [
    {
     "data": {
      "text/html": [
       "15995"
      ],
      "text/latex": [
       "15995"
      ],
      "text/markdown": [
       "15995"
      ],
      "text/plain": [
       "[1] 15995"
      ]
     },
     "metadata": {},
     "output_type": "display_data"
    },
    {
     "data": {
      "text/html": [
       "17042"
      ],
      "text/latex": [
       "17042"
      ],
      "text/markdown": [
       "17042"
      ],
      "text/plain": [
       "[1] 17042"
      ]
     },
     "metadata": {},
     "output_type": "display_data"
    },
    {
     "data": {
      "text/html": [
       "17683"
      ],
      "text/latex": [
       "17683"
      ],
      "text/markdown": [
       "17683"
      ],
      "text/plain": [
       "[1] 17683"
      ]
     },
     "metadata": {},
     "output_type": "display_data"
    },
    {
     "data": {
      "text/html": [
       "20037"
      ],
      "text/latex": [
       "20037"
      ],
      "text/markdown": [
       "20037"
      ],
      "text/plain": [
       "[1] 20037"
      ]
     },
     "metadata": {},
     "output_type": "display_data"
    },
    {
     "data": {
      "text/html": [
       "0.798273194590008"
      ],
      "text/latex": [
       "0.798273194590008"
      ],
      "text/markdown": [
       "0.798273194590008"
      ],
      "text/plain": [
       "[1] 0.7982732"
      ]
     },
     "metadata": {},
     "output_type": "display_data"
    }
   ],
   "source": [
    "sum(helixer_OG_OGfilteredHard[,\"ASM1935983v1.aa\"]!=0)\n",
    "sum(helixer_OG_OGfilteredHard[,\"IRGSP.1.0.aa\"]!=0)\n",
    "sum(helixer_OG_OGfilteredHard[,\"IRGSP.1.0.aa\"]!=0|helixer_OG_OGfilteredHard[,\"ASM1935983v1.aa\"]!=0)\n",
    "nrow(helixer_OG_OGfilteredHard)\n",
    "sum(helixer_OG_OGfilteredHard[,\"ASM1935983v1.aa\"]!=0)/nrow(helixer_OG_OGfilteredHard)"
   ]
  },
  {
   "cell_type": "code",
   "execution_count": 91,
   "id": "e8836a4c",
   "metadata": {},
   "outputs": [],
   "source": [
    "write.table(helixer_OG_OGfiltered$Orthogroup,\"/workdir/sh2246/p_phyloGWAS/output/poaceaeHelixerOG_filtered.txt\",quote = F,col.names = F,row.names = F)"
   ]
  },
  {
   "cell_type": "code",
   "execution_count": 96,
   "id": "b0ce69e5",
   "metadata": {},
   "outputs": [],
   "source": [
    "write.table(helixer_OG_OGfilteredHard$Orthogroup,\"/workdir/sh2246/p_phyloGWAS/output/poaceaeHelixerOG_filtered_v2.txt\",quote = F,col.names = F,row.names = F)"
   ]
  },
  {
   "cell_type": "code",
   "execution_count": 50,
   "id": "3fe7a1ef",
   "metadata": {},
   "outputs": [],
   "source": [
    "write.table(helixer_OG_recovered$Orthogroup,\"/workdir/sh2246/p_phyloGWAS/output/poaceaeHelixerOG_filtered_v2_toRecover.txt\",quote = F,col.names = F,row.names = F)"
   ]
  },
  {
   "cell_type": "code",
   "execution_count": 62,
   "id": "c1c97ab5",
   "metadata": {},
   "outputs": [],
   "source": [
    "# eggNOG v5 vs v6"
   ]
  },
  {
   "cell_type": "code",
   "execution_count": 66,
   "id": "780fe276",
   "metadata": {},
   "outputs": [],
   "source": [
    "eggNOGv6 = read.table(\"/workdir/sh2246/p_phyloGWAS/data/EggNOGv6/e6.38820.og2seqs_and_species.tsv\",header = F)\n",
    "eggNOGv5 = read.table(\"/workdir/sh2246/p_phyloGWAS/data/EggNOGv5/38820_members.tsv\",header = F)"
   ]
  },
  {
   "cell_type": "code",
   "execution_count": 65,
   "id": "68cdad7d",
   "metadata": {},
   "outputs": [
    {
     "data": {
      "image/png": "[encoded data removed]",
      "text/plain": [
       "plot without title"
      ]
     },
     "metadata": {
      "image/png": {
       "height": 480,
       "width": 900
      }
     },
     "output_type": "display_data"
    }
   ],
   "source": [
    "barplot(table(eggNOGv6$V3))"
   ]
  },
  {
   "cell_type": "code",
   "execution_count": 68,
   "id": "e598e84e",
   "metadata": {},
   "outputs": [
    {
     "data": {
      "image/png": "[encoded data removed]",
      "text/plain": [
       "plot without title"
      ]
     },
     "metadata": {
      "image/png": {
       "height": 480,
       "width": 900
      }
     },
     "output_type": "display_data"
    }
   ],
   "source": [
    "barplot(table(eggNOGv5$V4))"
   ]
  },
  {
   "cell_type": "code",
   "execution_count": 70,
   "id": "5c947682",
   "metadata": {},
   "outputs": [
    {
     "data": {
      "image/png": "[encoded data removed]",
      "text/plain": [
       "plot without title"
      ]
     },
     "metadata": {
      "image/png": {
       "height": 480,
       "width": 900
      }
     },
     "output_type": "display_data"
    }
   ],
   "source": [
    "barplot(rbind(table(eggNOGv6$V3),table(eggNOGv5$V4)[1:23]),beside = T)"
   ]
  },
  {
   "cell_type": "code",
   "execution_count": 75,
   "id": "7a8eaa0e",
   "metadata": {},
   "outputs": [],
   "source": [
    "v6species = unique(unlist(strsplit(eggNOGv6$V5,\",\")))\n",
    "v5species = unique(unlist(strsplit(eggNOGv5$V6,\",\")))"
   ]
  },
  {
   "cell_type": "code",
   "execution_count": 76,
   "id": "d05bfcc5",
   "metadata": {},
   "outputs": [
    {
     "data": {
      "text/html": [
       "23"
      ],
      "text/latex": [
       "23"
      ],
      "text/markdown": [
       "23"
      ],
      "text/plain": [
       "[1] 23"
      ]
     },
     "metadata": {},
     "output_type": "display_data"
    },
    {
     "data": {
      "text/html": [
       "19"
      ],
      "text/latex": [
       "19"
      ],
      "text/markdown": [
       "19"
      ],
      "text/plain": [
       "[1] 19"
      ]
     },
     "metadata": {},
     "output_type": "display_data"
    }
   ],
   "source": [
    "length(v6species)\n",
    "length(v5species)"
   ]
  },
  {
   "cell_type": "code",
   "execution_count": 79,
   "id": "f3338c2d",
   "metadata": {},
   "outputs": [
    {
     "data": {
      "text/html": [
       "<style>\n",
       ".list-inline {list-style: none; margin:0; padding: 0}\n",
       ".list-inline>li {display: inline-block}\n",
       ".list-inline>li:not(:last-child)::after {content: \"\\00b7\"; padding: 0 .5ex}\n",
       "</style>\n",
       "<ol class=list-inline><li>'39946'</li><li>'39947'</li><li>'4540'</li><li>'200361'</li><li>'1504633'</li><li>'112509'</li><li>'4615'</li><li>'888268'</li></ol>\n"
      ],
      "text/latex": [
       "\\begin{enumerate*}\n",
       "\\item '39946'\n",
       "\\item '39947'\n",
       "\\item '4540'\n",
       "\\item '200361'\n",
       "\\item '1504633'\n",
       "\\item '112509'\n",
       "\\item '4615'\n",
       "\\item '888268'\n",
       "\\end{enumerate*}\n"
      ],
      "text/markdown": [
       "1. '39946'\n",
       "2. '39947'\n",
       "3. '4540'\n",
       "4. '200361'\n",
       "5. '1504633'\n",
       "6. '112509'\n",
       "7. '4615'\n",
       "8. '888268'\n",
       "\n",
       "\n"
      ],
      "text/plain": [
       "[1] \"39946\"   \"39947\"   \"4540\"    \"200361\"  \"1504633\" \"112509\"  \"4615\"   \n",
       "[8] \"888268\" "
      ]
     },
     "metadata": {},
     "output_type": "display_data"
    },
    {
     "data": {
      "text/html": [
       "<style>\n",
       ".list-inline {list-style: none; margin:0; padding: 0}\n",
       ".list-inline>li {display: inline-block}\n",
       ".list-inline>li:not(:last-child)::after {content: \"\\00b7\"; padding: 0 .5ex}\n",
       "</style>\n",
       "<ol class=list-inline><li>'37682'</li><li>'38727'</li><li>'4513'</li><li>'4530'</li></ol>\n"
      ],
      "text/latex": [
       "\\begin{enumerate*}\n",
       "\\item '37682'\n",
       "\\item '38727'\n",
       "\\item '4513'\n",
       "\\item '4530'\n",
       "\\end{enumerate*}\n"
      ],
      "text/markdown": [
       "1. '37682'\n",
       "2. '38727'\n",
       "3. '4513'\n",
       "4. '4530'\n",
       "\n",
       "\n"
      ],
      "text/plain": [
       "[1] \"37682\" \"38727\" \"4513\"  \"4530\" "
      ]
     },
     "metadata": {},
     "output_type": "display_data"
    },
    {
     "data": {
      "text/html": [
       "<style>\n",
       ".list-inline {list-style: none; margin:0; padding: 0}\n",
       ".list-inline>li {display: inline-block}\n",
       ".list-inline>li:not(:last-child)::after {content: \"\\00b7\"; padding: 0 .5ex}\n",
       "</style>\n",
       "<ol class=list-inline><li>'77586'</li><li>'4538'</li><li>'4529'</li><li>'4536'</li><li>'65489'</li><li>'40148'</li><li>'40149'</li><li>'15368'</li><li>'4558'</li><li>'4555'</li><li>'4537'</li><li>'4572'</li><li>'4565'</li><li>'4533'</li><li>'4577'</li></ol>\n"
      ],
      "text/latex": [
       "\\begin{enumerate*}\n",
       "\\item '77586'\n",
       "\\item '4538'\n",
       "\\item '4529'\n",
       "\\item '4536'\n",
       "\\item '65489'\n",
       "\\item '40148'\n",
       "\\item '40149'\n",
       "\\item '15368'\n",
       "\\item '4558'\n",
       "\\item '4555'\n",
       "\\item '4537'\n",
       "\\item '4572'\n",
       "\\item '4565'\n",
       "\\item '4533'\n",
       "\\item '4577'\n",
       "\\end{enumerate*}\n"
      ],
      "text/markdown": [
       "1. '77586'\n",
       "2. '4538'\n",
       "3. '4529'\n",
       "4. '4536'\n",
       "5. '65489'\n",
       "6. '40148'\n",
       "7. '40149'\n",
       "8. '15368'\n",
       "9. '4558'\n",
       "10. '4555'\n",
       "11. '4537'\n",
       "12. '4572'\n",
       "13. '4565'\n",
       "14. '4533'\n",
       "15. '4577'\n",
       "\n",
       "\n"
      ],
      "text/plain": [
       " [1] \"77586\" \"4538\"  \"4529\"  \"4536\"  \"65489\" \"40148\" \"40149\" \"15368\" \"4558\" \n",
       "[10] \"4555\"  \"4537\"  \"4572\"  \"4565\"  \"4533\"  \"4577\" "
      ]
     },
     "metadata": {},
     "output_type": "display_data"
    }
   ],
   "source": [
    "setdiff(v6species,v5species)\n",
    "setdiff(v5species,v6species)\n",
    "intersect(v6species,v5species)"
   ]
  },
  {
   "cell_type": "code",
   "execution_count": 101,
   "id": "37ee2c67",
   "metadata": {},
   "outputs": [],
   "source": [
    "taxaid = read.delim(\"/workdir/sh2246/p_phyloGWAS/data/taxdump/rankedlineage.dmp\",sep = \"|\",header = F,quote = \"\")"
   ]
  },
  {
   "cell_type": "code",
   "execution_count": 106,
   "id": "0cc1044c",
   "metadata": {},
   "outputs": [
    {
     "data": {
      "text/html": [
       "<style>\n",
       ".list-inline {list-style: none; margin:0; padding: 0}\n",
       ".list-inline>li {display: inline-block}\n",
       ".list-inline>li:not(:last-child)::after {content: \"\\00b7\"; padding: 0 .5ex}\n",
       "</style>\n",
       "<ol class=list-inline><li>'Ananas comosus'</li><li>'Oryza sativa Indica Group'</li><li>'Oryza sativa Japonica Group'</li><li>'Hordeum vulgare subsp. vulgare'</li><li>'Aegilops tauschii subsp. strangulata'</li><li>'Dichanthelium oligosanthes'</li><li>'Panicum miliaceum'</li><li>'Panicum hallii var. hallii'</li></ol>\n"
      ],
      "text/latex": [
       "\\begin{enumerate*}\n",
       "\\item 'Ananas comosus'\n",
       "\\item 'Oryza sativa Indica Group'\n",
       "\\item 'Oryza sativa Japonica Group'\n",
       "\\item 'Hordeum vulgare subsp. vulgare'\n",
       "\\item 'Aegilops tauschii subsp. strangulata'\n",
       "\\item 'Dichanthelium oligosanthes'\n",
       "\\item 'Panicum miliaceum'\n",
       "\\item 'Panicum hallii var. hallii'\n",
       "\\end{enumerate*}\n"
      ],
      "text/markdown": [
       "1. 'Ananas comosus'\n",
       "2. 'Oryza sativa Indica Group'\n",
       "3. 'Oryza sativa Japonica Group'\n",
       "4. 'Hordeum vulgare subsp. vulgare'\n",
       "5. 'Aegilops tauschii subsp. strangulata'\n",
       "6. 'Dichanthelium oligosanthes'\n",
       "7. 'Panicum miliaceum'\n",
       "8. 'Panicum hallii var. hallii'\n",
       "\n",
       "\n"
      ],
      "text/plain": [
       "[1] \"Ananas comosus\"                      \n",
       "[2] \"Oryza sativa Indica Group\"           \n",
       "[3] \"Oryza sativa Japonica Group\"         \n",
       "[4] \"Hordeum vulgare subsp. vulgare\"      \n",
       "[5] \"Aegilops tauschii subsp. strangulata\"\n",
       "[6] \"Dichanthelium oligosanthes\"          \n",
       "[7] \"Panicum miliaceum\"                   \n",
       "[8] \"Panicum hallii var. hallii\"          "
      ]
     },
     "metadata": {},
     "output_type": "display_data"
    }
   ],
   "source": [
    "gsub(\"\\t\",\"\",taxaid[as.character(taxaid[,1])%in%setdiff(v6species,v5species),2])"
   ]
  },
  {
   "cell_type": "code",
   "execution_count": 107,
   "id": "06c6a604",
   "metadata": {},
   "outputs": [
    {
     "data": {
      "text/html": [
       "<style>\n",
       ".list-inline {list-style: none; margin:0; padding: 0}\n",
       ".list-inline>li {display: inline-block}\n",
       ".list-inline>li:not(:last-child)::after {content: \"\\00b7\"; padding: 0 .5ex}\n",
       "</style>\n",
       "<ol class=list-inline><li>'Oryza sativa'</li><li>'Hordeum vulgare'</li><li>'Aegilops tauschii'</li><li>'Panicum virgatum'</li></ol>\n"
      ],
      "text/latex": [
       "\\begin{enumerate*}\n",
       "\\item 'Oryza sativa'\n",
       "\\item 'Hordeum vulgare'\n",
       "\\item 'Aegilops tauschii'\n",
       "\\item 'Panicum virgatum'\n",
       "\\end{enumerate*}\n"
      ],
      "text/markdown": [
       "1. 'Oryza sativa'\n",
       "2. 'Hordeum vulgare'\n",
       "3. 'Aegilops tauschii'\n",
       "4. 'Panicum virgatum'\n",
       "\n",
       "\n"
      ],
      "text/plain": [
       "[1] \"Oryza sativa\"      \"Hordeum vulgare\"   \"Aegilops tauschii\"\n",
       "[4] \"Panicum virgatum\" "
      ]
     },
     "metadata": {},
     "output_type": "display_data"
    }
   ],
   "source": [
    "gsub(\"\\t\",\"\",taxaid[as.character(taxaid[,1])%in%setdiff(v5species,v6species),2])"
   ]
  },
  {
   "cell_type": "code",
   "execution_count": 108,
   "id": "e9648309",
   "metadata": {},
   "outputs": [
    {
     "data": {
      "text/html": [
       "<style>\n",
       ".list-inline {list-style: none; margin:0; padding: 0}\n",
       ".list-inline>li {display: inline-block}\n",
       ".list-inline>li:not(:last-child)::after {content: \"\\00b7\"; padding: 0 .5ex}\n",
       "</style>\n",
       "<ol class=list-inline><li>'Leersia perrieri'</li><li>'Oryza barthii'</li><li>'Oryza brachyantha'</li><li>'Oryza glaberrima'</li><li>'Oryza glumipatula'</li><li>'Oryza meridionalis'</li><li>'Oryza nivara'</li><li>'Oryza punctata'</li><li>'Oryza rufipogon'</li><li>'Brachypodium distachyon'</li><li>'Triticum aestivum'</li><li>'Triticum urartu'</li><li>'Sorghum bicolor'</li><li>'Zea mays'</li><li>'Setaria italica'</li></ol>\n"
      ],
      "text/latex": [
       "\\begin{enumerate*}\n",
       "\\item 'Leersia perrieri'\n",
       "\\item 'Oryza barthii'\n",
       "\\item 'Oryza brachyantha'\n",
       "\\item 'Oryza glaberrima'\n",
       "\\item 'Oryza glumipatula'\n",
       "\\item 'Oryza meridionalis'\n",
       "\\item 'Oryza nivara'\n",
       "\\item 'Oryza punctata'\n",
       "\\item 'Oryza rufipogon'\n",
       "\\item 'Brachypodium distachyon'\n",
       "\\item 'Triticum aestivum'\n",
       "\\item 'Triticum urartu'\n",
       "\\item 'Sorghum bicolor'\n",
       "\\item 'Zea mays'\n",
       "\\item 'Setaria italica'\n",
       "\\end{enumerate*}\n"
      ],
      "text/markdown": [
       "1. 'Leersia perrieri'\n",
       "2. 'Oryza barthii'\n",
       "3. 'Oryza brachyantha'\n",
       "4. 'Oryza glaberrima'\n",
       "5. 'Oryza glumipatula'\n",
       "6. 'Oryza meridionalis'\n",
       "7. 'Oryza nivara'\n",
       "8. 'Oryza punctata'\n",
       "9. 'Oryza rufipogon'\n",
       "10. 'Brachypodium distachyon'\n",
       "11. 'Triticum aestivum'\n",
       "12. 'Triticum urartu'\n",
       "13. 'Sorghum bicolor'\n",
       "14. 'Zea mays'\n",
       "15. 'Setaria italica'\n",
       "\n",
       "\n"
      ],
      "text/plain": [
       " [1] \"Leersia perrieri\"        \"Oryza barthii\"          \n",
       " [3] \"Oryza brachyantha\"       \"Oryza glaberrima\"       \n",
       " [5] \"Oryza glumipatula\"       \"Oryza meridionalis\"     \n",
       " [7] \"Oryza nivara\"            \"Oryza punctata\"         \n",
       " [9] \"Oryza rufipogon\"         \"Brachypodium distachyon\"\n",
       "[11] \"Triticum aestivum\"       \"Triticum urartu\"        \n",
       "[13] \"Sorghum bicolor\"         \"Zea mays\"               \n",
       "[15] \"Setaria italica\"        "
      ]
     },
     "metadata": {},
     "output_type": "display_data"
    }
   ],
   "source": [
    "gsub(\"\\t\",\"\",taxaid[as.character(taxaid[,1])%in%intersect(v6species,v5species),2])"
   ]
  },
  {
   "cell_type": "code",
   "execution_count": 110,
   "id": "07ef221b",
   "metadata": {},
   "outputs": [
    {
     "name": "stdout",
     "output_type": "stream",
     "text": [
      "[1] \"Leersia perrieri, Oryza barthii, Oryza brachyantha, Oryza glaberrima, Oryza glumipatula, Oryza meridionalis, Oryza nivara, Oryza punctata, Oryza rufipogon, Brachypodium distachyon, Triticum aestivum, Triticum urartu, Sorghum bicolor, Zea mays, Setaria italica\"\n"
     ]
    }
   ],
   "source": [
    "print(paste(gsub(\"\\t\",\"\",taxaid[as.character(taxaid[,1])%in%intersect(v6species,v5species),2]),collapse = \", \"))"
   ]
  },
  {
   "cell_type": "code",
   "execution_count": 97,
   "id": "47f75449",
   "metadata": {},
   "outputs": [
    {
     "data": {
      "text/html": [
       "<table class=\"dataframe\">\n",
       "<caption>A data.frame: 0 × 11</caption>\n",
       "<thead>\n",
       "\t<tr><th scope=col>V1</th><th scope=col>V2</th><th scope=col>V3</th><th scope=col>V4</th><th scope=col>V5</th><th scope=col>V6</th><th scope=col>V7</th><th scope=col>V8</th><th scope=col>V9</th><th scope=col>V10</th><th scope=col>V11</th></tr>\n",
       "\t<tr><th scope=col>&lt;dbl&gt;</th><th scope=col>&lt;chr&gt;</th><th scope=col>&lt;chr&gt;</th><th scope=col>&lt;chr&gt;</th><th scope=col>&lt;chr&gt;</th><th scope=col>&lt;chr&gt;</th><th scope=col>&lt;chr&gt;</th><th scope=col>&lt;chr&gt;</th><th scope=col>&lt;lgl&gt;</th><th scope=col>&lt;chr&gt;</th><th scope=col>&lt;lgl&gt;</th></tr>\n",
       "</thead>\n",
       "<tbody>\n",
       "</tbody>\n",
       "</table>\n"
      ],
      "text/latex": [
       "A data.frame: 0 × 11\n",
       "\\begin{tabular}{lllllllllll}\n",
       " V1 & V2 & V3 & V4 & V5 & V6 & V7 & V8 & V9 & V10 & V11\\\\\n",
       " <dbl> & <chr> & <chr> & <chr> & <chr> & <chr> & <chr> & <chr> & <lgl> & <chr> & <lgl>\\\\\n",
       "\\hline\n",
       "\\end{tabular}\n"
      ],
      "text/markdown": [
       "\n",
       "A data.frame: 0 × 11\n",
       "\n",
       "| V1 &lt;dbl&gt; | V2 &lt;chr&gt; | V3 &lt;chr&gt; | V4 &lt;chr&gt; | V5 &lt;chr&gt; | V6 &lt;chr&gt; | V7 &lt;chr&gt; | V8 &lt;chr&gt; | V9 &lt;lgl&gt; | V10 &lt;chr&gt; | V11 &lt;lgl&gt; |\n",
       "|---|---|---|---|---|---|---|---|---|---|---|\n",
       "\n"
      ],
      "text/plain": [
       "     V1 V2 V3 V4 V5 V6 V7 V8 V9 V10 V11"
      ]
     },
     "metadata": {},
     "output_type": "display_data"
    }
   ],
   "source": [
    "taxaid[as.character(taxaid[,1])=='38820',]"
   ]
  },
  {
   "cell_type": "code",
   "execution_count": 98,
   "id": "73d1de2d",
   "metadata": {},
   "outputs": [
    {
     "data": {
      "text/html": [
       "<style>\n",
       ".list-inline {list-style: none; margin:0; padding: 0}\n",
       ".list-inline>li {display: inline-block}\n",
       ".list-inline>li:not(:last-child)::after {content: \"\\00b7\"; padding: 0 .5ex}\n",
       "</style>\n",
       "<ol class=list-inline><li>'1'</li><li>'131567'</li><li>'2157'</li><li>'1935183'</li><li>'2798909'</li><li>'2798916'</li></ol>\n"
      ],
      "text/latex": [
       "\\begin{enumerate*}\n",
       "\\item '1'\n",
       "\\item '131567'\n",
       "\\item '2157'\n",
       "\\item '1935183'\n",
       "\\item '2798909'\n",
       "\\item '2798916'\n",
       "\\end{enumerate*}\n"
      ],
      "text/markdown": [
       "1. '1'\n",
       "2. '131567'\n",
       "3. '2157'\n",
       "4. '1935183'\n",
       "5. '2798909'\n",
       "6. '2798916'\n",
       "\n",
       "\n"
      ],
      "text/plain": [
       "[1] \"1\"       \"131567\"  \"2157\"    \"1935183\" \"2798909\" \"2798916\""
      ]
     },
     "metadata": {},
     "output_type": "display_data"
    }
   ],
   "source": [
    "head(as.character(taxaid[,1]))"
   ]
  },
  {
   "cell_type": "code",
   "execution_count": 99,
   "id": "8bc16131",
   "metadata": {},
   "outputs": [
    {
     "data": {
      "text/html": [
       "<style>\n",
       ".list-inline {list-style: none; margin:0; padding: 0}\n",
       ".list-inline>li {display: inline-block}\n",
       ".list-inline>li:not(:last-child)::after {content: \"\\00b7\"; padding: 0 .5ex}\n",
       "</style>\n",
       "<ol class=list-inline><li>491135</li><li>11</li></ol>\n"
      ],
      "text/latex": [
       "\\begin{enumerate*}\n",
       "\\item 491135\n",
       "\\item 11\n",
       "\\end{enumerate*}\n"
      ],
      "text/markdown": [
       "1. 491135\n",
       "2. 11\n",
       "\n",
       "\n"
      ],
      "text/plain": [
       "[1] 491135     11"
      ]
     },
     "metadata": {},
     "output_type": "display_data"
    }
   ],
   "source": [
    "dim(taxaid)"
   ]
  }
 ],
 "metadata": {
  "kernelspec": {
   "display_name": "R",
   "language": "R",
   "name": "ir"
  },
  "language_info": {
   "codemirror_mode": "r",
   "file_extension": ".r",
   "mimetype": "text/x-r-source",
   "name": "R",
   "pygments_lexer": "r",
   "version": "4.2.2"
  }
 },
 "nbformat": 4,
 "nbformat_minor": 5
}
