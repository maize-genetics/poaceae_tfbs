{
 "cells": [
  {
   "cell_type": "code",
   "execution_count": 1,
   "id": "7e2d3a5f",
   "metadata": {},
   "outputs": [],
   "source": [
    "#evaluation of miniProt result using the poaceae consensus query\n",
    "#author: Sheng-Kai Hsu\n",
    "#created: 2024.08.05\n",
    "#last edited: 2024.08/05\n",
    "rm(list=ls())"
   ]
  },
  {
   "cell_type": "code",
   "execution_count": 2,
   "id": "0a2a0c43",
   "metadata": {},
   "outputs": [
    {
     "name": "stderr",
     "output_type": "stream",
     "text": [
      "Loading required package: GenomicRanges\n",
      "\n",
      "Loading required package: stats4\n",
      "\n",
      "Loading required package: BiocGenerics\n",
      "\n",
      "\n",
      "Attaching package: ‘BiocGenerics’\n",
      "\n",
      "\n",
      "The following objects are masked from ‘package:stats’:\n",
      "\n",
      "    IQR, mad, sd, var, xtabs\n",
      "\n",
      "\n",
      "The following objects are masked from ‘package:base’:\n",
      "\n",
      "    anyDuplicated, aperm, append, as.data.frame, basename, cbind,\n",
      "    colnames, dirname, do.call, duplicated, eval, evalq, Filter, Find,\n",
      "    get, grep, grepl, intersect, is.unsorted, lapply, Map, mapply,\n",
      "    match, mget, order, paste, pmax, pmax.int, pmin, pmin.int,\n",
      "    Position, rank, rbind, Reduce, rownames, sapply, setdiff, sort,\n",
      "    table, tapply, union, unique, unsplit, which.max, which.min\n",
      "\n",
      "\n",
      "Loading required package: S4Vectors\n",
      "\n",
      "\n",
      "Attaching package: ‘S4Vectors’\n",
      "\n",
      "\n",
      "The following objects are masked from ‘package:base’:\n",
      "\n",
      "    expand.grid, I, unname\n",
      "\n",
      "\n",
      "Loading required package: IRanges\n",
      "\n",
      "Loading required package: GenomeInfoDb\n",
      "\n",
      "Loading required package: XVector\n",
      "\n",
      "\n",
      "Attaching package: ‘Biostrings’\n",
      "\n",
      "\n",
      "The following object is masked from ‘package:base’:\n",
      "\n",
      "    strsplit\n",
      "\n",
      "\n",
      "\n",
      "Attaching package: ‘limma’\n",
      "\n",
      "\n",
      "The following object is masked from ‘package:BiocGenerics’:\n",
      "\n",
      "    plotMA\n",
      "\n",
      "\n",
      "── \u001b[1mAttaching core tidyverse packages\u001b[22m ───────────────────────────────────────────── tidyverse 2.0.0 ──\n",
      "\u001b[32m✔\u001b[39m \u001b[34mdplyr    \u001b[39m 1.1.4     \u001b[32m✔\u001b[39m \u001b[34mreadr    \u001b[39m 2.1.5\n",
      "\u001b[32m✔\u001b[39m \u001b[34mforcats  \u001b[39m 1.0.0     \u001b[32m✔\u001b[39m \u001b[34mstringr  \u001b[39m 1.5.1\n",
      "\u001b[32m✔\u001b[39m \u001b[34mggplot2  \u001b[39m 3.5.0     \u001b[32m✔\u001b[39m \u001b[34mtibble   \u001b[39m 3.2.1\n",
      "\u001b[32m✔\u001b[39m \u001b[34mlubridate\u001b[39m 1.9.3     \u001b[32m✔\u001b[39m \u001b[34mtidyr    \u001b[39m 1.3.1\n",
      "\u001b[32m✔\u001b[39m \u001b[34mpurrr    \u001b[39m 1.0.2     \n",
      "── \u001b[1mConflicts\u001b[22m ─────────────────────────────────────────────────────────────── tidyverse_conflicts() ──\n",
      "\u001b[31m✖\u001b[39m \u001b[34mlubridate\u001b[39m::\u001b[32m%within%()\u001b[39m masks \u001b[34mIRanges\u001b[39m::%within%()\n",
      "\u001b[31m✖\u001b[39m \u001b[34mreadr\u001b[39m::\u001b[32mcol_factor()\u001b[39m   masks \u001b[34mscales\u001b[39m::col_factor()\n",
      "\u001b[31m✖\u001b[39m \u001b[34mdplyr\u001b[39m::\u001b[32mcollapse()\u001b[39m     masks \u001b[34mBiostrings\u001b[39m::collapse(), \u001b[34mIRanges\u001b[39m::collapse()\n",
      "\u001b[31m✖\u001b[39m \u001b[34mdplyr\u001b[39m::\u001b[32mcombine()\u001b[39m      masks \u001b[34mBiocGenerics\u001b[39m::combine()\n",
      "\u001b[31m✖\u001b[39m \u001b[34mpurrr\u001b[39m::\u001b[32mcompact()\u001b[39m      masks \u001b[34mXVector\u001b[39m::compact()\n",
      "\u001b[31m✖\u001b[39m \u001b[34mdplyr\u001b[39m::\u001b[32mdesc()\u001b[39m         masks \u001b[34mIRanges\u001b[39m::desc()\n",
      "\u001b[31m✖\u001b[39m \u001b[34mpurrr\u001b[39m::\u001b[32mdiscard()\u001b[39m      masks \u001b[34mscales\u001b[39m::discard()\n",
      "\u001b[31m✖\u001b[39m \u001b[34mtidyr\u001b[39m::\u001b[32mexpand()\u001b[39m       masks \u001b[34mS4Vectors\u001b[39m::expand()\n",
      "\u001b[31m✖\u001b[39m \u001b[34mdplyr\u001b[39m::\u001b[32mfilter()\u001b[39m       masks \u001b[34mstats\u001b[39m::filter()\n",
      "\u001b[31m✖\u001b[39m \u001b[34mdplyr\u001b[39m::\u001b[32mfirst()\u001b[39m        masks \u001b[34mS4Vectors\u001b[39m::first()\n",
      "\u001b[31m✖\u001b[39m \u001b[34mdplyr\u001b[39m::\u001b[32mlag()\u001b[39m          masks \u001b[34mstats\u001b[39m::lag()\n",
      "\u001b[31m✖\u001b[39m \u001b[34mggplot2\u001b[39m::\u001b[32mPosition()\u001b[39m   masks \u001b[34mBiocGenerics\u001b[39m::Position(), \u001b[34mbase\u001b[39m::Position()\n",
      "\u001b[31m✖\u001b[39m \u001b[34mpurrr\u001b[39m::\u001b[32mreduce()\u001b[39m       masks \u001b[34mGenomicRanges\u001b[39m::reduce(), \u001b[34mIRanges\u001b[39m::reduce()\n",
      "\u001b[31m✖\u001b[39m \u001b[34mdplyr\u001b[39m::\u001b[32mrename()\u001b[39m       masks \u001b[34mS4Vectors\u001b[39m::rename()\n",
      "\u001b[31m✖\u001b[39m \u001b[34mlubridate\u001b[39m::\u001b[32msecond()\u001b[39m   masks \u001b[34mS4Vectors\u001b[39m::second()\n",
      "\u001b[31m✖\u001b[39m \u001b[34mlubridate\u001b[39m::\u001b[32msecond<-()\u001b[39m masks \u001b[34mS4Vectors\u001b[39m::second<-()\n",
      "\u001b[31m✖\u001b[39m \u001b[34mdplyr\u001b[39m::\u001b[32mslice()\u001b[39m        masks \u001b[34mXVector\u001b[39m::slice(), \u001b[34mIRanges\u001b[39m::slice()\n",
      "\u001b[36mℹ\u001b[39m Use the conflicted package (\u001b[3m\u001b[34m<http://conflicted.r-lib.org/>\u001b[39m\u001b[23m) to force all conflicts to become errors\n"
     ]
    }
   ],
   "source": [
    "library(rtracklayer)\n",
    "library(Biostrings)\n",
    "library(limma)\n",
    "library(scales)\n",
    "library(LSD)\n",
    "library(parallel)\n",
    "library(tidyverse)"
   ]
  },
  {
   "cell_type": "code",
   "execution_count": 3,
   "id": "575f0b35",
   "metadata": {},
   "outputs": [],
   "source": [
    "queryFa = readAAStringSet(\"/workdir/sh2246/p_phyloGWAS/output/poaceaeHelixerOG_ancSeq_gapRemoved_filtered.fa\")\n",
    "queryFa_length=width(queryFa)\n",
    "names(queryFa_length)=names(queryFa)\n"
   ]
  },
  {
   "cell_type": "code",
   "execution_count": 5,
   "id": "d309bf07",
   "metadata": {},
   "outputs": [
    {
     "data": {
      "image/png": "[encoded data removed]",
      "text/plain": [
       "Plot with title “Histogram of queryFa_length”"
      ]
     },
     "metadata": {
      "image/png": {
       "height": 420,
       "width": 420
      }
     },
     "output_type": "display_data"
    }
   ],
   "source": [
    "hist(queryFa_length,breaks= seq(0,6000,10))"
   ]
  },
  {
   "cell_type": "code",
   "execution_count": 15,
   "id": "74ea6b4a",
   "metadata": {},
   "outputs": [],
   "source": [
    "calculate_range <- function(start, end) {\n",
    "  intervals <- data.frame(Start = start, End = end)\n",
    "  intervals <- intervals[order(intervals$Start), ]\n",
    "  \n",
    "  # Merge overlapping intervals\n",
    "  merged_intervals <- Reduce(function(acc, current) {\n",
    "    if (is.null(acc)) {\n",
    "      return(current)\n",
    "    }\n",
    "    last <- acc[nrow(acc), ]\n",
    "    if (last$End >= current$Start) {\n",
    "      acc[nrow(acc), 'End'] <- max(last$End, current$End)\n",
    "    } else {\n",
    "      acc <- rbind(acc, current)\n",
    "    }\n",
    "    acc\n",
    "  }, split(intervals, 1:nrow(intervals)), init = NULL)\n",
    "  \n",
    "  # Calculate total range\n",
    "  total_range <- sum(merged_intervals$End - merged_intervals$Start)\n",
    "  return(total_range)\n",
    "}\n"
   ]
  },
  {
   "cell_type": "code",
   "execution_count": 16,
   "id": "eb1689cf",
   "metadata": {},
   "outputs": [],
   "source": [
    "eval_scaffold = function(j){\n",
    "    gff_original = readGFF(paste0(\"/workdir/sh2246/p_phyloGWAS/output/orthofinderMiniProt/\",j,\".gff\"))\n",
    "\n",
    "    if(nrow(gff_original)>0) {\n",
    "        gff.mrna_original = gff_original[gff_original[,3]==\"mRNA\",]\n",
    "\n",
    "        queryStat_original = strsplit2(gff.mrna_original$Target,\" \")\n",
    "        queryStat_original = as.data.frame(queryStat_original)\n",
    "        colnames(queryStat_original) = c(\"query\",\"start\",\"end\")\n",
    "        queryStat_original$range = as.numeric(queryStat_original[,3])-as.numeric(queryStat_original[,2])+1\n",
    "\n",
    "        qcov_original=c()\n",
    "        for (i in unique(queryStat_original[,1])){\n",
    "          qcov_original=c(qcov_original,queryStat_original[queryStat_original[,1]==i,4]/queryFa_length[i])\n",
    "        }\n",
    "        queryStat_original$coverage = qcov_original\n",
    "\n",
    "        queryStat_original[,2] = as.numeric(queryStat_original[,2])\n",
    "        queryStat_original[,3] = as.numeric(queryStat_original[,3])\n",
    "\n",
    "        queryLengthCov_original <- queryStat_original %>% group_by(query) %>% \n",
    "        summarise(TotalRange = calculate_range(start, end))\n",
    "        queryLengthCov_original = as.data.frame(queryLengthCov_original)\n",
    "        rownames(queryLengthCov_original)=queryLengthCov_original[,1]\n",
    "\n",
    "        out = queryFa_length[queryLengthCov_original[,1]]-queryLengthCov_original[,2]\n",
    "        names(out) = queryLengthCov_original[,1]\n",
    "        return(out)\n",
    "    }\n",
    "    else return(NULL)\n",
    "}\n"
   ]
  },
  {
   "cell_type": "code",
   "execution_count": 13,
   "id": "c2a02850",
   "metadata": {},
   "outputs": [
    {
     "name": "stderr",
     "output_type": "stream",
     "text": [
      "Warning message in mclapply(sampleID, eval_scaffold, mc.cores = 10):\n",
      "“all scheduled cores encountered errors in user code”\n"
     ]
    }
   ],
   "source": [
    "sampleID = gsub(\".gff\",\"\",list.files(\"/workdir/sh2246/p_phyloGWAS/output/orthofinderMiniProt/\"))\n",
    "missBP = simplify2array(mclapply(sampleID,eval_scaffold,mc.cores = 10))"
   ]
  },
  {
   "cell_type": "code",
   "execution_count": 74,
   "id": "5e9c8fa2",
   "metadata": {},
   "outputs": [
    {
     "data": {
      "text/html": [
       "<strong>OG0026028:</strong> 1"
      ],
      "text/latex": [
       "\\textbf{OG0026028:} 1"
      ],
      "text/markdown": [
       "**OG0026028:** 1"
      ],
      "text/plain": [
       "OG0026028 \n",
       "        1 "
      ]
     },
     "metadata": {},
     "output_type": "display_data"
    }
   ],
   "source": [
    "missBP[[which(sampleID%in%'ASM1935983v1')]]['OG0026028']"
   ]
  },
  {
   "cell_type": "code",
   "execution_count": 20,
   "id": "672830e5",
   "metadata": {},
   "outputs": [],
   "source": [
    "names(missBP) = sampleID\n",
    "missBP_noMissing = simplify2array(missBP[!sapply(missBP,length)==0])\n",
    "missBP_noMissing = sapply(missBP_noMissing,function(x) x[names(queryFa_length)])\n",
    "rownames(missBP_noMissing) = names(queryFa_length)\n",
    "missBP_naFilled = apply(missBP_noMissing,2,function(x) {\n",
    "    x[is.na(x)] = queryFa_length[is.na(x)]\n",
    "    return(x)\n",
    "})"
   ]
  },
  {
   "cell_type": "code",
   "execution_count": 21,
   "id": "0e276f13",
   "metadata": {},
   "outputs": [],
   "source": [
    "missBP_cat = apply(missBP_naFilled,2,function(x) table(as.numeric(cut(x,c(-10,0,30,90,300,6e3))))[as.character(1:5)])\n",
    "missBP_cat[is.na(missBP_cat)]=0"
   ]
  },
  {
   "cell_type": "code",
   "execution_count": 28,
   "id": "e24ac05e",
   "metadata": {},
   "outputs": [
    {
     "data": {
      "image/png": "[encoded data removed]",
      "text/plain": [
       "Plot with title “missing BP”"
      ]
     },
     "metadata": {
      "image/png": {
       "height": 480,
       "width": 900
      }
     },
     "output_type": "display_data"
    }
   ],
   "source": [
    "options(repr.plot.width = 15,repr.plot.height = 8)\n",
    "barplot(missBP_cat[,order(cov_cat[1,])],col =rainbow(5),border = NA,las = 2,xaxt='n',\n",
    "        xlab = \"Assemblies\",ylab = \"Counts\",main = \"missing BP\")"
   ]
  },
  {
   "cell_type": "code",
   "execution_count": 24,
   "id": "6e6620ed",
   "metadata": {},
   "outputs": [],
   "source": [
    "cov_cat = apply(missBP_naFilled,2,function(x) table(12-as.numeric(cut(1-x/queryFa_length,seq(-0.1,1,0.1))))[as.character(1:11)])"
   ]
  },
  {
   "cell_type": "code",
   "execution_count": 25,
   "id": "f5914a92",
   "metadata": {},
   "outputs": [],
   "source": [
    "cov_cat[is.na(cov_cat)] = 0"
   ]
  },
  {
   "cell_type": "code",
   "execution_count": 29,
   "id": "a3342098",
   "metadata": {},
   "outputs": [
    {
     "data": {
      "image/png": "[encoded data removed]",
      "text/plain": [
       "Plot with title “Coverage”"
      ]
     },
     "metadata": {
      "image/png": {
       "height": 480,
       "width": 900
      }
     },
     "output_type": "display_data"
    }
   ],
   "source": [
    "barplot(cov_cat[,order(cov_cat[1,])],col = rainbow(12)[1:11],border =NA,las = 2,xaxt='n',\n",
    "        xlab = \"Assemblies\",ylab = \"Counts\",main = \"Coverage\")"
   ]
  },
  {
   "cell_type": "code",
   "execution_count": 33,
   "id": "ae1b36dc",
   "metadata": {},
   "outputs": [
    {
     "data": {
      "image/png": "[encoded data removed]",
      "text/plain": [
       "plot without title"
      ]
     },
     "metadata": {
      "image/png": {
       "height": 480,
       "width": 900
      }
     },
     "output_type": "display_data"
    }
   ],
   "source": [
    "barplot(rev(table(cut(1-missBP_naFilled[,5]/queryFa_length,seq(-0.1,1,0.1)))),col =rainbow(12)[1:11] )"
   ]
  },
  {
   "cell_type": "code",
   "execution_count": 34,
   "id": "de841b38",
   "metadata": {},
   "outputs": [],
   "source": [
    "eval_contig = function(j){\n",
    "    gff_original = readGFF(paste0(\"/workdir/sh2246/p_phyloGWAS/output/orthofinderMiniProt/\",j,\".gff\"))\n",
    "\n",
    "    if(nrow(gff_original)>0) {\n",
    "        gff.mrna_original = gff_original[gff_original[,3]==\"mRNA\",]\n",
    "\n",
    "        queryStat_original = strsplit2(gff.mrna_original$Target,\" \")\n",
    "        queryStat_original = as.data.frame(queryStat_original)\n",
    "        colnames(queryStat_original) = c(\"query\",\"start\",\"end\")\n",
    "        queryStat_original$range = as.numeric(queryStat_original[,3])-as.numeric(queryStat_original[,2])+1\n",
    "\n",
    "        out = table(queryStat_original[,1])[names(queryFa_length)]\n",
    "        names(out) = names(queryFa_length)\n",
    "        return(out)\n",
    "    }\n",
    "    else return(NULL)\n",
    "}\n"
   ]
  },
  {
   "cell_type": "code",
   "execution_count": null,
   "id": "2418c98e",
   "metadata": {},
   "outputs": [],
   "source": [
    "numContig = simplify2array(mclapply(sampleID,eval_contig,mc.cores = 10))\n",
    "# numContig_noMissing = simplify2array(numContig[!sapply(numContig,length)==0])"
   ]
  },
  {
   "cell_type": "code",
   "execution_count": 43,
   "id": "3ee68267",
   "metadata": {},
   "outputs": [
    {
     "data": {
      "image/png": "[encoded data removed]",
      "text/plain": [
       "plot without title"
      ]
     },
     "metadata": {
      "image/png": {
       "height": 480,
       "width": 900
      }
     },
     "output_type": "display_data"
    }
   ],
   "source": [
    "numContig_freq = apply(numContig,2,function(x) table(x)[as.character(1:31)])\n",
    "numContig_freq[is.na(numContig_freq)] = 0\n",
    "set.seed(666)\n",
    "mybpcol = rainbow(50)[sample(1:50,31)]\n",
    "barplot(numContig_freq[,order(cov_cat[1,])],col = mybpcol,border = NA)"
   ]
  },
  {
   "cell_type": "code",
   "execution_count": 49,
   "id": "0d556787",
   "metadata": {},
   "outputs": [
    {
     "data": {
      "image/png": "[encoded data removed]",
      "text/plain": [
       "plot without title"
      ]
     },
     "metadata": {
      "image/png": {
       "height": 480,
       "width": 900
      }
     },
     "output_type": "display_data"
    }
   ],
   "source": [
    "barplot(numContig_freq[,order(cov_cat[1,])][,800],col = mybpcol)"
   ]
  },
  {
   "cell_type": "code",
   "execution_count": 51,
   "id": "11bde719",
   "metadata": {},
   "outputs": [],
   "source": [
    "cov_perOG = apply(missBP_naFilled,2,function(x) 1-x/queryFa_length)"
   ]
  },
  {
   "cell_type": "code",
   "execution_count": 55,
   "id": "f3d52d3a",
   "metadata": {},
   "outputs": [
    {
     "data": {
      "text/html": [
       "<style>\n",
       ".list-inline {list-style: none; margin:0; padding: 0}\n",
       ".list-inline>li {display: inline-block}\n",
       ".list-inline>li:not(:last-child)::after {content: \"\\00b7\"; padding: 0 .5ex}\n",
       "</style>\n",
       "<ol class=list-inline><li>20034</li><li>801</li></ol>\n"
      ],
      "text/latex": [
       "\\begin{enumerate*}\n",
       "\\item 20034\n",
       "\\item 801\n",
       "\\end{enumerate*}\n"
      ],
      "text/markdown": [
       "1. 20034\n",
       "2. 801\n",
       "\n",
       "\n"
      ],
      "text/plain": [
       "[1] 20034   801"
      ]
     },
     "metadata": {},
     "output_type": "display_data"
    },
    {
     "data": {
      "text/html": [
       "<style>\n",
       ".list-inline {list-style: none; margin:0; padding: 0}\n",
       ".list-inline>li {display: inline-block}\n",
       ".list-inline>li:not(:last-child)::after {content: \"\\00b7\"; padding: 0 .5ex}\n",
       "</style>\n",
       "<ol class=list-inline><li>20034</li><li>801</li></ol>\n"
      ],
      "text/latex": [
       "\\begin{enumerate*}\n",
       "\\item 20034\n",
       "\\item 801\n",
       "\\end{enumerate*}\n"
      ],
      "text/markdown": [
       "1. 20034\n",
       "2. 801\n",
       "\n",
       "\n"
      ],
      "text/plain": [
       "[1] 20034   801"
      ]
     },
     "metadata": {},
     "output_type": "display_data"
    }
   ],
   "source": [
    "dim(cov_perOG)\n",
    "dim(numContig)"
   ]
  },
  {
   "cell_type": "code",
   "execution_count": 69,
   "id": "843fc9c4",
   "metadata": {},
   "outputs": [
    {
     "data": {
      "image/png": "[encoded data removed]",
      "text/plain": [
       "Plot with title “”"
      ]
     },
     "metadata": {
      "image/png": {
       "height": 480,
       "width": 900
      }
     },
     "output_type": "display_data"
    }
   ],
   "source": [
    "LSD::heatscatter(numContig[,800],cov_perOG[,800],xlab = \"Copy number\",ylab = \"query coverage\")"
   ]
  },
  {
   "cell_type": "code",
   "execution_count": 65,
   "id": "a0439c99",
   "metadata": {},
   "outputs": [
    {
     "data": {
      "text/html": [
       "16047234"
      ],
      "text/latex": [
       "16047234"
      ],
      "text/markdown": [
       "16047234"
      ],
      "text/plain": [
       "[1] 16047234"
      ]
     },
     "metadata": {},
     "output_type": "display_data"
    }
   ],
   "source": [
    "length(as.vector(numContig))"
   ]
  },
  {
   "cell_type": "code",
   "execution_count": 82,
   "id": "b517f5dd",
   "metadata": {},
   "outputs": [
    {
     "data": {
      "text/html": [
       "<table class=\"dataframe\">\n",
       "<caption>A matrix: 2 × 6 of type dbl</caption>\n",
       "<thead>\n",
       "\t<tr><th></th><th scope=col>used</th><th scope=col>(Mb)</th><th scope=col>gc trigger</th><th scope=col>(Mb)</th><th scope=col>max used</th><th scope=col>(Mb)</th></tr>\n",
       "</thead>\n",
       "<tbody>\n",
       "\t<tr><th scope=row>Ncells</th><td>  7833548</td><td>418.4</td><td>  22421586</td><td> 1197.5</td><td>  54740197</td><td> 2923.5</td></tr>\n",
       "\t<tr><th scope=row>Vcells</th><td>109450271</td><td>835.1</td><td>6019029116</td><td>45921.6</td><td>6311967135</td><td>48156.5</td></tr>\n",
       "</tbody>\n",
       "</table>\n"
      ],
      "text/latex": [
       "A matrix: 2 × 6 of type dbl\n",
       "\\begin{tabular}{r|llllll}\n",
       "  & used & (Mb) & gc trigger & (Mb) & max used & (Mb)\\\\\n",
       "\\hline\n",
       "\tNcells &   7833548 & 418.4 &   22421586 &  1197.5 &   54740197 &  2923.5\\\\\n",
       "\tVcells & 109450271 & 835.1 & 6019029116 & 45921.6 & 6311967135 & 48156.5\\\\\n",
       "\\end{tabular}\n"
      ],
      "text/markdown": [
       "\n",
       "A matrix: 2 × 6 of type dbl\n",
       "\n",
       "| <!--/--> | used | (Mb) | gc trigger | (Mb) | max used | (Mb) |\n",
       "|---|---|---|---|---|---|---|\n",
       "| Ncells |   7833548 | 418.4 |   22421586 |  1197.5 |   54740197 |  2923.5 |\n",
       "| Vcells | 109450271 | 835.1 | 6019029116 | 45921.6 | 6311967135 | 48156.5 |\n",
       "\n"
      ],
      "text/plain": [
       "       used      (Mb)  gc trigger (Mb)    max used   (Mb)   \n",
       "Ncells   7833548 418.4   22421586  1197.5   54740197  2923.5\n",
       "Vcells 109450271 835.1 6019029116 45921.6 6311967135 48156.5"
      ]
     },
     "metadata": {},
     "output_type": "display_data"
    }
   ],
   "source": [
    "gc()"
   ]
  },
  {
   "cell_type": "code",
   "execution_count": 101,
   "id": "31d58fcc",
   "metadata": {},
   "outputs": [],
   "source": [
    "gff_original = readGFF(paste0(\"/workdir/sh2246/p_phyloGWAS/output/orthofinderMiniProt/ASM1935983v1.gff\"))\n",
    "\n",
    "if(nrow(gff_original)>0) {\n",
    "    gff.mrna_original = gff_original[gff_original[,3]==\"CDS\",]\n",
    "\n",
    "    queryStat_original = strsplit2(gff.mrna_original$Target,\" \")\n",
    "    queryStat_original = as.data.frame(queryStat_original)\n",
    "    colnames(queryStat_original) = c(\"query\",\"start\",\"end\")\n",
    "    queryStat_original$range = as.numeric(queryStat_original[,3])-as.numeric(queryStat_original[,2])+1\n",
    "}\n"
   ]
  },
  {
   "cell_type": "code",
   "execution_count": 102,
   "id": "6019a581",
   "metadata": {},
   "outputs": [
    {
     "data": {
      "image/png": "[encoded data removed]",
      "text/plain": [
       "plot without title"
      ]
     },
     "metadata": {
      "image/png": {
       "height": 480,
       "width": 900
      }
     },
     "output_type": "display_data"
    }
   ],
   "source": [
    "plot(queryStat_original$range,(abs(gff.mrna_original$start-gff.mrna_original$end)+1)/3)"
   ]
  },
  {
   "cell_type": "code",
   "execution_count": 128,
   "id": "478de0dc",
   "metadata": {},
   "outputs": [
    {
     "data": {
      "text/plain": [
       "\n",
       "FALSE  TRUE \n",
       "  625 19014 "
      ]
     },
     "metadata": {},
     "output_type": "display_data"
    }
   ],
   "source": [
    "table(tapply(queryStat_original$range*3-(abs(gff.mrna_original$start-gff.mrna_original$end)+1),as.character(gff.mrna_original$Parent),sum)%%3==0)"
   ]
  },
  {
   "cell_type": "code",
   "execution_count": 135,
   "id": "b2c2e975",
   "metadata": {},
   "outputs": [],
   "source": [
    "badMPID = unique(as.character(gff.mrna_original$Parent))[which(!tapply(queryStat_original$range*3-(abs(gff.mrna_original$start-gff.mrna_original$end)+1),as.character(gff.mrna_original$Parent),sum)%%3==0)]"
   ]
  },
  {
   "cell_type": "code",
   "execution_count": 139,
   "id": "b197a358",
   "metadata": {},
   "outputs": [],
   "source": [
    "badOGID = strsplit2(gff_original[as.character(gff_original$type) == \"mRNA\"&as.character(gff_original$ID)%in%badMPID,]$Target,\" \")[,1]"
   ]
  },
  {
   "cell_type": "code",
   "execution_count": 140,
   "id": "df907bbb",
   "metadata": {},
   "outputs": [
    {
     "data": {
      "text/html": [
       "<style>\n",
       ".list-inline {list-style: none; margin:0; padding: 0}\n",
       ".list-inline>li {display: inline-block}\n",
       ".list-inline>li:not(:last-child)::after {content: \"\\00b7\"; padding: 0 .5ex}\n",
       "</style>\n",
       "<ol class=list-inline><li>'OG0001008'</li><li>'OG0001024'</li><li>'OG0001147'</li><li>'OG0001229'</li><li>'OG0001398'</li><li>'OG0001778'</li><li>'OG0001961'</li><li>'OG0001970'</li><li>'OG0002130'</li><li>'OG0002221'</li><li>'OG0002428'</li><li>'OG0002453'</li><li>'OG0002459'</li><li>'OG0002467'</li><li>'OG0002572'</li><li>'OG0002591'</li><li>'OG0002739'</li><li>'OG0002739'</li><li>'OG0002754'</li><li>'OG0002923'</li><li>'OG0002955'</li><li>'OG0003052'</li><li>'OG0003068'</li><li>'OG0003078'</li><li>'OG0003196'</li><li>'OG0003215'</li><li>'OG0003247'</li><li>'OG0003399'</li><li>'OG0003414'</li><li>'OG0003456'</li><li>'OG0003491'</li><li>'OG0003543'</li><li>'OG0003567'</li><li>'OG0003602'</li><li>'OG0003834'</li><li>'OG0003835'</li><li>'OG0003954'</li><li>'OG0003962'</li><li>'OG0004039'</li><li>'OG0004040'</li><li>'OG0004181'</li><li>'OG0004222'</li><li>'OG0004230'</li><li>'OG0004450'</li><li>'OG0004472'</li><li>'OG0004474'</li><li>'OG0004524'</li><li>'OG0004595'</li><li>'OG0004708'</li><li>'OG0004851'</li><li>'OG0004857'</li><li>'OG0004861'</li><li>'OG0004898'</li><li>'OG0004909'</li><li>'OG0004965'</li><li>'OG0005019'</li><li>'OG0005062'</li><li>'OG0005085'</li><li>'OG0005101'</li><li>'OG0005114'</li><li>'OG0005122'</li><li>'OG0005126'</li><li>'OG0005148'</li><li>'OG0005178'</li><li>'OG0005199'</li><li>'OG0005225'</li><li>'OG0005265'</li><li>'OG0005292'</li><li>'OG0005294'</li><li>'OG0005393'</li><li>'OG0005399'</li><li>'OG0005409'</li><li>'OG0005426'</li><li>'OG0005494'</li><li>'OG0005519'</li><li>'OG0005524'</li><li>'OG0005601'</li><li>'OG0005629'</li><li>'OG0005638'</li><li>'OG0005649'</li><li>'OG0005753'</li><li>'OG0005760'</li><li>'OG0005788'</li><li>'OG0005814'</li><li>'OG0005818'</li><li>'OG0005823'</li><li>'OG0005876'</li><li>'OG0005886'</li><li>'OG0005965'</li><li>'OG0005999'</li><li>'OG0006037'</li><li>'OG0006079'</li><li>'OG0006198'</li><li>'OG0006200'</li><li>'OG0006204'</li><li>'OG0006224'</li><li>'OG0006303'</li><li>'OG0006323'</li><li>'OG0006356'</li><li>'OG0006450'</li><li>'OG0006489'</li><li>'OG0006530'</li><li>'OG0006557'</li><li>'OG0006592'</li><li>'OG0006606'</li><li>'OG0006784'</li><li>'OG0006860'</li><li>'OG0006865'</li><li>'OG0006943'</li><li>'OG0007055'</li><li>'OG0007056'</li><li>'OG0007076'</li><li>'OG0007083'</li><li>'OG0007098'</li><li>'OG0007119'</li><li>'OG0007124'</li><li>'OG0007167'</li><li>'OG0007176'</li><li>'OG0007281'</li><li>'OG0007284'</li><li>'OG0007285'</li><li>'OG0007378'</li><li>'OG0007379'</li><li>'OG0007517'</li><li>'OG0007573'</li><li>'OG0007633'</li><li>'OG0007640'</li><li>'OG0007646'</li><li>'OG0007686'</li><li>'OG0007705'</li><li>'OG0007757'</li><li>'OG0007790'</li><li>'OG0007811'</li><li>'OG0007884'</li><li>'OG0007905'</li><li>'OG0007923'</li><li>'OG0007954'</li><li>'OG0007992'</li><li>'OG0008023'</li><li>'OG0008027'</li><li>'OG0008032'</li><li>'OG0008040'</li><li>'OG0008093'</li><li>'OG0008197'</li><li>'OG0008214'</li><li>'OG0008230'</li><li>'OG0008291'</li><li>'OG0008291'</li><li>'OG0008309'</li><li>'OG0008338'</li><li>'OG0008339'</li><li>'OG0008480'</li><li>'OG0008539'</li><li>'OG0008564'</li><li>'OG0008711'</li><li>'OG0008779'</li><li>'OG0008824'</li><li>'OG0008831'</li><li>'OG0008888'</li><li>'OG0008928'</li><li>'OG0009002'</li><li>'OG0009044'</li><li>'OG0009111'</li><li>'OG0009129'</li><li>'OG0009239'</li><li>'OG0009264'</li><li>'OG0009376'</li><li>'OG0009394'</li><li>'OG0009426'</li><li>'OG0009442'</li><li>'OG0009536'</li><li>'OG0009573'</li><li>'OG0009626'</li><li>'OG0009709'</li><li>'OG0009740'</li><li>'OG0009744'</li><li>'OG0009874'</li><li>'OG0009954'</li><li>'OG0009960'</li><li>'OG0009977'</li><li>'OG0009978'</li><li>'OG0010000'</li><li>'OG0010000'</li><li>'OG0010001'</li><li>'OG0010022'</li><li>'OG0010023'</li><li>'OG0010025'</li><li>'OG0010051'</li><li>'OG0010118'</li><li>'OG0010160'</li><li>'OG0010191'</li><li>'OG0010213'</li><li>'OG0010217'</li><li>'OG0010218'</li><li>'OG0010266'</li><li>'OG0010293'</li><li>'OG0010301'</li><li>'OG0010303'</li><li>'OG0010384'</li><li>'OG0010480'</li><li>⋯</li><li>'OG0018399'</li><li>'OG0018581'</li><li>'OG0018583'</li><li>'OG0018588'</li><li>'OG0018593'</li><li>'OG0018662'</li><li>'OG0018691'</li><li>'OG0018692'</li><li>'OG0018700'</li><li>'OG0018701'</li><li>'OG0018740'</li><li>'OG0018745'</li><li>'OG0018768'</li><li>'OG0018888'</li><li>'OG0018890'</li><li>'OG0018894'</li><li>'OG0018904'</li><li>'OG0018917'</li><li>'OG0018927'</li><li>'OG0018938'</li><li>'OG0019021'</li><li>'OG0019108'</li><li>'OG0019118'</li><li>'OG0019130'</li><li>'OG0019180'</li><li>'OG0019304'</li><li>'OG0019315'</li><li>'OG0019341'</li><li>'OG0019355'</li><li>'OG0019391'</li><li>'OG0019394'</li><li>'OG0019459'</li><li>'OG0019464'</li><li>'OG0019483'</li><li>'OG0019530'</li><li>'OG0019555'</li><li>'OG0019578'</li><li>'OG0019578'</li><li>'OG0019599'</li><li>'OG0019619'</li><li>'OG0019651'</li><li>'OG0019678'</li><li>'OG0019771'</li><li>'OG0019773'</li><li>'OG0019786'</li><li>'OG0019788'</li><li>'OG0019790'</li><li>'OG0019815'</li><li>'OG0019820'</li><li>'OG0019822'</li><li>'OG0019840'</li><li>'OG0019928'</li><li>'OG0019944'</li><li>'OG0019952'</li><li>'OG0020049'</li><li>'OG0020053'</li><li>'OG0020054'</li><li>'OG0020070'</li><li>'OG0020073'</li><li>'OG0020128'</li><li>'OG0020174'</li><li>'OG0020196'</li><li>'OG0020232'</li><li>'OG0020266'</li><li>'OG0020294'</li><li>'OG0020332'</li><li>'OG0020379'</li><li>'OG0020388'</li><li>'OG0020397'</li><li>'OG0020473'</li><li>'OG0020481'</li><li>'OG0020509'</li><li>'OG0020532'</li><li>'OG0020545'</li><li>'OG0020580'</li><li>'OG0020618'</li><li>'OG0020631'</li><li>'OG0020741'</li><li>'OG0020748'</li><li>'OG0020754'</li><li>'OG0020756'</li><li>'OG0020801'</li><li>'OG0020801'</li><li>'OG0020870'</li><li>'OG0020873'</li><li>'OG0020896'</li><li>'OG0020913'</li><li>'OG0020922'</li><li>'OG0020925'</li><li>'OG0020944'</li><li>'OG0021024'</li><li>'OG0021088'</li><li>'OG0021183'</li><li>'OG0021184'</li><li>'OG0021191'</li><li>'OG0021278'</li><li>'OG0021354'</li><li>'OG0021355'</li><li>'OG0021361'</li><li>'OG0021493'</li><li>'OG0021534'</li><li>'OG0021556'</li><li>'OG0021556'</li><li>'OG0021633'</li><li>'OG0021786'</li><li>'OG0021791'</li><li>'OG0021791'</li><li>'OG0021951'</li><li>'OG0021951'</li><li>'OG0021958'</li><li>'OG0021977'</li><li>'OG0022042'</li><li>'OG0022167'</li><li>'OG0022172'</li><li>'OG0022188'</li><li>'OG0022204'</li><li>'OG0022223'</li><li>'OG0022232'</li><li>'OG0022388'</li><li>'OG0022405'</li><li>'OG0022459'</li><li>'OG0022464'</li><li>'OG0022679'</li><li>'OG0022682'</li><li>'OG0022685'</li><li>'OG0022747'</li><li>'OG0022923'</li><li>'OG0022975'</li><li>'OG0023010'</li><li>'OG0023096'</li><li>'OG0023108'</li><li>'OG0023113'</li><li>'OG0023115'</li><li>'OG0023344'</li><li>'OG0023366'</li><li>'OG0023400'</li><li>'OG0023423'</li><li>'OG0023430'</li><li>'OG0023606'</li><li>'OG0023697'</li><li>'OG0023766'</li><li>'OG0023782'</li><li>'OG0023813'</li><li>'OG0023813'</li><li>'OG0023824'</li><li>'OG0023859'</li><li>'OG0023930'</li><li>'OG0023953'</li><li>'OG0024031'</li><li>'OG0024154'</li><li>'OG0024192'</li><li>'OG0024203'</li><li>'OG0024228'</li><li>'OG0024309'</li><li>'OG0024420'</li><li>'OG0024705'</li><li>'OG0024709'</li><li>'OG0024786'</li><li>'OG0025331'</li><li>'OG0025352'</li><li>'OG0025359'</li><li>'OG0025443'</li><li>'OG0025598'</li><li>'OG0025806'</li><li>'OG0025862'</li><li>'OG0025905'</li><li>'OG0025910'</li><li>'OG0025987'</li><li>'OG0026028'</li><li>'OG0026058'</li><li>'OG0026197'</li><li>'OG0026588'</li><li>'OG0026607'</li><li>'OG0026642'</li><li>'OG0026651'</li><li>'OG0026691'</li><li>'OG0026775'</li><li>'OG0026788'</li><li>'OG0026932'</li><li>'OG0027119'</li><li>'OG0027754'</li><li>'OG0027800'</li><li>'OG0028060'</li><li>'OG0028533'</li><li>'OG0028620'</li><li>'OG0028641'</li><li>'OG0028810'</li><li>'OG0028819'</li><li>'OG0028839'</li><li>'OG0028954'</li><li>'OG0029049'</li><li>'OG0030075'</li><li>'OG0030091'</li><li>'OG0030427'</li><li>'OG0030613'</li><li>'OG0031415'</li><li>'OG0031579'</li><li>'OG0032718'</li><li>'OG0033805'</li><li>'OG0034121'</li></ol>\n"
      ],
      "text/latex": [
       "\\begin{enumerate*}\n",
       "\\item 'OG0001008'\n",
       "\\item 'OG0001024'\n",
       "\\item 'OG0001147'\n",
       "\\item 'OG0001229'\n",
       "\\item 'OG0001398'\n",
       "\\item 'OG0001778'\n",
       "\\item 'OG0001961'\n",
       "\\item 'OG0001970'\n",
       "\\item 'OG0002130'\n",
       "\\item 'OG0002221'\n",
       "\\item 'OG0002428'\n",
       "\\item 'OG0002453'\n",
       "\\item 'OG0002459'\n",
       "\\item 'OG0002467'\n",
       "\\item 'OG0002572'\n",
       "\\item 'OG0002591'\n",
       "\\item 'OG0002739'\n",
       "\\item 'OG0002739'\n",
       "\\item 'OG0002754'\n",
       "\\item 'OG0002923'\n",
       "\\item 'OG0002955'\n",
       "\\item 'OG0003052'\n",
       "\\item 'OG0003068'\n",
       "\\item 'OG0003078'\n",
       "\\item 'OG0003196'\n",
       "\\item 'OG0003215'\n",
       "\\item 'OG0003247'\n",
       "\\item 'OG0003399'\n",
       "\\item 'OG0003414'\n",
       "\\item 'OG0003456'\n",
       "\\item 'OG0003491'\n",
       "\\item 'OG0003543'\n",
       "\\item 'OG0003567'\n",
       "\\item 'OG0003602'\n",
       "\\item 'OG0003834'\n",
       "\\item 'OG0003835'\n",
       "\\item 'OG0003954'\n",
       "\\item 'OG0003962'\n",
       "\\item 'OG0004039'\n",
       "\\item 'OG0004040'\n",
       "\\item 'OG0004181'\n",
       "\\item 'OG0004222'\n",
       "\\item 'OG0004230'\n",
       "\\item 'OG0004450'\n",
       "\\item 'OG0004472'\n",
       "\\item 'OG0004474'\n",
       "\\item 'OG0004524'\n",
       "\\item 'OG0004595'\n",
       "\\item 'OG0004708'\n",
       "\\item 'OG0004851'\n",
       "\\item 'OG0004857'\n",
       "\\item 'OG0004861'\n",
       "\\item 'OG0004898'\n",
       "\\item 'OG0004909'\n",
       "\\item 'OG0004965'\n",
       "\\item 'OG0005019'\n",
       "\\item 'OG0005062'\n",
       "\\item 'OG0005085'\n",
       "\\item 'OG0005101'\n",
       "\\item 'OG0005114'\n",
       "\\item 'OG0005122'\n",
       "\\item 'OG0005126'\n",
       "\\item 'OG0005148'\n",
       "\\item 'OG0005178'\n",
       "\\item 'OG0005199'\n",
       "\\item 'OG0005225'\n",
       "\\item 'OG0005265'\n",
       "\\item 'OG0005292'\n",
       "\\item 'OG0005294'\n",
       "\\item 'OG0005393'\n",
       "\\item 'OG0005399'\n",
       "\\item 'OG0005409'\n",
       "\\item 'OG0005426'\n",
       "\\item 'OG0005494'\n",
       "\\item 'OG0005519'\n",
       "\\item 'OG0005524'\n",
       "\\item 'OG0005601'\n",
       "\\item 'OG0005629'\n",
       "\\item 'OG0005638'\n",
       "\\item 'OG0005649'\n",
       "\\item 'OG0005753'\n",
       "\\item 'OG0005760'\n",
       "\\item 'OG0005788'\n",
       "\\item 'OG0005814'\n",
       "\\item 'OG0005818'\n",
       "\\item 'OG0005823'\n",
       "\\item 'OG0005876'\n",
       "\\item 'OG0005886'\n",
       "\\item 'OG0005965'\n",
       "\\item 'OG0005999'\n",
       "\\item 'OG0006037'\n",
       "\\item 'OG0006079'\n",
       "\\item 'OG0006198'\n",
       "\\item 'OG0006200'\n",
       "\\item 'OG0006204'\n",
       "\\item 'OG0006224'\n",
       "\\item 'OG0006303'\n",
       "\\item 'OG0006323'\n",
       "\\item 'OG0006356'\n",
       "\\item 'OG0006450'\n",
       "\\item 'OG0006489'\n",
       "\\item 'OG0006530'\n",
       "\\item 'OG0006557'\n",
       "\\item 'OG0006592'\n",
       "\\item 'OG0006606'\n",
       "\\item 'OG0006784'\n",
       "\\item 'OG0006860'\n",
       "\\item 'OG0006865'\n",
       "\\item 'OG0006943'\n",
       "\\item 'OG0007055'\n",
       "\\item 'OG0007056'\n",
       "\\item 'OG0007076'\n",
       "\\item 'OG0007083'\n",
       "\\item 'OG0007098'\n",
       "\\item 'OG0007119'\n",
       "\\item 'OG0007124'\n",
       "\\item 'OG0007167'\n",
       "\\item 'OG0007176'\n",
       "\\item 'OG0007281'\n",
       "\\item 'OG0007284'\n",
       "\\item 'OG0007285'\n",
       "\\item 'OG0007378'\n",
       "\\item 'OG0007379'\n",
       "\\item 'OG0007517'\n",
       "\\item 'OG0007573'\n",
       "\\item 'OG0007633'\n",
       "\\item 'OG0007640'\n",
       "\\item 'OG0007646'\n",
       "\\item 'OG0007686'\n",
       "\\item 'OG0007705'\n",
       "\\item 'OG0007757'\n",
       "\\item 'OG0007790'\n",
       "\\item 'OG0007811'\n",
       "\\item 'OG0007884'\n",
       "\\item 'OG0007905'\n",
       "\\item 'OG0007923'\n",
       "\\item 'OG0007954'\n",
       "\\item 'OG0007992'\n",
       "\\item 'OG0008023'\n",
       "\\item 'OG0008027'\n",
       "\\item 'OG0008032'\n",
       "\\item 'OG0008040'\n",
       "\\item 'OG0008093'\n",
       "\\item 'OG0008197'\n",
       "\\item 'OG0008214'\n",
       "\\item 'OG0008230'\n",
       "\\item 'OG0008291'\n",
       "\\item 'OG0008291'\n",
       "\\item 'OG0008309'\n",
       "\\item 'OG0008338'\n",
       "\\item 'OG0008339'\n",
       "\\item 'OG0008480'\n",
       "\\item 'OG0008539'\n",
       "\\item 'OG0008564'\n",
       "\\item 'OG0008711'\n",
       "\\item 'OG0008779'\n",
       "\\item 'OG0008824'\n",
       "\\item 'OG0008831'\n",
       "\\item 'OG0008888'\n",
       "\\item 'OG0008928'\n",
       "\\item 'OG0009002'\n",
       "\\item 'OG0009044'\n",
       "\\item 'OG0009111'\n",
       "\\item 'OG0009129'\n",
       "\\item 'OG0009239'\n",
       "\\item 'OG0009264'\n",
       "\\item 'OG0009376'\n",
       "\\item 'OG0009394'\n",
       "\\item 'OG0009426'\n",
       "\\item 'OG0009442'\n",
       "\\item 'OG0009536'\n",
       "\\item 'OG0009573'\n",
       "\\item 'OG0009626'\n",
       "\\item 'OG0009709'\n",
       "\\item 'OG0009740'\n",
       "\\item 'OG0009744'\n",
       "\\item 'OG0009874'\n",
       "\\item 'OG0009954'\n",
       "\\item 'OG0009960'\n",
       "\\item 'OG0009977'\n",
       "\\item 'OG0009978'\n",
       "\\item 'OG0010000'\n",
       "\\item 'OG0010000'\n",
       "\\item 'OG0010001'\n",
       "\\item 'OG0010022'\n",
       "\\item 'OG0010023'\n",
       "\\item 'OG0010025'\n",
       "\\item 'OG0010051'\n",
       "\\item 'OG0010118'\n",
       "\\item 'OG0010160'\n",
       "\\item 'OG0010191'\n",
       "\\item 'OG0010213'\n",
       "\\item 'OG0010217'\n",
       "\\item 'OG0010218'\n",
       "\\item 'OG0010266'\n",
       "\\item 'OG0010293'\n",
       "\\item 'OG0010301'\n",
       "\\item 'OG0010303'\n",
       "\\item 'OG0010384'\n",
       "\\item 'OG0010480'\n",
       "\\item ⋯\n",
       "\\item 'OG0018399'\n",
       "\\item 'OG0018581'\n",
       "\\item 'OG0018583'\n",
       "\\item 'OG0018588'\n",
       "\\item 'OG0018593'\n",
       "\\item 'OG0018662'\n",
       "\\item 'OG0018691'\n",
       "\\item 'OG0018692'\n",
       "\\item 'OG0018700'\n",
       "\\item 'OG0018701'\n",
       "\\item 'OG0018740'\n",
       "\\item 'OG0018745'\n",
       "\\item 'OG0018768'\n",
       "\\item 'OG0018888'\n",
       "\\item 'OG0018890'\n",
       "\\item 'OG0018894'\n",
       "\\item 'OG0018904'\n",
       "\\item 'OG0018917'\n",
       "\\item 'OG0018927'\n",
       "\\item 'OG0018938'\n",
       "\\item 'OG0019021'\n",
       "\\item 'OG0019108'\n",
       "\\item 'OG0019118'\n",
       "\\item 'OG0019130'\n",
       "\\item 'OG0019180'\n",
       "\\item 'OG0019304'\n",
       "\\item 'OG0019315'\n",
       "\\item 'OG0019341'\n",
       "\\item 'OG0019355'\n",
       "\\item 'OG0019391'\n",
       "\\item 'OG0019394'\n",
       "\\item 'OG0019459'\n",
       "\\item 'OG0019464'\n",
       "\\item 'OG0019483'\n",
       "\\item 'OG0019530'\n",
       "\\item 'OG0019555'\n",
       "\\item 'OG0019578'\n",
       "\\item 'OG0019578'\n",
       "\\item 'OG0019599'\n",
       "\\item 'OG0019619'\n",
       "\\item 'OG0019651'\n",
       "\\item 'OG0019678'\n",
       "\\item 'OG0019771'\n",
       "\\item 'OG0019773'\n",
       "\\item 'OG0019786'\n",
       "\\item 'OG0019788'\n",
       "\\item 'OG0019790'\n",
       "\\item 'OG0019815'\n",
       "\\item 'OG0019820'\n",
       "\\item 'OG0019822'\n",
       "\\item 'OG0019840'\n",
       "\\item 'OG0019928'\n",
       "\\item 'OG0019944'\n",
       "\\item 'OG0019952'\n",
       "\\item 'OG0020049'\n",
       "\\item 'OG0020053'\n",
       "\\item 'OG0020054'\n",
       "\\item 'OG0020070'\n",
       "\\item 'OG0020073'\n",
       "\\item 'OG0020128'\n",
       "\\item 'OG0020174'\n",
       "\\item 'OG0020196'\n",
       "\\item 'OG0020232'\n",
       "\\item 'OG0020266'\n",
       "\\item 'OG0020294'\n",
       "\\item 'OG0020332'\n",
       "\\item 'OG0020379'\n",
       "\\item 'OG0020388'\n",
       "\\item 'OG0020397'\n",
       "\\item 'OG0020473'\n",
       "\\item 'OG0020481'\n",
       "\\item 'OG0020509'\n",
       "\\item 'OG0020532'\n",
       "\\item 'OG0020545'\n",
       "\\item 'OG0020580'\n",
       "\\item 'OG0020618'\n",
       "\\item 'OG0020631'\n",
       "\\item 'OG0020741'\n",
       "\\item 'OG0020748'\n",
       "\\item 'OG0020754'\n",
       "\\item 'OG0020756'\n",
       "\\item 'OG0020801'\n",
       "\\item 'OG0020801'\n",
       "\\item 'OG0020870'\n",
       "\\item 'OG0020873'\n",
       "\\item 'OG0020896'\n",
       "\\item 'OG0020913'\n",
       "\\item 'OG0020922'\n",
       "\\item 'OG0020925'\n",
       "\\item 'OG0020944'\n",
       "\\item 'OG0021024'\n",
       "\\item 'OG0021088'\n",
       "\\item 'OG0021183'\n",
       "\\item 'OG0021184'\n",
       "\\item 'OG0021191'\n",
       "\\item 'OG0021278'\n",
       "\\item 'OG0021354'\n",
       "\\item 'OG0021355'\n",
       "\\item 'OG0021361'\n",
       "\\item 'OG0021493'\n",
       "\\item 'OG0021534'\n",
       "\\item 'OG0021556'\n",
       "\\item 'OG0021556'\n",
       "\\item 'OG0021633'\n",
       "\\item 'OG0021786'\n",
       "\\item 'OG0021791'\n",
       "\\item 'OG0021791'\n",
       "\\item 'OG0021951'\n",
       "\\item 'OG0021951'\n",
       "\\item 'OG0021958'\n",
       "\\item 'OG0021977'\n",
       "\\item 'OG0022042'\n",
       "\\item 'OG0022167'\n",
       "\\item 'OG0022172'\n",
       "\\item 'OG0022188'\n",
       "\\item 'OG0022204'\n",
       "\\item 'OG0022223'\n",
       "\\item 'OG0022232'\n",
       "\\item 'OG0022388'\n",
       "\\item 'OG0022405'\n",
       "\\item 'OG0022459'\n",
       "\\item 'OG0022464'\n",
       "\\item 'OG0022679'\n",
       "\\item 'OG0022682'\n",
       "\\item 'OG0022685'\n",
       "\\item 'OG0022747'\n",
       "\\item 'OG0022923'\n",
       "\\item 'OG0022975'\n",
       "\\item 'OG0023010'\n",
       "\\item 'OG0023096'\n",
       "\\item 'OG0023108'\n",
       "\\item 'OG0023113'\n",
       "\\item 'OG0023115'\n",
       "\\item 'OG0023344'\n",
       "\\item 'OG0023366'\n",
       "\\item 'OG0023400'\n",
       "\\item 'OG0023423'\n",
       "\\item 'OG0023430'\n",
       "\\item 'OG0023606'\n",
       "\\item 'OG0023697'\n",
       "\\item 'OG0023766'\n",
       "\\item 'OG0023782'\n",
       "\\item 'OG0023813'\n",
       "\\item 'OG0023813'\n",
       "\\item 'OG0023824'\n",
       "\\item 'OG0023859'\n",
       "\\item 'OG0023930'\n",
       "\\item 'OG0023953'\n",
       "\\item 'OG0024031'\n",
       "\\item 'OG0024154'\n",
       "\\item 'OG0024192'\n",
       "\\item 'OG0024203'\n",
       "\\item 'OG0024228'\n",
       "\\item 'OG0024309'\n",
       "\\item 'OG0024420'\n",
       "\\item 'OG0024705'\n",
       "\\item 'OG0024709'\n",
       "\\item 'OG0024786'\n",
       "\\item 'OG0025331'\n",
       "\\item 'OG0025352'\n",
       "\\item 'OG0025359'\n",
       "\\item 'OG0025443'\n",
       "\\item 'OG0025598'\n",
       "\\item 'OG0025806'\n",
       "\\item 'OG0025862'\n",
       "\\item 'OG0025905'\n",
       "\\item 'OG0025910'\n",
       "\\item 'OG0025987'\n",
       "\\item 'OG0026028'\n",
       "\\item 'OG0026058'\n",
       "\\item 'OG0026197'\n",
       "\\item 'OG0026588'\n",
       "\\item 'OG0026607'\n",
       "\\item 'OG0026642'\n",
       "\\item 'OG0026651'\n",
       "\\item 'OG0026691'\n",
       "\\item 'OG0026775'\n",
       "\\item 'OG0026788'\n",
       "\\item 'OG0026932'\n",
       "\\item 'OG0027119'\n",
       "\\item 'OG0027754'\n",
       "\\item 'OG0027800'\n",
       "\\item 'OG0028060'\n",
       "\\item 'OG0028533'\n",
       "\\item 'OG0028620'\n",
       "\\item 'OG0028641'\n",
       "\\item 'OG0028810'\n",
       "\\item 'OG0028819'\n",
       "\\item 'OG0028839'\n",
       "\\item 'OG0028954'\n",
       "\\item 'OG0029049'\n",
       "\\item 'OG0030075'\n",
       "\\item 'OG0030091'\n",
       "\\item 'OG0030427'\n",
       "\\item 'OG0030613'\n",
       "\\item 'OG0031415'\n",
       "\\item 'OG0031579'\n",
       "\\item 'OG0032718'\n",
       "\\item 'OG0033805'\n",
       "\\item 'OG0034121'\n",
       "\\end{enumerate*}\n"
      ],
      "text/markdown": [
       "1. 'OG0001008'\n",
       "2. 'OG0001024'\n",
       "3. 'OG0001147'\n",
       "4. 'OG0001229'\n",
       "5. 'OG0001398'\n",
       "6. 'OG0001778'\n",
       "7. 'OG0001961'\n",
       "8. 'OG0001970'\n",
       "9. 'OG0002130'\n",
       "10. 'OG0002221'\n",
       "11. 'OG0002428'\n",
       "12. 'OG0002453'\n",
       "13. 'OG0002459'\n",
       "14. 'OG0002467'\n",
       "15. 'OG0002572'\n",
       "16. 'OG0002591'\n",
       "17. 'OG0002739'\n",
       "18. 'OG0002739'\n",
       "19. 'OG0002754'\n",
       "20. 'OG0002923'\n",
       "21. 'OG0002955'\n",
       "22. 'OG0003052'\n",
       "23. 'OG0003068'\n",
       "24. 'OG0003078'\n",
       "25. 'OG0003196'\n",
       "26. 'OG0003215'\n",
       "27. 'OG0003247'\n",
       "28. 'OG0003399'\n",
       "29. 'OG0003414'\n",
       "30. 'OG0003456'\n",
       "31. 'OG0003491'\n",
       "32. 'OG0003543'\n",
       "33. 'OG0003567'\n",
       "34. 'OG0003602'\n",
       "35. 'OG0003834'\n",
       "36. 'OG0003835'\n",
       "37. 'OG0003954'\n",
       "38. 'OG0003962'\n",
       "39. 'OG0004039'\n",
       "40. 'OG0004040'\n",
       "41. 'OG0004181'\n",
       "42. 'OG0004222'\n",
       "43. 'OG0004230'\n",
       "44. 'OG0004450'\n",
       "45. 'OG0004472'\n",
       "46. 'OG0004474'\n",
       "47. 'OG0004524'\n",
       "48. 'OG0004595'\n",
       "49. 'OG0004708'\n",
       "50. 'OG0004851'\n",
       "51. 'OG0004857'\n",
       "52. 'OG0004861'\n",
       "53. 'OG0004898'\n",
       "54. 'OG0004909'\n",
       "55. 'OG0004965'\n",
       "56. 'OG0005019'\n",
       "57. 'OG0005062'\n",
       "58. 'OG0005085'\n",
       "59. 'OG0005101'\n",
       "60. 'OG0005114'\n",
       "61. 'OG0005122'\n",
       "62. 'OG0005126'\n",
       "63. 'OG0005148'\n",
       "64. 'OG0005178'\n",
       "65. 'OG0005199'\n",
       "66. 'OG0005225'\n",
       "67. 'OG0005265'\n",
       "68. 'OG0005292'\n",
       "69. 'OG0005294'\n",
       "70. 'OG0005393'\n",
       "71. 'OG0005399'\n",
       "72. 'OG0005409'\n",
       "73. 'OG0005426'\n",
       "74. 'OG0005494'\n",
       "75. 'OG0005519'\n",
       "76. 'OG0005524'\n",
       "77. 'OG0005601'\n",
       "78. 'OG0005629'\n",
       "79. 'OG0005638'\n",
       "80. 'OG0005649'\n",
       "81. 'OG0005753'\n",
       "82. 'OG0005760'\n",
       "83. 'OG0005788'\n",
       "84. 'OG0005814'\n",
       "85. 'OG0005818'\n",
       "86. 'OG0005823'\n",
       "87. 'OG0005876'\n",
       "88. 'OG0005886'\n",
       "89. 'OG0005965'\n",
       "90. 'OG0005999'\n",
       "91. 'OG0006037'\n",
       "92. 'OG0006079'\n",
       "93. 'OG0006198'\n",
       "94. 'OG0006200'\n",
       "95. 'OG0006204'\n",
       "96. 'OG0006224'\n",
       "97. 'OG0006303'\n",
       "98. 'OG0006323'\n",
       "99. 'OG0006356'\n",
       "100. 'OG0006450'\n",
       "101. 'OG0006489'\n",
       "102. 'OG0006530'\n",
       "103. 'OG0006557'\n",
       "104. 'OG0006592'\n",
       "105. 'OG0006606'\n",
       "106. 'OG0006784'\n",
       "107. 'OG0006860'\n",
       "108. 'OG0006865'\n",
       "109. 'OG0006943'\n",
       "110. 'OG0007055'\n",
       "111. 'OG0007056'\n",
       "112. 'OG0007076'\n",
       "113. 'OG0007083'\n",
       "114. 'OG0007098'\n",
       "115. 'OG0007119'\n",
       "116. 'OG0007124'\n",
       "117. 'OG0007167'\n",
       "118. 'OG0007176'\n",
       "119. 'OG0007281'\n",
       "120. 'OG0007284'\n",
       "121. 'OG0007285'\n",
       "122. 'OG0007378'\n",
       "123. 'OG0007379'\n",
       "124. 'OG0007517'\n",
       "125. 'OG0007573'\n",
       "126. 'OG0007633'\n",
       "127. 'OG0007640'\n",
       "128. 'OG0007646'\n",
       "129. 'OG0007686'\n",
       "130. 'OG0007705'\n",
       "131. 'OG0007757'\n",
       "132. 'OG0007790'\n",
       "133. 'OG0007811'\n",
       "134. 'OG0007884'\n",
       "135. 'OG0007905'\n",
       "136. 'OG0007923'\n",
       "137. 'OG0007954'\n",
       "138. 'OG0007992'\n",
       "139. 'OG0008023'\n",
       "140. 'OG0008027'\n",
       "141. 'OG0008032'\n",
       "142. 'OG0008040'\n",
       "143. 'OG0008093'\n",
       "144. 'OG0008197'\n",
       "145. 'OG0008214'\n",
       "146. 'OG0008230'\n",
       "147. 'OG0008291'\n",
       "148. 'OG0008291'\n",
       "149. 'OG0008309'\n",
       "150. 'OG0008338'\n",
       "151. 'OG0008339'\n",
       "152. 'OG0008480'\n",
       "153. 'OG0008539'\n",
       "154. 'OG0008564'\n",
       "155. 'OG0008711'\n",
       "156. 'OG0008779'\n",
       "157. 'OG0008824'\n",
       "158. 'OG0008831'\n",
       "159. 'OG0008888'\n",
       "160. 'OG0008928'\n",
       "161. 'OG0009002'\n",
       "162. 'OG0009044'\n",
       "163. 'OG0009111'\n",
       "164. 'OG0009129'\n",
       "165. 'OG0009239'\n",
       "166. 'OG0009264'\n",
       "167. 'OG0009376'\n",
       "168. 'OG0009394'\n",
       "169. 'OG0009426'\n",
       "170. 'OG0009442'\n",
       "171. 'OG0009536'\n",
       "172. 'OG0009573'\n",
       "173. 'OG0009626'\n",
       "174. 'OG0009709'\n",
       "175. 'OG0009740'\n",
       "176. 'OG0009744'\n",
       "177. 'OG0009874'\n",
       "178. 'OG0009954'\n",
       "179. 'OG0009960'\n",
       "180. 'OG0009977'\n",
       "181. 'OG0009978'\n",
       "182. 'OG0010000'\n",
       "183. 'OG0010000'\n",
       "184. 'OG0010001'\n",
       "185. 'OG0010022'\n",
       "186. 'OG0010023'\n",
       "187. 'OG0010025'\n",
       "188. 'OG0010051'\n",
       "189. 'OG0010118'\n",
       "190. 'OG0010160'\n",
       "191. 'OG0010191'\n",
       "192. 'OG0010213'\n",
       "193. 'OG0010217'\n",
       "194. 'OG0010218'\n",
       "195. 'OG0010266'\n",
       "196. 'OG0010293'\n",
       "197. 'OG0010301'\n",
       "198. 'OG0010303'\n",
       "199. 'OG0010384'\n",
       "200. 'OG0010480'\n",
       "201. ⋯\n",
       "202. 'OG0018399'\n",
       "203. 'OG0018581'\n",
       "204. 'OG0018583'\n",
       "205. 'OG0018588'\n",
       "206. 'OG0018593'\n",
       "207. 'OG0018662'\n",
       "208. 'OG0018691'\n",
       "209. 'OG0018692'\n",
       "210. 'OG0018700'\n",
       "211. 'OG0018701'\n",
       "212. 'OG0018740'\n",
       "213. 'OG0018745'\n",
       "214. 'OG0018768'\n",
       "215. 'OG0018888'\n",
       "216. 'OG0018890'\n",
       "217. 'OG0018894'\n",
       "218. 'OG0018904'\n",
       "219. 'OG0018917'\n",
       "220. 'OG0018927'\n",
       "221. 'OG0018938'\n",
       "222. 'OG0019021'\n",
       "223. 'OG0019108'\n",
       "224. 'OG0019118'\n",
       "225. 'OG0019130'\n",
       "226. 'OG0019180'\n",
       "227. 'OG0019304'\n",
       "228. 'OG0019315'\n",
       "229. 'OG0019341'\n",
       "230. 'OG0019355'\n",
       "231. 'OG0019391'\n",
       "232. 'OG0019394'\n",
       "233. 'OG0019459'\n",
       "234. 'OG0019464'\n",
       "235. 'OG0019483'\n",
       "236. 'OG0019530'\n",
       "237. 'OG0019555'\n",
       "238. 'OG0019578'\n",
       "239. 'OG0019578'\n",
       "240. 'OG0019599'\n",
       "241. 'OG0019619'\n",
       "242. 'OG0019651'\n",
       "243. 'OG0019678'\n",
       "244. 'OG0019771'\n",
       "245. 'OG0019773'\n",
       "246. 'OG0019786'\n",
       "247. 'OG0019788'\n",
       "248. 'OG0019790'\n",
       "249. 'OG0019815'\n",
       "250. 'OG0019820'\n",
       "251. 'OG0019822'\n",
       "252. 'OG0019840'\n",
       "253. 'OG0019928'\n",
       "254. 'OG0019944'\n",
       "255. 'OG0019952'\n",
       "256. 'OG0020049'\n",
       "257. 'OG0020053'\n",
       "258. 'OG0020054'\n",
       "259. 'OG0020070'\n",
       "260. 'OG0020073'\n",
       "261. 'OG0020128'\n",
       "262. 'OG0020174'\n",
       "263. 'OG0020196'\n",
       "264. 'OG0020232'\n",
       "265. 'OG0020266'\n",
       "266. 'OG0020294'\n",
       "267. 'OG0020332'\n",
       "268. 'OG0020379'\n",
       "269. 'OG0020388'\n",
       "270. 'OG0020397'\n",
       "271. 'OG0020473'\n",
       "272. 'OG0020481'\n",
       "273. 'OG0020509'\n",
       "274. 'OG0020532'\n",
       "275. 'OG0020545'\n",
       "276. 'OG0020580'\n",
       "277. 'OG0020618'\n",
       "278. 'OG0020631'\n",
       "279. 'OG0020741'\n",
       "280. 'OG0020748'\n",
       "281. 'OG0020754'\n",
       "282. 'OG0020756'\n",
       "283. 'OG0020801'\n",
       "284. 'OG0020801'\n",
       "285. 'OG0020870'\n",
       "286. 'OG0020873'\n",
       "287. 'OG0020896'\n",
       "288. 'OG0020913'\n",
       "289. 'OG0020922'\n",
       "290. 'OG0020925'\n",
       "291. 'OG0020944'\n",
       "292. 'OG0021024'\n",
       "293. 'OG0021088'\n",
       "294. 'OG0021183'\n",
       "295. 'OG0021184'\n",
       "296. 'OG0021191'\n",
       "297. 'OG0021278'\n",
       "298. 'OG0021354'\n",
       "299. 'OG0021355'\n",
       "300. 'OG0021361'\n",
       "301. 'OG0021493'\n",
       "302. 'OG0021534'\n",
       "303. 'OG0021556'\n",
       "304. 'OG0021556'\n",
       "305. 'OG0021633'\n",
       "306. 'OG0021786'\n",
       "307. 'OG0021791'\n",
       "308. 'OG0021791'\n",
       "309. 'OG0021951'\n",
       "310. 'OG0021951'\n",
       "311. 'OG0021958'\n",
       "312. 'OG0021977'\n",
       "313. 'OG0022042'\n",
       "314. 'OG0022167'\n",
       "315. 'OG0022172'\n",
       "316. 'OG0022188'\n",
       "317. 'OG0022204'\n",
       "318. 'OG0022223'\n",
       "319. 'OG0022232'\n",
       "320. 'OG0022388'\n",
       "321. 'OG0022405'\n",
       "322. 'OG0022459'\n",
       "323. 'OG0022464'\n",
       "324. 'OG0022679'\n",
       "325. 'OG0022682'\n",
       "326. 'OG0022685'\n",
       "327. 'OG0022747'\n",
       "328. 'OG0022923'\n",
       "329. 'OG0022975'\n",
       "330. 'OG0023010'\n",
       "331. 'OG0023096'\n",
       "332. 'OG0023108'\n",
       "333. 'OG0023113'\n",
       "334. 'OG0023115'\n",
       "335. 'OG0023344'\n",
       "336. 'OG0023366'\n",
       "337. 'OG0023400'\n",
       "338. 'OG0023423'\n",
       "339. 'OG0023430'\n",
       "340. 'OG0023606'\n",
       "341. 'OG0023697'\n",
       "342. 'OG0023766'\n",
       "343. 'OG0023782'\n",
       "344. 'OG0023813'\n",
       "345. 'OG0023813'\n",
       "346. 'OG0023824'\n",
       "347. 'OG0023859'\n",
       "348. 'OG0023930'\n",
       "349. 'OG0023953'\n",
       "350. 'OG0024031'\n",
       "351. 'OG0024154'\n",
       "352. 'OG0024192'\n",
       "353. 'OG0024203'\n",
       "354. 'OG0024228'\n",
       "355. 'OG0024309'\n",
       "356. 'OG0024420'\n",
       "357. 'OG0024705'\n",
       "358. 'OG0024709'\n",
       "359. 'OG0024786'\n",
       "360. 'OG0025331'\n",
       "361. 'OG0025352'\n",
       "362. 'OG0025359'\n",
       "363. 'OG0025443'\n",
       "364. 'OG0025598'\n",
       "365. 'OG0025806'\n",
       "366. 'OG0025862'\n",
       "367. 'OG0025905'\n",
       "368. 'OG0025910'\n",
       "369. 'OG0025987'\n",
       "370. 'OG0026028'\n",
       "371. 'OG0026058'\n",
       "372. 'OG0026197'\n",
       "373. 'OG0026588'\n",
       "374. 'OG0026607'\n",
       "375. 'OG0026642'\n",
       "376. 'OG0026651'\n",
       "377. 'OG0026691'\n",
       "378. 'OG0026775'\n",
       "379. 'OG0026788'\n",
       "380. 'OG0026932'\n",
       "381. 'OG0027119'\n",
       "382. 'OG0027754'\n",
       "383. 'OG0027800'\n",
       "384. 'OG0028060'\n",
       "385. 'OG0028533'\n",
       "386. 'OG0028620'\n",
       "387. 'OG0028641'\n",
       "388. 'OG0028810'\n",
       "389. 'OG0028819'\n",
       "390. 'OG0028839'\n",
       "391. 'OG0028954'\n",
       "392. 'OG0029049'\n",
       "393. 'OG0030075'\n",
       "394. 'OG0030091'\n",
       "395. 'OG0030427'\n",
       "396. 'OG0030613'\n",
       "397. 'OG0031415'\n",
       "398. 'OG0031579'\n",
       "399. 'OG0032718'\n",
       "400. 'OG0033805'\n",
       "401. 'OG0034121'\n",
       "\n",
       "\n"
      ],
      "text/plain": [
       "  [1] \"OG0001008\" \"OG0001024\" \"OG0001147\" \"OG0001229\" \"OG0001398\" \"OG0001778\"\n",
       "  [7] \"OG0001961\" \"OG0001970\" \"OG0002130\" \"OG0002221\" \"OG0002428\" \"OG0002453\"\n",
       " [13] \"OG0002459\" \"OG0002467\" \"OG0002572\" \"OG0002591\" \"OG0002739\" \"OG0002739\"\n",
       " [19] \"OG0002754\" \"OG0002923\" \"OG0002955\" \"OG0003052\" \"OG0003068\" \"OG0003078\"\n",
       " [25] \"OG0003196\" \"OG0003215\" \"OG0003247\" \"OG0003399\" \"OG0003414\" \"OG0003456\"\n",
       " [31] \"OG0003491\" \"OG0003543\" \"OG0003567\" \"OG0003602\" \"OG0003834\" \"OG0003835\"\n",
       " [37] \"OG0003954\" \"OG0003962\" \"OG0004039\" \"OG0004040\" \"OG0004181\" \"OG0004222\"\n",
       " [43] \"OG0004230\" \"OG0004450\" \"OG0004472\" \"OG0004474\" \"OG0004524\" \"OG0004595\"\n",
       " [49] \"OG0004708\" \"OG0004851\" \"OG0004857\" \"OG0004861\" \"OG0004898\" \"OG0004909\"\n",
       " [55] \"OG0004965\" \"OG0005019\" \"OG0005062\" \"OG0005085\" \"OG0005101\" \"OG0005114\"\n",
       " [61] \"OG0005122\" \"OG0005126\" \"OG0005148\" \"OG0005178\" \"OG0005199\" \"OG0005225\"\n",
       " [67] \"OG0005265\" \"OG0005292\" \"OG0005294\" \"OG0005393\" \"OG0005399\" \"OG0005409\"\n",
       " [73] \"OG0005426\" \"OG0005494\" \"OG0005519\" \"OG0005524\" \"OG0005601\" \"OG0005629\"\n",
       " [79] \"OG0005638\" \"OG0005649\" \"OG0005753\" \"OG0005760\" \"OG0005788\" \"OG0005814\"\n",
       " [85] \"OG0005818\" \"OG0005823\" \"OG0005876\" \"OG0005886\" \"OG0005965\" \"OG0005999\"\n",
       " [91] \"OG0006037\" \"OG0006079\" \"OG0006198\" \"OG0006200\" \"OG0006204\" \"OG0006224\"\n",
       " [97] \"OG0006303\" \"OG0006323\" \"OG0006356\" \"OG0006450\" \"OG0006489\" \"OG0006530\"\n",
       "[103] \"OG0006557\" \"OG0006592\" \"OG0006606\" \"OG0006784\" \"OG0006860\" \"OG0006865\"\n",
       "[109] \"OG0006943\" \"OG0007055\" \"OG0007056\" \"OG0007076\" \"OG0007083\" \"OG0007098\"\n",
       "[115] \"OG0007119\" \"OG0007124\" \"OG0007167\" \"OG0007176\" \"OG0007281\" \"OG0007284\"\n",
       "[121] \"OG0007285\" \"OG0007378\" \"OG0007379\" \"OG0007517\" \"OG0007573\" \"OG0007633\"\n",
       "[127] \"OG0007640\" \"OG0007646\" \"OG0007686\" \"OG0007705\" \"OG0007757\" \"OG0007790\"\n",
       "[133] \"OG0007811\" \"OG0007884\" \"OG0007905\" \"OG0007923\" \"OG0007954\" \"OG0007992\"\n",
       "[139] \"OG0008023\" \"OG0008027\" \"OG0008032\" \"OG0008040\" \"OG0008093\" \"OG0008197\"\n",
       "[145] \"OG0008214\" \"OG0008230\" \"OG0008291\" \"OG0008291\" \"OG0008309\" \"OG0008338\"\n",
       "[151] \"OG0008339\" \"OG0008480\" \"OG0008539\" \"OG0008564\" \"OG0008711\" \"OG0008779\"\n",
       "[157] \"OG0008824\" \"OG0008831\" \"OG0008888\" \"OG0008928\" \"OG0009002\" \"OG0009044\"\n",
       "[163] \"OG0009111\" \"OG0009129\" \"OG0009239\" \"OG0009264\" \"OG0009376\" \"OG0009394\"\n",
       "[169] \"OG0009426\" \"OG0009442\" \"OG0009536\" \"OG0009573\" \"OG0009626\" \"OG0009709\"\n",
       "[175] \"OG0009740\" \"OG0009744\" \"OG0009874\" \"OG0009954\" \"OG0009960\" \"OG0009977\"\n",
       "[181] \"OG0009978\" \"OG0010000\" \"OG0010000\" \"OG0010001\" \"OG0010022\" \"OG0010023\"\n",
       "[187] \"OG0010025\" \"OG0010051\" \"OG0010118\" \"OG0010160\" \"OG0010191\" \"OG0010213\"\n",
       "[193] \"OG0010217\" \"OG0010218\" \"OG0010266\" \"OG0010293\" \"OG0010301\" \"OG0010303\"\n",
       "[199] \"OG0010384\" \"OG0010480\" \"OG0010503\" \"OG0010549\" \"OG0010618\" \"OG0010677\"\n",
       "[205] \"OG0010703\" \"OG0010740\" \"OG0010763\" \"OG0010773\" \"OG0010795\" \"OG0010954\"\n",
       "[211] \"OG0010988\" \"OG0011027\" \"OG0011030\" \"OG0011084\" \"OG0011114\" \"OG0011118\"\n",
       "[217] \"OG0011133\" \"OG0011144\" \"OG0011153\" \"OG0011224\" \"OG0011233\" \"OG0011271\"\n",
       "[223] \"OG0011289\" \"OG0011324\" \"OG0011359\" \"OG0011450\" \"OG0011497\" \"OG0011560\"\n",
       "[229] \"OG0011596\" \"OG0011609\" \"OG0011680\" \"OG0011719\" \"OG0011746\" \"OG0011766\"\n",
       "[235] \"OG0011857\" \"OG0011908\" \"OG0011922\" \"OG0011963\" \"OG0011968\" \"OG0012015\"\n",
       "[241] \"OG0012113\" \"OG0012138\" \"OG0012139\" \"OG0012186\" \"OG0012255\" \"OG0012293\"\n",
       "[247] \"OG0012342\" \"OG0012346\" \"OG0012347\" \"OG0012375\" \"OG0012389\" \"OG0012392\"\n",
       "[253] \"OG0012438\" \"OG0012445\" \"OG0012465\" \"OG0012473\" \"OG0012486\" \"OG0012514\"\n",
       "[259] \"OG0012555\" \"OG0012615\" \"OG0012680\" \"OG0012738\" \"OG0012808\" \"OG0012816\"\n",
       "[265] \"OG0012846\" \"OG0012940\" \"OG0012974\" \"OG0012986\" \"OG0013050\" \"OG0013130\"\n",
       "[271] \"OG0013153\" \"OG0013276\" \"OG0013278\" \"OG0013326\" \"OG0013447\" \"OG0013496\"\n",
       "[277] \"OG0013514\" \"OG0013518\" \"OG0013591\" \"OG0013620\" \"OG0013744\" \"OG0013808\"\n",
       "[283] \"OG0013869\" \"OG0013901\" \"OG0013948\" \"OG0013970\" \"OG0014033\" \"OG0014042\"\n",
       "[289] \"OG0014049\" \"OG0014079\" \"OG0014157\" \"OG0014273\" \"OG0014277\" \"OG0014282\"\n",
       "[295] \"OG0014286\" \"OG0014305\" \"OG0014313\" \"OG0014405\" \"OG0014439\" \"OG0014564\"\n",
       "[301] \"OG0014589\" \"OG0014640\" \"OG0014643\" \"OG0014705\" \"OG0014750\" \"OG0014833\"\n",
       "[307] \"OG0014847\" \"OG0014912\" \"OG0014937\" \"OG0014946\" \"OG0014948\" \"OG0014979\"\n",
       "[313] \"OG0015011\" \"OG0015057\" \"OG0015058\" \"OG0015150\" \"OG0015166\" \"OG0015179\"\n",
       "[319] \"OG0015249\" \"OG0015286\" \"OG0015286\" \"OG0015327\" \"OG0015340\" \"OG0015383\"\n",
       "[325] \"OG0015474\" \"OG0015475\" \"OG0015612\" \"OG0015651\" \"OG0015666\" \"OG0015809\"\n",
       "[331] \"OG0015813\" \"OG0015847\" \"OG0015883\" \"OG0015918\" \"OG0015921\" \"OG0015929\"\n",
       "[337] \"OG0015945\" \"OG0015949\" \"OG0016014\" \"OG0016046\" \"OG0016077\" \"OG0016120\"\n",
       "[343] \"OG0016182\" \"OG0016205\" \"OG0016263\" \"OG0016280\" \"OG0016281\" \"OG0016286\"\n",
       "[349] \"OG0016308\" \"OG0016390\" \"OG0016424\" \"OG0016453\" \"OG0016512\" \"OG0016515\"\n",
       "[355] \"OG0016564\" \"OG0016576\" \"OG0016634\" \"OG0016663\" \"OG0016667\" \"OG0016757\"\n",
       "[361] \"OG0016843\" \"OG0016871\" \"OG0016874\" \"OG0016879\" \"OG0016889\" \"OG0016940\"\n",
       "[367] \"OG0016999\" \"OG0017094\" \"OG0017124\" \"OG0017150\" \"OG0017161\" \"OG0017163\"\n",
       "[373] \"OG0017182\" \"OG0017193\" \"OG0017202\" \"OG0017204\" \"OG0017234\" \"OG0017306\"\n",
       "[379] \"OG0017319\" \"OG0017349\" \"OG0017407\" \"OG0017421\" \"OG0017443\" \"OG0017465\"\n",
       "[385] \"OG0017470\" \"OG0017472\" \"OG0017504\" \"OG0017515\" \"OG0017537\" \"OG0017538\"\n",
       "[391] \"OG0017565\" \"OG0017576\" \"OG0017577\" \"OG0017657\" \"OG0017661\" \"OG0017674\"\n",
       "[397] \"OG0017689\" \"OG0017714\" \"OG0017716\" \"OG0017822\" \"OG0017831\" \"OG0017831\"\n",
       "[403] \"OG0017835\" \"OG0017858\" \"OG0017895\" \"OG0017964\" \"OG0017967\" \"OG0017974\"\n",
       "[409] \"OG0017986\" \"OG0017987\" \"OG0017990\" \"OG0017992\" \"OG0018016\" \"OG0018020\"\n",
       "[415] \"OG0018075\" \"OG0018116\" \"OG0018118\" \"OG0018215\" \"OG0018247\" \"OG0018269\"\n",
       "[421] \"OG0018282\" \"OG0018295\" \"OG0018317\" \"OG0018329\" \"OG0018349\" \"OG0018399\"\n",
       "[427] \"OG0018581\" \"OG0018583\" \"OG0018588\" \"OG0018593\" \"OG0018662\" \"OG0018691\"\n",
       "[433] \"OG0018692\" \"OG0018700\" \"OG0018701\" \"OG0018740\" \"OG0018745\" \"OG0018768\"\n",
       "[439] \"OG0018888\" \"OG0018890\" \"OG0018894\" \"OG0018904\" \"OG0018917\" \"OG0018927\"\n",
       "[445] \"OG0018938\" \"OG0019021\" \"OG0019108\" \"OG0019118\" \"OG0019130\" \"OG0019180\"\n",
       "[451] \"OG0019304\" \"OG0019315\" \"OG0019341\" \"OG0019355\" \"OG0019391\" \"OG0019394\"\n",
       "[457] \"OG0019459\" \"OG0019464\" \"OG0019483\" \"OG0019530\" \"OG0019555\" \"OG0019578\"\n",
       "[463] \"OG0019578\" \"OG0019599\" \"OG0019619\" \"OG0019651\" \"OG0019678\" \"OG0019771\"\n",
       "[469] \"OG0019773\" \"OG0019786\" \"OG0019788\" \"OG0019790\" \"OG0019815\" \"OG0019820\"\n",
       "[475] \"OG0019822\" \"OG0019840\" \"OG0019928\" \"OG0019944\" \"OG0019952\" \"OG0020049\"\n",
       "[481] \"OG0020053\" \"OG0020054\" \"OG0020070\" \"OG0020073\" \"OG0020128\" \"OG0020174\"\n",
       "[487] \"OG0020196\" \"OG0020232\" \"OG0020266\" \"OG0020294\" \"OG0020332\" \"OG0020379\"\n",
       "[493] \"OG0020388\" \"OG0020397\" \"OG0020473\" \"OG0020481\" \"OG0020509\" \"OG0020532\"\n",
       "[499] \"OG0020545\" \"OG0020580\" \"OG0020618\" \"OG0020631\" \"OG0020741\" \"OG0020748\"\n",
       "[505] \"OG0020754\" \"OG0020756\" \"OG0020801\" \"OG0020801\" \"OG0020870\" \"OG0020873\"\n",
       "[511] \"OG0020896\" \"OG0020913\" \"OG0020922\" \"OG0020925\" \"OG0020944\" \"OG0021024\"\n",
       "[517] \"OG0021088\" \"OG0021183\" \"OG0021184\" \"OG0021191\" \"OG0021278\" \"OG0021354\"\n",
       "[523] \"OG0021355\" \"OG0021361\" \"OG0021493\" \"OG0021534\" \"OG0021556\" \"OG0021556\"\n",
       "[529] \"OG0021633\" \"OG0021786\" \"OG0021791\" \"OG0021791\" \"OG0021951\" \"OG0021951\"\n",
       "[535] \"OG0021958\" \"OG0021977\" \"OG0022042\" \"OG0022167\" \"OG0022172\" \"OG0022188\"\n",
       "[541] \"OG0022204\" \"OG0022223\" \"OG0022232\" \"OG0022388\" \"OG0022405\" \"OG0022459\"\n",
       "[547] \"OG0022464\" \"OG0022679\" \"OG0022682\" \"OG0022685\" \"OG0022747\" \"OG0022923\"\n",
       "[553] \"OG0022975\" \"OG0023010\" \"OG0023096\" \"OG0023108\" \"OG0023113\" \"OG0023115\"\n",
       "[559] \"OG0023344\" \"OG0023366\" \"OG0023400\" \"OG0023423\" \"OG0023430\" \"OG0023606\"\n",
       "[565] \"OG0023697\" \"OG0023766\" \"OG0023782\" \"OG0023813\" \"OG0023813\" \"OG0023824\"\n",
       "[571] \"OG0023859\" \"OG0023930\" \"OG0023953\" \"OG0024031\" \"OG0024154\" \"OG0024192\"\n",
       "[577] \"OG0024203\" \"OG0024228\" \"OG0024309\" \"OG0024420\" \"OG0024705\" \"OG0024709\"\n",
       "[583] \"OG0024786\" \"OG0025331\" \"OG0025352\" \"OG0025359\" \"OG0025443\" \"OG0025598\"\n",
       "[589] \"OG0025806\" \"OG0025862\" \"OG0025905\" \"OG0025910\" \"OG0025987\" \"OG0026028\"\n",
       "[595] \"OG0026058\" \"OG0026197\" \"OG0026588\" \"OG0026607\" \"OG0026642\" \"OG0026651\"\n",
       "[601] \"OG0026691\" \"OG0026775\" \"OG0026788\" \"OG0026932\" \"OG0027119\" \"OG0027754\"\n",
       "[607] \"OG0027800\" \"OG0028060\" \"OG0028533\" \"OG0028620\" \"OG0028641\" \"OG0028810\"\n",
       "[613] \"OG0028819\" \"OG0028839\" \"OG0028954\" \"OG0029049\" \"OG0030075\" \"OG0030091\"\n",
       "[619] \"OG0030427\" \"OG0030613\" \"OG0031415\" \"OG0031579\" \"OG0032718\" \"OG0033805\"\n",
       "[625] \"OG0034121\""
      ]
     },
     "metadata": {},
     "output_type": "display_data"
    },
    {
     "data": {
      "text/html": [
       "614"
      ],
      "text/latex": [
       "614"
      ],
      "text/markdown": [
       "614"
      ],
      "text/plain": [
       "[1] 614"
      ]
     },
     "metadata": {},
     "output_type": "display_data"
    }
   ],
   "source": [
    "badOGID\n",
    "length(unique(badOGID))"
   ]
  },
  {
   "cell_type": "code",
   "execution_count": 141,
   "id": "11fc33b6",
   "metadata": {},
   "outputs": [],
   "source": [
    "missingOG = read.table(\"/workdir/sh2246/p_phyloGWAS/output/missingOGs.txt\")[,1]"
   ]
  },
  {
   "cell_type": "code",
   "execution_count": 144,
   "id": "67656c24",
   "metadata": {},
   "outputs": [],
   "source": [
    "missingOG = gsub('_mafft.fa','',missingOG)"
   ]
  },
  {
   "cell_type": "code",
   "execution_count": 148,
   "id": "8bae3d54",
   "metadata": {},
   "outputs": [
    {
     "data": {
      "text/html": [
       "587"
      ],
      "text/latex": [
       "587"
      ],
      "text/markdown": [
       "587"
      ],
      "text/plain": [
       "[1] 587"
      ]
     },
     "metadata": {},
     "output_type": "display_data"
    }
   ],
   "source": [
    "length(intersect(missingOG,unique(badOGID)))"
   ]
  },
  {
   "cell_type": "code",
   "execution_count": 170,
   "id": "485ca529",
   "metadata": {},
   "outputs": [
    {
     "data": {
      "text/html": [
       "<style>\n",
       ".list-inline {list-style: none; margin:0; padding: 0}\n",
       ".list-inline>li {display: inline-block}\n",
       ".list-inline>li:not(:last-child)::after {content: \"\\00b7\"; padding: 0 .5ex}\n",
       "</style>\n",
       "<ol class=list-inline><li>'OG0003576'</li><li>'OG0004281'</li><li>'OG0004969'</li><li>'OG0005032'</li><li>'OG0005110'</li><li>'OG0006168'</li><li>'OG0006244'</li><li>'OG0006321'</li><li>'OG0006328'</li><li>'OG0006968'</li><li>'OG0007752'</li><li>'OG0007962'</li><li>'OG0008191'</li><li>'OG0008224'</li><li>'OG0008413'</li><li>'OG0009001'</li><li>'OG0009409'</li><li>'OG0009696'</li><li>'OG0009850'</li><li>'OG0009971'</li><li>'OG0010442'</li><li>'OG0010793'</li><li>'OG0011932'</li><li>'OG0012372'</li><li>'OG0012638'</li><li>'OG0012772'</li><li>'OG0013184'</li><li>'OG0013303'</li><li>'OG0013312'</li><li>'OG0013528'</li><li>'OG0014597'</li><li>'OG0015534'</li><li>'OG0015760'</li><li>'OG0016058'</li><li>'OG0017317'</li><li>'OG0017420'</li><li>'OG0017461'</li><li>'OG0017586'</li><li>'OG0017743'</li><li>'OG0018514'</li><li>'OG0018636'</li><li>'OG0018648'</li><li>'OG0018784'</li><li>'OG0018874'</li><li>'OG0019178'</li><li>'OG0019182'</li><li>'OG0019309'</li><li>'OG0019333'</li><li>'OG0019383'</li><li>'OG0019388'</li><li>'OG0019495'</li><li>'OG0019550'</li><li>'OG0019618'</li><li>'OG0019622'</li><li>'OG0019649'</li><li>'OG0019911'</li><li>'OG0019912'</li><li>'OG0019945'</li><li>'OG0020091'</li><li>'OG0020115'</li><li>'OG0020203'</li><li>'OG0020222'</li><li>'OG0020516'</li><li>'OG0020522'</li><li>'OG0020538'</li><li>'OG0020614'</li><li>'OG0020615'</li><li>'OG0020642'</li><li>'OG0020838'</li><li>'OG0020908'</li><li>'OG0020950'</li><li>'OG0020967'</li><li>'OG0021198'</li><li>'OG0021199'</li><li>'OG0021260'</li><li>'OG0021262'</li><li>'OG0021362'</li><li>'OG0021377'</li><li>'OG0021409'</li><li>'OG0021535'</li><li>'OG0021567'</li><li>'OG0021593'</li><li>'OG0021913'</li><li>'OG0021975'</li><li>'OG0022142'</li><li>'OG0022157'</li><li>'OG0022163'</li><li>'OG0022165'</li><li>'OG0022443'</li><li>'OG0022447'</li><li>'OG0022657'</li><li>'OG0022749'</li><li>'OG0022759'</li><li>'OG0022845'</li><li>'OG0022878'</li><li>'OG0022915'</li><li>'OG0022985'</li><li>'OG0023026'</li><li>'OG0023037'</li><li>'OG0023218'</li><li>'OG0023350'</li><li>'OG0023377'</li><li>'OG0023451'</li><li>'OG0023698'</li><li>'OG0023732'</li><li>'OG0023806'</li><li>'OG0023906'</li><li>'OG0024010'</li><li>'OG0024135'</li><li>'OG0024201'</li><li>'OG0024498'</li><li>'OG0024637'</li><li>'OG0024655'</li><li>'OG0024673'</li><li>'OG0024677'</li><li>'OG0024793'</li><li>'OG0025185'</li><li>'OG0025207'</li><li>'OG0025351'</li><li>'OG0025483'</li><li>'OG0025600'</li><li>'OG0025873'</li><li>'OG0026178'</li><li>'OG0026179'</li><li>'OG0026648'</li><li>'OG0026688'</li><li>'OG0027493'</li><li>'OG0027597'</li><li>'OG0027604'</li><li>'OG0028524'</li><li>'OG0028670'</li><li>'OG0028682'</li><li>'OG0028730'</li><li>'OG0029261'</li><li>'OG0029827'</li><li>'OG0029955'</li><li>'OG0030426'</li><li>'OG0030694'</li></ol>\n"
      ],
      "text/latex": [
       "\\begin{enumerate*}\n",
       "\\item 'OG0003576'\n",
       "\\item 'OG0004281'\n",
       "\\item 'OG0004969'\n",
       "\\item 'OG0005032'\n",
       "\\item 'OG0005110'\n",
       "\\item 'OG0006168'\n",
       "\\item 'OG0006244'\n",
       "\\item 'OG0006321'\n",
       "\\item 'OG0006328'\n",
       "\\item 'OG0006968'\n",
       "\\item 'OG0007752'\n",
       "\\item 'OG0007962'\n",
       "\\item 'OG0008191'\n",
       "\\item 'OG0008224'\n",
       "\\item 'OG0008413'\n",
       "\\item 'OG0009001'\n",
       "\\item 'OG0009409'\n",
       "\\item 'OG0009696'\n",
       "\\item 'OG0009850'\n",
       "\\item 'OG0009971'\n",
       "\\item 'OG0010442'\n",
       "\\item 'OG0010793'\n",
       "\\item 'OG0011932'\n",
       "\\item 'OG0012372'\n",
       "\\item 'OG0012638'\n",
       "\\item 'OG0012772'\n",
       "\\item 'OG0013184'\n",
       "\\item 'OG0013303'\n",
       "\\item 'OG0013312'\n",
       "\\item 'OG0013528'\n",
       "\\item 'OG0014597'\n",
       "\\item 'OG0015534'\n",
       "\\item 'OG0015760'\n",
       "\\item 'OG0016058'\n",
       "\\item 'OG0017317'\n",
       "\\item 'OG0017420'\n",
       "\\item 'OG0017461'\n",
       "\\item 'OG0017586'\n",
       "\\item 'OG0017743'\n",
       "\\item 'OG0018514'\n",
       "\\item 'OG0018636'\n",
       "\\item 'OG0018648'\n",
       "\\item 'OG0018784'\n",
       "\\item 'OG0018874'\n",
       "\\item 'OG0019178'\n",
       "\\item 'OG0019182'\n",
       "\\item 'OG0019309'\n",
       "\\item 'OG0019333'\n",
       "\\item 'OG0019383'\n",
       "\\item 'OG0019388'\n",
       "\\item 'OG0019495'\n",
       "\\item 'OG0019550'\n",
       "\\item 'OG0019618'\n",
       "\\item 'OG0019622'\n",
       "\\item 'OG0019649'\n",
       "\\item 'OG0019911'\n",
       "\\item 'OG0019912'\n",
       "\\item 'OG0019945'\n",
       "\\item 'OG0020091'\n",
       "\\item 'OG0020115'\n",
       "\\item 'OG0020203'\n",
       "\\item 'OG0020222'\n",
       "\\item 'OG0020516'\n",
       "\\item 'OG0020522'\n",
       "\\item 'OG0020538'\n",
       "\\item 'OG0020614'\n",
       "\\item 'OG0020615'\n",
       "\\item 'OG0020642'\n",
       "\\item 'OG0020838'\n",
       "\\item 'OG0020908'\n",
       "\\item 'OG0020950'\n",
       "\\item 'OG0020967'\n",
       "\\item 'OG0021198'\n",
       "\\item 'OG0021199'\n",
       "\\item 'OG0021260'\n",
       "\\item 'OG0021262'\n",
       "\\item 'OG0021362'\n",
       "\\item 'OG0021377'\n",
       "\\item 'OG0021409'\n",
       "\\item 'OG0021535'\n",
       "\\item 'OG0021567'\n",
       "\\item 'OG0021593'\n",
       "\\item 'OG0021913'\n",
       "\\item 'OG0021975'\n",
       "\\item 'OG0022142'\n",
       "\\item 'OG0022157'\n",
       "\\item 'OG0022163'\n",
       "\\item 'OG0022165'\n",
       "\\item 'OG0022443'\n",
       "\\item 'OG0022447'\n",
       "\\item 'OG0022657'\n",
       "\\item 'OG0022749'\n",
       "\\item 'OG0022759'\n",
       "\\item 'OG0022845'\n",
       "\\item 'OG0022878'\n",
       "\\item 'OG0022915'\n",
       "\\item 'OG0022985'\n",
       "\\item 'OG0023026'\n",
       "\\item 'OG0023037'\n",
       "\\item 'OG0023218'\n",
       "\\item 'OG0023350'\n",
       "\\item 'OG0023377'\n",
       "\\item 'OG0023451'\n",
       "\\item 'OG0023698'\n",
       "\\item 'OG0023732'\n",
       "\\item 'OG0023806'\n",
       "\\item 'OG0023906'\n",
       "\\item 'OG0024010'\n",
       "\\item 'OG0024135'\n",
       "\\item 'OG0024201'\n",
       "\\item 'OG0024498'\n",
       "\\item 'OG0024637'\n",
       "\\item 'OG0024655'\n",
       "\\item 'OG0024673'\n",
       "\\item 'OG0024677'\n",
       "\\item 'OG0024793'\n",
       "\\item 'OG0025185'\n",
       "\\item 'OG0025207'\n",
       "\\item 'OG0025351'\n",
       "\\item 'OG0025483'\n",
       "\\item 'OG0025600'\n",
       "\\item 'OG0025873'\n",
       "\\item 'OG0026178'\n",
       "\\item 'OG0026179'\n",
       "\\item 'OG0026648'\n",
       "\\item 'OG0026688'\n",
       "\\item 'OG0027493'\n",
       "\\item 'OG0027597'\n",
       "\\item 'OG0027604'\n",
       "\\item 'OG0028524'\n",
       "\\item 'OG0028670'\n",
       "\\item 'OG0028682'\n",
       "\\item 'OG0028730'\n",
       "\\item 'OG0029261'\n",
       "\\item 'OG0029827'\n",
       "\\item 'OG0029955'\n",
       "\\item 'OG0030426'\n",
       "\\item 'OG0030694'\n",
       "\\end{enumerate*}\n"
      ],
      "text/markdown": [
       "1. 'OG0003576'\n",
       "2. 'OG0004281'\n",
       "3. 'OG0004969'\n",
       "4. 'OG0005032'\n",
       "5. 'OG0005110'\n",
       "6. 'OG0006168'\n",
       "7. 'OG0006244'\n",
       "8. 'OG0006321'\n",
       "9. 'OG0006328'\n",
       "10. 'OG0006968'\n",
       "11. 'OG0007752'\n",
       "12. 'OG0007962'\n",
       "13. 'OG0008191'\n",
       "14. 'OG0008224'\n",
       "15. 'OG0008413'\n",
       "16. 'OG0009001'\n",
       "17. 'OG0009409'\n",
       "18. 'OG0009696'\n",
       "19. 'OG0009850'\n",
       "20. 'OG0009971'\n",
       "21. 'OG0010442'\n",
       "22. 'OG0010793'\n",
       "23. 'OG0011932'\n",
       "24. 'OG0012372'\n",
       "25. 'OG0012638'\n",
       "26. 'OG0012772'\n",
       "27. 'OG0013184'\n",
       "28. 'OG0013303'\n",
       "29. 'OG0013312'\n",
       "30. 'OG0013528'\n",
       "31. 'OG0014597'\n",
       "32. 'OG0015534'\n",
       "33. 'OG0015760'\n",
       "34. 'OG0016058'\n",
       "35. 'OG0017317'\n",
       "36. 'OG0017420'\n",
       "37. 'OG0017461'\n",
       "38. 'OG0017586'\n",
       "39. 'OG0017743'\n",
       "40. 'OG0018514'\n",
       "41. 'OG0018636'\n",
       "42. 'OG0018648'\n",
       "43. 'OG0018784'\n",
       "44. 'OG0018874'\n",
       "45. 'OG0019178'\n",
       "46. 'OG0019182'\n",
       "47. 'OG0019309'\n",
       "48. 'OG0019333'\n",
       "49. 'OG0019383'\n",
       "50. 'OG0019388'\n",
       "51. 'OG0019495'\n",
       "52. 'OG0019550'\n",
       "53. 'OG0019618'\n",
       "54. 'OG0019622'\n",
       "55. 'OG0019649'\n",
       "56. 'OG0019911'\n",
       "57. 'OG0019912'\n",
       "58. 'OG0019945'\n",
       "59. 'OG0020091'\n",
       "60. 'OG0020115'\n",
       "61. 'OG0020203'\n",
       "62. 'OG0020222'\n",
       "63. 'OG0020516'\n",
       "64. 'OG0020522'\n",
       "65. 'OG0020538'\n",
       "66. 'OG0020614'\n",
       "67. 'OG0020615'\n",
       "68. 'OG0020642'\n",
       "69. 'OG0020838'\n",
       "70. 'OG0020908'\n",
       "71. 'OG0020950'\n",
       "72. 'OG0020967'\n",
       "73. 'OG0021198'\n",
       "74. 'OG0021199'\n",
       "75. 'OG0021260'\n",
       "76. 'OG0021262'\n",
       "77. 'OG0021362'\n",
       "78. 'OG0021377'\n",
       "79. 'OG0021409'\n",
       "80. 'OG0021535'\n",
       "81. 'OG0021567'\n",
       "82. 'OG0021593'\n",
       "83. 'OG0021913'\n",
       "84. 'OG0021975'\n",
       "85. 'OG0022142'\n",
       "86. 'OG0022157'\n",
       "87. 'OG0022163'\n",
       "88. 'OG0022165'\n",
       "89. 'OG0022443'\n",
       "90. 'OG0022447'\n",
       "91. 'OG0022657'\n",
       "92. 'OG0022749'\n",
       "93. 'OG0022759'\n",
       "94. 'OG0022845'\n",
       "95. 'OG0022878'\n",
       "96. 'OG0022915'\n",
       "97. 'OG0022985'\n",
       "98. 'OG0023026'\n",
       "99. 'OG0023037'\n",
       "100. 'OG0023218'\n",
       "101. 'OG0023350'\n",
       "102. 'OG0023377'\n",
       "103. 'OG0023451'\n",
       "104. 'OG0023698'\n",
       "105. 'OG0023732'\n",
       "106. 'OG0023806'\n",
       "107. 'OG0023906'\n",
       "108. 'OG0024010'\n",
       "109. 'OG0024135'\n",
       "110. 'OG0024201'\n",
       "111. 'OG0024498'\n",
       "112. 'OG0024637'\n",
       "113. 'OG0024655'\n",
       "114. 'OG0024673'\n",
       "115. 'OG0024677'\n",
       "116. 'OG0024793'\n",
       "117. 'OG0025185'\n",
       "118. 'OG0025207'\n",
       "119. 'OG0025351'\n",
       "120. 'OG0025483'\n",
       "121. 'OG0025600'\n",
       "122. 'OG0025873'\n",
       "123. 'OG0026178'\n",
       "124. 'OG0026179'\n",
       "125. 'OG0026648'\n",
       "126. 'OG0026688'\n",
       "127. 'OG0027493'\n",
       "128. 'OG0027597'\n",
       "129. 'OG0027604'\n",
       "130. 'OG0028524'\n",
       "131. 'OG0028670'\n",
       "132. 'OG0028682'\n",
       "133. 'OG0028730'\n",
       "134. 'OG0029261'\n",
       "135. 'OG0029827'\n",
       "136. 'OG0029955'\n",
       "137. 'OG0030426'\n",
       "138. 'OG0030694'\n",
       "\n",
       "\n"
      ],
      "text/plain": [
       "  [1] \"OG0003576\" \"OG0004281\" \"OG0004969\" \"OG0005032\" \"OG0005110\" \"OG0006168\"\n",
       "  [7] \"OG0006244\" \"OG0006321\" \"OG0006328\" \"OG0006968\" \"OG0007752\" \"OG0007962\"\n",
       " [13] \"OG0008191\" \"OG0008224\" \"OG0008413\" \"OG0009001\" \"OG0009409\" \"OG0009696\"\n",
       " [19] \"OG0009850\" \"OG0009971\" \"OG0010442\" \"OG0010793\" \"OG0011932\" \"OG0012372\"\n",
       " [25] \"OG0012638\" \"OG0012772\" \"OG0013184\" \"OG0013303\" \"OG0013312\" \"OG0013528\"\n",
       " [31] \"OG0014597\" \"OG0015534\" \"OG0015760\" \"OG0016058\" \"OG0017317\" \"OG0017420\"\n",
       " [37] \"OG0017461\" \"OG0017586\" \"OG0017743\" \"OG0018514\" \"OG0018636\" \"OG0018648\"\n",
       " [43] \"OG0018784\" \"OG0018874\" \"OG0019178\" \"OG0019182\" \"OG0019309\" \"OG0019333\"\n",
       " [49] \"OG0019383\" \"OG0019388\" \"OG0019495\" \"OG0019550\" \"OG0019618\" \"OG0019622\"\n",
       " [55] \"OG0019649\" \"OG0019911\" \"OG0019912\" \"OG0019945\" \"OG0020091\" \"OG0020115\"\n",
       " [61] \"OG0020203\" \"OG0020222\" \"OG0020516\" \"OG0020522\" \"OG0020538\" \"OG0020614\"\n",
       " [67] \"OG0020615\" \"OG0020642\" \"OG0020838\" \"OG0020908\" \"OG0020950\" \"OG0020967\"\n",
       " [73] \"OG0021198\" \"OG0021199\" \"OG0021260\" \"OG0021262\" \"OG0021362\" \"OG0021377\"\n",
       " [79] \"OG0021409\" \"OG0021535\" \"OG0021567\" \"OG0021593\" \"OG0021913\" \"OG0021975\"\n",
       " [85] \"OG0022142\" \"OG0022157\" \"OG0022163\" \"OG0022165\" \"OG0022443\" \"OG0022447\"\n",
       " [91] \"OG0022657\" \"OG0022749\" \"OG0022759\" \"OG0022845\" \"OG0022878\" \"OG0022915\"\n",
       " [97] \"OG0022985\" \"OG0023026\" \"OG0023037\" \"OG0023218\" \"OG0023350\" \"OG0023377\"\n",
       "[103] \"OG0023451\" \"OG0023698\" \"OG0023732\" \"OG0023806\" \"OG0023906\" \"OG0024010\"\n",
       "[109] \"OG0024135\" \"OG0024201\" \"OG0024498\" \"OG0024637\" \"OG0024655\" \"OG0024673\"\n",
       "[115] \"OG0024677\" \"OG0024793\" \"OG0025185\" \"OG0025207\" \"OG0025351\" \"OG0025483\"\n",
       "[121] \"OG0025600\" \"OG0025873\" \"OG0026178\" \"OG0026179\" \"OG0026648\" \"OG0026688\"\n",
       "[127] \"OG0027493\" \"OG0027597\" \"OG0027604\" \"OG0028524\" \"OG0028670\" \"OG0028682\"\n",
       "[133] \"OG0028730\" \"OG0029261\" \"OG0029827\" \"OG0029955\" \"OG0030426\" \"OG0030694\""
      ]
     },
     "metadata": {},
     "output_type": "display_data"
    },
    {
     "data": {
      "text/html": [
       "138"
      ],
      "text/latex": [
       "138"
      ],
      "text/markdown": [
       "138"
      ],
      "text/plain": [
       "[1] 138"
      ]
     },
     "metadata": {},
     "output_type": "display_data"
    },
    {
     "data": {
      "text/html": [
       "<style>\n",
       ".list-inline {list-style: none; margin:0; padding: 0}\n",
       ".list-inline>li {display: inline-block}\n",
       ".list-inline>li:not(:last-child)::after {content: \"\\00b7\"; padding: 0 .5ex}\n",
       "</style>\n",
       "<ol class=list-inline><li>'OG0002923'</li><li>'OG0003399'</li><li>'OG0005101'</li><li>'OG0005122'</li><li>'OG0005876'</li><li>'OG0006079'</li><li>'OG0006450'</li><li>'OG0007284'</li><li>'OG0007379'</li><li>'OG0007757'</li><li>'OG0007811'</li><li>'OG0007992'</li><li>'OG0008023'</li><li>'OG0010000'</li><li>'OG0010023'</li><li>'OG0012465'</li><li>'OG0015058'</li><li>'OG0016453'</li><li>'OG0016634'</li><li>'OG0017895'</li><li>'OG0020196'</li><li>'OG0020397'</li><li>'OG0020509'</li><li>'OG0020618'</li><li>'OG0021183'</li><li>'OG0023096'</li><li>'OG0025331'</li></ol>\n"
      ],
      "text/latex": [
       "\\begin{enumerate*}\n",
       "\\item 'OG0002923'\n",
       "\\item 'OG0003399'\n",
       "\\item 'OG0005101'\n",
       "\\item 'OG0005122'\n",
       "\\item 'OG0005876'\n",
       "\\item 'OG0006079'\n",
       "\\item 'OG0006450'\n",
       "\\item 'OG0007284'\n",
       "\\item 'OG0007379'\n",
       "\\item 'OG0007757'\n",
       "\\item 'OG0007811'\n",
       "\\item 'OG0007992'\n",
       "\\item 'OG0008023'\n",
       "\\item 'OG0010000'\n",
       "\\item 'OG0010023'\n",
       "\\item 'OG0012465'\n",
       "\\item 'OG0015058'\n",
       "\\item 'OG0016453'\n",
       "\\item 'OG0016634'\n",
       "\\item 'OG0017895'\n",
       "\\item 'OG0020196'\n",
       "\\item 'OG0020397'\n",
       "\\item 'OG0020509'\n",
       "\\item 'OG0020618'\n",
       "\\item 'OG0021183'\n",
       "\\item 'OG0023096'\n",
       "\\item 'OG0025331'\n",
       "\\end{enumerate*}\n"
      ],
      "text/markdown": [
       "1. 'OG0002923'\n",
       "2. 'OG0003399'\n",
       "3. 'OG0005101'\n",
       "4. 'OG0005122'\n",
       "5. 'OG0005876'\n",
       "6. 'OG0006079'\n",
       "7. 'OG0006450'\n",
       "8. 'OG0007284'\n",
       "9. 'OG0007379'\n",
       "10. 'OG0007757'\n",
       "11. 'OG0007811'\n",
       "12. 'OG0007992'\n",
       "13. 'OG0008023'\n",
       "14. 'OG0010000'\n",
       "15. 'OG0010023'\n",
       "16. 'OG0012465'\n",
       "17. 'OG0015058'\n",
       "18. 'OG0016453'\n",
       "19. 'OG0016634'\n",
       "20. 'OG0017895'\n",
       "21. 'OG0020196'\n",
       "22. 'OG0020397'\n",
       "23. 'OG0020509'\n",
       "24. 'OG0020618'\n",
       "25. 'OG0021183'\n",
       "26. 'OG0023096'\n",
       "27. 'OG0025331'\n",
       "\n",
       "\n"
      ],
      "text/plain": [
       " [1] \"OG0002923\" \"OG0003399\" \"OG0005101\" \"OG0005122\" \"OG0005876\" \"OG0006079\"\n",
       " [7] \"OG0006450\" \"OG0007284\" \"OG0007379\" \"OG0007757\" \"OG0007811\" \"OG0007992\"\n",
       "[13] \"OG0008023\" \"OG0010000\" \"OG0010023\" \"OG0012465\" \"OG0015058\" \"OG0016453\"\n",
       "[19] \"OG0016634\" \"OG0017895\" \"OG0020196\" \"OG0020397\" \"OG0020509\" \"OG0020618\"\n",
       "[25] \"OG0021183\" \"OG0023096\" \"OG0025331\""
      ]
     },
     "metadata": {},
     "output_type": "display_data"
    },
    {
     "data": {
      "text/html": [
       "27"
      ],
      "text/latex": [
       "27"
      ],
      "text/markdown": [
       "27"
      ],
      "text/plain": [
       "[1] 27"
      ]
     },
     "metadata": {},
     "output_type": "display_data"
    }
   ],
   "source": [
    "sort(setdiff(missingOG,unique(badOGID)))\n",
    "length(sort(setdiff(missingOG,unique(badOGID))))\n",
    "setdiff(unique(badOGID),missingOG)\n",
    "length(setdiff(unique(badOGID),missingOG))"
   ]
  },
  {
   "cell_type": "code",
   "execution_count": 168,
   "id": "28d43ab4",
   "metadata": {},
   "outputs": [],
   "source": [
    "write.table(paste0(sort(setdiff(missingOG,unique(badOGID))),\"_mafft.fa\"),\n",
    "            \"/workdir/sh2246/p_phyloGWAS/output/testMissingOGs.txt\",quote = F,col.names = F,row.names = F)"
   ]
  },
  {
   "cell_type": "code",
   "execution_count": 166,
   "id": "47bf8391",
   "metadata": {},
   "outputs": [
    {
     "data": {
      "text/html": [
       "<strong>MP001491:</strong> 1995"
      ],
      "text/latex": [
       "\\textbf{MP001491:} 1995"
      ],
      "text/markdown": [
       "**MP001491:** 1995"
      ],
      "text/plain": [
       "MP001491 \n",
       "    1995 "
      ]
     },
     "metadata": {},
     "output_type": "display_data"
    }
   ],
   "source": [
    "tapply((abs(gff.mrna_original$start-gff.mrna_original$end)+1),as.character(gff.mrna_original$Parent),sum)['MP001491']"
   ]
  },
  {
   "cell_type": "code",
   "execution_count": 160,
   "id": "ead4ce6e",
   "metadata": {},
   "outputs": [
    {
     "data": {
      "text/plain": [
       "DataFrame with 16 rows and 18 columns\n",
       "         seqid   source     type     start       end     score      strand\n",
       "      <factor> <factor> <factor> <integer> <integer> <numeric> <character>\n",
       "1   CM033319.1 miniprot      CDS  86605383  86605538       109           +\n",
       "2   CM033319.1 miniprot      CDS  86605635  86605728        74           +\n",
       "3   CM033319.1 miniprot      CDS  86605847  86605902        65           +\n",
       "4   CM033319.1 miniprot      CDS  86605990  86606520       422           +\n",
       "5   CM033319.1 miniprot      CDS  86606914  86607468       747           +\n",
       "...        ...      ...      ...       ...       ...       ...         ...\n",
       "12  CM033321.1 miniprot      CDS  90541104  90541578       402           -\n",
       "13  CM033321.1 miniprot      CDS  90540215  90540790       773           -\n",
       "14  CM033321.1 miniprot      CDS  90539899  90540111       360           -\n",
       "15  CM033321.1 miniprot      CDS  90539537  90539683       215           -\n",
       "16  CM033321.1 miniprot      CDS  90538880  90539116       141           -\n",
       "        phase          ID        Rank    Identity    Positive            Target\n",
       "    <integer> <character> <character> <character> <character>       <character>\n",
       "1           0          NA           1      0.5179          NA    OG0003399 1 55\n",
       "2           0          NA           1      0.5312          NA   OG0003399 56 85\n",
       "3           2          NA           1      0.6111          NA  OG0003399 86 104\n",
       "4           0          NA           1      0.5198          NA OG0003399 105 249\n",
       "5           0          NA           1      0.7592          NA OG0003399 250 437\n",
       "...       ...         ...         ...         ...         ...               ...\n",
       "12          0          NA           2      0.5714          NA OG0003399 105 249\n",
       "13          0          NA           2      0.7708          NA OG0003399 250 437\n",
       "14          0          NA           2      0.9296          NA OG0003399 438 508\n",
       "15          0          NA           2      0.7959          NA OG0003399 509 557\n",
       "16          0          NA           2      0.4744          NA OG0003399 558 623\n",
       "             Parent    Acceptor  Frameshift   StopCodon       Donor\n",
       "    <CharacterList> <character> <character> <character> <character>\n",
       "1          MP001491          NA          NA          NA          NA\n",
       "2          MP001491          NA          NA          NA          NA\n",
       "3          MP001491          NA          NA          NA          NA\n",
       "4          MP001491          NA          NA          NA          NA\n",
       "5          MP001491          NA          NA          NA          NA\n",
       "...             ...         ...         ...         ...         ...\n",
       "12         MP001492          NA           2          NA          NA\n",
       "13         MP001492          NA          NA          NA          NA\n",
       "14         MP001492          NA          NA          NA          NA\n",
       "15         MP001492          NA          NA          NA          NA\n",
       "16         MP001492          NA          NA          NA          NA"
      ]
     },
     "metadata": {},
     "output_type": "display_data"
    }
   ],
   "source": [
    "gff.mrna_original[strsplit2(as.character(gff.mrna_original$Target),\" \")[,1]%in%\"OG0003399\",]"
   ]
  },
  {
   "cell_type": "code",
   "execution_count": 99,
   "id": "806d9c77",
   "metadata": {},
   "outputs": [
    {
     "data": {
      "text/html": [
       "1005"
      ],
      "text/latex": [
       "1005"
      ],
      "text/markdown": [
       "1005"
      ],
      "text/plain": [
       "[1] 1005"
      ]
     },
     "metadata": {},
     "output_type": "display_data"
    }
   ],
   "source": [
    "sum(as.numeric(gff.mrna_original$Frameshift),na.rm = T)"
   ]
  },
  {
   "cell_type": "code",
   "execution_count": 158,
   "id": "dfabcd93",
   "metadata": {},
   "outputs": [
    {
     "data": {
      "text/html": [
       "475"
      ],
      "text/latex": [
       "475"
      ],
      "text/markdown": [
       "475"
      ],
      "text/plain": [
       "[1] 475"
      ]
     },
     "metadata": {},
     "output_type": "display_data"
    }
   ],
   "source": [
    "578-104+1"
   ]
  }
 ],
 "metadata": {
  "kernelspec": {
   "display_name": "R",
   "language": "R",
   "name": "ir"
  },
  "language_info": {
   "codemirror_mode": "r",
   "file_extension": ".r",
   "mimetype": "text/x-r-source",
   "name": "R",
   "pygments_lexer": "r",
   "version": "4.2.2"
  }
 },
 "nbformat": 4,
 "nbformat_minor": 5
}
